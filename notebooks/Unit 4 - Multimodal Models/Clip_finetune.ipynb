{
  "cells": [
    {
      "cell_type": "markdown",
      "metadata": {
        "id": "view-in-github",
        "colab_type": "text"
      },
      "source": [
        "<a href=\"https://colab.research.google.com/github/elfsu/helper/blob/master/notebooks/Unit%204%20-%20Multimodal%20Models/Clip_finetune.ipynb\" target=\"_parent\"><img src=\"https://colab.research.google.com/assets/colab-badge.svg\" alt=\"Open In Colab\"/></a>"
      ]
    },
    {
      "cell_type": "markdown",
      "id": "bf4ba8f5-ab09-434c-8165-15d766c2654e",
      "metadata": {
        "id": "bf4ba8f5-ab09-434c-8165-15d766c2654e"
      },
      "source": [
        "# CLIP transfer learning\n",
        "---\n",
        "## Introduction"
      ]
    },
    {
      "cell_type": "markdown",
      "id": "9206554a-f418-437f-9ca8-3b7a5852b0c5",
      "metadata": {
        "id": "9206554a-f418-437f-9ca8-3b7a5852b0c5"
      },
      "source": [
        "In this notebook we will look at how to fine-tune CLIP models for the [Oxford-pets](https://huggingface.co/datasets/pcuenq/oxford-pets) dataset.\n",
        "\n",
        "[CLIP](https://arxiv.org/abs/2103.00020), or Contrastive Language-Image Pre-training, is a multimodal model that combines language and vision to extract features from text and images. The resulting features are then projected into a common Euclidean space, allowing for meaningful comparisons between text and image features using the dot product.\n",
        "\n",
        "Normally, CLIP operates in zero-shot prediction mode or functions as a feature extractor. Consequently, fine-tuning CLIP diverges from the usual process, as seen in tasks like fine-tuning ResNet for classification. In our scenario, the model must acquire the most valuable features from both the input text and image data.\n",
        "\n",
        "Evaluating the quality of the features extracted remains an ongoing area of active research. One method employed for this assessment involves utilizing the extracted features to address the classification problem, either through the application of a [linear classifier probe](https://h2o.ai/wiki/probing-classifiers/) or adopting a zero-shot approach.\n",
        "\n",
        "---\n",
        "\n",
        "Let's start with importing necessary functions, libraries and environmental variables."
      ]
    },
    {
      "cell_type": "code",
      "source": [
        "!pip install evaluate\n",
        "!pip install datasets"
      ],
      "metadata": {
        "id": "2VLTCEoyjHK4",
        "outputId": "18617cb7-d08c-4881-9d5f-958e9e95a701",
        "colab": {
          "base_uri": "https://localhost:8080/"
        }
      },
      "id": "2VLTCEoyjHK4",
      "execution_count": 1,
      "outputs": [
        {
          "output_type": "stream",
          "name": "stdout",
          "text": [
            "Collecting evaluate\n",
            "  Downloading evaluate-0.4.3-py3-none-any.whl.metadata (9.2 kB)\n",
            "Collecting datasets>=2.0.0 (from evaluate)\n",
            "  Downloading datasets-3.3.1-py3-none-any.whl.metadata (19 kB)\n",
            "Requirement already satisfied: numpy>=1.17 in /usr/local/lib/python3.11/dist-packages (from evaluate) (1.26.4)\n",
            "Collecting dill (from evaluate)\n",
            "  Downloading dill-0.3.9-py3-none-any.whl.metadata (10 kB)\n",
            "Requirement already satisfied: pandas in /usr/local/lib/python3.11/dist-packages (from evaluate) (2.2.2)\n",
            "Requirement already satisfied: requests>=2.19.0 in /usr/local/lib/python3.11/dist-packages (from evaluate) (2.32.3)\n",
            "Requirement already satisfied: tqdm>=4.62.1 in /usr/local/lib/python3.11/dist-packages (from evaluate) (4.67.1)\n",
            "Collecting xxhash (from evaluate)\n",
            "  Downloading xxhash-3.5.0-cp311-cp311-manylinux_2_17_x86_64.manylinux2014_x86_64.whl.metadata (12 kB)\n",
            "Collecting multiprocess (from evaluate)\n",
            "  Downloading multiprocess-0.70.17-py311-none-any.whl.metadata (7.2 kB)\n",
            "Requirement already satisfied: fsspec>=2021.05.0 in /usr/local/lib/python3.11/dist-packages (from fsspec[http]>=2021.05.0->evaluate) (2024.10.0)\n",
            "Requirement already satisfied: huggingface-hub>=0.7.0 in /usr/local/lib/python3.11/dist-packages (from evaluate) (0.28.1)\n",
            "Requirement already satisfied: packaging in /usr/local/lib/python3.11/dist-packages (from evaluate) (24.2)\n",
            "Requirement already satisfied: filelock in /usr/local/lib/python3.11/dist-packages (from datasets>=2.0.0->evaluate) (3.17.0)\n",
            "Requirement already satisfied: pyarrow>=15.0.0 in /usr/local/lib/python3.11/dist-packages (from datasets>=2.0.0->evaluate) (17.0.0)\n",
            "Collecting dill (from evaluate)\n",
            "  Downloading dill-0.3.8-py3-none-any.whl.metadata (10 kB)\n",
            "Collecting multiprocess (from evaluate)\n",
            "  Downloading multiprocess-0.70.16-py311-none-any.whl.metadata (7.2 kB)\n",
            "Requirement already satisfied: aiohttp in /usr/local/lib/python3.11/dist-packages (from datasets>=2.0.0->evaluate) (3.11.12)\n",
            "Requirement already satisfied: pyyaml>=5.1 in /usr/local/lib/python3.11/dist-packages (from datasets>=2.0.0->evaluate) (6.0.2)\n",
            "Requirement already satisfied: typing-extensions>=3.7.4.3 in /usr/local/lib/python3.11/dist-packages (from huggingface-hub>=0.7.0->evaluate) (4.12.2)\n",
            "Requirement already satisfied: charset-normalizer<4,>=2 in /usr/local/lib/python3.11/dist-packages (from requests>=2.19.0->evaluate) (3.4.1)\n",
            "Requirement already satisfied: idna<4,>=2.5 in /usr/local/lib/python3.11/dist-packages (from requests>=2.19.0->evaluate) (3.10)\n",
            "Requirement already satisfied: urllib3<3,>=1.21.1 in /usr/local/lib/python3.11/dist-packages (from requests>=2.19.0->evaluate) (2.3.0)\n",
            "Requirement already satisfied: certifi>=2017.4.17 in /usr/local/lib/python3.11/dist-packages (from requests>=2.19.0->evaluate) (2025.1.31)\n",
            "Requirement already satisfied: python-dateutil>=2.8.2 in /usr/local/lib/python3.11/dist-packages (from pandas->evaluate) (2.8.2)\n",
            "Requirement already satisfied: pytz>=2020.1 in /usr/local/lib/python3.11/dist-packages (from pandas->evaluate) (2025.1)\n",
            "Requirement already satisfied: tzdata>=2022.7 in /usr/local/lib/python3.11/dist-packages (from pandas->evaluate) (2025.1)\n",
            "Requirement already satisfied: aiohappyeyeballs>=2.3.0 in /usr/local/lib/python3.11/dist-packages (from aiohttp->datasets>=2.0.0->evaluate) (2.4.6)\n",
            "Requirement already satisfied: aiosignal>=1.1.2 in /usr/local/lib/python3.11/dist-packages (from aiohttp->datasets>=2.0.0->evaluate) (1.3.2)\n",
            "Requirement already satisfied: attrs>=17.3.0 in /usr/local/lib/python3.11/dist-packages (from aiohttp->datasets>=2.0.0->evaluate) (25.1.0)\n",
            "Requirement already satisfied: frozenlist>=1.1.1 in /usr/local/lib/python3.11/dist-packages (from aiohttp->datasets>=2.0.0->evaluate) (1.5.0)\n",
            "Requirement already satisfied: multidict<7.0,>=4.5 in /usr/local/lib/python3.11/dist-packages (from aiohttp->datasets>=2.0.0->evaluate) (6.1.0)\n",
            "Requirement already satisfied: propcache>=0.2.0 in /usr/local/lib/python3.11/dist-packages (from aiohttp->datasets>=2.0.0->evaluate) (0.2.1)\n",
            "Requirement already satisfied: yarl<2.0,>=1.17.0 in /usr/local/lib/python3.11/dist-packages (from aiohttp->datasets>=2.0.0->evaluate) (1.18.3)\n",
            "Requirement already satisfied: six>=1.5 in /usr/local/lib/python3.11/dist-packages (from python-dateutil>=2.8.2->pandas->evaluate) (1.17.0)\n",
            "Downloading evaluate-0.4.3-py3-none-any.whl (84 kB)\n",
            "\u001b[2K   \u001b[90m━━━━━━━━━━━━━━━━━━━━━━━━━━━━━━━━━━━━━━━━\u001b[0m \u001b[32m84.0/84.0 kB\u001b[0m \u001b[31m7.5 MB/s\u001b[0m eta \u001b[36m0:00:00\u001b[0m\n",
            "\u001b[?25hDownloading datasets-3.3.1-py3-none-any.whl (484 kB)\n",
            "\u001b[2K   \u001b[90m━━━━━━━━━━━━━━━━━━━━━━━━━━━━━━━━━━━━━━━━\u001b[0m \u001b[32m484.9/484.9 kB\u001b[0m \u001b[31m22.2 MB/s\u001b[0m eta \u001b[36m0:00:00\u001b[0m\n",
            "\u001b[?25hDownloading dill-0.3.8-py3-none-any.whl (116 kB)\n",
            "\u001b[2K   \u001b[90m━━━━━━━━━━━━━━━━━━━━━━━━━━━━━━━━━━━━━━━━\u001b[0m \u001b[32m116.3/116.3 kB\u001b[0m \u001b[31m10.7 MB/s\u001b[0m eta \u001b[36m0:00:00\u001b[0m\n",
            "\u001b[?25hDownloading multiprocess-0.70.16-py311-none-any.whl (143 kB)\n",
            "\u001b[2K   \u001b[90m━━━━━━━━━━━━━━━━━━━━━━━━━━━━━━━━━━━━━━━━\u001b[0m \u001b[32m143.5/143.5 kB\u001b[0m \u001b[31m15.1 MB/s\u001b[0m eta \u001b[36m0:00:00\u001b[0m\n",
            "\u001b[?25hDownloading xxhash-3.5.0-cp311-cp311-manylinux_2_17_x86_64.manylinux2014_x86_64.whl (194 kB)\n",
            "\u001b[2K   \u001b[90m━━━━━━━━━━━━━━━━━━━━━━━━━━━━━━━━━━━━━━━━\u001b[0m \u001b[32m194.8/194.8 kB\u001b[0m \u001b[31m11.1 MB/s\u001b[0m eta \u001b[36m0:00:00\u001b[0m\n",
            "\u001b[?25hInstalling collected packages: xxhash, dill, multiprocess, datasets, evaluate\n",
            "Successfully installed datasets-3.3.1 dill-0.3.8 evaluate-0.4.3 multiprocess-0.70.16 xxhash-3.5.0\n",
            "Requirement already satisfied: datasets in /usr/local/lib/python3.11/dist-packages (3.3.1)\n",
            "Requirement already satisfied: filelock in /usr/local/lib/python3.11/dist-packages (from datasets) (3.17.0)\n",
            "Requirement already satisfied: numpy>=1.17 in /usr/local/lib/python3.11/dist-packages (from datasets) (1.26.4)\n",
            "Requirement already satisfied: pyarrow>=15.0.0 in /usr/local/lib/python3.11/dist-packages (from datasets) (17.0.0)\n",
            "Requirement already satisfied: dill<0.3.9,>=0.3.0 in /usr/local/lib/python3.11/dist-packages (from datasets) (0.3.8)\n",
            "Requirement already satisfied: pandas in /usr/local/lib/python3.11/dist-packages (from datasets) (2.2.2)\n",
            "Requirement already satisfied: requests>=2.32.2 in /usr/local/lib/python3.11/dist-packages (from datasets) (2.32.3)\n",
            "Requirement already satisfied: tqdm>=4.66.3 in /usr/local/lib/python3.11/dist-packages (from datasets) (4.67.1)\n",
            "Requirement already satisfied: xxhash in /usr/local/lib/python3.11/dist-packages (from datasets) (3.5.0)\n",
            "Requirement already satisfied: multiprocess<0.70.17 in /usr/local/lib/python3.11/dist-packages (from datasets) (0.70.16)\n",
            "Requirement already satisfied: fsspec<=2024.12.0,>=2023.1.0 in /usr/local/lib/python3.11/dist-packages (from fsspec[http]<=2024.12.0,>=2023.1.0->datasets) (2024.10.0)\n",
            "Requirement already satisfied: aiohttp in /usr/local/lib/python3.11/dist-packages (from datasets) (3.11.12)\n",
            "Requirement already satisfied: huggingface-hub>=0.24.0 in /usr/local/lib/python3.11/dist-packages (from datasets) (0.28.1)\n",
            "Requirement already satisfied: packaging in /usr/local/lib/python3.11/dist-packages (from datasets) (24.2)\n",
            "Requirement already satisfied: pyyaml>=5.1 in /usr/local/lib/python3.11/dist-packages (from datasets) (6.0.2)\n",
            "Requirement already satisfied: aiohappyeyeballs>=2.3.0 in /usr/local/lib/python3.11/dist-packages (from aiohttp->datasets) (2.4.6)\n",
            "Requirement already satisfied: aiosignal>=1.1.2 in /usr/local/lib/python3.11/dist-packages (from aiohttp->datasets) (1.3.2)\n",
            "Requirement already satisfied: attrs>=17.3.0 in /usr/local/lib/python3.11/dist-packages (from aiohttp->datasets) (25.1.0)\n",
            "Requirement already satisfied: frozenlist>=1.1.1 in /usr/local/lib/python3.11/dist-packages (from aiohttp->datasets) (1.5.0)\n",
            "Requirement already satisfied: multidict<7.0,>=4.5 in /usr/local/lib/python3.11/dist-packages (from aiohttp->datasets) (6.1.0)\n",
            "Requirement already satisfied: propcache>=0.2.0 in /usr/local/lib/python3.11/dist-packages (from aiohttp->datasets) (0.2.1)\n",
            "Requirement already satisfied: yarl<2.0,>=1.17.0 in /usr/local/lib/python3.11/dist-packages (from aiohttp->datasets) (1.18.3)\n",
            "Requirement already satisfied: typing-extensions>=3.7.4.3 in /usr/local/lib/python3.11/dist-packages (from huggingface-hub>=0.24.0->datasets) (4.12.2)\n",
            "Requirement already satisfied: charset-normalizer<4,>=2 in /usr/local/lib/python3.11/dist-packages (from requests>=2.32.2->datasets) (3.4.1)\n",
            "Requirement already satisfied: idna<4,>=2.5 in /usr/local/lib/python3.11/dist-packages (from requests>=2.32.2->datasets) (3.10)\n",
            "Requirement already satisfied: urllib3<3,>=1.21.1 in /usr/local/lib/python3.11/dist-packages (from requests>=2.32.2->datasets) (2.3.0)\n",
            "Requirement already satisfied: certifi>=2017.4.17 in /usr/local/lib/python3.11/dist-packages (from requests>=2.32.2->datasets) (2025.1.31)\n",
            "Requirement already satisfied: python-dateutil>=2.8.2 in /usr/local/lib/python3.11/dist-packages (from pandas->datasets) (2.8.2)\n",
            "Requirement already satisfied: pytz>=2020.1 in /usr/local/lib/python3.11/dist-packages (from pandas->datasets) (2025.1)\n",
            "Requirement already satisfied: tzdata>=2022.7 in /usr/local/lib/python3.11/dist-packages (from pandas->datasets) (2025.1)\n",
            "Requirement already satisfied: six>=1.5 in /usr/local/lib/python3.11/dist-packages (from python-dateutil>=2.8.2->pandas->datasets) (1.17.0)\n"
          ]
        }
      ]
    },
    {
      "cell_type": "code",
      "execution_count": 36,
      "id": "49753ed9-8db5-46a5-81fe-c72fb6448bcc",
      "metadata": {
        "id": "49753ed9-8db5-46a5-81fe-c72fb6448bcc"
      },
      "outputs": [],
      "source": [
        "import os\n",
        "import random\n",
        "from functools import partial\n",
        "from typing import Any\n",
        "import evaluate\n",
        "import matplotlib.pyplot as plt\n",
        "import numpy as np\n",
        "import torch\n",
        "import torch.nn as nn\n",
        "from datasets import Dataset, DatasetDict, load_dataset, Image\n",
        "from peft import LoraConfig, get_peft_model\n",
        "from PIL import Image\n",
        "from torch.utils.data import DataLoader\n",
        "from tqdm.notebook import tqdm\n",
        "from transformers import (CLIPImageProcessor, CLIPModel, CLIPProcessor,\n",
        "                          CLIPTokenizerFast, Trainer, TrainingArguments)\n",
        "from transformers.tokenization_utils_base import BatchEncoding\n",
        "from datasets.formatting.formatting import LazyBatch"
      ]
    },
    {
      "cell_type": "code",
      "execution_count": 37,
      "id": "5fddf114-a640-44c8-a9c1-b11341c8b3fd",
      "metadata": {
        "id": "5fddf114-a640-44c8-a9c1-b11341c8b3fd"
      },
      "outputs": [],
      "source": [
        "os.environ[\"CURL_CA_BUNDLE\"] = \"\"\n",
        "os.environ[\"TOKENIZERS_PARALLELISM\"] = \"false\"\n",
        "\n",
        "def seed_all(seed: int):\n",
        "    random.seed(seed)\n",
        "    torch.manual_seed(seed)\n",
        "    np.random.seed(seed)\n",
        "\n",
        "seed_all(69)"
      ]
    },
    {
      "cell_type": "markdown",
      "id": "9d8eee91-69ac-44f1-b867-09da69a64a86",
      "metadata": {
        "id": "9d8eee91-69ac-44f1-b867-09da69a64a86"
      },
      "source": [
        "### Exploratory Data Analysis on the Dataset"
      ]
    },
    {
      "cell_type": "markdown",
      "id": "1c424484-bb31-4848-9409-8f24cacb289e",
      "metadata": {
        "id": "1c424484-bb31-4848-9409-8f24cacb289e"
      },
      "source": [
        "We'll utilize the [🤗datasets](https://huggingface.co/docs/datasets/index) library to load the [Oxford-pets](https://huggingface.co/datasets/pcuenq/oxford-pets) dataset, comprising 37 pet categories (primarily dogs and cats) with a total of 7,390 images.\n",
        "\n",
        "Since the dataset exclusively consists of the training portion, we'll proceed to partition it into training, validation, and test sets."
      ]
    },
    {
      "cell_type": "code",
      "execution_count": 38,
      "id": "ce3cd09d-2fc9-45d3-aa1e-1c80fc6681af",
      "metadata": {
        "id": "ce3cd09d-2fc9-45d3-aa1e-1c80fc6681af"
      },
      "outputs": [],
      "source": [
        "dataset = load_dataset(\"pcuenq/oxford-pets\")\n",
        "dataset_train_val = dataset['train'].train_test_split(test_size=0.3)\n",
        "dataset_val_test = dataset_train_val['test'].train_test_split(test_size=0.2)\n",
        "\n",
        "dataset = DatasetDict(\n",
        "    {\n",
        "        \"train\": dataset_train_val['train'],\n",
        "        \"val\": dataset_val_test['test'],\n",
        "        \"test\": dataset_val_test['train']\n",
        "    }\n",
        ")"
      ]
    },
    {
      "cell_type": "code",
      "execution_count": 39,
      "id": "af81bbc1-f17f-450d-9ae0-f8a57680eb1c",
      "metadata": {
        "id": "af81bbc1-f17f-450d-9ae0-f8a57680eb1c",
        "outputId": "c66fd415-3592-41c4-eaeb-b8cef4fc6552",
        "colab": {
          "base_uri": "https://localhost:8080/"
        }
      },
      "outputs": [
        {
          "output_type": "execute_result",
          "data": {
            "text/plain": [
              "DatasetDict({\n",
              "    train: Dataset({\n",
              "        features: ['path', 'label', 'dog', 'image'],\n",
              "        num_rows: 5173\n",
              "    })\n",
              "    val: Dataset({\n",
              "        features: ['path', 'label', 'dog', 'image'],\n",
              "        num_rows: 444\n",
              "    })\n",
              "    test: Dataset({\n",
              "        features: ['path', 'label', 'dog', 'image'],\n",
              "        num_rows: 1773\n",
              "    })\n",
              "})"
            ]
          },
          "metadata": {},
          "execution_count": 39
        }
      ],
      "source": [
        "dataset"
      ]
    },
    {
      "cell_type": "markdown",
      "id": "52544e43-a02b-416f-94e5-3221f4d23a41",
      "metadata": {
        "id": "52544e43-a02b-416f-94e5-3221f4d23a41"
      },
      "source": [
        "An individual item in the dataset consists of the following attributes:\n",
        "\n",
        "- **path**: A string representing the image file path.\n",
        "- **label**: A string denoting the pet category.\n",
        "- **dog**: A boolean value; True if the image features a dog.\n",
        "- **image**: A PIL image representing the dataset image.\n",
        "\n",
        "However, for our purposes, we will exclusively utilize the **label** and **image** columns."
      ]
    },
    {
      "cell_type": "code",
      "execution_count": 42,
      "id": "dd3c8fd1-d217-4ede-a3b0-64f627f30878",
      "metadata": {
        "id": "dd3c8fd1-d217-4ede-a3b0-64f627f30878",
        "outputId": "f28ddf59-d212-49fb-b812-bdeb2cf0a0f0",
        "colab": {
          "base_uri": "https://localhost:8080/"
        }
      },
      "outputs": [
        {
          "output_type": "execute_result",
          "data": {
            "text/plain": [
              "{'path': '/data/datasets/magic-ml/oxford-iiit-pet/images/saint_bernard_19.jpg',\n",
              " 'label': 'saint bernard',\n",
              " 'dog': True,\n",
              " 'image': {'bytes': b'\\xff\\xd8\\xff\\xe0\\x00\\x10JFIF\\x00\\x01\\x01\\x00\\x00\\x01\\x00\\x01\\x00\\x00\\xff\\xdb\\x00C\\x00\\x08\\x06\\x06\\x07\\x06\\x05\\x08\\x07\\x07\\x07\\t\\t\\x08\\n\\x0c\\x14\\r\\x0c\\x0b\\x0b\\x0c\\x19\\x12\\x13\\x0f\\x14\\x1d\\x1a\\x1f\\x1e\\x1d\\x1a\\x1c\\x1c $.\\' \",#\\x1c\\x1c(7),01444\\x1f\\'9=82<.342\\xff\\xdb\\x00C\\x01\\t\\t\\t\\x0c\\x0b\\x0c\\x18\\r\\r\\x182!\\x1c!22222222222222222222222222222222222222222222222222\\xff\\xc0\\x00\\x11\\x08\\x01w\\x01\\xf4\\x03\\x01\"\\x00\\x02\\x11\\x01\\x03\\x11\\x01\\xff\\xc4\\x00\\x1f\\x00\\x00\\x01\\x05\\x01\\x01\\x01\\x01\\x01\\x01\\x00\\x00\\x00\\x00\\x00\\x00\\x00\\x00\\x01\\x02\\x03\\x04\\x05\\x06\\x07\\x08\\t\\n\\x0b\\xff\\xc4\\x00\\xb5\\x10\\x00\\x02\\x01\\x03\\x03\\x02\\x04\\x03\\x05\\x05\\x04\\x04\\x00\\x00\\x01}\\x01\\x02\\x03\\x00\\x04\\x11\\x05\\x12!1A\\x06\\x13Qa\\x07\"q\\x142\\x81\\x91\\xa1\\x08#B\\xb1\\xc1\\x15R\\xd1\\xf0$3br\\x82\\t\\n\\x16\\x17\\x18\\x19\\x1a%&\\'()*456789:CDEFGHIJSTUVWXYZcdefghijstuvwxyz\\x83\\x84\\x85\\x86\\x87\\x88\\x89\\x8a\\x92\\x93\\x94\\x95\\x96\\x97\\x98\\x99\\x9a\\xa2\\xa3\\xa4\\xa5\\xa6\\xa7\\xa8\\xa9\\xaa\\xb2\\xb3\\xb4\\xb5\\xb6\\xb7\\xb8\\xb9\\xba\\xc2\\xc3\\xc4\\xc5\\xc6\\xc7\\xc8\\xc9\\xca\\xd2\\xd3\\xd4\\xd5\\xd6\\xd7\\xd8\\xd9\\xda\\xe1\\xe2\\xe3\\xe4\\xe5\\xe6\\xe7\\xe8\\xe9\\xea\\xf1\\xf2\\xf3\\xf4\\xf5\\xf6\\xf7\\xf8\\xf9\\xfa\\xff\\xc4\\x00\\x1f\\x01\\x00\\x03\\x01\\x01\\x01\\x01\\x01\\x01\\x01\\x01\\x01\\x00\\x00\\x00\\x00\\x00\\x00\\x01\\x02\\x03\\x04\\x05\\x06\\x07\\x08\\t\\n\\x0b\\xff\\xc4\\x00\\xb5\\x11\\x00\\x02\\x01\\x02\\x04\\x04\\x03\\x04\\x07\\x05\\x04\\x04\\x00\\x01\\x02w\\x00\\x01\\x02\\x03\\x11\\x04\\x05!1\\x06\\x12AQ\\x07aq\\x13\"2\\x81\\x08\\x14B\\x91\\xa1\\xb1\\xc1\\t#3R\\xf0\\x15br\\xd1\\n\\x16$4\\xe1%\\xf1\\x17\\x18\\x19\\x1a&\\'()*56789:CDEFGHIJSTUVWXYZcdefghijstuvwxyz\\x82\\x83\\x84\\x85\\x86\\x87\\x88\\x89\\x8a\\x92\\x93\\x94\\x95\\x96\\x97\\x98\\x99\\x9a\\xa2\\xa3\\xa4\\xa5\\xa6\\xa7\\xa8\\xa9\\xaa\\xb2\\xb3\\xb4\\xb5\\xb6\\xb7\\xb8\\xb9\\xba\\xc2\\xc3\\xc4\\xc5\\xc6\\xc7\\xc8\\xc9\\xca\\xd2\\xd3\\xd4\\xd5\\xd6\\xd7\\xd8\\xd9\\xda\\xe2\\xe3\\xe4\\xe5\\xe6\\xe7\\xe8\\xe9\\xea\\xf2\\xf3\\xf4\\xf5\\xf6\\xf7\\xf8\\xf9\\xfa\\xff\\xda\\x00\\x0c\\x03\\x01\\x00\\x02\\x11\\x03\\x11\\x00?\\x00\\xb1\\xf6\\x960\\x17(Cm\\xc8L\\xf3\\x9ae\\xb5\\xc3Kq\\x12\\xb5\\xbc\\xe3\\x9c\\xe7o\\x1c\\x11\\xff\\x00\\xc5~\\x86\\xac\\xdaH\\xb3\\x02\\xd0\"\\x84S\\x80OSV$IC$\\x865\\xce\\x0e0pFk;\\xdd\\r\\xadHL\\x11\\xcb\\x94\\x90\\x07\\n~R\\xc7\\x91\\x9ep\\x0f\\xa5F\\xb1=\\xbe\\xf6D.\\x84v\\xeb\\xff\\x00\\xd7\\xabI\\xb5xH\\x86\\xe3\\xeb\\xebM\\xb8b\\xcb\\x19\\'.\\xc7\\x00\\x01\\xd7\\xd6\\x868\\xbe\\x8c\\x82\\xe2\\xd4,\\xd2$\\xa0\\x15nJ\\xb0\\xe0\\xfa\\x8f\\xadf>\\x83g\\x15\\xca\\xc8\\x90\\xf0N@\\'*\\x7f\\n/\\x99O\\x98\\xf0\\xdc\\xca\\xf8m\\xc0\\x99:`r1\\x8a\\xa2<K,\\x91\\xb4q\\x15![\\r\\x1a\\x0c3\\x0e\\xe3=k9\\xa83[8\\xfc/sz\\xca\\xc2\\x0by\\r\\xc4pF\\x92c\\x07mj\\xa5\\xcc\\x98\\xcb\\x95Q\\xd7\\xe6\\xea\\x7f\\n\\xe7\\xecon\\xaeP\\xf9\\x16\\x97h\\xab\\xc6\\xd2\\xe5q\\xf9\\xd6\\x9aGxv\\xbb\\t\\x90\\xe3\\xf8\\x9d\\x1b\\xfaQ\\tE|(\\x89]\\xee\\xcb\\xebp\\x92\\xce\\xb0<\\x83s\\xf4V\\xc0\\xcf\\xd0W\\x9cx\\x9bMM3[g\\x80\\xa9\\xb7\\x9c\\x93\\x85#\\xe4a\\xd4{z\\xfeu\\xd4_i\\xb7\\xd7X\\xf2\\xfe\\xce\\x1b92\\\\\\xe5\\x8f\\xe1\\xb4~\\xb5F\\xe3A\\x92\\xde\\xdc<\\xd7v\\xa2$!\\xda!\\x11\\x1b\\xc8\\xe4\\x00\\xccz\\xfe\\x14\\xaa\\xa9Ih\\x8a\\xa7R4\\xfa\\x98\\x16\\xf6wWJ\\x0c6\\xf22\\x9e\\xac\\x07\\x1f\\x9dmi\\x9e\\x0e\\xbf\\xd5n$\\xb5\\x86xc\\xb8\\x11\\x19\"\\x8e_\\xf9jG\\xf0\\x83\\xd0\\x1fz\\xe8\\xec\\x1e)\\xac`\\x94p\\xcc\\xbf0\\xc60G\\x1f\\xd2\\xa52B\\xb3D\\xe6O-\\x90\\xeeG\\x07\\x05H\\xe4\\x1f\\xd2\\xb8)\\xd4r\\x9aOc\\x17\\x8b\\x9bwZ\\x1ea\\xe6\\x9e\\xb8\\xe7\\xf2\"\\xacE\\xa9\\xdc\\xc3\\xfe\\xae\\xe2d\\xc7`\\xf9\\x1f\\xado?\\x85m%\\x9aO#R\\xce\\xe6.\\xa9\\xe5\\x82T\\x13\\x91\\x91\\x90}\\xb3\\x81U\\xa6\\xf0}\\xda\\x7f\\xab\\xba\\x81\\xbf\\xdfVO\\xf1\\xae\\xbfg%\\xb2:\\xd5h=\\xd9\\x04^ \\xbf\\\\nx\\xe5\\x1e\\x8e\\x98?\\x98\\xab\\xb1x\\x91\\xb2<\\xdbB\\x07\\xaa>\\x7f\\x9dd]i7\\x9apCp\\x89\\xb1\\xc9\\n\\xc8\\xdb\\x94\\x91\\xd4{\\x1ej\\x98f\\xeb\\x86\\xe7\\xb5C\\x9c\\xe3\\xa1j0\\x92\\xba;85\\xbb[\\x86\\xda\\xa6U\\x7fB\\xbf\\xe1Z\\xc8\\xc7\\x1dk\\x86\\xd2d&\\xe4\\x8c\\xf5Z\\xed\\xe3;\\x95[\\xd4\\x03\\xfaV\\x94\\xe6\\xe4\\xdafUi\\xa8\\xab\\xa2PO\\x1c\\xf6\\xa7\\x02}i\\x83\\xad8V\\xc6\\x03\\xd4\\x9e\\x994\\xb9 \\xe34\\xd0i\\xde\\x94\\x08\\xf3\\x8f\\x89\\xb1\\xff\\x00\\xc4\\xcbM\\x97\\xfb\\xd6\\xce\\xbf\\x93\\xe7\\xff\\x00f\\xae \\xff\\x00\\xaa\\xfc\\xeb\\xd0~&\\xc7\\x9b}*P\\x0f\\r2\\x13\\xf5\\x08\\x7f\\xa1\\xaf>\\x00\\x98\\x8f\\xfb\\xdf\\xd2\\xa8\\xd2;\\r|\\x1e\\x9e\\xb4\\x99\\x1b\\x94\\x8a:\\x8f\\xc2\\x91\\xbazs@\\xc6\\x9e);\\x1f\\xa5)\\xebM\\xe8\\x0f\\xd2\\x99$\\xeb\\x9f({\\xe7\\x81M\\xce\\r\\x11\\x9f\\xddc\\xde\\x83\\xd4\\xd4\\xf54\\xe8.r\\xc4\\x1f^\\xf4\\xcc`\\xd3\\xf8\\x0c[\\xd0\\x8aG\\x19\\xe9\\xd4\\x7f\\x91TF\\xc0:T\\x91\\xb6F;\\xd4C\\x91\\xfe4\\xe5<\\xd2\\x18\\x8c6\\xbf\\xb1\\xe9N\\xefNu\\xdc\\xbcpz\\x8a\\x8dNE1\\x0f\\x0cA\\xc8\\xeb\\x9aY\\x06FG\\xd4S\\x01\\xe6\\xa4C\\xb8m\\xef\\xd4R\\x02=\\xdb\\xb76\\x00\\xc9\\xce\\x05\\x19\\xe3\\x14\\xac0N:\\x1am2Y4#\\xe5\\xfa\\x1a\\xf4\\xbf\\x85S\\x05\\xbf\\xbf\\x8fq\\xcb\\xd88Q\\xf4\\x91O\\xf8\\xd7\\x9aC\\xd0\\xe7\\xd6\\xbd\\x1b\\xe1f\\xdf\\xed\\xc9\\x97#\\xe6\\xb2\\xb8\\x1f\\xa2\\x91P\\xf74\\xb7\\xb8zb\\xb1\\x1d\\xcd)\\'\\xd6\\x98\\x07\\xcf\\x9c\\xe7\\x9ei\\xe6\\xa8\\xc02}M.O\\xa9\\xa4\\xed\\x8a\\x00=\\xc6=h\\x10\\xe0O\\xa9\\xa5\\xdcrFNE7\\xb5s\\x1e%\\xf1ri\\x135\\x95\\x92\\x89\\xaf\\xc6\\x04\\x84\\x8c\\xac\\x19\\xe4dwon\\x83\\x8c\\xfaS\\x1aM\\xe8\\x8e\\xadC\\xb0\\xca\\x86#\\xd8\\x13Tum^\\xdbE\\xb5Y\\xef$u\\x0e\\xdbcE\\x19g#\\x92\\x00\\xfau9\\xe2\\xbc\\xb2\\xefS\\xbc\\x9d\\x0c\\xd3\\xdcM9a\\xfcr\\xb3\\x13\\xed\\xd7\\x02\\xaa\\xc2bV2\\x94\\\\\\x81\\xc2\\xa8\\xc6\\x07\\xbdC\\x9a5To\\xb9\\xda\\xdex\\xde\\xeaU\"\\xce\\xde8\\x14\\x8e\\x1ec\\xbd\\xbf.\\x07\\xf3\\xac\\x91\\xe2\\x9da\\x1bq\\xd4\\xe7ob\\xa8G\\xe5\\x8a\\xc5\\x12\\t\\x07\\x9a\\xc3h\\xeb\\x8a\\xae\\xd2=\\xcb\\xedA\\x84\\xe8H\\xefY\\xf36j\\xa1\\x15\\xd0\\xea\\xe3\\xf1\\xe6\\xa6\\x00\\xdc\\xb6\\xcd\\xfe\\xd1\\x84\\x8c\\xfeL*\\xe4~?\\x99\\x17\\xf7\\xbaj\\xbb\\x1e\\x9e\\\\\\xa53\\xf9\\x83\\\\r\\xf9q f`=\\xcf?\\x90\\xef@\\xb9\\x04\\x1d\\x80\\x8c\\xff\\x00\\x11\\xe5\\x8d>v\\x1e\\xca=N\\xd6O\\x1eN\\x17p\\xd2\\x94\\x03\\xdd\\xaeI\\xfeJ*ko\\x1eB\\xec\\x16\\xea\\xd2H\\x87\\xf7\\xa2m\\xd8\\xfc\\x08\\x1f\\xce\\xb8\\x13+\\x02\\tf\\xcf\\xa1$\\xd0\\xaf\\x83\\xe9\\xec\\x074\\xf9\\x99.\\x9c;\\x1e\\xa9\\x1f\\x8a\\xf4I\\x08\\x1f\\xda)\\x1f\\xfdvFO\\xd4\\x8a\\x9cx\\x87Gc\\x81\\xab\\xd9d\\x7f\\xd3a^Le\\x03!\\x7f\\xfa\\xd4\\xde[\\x9c\\x8cz\\x9e\\xd4\\xf9\\xc9\\xf6(\\xf6\\x04\\xd5\\xac%\\xc1MB\\xd5\\x87\\xb4\\xcb\\xfe5?\\xda#1\\x97\\x13FP\\x0c\\x96\\x12.\\x00\\xfa\\xe6\\xbcdJ\\x89\\xf7K1\\xf5\\xce)\\x0c\\xa0\\xf5T\\xc7\\xa1\\x00\\xd3\\xe6D\\xfb%\\xdc\\xf59\\xfcS\\xa4[\\xb8F\\xbe\\x12\\x9e\\xe6\\x04i\\x00\\xfa\\x95\\x18\\xfdi\\x83\\xc5\\xda!\\xeb~\\xc3\\x8c\\xfc\\xd0H?\\xf6Z\\xf3\\x0f5\\xd8rq\\x8fZp r\\x7f3\\xde\\x8e\\x7f!\\xaa)\\x9e\\xa5\\x17\\x8a4W\\\\\\x8dR\\x11\\xcfF\\x0c\\x0f\\xe4E\\x15\\xe5\\xab*\\x9c\\xe5I\\xa2\\x97?\\x90\\xfd\\x84N\\xed\\xbcE\\xa5G/\\xee\\xaed\\x90\\xb7S\\x1c\\r\\xb7>\\xa4\\xe0U\\xb8\\xb5\\xbb\\tN\\xd7/\"\\xf6\\x1b+\\x917-\\xbf%N=\\xe4\\x1f\\xe1O\\x17`\\x0f\\xf5`\\x7f\\xdbO\\xfe\\xb5O\\xb7\\x89\\x7fW}\\x8e\\xa5\\xf5{\\x04.\\x129r\\x06G\\xca8\\xfdk\\x98\\xd5u\\x99\\x9a\\xc2T\\xb1Y\\x16\\xe2Y\\x03\\x10\\xd8\\xfd\\xc7\\x1c\\xe0\\xf7\\xcdF\\xd7Q\\x8c\\x9d\\x91\\x83\\xfe\\xd4\\xacj\\xbb4Rnc4JX\\x0c\\x91\\xedR\\xf1\\x11\\xb6\\x85G\\x0e\\xef\\xb1\\x91\"\\xc9t\\x84\\\\]]6:\\xa1\\x93\\n\\x7f\\x01\\xda\\xae[\\xeap\\x81\\x82\\xafn\\xb9\\xe4\\xec\\x0c\\xa0zu\\x18\\xa9$K2\\xdf\\xbc\\xb8BO\\xd2\\xa26\\xdaaM\\xad1`\\x7f\\x87w\\x15\\x87<\\x1e\\x8d\\x1b\\xbar.\\x8d5n&[\\x9b}I\\x90\\x9e\\x0e\\x03a\\x94\\xfb\\x86\\xeb\\xefW\\xe2\\xd1nB\\x15MRUV\\xea\\x02\\x9c{\\x7f\\x15cD\\xbad\\x18\\xf2\\xb2\\xbf\\xee\\xa9\\xab\\x0b{n>\\xe7\\xdaO\\xd1M>zk\\xa3\\xfb\\xc8t\\xaa>\\xa6\\xe4\\x1a*E9\\xb8\\x92\\xf2\\xe6I\\x8fW\\'\\x1f\\xd6\\xa4\\xb8\\x8a\\xcd#\\xcd\\xc4\\xea\\x15~o\\x9d\\x87\\x1e\\xfc\\xe6\\xb0\\x1a\\xf5OH.\\xdb\\xdb8\\xfe\\xb5\\x18\\xb9=\\xac$<\\xf5g\\x1f\\xe3K\\x9a\\x93\\xfb/\\xef\\x0fc?\\xe6\\xfc\\x06\\xa7\\x8b\\xed\\xc6\\xa14)kq\\xf6L\\x95\\x8eXF\\xe2}\\xf6\\xe0`~\\xb5[]\\xd7\\xf5\\x19 \\x8cip\\xddG\\xb8\\xe5\\x98\\xc7\\xf3\\x10G\\x03\\xdb\\xebV\\xc5\\xd4\\xdf\\xc1e\\x10\\xf7f\\xa9\\x05\\xc5\\xe68\\x8a\\xd9G\\xe2\\x7f\\xa5\\x11\\xa9\\x18k\\x18\\xa4\\x0f\\x0c\\xa5\\xbb8\\x89l\\xf5k\\x897\\xb5\\x9c\\xee\\xe7\\x92\\xef\\x92\\xdf\\x999\\xab\\x9a}\\xaf\\x88\\xed\\xe7\\x8d\\x92[\\xb8\\xa3\\x0c2\\x16\\xe4\\x8e>\\x99\\xc5u{\\xefX\\x7f\\xac\\xb7\\x1fE4/\\xdb?\\xe7\\xec(\\xff\\x00e\\x00\\xfe\\xb5\\x7fY\\x90,,\\x08\\x18\\xeaW!E\\xcc\\xb3\\xcd\\xb7\\xee\\x87`@\\xa6\\xfd\\x82\\xe4\\x81\\x88M\\\\\\x0bpz\\xde\\xcb\\xf8`Ts#*\\xee\\x1731\\x07\\x80_\"\\xb1roV\\xcd\\xd4\\x12\\xd8\\xab\\xa7~\\xefR@{\\xe4\\x1a\\xee-\\x8emb?\\xec\\x0f\\xf0\\xfe\\x95\\xc2\\xc0\\xc4_F\\xe4\\xf2Nk\\xb8\\xb2l\\xda\\'\\xb1?\\xcc\\xd6\\xb4\\x1f\\xbc\\xce|B\\xf7K4\\xe1\\xc1\\xa6w\\xa7\\n\\xea8\\xc7\\x03\\xcd;\\xad4\\x1fJQ\\xde\\x98\\x1cw\\xc4\\x88\\xf3\\xa0\\xd9\\xc9\\x8f\\xb9w\\x8f\\xce6\\xff\\x00\\n\\xf3E\\x19F\\xfc?\\x9dz\\xaf\\xc4\\x08\\xf7\\xf8M\\xd8\\xff\\x00\\x05\\xcc-\\xf4\\xc9#\\xff\\x00f\\xaf*C\\x80\\xde\\xc342\\xe1\\xb0\\xc1\\xd3\\x1f\\x85#p\\x9f\\x8d8\\xfd\\xe2;\\xe7\\x9a\\x19Y\\x87\\x00\\x9e3\\xd2\\x84P\\xc20i\\x07?\\x959\\x854cp\\xaaD\\x8f\\x8b\\xeeP\\xc3\\x93D_w\\x9a\\x1b\\xbdK+\\xa01?1\\xfeT\\xe0AL\\xfapG\\xb53?xc\\xb5$o\\x83\\xc8\\xe2\\xa9\\x12\\xc5#\\r\\x8ap\\xa4a\\x8c\\x8fN\\xfe\\xdd\\xa8\\x14\\x04ITn\\xe3\\xd7\\xa5F\\xdf+\\xe7\\xb1\\xfe}\\xe9A\\xe7\\xde\\x9c\\xe3p\\xe3\\xbf\\xa7\\xad!\\x8c=8\\xa0\\x12\\xa4\\x11\\xda\\x8c\\xe7\\x9e\\xf4\\x13\\x91LD\\x93\\x00& \\x0c\\r\\xa1\\x87\\xe3QT\\xd7\\x04\\x19c \\x11\\x98PrA\\xe8*\\x1a\\x04I\\x0f\\x1b\\xbb\\xd7\\xa0\\xfc/\\x90G\\xe2X\\x83t\\x96\\x19\\xe3\\xfcLg\\xfa\\x8a\\xf3\\xe8\\x8e\\t\\xff\\x00\\n\\xed\\xfe\\x1dI\\xb3\\xc56\\x04\\xf27\\xba\\xf0q\\xd5\\x08\\xac\\xe5\\xb9\\xa4~\\x16z\\xda\\x80H\\xc6F)\\xf4\\xd5\\x18P\\r>\\xb49\\xc4\\xe9B\\xa2\\xa9\\xc8\\x00\\x1cv\\xfa\\xe6\\x8e\\xbf\\xfdz\\x86\\xe6\\xea\\x1b\\x1bY\\xae.X\\xac\\x10\\xc6\\xd23\\x0e\\xbbTd\\x8f\\xafaH\\x0e\\x7f\\xc5\\xde)\\x1a$+ef\\xff\\x00\\xf13\\x99C+\\x0eD\\t\\x9f\\xbe}I\\xc1\\xc0\\xfc}3\\xe7 \\x08\\x86\\xe0\\x19\\xdb;\\x99\\x89\\xc9$\\x9c\\x92OrO5\\x1e\\xa1\\xa8M\\xaa\\xea\\x977\\xf3 Y\\xae$\\xdeT\\x1c\\x84\\x1d\\x02\\x8f\\xa0\\x00~\\x14I#H\\xaa\\x83\\x82z\\x9a\\x99;\\x9d\\x10\\x8f*\\xd0E\\x95\\xe7\\x97b\\x9cF\\x0f8\\xefRJ\\xf8\\x01\\x14q\\x9f\\xce\\x99\\x16\\x11\\xc8\\x18\\xc2\\x8c\\x0fzz!\\xb9\\x9b\\n>QY3k\\x12B\\x8d6w\\xf0\\x9f\\xce\\x9d,\\xb1\\xa2\\xfc\\xb8\\x11\\x8e?\\xde\\xa6\\xdc\\xca\\xab\\x88\\xd7\\xee(\\xf9\\x88\\xfeUOsL\\xdb\\xa4\\xe1G@(\\xdc\\x074\\xad+\\x069\\xc1\\xe3&\\xa5\\xf3\\x02!8\\xc9\\xfd*\\x05`[\\xccp1\\xd1\\x14S\\xa3G\\x99\\xf7\\xf6\\x1d=\\x05Q$\\xb1\\x87s\\x97\\xa9^U\\x8c\\x85\\xc7\\xcd\\xe9P<\\xcb\\x1a~\\xe8\\xe7\\xb6\\xee\\x84\\x9fjbe\\x89-\\x82O`)z\\x87\\xa1c\\xccQ\\xe9\\x9fAL\\x92B\\xc7\\xb6\\x07n\\xc2\\xa2/\\x83\\x81\\x9e=;Sy\\x1c\\xf7\\xa6\\x85b@H\\xe5\\xb8\\xf64\\xf0X\\xaeG\\x034\\xf8\\xa2T!\\xa5\\x1b\\xe4nBg\\xf5>\\x82\\xac\\x0c(2\\xb9\\x19\\x03\\x00c\\xf9P>Q\\x15\\x04@4\\x9c\\x9e\\xcbQ\\xbc\\x999===*#3;\\x12x_zb\\x96\\x91\\xf8\\xfdjYD\\xeaA\\x198\\xf6\\xa2\\xa7\\x8a\\x14\\xd9\\xf30\\xcd\\x14\\xae;\\x08\"\\x8d\\x89\\xdd\\xbc\\xff\\x00\\xc0\\xcd;\\xca\\xb7#\\x98\\xf3\\xf5\\xc9\\xa7,xl\\x01\\xc7\\xbdN\\xa3\\x1d\\x85r6t\\xd8\\x84C\\x0fA\\x02\\xfe\"\\xa4\\xf2cU\\xdc!L\\xfb(\\xa9v\\x9cu\\xa3i\\xc7\\x19\\xa5p\\xb1\\x0e\\x15\\xbe\\xea\\xa8\\xfc)\\xca\\xac:\\x11R\\x04\\x1dy\\xfc\\xa9B(\\xe9N\\xe07\\x0c{\\x9e}\\xa9\\xaa[8\\xe6\\xa5\\xd8\\x0ex\\xa5TP\\xdd\\x074\\xae\\x16\\x1a:\\xa8==h\\xc63\\x8e\\xdd\\xf3R`~\\x1d\\xa8\\xc6}\\x8f\\xb5\\x17\\x01\\x81q\\xd6\\x9c\\x00$\\x93\\x91\\x8e\\x82\\x94\\xa1=?\\x958-\\x03\\x1aG\\x1c\\x0f\\xd2\\x85\\xe4z~\\x14\\xfd\\xa7\\xb0\\xa5\\x00\\x81\\xc14\\x00\\x83\\xdf\\'\\xebM\\x94~\\xe8\\xf1\\x8e\\x7f*\\x94\\x83\\xd7\"\\x9b(\\xfd\\xd3g\\xd2\\x81\\x99#\\xe5\\xb8B}G\\xf3\\xae\\xdfN9\\xb4\\xff\\x00\\x81\\x9f\\xd4\\n\\xe1g\\x91#}\\xc5\\x86\\x14\\xff\\x00Z\\xd3\\x87\\xc5\\xa9mj\\xd1\\xc5ld\\x94\\xb7\\x04\\x9d\\xaa\\x07@O~\\x9d\\xabjJ\\xd2\\xb9\\xcdYsF\\xc8\\xec\\x87?Z\\x82\\xe7Q\\xb2\\xb2\\x19\\xba\\xbc\\xb7\\x83\\x8c\\xe2I\\x00\\'\\xf0\\xeb\\\\\\x15\\xdf\\x88\\xf5;\\xd5(\\xd7\\x02\\x08\\xdb\\xf8 \\x1b2=\\xdb\\xaf\\xea+3\\xca\\x881\\xc2\\x80O$\\x8eI\\xfck\\xa5\\xcdt9\\xd5\\x1e\\xec\\xee\\xe5\\xf1\\x96\\x91\\x19\"6\\x9es\\xea\\x91\\xe0~lEW\\x93\\xc6\\xf0c\\xf7631#\\x8d\\xee\\x06\\x7f k\\x8f\\x025\\xce\\xd0\\x0f\\xe1N2\\x0cd(O\\xa7\\x06\\xa5\\xcd\\x96\\xa9@\\xd7\\xd6|Eq\\xab\\xe9\\xd2Y=\\x9cQ\\xc2\\xec\\xa5\\x88f-\\xf2\\x90G=:\\x8a\\xe6\\x92\\xde$o\\xf5+\\x8fSZ;\\xce\\xde\\x18\\x91\\xe8\\x16\\x98@<\\xb2\\x8f\\xa8\\xe2\\x973{\\x96\\xa3\\x15\\xb1\\x00\\x85\\x19p\\xb1(\\xeeH^\\xb4\\xc9 Q\\xc6\\x7f*\\xb4\\xa4\\x03\\xce@\\xeb\\x9cg4\\xe6\\x02Q\\xc1$\\x0e\\xb9\\x15*M\\x15dg\\x14 \\xe3\\x03\\x8fQ\\x9ah\\x85\\x1b\\x9f%O\\xd4U\\xc6\\x88\\x02x S\\xd4\\x1c\\xee\\xdd\\xc1\\xfcj\\x9bb\\xe5Fy\\xb5?\\xc3\\x12\\x8fZ\\x8aKDV\\x05\\xa3p\\x0fj\\xdbX\\xd5\\x86\\xe2\\xb9a\\xddM5\\xc0\\xe7\\x81\\x8a\\\\\\xec\\x1cQ\\x95\\xf6X^/\\x95\\x08\\xec8\\xebP>\\x96w\\r\\x84\\xe3>\\x95\\xae\\x101\\x18\\x19>\\xb5`Z0\\\\\\xb3\\x0c\\x9e\\xc3\\xa0\\x14\\xfd\\xa3Bt\\xe2\\xcen{v\\x85\\x17 \\x92>\\xf7\\xd2\\xabtj\\xe8o!S\\x91\\x8e\\x08\\xe7\\x8a\\xc2h\\xd9H\\x1d\\xc7j\\xda\\x12\\xe6F\\x13\\x87+\\xd0h\\xce1OC\\x91\\x8f^\\x9fZ`\\xe9@<u\\xaa$\\x1c\\x00\\xd9\\x1f\\xc5\\xc6=\\xe9*F\\x01\\x97#\\xa3~\\x86\\xa2\\xef\\x83L\\x19,\\xa7sG\\xc6?v\\x07\\xd6\\xa3<sJ\\xfdS\\xfd\\xdac\\x1e?\\n\\x04\\xc9# \\xb1\\xae\\xbf\\xc0\\xef\\xb7\\xc46\\'\\x9c\\x99\\xb8\\x03\\xdc\\x1a\\xe3\"9\\x94\\xe0u\\x1c\\n\\xea\\xfc\\x1f\\x91\\xe2\\x1d8t\\xff\\x00HL\\xe3\\xdf\"\\xa2E\\xc3f{\\x7f\\x7f\\xc7\\x14\\xe1\\xd2\\x98~\\xf14\\xe1\\xd2\\xa8\\xe7\\x0c\\xe2\\xb8\\xaf\\x88\\x9a\\xa3Cco\\xa5D\\xd87\\x07\\xce\\x9f\\xde58U\\xfc[\\x9f\\xf8\\x05v\\xdd\\xf9 \\x0e\\xe4\\xf0\\x07\\xb9\\xaf\\x1a\\xf1\\x1e\\xb05\\xddfk\\xd8\\xd4\\xac\\x18X\\xa0\\x07\\xa9\\x8ds\\x86>\\xe4\\x92\\xd8\\xf7\\xa1\\xbd\\x0b\\xa6\\xae\\xcc\\xc5\\x18P\\x7f\\x9d<7\\'\\x8ei\\x00\\xca\\xaf\\xa6(A\\x95<\\xd6GR\\x00>Lz\\xd5\\xdd\\x8dkl8*_\\x85\\x1d\\xc9\\xff\\x00\\n\\x8e\\xcd\\x13\\xcdi\\xa4\\xfb\\x91\\x00y\\xee{Tmrg\\x9d\\xa6|\\xf3\\xf7A\\xec)nR#u9\\xd8\\t>\\xbe\\xf4\\xe9\\x87\\x95\\x18S\\x9c\\x9e\\xd5b\\x05P\\xad4\\x84\\xf1\\xd0UWb\\xceda\\x92z\\x0f\\xe9F\\xe2j\\xc8E\\x8c\\xc8\\xd8b\\x17\\x03,OE\\x154\\x87\\x81\\x12\\xe5S\\xb8\\xf5\\xfa\\xd1\\n\\xf9q\\xf9\\x8f\\x823\\xf2\\x8f\\xef7\\xf8R \\xdep\\xc7$\\x9eh\\x01\\x8e\\x0eT\\xff\\x00\\xdf?\\xe3B\\x10\\xaaq\\xd7\\xd6\\x9f7\\xce\\xc4\\x8c\\x01M\\x0b\\xc7\\xccx\\xa5p\\xb0*\\x8277\\x0b\\xda\\xa6\\x81\\x0c\\x92n\\x03\\xa7C\\x8e\\x10\\x7f\\x8d\\x11\\xc4f\\x93\\xe68\\x8cv\\xc7Z\\xb1#\\x04_-\\x00\\xda;Qq\\xa4\\x0e\\xe9\\n\\xedC\\xf3\\x1f\\xbcO9\\xaan\\xc6S\\xc9\\xf9G\\xeaid#w\\xbfzfKp\\x06=\\xa9\\x83\\x15Wq\\xe7\\xee\\xe6\\xa6\\x01\\xd8\\xe1\\x06=\\xf1DK\\x8cq\\xf5\\xab\\xd0\\xa8\\x18#\\x02\\x93aa#\\xb2\\xdc\\x99p\\x19\\xbdI\\xa2\\xa6\\x00\\x81\\x8c\\xe2\\x8aW\\x1f(\\xb89\\xe8E9A\\xf4\\xfdix\\x04\\xf3J\\xbfQ\\x8a\\xe1:E\\x01\\xbf\\xc9\\xa4*N9\\xc58\\x8c\\xfaP0;\\xd3\\x01\\x00\\xe3\\xa9\\xfc\\xe9B\\xe0\\xd1N\\x1c\\xfa\\xd2\\x01\\x08\\xf64\\x10\\x07\"\\x97\\x1cr?Z\\x08\\xed@\\x00\\x00\\xe3\"\\x94\\x00:To,p\\x82]\\x80\\xc7\\xadU\\x9bQ\\x00\\x0f)7g\\xbbU(\\xb7\\xb1.In\\\\\\x126qN2\\x01\\x8d\\xc4\\x0c\\xf4\\x06\\xb0\\x9e\\xfa\\xe1\\xc9\\x1ea\\x04\\xf5\\n1Q\\x06N\\x19\\xc9$rs\\xcdh\\xa92]Dm\\xc9}\\n\\x1f\\xbe\\x0f\\xfb\\xbc\\xd4\\x7f\\xda\\x11m\\xea\\xd8=+\\x15/#f#\\xe5\\xc8\\xea*f\\xc3\\xa8p\\x8c\\x17\\xadW\\xb1\\xb1\\x1e\\xd6\\xfb\\x17n5\\t\\x15\\x07\\xd9\\xd3/\\x9e\\xe2\\xb2\\xa5\\xbf\\xd4db\\x1d\\xd9\\x07p\\xa3\\x15*\\x92\\x0f\\xcay\\xe9V\\x93\\xcda\\xf3\\x00@\\xa6\\x92\\x8f@m\\xb3\\x17-\\xe6n\\xc1f\\xc7$\\xff\\x00Za\\x96@pW\\xbdiN\\x90\\xf4%P\\x83\\xcdUxX\\xaeW\\x0c\\xbe\\xa0\\xe6\\xb5\\x8bL\\x87\\xa6\\x83\\x12g\\xc7\\n\\x80v8\\xcd)\\x98\\x8e\\x0b7\\xbe\\x05#nPA\\xe4TD1\\xec\\x00\\xedN\\xc3\\x1d\\x90\\xc7\\x8e}\\xa9\\xe8\\xac\\xa0\\x90\\xc3\\xfd\\xd3U\\xc9`:\\nX\\xa5e#\\x90Fz\\x11\\x9a\\x1aar\\xd0\\x90\\xee\\xc1\\\\s\\xd7\\x15)\\x9b?/\\r\\x81\\x9c`\\xd4\\x19\\xe0c\\xe5\\xcf\\xa1\\xa9cPE+\\x05\\xc6\\xeen\\xb8P=1J\\xb26\\x08\\xdc}M<\\x8e8\\xe7\\xe9U]\\xc8\\xfau>\\xe6\\x8b\\x0c\\xb5\\xbfsp:\\xf3S\\xc2\\xa0\\xf5\\xe3\\xe9T\\xa1b\\xecy\\xc0\\x1c\\x93Sy\\xbbd\\xfe\\x95-\\x0c\\xb8x#\\x81\\x9f~)\\xe87\\x9e@\\xfc\\xaa\\xba>~n\\x9e\\xc6\\xacF\\xf8\\x18\\x18\\xfaf\\xa1\\x80\\xaf\\n\\x7f\\x08\\xfd)C\\xca>C\\xf3\\x03\\xd3\\xb5Hv\\x91\\xc0\\xff\\x00\\xebS\\x86\\n\\xfc\\xcc2=\\x7f\\xc6\\xa6\\xe3\\xb1F\\xe2,\\xa9%B\\xb1\\xf5\\xe7\\x15\\x9c`Ul\\xe0\\x96=\\xcdm:+\\x8c\\x8c\\x9f\\xc75^Xw\\x0e\\xc3\\xebU\\x19\\t\\xa3\\x9e\\xb9\\xb7+\\xca\\x0f\\x97\\xb8\\xf4\\xaa\\x9d\\x0f\\xd2\\xba\\x19mp\\xbd2Oc\\xfezVd\\xf6\\xca\\xc3\\xe5\\x1c\\x81\\xd0WD\\'\\xd1\\x98N\\x0ftTNr\\xbd\\x01\\xfet\\xc7\\xeb\\xbb\\x1e\\xc7\\xda\\x83\\x95l\\x10A\\x15#\\x1c\\x80\\xdf\\xc2\\xdc\\x1f\\xadjd2O\\xf5Q7\\x7f\\x99sPg\\x8e\\x954\\x8c<\\x84L\\xf2\\x18\\xfeX\\xa8:\\x0e\\xb4\\xc4>.\\x1f\\xf0\\xae\\x8f\\xc2\\xf3\\x08\\xf5\\xcb7\\'\\x18\\x9d\\x08\\xfc\\xeb\\x9aC\\x87\\x15\\xbb\\xa065;lp|\\xe4 \\xfa|\\xc2\\xa2{\\x17\\x0e\\xc7\\xbf\\xb7\\xde>\\x99\\xa5^\\x94\\xd6\\'q\\'\\xa1\\xe7\\xe9N\\\\c\\xadQ\\xcer\\xde:\\xd7\\x0e\\x97\\xa4\\x8b8H\\xfbE\\xea\\xba\\x93\\xfd\\xc8\\xba1\\x1e\\xe7;G\\xa7\\xcc{W\\x98\\xe5@\\xceGN1]/\\x8fn\\x12\\xe3\\xc5\\x12G\\xbbp\\x82\\x08\\xe1 t\\x07\\x05\\x88\\xff\\x00\\xc7\\xeb\\x95\\x10\\x85S\\xc9\\xc5KgE4\\x92.Fs\\x10\\xc7qM\\x88rx>\\xd4\\xa8\\x98\\x84\\x0f\\xcf\\x14\\xbd\\x0f\\xf5\\xa86\\x04\\x7f\\xdd\\x14\\x1f\\xc4\\xd9\\'\\xd0S\\x8a\\x80s\\x8f\\xa6*\\x10s\\xc5\\x01\\xb0\\xdd\\xcfz,>\\x84\\xf38H\\x82\\x0f\\xa9\\xf7>\\x95\\x12)\\'=\\xcfA\\xe9H\\xc4\\xbb\\xe4\\xfe\\x14\\xf5L\\xa9\\xe7\\x91@\\xb7c\\xdc\\x02\\xc0c\\x85\\x18\\xa6\\x81\\x87$~T\\x04\\xcfS\\x9a\\x93\\x1f\\x8d\"\\x84\\nX\\xe0t\\xefNh\\xd4/4\\xaaFI\\xa1\\xdcq\\x8e}jX\\x12)\\xda8\\xeb\\xeb\\xe9QI!f\\xc2\\xd0\\xcc\\x14`rq\\x93LE<\\x1e\\xb4\\x90\\xc41\\x12q\\x9f\\xc6\\xa4X\\n\\x9eq\\xf4\\xa9F\\xe28\\x1c\\x8e\\xc2\\x9c\\x15\\xdb\\xdc\\xe7\\x9aw\\x10,#\\x03\\xd6\\xad\\xc2\\x00\\x19\\xfc\\xa9\\x89\\x1b\\x1e3\\xf8\\n\\xb0\\x138\\xe6\\x86\\x04\\xa8\\xe1G\\xcd\\xfc\\xa8\\xa9\\x165\\xc7cEIW*\\x86\\x1f\\xdc\\x14\\xe0\\xe7\\x19\\t\\x9a\\xb0\\x02\\x8e\\xa2\\x94\\xc8\\xab\\xfc?\\x8dq\\\\\\xe9\\xe5 \\x0cN\\x0e\\xd3\\xf9Ry\\x84\\x12\\x08\\xc7\\xe1V\\x0c\\xc3\\xb0\\x07\\xf5\\xac\\xdb\\xcdB\\x0bYO\\x9d2G\\xec[\\x9f\\xca\\x9cn\\xf4@\\xf4\\xd5\\x96\\xf7\\xf7\\x0b\\xfaP\\x18\\xff\\x00\\x91X3x\\x9a\\xd93\\xb1^F\\xed\\x9f\\x94\\x7f\\x9f\\xc2\\xa1\\x1e*B\\xc1M\\xabg\\xdaP\\x7f\\xa5k\\xecj>\\x86.\\xb55\\xa5\\xce\\x94\\xb7\\x7f\\xd78\\xaa\\x13\\xea*\\xa0\\xec9\\x03\\xbdR\\xba\\xbd\\x96hF\\x14\\xc5\\x90\\tS\\xd6\\xb2\\xe4\\xb8`\\xac\\t\\xf7\\xcdT)ud\\xca\\xafa\\xf7\\xda\\xac\\x8cN\\t\\xf9}j\\x0b]FIPn9!\\xb1\\xcfz\\xca\\x9eR\\xf2\\x9c\\x7f\\x85>\\xc3v\\xf2\\x179-]~\\xcd(\\x9c\\xca\\xa3s:\\xa1*\\xf9\\x05\\x98\\x0cc \\xe3\\x18\\xac\\xf9$\\x01\\x8b6FI\\xc0\\xc7Jk\\xdc\\x18\\xdbybUG\\x1e\\x94\\xdd2X\\xe7\\xbfCr\\xa4\\xc7\\xb8\\x1f\\x93\\xb1\\xcdM8=\\xc7Vilz\\x0f\\x82<:5\\x1bg\\xfe\\xd3\\xd3\\xd5\\x15\\xc6ci\\x17\\x0c\\xc0\\x8f\\xe5\\xde\\xbamO\\xc2\\xd0\\xa6\\x8d-\\xb6\\x9d\\x02n\\xda6\\x93\\xc61\\xd0~\\x95\\xa9\\xa2~\\xf6\\x18\\xdc#\\x10\\xc9\\x90[\\xbf\\xbdl]\\x14[F-\\xc6N@\\xfa\\xd5\\xf5\\xd4\\xe7\\xbd\\xf5>ti\\xd1\\x1d\\xe3p\\xd1H\\x84\\x86S\\xfc\\'\\xd0\\x8f\\xa8\\xab\\xd1j(\\xf1*dd\\x9eH\\xe9K\\xe3[U\\x1e#\\xb9h\\x9d]em\\xe5Ttb?^\\x95\\xce\\xaa2H?\\xbd\\x9e\\x82\\x94\\xa9&m\\n\\xad\\x16\\xb5P@,\\x0f\\xc8\\xc3<\\x1a\\xa1\\xa7\\xdf\\xb4\\x12\\xe0\\x9c\\xa9\\xf5\\xadB\\xc9<^K\\x8c\\x06\\x1dH\\xe9X\\x17\\x16\\xcfmpcq\\xd3\\xbf\\xad8%nV\\x13m>dt)2\\xbb\\x92\\xea\\x00=\\xb1RKl\\xa1L\\x90\\xe4\\x8e\\xfe\\xa2\\xb3 \\x98\\x98\\x13\\x19`:\\x83W\\xad\\xeeT\\x1c)\\xc0\\'\\xa7\\xadC\\x8bEFw#\\xda\\x08$\\x1c\\x1aiL\\x0e\\xb5i\\xe3W\\x05\\x90\\xf3\\xdcg5\\x0eNv\\xfex\\x14\\\\\\xd1Y\\x8eM\\xbb\\x00a\\xc9?\\x89\\xa9\\x10\\x00\\xf8\\x1d\\x8f\\'5\\x08\\x1d\\xc7\\xebC+`\\x82\\xc4{\\xe6\\xa5\\xeaQc#v3\\xf5\\xa6\\xf9[\\x9b\\xa7\\x1d\\x89\\xa8\\xe29a\\x8c\\xe0{b\\xae\\x85\\xfd\\xd8\\x90\\xfa~u/@\\x18m\\x8cq\\x9c\\x0e\\xbc\\x9e\\xdfJ\\xa4\\xac\\x04\\xb9a\\xc6z\\xd4\\xf2L\\xcc\\x87,\\xc7\\x1d\\xb1Tw\\x92\\xca9\\xfa\\x0fJi\\x05\\xcb\\xb2H\\x00\\xces\\xe8j\\xc4\\x13\\xf2\\x03c\\x8e\\x99\\xe6\\xb3Y\\xd8\\x80;\\x9e\\xa7\\xda\\xa5\\x8d\\xf6\\xe7\\x03$\\xf5\\xa4\\xd0\\xd37G\\xef\\x00\\x01pq\\xd5GZq$\\r\\xac\\x0f\\xe5\\xd2\\x92\\xdd\\xb7[\\xab\\x83\\xd4s\\xedV\\x89,2\\x7f:\\xc1\\xb2\\x91X\"\\x93\\x80x\\xa1\\xe2\\xe3\\'\\x00~Y\\xa9\\x80\\xe4\\x826\\xfa\\x02)\\x18\\x15=O\\xe1B\\x13(\\xcb\\x1e\\xd5\\xff\\x00\\n\\xcd\\x9a\"\\x1c\\xf0\\x03\\x0ezV\\xff\\x00\\xc9\\x92[\\x18\\xac\\x9b\\xd5\\xcb\\x9e8\\xad\"\\xf5%\\x987\\xd1a\\xc3\\x80H=MVL6Q\\xba7\\x1fC\\xda\\xb5\\xee\\x10\\xbd\\xbf\\x00p:b\\xb1[\\x80x WT\\x1d\\xd1\\xcd5f\\x0e\\tM\\xd8\\xe5xoj\\x8b\\xbdXrZ5\\x9b\\x1c8*\\xde\\xe4\\x7f\\x91PU\\x90\\xc1~\\xf0\\xadm%\\xf6\\xdd\\xc2}\\x1dr\\x7f\\x11Y\\t\\xf7\\x85iX\\xb1Y\\t\\x1d\\xbbR\\x96\\xc5@\\xfa0\\x9d\\xd8bA$\\x03\\x91L\\x12$+$\\x92\\x7f\\xab\\x88\\x17l\\xff\\x00t\\x0c\\x9f\\xd0R\\xa8\\x02(\\xb1\\x9cyk\\xd4`\\xfd\\xd1Y\\x1e,\\x98\\xdb\\xf8CV\\x91r\\x18\\xdb\\x98\\xc6?\\xda!?\\x93\\x1af6\\xd4\\xf29\\xae&\\xba\\xba\\x92\\xe6rL\\x97\\x0cfr\\x7f\\xbc\\xc7\\'\\xf9\\xd2\\x00\\x19\\x80\\xcf\\x146\\x1c\\x8e\\xd4\\xe8\\x97\\xabzw\\xac\\xce\\xa4\\x89\\x8f*\\x01\\xfc\\x00\\x1c\\xd4lx\\xc7\\xb7QO\\x07-\\xfe4\\x92\\x81\\x9e)\\x16B\\x01\\x0f\\xd3\\x03\\xa5H\\x06\\xe6\\'\\xb54\\x81\\xf9w\\xa5\\'\\t\\x908\\xa6\\x027\\x19\\xe7\\xf0\\xa7\\x06\\xdb\\xd7\\x18\\xf5\\xa6\\x00\\t\\xc9\\xe4\\x1ap\\xe4\\x8c.}\\xa9\\r\\x16\\x13>\\xb8\\xa7`\\x90H\\xe4v\\xf6\\xa8U\\x88\\xf9q\\xfd1R\\xa9m\\x98n\\xf4\\x8a\\r\\xbd\\xb1\\xd7\\xa51\\x80i\\x0e)\\xccJ\\xe3\\xd7\\xda\\x81\\x80O|\\x9a@\"\\xa8\\xe7p\\xe0~\\xb4\\xb9 \\x9cv\\xfdiy\\x03\\x00\\x93\\x9f~\\x94\\xaa\\xbcv\\x1c\\xf3H\\tbls\\xda\\xac.\\xdcpy\\xef\\x8a\\xae\\xab\\x93\\xda\\xa7\\x8d\\n\\x9eO=\\xa8\\x11j3\\xc0\\x03\\x8a\\x99!.yl\\x0fSDk\\xca\\xb1\\x18\\x07\\xa5ZU\\xcf\\x00\\xe3\\xdcP\\x902H\\xa3\\x85S\\x041\\xa2\\xa4\\x8e3\\xb4\\xe01\\x19\\xa2\\x9d\\x85s\\x99\\x17w\\x00\\xff\\x00\\x08\\xe7\\xb2\\xd2\\x1b\\xa9\\xff\\x00\\xbc\\x07\\xd1i<\\x87\\r\\xc9o\\xfb\\xe6\\x97\\xcb#\\xb9\\xfc\\xab\\x8bC\\xaa\\xecF\\xb9\\x9f\\xbc\\xa4}\\x00\\xaeK^\\x84\\xc5~e\\x04\\x91/\\xcc\\xdc\\xf3\\xba\\xba\\xd3\\x19?\\xc5X\\xfa\\xcd\\xa8\\x7f/([\\x8ep\\x99#\\xf1\\xad\\xe8IFF5\\xe3\\xcd\\x0b\\x1c\\xba\\x92W\\xae~\\xb5\\xb3\\xa1\\xdao\\x95\\xee\\xe4\\xcf\\x97\\x1f\\xdd\\x18\\xfb\\xcd\\xfe\\x02\\x99\\x1e\\x95\\x14\\x87\\xe6,\\x8a;\\x90j\\xd7\\xda\\xa3\\x86\\x11\\x04\\x1c\"\\x8e\\t=k\\xaeS\\xe6VG\\x12\\xa7\\xca\\xef\"y\\xe6\\xf9\\xc9v\\xc9\\xcf\\x18\\xa8$\\nA$\\x8cc\\xbf\\xf5\\xa8\\x9c\\xa8\\xd8\\xaaNGRy\\xff\\x00&\\x99,\\xa1P\\xa89-\\xdb\\xae)F#\\x94\\xcc\\xf9\\x00\\xfbG\\x1c\\x03Z\\xdaU\\xa1[s;g$|\\xb9\\xfeu\\x94\\xb1\\x9b\\x8b\\xa5\\\\\\xf5<\\x81\\xcf\\x15\\xd4\\xdc\\xa8\\xb6\\xd3\\x9601\\xc62;QQ\\xdb@\\xa4\\xba\\x99\\xd2\\xc5\\xf6\\x8d\\xa1p\\x17\\x1d\\xe9\\x8b46\\x8f\\xc3\\x02q\\xd7\\xbdDn\\xf7\\xb1@~_\\xa5gJT\\xb9\\xc6O\\xb9\\xebW\\x14\\xc8\\x94\\x95\\xcf{\\xf0.\\xb3\\x1d\\xce\\x91\\x1e\\xc93\\x83\\x82\\x08\\xfb\\xbf\\xfdj\\xecn\\xdcMbv\\x81\\x90;\\xf4\\x15\\xe1?\\x0e\\xb5\\xb5\\xb2\\xd7b\\xb5\\x98\\x84\\x8ef\\xda\\x08\\x1f\\xc5\\xd0W\\xb9\\xc4\\x10\\xc2\\xe1A\\xc0\\xc8>\\xd52\\xd1\\x92\\x8f\\x9f<[3[\\xebW\\n\\xd2\\xb3M\\x9c6A\\xe3\\x8c\\x7f\\x8d`GvU\\x87\\xc8\\xb8\\xf7\\xe6\\xba\\x7f\\x1f\\xd8\\x18|W8\\xc0\\x0b$k/\\'\\xaex\\xfeb\\xb8\\xe7%\\\\\\xf1\\xf8\\xd6\\x96LWf\\xda\\xdd#\\x84c\\xc3\\x11\\xcdM\\xa8\\xda\\x8b\\x9b\\x018\\x03ru#\\xd2\\xb2\\xe0)s\\xce\\xf2\\x8c:\\xf1\\x9f\\xc6\\xb7t\\x897\\xab\\xd9\\xcd\\xf7\\xb0J\\xe3\\x90\\xdfCX\\xd4\\\\\\xba\\xa3zr\\xe6\\xf7Y\\xce\\xc1)F\\xc6N?\\x95Y\\xb7\\x94\\xeeuc\\x9c\\xf6#\\x8a\\x8a\\xea\\x11\\x05\\xec\\xa9\\xc6\\x03c\\x1f\\xca\\x88\\x88,A\\xcfN\\xf5\\xa6\\xea\\xe6Z\\xc5\\xd8\\x9aK\\x87\\x86O\\x94\\x90=:~\\xb5j\\x1b\\x81?\\r\\xcb{\\x8ek1\\x81w\\xdb\\xd0\\x8e\\x9e\\xf5f$\\xdb\\xb4\\xa0\\xd8\\xdd\\xc7j\\x97\\x12\\xe36\\x99\\xa0\\xb8\\x1c\\x91J\\xc4\\x15<\\x1c\\x93K\\x92\\xc0d`\\xfd\\x7f\\xce*3\\xdcV6:\\xc5\\x8d\\x82\\x1eFq\\xcfN\\x95un\\xd1\\xd7\\x07\\xae:\\x8a\\xceb\\n\\x81\\x8a\\x96\\xda2\\xf9\\xc0\\xc3\\x0eqJH\\x0b\\x00#!P\\x08\\x1dX\\x9e\\xf5I\\xb0\\x1b\\xe5\\xc8\\xcf\\xe9W\\x99\\n\\'\\xceG\\xb5Rp\\xc1\\xc1\\xe3\\xae\\x06\\x05\\x08\\x1a\\x11\\xb2\\xcf\\xc0\\xc8\\x07\\x19\\xabp\\xa6\\x7f\\x87\\x93Q\\xc6\\x06\\x06s\\xc9\\xe8\\x05]D\\xd8\\xe4\\x15\\xf7\\xc6zR\\x93\\x04\\x89\\xed\\xc7\\x96J\\x91\\xf8\\x1a\\xd4\\x80\\x9d\\xbbJ\\x1a\\xcc\\xc1R\\xa0\\x9c\\x92:\\x9a\\xb7\\x15\\xca\"\\xe1\\x88$qX2\\xd1q\\xe3\\x03\\xe6^>\\x95\\x13\\xa9n[\\x18\\x1fZ\\x16\\xea00\\\\\\xf3\\xda\\x9f\\x14\\xd1\\xca\\xac\\x81\\x81*\\x0e\\x08\\x14\\x902\\x06@0\\xe3!I\\xc1\\xc785F\\xee=\\xc0\\xe3\\x92\\r]\\x95\\x80\\xb5q\\xc7 \\xf5\\x1e\\x95O\\xe6`\\x0e\\x0f\\x1dqV\\x99,\\xcf\\x958\\xcf\\xa7\\xff\\x00\\xaa\\xb25;g\\x8d\\x8c\\xb8\\x05O\\\\v>\\xf5\\xbf2\\x06S\\xf4\\xebU\\xaecP\\xbb]r\\x8c98\\xad\\xe3+3&\\xb9\\x91\\xcfG\\xff\\x00\\x1eS\\x0c\\xf2\\x1d\\x0e?1P\\x9a\\xb3\\x12\\x7f\\xa2\\xde(!\\x82\\x849\\xe8~\\xf8\\x1f\\xd6\\xaa\\x12s\\xd7\\xf2\\xae\\x93\\x9cU\\xea*\\xfd\\xa9\\xf9\\xff\\x00\\xe0\\'\\xb5P\\x1dFj\\xed\\xb6|\\xd0\\x00\\xe4\\xe6\\xa6ECs\\xe8\\x8b)D\\xfae\\x94\\xa3?=\\xbcG\\x9f\\xf7\\x05`x\\xfac\\x1f\\x84fPq\\xe6M\\x12\\x1f\\xa6\\xed\\xc7\\xff\\x00A\\xad\\x9d\\x17\\x9f\\r\\xe9,@]\\xd6Q0\\x03\\xbf\\xcb\\xd7\\xf4\\xae7\\xe2M\\xf8\\xff\\x00\\x89v\\x9a\\xad\\xcf\\xcfq \\x1fM\\x89\\xff\\x00\\xb3\\x9a:\\x19\\xc5{\\xc7\\t\\x1c\\x80\\x83\\xef\\xebV\\x90\\x80\\x80z\\xf5\\xac\\xf4;\\\\\\n\\xbd\\x19\\xc1\\xc9\\xc6\\x00\\xa8\\xb1\\xd2\\x87\\xc6p\\xc5\\x8f\\xe1Na\\x93\\x9fNi\\x8c\\xcb\\xb7\\x80y\\xa5g\\xc88\\xf4\\xa4]\\x88\\xc7R;S\\xb6\\x1c\\xf08\\xc7Zr\\xe3\\x1e\\xe6\\x9c@b@4\\x05\\x86\\xa4cgO\\x9b\\xbd;iF\\xcfjT\\xe0\\x91\\xc9\\xc5\\x0f\\xd4\\x91\\xd6\\x91B(8\\xc9\\xeaz\\xe6\\xa4\\xe0ax\\xcd\\n1\\x10\\xc62G\\\\Tn\\x98l\\xe7\\xebH\\t\\x1f\\x9cw\\xefMV\\x07\\xa9\\xe9\\xfa\\xd3\\x88\\x18\\x04\\x83\\xd2\\xa3\\xc0\\x04\\x12\\x0e=\\xa8\\x19>2>\\xee)y\\xc6\\x08\\xe2\\x96#\\xc8\\xefOQ\\x9c\\xf0O\\xb68\\xa9\\x01\\xa877Lg\\xa5]\\x862\\xad\\x93\\xc9\\xed\\x9a\\x89\\x01RY\\x8ejt9<\\xe4\\x0e\\xe2\\x90\\x8b\\x08y\\xcer1\\xd3\\x15~\\xda6p\\x08P\\x07~\\xd5^\\x18T\\xae\\xec\\x80\\xbe\\xfd\\xea\\xf4R\\x12\\xbbS\\x85\\xed\\x9a\\xb8\\x93\"\\xe4H\\xa8\\xa5p8>\\xa2\\x8aX\\x86S\\x96\\x19\\xcd\\x15\\xa5\\xcc\\x8e\\x1c\\xdd\\xdc\\x83\\xd23\\xf9\\xff\\x00\\x8d\\x06\\xea\\xe3<\\xc6\\x87\\xe8M\\x05\\xa3\\'\\x93\\xcf\\xd2\\x97\\xf7l~\\xf5y\\xdav;\\x85\\x17s\\xff\\x00\\xcf5\\xff\\x00\\xbe\\xa9>\\xdb0\\x1cG\\xf9=8*\\xf1\\xc8\\xfc)\\x19x\\xc88\\xc0\\xeb\\x8aV]\\x87\\xa9\\x87\\xac\\xea2]:\\xc3\\x82\\x15z\\x8c\\xf55\\x86\\xecCu\\xfc\\xaa\\xfc\\xc5\\x0c\\xce@\\'\\x04\\xf5\\xefU\\xa5EX\\xf8\\x03>\\xbd\\xeb\\xd2\\xa7\\x14\\xa2\\x92<\\xda\\x8d\\xb9;\\x8c\\x12\\x97\\\\\\x1e\\xa3\\xf5\\xa8\\xf9\\xc94\\xe8\\x87\\xcd\\xd7\\x8ey\\x14\\xd5\\xf9\\xd1\\xc5h\\x8c\\x99kH\\x8c\\xc9\\xaaD\\x9fR\\x05l\\xea\\xb2\\xbc\\xcd\\xe4G\\xdf\\x82Mch\\xf2\\x88u\\xa8I\\xc6\\x1f+\\x9fr8\\xfdkN\\xf6q\\x0c\\xc5C\\x1d\\xdd\\xcde(\\xdef\\xd1\\x95\\xa0\\xcc\\xf9#\\xb7\\xb5R\\x0b\\xee\\x93\\x1c\\x81\\xebY\\xa5\\x8bI\\x93\\x9a\\xba\\x91=\\xcc\\x9c\\xba\\xc7\\x16\\xec\\x17l\\xe0\\x0fR@\\'\\x1fAR_\\xe9ia$jn\\xe0\\x95\\x99w\\x15\\x8a@\\xe59\\xe07n\\x9c\\xd6\\xfb#\\x0b_Q\\xf6L\"\\x96\\x02\\xbc8pCw\\xea1_Qi\\xf0D\\xb6\\xfb\\x98\\x02\\xef\\x82~\\x95\\xf3\\x87\\x85\\xb4\\x89u\\x8f\\x13\\xd9\\xda\\xc6\\x8d\\xf6x\\xdde\\x9d\\xf1\\xc2\\xa0\\xe7\\x9f\\xafJ\\xfa \\xdd\\x98\\x94\\x1d\\xa0\\x1c\\xe35\\x94\\xb7\\x1ag\\x9e|[\\xf0\\xf9\\x9a\\xce-j\\xd1\\x0b\\x1b|\\xc5p\\xa3\\x9f\\x90\\xf4?\\x81\\xfd\\rx\\xcc\\xaad\\x01\\xa3\\xe4\\xe7\\x07=\\xab\\xeaY\\x9e+\\xb8\\xda9QY\\x18\\x10U\\x86A\\x07\\xaek\\xc6\\xbcY\\xf0\\xfe\\xefGk\\x9b\\xcd\\x12\\x16\\xb9\\xb2~LH2\\xf0s\\xd3\\x1d\\xc7\\xbdT^\\x828\\x14I\"P\\xe42\\x8c\\xe1X\\xfc\\xa1\\xb1\\xe8~\\xb5v+\\xb6\\x08\\x92\\xb6D\\x910\\xc0>\\x9e\\x95\\n\\xeeT2F\\x18;>\\\\8<\\x11\\xd5q\\xd3\\xa1\\xcf#<\\nYT\\x19\\xc2m\\xce\\xe6\\xc1\\x01\\xbb\\n\\xa6\\xae\\x81;1\\xda\\xac\\x9ef\\xa4\\xc4\\x7f\\x1cc\\xa7\\xd2\\xa9\\xeeq!#\\x19\\xa9\\xef\\xa26\\xd7\\\\\\xe4\\x9c\\x00\\t\\x1e\\xd4\\xf4D1\\x06<q\\xd6\\x92Z\\x0eO[\\x90\\xac\\x80\\xb0\\xc8\\xc1\\xcf\\xe4kZ\\xc2\\x03,rK\\xd4\\xaf\\xe3Y\\xad\\x06\\xf6U\\\\`\\xf5\\xcdu\\xf6v\\xc9\\r\\xa2\"\\x8cq\\xc9=3\\xf5\\xack\\xcf\\x95\\x1bP\\x8f3\\xb9\\x8e\\xe4\\xb0\\'\\'9\\xe4\\x13U\\xc3\\x15a\\xd2\\xae\\xcc\\xbeT\\x8e\\xb8\\xc0=\\xcf\\xadP\\x93*\\xe7\\xa9\\x1fZ\\x88\\x9d,{gx\\xc0\\xc7\\xd2\\xae\\xc00\\x03\\x03\\xf3\\x0e\\xd8\\xa8\"\\x01\\x80\\xe0\\xe7\\xeb\\x9a\\xb0\\xaf\\x85\\xf5\\xc7QJLh\\x96P0NA\\x15M\\xc8#\\x8ej\\xc4\\xa0\\x90}\\x07\\xe9UN\\xe0A\\xf7\\xe7\\x15(ob\\xd5\\x94FW2g\\x88\\xc7\\xdd\\xf55}!g\\x94\\x9e\\xc7\\xb8\\xef\\xf4\\xa6Z\\xa8(<\\xa5\\xe5\\xfeR\\x07\\xf1\\x1fj\\xe9\\xf4M%.\\xaeT\\xb8\\xdd\\xb7\\x19 \\xe3\\x18\\xedS\\xbb\\xb1\\r\\xd9\\\\\\xa1\\xfd\\x834\\xb6\\xc1\\xd1N\\xf0\\xdd\\x0f|\\xff\\x00\\xf5\\xab2x$\\x81\\xf6c\\xe6\\x1d@\\xf5\\xaf[\\xfb\"\\x08\\x80e\\x18\\xfc\\xab\\x8d\\xd5\\xad\\xadl\\xaed\\x94(*\\xdc\\xe0u\\xfa\\xd5J\\x16W3\\x85K\\xbb\\x1c\\x89\\x82V\\x03\\x08\\xd8\\xef\\x93\\x8cT\\xd6d\\xa4\\x81\\xb2pA\\x1dz\\x9a\\x8e\\xf6ww,\\xa3<c\\'\\xadI\\xa7\\xa3\\xca\\x80\\x11\\x803\\x9a\\x87\\xb1\\xb7RR\\xbb\\x93\\x1d\\x8785\\tFY\\x00\\xc1\\xc8\\x1dj\\xf4py\\x80\\xa8\\xfb\\xddj\\xad\\xcco\\x1c\\xc3\\x93\\x929\\xc5-\\x86\\xc8Y7\\xc4p:)\\xa6\\xdc[\\xff\\x00\\xa3\\x85<\\xe1z\\x1f\\xd4\\x1a\\x9e\\xddIY\\x14\\x90s\\xd3\\x15jx\\xbe@1\\xf2\\x91\\x8c\\xd3l\\x83\\x81U\\xdao\\x17\\x00|\\x99\\x01\\xba\\x8c0\\xe9\\xef\\xfd=\\xaa\\xa7\\xd6\\xb5\\xe5t\\x926\\xb8@\\xbb\\x9a\\x07\\x8e@\\xc3\\xb8\\x18\\xc8\\xf7\\xc5d\\x1f\\xbd]\\xcbc\\x91\\x8b\\xdf\\xf1\\xab\\xb6\\xa3\\xf7\\xe9\\xf5\\xedTsW 8\\x99q\\xc1\\xcfS\\xda\\x868\\xee}\\x03\\xa0\\xb9o\\x07\\xe8d\\x9c\\x9f\\xb0\\xaa\\xe7\\xfd\\xd6a\\xfd+\\xcb<ep\\xd7\\x1e/\\xd4X\\x9c\\x88\\xa4XW\\xd8\"\\x85\\xfe{\\x8f\\xe3^\\x99\\xe1&\\xf3\\xbc\\x15\\xa3\\x01\\xcf\\xee\\xe4\\x8f\\xf2\\x95\\xbf\\xc6\\xbc\\x9bU\\xb8K\\xddf\\xfa\\xe63\\x94\\x96\\xe6GS\\xea\\x0bpjz\\x04\\x17\\xbe\\xcc\\xd2\\xbb\\xa4\\xe3\\xd6\\xad\\x87\\xc2\\xf3UF\\x019\\x1d:T\\xeas\\x81\\xd8w\\xa4\\xcd\\xd0\\xe0\\xf9#\\x07\\x19\\xa9\\x14\\xf1\\xdf&\\xa2\\x03\\x1b}\\xfbT\\xca\\x0e9\\xa4P\\xed\\xc0\\x1cr1\\xd0S\\xb1\\xf3c&\\xa3U\\xcf^H52\\xaf\\x00`\\x9c\\xf5\\xe6\\x91C\\x90\\x90N9\\xed\\xcfj\\\\a\\x7f\\xa5!\\xc2\\x91\\x91\\x8c\\x8f\\xca\\xa3/\\xb8u\\x19\\xcd!\\x93\\xab\\x12\\x80c\\xe9\\x8aR\\x00\\x1c\\x81\\x92\\x7f*dG\\'\\'\\x81\\x8cq\\xde\\x82\\xdb\\x80\\xc0\\xe9H\\x00\\xb6\\t\\x19\\xfc\\xa9\\x08\\xc8\\xc6i\\x11I\\xe4\\x9a\\x91b+\\x93\\xfeG\\xe1H\\x04C\\xf2\\xff\\x00*\\x94`\\xa8\\xe7\\x19\\x15\\x12)\\x1e\\xd58]\\xdf.\\x7f\\x1a\\x00\\x99\\x08\\xda9$\\x8e\\xf5j\\x16E\\xc9e$\\x91\\xc0\\xaaH6\\xb1\\x04T\\xf1\\xb1\\xdc\\x08\\xe8;\\xd2\\x134#\\x91\\x9c\\x8d\\xdd1\\x8a\\xbd\\x0e\\x0e\\x14\\x0e\\xfdEf\\xc2\\xa7\\x8c\\x91\\xd6\\xb5!f^\\x98\\xf79\\xaa\\x8924\"\\x85\\xb6\\xfd\\xd1\\xd7\\xbd\\x14\\xc8\\xdd\\xb6t\\xfdM\\x15\\xa9\\x91\\xc2\\xfc\\xdd1A\\' \\xe3\\xeb\\xcd;!\\x878\\xfci\\xc0\\x03\\xd7\\x1f\\x9dy\\x87x\\x83\\x1e\\x947\\xcc\\xa5I8<\\x1avFx\\xa4\\xf9}?Z.\\x06\\x16\\xa1d\\xb6\\xdf\\xbc\\x8d\\xf8\\'\\xa7\\xa5dO\\x0b\\x17]\\xa4\\xed5\\xd9K\\x1cs!GPG|\\xd6?\\xd8A\\x98\\xc3\\x90A\\'\\x1e\\xd5\\xd7F\\xae\\x96g-j7\\xd5\\x18\\xaa\\x8a\\x87\\x0c\\xe0\\n\\x97\\xf7K\\x06\\xe4\\x1c\\xaf\\xebL\\xbd\\xb4{w$g\\x1d\\xc7\\xa5A+2\\xdb\\xaa\\xe7\\x93\\xcdv-N\\x16\\x9az\\x90\\x96!\\xf2\\xb9\\x18\\xf9\\x81\\x1e\\xa2\\xb7\\xb5\\xd8\\xb6m\\x9c`H\\xde\\x9d\\x87z\\xc0R\\x06\\xe1\\xc0%H\\xae\\xc2\\xfe\\xdf\\xedZlNy&5$c\\xa9\\xc7\\xf8\\xe6\\xa2N\\xcd\\x17\\x05\\xcc\\x9a0!d\\x9a\\xd3c\\xb1\\xdd\\x91\\x80N\\x00\\x19\\xe6\\xa7\\xb5\\xb2\\x9fU\\xbc\\x87K\\xb5\\n\\xad$\\x80\\x13\\xfc*:d\\xd6z#\\xc5#)\\xe0zW\\xa5|.\\xb1\\x86[\\xab\\x8b\\xd9P\\x1f)GN\\xb9\\'\\x81\\x9f\\xa6\\x7f:\\xb7\\xb1\\x99\\xdbx_\\xc3\\xd6\\xfe\\x1f\\xb1\\xfb-\\xaao\\x95\\x882JG\\xcd+c\\xa9\\xf6\\xf4\\x15z\\xfa\\xfd,>i%C\\x86\\xdaK\\xb0\\n*-o^\\xb6\\xd0,^Y[\\x12\\xc8\\x08\\xca\\xf5\\xe0d\\x81\\xfc\\xb3^1\\xad\\xeb\\xf2\\xea\\xda\\x8913\\x88\\xc0\\xda\\x8b\\xe9\\xec=\\x07\\xeai(\\x81\\xec\\xaf\\xe2\\r+\\xec\\xca^DV<\\x90\\xad\\x91Vt\\xedN\\xc6\\xfc\\x7f\\xa3\\xdd!+\\xd7\\r\\x9cg\\xfaW\\x82\\x0b99w\\xb8\\xb7S\\x8d\\xc44\\xc3\\xa7\\xbe=\\xf1\\xd6\\xa6\\xd3u\\xdb\\xad&\\xef|\\x13\\x92H*\\xdbOo\\xad\\x0e!s\\xd0\\xfe\"xYZ\\xd9\\xb5{$)\"\\x10\\'D\\xe07\\xa3\\x11\\xf9\\x8c\\xfb\\xd7\\x95\\xdaD\\xcd{\\x16F\\xe3\\x9eA5\\xee\\xban\\xa7\\x0e\\xb9\\xe1\\xc8\\xeep\\nM\\x19\\x8eH\\xc9\\xce\\xc6\\xc7+\\xf4=G\\xe1^0\\x91}\\x8fX\\xf2\\xdb\\x80\\x92\\x95\\xfc;Q\\x7ftkr]r nab\\xad\\xb6L\\xafN\\x84V\\\\L\\x19\\x19=9\\xcdo\\xea\\x85.\\x19\\x9b\\xa1\\x84\\x12\\x0ez\\x93\\xc0\\xacU\\x89ac#c\\x1d\\xf1SN\\xfc\\xa5\\xd4\\xf8\\x8e\\xe7A\\xf0\\xecr\\xf8^\\xe6w\\x8f3L\\xbb\\x91\\x82\\xe4\\xa8\\xf4\\xc5U\\xb3\\x91DB<`\\xd7I\\xe1\\x0b\\x80\\xfe\\x1f\\x85_r\\x11\\x18\\x04\\x13\\xc7\\x1f\\xfdj\\xe7fU\\x87P\\x9a\\x13\\x80\\xbb\\xc9\\xc1\\x18\\xc6k\\x9e\\xb2\\xe6\\x8d\\xce\\x8a\\x0e\\xce\\xc5MB/\\x98\\xb6\\xd1\\xeb\\xf5\\xac)\\x972q\\xfa\\xd7U:\\x83\\x19\\x07v\\xdcv9\\xaej\\xea-\\xb3\\x1cs\\xcf^\\x95\\x9d\\x19tf\\xf3]E\\x8bp^\\x7f\\x02*/5\\x84\\xa0\\x13\\x8c\\xd4\\x87y\\x8c(P}\\xcdBc\\xc3\\x8d\\xdc\\xf3\\xcdlI~7>Y\\r\\xd0\\x8a\\xb1ml\\xb7\\x12d\\xe0\\x11\\xfa\\xd5T9N;\\xf21]\\x0e\\x89\\xa6\\xc9s,h\\x179>\\x9d}r}+\\x166\\xf44\\xf4\\x1d\\r\\xeed\\xc8\\xf9c\\x00) v\\xaf@\\xb1\\xd3\\xe2\\xb5\\x80$h\\x00\\x1d1L\\xd3,\\x85\\xa4+\\x12\\x8c\\x91\\xc9 u\\xad6\\x18\\\\\\x1e=\\xabh\\xc5$q\\xcenL\\xa91P8\\x00\\x0f\\\\\\xd7\\x15\\xaf\\xad\\xac\\xd22\\x02Z\\\\\\x91\\x80zWU\\xa9^\\x88 \\'\\x90\\xa7\\x8c(\\xe6\\xb8%\\xbc\\x8d\\xaee\\x979\\xcb\\x1eH\\xe8)TvV.\\x92m\\xdc\\xc3\\xbc\\xb5hc?18\\xf6\\xe9S\\xe8\\xe0\\xb2\\xef\\xc8\\x00\\xf0\\x05I\\xa8\\x11q\\x1c\\x989\\x07\\x8c\\x8a,\\x00Ku\\x03\\x8c\\x90\\x05`\\xde\\x87OSD\\'S\\xd3<\\x8cU9Av\\xeb\\xf3u\\xe6\\xac;p\\x0f\\xa5C\\x8d\\xe7\\x9e\\x84T\\x8c\\xac#\\xdb \\xc6H\\'\\xadh\\xae\\xd9\\x14\\xef\\\\g\\xbey\\xff\\x00\\xeb\\xd5\\x18cin\\xb0H8<\\x9ct\\xad8\\x91P\\xb61\\xb4\\x9cV\\x8bS\\'\\xb9\\xc3\\xea\\xbaq\\xd3\\xa7\\x93\\xcaa\\xe5J\\x18\\x81\\x93\\xc6T\\xe4W6k\\xbc\\xf14\\x0c-\\x8c\\x8b\\xce\\xc3\\xca\\xfb{\\x1a\\xe0\\xab\\xaa\\x9b\\xbcNy+1q\\xcd\\\\\\x87\\x1b\\xd7\\xae*\\x9ej\\xe4?}j\\xd8Gs\\xd8\\xb4}@\\xd8\\xfc(k\\x94m\\xb2A\\x15\\xca\\xa1\\xc7Fg\\xc2\\xfe\\xae+\\xccA\\xd8\\n\\x8e\\x14p>\\x9d\\xab\\xa4\\xb8\\xd4\\n|<\\xb6\\xb2S\\xcc\\x9a\\x93\\x96\\xe7\\xf8U\\x15\\xfa\\x7f\\xbc\\xcb\\xf9W4\\xdf2\\x8fn\\xb5\\x1d\\x0b\\x8a\\xb3d|\\x11\\xc1\\xa9\\xd3 \\x8fC\\xd6\\xa1T$\\xfb\\x8a\\x94\\x0e\\x00\\xc8\\xa1\\x9a\"bA\\x01\\xbbv\\xa9\\xb3\\x91\\x93P.8\\xc8\\xe3\\xb5K\\x9e0N\\x07\\xd2\\xa4\\xb1\\xc3\\x8c\\x93\\xf9\\x8a\\x92&b\\xa3#\\x19\\xefP\\xec%x z\\xd4\\xad\\'\\x18\\xc0\\xa4\\xc6$\\xd2|\\xdby\\xe3\\x8c\\xd2\\xae1\\xd3\\xd2\\xa2\\xce[\\x90)\\xd9\\xe3 \\x1e\\xb4\\x00\\xe2\\xe7\\x9e{\\xfe\\x95,`m=\\xa9T\\x85@@\\x04\\xfd)H\\xc3\\xfe\\xbdz\\xd2\\xb8\\xc7|\\xa3\\xb6N:\\x8a\\x7f\\x96p9\\xc6E3hQ\\x923K\\xb9X\\xf4\\xc9\\xc7\\xa5&\\x03\\x1c\\x95\\'\\x1c\\xb7\\xd6\\xa5\\r\\x85\\xe7\\x1fZ\\x8c\\x90O8\\xa9\\x80,\\x02\\xf5\\xc7Q@\\x0eG$s\\xd0T\\xcb\\x92\\xdf(\\xcdF\\xb1\\x10pA\\xe7\\xbf\\xa5ZB##\\x1di\\x08\\x96\\x1d\\xca\\xc3q8\\xf4\\x02\\xb4a\\x95q\\xc4lq\\xebTL\\xbf0!\\xb0z\\xd6\\x85\\xa8}\\xbeb\\xa9\\xdb\\xcf\\xce\\xe3\\x00~&\\xae,\\x89\\x17\\xe1\\x94\\x04\\xe6\"y\\xeeh\\xaa\\xa7X\\x862PO\\t\\xc7R2\\x7f\\x95\\x15\\xa5\\xcc\\xac\\xce8\\x108\\xcf4\\x16\\x04\\xf5?ANX\\xf7\\x1e\\xd4\\xe3\\t\\x1d\\t\\xaf6\\xe7\\xa3b-\\xc4\\x1cf\\x8d\\xc4\\xf4?\\xadI\\xe5\\xb1\\xeb\\xcf\\xe0)|\\x8fQ\\xfaQt\\x16\"yJ\\xa1=\\xfbsQ\\xdbe\\xe7%@<c\\xa7\\xad>\\xe6\\x0c\\xc0\\xdbCds\\xc0\\xa8\\xac\\xa5\\xdc7\\xb1\\xe4p\\xaa:\\x01\\xde\\xb4\\x8f\\xc3s:\\x9b\\x91^\\xdbG\\x99\\x15\\x93\\x8d\\xa7#\\x1f\\xe7\\xd4W?$\\r,(1\\x82\\xbf)\\xae\\x8e\\xe3!\\xf7q\\x86\\x18\\xf4\\x06\\xa8\\xb5\\xa1\\x91\\xd9\\xad\\xf2\\x1c\\xf0@\\\\\\x83]tge\\xa9\\xc7Z\\r\\xea\\x8c\\xe4\\xb1\\x8ftBF!K.\\xef`k\\xaf\\xd2\\xa3[\\x8d9U\\xd4+FY\\x18\\x1epA5\\xcc\\x7fg\\xeafV+o\\xe6\\x0f\\xef\\x13\\x8f\\xe7]\\x15\\x91\\x93O\\x89\\x1aO\\x9c\\x15_7\\x03\\xa1\\xf5\\xfav\\xa2\\xb4\\x93Z2h\\xc5\\xa7\\xa9\\xcfj\\x90\\xac7O\\xf2\\xe0n\\xc0\\xff\\x00>\\xb5\\xda\\xfc3\\xd4\\x165\\xb8\\xb4\\xc7\\xcc\\xc1d\\x07\\xe8q\\x8f\\xd75\\xc8j\\xe5%\\xbavR\\n\\x9eA\\xf4\\xab\\x9e\\x0b\\xb8k}v\\xd4\\x03\\xc4\\x84\\xc7\\xd7\\xd4\\x7f\\x88\\x15\\xac]\\xe2e5i\\x1d_\\xc4\\xb8\\xe4i,\\xb2\\xf9\\x8c\\xc6\\xe7\\xcb=\\xd8\\x1c\\xe7\\xf25\\xe6%\\x15P\\x97\\x19S\\xd0\\xe6\\xbd\\xd7^\\xd2\\x97S\\xb5\\xb6\\x91\\xce\\xc3\\x01,\\xa7nI\\xff\\x00g\\xf1\\xaf&\\xd4\"\\x16\\xf7na\\x8c\\xc4C\\x1d\\x9cv\\xcfO\\xe7\\xf9U\\xadQ70c;Q\\x83\\x0eq\\xc78\\xc75<\\n$XSa\\x08\\\\\\x07ePX\\x9e\\xf8\\xfc;z\\xd5\\xb1\\x1a\\xbc\\xadpa\\xd8\\xc5\\x97\\x80A\\x00\\x1c\\x82\\x7f\\x97\\x18\\xe7\\xda\\xa4\\xb6\\x8b}\\xc4)\\xb1\\x14\\x05\\xda\\x87?\\xc4GSLG\\xa6\\xf86\\xc9\\xa0\\xd2.\\xf0N\\\\)\\xc1\\xf6\\xc8\\xfc{W\\x17\\xe2K%\\x83[\\x91\\x97\\x8f1RA\\x9fq\\xd7?\\\\\\xd7_\\xf0\\xf9\\xa6\\x11]E.I!N[\\xafC\\x81\\xfe}k+\\xc71\\xac3\\xc2\\xa0e\\xd5J\\xa9\\x1dq\\xbb#\\xf45\\x99Ks\\x95\\xba\\xb3\\xbc\\xbaa%\\xb8GV<\\xab60G\\x1f\\xca\\x9d\\x06\\x83<J$\\xbaq\\xb8\\xf3\\xb3\\xb0\\xad\\xbb\\x05H\\xe0\\xdb!R\\x07<\\xfav\\xa9\\x1eY<\\xc1\\x1c3\\tQ\\x8f\\x11\\x90\\x19\\x87\\xf5\\xaegVV\\xb2:\\xbd\\x9a\\xbd\\xd9\\xd1\\xf8q\\xf3\\xa5\\xb2\\x18\\xcf\\xca1\\x9d\\xbc~\\x07\\xfaW-v\\xf9\\xd5&\\xcc`\\xa98\\xe4\\xf3\\xc7\\xbf\\xa5w\\xbam\\x83\\xc3\\xa50\\x9e7R\\xcb\\x9f\\x99v\\x1f\\xe7\\\\-\\xea\\x08\\xf5gIU\\xb0\\t#p\\x19\\xfci\\xcbH\\x05&\\x9c\\xd92\\x00\\xc8\\x08\\xdd\\xed\\xf3Vn\\xa3\\x10)\\x9d\\x98>\\xbb\\xebAB\\xed ~\\x15B\\xf46\\xc3\\x86|t\\xc6k\\x9e:H\\xe9{\\x19.@+\\xd4\\x8e\\xfc\\xf3R\\xb2\\x16\\x91J\\xf2\\xbdy\\xa8\\xceK\\xfc\\xa7\\x075y\\x10,#w\\xe9[\\xc9\\xd8\\x84K\\xa6Y5\\xd4\\xf1\\xa0\\xc1\\xc0\\xe7=\\xab\\xd34;\\x11\\x02\\x02\\x13\\x03\\x19&\\xb9O\\x0bZd4\\xee0\\xa7\\x83\\xfe\\xd7z\\xee\\xad\\xb2\\xca\\x14\\xe4\\x02s\\x8fZt\\xd5\\xf59\\xea\\xcb\\xa25\\xed\\xd7a2\\x122G\\x18=)\\xb7\\x12\\xedls\\x8fznD1\\x80:\\xf79\\xaaRK\\xb9\\xc9\\xc6y\\xf4\\xe9Z\\xb3\\x02\\x8e\\xb0\\x86\\xe2\\xd9\\x86F\\xe3\\xc0\\xcfj\\xe0\\xeeax\\xe5`\\xc0\\x8e\\xbdGP=+\\xbc\\xbdB\\xc8p\\xc4\\xb1\\xef\\\\-\\xee\\xff\\x00\\xb57;\\x80<6k\\x1a\\x8b\\xa9\\xd1I\\xf4\\x1b\\xf6p\\xb6\\xb9\\x07\\xa2\\x92A\\xf5\\xa5UX`\\x8d2:\\x0c\\xf1\\xfe}\\xe9\\xa6L/\\x96\\xb99\\xe0\\x0f^\\xdf\\xd6\\xa9\\xdc\\xcf\\xe6H\\xe26\\xca/\\x03\\x1e\\xdcV\\x16\\xb9\\xb9fK\\xa0\\\\\\xa2u\\xf554?\\xeaH|s\\xd4VU\\xb0\\r6X\\x13\\xdc\\x7f\\xf5\\xebP\\xb6\\xe3\\xc6\\xefaCV\\x0b\\x92A\\xd4\\x91\\xd7\\xd7\\x15m0P\\x858\\xc7\\xf9\\x14\\xc8b\\n\\xb8\\xe0\\x93\\xd7=(pS;G=2?\\xad\\\\v3{\\x945e\\xf3m$RJ\\x9cp\\x7f\\xbb\\xff\\x00\\xd6\\xed\\xf8\\xd7\\x9b\\xcb\\xc4\\xcd\\x81\\x8ezW\\xa2^\\x02\\xd18\\xc6\\x18r\\xa2\\xb8}V\\xd7\\xec\\xd7[\\xd0\\x10\\x92|\\xc3\\xd8\\xf7\\xad\\xa8\\xbe\\x86U\\x17R\\x89\\xabp7\\n}ET\\xec*\\xd4\\x1fuy\\xfc\\xabvf\\xb77$\\x9b}\\xb4Q\\x1e\\x89\\x96\\xe9\\xdd\\x82\\xff\\x00\\xf1\"\\xaa\\x8c\\x82}*Ve\\xf2\\xd0\\x03\\xd1@?\\x95G\\xce\\xcc\\xe3\\xbf\\xe7Y\\xa3rD\\x19\\xe4\\n\\x93\\xca\\xdc7g\\xa7j\\x8a.\\x061\\xd4\\xf5\\xab,>@GZ\\x19I\\x11\\x87\\xc7\\xe0*El\\xe3\\xa5D\\xe7\\x9e?Z#|0\\x02\\x81\\x93\\xab\\r\\xdc\\x9e=)C\\x065\\t`}\\x8f\\xb59\\t\\xdb\\xedH\\xa2@\\x01\\x1c\\x8e\\xb54j\\x02\\x92:\\xd4X\\xc2\\x03\\xd7\\xda\\xa5\\x88\\x1f\\xf3\\xda\\xa5\\x8cNU\\xfd)\\xe0\\xb6\\xf1\\xf2\\xf1\\x8eqC)f\\xdb\\xed\\xc1\\xa7\\xa8\\xce=W\\x83\\x8a@<\\x90\\xe9\\x82\\xa5j,\\xed<\\x01\\x8a\\x18\\x9c\\x9ei\\x08\\xc8\\xce8\\xfaP\\x04\\xc3\\xe7\\xc1\\xe9\\xe8*\\xc2\\x15\\x0b\\xd3\\x921\\x9a\\xab\\x1e8\\xe2\\xac\\xa2\\x92\\x078\\x15,\\tAbp\\x0f\\xd7\\x15e-K\\x8d\\xc7\\xa63U\\xc0\\x0b\\x8c\\x0c\\xb5NZS\\x8ct\\xa6\\x81\\x96#\\x88F\\x0e\\n\\xc6W\\xbe2j\\xcf\\xd9\\x12\\xed\\xd5Hy\\xdb\\x1des\\x8f\\x7f\\xa56\\xd7N3\\x80\\xf3\\xca#Q\\xcf\\x00\\x93\\xf4\\xab\\x0fv\\x96\\xc1\\xa1\\xb3\\x81\\x99\\xc8\\xc3<\\x8d\\x9c\\xfd\\x06*\\xd2\\xd3S6\\xfb\\x19\\xcd-\\xacLc\\xfb:>\\xde2\\xa81\\xf8d\\xe6\\x8aWK\\xb6bK*\\x9fL\\x01EM\\xc7c\\x01/a\\x07\\xee\\xb0\\xfc\\x05H\\xb7\\xb1z7\\xe4+\\x18\\x13\\x9ap$w\\xac\\xfe\\xaf\\x12\\xfd\\xbb\\xecl\\x8b\\xb8}\\x1b\\xf2\\xff\\x00\\xeb\\xd1\\xf6\\xb8\\x07\\xf7\\x87\\xfc\\x06\\xb1\\xf7d\\xf2is\\x8e\\xf4\\xbe\\xae\\xbb\\x8f\\xeb\\rt6~\\xd7l\\xc0\\x8c\\xf6\\xee\\xa6\\xb3\\xe2]\\xd2\\xccP\\xfc\\x80\\xf1\\x81\\xc5V-\\x81\\xf7\\xb1\\xf45\\x11\\xb8\\x9a?\\xbb)\\xc7`@4\\xe3F\\xdb\\nu\\x94\\x8b\\x8c\\x01$\\x90wt\\x19\\xedQ+\\xb4N9;O\\xa0\\xaa\\xc7P\\x90\\xb7\\xcc\\x8a}\\xc1\"\\x91o\\x13vH\\xc7\\xd4V\\x8a\\r\\x19\\xf3\\xa3\\xa4\\xb1q \\xcb\\x94T\\x1f\\xadI.\\x14\\x9cr\\x1b\\xa6G\\x02\\xb2\\xac\\xee\\xb7\\x1f\\x96u8\\xec\\xb8\\xe2\\xaf\\x96\\xca\\xe4#\\x00:\\x93\\xc9\\xac\\x9a\\xd4\\xb4\\xcc\\rV\\xd8A\\xb6d\\x07\\xcb?yOj\\x8fB\\xb8\\x10kV\\x0c\\xa0|\\xb7i\\xcbz\\x16\\x1c\\xfeF\\xb5\\x99\\x16\\xeaC\\x08\\x8d\\xc6r7\\x9f\\xf0\\xac\\x1b\\xcbG\\xd35\\x11\\x10$\\x9e\\x1e6#\\x18>\\xbf\\x81\\xae\\x8aS\\xba\\xe5g5hks\\xe8)\\x127\\xb5tu\\xc8\\xc7\\xdd\\x1d\\xf1\\xff\\x00\\xea\\xaf\\x1a\\xf1(+\\xaa\\xce\\xa5FU\\xd8\\x928\\xcf9\\xcf\\xeb^\\x93\\xa7k\\x96\\xd7v\\xd6\\xad\\xe7.\\xe9\\xe2\\xde\\xaa\\xc4\\r\\xde\\xbf\\x889\\xfaW\\x17\\xe2\\x9b\"\\xd3\\xcd2\\xb2\\x9d\\xecH?\\xe7\\xeb\\xd2\\xb7\\x86\\xc79\\xc7\\x96\\xdc\\x15\\n\\x8c\\x83\\x9aX\\x9c\\xb4\\xa1\\x97\\x86\\x07\\x8f\\\\\\xd5\\xdd3O\\x8e\\xecy\\xd7\\x12\\xb2\\xc4\\xf2yxP\\x01?\\x8fjMSK\\xfe\\xcch\\xe4YZX\\x8e\\x15\\xb2\\x00!\\xbb\\x0e=\\x87\\xe7L\\x0fA\\xd0\\xa5\\xb8K\\x8d8\\xc2\\x84\\xc71o4\\x9e3\\xc7_\\xce\\xa3\\xf1\\xcc;\\x9e\\xda\\xe4\\x01\\x85\\x7f)\\x81\\x03\\xfb\\xb9\\x07=G\\xe7S\\xf8R\\xfb\\xed\\x1ab\\xca\\x14\\x1d\\x80( \\xfd\\xec\\xd6\\x8e\\xae\\x82kh\\x91\\xcb\\x13#\\x9d\\xcc=H5\\x9c\\xca\\x86\\xfa\\x9c$\\x0e\\xb1+mW;\\xba\\x83\\xcf\\xf4\\xad\\xff\\x00\\r\\xe8\\xd2\\\\\\xdc\\x0b\\x80\\x14 =\\n\\x9a[?\\x0e\\xee\\xb8\\xdcQTt$d~\\x82\\xbb\\xfb\\x1d=l\\xadB.\\xe2q\\xceNk\\x9e0w\\xd4\\xe8\\xa9U[B\\x1b\\xa9\\x04\\x16,N6\\xaa\\xf2\\x1c\\x9c\\x0f\\xc7\\xb5yv\\xa6\\x15\\xb5\\x00\\xc3\\xe6\\x8c\\xb1\\xc0=\\x8dz>\\xb2\\xe3\\xec\\xcf\\x92s\\x8e\\x08\\xe0\\xd7\\x9a\\xeaeAV\\'$7B:\\xd3\\xac\\xf4\\xb0a\\xd6\\xec\\x1fj\\x8f\\x9aC\\xf4\\x1c\\xe2\\xaa\\\\\\xca\\x8b\\x1eCn=\\xb2qV\\x94\\x96\\x85x\\x00\\x1e\\x80\\x1e\\xb5J\\xf8\\xec\\x89\\xb3\\x8c\\x9fS\\xd6\\xb9\\xe2\\xae\\xce\\xa7\\xb1N$\\x0c\\xccO>\\xd5z\\xda\\x13uz\\x90)\\x1c\\xe0d\\xf6\\xaa1\\x9f* \\xe3\\xabq\\xc5u~\\x1c\\xd3Lp\\x1b\\x999g=\\xfd3[(\\xf3;\\x19N\\\\\\xa8\\xd8\\xb7Ae\\x1cV\\xeayS\\x82@\\xeb\\xc7?\\xadt\\xd6\\x8d\\x88\\xc1\\x0c\\xbf_\\xf0\\xaera\\xb6`C!\\xfa\\x9e\\x95\\xb5a0\\xd8\\xb9# t\\x1d+\\xa2\\xc9\\x1co\\xb9\\xa4\\xef\\x9e\\x0f\\'\\xb8\\xa7$l\\xcb\\x80q\\x9fz\\xaed\\x04\\xe4\\x1f\\xca\\x9a\\xd2<\\xec\\x15x\\x8d~\\xf1\\xa9\\xb8\"Y`\\x8eKvI\\x00\\x00\\xe5z\\xf0Oj\\xe3\\xeem\\xa2\\x0e\\xd1\\xc9\\x16\\xce8$g\\x1f\\xe7\\xd6\\xba\\xf5!\\xae\\x16&9\\\\d\\x0e\\xb5JM\\too\\xc1B#\\x03\\xaf<R\\x92\\xba\\xd0\\xb84\\x9e\\xa7\\x9f]f\\x04\\x01A\\x0c\\xaf\\x80Eg\\x0c\\x05\\xc6\\xec\\x00+{Z\\xb6kyLm\\xce\\xd7\\xc0\\xf4\\xac\\x82\\x81z\\x8e\\x9d\\x8dsu:\\xd6\\xc2@>pG\\x7f\\xd2\\xb5a\\x8b#v\\xf2\\x07\\xbf5F\\xda3$\\x9dp\\x0fsZ\\x98X\\xd3\\xe6\\xfb\\xc7\\xa0\\x1di\\x03c\\xc1\\xf9~\\x9cS$f\\xc1\\xce\\x1b\\x1f\\x9d&\\xe9B\\xf5\\xc2\\xd2\\x0c\\xb8!\\xfa\\x8e\\xe7\\x9ei\\xde\\xc8\\x8b]\\x94\\xae\\x19&\\x8c\\xa8\\xc8a\\xc8\\x07\\xb8\\xac\\x1dF\\x08\\xe6\\xb4uq\\x90\\x01`q\\x82\\xa4t5\\xd1\\xca\\xab\\x82q\\xf3\\x0e\\x86\\xb2n\\xed\\xbc\\xc8^5;w\\x82\\x14\\x9e\\xc6\\x9c^\\xa0\\xd6\\x87\\x0e>\\xefZ\\xb1\\x07!q\\x92j\\xb9]\\xac\\xca\\xdc\\x10H {U\\xab\\x15\\xdd*/l\\xf3\\xf8s]\\xafc\\x9a;\\x9al8\\x0b\\xe9\\xd6\\x97\\xaa\\x80OCI\\x9c\\xee\\'\\xb8\\xe2\\x868\\xc0\\xf4\\xa87D\\xc9\\x9cg\\x1d\\xeaB\\xfc\\x95\\xef\\x8f\\xd2\\xa1\\x8c\\x8d\\xc3&\\x979\\x93\\x1e\\x95%\\x8ef\\xc0\\xfet\\xd4\\xceE\\x0cy\\xe2\\x92<\\x83\\x90:\\x1e\\x94\\xc0\\x99T\\x03\\xcd8m\\xc6:Rr\\x07\\x1d})\\xc4\\x8c\\xe4\\x9eqRQ&8\\x19=\\xaaX\\xd8\\xee=\\xf1P\\xe7\\'\\xe9\\xe9J\\xbc\\x13\\x96\\xc6h\\x19a\\x0e\\\\sK\\xc6\\xe6\\xc19\\xc5$$m\\x04\\xf4\\xa6\\x07!\\xce\\x06\\x07\\xad@\\x0eE\\xc0%\\xb0M\\x1f{\\xbe=)\\x1c\\x12r\\x01\\xcd.\\xce\\x01<S\\x02X\\x97#\\x1c\\xd4\\xc8\\xd8\\xc9\\xec*\\x08\\xd5\\x94\\xed\\xf5\\xedS\\xaa\\x86a\\xec=*@\\xb3\\x16\\t$\\x9c\\x91\\xefV!\\xc3\\xb0\\x19\\xe7<T(\\xa7\\xee\\xf4\\x18\\xebS h\\x9f1\\xa8>\\xed\\xd2\\x9a\\x137 \\xb8h\\xed\\xd65]\\xcf\\xfc+\\x8e\\xde\\xe2\\xaa\\xddl\\x19\\xfbM\\xda+g>T_1\\xfcH\\xe0~uU\\x80\\x90bk\\xa79\\xea\\x91.\\x05>\\x0bx\\xc2\\xb2\\xc3l\\xb8\\x1f\\xc7#t\\x1fJ\\xd1\\xca\\xe4(\\xd8\\x16H\\xf1\\xf2\\xc0\\xae=_\\xad\\x14\\xad9F\\xdb\\xfb\\xc6\\xc7u*\\xa2\\x8a\\x8d\\n\\xb9\\xc1\\x103\\xd6\\x93\\x8e\\xbd\\xea\\xbcr7L\\xfeu:\\xe0\\x8e\\xb5\\xa9\\x8d\\xc5\\xdc:\\nQ\\xc9\\xa3\\x02\\x80\\xa7\\xb5\\x01aI\\xc7qQ\\xb0\\x07\\xb94\\xfd\\xa4}}\\x05\\x07\\x1e\\x9f\\\\\\x9aAb\\xab\\xa0\\xa6l\\xf6\\xfdj\\xdeH<\\x0f\\xd35\\x13\\xe4\\xf5\\xdc\\x7f\\x1aab \\x839+\\x83\\xea*\\xfd\\xb6\\xa7=\\xb1\\x1b\\x94J\\xbf\\xddbA\\xfc\\x0f\\xff\\x00X\\xd54D#\\xe6\\x07\\xeb\\x9aq\\x1f/\\xdd\\x03\\xeai5}\\xc1\\x1d.\\x97,:\\x95\\xd0\\x16\\xecD\\xddD.@a\\xeb\\x8f_\\xc2\\x99\\xe3{\\x08\\xa3\\xb0\\xb5\\xbbA\\x89\\xd5\\xf63\\x03\\xc6\\x0f\\xff\\x00^\\xb9\\x96\\x8b<\\xe4\\x02\\x0eG\\xcd\\xd0\\xfa\\xd6\\xed\\xae\\xbe\\xf3\\xe9\\x92\\xe9\\x9a\\xbcMun\\xff\\x00vt\\xc1\\x95\\x0fA\\x91\\xfc@v\\xe8~\\xb4\\xa3\\x04\\x9f2\\x14\\xdc\\x9a\\xb1\\xa9\\xe1X\\xe2\\xd4\\xb4DW\\xc2Oi?\\x99\\x19\\xdb\\xd1x\\xe3\\xdc\\x1c~t\\xef\\x14\\xdb\\xdd}\\x8ak\\xc4E6\\xea\\xbb\\xa5a*\\xaf#\\x8e\\x99\\xc98\\x1d\\xaa\\r\\x1a\\xd2\\xefLV\\xb8\\xd3f\\x8bP\\x81\\xb0\\x9b\\x10\\xedu\\x1f\\x8f\\x19\\xf68\\xa9.4+\\xbd[T\\x8c_A$6\\x85\\xbc\\xc6\\xdc~\\xff\\x00\\xae:\\xf6\\x00f\\xb5RH\\xc1-u,\\xe9\\x1a\\x03\\xdbYZ\\xa4\\xaa\\x19\\xcc\\x01\\x9a3\\xf7F\\xe1\\x93\\xdf\\xaf5CR\\xd3\\x9a;)\\xed%\\x97r\\xb2~\\xe0\\x80I\\x0c\\x0eG\\x7fn\\xb5\\xd9K\\x17\\x9b:\\xca\\x99\\x01\\xd4 \\x0b\\xf7F8<}1\\xed\\xc5F\\xb0\\xf93\\x9f4c\\'\\xe5\\x0b\\xf7\\xc9\\xf4\\x07\\xb0\\xfe\\x99\\xac\\x94\\xb5*\\xda\\x19\\xde\\x10\\xf2b\\xf0\\xfd\\xbbym\\x0b\\xb9>aby\\xc1 r{c?\\xadl\\tN\\xa9w\\x14v\\xc0\\x88\\x83n\\xf3\\x0fC\\xf4\\xa8\\'\\xd34\\xa7\\x98Nm\\x95\\xa6=\\x15X\\x85$\\x7f\\xb3\\xd2\\xba-2\\xd3b)\\xc0\\x04\\x1ep;v\\xaan\\xe2~E\\xbbk?\\xb3\\xdbl\\x18\\xce@$\\n\\xb3,\\xa0\\x05\\x19`\\xdd\\x88\\xa6\\x19B\\xcb\\xc6\\x06\\xd1\\xc8\\x1e\\xff\\x00\\xe4\\xd4\\x12?\\x9b\\xd5\\x80\\xdb\\xd0\\xd3D\\xd8\\xc8\\xd6X\\x88d\\r\\xfcX\\x19\\xc6+\\x81\\xd4\\xa3%OS\\x83\\xc8\\xae\\xd3\\\\\\x95\\xdd\\xb6o\\x0c\\xbe\\xfd\\xab\\x8c\\xd5\\x0b!m\\xd88<f\\xb9\\xaa\\xbb\\xca\\xc7e\\x15h\\x90E\\xb9`\\\\\\x11\\xcfb+?Sl\\x15^\\x00\\xef\\x8e\\ri\\x00\\xa2!\\x82\\x19\\x8f<v\\xaci\\xade\\xbd\\xb9u\\nQG@OZPWe\\xc9\\xd9\\x16t\\xabF\\xd4/\\xa3\\xb6\\x19\\x11\\xe0\\x96>\\x80\\x0eO\\xf9\\xf5\\xaf@\\x88\"\\xdb\\x84\\x1c*\\xf4\\x1d3\\xfeEf\\xe8\\x1arip f\\x0f,\\xab\\x96>\\x9d\\xf0?*\\xb6\\xe8\\xe5\\x8a\\xa7@\\xc7\\x07\\xd4v\\xae\\x88\\xab\\x1c\\xd3\\x973\\x15\\xe5\\x19\\xdc\\x03q\\x9eA\\xab\\xb6sf\\x1d\\xc0\\xe5A\\xc6Oz\\xa6\\xe0\\x84`T\\x02W\\x1fJ[3%\\xb4;f\\xc8W\\x01\\x94\\xff\\x00J\\xa7\\xb1\\x0c\\xdb\\x884\\x85K1#\\xda\\xb4\\xad\\xa0VN\\x08\\x1e\\x9c\\xf3Y\\xd6\\x92\\x03\\x18\\x0b\\xcex8=+^\\x15\\xd9\\xd8\\x0e88\\xebP\\x81\\x90\\xdc@P\\xa4\\xb1\\x80\\x1c\\x11\\xdb\\xadZ\\xb7s\\x13\\x96\\xcf\\xde\\xa1v\\xbc\\xa8\\t\\x04c\\xb8\\xa5@\\xab!\\xc8\\xc0\\xaa%\\x98\\xba\\xee\\x89\\x15\\xf0\\xdd\\xb7i9<W\\x9f\\\\\\xc4\\xd1N\\xc8\\xd1\\x91\\x8e\\x08#\\xa9\\xafV\\xbb\\x91Yx?^?\\xadq\\x9a\\xf4 \\xddG \\xc0\\xecx\\xeak\\x1a\\xb0\\xeatR\\x9fFbCnvn|\\x03\\xebH\\n\\xa3\\x00\\xa3\\x1e\\xa7<\\x93V[\\x1c\\x82rz\\x05\\x1d\\xfd\\xfd\\xaa\\xaa#\\xcb6@$g\\x19\\xdb\\xd6\\xb3H\\xd5\\xb2\\xcb\\x1f3\\x86\\xe1\\xc79\\x1d\\xfe\\xb4\\xbc\\x80\\xa4t>\\xf5a-\\x8ar\\xc8r\\x07R)\\xae\\x83p\\x05\\xe3_vp\\xbf\\xcc\\xd2w\\x12\\xb1T\\xc6X\\x93\\xd4f\\xa2k5h\\xdbp\\xcf^+iV\\xc1Sk\\xdf\\xd9\\x83\\x8e\\xf7\\t\\xff\\x00\\xc5U[\\x99,YH\\x8fQ\\xb3\\r\\xd7w\\xda\\x13\\x8f\\xd7\\xa55N[\\x83\\x9a\\xd8\\xf2\\xedj\\xd4\\xda\\xear\\x02x\\x7f\\x9c\\x1f\\xad7N#\\xcd\\xe7\\xb2\\xb6?*\\xe8u;[;\\xfb\\xa0\\x15\\x9eHS\\xa3\\xe3ns\\xd7\\x03\\xd35\\x9b=\\x9cvR\\x93\\x03\\x0f-\\xd7\\x00\\x16\\xc9\\x07\\xbf_Z\\xea\\x8b\\xd2\\xcc\\xc5\\xc5\\xde\\xeb`\\xc8\\xdeOn\\xf4\\x80\\xee=\\x06E l\\x9d\\xc7\\x80i\\x06C\\x83A\\xa2\\'\\'h\\xc8\\x14\\xa0\\xf3\\x96\\xebHH c\\x8e:R\\x13\\xd3\\x07\\xda\\x91c\\xd0\\x86~\\x99\\xcd*\\xe1IRj5\\x90\\x01\\xc7\\x06\\x80\\xdb\\x9b4\\x0c\\xb0\\xa4c\\'\\xe9\\x8aG\\xc9\\nz\\n`a\\x96=\\xf1H\\xcf\\xc6\\t\\xfaR\\x02A(@\\xa3\\x03\\'\\xde\\xac)\\x04\\xf1\\xcf\\x1cU\\x15;\\x98\\xe7\\xa9\\xa9\\x91\\x99\\x7f\\nM\\r\\x13\\xb3\\x90\\xa5G\\x02\\x91\\x1c\\xa9\\xe4~4\\xe0\\x0b\\x01\\xf4\\xe9\\x8aR\\xa38\\xc0$qHd\\xf1bE<\\x9fQR\\xe3r\\x0229\\xa8!q\\x92\\xa4\\x0c\\xe3\\x93Vw(M\\xa3\\xaf\\xd7\\xa5C\\x020\\x84>\\xe1\\x9f\\xa5Y\\x89\\xb7g\\x1c\\x91\\xdf\\xa5B\\x08\\\\\\x96=)\\xdb\\x80\\xe7\\xfaP\\x06\\x80\\x9f\\xc9^0x\\xf4\\xa4\\x8c\\xf9\\x84\\x16c\\x81\\xda\\xa9\\xa1%\\xbeb~\\x9d+F \\xbc`~T\\x01r\\xd6\\xdb\\xce\\x9dx\\x18\\xcf\\xd75\\xb15\\xba\\xa4[\\x06v\\x8e\\x019\\xaa\\xb6\\'nr\\xd8\\\\rq\\xd6\\xb5$Pb!\\x81T \\x1c\\x81\\x82?Z\\xda+C\\x19=L\\x07\\x8dC\\x9d\\xa8\\xa4{\\x8c\\xd1V\\x18\\xa8b\\x11K.x\\xc5\\x15:\\x14\\x9b<\\xac\\x00)\\xe8\\xf85\\x118\\xa7\\xaf\\x1c\\xe35fe\\xb5l\\x8e\\xb8\\xf6\\xa7\\x03\\xceG_z\\xaa\\xbc\\x1c\\xff\\x00:\\x91_q\\xe0\\x9c{\\xd0Q?\\x1e\\xbf\\x85!#\\xb6\\x7f\\n\\x17\\x91\\xda\\x9d\\x8c\\x8e\\xbf\\x95!\\x110\\xe3\\xa7\\xe7L%\\xc1\\x1bN1S\\xed\\x1d:\\xd3J\\x121\\x9c~\\x14\\x05\\x8a\\xbbI\\'$\\x93\\xdf\\xde\\x94\\x00:\\xfe\\xb59\\x88\\x01\\xd2\\x9e\\xb1\\xfbS\\xb8\\xecV\\x0b\\x9f\\xa5X\\x86<\\x1eG\\x1e\\xf5 \\x84\\xb7\\x0b\\x9c\\x8e\\xc2\\x8c2\\x8e0\\x7fZW\\x0eRt\\xb8\\x92\\xd2O6\\tLrc\\x1b\\x94\\xf5\\x1e\\x87\\xb1\\x1fZ\\xdc\\xb1\\xf17\\x9f\\x02\\xc5q!\\x8e\\xe9O\\x0eFc|\\xf1\\xff\\x00\\x01\\xcf\\x1ct\\xf4=\\xab\\x97w\\xcf\\x04q@UnGJ4%\\xc2\\xe7\\xa9\\xa6\\xa5\\x12\\xc5\\x1c\\x8b\\xf36\\xdc\\x90\\x069\\xee?:\\x87\\x12\\xdc\\xddo\\x18\\xc9\\x18\\x0b\\xdcg\\xaf\\xf2\\xae;G\\xd5\\xbe\\xccD\\x17-\\x98N\\x02\\xbeNc\\xff\\x00\\x15\\xfeU\\xdd[\\xba\\xacJ\\xc8\\xdec\\xb2\\xf0\\xc0\\xe4s\\xe9\\xf8R1\\x92i\\x93[[\\xa5\\xb4\\x83~\\x1d\\xc7rkK\\xed\\xcb\\x1a\\xedL\\x9c\\x0e}+9U\\xd8m_\\xbcOz\\xd1\\xb2\\xd3\\x19\\xc2\\xb33n# \\x1e2=\\xfd(\\xdd\\xe8-\\x10\\xf8c\\xb8\\xb9\\x06N6\\x91\\x91\\x93\\xfc\\xaaG\\x89\\xe3\\x8bi\\x89\\\\\\xe3\\xa89\\xe2\\xa5H\\x8e\\xf3\\xfb\\xb3\\x1e\\x07\\x1b\\x0e8\\xfa~\\x06\\x92\\xf28\\xe2\\xb5.\\x8eX\\xe39-\\xfeqW\\x15bovr\\xfa\\x87\\xccX\\x9eps\\x8fJ\\xe4uf-\"\\xa21l\\x9e9\\xcdu\\xd7\\xad\\xe6\\xe4:\\x9fM\\xcc3\\xfa\\xd7#\\xaan\\xfbN\\x06F\\xd09\\xaeI|W;\\xe1\\xb5\\x88_\\x7f\\x92\"\\xd8W\\x8e2\\xbdk[H\\xb0\\x89\\xed\\xd8!\\n\\xc39\\xe2\\xb3\\xa0\\x0f;+<\\x8a\\x10ubB\\x81We\\xd4,\\xf4\\xcb\\xb4h\\xae \\x96\\'\\x1f:\\xc5 r\\x0f\\xaf\\x15\\xb58\\xf50\\xab&\\xdd\\x91\\xaf\\x1a2H\\xbef\\x15\\x86\\x02\\xa9\\xe35\\xa0\\xf2\\xa2/\\n\\x00\\xc5`\\xc9\\xe2\\xbd=\\xd7\\xcb6\\xd7R\\x83\\xddQG\\xe5\\x96\\x15M\\xfcUn&\\xdbo\\xa4($\\xe1\\x04\\xd31$\\xf6\\xc8Q\\xcf\\xd0\\x1a\\xd2\\xe6j,\\xe9bQ{p\\xb1\\xa0$\\x13\\xf3\\x11W\\xf5(Q\\xecdURY\\x07a\\xd2\\xb8F\\xf1n\\xaa\\xbf$r\\xc3o\\x83\\xc8\\x8a\\xd9G\\xfe\\x85\\x93U\\xae\\xb5{\\xbb\\xc5\\x12M4\\xb3\\xb6:4\\xcc\\x07\\xe0\\xa3\\x81\\xf9R\\xb8\\xfd\\x9b;\\xcd.\\xe24\\x8c<\\xd3G\\x1a\\x0e\\xa6G\\x0b\\x8f\\xcc\\xd6\\x94\\xbe)\\xd1 \\x8d\\xf7\\xea\\xd6\\xe5\\x94\\x1e#&B~\\x81A\\xaf#\\x13\\xc7;mx\\x95}\\x08\\\\\\xe7\\xf1\\xa6M\\x0b \\'-\\xb0\\xf7\\xeb\\x8aKB\\xfd\\x99\\xe9)\\xf1\\x03G\\x86R\\xc2\\x1b\\xf9\\xb001\\x1a\\xaeO\\xe2\\xf5J\\xef\\xe2i\\x01\\x96\\xd3H^:5\\xcc\\xff\\x00\\xfb*\\x8f\\xeb^x\\x83\\'\\x1b\\x81\\'\\xa1=\\r\\x1b\\xa5$\\x8c\\x1c\\x8f~\\x94\\xee?f\\x8e\\xae\\xeb\\xe2\\x06\\xad(\\xc4v\\xf6p\\x03\\xdc+9\\xff\\x00\\xc7\\x8e?J\\xc9\\xba\\xf1\\x16\\xa9xG\\x9br\\xa0\\xaf\\xfc\\xf3\\x8dW\\x1f\\xa5SE;\\x030\\x04\\x91\\xc8\\xc58[\\x823\\xc7\\xb7\\x14nR\\x8aA%\\xed\\xec\\xbf3^K\\xcf\\x04\\x83\\x8f\\xe5PbV\\x00\\xf9\\xaf\\x83\\xd7.z\\xfeueP\\xecn\\x07\\xd0\\xd3\\xd1s\\x1b\\xee\\xfc=\\xa9h2\\xa7\\xd9\\xd7p\\x0e\\xa0\\xe7\\xb6(kx\\xd4\\x95\\x11&\\xe1\\xce\\x02\\x8ej\\xdb*\\x95S\\xd4\\x8e)H\\x05\\x81=}E\\x17\\x06W[dtV\\x08\\xa0\\xfb\\nc\\x10N\\x13\\x18\\x1d\\xf1\\xd6\\xa4\\xb9\\x90\\x7f\\xaa\\x8f\\xef\\x1eX\\xfa\\n\\x8d#\\x19\\xc6h\\xb8\\x92\\xb8\\xf4\\x8f8,j\\x1b\\xc8\\x84\\x89\\xb5\\x83g\\xb7\\xb1\\xab\\xb1ZH\\xeb\\xbbkm\\xeaI\\xe0\\x0f\\xc6\\xa2\\x9d\\xed\\xe28\\x04J\\xdf\\xdeI\\x08\\xc7\\xb1\\xe3\\xaf\\xd0\\x9aE\\xd8\\xc5\\x04\\xc6\\xe5\\x18s\\xd8\\xfa\\xd2\\xef\\xf9G\\xf8\\xd5\\xa9\\xa7F\\xe0[\\xa3{\\xb1$\\xfe\\x98\\xac\\xd6\\x0c\\x1b\\xe5\\xc0\\xf6=\\xea\\xd6\\xa6m\\xd8\\xb6\\x92\\x01\\x8fL\\xf1J\\xcd\\x91\\x8f\\xe5URS\\xfcj@\\xc7qR+\\x06\\xf7\\xa6\\xd0\\xd4\\x89\\xc1\\xe0\\x8e\\xa3\\xd2\\x9c\\x1b\\xbf\\xadB\\x0f4\\xa4m9\\x18\\xc5\"\\xaeI\\xbc\\xf7\\xe4P\\x18\\x11\\xd7\\x91M\\xdc\\x08\\xcei\\xb9\\x04s\\xf7\\xa8\\x0b\\x93F\\x01<\\x1e\\x7f\\x95N\\x80\\xf7\\xe8*\\xacg\\r\\x829\\xc5O\\xbc\\xe2\\xa5\\x94\\x8b\\x02O\\x97\\xf4\\xa0\\xb9\\x1c\\x0e\\x95\\x06\\xfep?:z\\x92H\\xee?\\x9d!\\xdc\\x95Y\\xb8\\x15h}\\xdfz\\x80\\x01\\x80{\\xd4\\x80\\xe3\\x03\\x1c\\xf6\\xa9c%\\x19 n=jd\\x03\\x1c\\xf5\\xeb\\xd6\\x98\\xb9q\\x90\\x0e\\xe1OC\\x93\\x82\\xb84\\xae\\x04\\xab\\xf3q\\x9e\\xfe\\x95r\\x12F\\xd3\\x9c\\n\\xac\\x80\\xe3\\xd8t\\xf6\\xabq6\\x08\\xcf\\xe5B\\x135\\xec\\xd4\\x11\\xbd\\xc7\\x18\\xc6}\\xea\\xec\\xdb\\xe6\\x07\\xe7;q\\xd0Vm\\xbb\\x12\\xe7\\x9eGJ\\xd3\\x92FX\\t\\xfb\\xb8\\xf5\\xe3\\xebZ\\xa3\\'\\xb9\\x9a\\xc3k\\x10\\x18\\x81\\xe9\\x8a*\\xbbL7\\x1eO\\'\\xb5\\x157*\\xc7\\x9a\\x81\\x93\\x9e\\xa2\\xa4\\x1d*\\xaaI\\xd8\\xe4\\x1a\\xb0\\xae\\x18`\\xd6\\x86I\\x8e\\r\\xd8u\\xa7\\x83\\x8cs\\x9fZ\\x88.\\t=9\\xe2\\x9f\\x1f-\\x93\\xc5\"\\x91a3\\x81\\x9a\\x99\\x1b\\xe5\\xe4dT#\\x04\\x01\\xdb\\xfa\\xd4\\xa9\\x9c\\xe3\\xa0\\xa4\\xca\\xb1(\\x19<sAL\\xfb\\x1f\\xe5N@:\\x9aP2I\\xc7\\xe9Sq\\xd8A\\x18\\xcf_\\xce\\x9c#\\x18\\xe2\\xa4\\xda\\x0e\\x08\\xebR\"\\x01\\xc9\\x1dj[\\x1d\\x88U\\x00\\xcf\\'>\\xc6\\xa4\\xe0\\xb9i\\tl\\xf5#\\xadXXr\\xc3\\x0b\\xf8S\\xc4?)\\x03\\xd7\\xa5+\\x8e\\xc5)m\\xe2\\xc7\\xcaC\\x03\\xce\\xed\\x9bH\\xff\\x00?Z\\x87\\xec\\x84\\xf2\\x0e\\x7f\\n\\xd5X@^j7\\x8c\\xa9V\\xe7\\x0cv\\xf1\\xebO\\x98\\x0c\\xc6\\xb6t\\x19\\x8c\\xe7\\xd8\\xf1\\xf9V\\xef\\x87\\xb5w\\xb6ak&v\\x82Z0G \\xf7\\x03\\xfc\\xff\\x00:\\xcf\\x92EPC0\\xe3\\xd2\\xab5\\xc8\\xdc\\xad\\x18eu \\xab\\x8e\\xa0\\x8e\\x95J\\xec\\xceI3\\xd4\\xf4\\xc9E\\xfd\\xc7\\x98\\x87\\x11\\xa1\\xc1\\xf5&\\xbaU\\x8da\\x8f\\xcdg\\x11\\x97\\xe8\\xe4\\xe0c\\xeak\\xc5\\xbf\\xe1&\\xd5\\x96i\\x9e\\xde\\xe0Zy\\xc7. @?\"rG\\xe1U\\'\\xba\\x9e\\xf5\\xcc\\x97w\\x12\\xdc?\\xf7\\xa6r\\xe7\\xf55j\\xc9\\x18{6\\xcf_\\x9f\\xc5\\x1a=\\x82\\xc8\\xb3\\xea\\x96\\xae\\xeap#\\x8c\\x99\\x18\\xf3\\xce6\\x83\\xdc\\xf7\\xae_X\\xf1\\xcd\\x94\\xc3\\x16\\x89r\\xc7\\xd5\\xe1T\\x1f\\x99l\\xfe\\x95\\xc1\\x94R\\x08\\xce\\x07\\xa5\\x1eP=\\xc8\\xa3\\x98\\xa5I#n\\x7f\\x14]J\\xa5b\\x82\\x18\\xc1\\xee\\xc4\\xbf\\xf8\\n\\xcb\\x9a\\xea{\\xa7-+\\x92\\x7f\\xd9P\\x00\\xa8\\x80!q\\xb7#\\xd4\\x1aP\\xb9?.T\\xfa\\x1a\\x8b#a\\x85X\\x81\\xb8dv\\x04\\xe2\\x9c\\xaa\\x84\\xe3o\\xd7\\x8a\\x99wg\\x07\\xa9\\xeci|\\xb7c\\x90\\x01\\xc7c\\xda\\x81\\xd8\\x8b\\xc8^v.=\\x87\\x7f\\xc2\\x9a\\xf1\\x90;\\xc9\\x17p\\x17\\xa7\\xd4\\x7f\\x85L!$\\xe7\\xb8\\xf4\\xa9R,\\xb7p\\xdd\\x88\\xef@\\xd2*\\x152\\x0c\\xc7/\\x9c\\x07\\xf09\\xdcG\\xd0\\x9f\\xe5@\\x8e?\\xb3\\x97K\\x86IA\\xc7\\x96\"\\'>\\xb99\\xc5ZhA%\\x98|\\xde\\xa0sJ\\xb0.w\\x9c\\x1ex=(\\xb8X\\xa9\\x1co\\x9cu\\xf5\\xe7\\x9ax\\x8d\\xd5\\xb0O\\xcb\\x8e\\x86\\xac\\xb2\\xe0\\xe4u\\xfaS\\x95Y\\xb3\\x81\\x8fqE\\xc0\\xaf\\x1d\\xb8\\xc88\\x00\\xe3\\xb7z\\x93\\xc9\\x04m+\\x81\\xd7\"\\xa5\\x00\\xa3u\\x1e\\x94\\xf0py\\xc7\\xf8R\\x0b\\x0c\\x11 P=(\\x16\\xfbNr0}EH6\\xa9\\xf7\\xa7u9\\xcf?J.W)Y\\x94\\xa9>\\x87\\xb5+\\x00\\x07\\x1c~\\x14\\xf3\\xcb\\x1fz\\x88\\x95\\x04\\x9f\\xc74\\\\,FH\\xdd\\xc1\\xed\\xcdF\\xf7\\x01c\\'\\x8c\\xf4\\x034\\xf0\\x07\\x96\\xce\\x07$\\xe0UG\\xfd\\xe4\\xdd>U\\xe0c\\xb9\\xeei\\xa2^\\x81\\n\\x96\\x93\\x93\\x92\\xc3$\\xb7z\\xbc\\xa6;p\\x1f\\xcb\\x0e\\xc4}\\xe7\\xce\\x07\\xd0w\\xaa\\xf0.\\x1b$\\x82G\\xf2\\xa7J\\xcd,\\x84\\x93C\\x04\\x86\\\\M5\\xc3bi\\x19\\x94\\x1c\\x80x\\x03\\xe8:\\n\\x81\\x90>\\x07n\\xc2\\xa7l\\xf0\\xa3\\xad8.\\xd5\\xc1\\xe0Qp\\xb1M\\xad\\xff\\x00/\\xadF\\xf6\\xc0\\x8e\\x17\\x9a\\xd0\\xdc\\x01#\\x8c\\xd3O\\xcd\\xef\\xf5\\xe9M6\\x163~\\xcd\\xfe\\xce*\\xbc\\x96\\xec\\xa4\\xed\\xf9\\x7f\\x1a\\xd5h\\xd8\\xe7\\xaf^\\xd5\\x13\\xc4A\\x0b\\xb4\\x92z(\\x19\\xa7q8\\xa6e\\x07\\x95z\\x8c\\x81\\xdf\\xa5H\\xae\\xcc\\xbb\\xf6\\xb6\\xd0pI\\x1d\\xebM\\xadR\\x03\\xba\\xe1\\xb66?\\xd5\\xae\\x19\\xbf\\xc0~5VW\\x80\\xb1a\\x19\\xf6$\\xe4\\xff\\x00\\x855+\\x91\\xca\\xd7R\\xb1l\\x01\\x8e\\x94g\\x8e\\xb9\\xa2FV\\xce\\xe4\\xc9\\xecwa\\x87\\xe3\\xfe5\\x0e\\xde\\xbbd\\xc0\\xff\\x00i\\x7f\\xa8\\xa6Ke\\x85~x\\xe4\\xd4\\xc1\\xf7\\xe0\\xf7\\xaa#\\xcc\\'\\x85\\xdd\\xee\\x87?\\xa7Zw\\x9b\\xce\\xd2\\n\\x9fq\\x8a\\x1a\\x1a\\x99}\\x1b\\xe6\\x19?\\x9d\\\\\\x88\\xaa\\xf3\\xea;\\xd6JM\\x8e=\\xea\\xd4r\\xe4m=\\xbaT\\xb8\\x9aFE\\xff\\x000\\x81\\x8fO\\xd2\\x9f\\xb8d\\x13\\xf5\\x15PI\\xb8g$\\x81\\xda\\x81&:\\xfe\\x15\\x16.\\xe6\\xa4n\\xd8\\x18\\xfcEY\\x8d\\x82\\xe01\\xcf\\xbde\\xc1p\\x00\\nq\\xd7\\xad^B\\x1f\\xa1\\x00\\x0e\\x99\\xa8j\\xc3/ ,\\x01\\nTu\\x19\\xfd*x\\xc0\\x07#\\xff\\x00\\xd5QB\\xe4\\xc6:\\xf1\\xd6\\xa7\\x8cg\\xaf\\x19\\xa1\\x03\\xd8\\xbfl\\xc3 \\x9f\\xc2\\xac]\\x92c\\xc7O_n*\\x9c@\\x83\\x8cr;T\\xf20\\x91~b1\\x8e\\x07J\\xd9\\x18\\xbd\\xcc\\xa6\\xc1c\\xcf\\xebE>Kw\\xdeN\\xe23\\xd9h\\xa9\\xd0\\xb3\\xcd\\xf6\\x83\\x80h\\x01\\x90\\xf1\\xf3/\\xa5\\nN3O\\x15\\xa9\\x80\\xe8\\xe5V\\xf7\\x1e\\x95e\\x00\\xdb\\x91\\xd2\\xab<`\\xf3\\xd0\\xfa\\xfa\\xd3\\xe1v@C}\\xe5\\xe4w\\x07\\xd6\\x93\\x1a-\\xb4\\xacB\\xc7\\xbb\\xe5\\x03\\xa7j\\x9cl\\xda\\xb8.\\\\\\xf5\\x1d\\x00\\x1d\\xaa\\xa9\\x00\\x95+\\xceM[\\x860Jg\\xee\\x92\\x7fJ\\x86h\\xb5\\'\\x89\\x0b7\\x035a!\\xcb&\\xd3\\xd4\\xe3&\\xa7\\xb6\\x88}\\xa6U#\\xa2\\xaf\\xea3Sl\\t\\xb3=T1?\\x80\\xac\\xd9d\\x1eI\\xc0\\x18\\xa9\\xa3\\x839$r\\x07<V\\x94\\x16.\\xf1D\\xfd\\xda%~=\\xd74\\x80E\\x15\\xdd\\x9c\\x99\\xdd\\x0c\\xa4\\x03\\xfc\\x88\\xfc\\xea\\xb9_Q]\\x15\\x122\\xb6\\xf2\\xbf\\xf1C\\xc9\\xfau\\x1f\\xa5Z\\x10\\x7f\\xa5\\x08\\x8e\\x07\\x98\\x9b\\x81\\x1f\\x8dg\\xbd\\xecko\"\\xc8\\xd9v\\xb7x\\x00^\\xa7\\x04\\x85\\'\\xe8\\t\\xe7\\xd8U\\x0b\\xeb\\xdb\\x8dFE2\\xe0(\\\\\\x05\\x1d1\\xef\\xebG(s\\x16\\xa5\\xd4`H\\xf6\\xa82\\xc9\\x9ev\\xf0\\xa3\\xf1\\xff\\x00\\n\\xcf\\x96\\xe6k\\x86;\\x9bj\\x13\\x9c\\'\\x03?\\xce\\x95`\\xe3\\x91\\xce8\\xe6\\xa4Hy\\xceO\\x1e\\x94\\xec\\x917l\\x84+cn\\xde\\xbd\\xa9\\xeb\\x0ez\\xaa\\x8f\\xa5M\\x96\\x07\\x81\\x9a\\x90\\x06\\x00\\x92\\x01\\xfc(\\xb8(\\x90\\xf9X\\xe8?1@\\x8c\\xee\\xc7J\\xb0\\xb0\\xbb6@\\xc0\\xf5\\xa9\\xbc\\xb6\\xdb\\xc6\\x0e\\x0fZW+\\x94\\xac\\xb0\\x802I>\\xb9\\xa7\\xfd\\x9dW\\x1cu\\xe7\\xe5\\x15ac\\x19\\xe3>\\xd4\\xe6\\x81\\xb3\\xf2\\xb7\\xe1A\\\\\\xa53\\x01\\x079?LS\\x84J\\xc7\\x04t\\xe9Vq\\xb4t\\x07\\x14\\x01\\x9eq\\xc8\\xeb@X\\x8c@O\\x0c\\x0e1\\xc6E8 R\\x08\\xce}j`?\\x84g8\\xcfZ\\x1a?N\\xbe\\x94\\x0e\\xc4eO\\\\|\\xdf_\\xe9H\\x07\\x9b\\xd0\\x0c\\xaf\\x7fJ\\x91\\x81\\x07#\\xaf\\xb56\\xdcy\\x92\\xca\\x02\\xf2\\x84\\x1c{P\\x16\\x19\\xb7\\xa1\\xcfZR9 u\\xa9Ta\\x99\\t\\r\\xceFj)\\x14\\xa6\\xf2:\\x95\\xe0P\\x03$b\\x10\\x1cw\\xc1\\x1e\\xf4\\xe5\\x8c\\xe7\\x82\\x00\\xc7\\x142\\xe64s\\xd1\\x80\\xc8\\xf7\\xa7DG \\x9f\\xa1\\xa0\\x04\\n\\x1a2H\\xe7\\xb50\\xab3`\\x8czT\\xaa\\xca\\xaaGS\\xd8\\xd1\\xe6\\x9d\\xb8\\x18\\xf4\\xa4=\\x06\\x11\\xf3c\\x18>\\x94\\xd2\\xc4u\\x1dy\\xa7o\\x0c\\xf8\\x18\\xe6\\xa3\\x92e\\x04\\xa2\\xed\\xcf\\xf7\\xba\\xd0!\\xd9\\xc1\\xfc0x\\xa8\\xd9~^\\x83\\xf1\\xe3\\x15\\x03\\\\\\x1e}=\\xcd\\x0b9f\\xc8\\x03\\x18\\xeehhW\\x12v\\xf2\\xad\\xce\\x0f9\\xe0\\x0fZ\\xab\\x17\\x00c\\xa63N\\x92M\\xec@\\'\\x0b\\xce~\\xbcR(\\xda\\xab\\xf4\\xaa[\\x13\\xd4\\x989\\xed\\xd6\\x9c\\x03\\x16\\xc9\\xe9\\xebQ\\x1erOz\\x926\\xc2\\xd0\\xc6\\x1bq\\x91\\x8c\\x93N\\xeb\\x9cg\\xd3\\xa5;\\x00\\x91\\x93\\xcf\\xb59P\\xff\\x00\\xf5\\xb3I\\xb1\\xd8bG\\xb8\\x91\\x9e=*U\\x85\\x0eI?*\\xf5\\xf6\\xa7*\\x10B\\x8eY\\xa9\\xae\\xca\\xa3b\\xb6\\x10rO\\xf7\\x8f\\xad+\\x80\\x82%}\\xc5B\\xa8Q\\x96f\\xe1P{\\xd42M\\xb0\\x94\\xb6\\x0c=ea\\x86?O\\xee\\x8f\\xd6\\x9d$\\x84\\xae\\xd00\\x80\\xe4/\\xbf\\xaf\\xb9\\xa8\\xca\\xfa\\xf5=\\xe9\\xa4\"\\x9c\\x91\\xe1y\\x1c\\x9e\\xb5\\x03F;\\x02G\\xbdh,y\\x198\\x03\\xd2\\xa1pX\\x8e*\\x93\\x15\\x8a&\\x1e9\\xc9\\xf6\\xa7\\xc5m\\xbf\\x9c\\x8d\\xbd\\xcf\\xa5O\\xb3<\\x9c\\x85\\x1cdw\\xfaRHI]\\x8a6\\x8e\\xe3\\xad;\\x93dC\\'\\x90\\xab\\xb68\\xc36yw\\xe7\\xf2\\x15\\x04\\xad#\\xa6\\xc6\\xdb\\xb0t\\x1bs\\x8f\\xce\\xa7)\\xc8$\\x83A\\x8f<\\x9e=\\x874\\xd0\\x9a\\xb9\\x9f\\xe4\\xb0\\xe8\\x00>\\xddiC\\xca\\x9f\\xdd>\\xc6\\xafyy8\\x03\\x9fJ\\x04{p\\xe5T\\xe4\\xe1\\x01\\xefN\\xe4\\xf2\\x10Gs$c-\\x119\\xe4b\\x9en\\x9d\\xc6Drc\\xd4\\'O\\xca\\xa7\\xd9\\xe9\\x8d\\xcd\\xd5\\xcf$\\xfd=*X\\xed\\x17wS\\xe8@\\xe3\\xf0\\xa9m\\x14\\x93\\xeeR\\x13J\\xcc6\\x0f\\xc4\\xd5\\xa8\\x85\\xea\\xe0\\xa4\\x81M^\\x8e\\xd6=\\xbfw\\xa5X\\x8e0\\xa4a@\\xf75.H\\xa5\\x16$7w\\xf6\\x8a<\\xeb}\\xe0\\xf7S\\x82\\x7f\\x0f\\xfe\\xbdk\\xd8\\xeavS\\x05\\x91\\x9dQs\\x83\\xb8\\x1e\\rE\\x12D~Wb\\xe4\\xf3\\xd2\\x9bp^\\xc0y\\xb1F\\xa8_\\x03kt\\x90w\\x07\\xfc{T&U\\x8e\\x89^\\xcaH\\xc3Cs\\x1b\\xe7\\xfb\\xad\\xd2\\xaa\\xcb,k\\x90\\x0eI\\xef\\\\\\xec\\xaf\\x1c\\xd1\\xfd\\xa6,\\xc6\\xa7\\x82G\\x05\\x1b\\xd1\\xb1\\xc1\\xfa\\xd4+\\xa8M\\x11\\x08\\xff\\x00\\xa7z\\xab\\x8b\\x95\\x1b\\xe6`X\\x90;\\xd1X\\xeb\\xaa\\xa6>c\\xcd\\x14\\x86q\\xaap0:\\xe2\\xa4\\x07#4\\xc5\\x00\\x9e\\xb4\\xf0\\x07 V\\xc7:$_qJ@#\\x07\\xbf\\xe9Q\\x8fJ~z\\xff\\x00J\\x06:\\tLn\\xaa\\xfc\\x8f_Z\\xd8\\x8b\\r\\x14X\\xc6\\xd1\\x8e{\\x9d\\xc7\\xff\\x00\\xadX\\xb8\\xf7\\xa9\\xad\\xaf\\x9a\\xdaX\\xcc\\x83tK\\xf2\\xb0\\xecG\\xbf\\xe7S%r\\xa3+\\x1dx\\x00^\\\\\\xaf\\x05\\xbc\\xcc\\x00;\\x00\\xa0S\\xee\"\"\\xdeb\\xdcm\\x89\\xf2\\x0f\\xb8\\xc0\\xfex\\xac\\x8bmdG\\'\\x99\\xc6\\xe0\\xc4\\x93\\xc3d\\x1c\\x82y\\xcf=*\\xd4\\xba\\xa1\\xba\\xb4H\\x15\\x13f\\xf4\\x1eg\\xf10\\xcf\\xf9\\xfc\\xaa,ist\\\\\\x1b{[w`v\\xb4!s\\x8ct\\xe3\\xfa\\x1a\\xe7\\xa5\\xbb\\xd9f\\x91\\x86%\\xc3\\xb6\\x0ezc\\x9c\\xff\\x00*\\x82\\xee\\xf1\\x03\\x94Nc\\x1c o\\x9b\\xf49\\xefP\"\\xf3+\\xc8I\\xf2\\xd4\\x93\\x9e\\xf8\\xed\\xf8\\x9f\\xe5M1XfN\\xf3\\x9c\\x93\\x9c\\x9c\\xfa\\xfb\\xd5\\xa8\\xf8\\xfb\\xbc\\xfb\\xd5uR\\xa4n\\xe5\\xc8\\x05\\xbf\\x1ej\\xca\\x9c.\\x7f\\xbb\\xcd\\r\\x85\\x89\\x06H\\xc7\\x14\\xf2\\x85W\\x18\\x1e\\xa4\\xd4\\xd1D\\x01\\xf9\\x87\\x00\\x02q\\xde\\xa6x\\xb2\\xa1\\x08\\x1e\\xa4\\xd4\\xdc\\xb4\\x8c\\xf8\\xc0\\xce\\xd01\\xefR\\xf7\\xc6p\\x7f\\x9d*\\x8d\\xe3p\\x1cv\\xa9B\\x05nz\\xf7\\x14\\xc2\\xc3\\xd08N\\xdf\\x88\\xa0g\\x19\\xe9R\\xc4w\\xb2\\xa9\\x18\\xca\\x9cdzT\\xbb3\\x128\\x00\\xe4\\x91\\xf8\\x8a,Q\\n\\xc6Y\\x84\\xb9$\\x1f\\x94\\x8e\\x94\\xef,\\x006\\x0e\\xa7\\xf5\\xa9`\\x8c<\\xdeH83p\\xa7?\\xc5\\xd0RD<\\xed6v8Y\\x12e \\x1e8o\\x97?\\x81\\x14XW\"*Z\\x11 \\x1c\\x1c\\xab{0\\xe7\\xf9SB\\x05q\\xdcg\\xf9\\xd5\\x9d\\xd0\\xa43\\x02\\xe0#\\xaa\\xbf\\x07\\xee\\xb0\\xea?\\x9dg\\xbd\\xe0\\xd8\\xc5y\\x07\\x007\\\\\\x9a`XN\\x12W\\x1d\\x0e\\x00\\xfaS\\xf7\\x00\\xa3\\'\\x9c\\x9c\\xe6\\xa9\\x99\\xce\\xe0\\x84\\x92U:\\x0e:v\\xa4[\\x80\\x11\\xdf8\\x08\\xb9c\\x8e\\xf4\\x80\\xb3\\xbc\\x84B\\x01\\xe1\\x8e\\xef\\xa569\\x04W\\xeb7\\'\\xb6\\x01\\xeb\\x9a\\xa6%2\\xc9\\x1c\\'\\xd3s\\xb5,\\xd7\\x80M$\\xa81\\xd9}\\xbb\\n,\\x04\\xf3O\\xb6b\\x00\\x19S\\xc9\\x1d8\\xa8\\xcc\\xfb\\xc9\\x0c\\xbf/O\\xadg\\xf9\\xac\\xc0\\xe4\\x90\\xa3\\x96c\\xeb\\xedN\\xf3\\xd7`-\\xc0^\\x83\\xb9\\xa0W/\\x17\\x00\\x00\\x00\\xc9\\xe9\\xc54\\xccFA<v\\xac\\xf6\\xbc<\\x9c\\xf3\\x8f\\xc8T\\x1fhyN\\x11\\x1aF<\\x00\\xab\\xba\\x84\\x83\\x98\\xbc\\xd79<\\x9c\\x0f\\xadD\\xf7\\xdc\\xec\\x1c\\x0c\\xe7\\xa5W\\xfb%\\xec\\xa7\\x98\\xb6g\\xfb\\xe4\\x0f\\xc3\\x15*i\\xb2\\x15\\xf9\\xe5\\x00u!W?\\xce\\x9e\\x84\\xdd\\x8f\\xfbw\\r\\xb7\\xef7S\\xfd\\xc5\\xa6\\xb4\\xea~bv\\xfb\\x1e\\xb5<zt\\n0\\xc5\\xd8u\\xfb\\xd8\\xe7\\xd7\\x8a\\x94Y\\xc0\\x83\"$\\xfa\\xe3?\\xce\\x95\\xd0\\xf52\\xde\\xe9X`6}\\x0533\\xb9\\x1b \\x90\\x83\\xed\\x81[[\\x02\\xa6@\\xc2\\xfa\\x01\\x8a\\x8al(c\\xfd\\xd1\\x9f\\xd2\\x8ea4f[\\xb1,\\t\\xea{\\xd5\\x82HP\\xbd\\xea\\xac|\\x0c\\x0cn\\xf5\\xab(3\\xf8\\xd50C\\x87\\x03\\xd7\\x9a\\x95X\\xe3\\x1d\\x8dF8\\xfa\\x9a\\x95P\\xf2\\xc7\\xb7JC$A\\xca\\xf3Sg\\x04\\x81\\xc5B\\xab\\xf2\\x82z\\xd3\\xf6\\xa8\\xe4\\x93\\x80=jl1\\xe5\\xc2!\\x19\\xf9\\x9f\\xa9\\xf6\\xaa\\xce\\xe4\\xf1\\xefJ\\xcc\\t\\xdd\\xe9L+\\xeb\\xd7\\xbf\\xb54\\x84\\xc5A\\xbb=\\xe9\\xec\\x00\\x19?\\x9d }\\xa3\\x03\\xf4\\x14\\xd698\\xe3\\xeai\\x80\\x9cH\\xd8\\x1fw\\xd6\\xa2\\x92=\\xad\\x81\\xc8\\xfeu1!\\x17h\\x07\\x07\\x92j&;\\x9b\\x83\\xcd\\x02!q\\x91\\x9d\\xd9\\xed\\x8e\\x94\\xdc\\x7f\\xf5\\xeaV\\\\p?\\x13G\\x94\\xa5O\\xa7\\xf3\\xa6\\x04>^\\xe0X\\xf1J\\x13\\xe6\\xc0\\xc9\\xa9\\x99>ZX\\xc1\\x00\\x801\\xefE\\xc0\\x86P\\x156\\xed\\xc1n1MH\\x82\\x9d\\xfd\\xfa\\ny]\\xd2\\xe7$\\xe2\\xa7H\\x9c\\xaf\\xdc\\'\\x8eh\\xb8\\x88\\x159\\xed\\x9a\\xbbn\\xa3h\\xe8G\\xd2\\x99\\xb5\\x10c\\xb9\\x1c\\x9fJts\\xed8\\x01J\\xfa\\x9e*\\x1b\\xb8)\"\\xd8M\\xc7\\x03\\xa5^\\xb5\\xd3%\\x9a2\\xf8;GS\\xd7\\x02\\xb2\\xc6\\xa5\\x16\\x14DYrpK\\x0e+\\xa0\\xd3\\xa4hl\\x96U]\\xccKgp<\\x9fjIw\\x1b\\x97b;\\xb8\\x96\\xd6\\xdd\\x1a\\xd5Rg#\\xe6w\\xce\\x13\\xdbo_\\xce\\xb3\\x9b\\xce\\xb8\\x8d\\xda\\xee\\xe8\\xba(U\\xc3\\x0c*g8\\xc7\\xfd\\xf3R\\xea:\\xbc\\x93\\x92\\xc5\\x86:p+\\x0e\\xe2\\xeaI\\xb7\\xa0vX\\xc9\\xce8\\xcf\\x1cs\\xef\\xd6\\x9d\\xbb\\x0fm\\xc8\\x1e\\xf7\\xecw\\x9c\\x9f2\\t\\x0f\\x97&{\\xafc\\xf5\\x15}\\xe0U\\x00\\x80&\\x84\\xf2\\x0fp+\\x06\\xf3\\x1bH\\xe4\\xf1\\xc6y\\xab\\xbau\\xec\\xf1\\x86\\x84Hw\\'$\\x0er=@\\xaaq\\xd2\\xe6j^\\xf5\\x99{\\xc8\\xb0o\\xf9\\xea\\x87\\xb8iv\\xfe\\x9bM\\x14\\xef\\xed[RO\\xda-\\x83\\xc88%X\\x9f\\xcf\\x00\\xe0\\xd1E\\x99wG-\\x11\\xe0T\\xc3\\xf9\\xfaT\\x11p\\x0f^\\rJ[\\x185\\xab9\\xd0\\xf3\\xd7\\x9aL\\xfe\\xb4\\x84\\x9cR\\x03\\x9ei\\x0c~q\\xc5\\n\\xd8\\xe2\\x93\\xaf\\xad&h\\x02d\\x85Ol}8\\xad;H\\x00_29d\\x07\\xb88\"\\xb3\"5\\xabi.\\xd23Q;\\x9a\\xc1\\x0b-\\xa4V\\xeb\\x14\\x8d\\x96`\\xea\\x01c\\xd3\\xbf\\xf4\\xab\\x060CB9\\x92H\\x98\\x8f\\xa9 \\xff\\x00:\\x96\\xe2\\x14\\x9e\\xdc\\xc6\\xcd\\xb7wG=T\\xf65V9&\\xf9d\\xf2\\xc0\\xb8\\xb5\\x1f\\xbcT\\x1c\\xb2\\x1cbE\\xfe\\xf0\\x04sR\\xb5E=\\x01\\x9f7\\x0c\\xd8\\xe0\\x1cc\\xd3\\xfc\\xe2\\xa7\\x81\\x0c\\xbb\\xce\\x0e\\xdc\\x81\\x8f\\xc3\\xff\\x00\\xafUVH\\xfe\\xd2B\\xb6\\xe4\\x90\\xef_\\xa1\\x07\\x8a\\xbd\\x10\\t\\xa5\\x87\\xc9\\x0c\\xd3\\xa8\\xcf\\xfc\\x07\\x9f\\xd4P\\xc6\\x99h\\x1c\\xc86\\xe4\\x92wg\\xb0\\x1d\\xbf\\xcf\\xb5K#\\xb8F\\xdb\\x9f1\\xbeU\\xe3=h\\x8aH\\xe3b\\xac\\xbc\\x18\\xdb\\x1e\\xe4m\\xc0\\xff\\x00\\xc7\\x85+\\xa4\\x92\\xbb\\x18\\x86#\\x87\\x05\\x9f\\xa7$\\x80?S\\xfeqI+\\x95r%M\\x91\\xedP@^9\\xa9\\x122\\xec\\x8a>\\xf9<\\x03\\xdc\\xd4\\x90\\xe0@\\xaf\\x82\\xc4;#*\\xf2HV\\xe4\\xfeDsM\\x92`\\x93)V\\xe27\\xdc\\xbcd\\x9c\\x1c\\x8c\\xf6\\xaa\\xb5\\x80X\\xd8\\xc2\\xad9\\x04\\x88\\xa5\\xc9\\x1e\\xdd\\xc7\\xe5\\x9a\\xb3#\\xa4vr\\x18\\xc6V\\x1b\\x86;\\x87+\\xb4\\xb1\\xdb\\xcf\\xf9\\xe9T\\x1ah\\xda[\\x84\\xdd\\x98\\xd0\\x1d\\xccO%\\x9b\\xa0\\xfef\\xaa\\xde^f\\xd2c\\xc02\\x1c\\x95\\x1d1\\x91\\xb4~\\x94\\x08\\xb1\\xf6\\xe2\\x1a5A\\x83\\x92P\\xfaQ\\x05\\xca\\xff\\x00g\\xca\\xec\\xa1\\xa6x\\xf1\\x10=\\x9c\\xc9\\x81\\xff\\x00\\x8e\\x93Y\\xcf!]@\\xe3\\x84\\x84\\x12\\xde\\xdf\\xfd|\\xd4QJ\\x04^|\\xacQ#\\x1bc\\x19\\xe4\\x9e\\x84\\xff\\x00J\\x04\\xcb\\xb7\\xcf\\xe6\\\\\\xc9\\x18\\x7f\\xdd\\xa0Tg\\xeb\\xf7@\\x18\\x1f\\x95Ry\\xfc\\xc0\\x80|\\xaa\\xbc(\\xaa\\xad;K\\x84\\x85\\x1c\\xafeQ\\x9c\\xfdjx\\xac\\xaed \\xb2*\\x8cts\\x8f\\xe5\\xcd1_\\xb1!\\xb9-p\\xc1N\\x060M#H$\\x8d V\\x1bI,\\xe7=\\x87\\xaf\\xe3S\\xae\\x99\\x92\\x04\\xb3\\xb6=#]\\xa2\\xadG\\xa7\\xdbE\\x90\\xb1\\xe7\\xfd\\xe2Nj[Hj\\xe6j\\\\\\x08\\xd2GO\\x9ai\\x0e8\\x19\\xda)\\xab\\x05\\xc4\\xb8\\xc4\\x12\\x15\\x1d\\x07L\\xfdI\\xad\\xc5TS\\xf2\\x8c\\x01\\xe8)\\xcf&N\\x01\\xe9K\\x98v1\\xc5\\x85\\xdc\\xd8\\xc9\\x8e1\\xd8\\x03\\x9f\\xe5R&\\x90\\x83\\x99&\\x91\\x9b\\xd0\\x0cV\\xa7\\xf0\\xe3\\x198\\xeb\\xd3\\x14\\xd2w7>\\x984\\xb9\\x83\\x95\\x15\\x96\\xc2\\xd2%\\x05aV>\\xad\\xf3\\x7f:\\x9d\\tU\\xc2\\x8c}8\\xa7\\xf0q\\xc7\\x14\\xc2H$\\xe3\\xd8\\nW\\x1d\\x84s\\x81\\xfe\\xd1\\xf4\\xedP\\x13\\x8e*P\\x06K1\\xe7\\xf9\\xd4ew\\x11\\x8ey\\xa6\\x81\\x8d$\\x13\\xceE\\x06L\\x9c\\x13K \\x19\\x05ON\\xb4\\xc5\\xca\\xb7\\xcc8\\xf4\\xa0C\\xc9\\\\r\\xb95Z\\xe0\\xe2\\xdeRz\\x95\\xc6~\\xb5)m\\xdc\\xfeUV\\xef>W9\\xfb\\xc3\\xf1\\xa1n&TU\\xc6=j\\xd4C\\xe4`ED8\\xeb\\xe9R\\t\\x00\\xfaV\\x8cHq#=\\x07NjT\\'o\\xadF\\xa9\\xe6\\x12\\xdc\\x01\\xe8)\\xc3\\xe5\\xc0\\xfd*JD\\xa0\\xe0d\\xf4\\xa63\\x9csMf%q\\xc57?7^=(\\xb0\\x87\\x8fS\\xd4P\\xd9 c\\xbf\\xebFNrx\\xa4$w#\\xda\\x80\\x02pqH\\x00\\xcf\\xaf5\\x14\\x8f\\x97\\xa7\\xa9\\xe7\\xaf4\\xc0\\x19\\x8e\\xe3\\x9eh\\x19\\x07\\xae)\\xa5\\xb2\\xc7\\xda\\xa32\\x92O\\xa7\\xb5\\x02\\';Gl\\x9fSN\\x18$v\\xaa\\xe1\\xba\\x16\\'\\x1e\\xc2\\xa6$`\\x9c\\xf3@\\xc3\\xa3\\x13\\xd4\\xfb\\xd0\\xdc\\x80F}=\\xea6\\x990~n\\xbf\\x8dh}\\x82hl\\xe3\\x9aA\\xb1\\x9f\\x94\\\\r\\x07\\xa9\\xa5\\xb0\\xacg\\xe5 $\\xb2\\xeea\\xc9\\x1d\\x81\\xf4\\xa0K4\\x87\\xe6s\\x8e\\xfc\\xd3\\xd6\\x1f6L\\x0eq\\xc6EYK}\\xa4\\xa9\\x1c\\xd0\\xda\"\\xcd\\x95$\\xe5\\xf3\\xfa\\x9a\\xa9#\\x17\\x0c}\\x05h\\xc9\\x0f$c\\xb7z\\xaf\\xf6\\\\\\xa1\\xcf\\x01\\xbd\\xa8M\\t\\xa2\\x8a)\\x7f,3\\x10W\\x04s\\x80+\\xb6\\xd1\\xb7\\xcbdR6%\\xa39\\xc7^O\\x03\\xf3\\xe9\\\\{\\xc6GN8\\xe0V\\xe6\\x8fxmn\\t<\\xa3\\x02\\x1cz\\x8e\\x86\\x890H\\xa9\\x7f\\x1c\\xf1\\xc8\\xe1\\xd0\\xc7\\x83\\xd3\\xa8\\xfc*\\x81R\\xdd\\xf8\\xfaV\\xde\\xa3r\\xb2\\xb1\\x04\\x82\\xdbpY\\xcews\\xd4\\xfb\\xe2\\xb1\\xc6\\xd2\\xe43&\\xefL\\x1a\\x13\\x1d\\xfa2\\xbb[+6NN;\\xd3\\xbc\\x80\\x0f\\xdd\\x19\\xea\\t\\xe4\\xd5\\xa0\\xbc\\x020(#=\\x085W\\x1d\\x91\\x08C\\x8c\\x0e\\x83\\xd0\\x11\\xfc\\xa8\\xa9\\x08\\xc1\\xedE\\x01c\\x9f\\nrO\\xaf\\xe9N;\\x89\\xe9V\\x0c\\x04\\x0e\\x9c\\xd2\\xf9<\\xfd\\xd3Z\\\\\\xc9\"\\xb6O\\x19\\xa0\\x1c~u`\\xc5\\x8eqL)\\xed\\xcd!Xh`\\x0fJL\\xf3\\xf5\\xa7c\\x04\\xfc\\xb4\\xc3\\xc7?\\xce\\x98\\x12)\\xe6\\xaf\\xdb\\xb8\\xc8\\xff\\x00\\x1a\\xceV\\x19\\x15<O\\x83\\xf8\\xd4\\xb4i\\x06t\\x10\\x03$@\\xe7\\x1f\\x85=\\xed\\x89(\\xc1\\xdd%\\x8c\\xeeI#8d>\\xc7\\xfaT\\x16o\\x91\\xd7\\xde\\xaeo\\x00\\xf0\\t\\x1d\\xab\\x0b\\xb4\\xcd\\xadte]\\xda\\xdd\\xbc\\x9eb\\xac\\x0e\\xdds\\x1f\\xee\\xc9>\\xa5zd\\xfbb\\x9dot\\x1a\\xc9\\x91\\x86\\xd9\\x92e,\\x8c\\x08e\\x05H<}@\\xfc\\xea\\xf5\\xc5\\xc2C\\x13Hq\\xe8\\x17\\xd4\\xd6/\\x94\\xd31\\x90\\x93\\xbc\\x9c\\xee\\x1c\\x1e\\x7f\\xcfJ\\xd1k\\xb9\\x9b\\xd1\\xe8tP\\xb7\\xda\\xed\\x0c\\xab\\x86\\x92\\x06\\xdf\\xe5\\x0e3\\x9f\\xbd\\xdb\\xd0\\n\\x9aMJ\\t-\\x8cK,\\x8a\\xae7yn\\xc0a\\x87*G\\x1c\\x8fn\\xf5\\xcf\\xda\\xbd\\xed\\xa4\\xcb4L\\xa5\\x90\\xf4\\xe9\\xf8U\\x8b\\x89\\xe4\\x99\\x8f\\x91\\x03\\xa2\\xb7%_i\\n{\\x81\\xed\\xd6\\x8d\\xb6.\\xf74%\\xb9U}\\x85\\x97\\t\\t\\\\\\xe79$\\xe7$\\xf78\\xc7\\xe5UZ\\xe8 $}\\xee\\xdb\\xbb{\\x9a\\x9e\\xd3\\xc3\\x97\\xb7V\\xcfw,\\xb0\\xda\\xc0\\x9c\\x16p]\\x89\\xf4\\x00q\\x9f\\xc6\\x9c\\xba=\\xb2/\\xef^Yq\\xd9\\x8e\\xd0\\x7f\\x01\\xfe4;u\\x04\\xfb\\x19-w\\xbd\\xfc\\x94\\x05\\xf2\\xc4\\xe0\\x0c\\xb1?\\xfe\\xba\\x9f\\xec\\xb73\"\\x83\\xb61\\x9c\\x95\\'\\xe6\\xf6\\xfa\\x7f\\xf5\\xeb@\\x08\\xe0\\x05`E\\x8d{\\x84\\x18\\xa4B\\xa0\\x8d\\xc0\\xd4\\xb6;w+\\xc7dY\\x02\\xc9;m\\xceH@\\x06Os\\x9ey\\xf7\\xab\\x11Y\\xdbG\\x80!W#\\x80_\\xe6#\\xe9\\x9a\\x90\\x06#\\xa6\\x06i\\x02\\xb0$\\x11\\x9c\\xd2\\xe6\\x1d\\x89\\x0e\\xdd\\xb8\\x03\\x00v\\x1c\\x01H\\xad\\x81\\xdb\\x1d\\xcd5~Q\\xcesFF8\\x07=\\xf1R1Ce\\x81\\xc8\\x1d\\xc6iX\\x92:\\xf1\\xd0\\xf1M`q\\x9eF)\\x84\\x92\\xa0\\x13@\\x12c\\x92\\x0b~\\x02\\x9c\\xa0\\xe7\\x93\\x83\\xda\\xa1\\\\\\xb1\\xe0\\x1e=\\xe8\\xdf\\x8299\\xfeT\\x0133\\x02FN\\x07\\x1d)7\\x05\\xe4\\xd3U[\\xf1\\xa2L\\x0c\\x0e\\xfe\\xd4\\x0c\\x91Xu\\xe0\\xfe4\\xc6q\\x8e\\x9c\\x9fj\\x863\\x89\\x07Zq|\\xe3\\xb1\\xf6\\xedN\\xc2\\xb86q\\xc1\\xa0|\\xa3#\\x14\\x8c\\xc7#\\x1d=\\xe9\\x8e\\xe4/o\\xce\\x81\\n\\xc7\\x0cp8\\xc5G\\xcb6OC\\xcfZg\\x98\\\\\\xe3\\xb5\\x00c\\xaei\\xd8D\\x8c\\xca\\x14\\x9e\\t\\xc7J\\xa5x\\xfb\\xa3S\\x8f\\xe2\\xab\\xb1\\xdb\\xcbu\\'\\x95\\x04RK!\\x19\\n\\x8aX\\xe3\\xbf\\x02\\xa8^\\xb01&\\xdep\\xd8\\xfc\\xa9\\xad\\xc9\\x93\\xd0b\\x9f\\x97>\\x9di\\xc7\\xa88\\xa8\\xa3>\\xe2\\xa5\\xc9-\\xb7\\xf9U\\x892Es\\xb8\\x01\\xd3\\xbdH\\xf8\\xc51F\\x07=qH_?L\\xf4\\xa9*\\xe3\\x89\\xe0sL\\xdcq\\xde\\x93%\\xcf\\x19\\x02\\xa4\\xf2023\\x8fs\\x8ab\\xb8\\xe0~_\\xd2\\x90\\xf4\\x1e\\x99\\xefG\\x94\\xc7\\x9d\\xc2\\x8f,\\x0eI\\'=\\xa8\\xb0\\\\\\x89\\x9b\\xe7\\x03\\xb5\\x1b\\xb9;A\\xfc\\x05J\\xa8;\\x01\\x8fzq@\\x0f\\x00\\xad\\x02\\xb9\\t\\xc9\\xe0\\x01L\\xf2\\xd8\\xf0\\x0e\\xdf\\xa8\\xab!F\\x0e\\x08>\\xc6\\x91\\x87=\\xc5\\x00W(\\xdd\\xcf\\xebI\\xe5)9x\\xcf\\x15k\\xcbld\\x10\\xdf\\x8d\\x08\\x83=\\xc50,h\\x96Iu\\xaaD\\x80\\x12\\x89\\x99\\x18\\x11\\xc1\\x03\\xff\\x00\\xaf\\x8a\\xe85\\x95Y\\x80\\x85X|\\x8b\\xbb\\xfc\\xfeT\\xcf\\x0f\\xda<\\x11It\\xc4f@T\\x1ct\\x00\\x8c\\x9f\\xce\\x93U]\\xac\\x8f\\x14\\x81\\x878\\xe7\\xa6z\\xd6Rwe\\xc5hd&!Q\\x80\\tS\\xd2\\xa7\\x85|\\xc9\\t\\xe3\\xd75\\x0b)`\\x07\\x1b\\x87\\\\\\n\\xb3\\x04d\\x90\\x08#=H\\xa4+\\x11\\xdc[`\\xb7\\xe5P\\\\BP\\x15\\xec0+\\xa3\\xb5\\xb4Y\\x8b\\x07\\\\0\\x19\\xc1\\xf6\\xa8n\\xb4\\xd6\\xe3\\x0b\\x9d\\xc1H\\xfa\\x00\\x7f\\xad4&\\x8ea-\\xf2X\\xed\\xedN\\nUX/\\\\\\xe3>\\x95\\xb5\\x05\\xa8\\xc3\\x86\\xed\\xc9\\x18\\xf48\\xa8\\x05\\x9b\\x18\\x0b\\xe3\\x93\\xcf>\\xfc\\xd3\\x15\\x8c)\\x06\\xd7<\\x13\\x8fJj!\\x93\\xe6\\xc1\\'\\xd3\\xd2\\xb5d\\xb0w\\x91\\x01R\\x0bt\\xf7\\x06\\x95t\\xf9\\x95\\x8c!9.\\xab\\xfe\\xebU\"\\x1a2\\xfc\\xe4\\xf36p\\t=jM\\x85\\x8e\\x01\\xfc\\xea\\x9d\\xcd\\xbef\\x00\\xa9\\x19\\\\\\xfe|\\xd5\\xeb`\\xdeZ\\xee\\xcb{\\x93\\xcdP\\'q\\xcbl\\x08\\xe5\\xb9\\xa2\\xac&\\xdcv\\x1f\\x86h\\xa5r\\x8c\\xb1\\x08\\xce\\x06>\\xb4\\xff\\x00\\xb3\\xabt\\xc5Y\\xf2\\xce\\xe20@\\xa5\\t\\xd0\\x8eis\\x0e\\xc5#k\\x9epI\\xa8\\xcd\\xaa\\xe3\\'\"\\xb4\\xb6\\x91\\xc9\\xfd)\\xad\\n\\x90h\\xe6\\x0b\\x19Mm\\x82G\\x06\\xa0k~\\xb9\\xff\\x00\\n\\xd8d\\xc0\\x19\\xa8Z\\x1c\\x8c\\xe2\\xa9H\\\\\\xa8\\xc3t1\\x92GJtO\\x93Z\\x13\\xdb\\x82;\\x83\\xefY\\xcc\\x86)0sV\\x9d\\xcc\\xdah\\xd9\\xb0\\x94\\x86\\xc0\\xad#\\xf2\\x02K\\x05P9\\'\\x81\\x8f\\xff\\x00U`ZK\\xb1\\xc1\\xcf\\x15\\xab<\\xc2\\xe0\\xack\\xf7\\x02\\x8d\\xe4\\xf7#\\xa0\\xfat\\xacZ\\xd4\\xd9=\\n\\xf2\\xb9\\xbc\\x989\\x04\"\\xfd\\xc5\\xfe\\xa6\\xac\\xc2\\x85H\\n\\xbc\\x83\\xc9\\xa4T\\x18\\xc7O\\\\\\xd5\\x88T\\xe0c\\xae{\\xf6\\xa1\\xb0H|0|\\xb8\\xdb\\x92z\\xe4u\\xad\\x8d\\'G7\\x93\\xfd\\xd0\\x14r\\xcd\\x8e\\x14w?\\xa7\\xf9\\x02\\xa0\\xd3\\xad\\xe4\\xb8\\xb8\\x8e$B\\xec\\xcd\\x85\\x00c?\\xe7\\x93\\xf4\\x06\\xb6\\xee\\xee\\x12\\xc6\\xd8Z@\\xdb\\x9b\\x9f9\\xc0\\xc6[\\x188\\xf6\\xfe\\x80S\\x8a\\xbe\\xac\\x1b\\xe8\\x8a\\xba\\xbd\\xeclE\\xbc\\r\\xb6\\xda\\x10V1\\x8e\\xbe\\xac}rk\\x11\\xe7\\'8#\\x1e\\xf5,\\xe7\\xcc\\x93\\x93\\xf9\\xd3\\x19T\\x8e9>\\xd52we%dBpNO_\\xad=c\\x03\\x07\\x03\\xf0\\xa7\\x18\\xc0\\x1c\\x01\\xc8\\xa7\\xae\\t\\x03\\xaf\\x1c\\x9a\\x96R\\x01\\xf7\\xb0p1\\xc5\\x1f\\x85&y$\\x01N\\x1f4|\\x8aE\\x11aC6I8\\xa7*\\x91\\xce9\\x15\\x1b\\x81\\x9c\\x0e\\x9d\\x8d:90\\x99#\\xf3\\xa6!\\xce\\x0b\\x9c\\x03\\x81\\x8fN\\xb4\\xcd\\x80\\x80\\x01\\xf6\\xebJ\\tbOJv\\xe1\\x93\\xe8(\\r\\xc8\\x0e@#\\xbe{\\xd2)\\xe7\\'\\x9a\\x95\\xf0A \\xe2\\xa1<)# q\\x93LD\\x8e\\xe0 \\xc3\\x02[9^A_O\\xf2)\\xa01Q\\xcf_J@\\xdb\\xb2\\x7f\\xad.AP\\x01\\xed\\x8f\\xa5\\x02\\x1a\\xaawc\\x9e)Y}\\xfbzS\\x809\\x04\\x8a\\x0b*\\x1ey\\xf4\\xa2\\xe00&\\xd1\\xfe5\\x1b\\x8c\\xf4\\x1f\\x9dLH=\\xea7!\\x94\\xe0\\xf3\\xea)\\xa0#R8\\xe3\\x04\\xd3\\xca\\x16;T\\x16v?(\\x1d\\xea\"\\xa5zrzsZ\\x16\\x0bd\\x05\\xcc\\x97l\\x8c\\xc9\\x16\\xd8c\\xc1b\\xd21\\xc6\\xec\\x7f\\xb22y\\xef\\x8a\\xa5\\xab\"N\\xca\\xe6\\xff\\x00\\x87-\\xe3\\xd2\\xed\\xa3\\xb8\\xbbFk\\x89\\xd0?\\x96\\x83\\xe6\\x0b\\xd8\\xf3\\xd0dp:\\x9cU\\x7f\\x1c\\xe9\\xcf{\\x15\\xa5\\xe5\\x8d\\xb9\\xb8u\\x95\\xd6W\\x81rZ22\\xacq\\xf9d\\xfa\\xe2\\xaa\\xdfkF{\\xc7\\x9a\\xd6/$\\x1c*\\x97;\\x98(P\\xa0c\\xa7A\\xefY\\x93H\\xd7R\\x19\\'>l\\x87\\xa9p+J\\xf4\\xa8\\xb7\\x19\\xc1\\xfb\\xcb\\xee9(:\\xfc\\xd2\\xf6\\x89r\\xbf\\xbc\\x8a\\xde\\xc6\\xc2\\x08\\xc7\\xdb\\x9e\\xe1\\xe5\\xee\\xb6\\xce\\xb8_l\\x90r\\x7fJ\\xaa\\xd6\\xe8\\xb2\\xb3D\\xd2\\x18\\xf3\\xf2\\x99\\x00\\r\\x8f|q\\xf9U\\xde\\xa7\\x01p=\\xa9\\xe2>>\\xedf\\xb4:\\x92)\\x88Cw\\'\\xb6*Qn\\xb8\\xed\\xf4\\xab>Q\\x1d\\x00\\x15\\xb3\\xa5\\xe80j\\xb6\\xb9K\\x92\\x93\\xa9\\xf9\\x80\\x00\\xed\\xeb\\xc6:\\xf6\\xcesG0\\xd4[9\\xff\\x00#\\xdb\\x9fj6c\\xdcWu\\xa5xr\\xdd\\x96[K\\xebU\\xf3\\xa3PC\\xb1 :\\x9f\\xe2\\x07\\xeb\\x9f\\xa7\\x14\\x96\\xfe\\x19\\xb4qsg*nh\\xb0\\xc9*\\x9c\\x12\\xad\\x9c\\x1c\\xfa\\xf0F=\\xaay\\xca\\xf6l\\xe1\\x8ag9\\x1f\\xa7JO$\\x03\\xd3?Z\\xd1\\xbe\\xb2\\x9bO\\xbd{i\\x87\\xcc\\x9c\\x83\\xfd\\xe0z\\x1a\\x84)\\xc7#\\xb7j\\xa4\\xc9\\xb1\\\\@\\x02\\xf3\\xc5\\'\\x96\\xa7\\xd6\\xac\\x84-\\xd0SJ\\x1e\\x98\\xa2\\xe1b\\x0f#8?\\xcc\\xd0\"e\\xfc\\xea\\xca\\xab\\x83J\\xca\\xc4\\x80G\\xe9J\\xe3\\xb1\\x00\\x851\\x96\\xfc\\xc0\\xa7$[A+\\x86\\x1e\\xf5.\\xcc\\x8e\\x17\\x03\\xd0\\xd4\\xf6v\\xb2Os\\x14q\\xa8b\\xce>^\\xddy\\xcf\\xb6(\\xb8X\\xe84xO\\xf6=\\xb0a\\xb4\\x82\\xf9\\xc8\\xe9\\x92O5\\x93zK,\\x81\\x95\\xc1\\xcfP\\x99\\x03\\xd2\\xba\\x86O*\\xce\\xe2F\\xf9r\\xec@\\x03\\xa6Mr\\x97\\x90\\xc3,\\x84\\xc5,\\x81\\xcf\\xde\\xee\\xbf\\x95C\\xdc\\xae\\x86lr\\xb6\\xf0\\xa5y\\x07\\x82Eo\\xe9\\xb0\\xc7<\\x80\\x11\\xb4\\x9a\\xcd\\x8e\\xcd\\xc8\\xc9\\xc9\\x19\\xe4\\xe2\\xb6t\\xd8\\x84R\\r\\xc4\\x11\\xd9\\x81\\xe9@\\x8d\\xaf\\xb0\\xf9EJ\\x8eGOO\\xa5>Kx\\x96\\x14p\\t\\x1f{\\x18\\xcfJ\\xbf\\x19\\xdd\\x12\\xa9\\x1c\\xe3\\xa1=\\x7f\\x1a\\xaf(UG\\x0c\\xe1\\x10\\x9c\\x86<m5h\\x96`\\xdd\\xe9\\xe9+J\\xf1;\\x02X\\x92\\x01*Fy\\x14C\\x14p(\\x8aP\\x0f\\x18\\xdd\\x8eq\\xde\\xafO*\\xee \\xe3 pk&i\\x8c\\x923\\x12U\\x81\\xfe\\xb4\\x9bBW\\x11\\xe0\\xd9\\x8b\\x97a\\x86\\x90\\xed\\xf4\\x00\\xfaV}\\xe5\\xc9\\x8eG\\x95\\x07\\\\\\x96\\x07\\xd0\\x8c\\x7fZI\\xee\\n\\xab+t\\xcf\\xcc\\xa0\\xfb\\xf6\\xaaz\\x84\\xa1\\xd1\\xa3\\x1dJ\\xe4`\\xe6\\x8b\\x83D\\x8bk\\x15\\xd4\\x02A\\x80_\\r\\xcf\\xd3\\x15\\x9a\\xf0<Sl#\\x802O\\xf9\\xfa\\x1atW\\x9fg\\xdaI;@\"\\xa3\\xf3H\\x9f\\xcdu\\xc0r8\\x1c\\x80\\xa7\\xa0\\xaa!-K\\n\\xa1\\xd4\\x1c\\x9a*9\\xf3\\x0c\\xcf\\x1eA\\x00\\xf1EM\\xd9\\xad\\x872\\x86c\\x81\\xc68\\xcd\\x04\\x02\\x0e\\x06*v_^*\\'\\xcf\\xa7\\x14 #^F;\\x8ai\\xe7\\x06\\xacm\\x0cG\\x07?Ja\\x88\\xf6\\xe9\\xef@\\x15\\xcf\\x1d?\\xfdt\\xdc\\xfa\\x8f\\xca\\xa6d\\xc0\\xe0\\x0c\\xfd*\\'Q\\x95\\xcf\\x7fZv\\x11\\x0c\\x9bX\\xf6\\xac\\xfb\\xa8\\x03\\x0c\\x823\\xda\\xb4d\\x0c\\xa3\\x00t\\x1cUW\\xed\\xcej\\x90\\x9a\\xb9F\\xd2\\x16w%\\x86\\x14\\x1a\\xd9\\x88\"\\x00\\t\\xc6:T\\x0b\\xf7Fz\\x9e\\xb8\\xa9\\x90\\x1c\\xe78\\xe7\\xf1\\xa5\\'p\\x8a\\xb16\\xec\\x90\\x00\\x18\\xabV\\xd0\\x99\\x18\\x05\\xeb\\xf4\\xe8*(\\x97y\\xc62O\\xadoYZ\\xf96\\xcdp\\xdb\\x0f\\x96G\\x1b\\x80c\\xea@\\xef\\x8a\\x94\\xaeV\\xc5\\xa8\\xa6:Lo\\x18B&\\x90m9\\xfb\\xca?\\xcf\\xeb\\xec+*Y\\x9b;\\x8f>\\x994\\xeb\\x9b\\x83,\\xac\\xed\\xd4\\x8a\\xa8\\xce\\x1b\\x19\\x07\\x9e\\xd9\\xe0\\xd5J]\\x10%mG\\x19\\x03r@\\x1d(\\xca\\t0y\\xf7\\xa8\\x9b\\xa6\\x0e0:\\x9fjk0c\\xdb\\x1e\\xd5\\x1b\\x96N\\xce6\\xe7#\\x9fZ\\x15\\xc7AU\\xba\\x00\\xc5\\x80\\\\\\xf1\\xb8\\xd2}\\xaa\\x04\\x1c\\xca\\x9f\\x9eiX\\x0b\\x1b\\x8fjp}\\xcb\\x81\\xd2\\xa9\\xb6\\xa3n\\x17\\x00\\x93\\xf4Za\\xd4\\x91A\\xda\\xae\\x7f!E\\x9b\\x15\\xd1e\\xfeL\\x83\\x82j\\x10\\xc7<\\xf75^K\\xf0zDs\\xeaZ\\xa2\\xfbkn\\x07\\xcb^=I\\xaa\\xe5bm\\x1a%\\xc9#\\x8e\\x05\\'\\x1ds\\x92:\\xe2\\xb3\\xcd\\xf4\\xbb\\xb3\\xb1?ZA{ V\\x04\\x00\\xc7\\x18\\xc7O|\\xd1\\xca\\xc3\\x99\\x17\\xde@\\xcc\\x01=i\\xb2>\\x13\\x81\\xc1=\\xab;\\xedRq\\x82\\xb9\\x1f\\xec\\xd0\\xd730\\xc1`\\x00\\xed\\xb6\\x9f(\\xb9\\x8b\\xca@lg\\xf0\\xa7\\x07\\xc7\\x03\\xb7\\xa5g\\x19\\xa5\\xceD\\x80}\\x05 \\x96RA\\x12\\x1e)\\xf2\\x871\\xa4\\xd2\\x95\\xda\\xbd\\xcd3\\xcc\\xdd\\x80z\\x9a\\xa0e\\x95\\x81\\xcb\\x9f\\xaei\\x85\\xe5,0\\xef\\x9fcG(s\\x1a\\xc0\\x16\\xe3\\x1fZc\\x1f\\x9b\\x03\\x9a\\x8e\\xde\\xd2FUyf\\x91\\xb3\\x9f\\x90\\x13\\xc7\\xd7\\xd6\\xb4#\\x80\\x13\\x8c~4\\xad`\\xbd\\xca\\x82\"\\xc7\\'\\x8fj\\x99S\\xb0\\xc1\\xabE\\x14\\xf0)\\x9eY\\xe8;u\\xa2\\xe1\\xcaD\\xb1\\x8c\\xfc\\xc3\\xf1\\xcdJ#\\x19\\xa5\\x0b\\x8f\\xf0\\x15*\\xf2\\xa3#\\x14\\xaeR\\x88\\xc01\\xfc9\\xfc)p\\x01\\x07i<\\xe6\\x9cr0\\x07\\xe5\\xe9JM+\\x8e\\xc7U\\xa7\\xe9\\x9e\\x1b\\xd4\\xb7\\x08\\xa5\\x1e`#\\x11\\xf9\\x85Xg\\xd8\\xd5\\xb5\\xf0\\x9c\\xdaF\\xa3\\x15\\xfe\\x97t2F%\\x86nU\\x97\\xfd\\xe1\\xdf\\xbfJ\\xe1d\\x8d]s\\x8eG \\xf7\\x15\\xd5\\xf8_\\xc4S\\x16\\xfe\\xcd\\xbe\\x99\\xa4f9\\x86Wl\\x93\\xfe\\xc1\\xfe\\x94\\x8bg@\\xf1o\\x90<\\xab\\xb9\\xc0\\xeaO\\xad3\\xec\\xe0\\x92p3\\xd8\\xe3\\x06\\xaf\\xa8Y\\xa6)\\x8f\\xbb\\xd7\\xf1\\xabii\\x19\\xea3\\xec9\\xa9!\\xb4\\x8e\\x1fY\\xd1.o\\xee\\x16{r\\x19\\xd1v\\xf9lq\\x9es\\xc1\\xacx\\xf4mM\\xf8]>\\xe0\\xf3\\x8eS\\xf0\\xafD\\xbc\\x81-\\xf3(\\xe3o\\'\\xdcTw\\xda\\xad\\x9e\\x9fn$\\x9eUS\\xd8g\\x96\\xf6\\x03\\xbd;\\xbe\\x80\\xac\\xce-</\\xa9\\xe0\\x17\\x8a4\\xe3\\x9d\\xf2\\x8f\\xe9Y\\xd7\\xfau\\xce\\x9bvm\\xae\\xa3\\t&\\xd0\\xc0\\x03\\x90T\\xf4 \\xd7Ey\\xe2\\xf9n\\x0b-\\xa5\\xa6\\x14\\x9e\\x1eS\\x8f\\xc7\\x02\\xb1n\\xee\\xa7\\xbf\\x9c\\xcds&\\xf7\\xda\\x14\\x100\\x00\\x1d\\x054\\xdfR\\xec\\xacRX\\xc9P0>\\xa6\\x86\\\\aX\\xf2*\\x7f,yd\\xe4\\xe7\\xd3=*\\x12Ga\\x9fz.+\\x06\\xd1\\xf8\\xfb\\xd6\\xe7\\x87\\xa2\\xddv\\xee\\xc3\\xee\\x8c\\n\\xc1\\x12\\xe7\\x8a\\xdd\\xf0\\xd4\\xc0\\xdc\\xce\\xb9\\xec\\xa7\\xf9\\xd0#oS]\\xd6\\xac\\xbf\\xde<\\xfa\\xd7(\\x19Spy\\x18\\xed=:\\xe3\\xf1\\xae\\xd6h\\x92\\xe1vH\\xa1\\x94\\xf3\\x83X\\x13i\\xb3D\\xf2N\\xb0\\x15\\x82\"F\\x14g\\x07\\xe9R\\xc2\\xd7\\xd8\\xcbYO\\x9b\\x80\\x19\\x18z\\x0e\\x7f\\xcf\\xd6\\xaf\\xc1++)l\\xff\\x00\\xc0\\xab)\\x1b\\x1f\\xbc\\'\\xe7bH \\xfb\\xd6\\x82b $\\x95\\x8f\\x1dI9\\'\\xd0S\\x13GGo.\\xf5\\x18\\xc8$t#\\x83S\\xba\\xc7*\\xb0p\\xa3\\x03\\x04\\x93\\xd2\\xb0\\xe1\\xbbX\\x88\\x18\\xf9\\x8f`\\xd8\\x02\\xb4\\xe3\\x95d\\x1f6\\xd2q\\xc1=\\xaa\\xaeM\\x8a\\xd7\\x90\\x83\\x18\\x07\\x07oB\\xbe\\x95\\x8dw\\x01\\x01\\x9d:\\x8f\\xbd\\x8eq\\x8f\\xf3\\xf8\\x8a\\xe8\\xe4\\x98\\x84\\xda\\x01\\xf7\\xc5d]H\\x10\\x80T\\xe4}\\xd7\\x03\\x04\\x7f\\xf5\\xbd\\xa90F\\x15\\xe2\\xc74m2\\xf0\\xea?x\\x9e\\xa3\\xfb\\xc2\\xb2\\xaem]~nJ\\x91\\xf2\\xb0\\xec\\x7f\\xfdU\\xd1O\\x0f\\x9f\\xfb\\xc8\\x82\\xac\\xaa3\\x80\\xe3\\x9a\\xa0-\\xe6\\x8bq\\x87\\x01\\x1b\\x92\\x8c\\xb9\\x1f\\xe1B`\\xd1\\x8f<`\\xdb\\x97)\\x80\\xc7\\xe6\\x1e\\x9fOcU^U\\xb8\\xb6\\x94\\xa9\\xf9\\xd1r\\x0e:\\x8a\\xb9\\xa8\\xca\\xfeQ\\x01\\xd0!\\xe4\\x84\\x1c\\x03Y\\xd6\\xc8\\xb0\\x95\\x0c\\x9b\\x879\\x07#\\x8cV\\x91\\xd8\\xc9\\xe8\\xcbZ\\x84\\x80\\xdc)\\x1dLjH\\xf48\\xa2\\xaa\\xa4\\xef.\\\\\\xc8\\xa83\\x800:\\x01\\x8e\\xe2\\x8a9J\\xe7F\\xde\\xd02{R\\x90;/\\x14\\xe6\\xfb\\xc7\\x8cm\\xe6\\x9e\\xab\\x9e\\xfd\\x0f\\xff\\x00\\xae\\x95\\x86B\\x8b\\x80H=\\xc7Z\\x1d1\\x16\\xf6\\xefS\\xcc\\xbbd\\xdb\\xd0\\xe3\\xa5>\\xfe,Ej\\x83\\x1f\\xbdlS\\xb0\\\\\\xa3\\xe5\\x91\\x0b9\\x1cSo \\xdb\\xa4\\xc1r\\xa7\\'\\xb8\\xc7\\xa7Z\\xd7\\xf2\\x03\\xc7ul>\\xf2\\xa1#\\xf0\\xac\\xebR\\x93ZC\\x13\\x9f\\xdd\\xf9\\xdeSdt\\x0e\\xb8\\xa7\\xb0\\xb5eV\\x87\\xcf\\xbc\\x8a4\\x1c\\xc9\\x01a\\xf8VaO\\x98\\x8e\\xf8\\xc1\\xad;i^\\t\\xf4\\xe6~&\\x86Im\\x9f\\xb7 qT\\xaf\\x15R\\xfa\\xe1S\\x95\\xf3N\\xd3\\xecy\\xfe\\xb4\\xad` \\xc98\\x1d\\xbf\\x9d[\\x86=\\xee\\x18\\x9a\\xaa\\x8ar+N\\xd4mh\\xf3\\xfcC\\xf5\\xa5&R4t\\xebGy\\x00^\\x1d\\x88T\\'\\xb1=[\\xf0\\x00\\x9f\\xc0T\\xba\\xa5\\xcaG\\x88\\x164M\\x87h\\n\\xdb\\x81\\x02\\xab]_&\\x98\\x8e\\x87!\\xe4\\x8cy{N\\x18d\\x9c\\xfe\\x04c\\x9f\\xd7\\xads\\xf2^<\\xceq\\xf2\\xaf<-8\\xad\\x04\\xde\\xa6\\x94\\xb7h\\xb8\\xdc\\xe3#\\xb0\\xaa\\xafv\\x7f\\x84\\x12H\\xe7<UB02E5\\xa4\\x00\\xe3\\'\\xf0\\xa6\\xa2\\x82\\xec\\xb6o&<.\\xd5\\xfasU\\xdaYXs#\\nh$\\xe7\\x03\\x18\\xf5\\xa6\\x9ei\\xa4\\x85q\\t?ZU\\xdd\\x9cS\\t=\\x07\\x1e\\xc2\\x9c3\\x8f\\xbci\\x81&\\x0f\\xaf\\xebF8\\xc6M3\\xbfZS\\xcfL\\xd00\\xc0\\xc5\\x00(\\x19\\xceh\\xd9\\xbb\\xb5.3\\xe9@\\x86\\xee\\x18\\xfa\\xd2\\x12\\x0fs\\x8a\\x90 \\'\\xa8\\xa5\\xf2\\xf2x\\xc7\\xe5@\\x11pG\\xb5\\x1d\\x0eA\\x06\\x9e\\xc9\\xd3\\x14\\x9bI\\x1d(\\x01\\x07\\xebF:R\\xaa\\xf3\\xd4\\xd0Tg\\x8c\\xe6\\x90\\x00\\xcf\\xf9\\x15\\xa5kg\\xb5L\\x92|\\xb8\\xe1\\x8f\\xa6\\x7f\\x84{\\xff\\x00*\\x8fM\\xb6\\x0c\\xcdq!\\xf9#\\xc63\\xfd\\xe3\\xd3\\xf2\\xe4\\xd5\\x8f;\\xcd!W\\xfdZ\\x02@?\\xa9>\\xf5-\\x94\\x96\\x97.C\\xb4\\xf0\\x17j\\x8e\\xd5\\'L\\xe3\\xa95\\x14XU\\x06\\x95\\\\3\\x16\\xe3oj\\x96U\\x89\\xd0\\x05\\x18\\xc6OsH\\xcas\\x82y\\xa5NFz~5&\\xd2O#\\xa5\"\\xd1\\x1e\\xc2Gn\\xb4\\xbe^z\\x9e\\x95(R}\\xc5<\\xa8#\\x80\\x7f*W\\x1d\\x8a\\xac\\x87<\\xe6\\x9a\\x10\\xb1\\x1dF*\\xc8\\\\\\xf5\\x1fZ\\x93\\xcb\\x00\\x0e?\\xad\\x17\\x15\\x8a\\xdb7\\x1fJG\\x8dH\\xf7\\x1c\\xe4\\x1cb\\xad\\xacJ\\\\\\r\\xd8\\xcfJ\\xea<\\x13\\xa0C\\xa9\\xea\\xefqr\\x81\\xe1\\xb5\\xc1\\x08G\\x0c\\xe7\\xa6}@\\x00\\x9f\\xca\\xa9E\\xb6L\\xa4\\xa2\\xae\\xcd\\xdf\\x06i:\\x9d\\xce\\x9e.\\xb5$+\\xbf\\x023 \\xc1t\\x03\\x86#\\xd6\\xbbx\\xb4\\xe8\\xa3_\\x99\\x9b\\xe88\\x1f\\x90\\xa9b\\xcb\\xdc8\\xcf\\t\\x81\\xf8\\xd5\\x90\\xa0\\x02\\xed\\xf8\\n\\xd9S\\x8a<\\xf9\\xc9\\xc9\\xdd\\x99\\xf7:]\\x8d\\xdc-\\x0c\\xd1\\x06F\\x18 \\x93\\\\/\\x88~\\x1d3\\xbb\\xdd\\xe9\\x97\\x12I1\\xff\\x00\\x967\\r\\x9c\\xfb+v\\xfa\\x1a\\xf4G\\x98\\xa6\\x0b\\xaeS\\xbf\\x1c\\x8aV\\x00\\x0fQ\\xda\\xab\\x95\\x04f\\xe2\\xf4>uth\\x99\\x92@U\\x91\\x88`\\xc3\\x1bH\\xea\\x08\\xa64\\x84\\x1e\\x0eFkg\\xc5q\\xa5\\xbf\\x89\\xf5\\x08\\xb0\\x06\\\\?\\xe2@\\'\\xf5\\xcdb\\xe4.\\x17\\xf8[\\xb9\\xf5\\xaey+\\x1d\\xf1\\x95\\xd5\\xc42\\x9c\\x15\\x0cCz\\xe2\\x98\\xcb*\\x80r9\\x18\\xc5\\t\\x1b?\\xcc\\x0b)\\x03\\x18\\xcfZ\\x11\\xd8F\\xca\\xe5\\xbeC\\xcf\\xcd\\xfa\\xd4\\x95q\\x8e\\xa1c\\r\\x92Cw\\xc7J\\xbf\\xe1\\xfb\\xb1\\x06\\xb6\\x91\\xb1\\x18\\x95\\x19\\x7f\\x11\\xc8\\xfeF\\xb3$r$d\\xc8dn\\xf9\\xe35Q\\x9d\\xf7F\\xe8\\xc5\\x1dNC/\\xf0\\x91\\xd0\\x8f\\xc4U$Kg\\xab+\\x02\\xe3\\x07\\xe8+J\\x11\\x14S\\x07$\\xbaNJ\\xcc\\xa7\\xa2\\x8e\\x81\\xbf>+\\x87\\xd2\\xbcD\\x97\\xb1\\x88\\xe5\\xdb\\x1d\\xda\\x01\\xe6\\xc5\\x9c\\xe3\\xfd\\xa1\\xea\\xbe\\xff\\x00\\x81\\xe6\\xba\\xf8\\x82\\xcf\\xa4\\xad\\xe3\\xbb\\x0c>\\xe0\\xfb\\xb8\\x0b\\x9ex\\xee?Z\\x86\\xbb\\x95\\x17s\\x8f\\xd7t\\xbf\\xec\\xadI^!\\x9bw|q\\xfc\\'\\xb7\\xe1\\xcdQ\\xb9\\x94\\x97wV\\xf9T\\xe0\\x10=+\\xb0\\xd4\\xe1[\\xe9\\x0e\\xf8\\xcb\\x85U\\'\\x9f\\xc4\\xd7\\x11{m-\\xa5\\xdc\\x96\\x8cIL\\xf0\\xc7\\x8c\\xafjHr$\\xb3m\\x801\\xcb;s\\xec\\x07\\xf9\\xedZ\\xb6\\xb7\\xcaf1 \\xe8y>\\x95\\x91v\\xc6(\\x12(\\xf0\\xa5\\x81flr@\\xff\\x00\\xf5\\xd1l\\x04\\x03n\\xed\\xa7\\x8c\\xf7\\xfc\\xea\\x91\\x9d\\xce\\xb1eipI\\x19\\xf4#9\\xa8\\xa6\\x93\\x18Rx\\'\\xd7*+\\x1e\\xde\\xfc\\xb3\\xc8\\x15\\x81\\xcf\\n\\xa2\\x9e\\xda\\x91@\\xeb\\xb8\\x15\\x1ds\\x8e\\x9e\\xb4\\xc0}\\xc4)\\xb7.\\x83\\xd0\\xec\\xe3\\xf2\\xf7\\xac\\x8b\\xa9\\xa2Ed\\xf3\\x82\\x00:\\x91\\xb4\\xb5O=\\xe4M\\x032H\\xd8\\xee\\xd9\\xca\\x8f\\xa5swwk0\\xfd\\xcb\\x99\\t\\xfb\\xc4\\x8c\\nJ-\\x83\\x91[T\\xbbV`\\x89\\x8cch\\x15Y\\xe5\\x92i\\x18\\xc7\\xf2&\\xdd\\xaaH\\xc7\\x1e\\xbf\\xa7\\xeb@\\xb5\\x04\\xeerK{\\xd4\\xe9\\x12\\x06\\x03\\xb7\\xadj\\xac\\xb62qm\\xdd\\x91%\\xa22\\r\\xc78\\xe2\\x8a\\xba\\x111\\xc0\\xfc\\xe8\\xa7\\xcc;#^\\x1c6\\xe6n\\x07\\xccO\\xe02*[U\\x12\\xc4\\xc5~\\xf8e\\x18\\xff\\x00\\x80\\xe75Z>`\\x91\\xcc\\x80\\x05laG\\\\\\x8c\\x1f\\xe5\\xfa\\xd4\\xba|\\x88.6\\xc8\\x18\\xc6\\xab\\xb9\\x97q\\\\\\xe0w\\xc6=\\xff\\x00:C\\x12Y<\\xdb\\xb7\\x91H\\xc0\\x8dp\\t\\xc6N9\\xab7\\xd3Fg\\xb2\\x118q\\x0bd\\x94\\xe7\\x9c\\x0fOz\\xcf\\xb6 ^&x\\x05\\xb3\\xf8g5sS\\x9aI\\x8a\\xae\\xe3\\xf2r0zQ}\\xc2\\xdb\\x17\\x12Fk\\xe8\\xe7X_\\x0e\\xaa\\xac\\x08\\n3\\xdf\\x92~\\xb5\\x85\\x14\\x88\\x91\\xcb\\x01B\\x06\\xdd\\xc4\\xe7\\xa6\\t\\xf9\\x87\\xe6\\x07\\xe5W\\xd1\\xf1o\\x0e\\x0e\\xd5Q\\xdb\\xb5eF\\xfem\\xc5\\xdb\\x01\\xff\\x00,X\\x0f\\xc7\\x14\\x9e\\xa0\\x88\\xefgf\\xd5^F\\xda\\xad\"\\x8b\\xa3\\x81\\x85\\xf36\\x8c\\xe3\\x9e\\xf5^\\xe7\\x02\\xf6p3\\x80\\xdcg\\xe9I|\\x19\\xae&\\x95G0\\xb4j>\\x98\\xc1\\xa5\\xb9\"K\\xb9\\\\r\\xacU\\x87\\xbeE0\\x08\\x97q\\x18\\xf5\\xe6\\xa4\\x92\\xf8\\xdb\\xfc\\xb0\\xe0\\xcb\\xeaG\\t\\xfe&\\xab\\x99Lq`}\\xf3\\xd0\\xd4q\\xc7\\xcf=z\\x93G/V;\\x89\\x86\\x91\\x99\\xdd\\x8b;\\x1c\\x96\\'$\\x9fzU_\\xa0\\xa98\\xed\\x8c\\napO\\x15HB\\xf2x\\x02\\x97\\n8\\xee\\x7fJPp2{\\xd1\\xc1\\xe4\\x9e\\x07z\\x00aVby\\x18\\xa4)\\x8fz\\x9a2:\\xe3\\x03\\xb5J0\\xc3\\x91\\x9f\\xc2\\x95\\xc0\\xa6A\\xea8\\xf6\\xc7Z6\\x1c\\r\\xd5l\\xa08\\xc0\\xe6\\x90\\xc5\\xc7\\x18\\xe2\\x8b\\x81XG\\xcf\\xca\\t\\xe6\\x9e#8\\xf4\\xf5\\xe6\\xac\\x05\\n\\x9c1?\\xa53\\x19\\xc6sE\\xc0`\\\\(\\x04`\\xd2c\\x90B\\xf3\\xeb\\x9a\\x90\\xa0\\x1f\\xe3L;q\\xd0\\xfet\\x00`\\xf2H\\xe4\\xf7=\\xe9\\xbb\\x8ezS\\xf1\\x95\\xef\\xf8\\x9aon\\x9e\\xd4\\x00\\xc2O\\xa7z\\\\\\x1e\\xbc\\xf1\\xe9K\\xbc\\x85\\xc5&\\t9\\x06\\x80\\x1c\\xad\\x81J\\x1b\\x9eqL\\xc1\\xe7\\x8e\\x9e\\xa2\\x9d\\xb0\\xe3\\xbe=(\\x03m\\x94A\\xa2\\xc1\\x160\\xf2\\xabJ\\xdf\\x89\\xc2\\xfe\\x80\\xd5(\\x17~\\xc1\\xdaG\\xe4\\xfb\\x03\\xfe&\\xa0\\xb6\\xbf\\x9e0m\\xa6\\x90\\x00\\xe9\\xe5\\xa4\\x98\\x19#\\x18\\xc15%\\x9d\\xc2l\\xc4\\xa5\\x96E\\x19\\\\}\\xd3\\xde\\xa1\\xa6Ze\\xc6a\\xe6?\\xa0$\\x0f\\xcf\\x1f\\xd2\\xa7\\x822b\\xde\\xdc)m\\xbf\\x97Z\\xa6\\x03\\x19\\x0e\\xeeC\\x107\\x0e\\x98\\xc8\\xab\\x8d/\\xfa,*\\x0f\\x08\\xac\\xce?\\xda,\\x7f\\xa0\\xfdjJL\\xb6\\x88Xn\\xc63S\\xc5\\x19d\\x91\\xcfE\\xe0}j5V\\x02\\xdc\\x1f\\xe3R\\xc4\\xfd*\\xe8\\x91\\x12\\xd2\\xde<\\x7f\\xac\\x90;\\x1f`O\\x1f\\xa0\\xa4U\\xc8\\xde-\\xa7g\\xa7\\\\Sv\\xfc\\xee\\xbd\\x00\\xc7\\xebV0w\\x06~\\x1d\\x8e\\xec\\x1e\\xc2\\x92h\\xf6^0\\xc9\\xfb\\xa8A\\xff\\x00\\xb6\\x80\\x1ai\\n\\xe4P\\xc4Xg\\x1d\\xea\\xc0\\x8c\\x12\\xb9\\x03i g\\xd35n\\xd2\\xddWL\\x86f`^S\\x90\\x0f\\xb98\\xfeF\\x8b\\x8b}\\xb6\\x97,>\\xfcj\\xed\\x81\\xea\\xad\\x93\\xfaU\\xf2\\x93\\xcdr\\xac\\xb0y,T\\x80q\\xd0\\xfa\\xd7m\\xe0\\x17\\t\\x7f4C\\x1b%\\x88I\\x8e\\xe0\\xaf\\x07\\xf9\\xd739\\x8eQ\\x13\\x106\\xb3\\x14\\'\\xea\\x03\\x0f\\xe7Z\\xbe\\x0c\\x98\\xc5w\\x1f9\\xdc\\xf2@\\xbe\\xb9a\\xc7\\xebN:3:\\x9a\\xc4\\xf5\\x0b5\\xccE\\xff\\x00\\xe7\\xa3\\x16\\xfc;~\\x98\\xa9\\xc9\\x0e\\xc7\\'\\x08\\xb4\\x88\\xa28\\x02\\x8e\\x80`U}\\xe2p@8\\x81x\\'\\xfb\\xe7\\xfc+S\\x88{O\\xe6dF2\\x9e\\xa7\\xa1\\xaa\\xabp!o-\\xd8ylx#\\xf8O\\xf8T\\xcc\\xbeb\\x17\\x7f\\x961\\xc2\\xafA\\xf8\\xd6{\\xd84\\x93\\xef\\x88\\x08\\xa3#\\xe6\\xca\\xfd\\xff\\x00\\xc3\\xfa\\xd3@y7\\x8eT\\x8f\\x1aj\\nx\\xe5\\x08\\xfa\\x14\\x1f\\xd75\\xcd\\xb0o-\\x06\\x0f\\x0f\\xc1\\x02\\xbd\\x8bV\\xf0\\x05\\x96\\xb3q5\\xd9\\xba\\xb8K\\xd9\\x14\\x0f7\\x86Q\\x81\\x81\\x95\\xf4\\xc0\\xf5\\xaf\\x1f\\xf1\\r\\x9d\\xfe\\x89\\xab\\xc9\\xa5\\xde\\x91\\xbe2\\n\\x15?,\\x8a\\xdfu\\x97\\xeb\\xfc\\xf3X\\xca.\\xf7;)\\xd4MXk\\xc8c\\xdd#6\\xcfP\\xc6\\xaa\\xcd|\\x83\\xe7UrJ\\xe3\\x90\\x06k\\xa0\\xbc\\xf8q\\xe28\\x94y1\\xc1t\\xcd\\x1e\\xe2\\x90\\xc9\\x86\\x1e\\xa0\\x06\\xc6\\xe3\\xf4\\xa7h\\xbf\\x0eu]R\\xd0Ox\\xff\\x00b\\x89\\xf0c\\x0c\\x9b\\x9c\\xf3\\xceW\\x8d\\xbd\\xfa\\xd1\\xca\\xed\\xa8\\xddX\\xae\\xa7$eb\\x9b\\xc0\\xc7\\xeai\\xb2\\xc8\\xaac\\x97p\\xe3\\xb3\\x1c\\xff\\x00:\\xf6\\x9b?\\x86^\\x1b\\xb3\\x80\\t\\xa2\\x9e\\xf6B9i\\\\\\x9f\\xc8\\x0c\\x01[\\x16:\\x16\\x8dd\\xeb\\x12\\xe9\\xd6p\"\\xf0\\x0f\\xd9\\xc6\\xe3\\xfc\\xe9\\xf2\\x19\\xba\\xc8\\xf9\\xf4\\xc2\\xf7r\\x07\\x8a\\x19\\xa5\\xdb\\xc8xU\\x89C\\xea\\n\\xf4\\xad\\x9d\\x07\\xc57\\x96W\\t\\xa7_K#\\xc4\\xf2\\x00\\x8c\\x06\\x08c\\xd0:\\xf6>\\xe0\\n\\xfa\\x1e\\x16HWlJ\\xb1\\xc5\\xd0,c\\x00~UCP\\xf0\\xfe\\x97\\xaa0\\xfbu\\x85\\xb5\\xc1\\xceC<`\\xb0\\xf7\\r\\xd7\\xf5\\xa7\\xc8\\xada*\\xda\\xdc\\xe1b\\xbaB\\x03\\x03\\xd7\\xd7\\xbda\\xf8\\x9c#\\x1bI!\\xda\\x1b{\\x06\\xf5\\xe4q\\xf8dW\\xa6K\\xe1\\r8\\xc7\\xfe\\x8f\\xe6\\xc2}\\x9bp\\xfc\\x8db\\xde\\xf8&Y\\xd7h0\\xc8\\x01\\xca\\x90\\xc5H5\\x93\\xa7$l\\xabA\\x9e[\\x7f\\'\\xcc\\xa1x;1\\xcf\\xb75RI\\x8c\\x10\\x9f\\x98n#<\\xfa\\xd7i\\xaa\\xfc<\\xd6\\xc8SclY\\xba8i\\x14\\x86\\x1f\\\\\\xf1\\xda\\xb9\\xfb\\x9f\\x00\\xf8\\xaeC\\xb7\\xfb\\x1d\\xcf\\xbf\\x9c\\x83\\xf9\\x9aq\\x84\\x98\\xa58\\xf79\\xb4\\xd4\\x9e\\x1es\\xcesQ\\xcd\\xa8\\xcd1\\x0e\\x99\\xdd\\xd0c\\xae*\\xd6\\xbf\\xe1-_B\\x10\\x9d@\\xda\\xdb<\\xff\\x00r!0y\\x19{\\xb6\\x00\\xc0\\x03\\xa6I\\xeb\\xc0\\xaa\\xf6\\xf6\\xc9\\n`\\x0c\\xfa\\x93\\xc95n*$\\xa6\\xe468I\\x01\\xe4\\xc9\\x1d\\x97\\xb0\\xa9D@\\x1e\\x07Z\\x9d\\x17q\\xcfQR\\x02\\x17\\x82*\\x19i\\x15\\x8c \\x83\\xc0\\xcd\\'\\x94Cd\\x01S\\x1c;\\xf4\\xfc\\x05 \\n;\\x9fjch\\x12\\x1e(\\xa7\\x05\\xe3\\x8c\\x91E\\x02\\xb1*\\xfc\\xb1\\x15\\xf59\\xe6\\x908Ur\\x7f\\x88b\\xa3f=\\x01\\xe7\\xb9\\xa63\\x90\\xb8\\xc7\\xe3Sp\\'\\xb7\\x18\\xb8\\xdcs\\xd0\\xf4\\xa9\\x9e]\\xef\\xb9\\xbf\\xbb\\xfa\\xd5E\\x90\\xa9<\\xe7\\xd4\\xd3Y\\x98\\xe7oL\\xf0q@\\xcb\\x06L[0\\xef\\xd8S,\\xd68\\xa2\\x9aW`7.\\x0ej\\xbb9\\xc1\\r\\xfc\\xea\\x19_)\\xb4\\x93\\x83\\xd2\\x98\\x11\\x07\\xde\\'\\xc8\\xe2F\\xcf\"\\xa0F\\xf9\\x9b\\xd0\\x00?JY\\x1dQN*\\xb4Rn\\x90\\xfe\\xb5i\\x12\\xd9`\\x8d\\xee\\x01\\'\\xaf\\xe8:\\xd4\\xb2(\\x0cUq\\xc7ZlG\\xe7.q\\xc0\\xe3\\x8fJh$\\xf5\\xce:\\xf3\\xde\\x81\\xa1\\xcd\\x9c{u\\xc5F1\\xd4\\x8aV\\xc8<\\x9e\\xdf\\xad\"\\x80\\x00\\x03\\x93L\\x05\\x18?\\x85#ry4\\xed\\xa5\\x8f_\\xc6\\x90\\xfc\\xb8\\xf44\\\\,H\\x8a1\\xef\\xd8T\\xc0\\x8d\\xbd\\xbf:\\x81>\\xf6q\\xc6>\\x95(l\\xaej@\\x9d1\\x8c\\xfeT\\x1d\\xa1}I\\xf4\\xe9MS\\x84\\xce\\x07\\x1d\\xa9\\xd8\\xc8\\xc9\\xc1\\xf4\\xa4\\x03H\\x1fx\\xe3\\xda\\xa3#\\x19;\\x7f\\x1a\\x979\\xc1<\\x0cS\\xc0\\xc7E\\xe7\\xde\\x98\\x15\\xf9a\\x82>\\x86\\x81\\x18$\\x9c\\xf1R1\\xdd\\x9c/N\\xf4\\xd5\\x07\\x07\\xd3\\xd4\\x9a`(D\\x03\\x91H\\xca\\xab\\xc6?:7\\xf3\\xdc{PX\\x83\\xd0\\xfe4\\x08\\x8f`<\\xe3\\x03\\xf9\\xd2\\x80\\xab\\xde\\x9eO\\x03\\x14\\x1cc;A\\xa0\\x08\\xf7\\'=x\\xedB\\x85\\xda84\\xa7\\xd8dSX\\x9fC\\x8cv\\xa0\\x01\\xd5\\x1dHe\\x04T$\\xdcD\\xc3\\xcb`\\xd8<\\x16\\xeb\\xf4>\\xb4\\xf2@\\xe9\\x80M\\x1c\\xb1\\xc2\\x83\\x83E\\x80Xoe\\x84\\x16`\\xc8\\xa3\\xa9\\x1c\\xa8\\x1f\\xe1[\"h\\xe4\\xb7-\\x807\\xec<w\\x19\\xff\\x00\\x1a\\xa0\\x96\\xc5\\x97\\x00c\\x1d\\xfaSR\\t`\\x04\\xc1\\x96\\x8b\\xa9\\x8c\\xf1\\xf9\\x7f\\x85K\\xb1I\\xb3\\xa7YQ\\xa0\\x89\\xd4\\x8c$EI\\xc8\\xe3\\xe6\\xff\\x00\\xf5Qq\\xb9R\\xd8\\x8eQ\\x14\\x02OrCc\\xf9\\xd6\\x15\\x9d\\xef\\x96d\\x8a\\\\\\xaeF\\x08n\\xd9\\x15\\xa7kpf\\xb713\\xb1(\\xb9\\x8c\\x93\\xfe}?Z\\x97\\xa1i\\xe8j<\\xc9!Y\\x03\\x01\\x9bu+\\x93\\xd4\\xfaR\\xcb*\\xccd\\x99C.c\\\\\\x06\\xc6r%C\\xfd\\t\\xac\\xf8\\xef\\x9e \\xa1\\\\&\\x06A\\x03\\xd6\\x88o\\x16)\\x18)]\\xaf\\x8eYA\\xed\\x8e\\xe2\\x92v\\x0b\\x1av\\xd7\\xaa\\xafb\\\\lH\\x1d\\x15\\x81\\x1dv\\x82A\\xfcx\\xad\\x16\\xbc\\xb7\"w}\\xfeS\\xac\\x81X\\xa1\\x19.\\x00\\xc7\\xf3\\x15\\xceGv\\xf6\\xd1+\\t\\n\\xc9\\xb4\\x0e:\\x8e\\xa0\\xe0\\xd3\\r\\xdbM4Q\\x92N7Hr{\\xf4\\x1f\\xce\\xab\\x99\\xd8\\\\\\xa8\\xd5K\\x86\\x86\\xc9!\\x94~\\xf1H}\\xde\\xca6\\x1e?\\x1a\\xdd\\xf0$\\xc2o\\x13\\xc4\\x0b\\xe23\\xbeb6\\xe3\\x908\\xef\\\\Y\\x9dVy]\\x9b\\x82\\xa1r}\\xabO\\xc2\\xfa\\xa7\\xd9<I\\xa7\\x00\\xe3\\x123F~\\x8c\\x08\\x1f\\xae(\\x8b\\xd4S^\\xeb=\\xd2Y\\xfe\\xd2\\xc64\\xc8\\x88uo_j|\\x11\\xe6%PH\\xc7\\xa5U\\xb4\\x93| \\x8e\\xe2\\xadZ8h\\xc7lq]\\x07\\x9eJaU\\xe4\\xe4\\xfb\\x93P;n\\'\\'\\x08\\xbdMY\\x98\\x91\\x19\\xc7^\\x82\\xa0\\xb8@\\xaa\\x90\\x81\\x81\\xd4\\xfb\\xff\\x00\\x93Hd\\x12J\\xc62\\\\\\xec\\x8c\\x0c\\x84\\x1f\\xd7\\xd6\\xa9\\xc3\\xa6[Op\\x97\\xb3\\xdaB\\xf7\\n0\\x92<`\\xb2/\\\\\\x02zu\\xadAo\\x16\\xed\\xed\\x18-\\x8e\\xb5!]\\xc3\"\\x98\\x8a\\x81T\\\\\\x97n\\n\\xa8\\xc7\\xe7H\\x15d\\xb8\\x97j\\x95S\\xf3\\x0c\\xfb\\xf5\\xa7\\x80\\x04\\xac[\\x9f\\x94T\\xd0\\xa6dg\\xc6\\x06\\x00\\x1f\\xd6\\x86\\x80\\xac\\x8a\\xdef\\xc6=;\\n\\x98\\xdb\\xa4\\x8aA^\\x94N\\xbb.co\\xefqSG\\xc4\\x84z\\x8a\\x98\\xf6\\x04UHLcon\\xc7\\xa58\\x03\\x94\\x07\\x90\\rZe\\xe2\\xa0U\\xf9\\xf1Ld\\x84\\x02\\x01\\x14\\xd2\\xa3$\\xf48\\xa7\\x82\\x03\\xe0\\xf4o\\xe7H\\xdf-\\x02\\x18\\xc7\\x0b\\xcf5\\xcfx\\x97\\xc40\\xf8\\x7fLk\\xa9@y\\x1b+\\x0cY\\xc1\\x91\\xfd=\\x80\\xee\\x7f\\xa9\\xad\\xdb\\x89\\xe2\\x82\\t\\'\\x9aE\\x8e(\\xd4\\xbb\\xb9\\xe8\\xaa\\x06I\\xfc\\xab\\xc1<U\\xaeM\\xe2-f[\\xa7\\xdc\\x90\\x8f\\x92\\x08O\\xfc\\xb3\\x8ct\\xcf\\xfbG\\xa9\\xfa\\xfbRr\\xb1p\\x8730\\xf5\\x1b\\xbb\\xadWQ\\x9a\\xfe\\xf6_6\\xe6c\\x96s\\xc0\\x00tU\\x1d\\x94\\x0e\\x82\\xa2\\t\\xb4\\x1c\\xe7\\xa5L\"bv\\xe3\\xdc\\xe2\\xa5\\xf2\\x86\\x00 \\x90N3\\xfc\\xeb&\\xce\\xc5\\x12(\\xd7\\x9e?\\x95:P\\xa4u\\xcbT\\xc6=\\xa7!G=)\\xeb\\x01\\x04\\xef\\xc9\\'\\xb5+\\x97b\\xaa#\\x05\\xe8zri\\xeb\\x18#\\xa6O\\xadY\\x11\\xe0\\x8e8\\xf6\\xefI\\xb5A9\\xc0\\xa5q\\xd8\\x8d!8\\xe1\\x82\\x8fJ*p\\xa1\\xb9\\x19?\\x8d\\x14\\xae\\x161<\\xd2z\\x9cRy\\x8a[$\\xf4\\xf4\\xac\\xf6\\xba\\x04\\xf5\\xfc)\\x8dv\\x8aAf\\x03\\xf1\\xab\\xe51\\xe6F\\x9f\\x9b\\xf2\\xe3\\xa74\\xe32\\xa8-\\x9e\\x05e\\xac\\xb3H7\\xc7\\x0c\\x8c\\xbf\\xde#j\\x8f\\xc4\\xf1L`\\xf2\\x1cIs\\x12\\xff\\x00\\xb3\\x16e?\\xa7\\xcb\\xfa\\xd3\\xe4\\x17:-\\xcbp\\xbdKc\\x1d\\xaa\\x9c\\x97\\xa0\\x9d\\xa3\\x93\\xe9OX#= \\x96^:\\xcf&\\xd1\\xff\\x00|\\xa7\\xf8\\xd4\\x82\\xde\\xe1\\x86\\xd5e\\x85\\x7f\\xbb\\x02l\\xfdz\\x9f\\xce\\x9d\\x92\\x15\\xe4\\xca\\x12<\\xee\\xac\\xeb\\x0b\\x9cz\\x8cg\\xe9Ia\\xe64\\x8d\\xe6`n\\x1f/aZq\\xe9\\xa3n2\\x0e\\xde\\xcd\\xfd).!1<G\\xe6\\xc8=\\xd8\\xd3\\xe6[\\x0b\\x95\\xde\\xe3\\x88\"\\x16\\xcf\\x078\\x03\\xdc\\xff\\x00\\xfa\\xa9\\xb2|\\xb2H\\x07\\x1bN\\xdf\\xcb\\x8a\\xb4\\xb8y\\x99J\\xa9\\x05K\\x8f\\\\\\xf5\\xfe\\x95VUS$\\x85_\\x92I\\xc1>\\xa7\\xd6\\x91c$s\\xf2\\xfa\\x9c\\x9f\\xce\\x94\\x1e\\x84\\xfaS1\\xf3\\x00W\\x07\\xee\\xe0\\xd3\\xe4\\x1f;\\x91\\xc8\\x07\\x02\\x98\\x08O\\xcd\\xf8S\\x98\\xee#\\xd4SPn$\\x8e\\x83\\x8e)H9\\xed\\xd7\\xff\\x00\\xadHd\\xb8\\xe0\\x81\\xd2\\x95I\\xce1\\xf5\\xa4\\x03\\xe6#\\x9f|R\\xf4#\\x8eO\\xa5 %\\r\\x81\\xd7\\xebJ\\x1f\\x8eq\\xc78\\xf4\\xa8\\xc7\\xcaGzil\\x8e\\xfc\\xd02\\xccl\\x18n&\\x9d\\xbf\\x1d;\\xf7\\xa8\\x94l^\\t\\xe9\\xd6\\x9c\\xa7.h\\x11\\'Q\\xcfAM \\x9e\\x98\\\\zR\\xa9\\x05\\x88\\xe9\\xf8R\\x95\\xc9\\xda3@\\x11\\x04f\\'\\xdf\\xad+\\x0cq\\x8c\\xd4\\xa7\\x8c\\x95\\xcfZ\\x8c\\xa9\\xdd\\xc8\\x19\\xfa\\xd3\\x01\\x9f0\\x04~|\\xd2mn\\x83\\'\\xf1\\xa9\\x952\\x0f\\x18\\xa6\\xfb\\x0f\\xd6\\x80\\x1a\\x0bc\\x06\\x99\\xb7$\\xe4v\\xa9\\x01\\xc9\\xc1\\xeb\\xeb\\x8a\\\\g\\x86a\\xc7j\\x00\\x87\\xcb\\x18\\xfed\\xd5\\x88 \\x00\\x02E\".\\xf3\\x81\\xd0\\x1e\\xbe\\xa6\\xae\\xc7\\x1fL\\xe0\\x1c\\xf3R\\xe4\\t\\\\z\\xc7\\xf2\\xf7\\xe6\\xa5X\\x14\\x0c\\x15\\xca\\x83\\xc7\\xbdH#\\xdcA\\xe9\\x8a\\x91Pw\\xfd\\x0fJ\\xc8\\xd1!\\x86\\xc2;\\x90\\x15\\xd01\\xc7\\x07\\xa1\\x1f\\x8dJ<;\"\\xc3\\xe6\\xc1t\\x10\\x8f\\x98,\\xa38\\xf4\\xe4z\\xfd:\\x0f\\xa5h\\xe9\\x96\\x8dp\\xf9\\xc7\\xca9\\xe4d{\\x93\\xed\\xed\\xde\\xac\\xea\\x12\\x85o%\\x18\\xecS\\xdc\\xf2s\\xdc\\xfb\\xd6\\xb1VWd\\xb7\\xad\\x91\\xc9\\xb47\\xd11\\r\\x08\\x97\\xde6\\x07?\\x87\\x06\\xa1\\x95\\xe5#\\xe6\\xb5\\x9dH\\\\\\x7f\\xaao\\xe9[\\xbd\\\\\\x9e\\xde\\xf4\\x91\\xe4\\x06 \\x8e\\xb5\\x17\\xd4\\xaeS\\x00\\xdd\\xc8\\xe0+\\x89\\x88\\x1f\\xf4\\xc9\\xbf\\xc2\\x9d\\x1c\\x97\\x0eY\\xe1\\xb5\\xb8bz\\x1f,\\xa8\\xc7\\xd4\\xe2\\xb7\\xbf\\x87\\x82s\\xde\\x91\\x80\\x00\\xfa\\xe7\\xad.`\\xe5\\xf30\\xfe\\xcf\\xa9I\\xc1\\x864\\xcf\\xf7\\xe5\\x1f\\xd0\\x1aD\\xb4\\xbf\\x82E\\xb8\\x17Q,\\x916\\xf5\\xd8\\x84\\x9c\\xaf#\\x92G\\xa7\\xa5k4\\x85N:\\x81\\xd4\\x8a\\x8cH\\x0f^\\x9e\\x94\\xd4\\x988\\xa3\\xdd4[\\xa4\\xb8\\xb4I\\x14\\xfc\\x92 u\\xfa\\x11\\x91\\xfc\\xebB\\xcaLO$Y\\xe495\\xc6x\"\\xfc\\\\xr\\xdb\\r\\x97\\xb5f\\xb6q\\xfe\\xe9\\xe3\\xf3R\\xa6\\xbax\\xa5\\x10\\xdf\\xab\\xe7\\xe5\\x90\\x0c\\x9a\\xe9[\\x1e|\\x95\\x9d\\x8d\\xecn\\x91}\\x078\\xa8\\x97\\xf7\\x92\\xb4\\x84\\xf1\\x9c\\x0f\\xc2\\x95\\xdc\\xacd/\\xden3\\xe9Q\\xb3\\x04\\\\/@)\\xeeH\\xf2y\\xa7\\x03\\x8cTI\\x92ri\\xc5\\xf0\\xd4\\x00\\xd6\\x8f3\\x8e\\xd9\\x06\\xa6^\\x87\\xda\\xa3\\x90\\xf4q\\xfc\\'51\\x1cn\\x07\\x83@\\x10\\xcf\\xc9C\\xe9\\x93\\xfc\\xa8\\'iW\\xf4<\\xfd(\\x98|\\xa0\\xf6\\xcf\\xf3\\xa1\\x0e\\xf8\\xfd\\x88\\xa8_\\x13B\\xeaLpFj&\\\\\\x10\\xc3\\xb5\\x10\\xbe\\xdf\\xdd\\xb1\\xe9\\xd2\\x9e\\xc3\\x15v\\x19\\x1c\\x80:\\xfe\\xb4\\xd5\\x940\\n\\xfc\\x11O=\\xea\\t\\x10\\x1e\\x94\\x01\\xc6\\xfcJ\\xd4>\\xcd\\xa3Ca\\x1b|\\xd7lY\\xc0\\xef\\x1a`\\xfeE\\x8a\\xfeU\\xe4\\x82\"w\\xb1?*\\x91\\x9frk\\xb6\\xf8\\x813\\xc9\\xe2Y\",\\x18\\xc3m\\n\"\\xfan\\xdc\\xc7\\xf9\\xd72\\xf1yZ269\\x92\\xe0\\x0c\\xfb\\n\\xca[\\x9dtU\\xa2R\\x08\\x16V\\'\\xd3\\x8a\\x964\\x12H\\x80\\x01\\x82\\t\\xf7\\xa4\\x1f4\\x8cI\\x1d\\rK\\x14@\\xba\\x19\\x1bdb6ga\\xce\\x14rk$tl\\x060\\xcd\\x0b\\x1f\\xf9hX\\x81\\xfd\\xd4^3\\xf5\\'\\xf4\\xa8\\xe4u\\x0eH\\xc9\\x1d\\xbdi$\\x905\\xcc\\x8c\\x17`\\\\F\\xa9\\xfd\\xdcv\\xfeC\\xea\\r5\\xd0\\x11\\x9e\\x00\\x03\\'\\x14\\xd8\\xc7\\xef\\x05;d\\xf1\\xebM\\xd9\\xc6s\\xcfS\\x8aH\\x11\\xb2\\x06x\\xf5\\xa9$`\\x18)\\xe0t\\xe2\\x90\\x10.\\x06r\\xc0\\x1c\\xd1J\\xe4\\x07 \\x82O\\xd6\\x8a4\\x03\\x8c[~\\xec\\xac\\xd9\\xee\\xcf\\x81\\xf9/\\xf8\\xd5\\xa8l\\xe5\\x03\\xe4\\xdb\\x18\\xff\\x00a@?\\x9f_\\xd6\\x8a+V\\xda9\\xd4Q?\\xf6xg\\xdd!2\\x11\\xdd\\x8e\\x7f\\x9dZ[EU\\xc0\\x18\\xedE\\x15\\x9d\\xdb*\\xc9\\x13G\\x07\\x1e\\xf5*\\xc0\\x14\\x1f\\x94\\n(\\xa6\\x03\\x965#\\x05s\\xc5Q\\xd4T\\x98\\x13\\x1dU\\xff\\x00\\xa7\\xff\\x00Z\\x8a*\\x96\\xe2c-\\x9c\\t\\xe0\\x93\\xa08\\x1fJ\\xab2\\xe2i\\x94\\xf6b?Z(\\xa1n6(c\\x90\\xac\\tU<z\\x8e{S&Lr\\t*\\xcd\\xc1=\\xf1\\xd6\\x8a*\\x84$*w`\\x0e\\xa7\\x8a\\x98\\x0c;z\\x8a(\\xa4\\xc6\\x858\\x8c\\x1crH\\xc6~\\xb5\\x18?7NO\\xad\\x14P\\x80\\x95\\x08*\\xc4\\xf4\\x14\\x87\\x8c\\x1e\\xdd\\xa8\\xa2\\xa7\\xa8\\xc9\\\\\\x12\\x80\\x9f\\xca\\x94\\x1e\\x08\\x02\\x8a)\\xa0\\x1f\\x108\\xc8\\xc8\\x06\\x9eI\\x1d3\\x8fcE\\x14\\x03\\r\\xa3\\x00\\xfe\\x1f\\x8d++\\x06\\x03\\xd7\\xd6\\x8a)\\\\B\\x80q\\xf4\\xebM\\xf2\\xd8\\xb0\\xe4\\x81\\xe9E\\x14\\xba\\x15a\\xa5v1\\xc8\\xc6)\\x8d\\x93\\x85\\x03$\\xf1\\x9c\\xd1EQ,\\xb9o\\x16\\xd0\\x00\\xfb\\xde\\xb5d)\\xe3\\x1dH\\xeah\\xa2\\xb2e\\xa4]\\x8c6\\xc01\\xf3\\x7f\\x9f\\xf0\\xab6\\xf6\\xc2G\\xc6\\x07\\\\sE\\x14Gr\\x9e\\xc6\\xd9\\x90Y[4H\\xaa\\x18\\xe3sc\\xb8\\xec=\\xbf\\xcfz\\xc4\\x9aFg9\\xfa\\xd1E\\\\\\x99\\x10D+\\xb9\\xa9\\xe5\\xf6\\xe5;\\xf7\\xe3\\xd6\\x8a+6j4\\xb6\\xdc\\x8eN9\\xfa\\xd4m!bO#\\x8e\\xc6\\x8a)\\x01\\\\\\xee\\xe7=Fs\\xcfzH\\xc2\\xfc\\xc4\\xe4\\xe3\\xb7\\xa5\\x14U\\x08\\xd5\\xd1\\xfcD|3v\\xf7\\xb2#\\xb6\\x9d2\\x85\\xbbE\\xfb\\xc8\\x07\\x0b*\\x8e\\xe4g\\x04w\\x04z\\n\\xf5\\x0bk\\xd8\\xee\\xed\\xe3\\x9a&\\x0e\\x8c\\x03+`\\x80\\xca\\xc3 \\xf3\\xcd\\x14V\\xf4\\xdd\\xe2q\\xd7\\x8a\\xe67-n$tPX\\x91\\xd0\\x1e\\xf5qQ\\x9b\\xe6\\xc7\\x14QZ\\x1c\\xe4\\x9b[\\xd2\\xa3`\\xdd\\r\\x14P\\x03U\\xd9$\\xda\\xd9\\xdaj\\xcc;\\x94\\xf9l\\x0e\\x0f\"\\x8a(\\x01.\\x14\\xacLH\\xe3\\x14\\xc8C\\x08\\xd7#\\x9cQEB\\xf8\\x85\\xd4Y#o\\xbc\\xa0\\xe4T\\x911u\\xe4\\x1c\\x8a(\\xab\\x18:7LT\\x0c\\xa7=\\r\\x14P\\x07\\x05\\xf1\\x1bM\\x8e8mu\\x92\\xb8\\xf2\\x9da\\x9b\\x1f\\xc4\\xa7;?\"H\\xfck\\x82h\\xdem\\r\\xc8\\xeb\\x1b\\x96\\xfc\\xb0q\\xf9f\\x8a+)\\xeevQ\\xf8\\x0c\\xaf8e\\n\\x023\\xc5^\\x89\\x98\\xc3\\x19U\\x04\\xb2I\\x0f?\\xde\\xdb\\xb8~\\xab\\xfa\\xd1Ef\\x8d\\x99N%\\xcc\\x11\\xf2w\\x11\\x92}\\xcf5\"\\x1c\\xe4s\\xc7\\xbd\\x14R(\\x92.d\\xc0\\x1c{\\x8a\\x19\\t\\x93\\xf1\\xa2\\x8a@>;4\\x95K\\xbc\\x852N\\xd1\\xb7<t\\xff\\x00\\x1a(\\xa2\\xaa\\xc8\\x93\\xff\\xd9',\n",
              "  'path': None}}"
            ]
          },
          "metadata": {},
          "execution_count": 42
        }
      ],
      "source": [
        "dataset['train'][0]"
      ]
    },
    {
      "cell_type": "markdown",
      "id": "6ce7b298-d4c2-4193-bad2-6458fce390a1",
      "metadata": {
        "id": "6ce7b298-d4c2-4193-bad2-6458fce390a1"
      },
      "source": [
        "Now, let's examine a selection of images along with their corresponding labels.\n",
        "\n",
        "\n",
        "\n",
        "\n",
        "\n",
        "\n"
      ]
    },
    {
      "cell_type": "code",
      "execution_count": 43,
      "id": "e86a2406-40fd-4cbb-9350-465d2b7f2291",
      "metadata": {
        "id": "e86a2406-40fd-4cbb-9350-465d2b7f2291",
        "outputId": "5300f1c3-d2a8-4f72-fc4f-6c7003da1fcb",
        "colab": {
          "base_uri": "https://localhost:8080/",
          "height": 1000
        }
      },
      "outputs": [
        {
          "output_type": "error",
          "ename": "TypeError",
          "evalue": "Image data of dtype object cannot be converted to float",
          "traceback": [
            "\u001b[0;31m---------------------------------------------------------------------------\u001b[0m",
            "\u001b[0;31mTypeError\u001b[0m                                 Traceback (most recent call last)",
            "\u001b[0;32m<ipython-input-43-aa53e7aefc0c>\u001b[0m in \u001b[0;36m<cell line: 0>\u001b[0;34m()\u001b[0m\n\u001b[1;32m      5\u001b[0m         \u001b[0maxs\u001b[0m\u001b[0;34m[\u001b[0m\u001b[0mi\u001b[0m \u001b[0;34m//\u001b[0m \u001b[0;36m3\u001b[0m\u001b[0;34m]\u001b[0m\u001b[0;34m[\u001b[0m\u001b[0mi\u001b[0m \u001b[0;34m%\u001b[0m \u001b[0;36m3\u001b[0m\u001b[0;34m]\u001b[0m\u001b[0;34m.\u001b[0m\u001b[0mset_title\u001b[0m\u001b[0;34m(\u001b[0m\u001b[0mds\u001b[0m\u001b[0;34m[\u001b[0m\u001b[0mi\u001b[0m\u001b[0;34m]\u001b[0m\u001b[0;34m[\u001b[0m\u001b[0;34m'label'\u001b[0m\u001b[0;34m]\u001b[0m\u001b[0;34m)\u001b[0m\u001b[0;34m\u001b[0m\u001b[0;34m\u001b[0m\u001b[0m\n\u001b[1;32m      6\u001b[0m \u001b[0;34m\u001b[0m\u001b[0m\n\u001b[0;32m----> 7\u001b[0;31m \u001b[0mshow_images\u001b[0m\u001b[0;34m(\u001b[0m\u001b[0mdataset\u001b[0m\u001b[0;34m[\u001b[0m\u001b[0;34m'train'\u001b[0m\u001b[0;34m]\u001b[0m\u001b[0;34m)\u001b[0m\u001b[0;34m\u001b[0m\u001b[0;34m\u001b[0m\u001b[0m\n\u001b[0m",
            "\u001b[0;32m<ipython-input-43-aa53e7aefc0c>\u001b[0m in \u001b[0;36mshow_images\u001b[0;34m(ds)\u001b[0m\n\u001b[1;32m      2\u001b[0m     \u001b[0mfig\u001b[0m\u001b[0;34m,\u001b[0m \u001b[0maxs\u001b[0m \u001b[0;34m=\u001b[0m \u001b[0mplt\u001b[0m\u001b[0;34m.\u001b[0m\u001b[0msubplots\u001b[0m\u001b[0;34m(\u001b[0m\u001b[0;36m3\u001b[0m\u001b[0;34m,\u001b[0m \u001b[0;36m3\u001b[0m\u001b[0;34m,\u001b[0m \u001b[0mfigsize\u001b[0m\u001b[0;34m=\u001b[0m\u001b[0;34m(\u001b[0m\u001b[0;36m13\u001b[0m\u001b[0;34m,\u001b[0m \u001b[0;36m13\u001b[0m\u001b[0;34m)\u001b[0m\u001b[0;34m)\u001b[0m\u001b[0;34m\u001b[0m\u001b[0;34m\u001b[0m\u001b[0m\n\u001b[1;32m      3\u001b[0m     \u001b[0;32mfor\u001b[0m \u001b[0mi\u001b[0m \u001b[0;32min\u001b[0m \u001b[0mrange\u001b[0m\u001b[0;34m(\u001b[0m\u001b[0;36m9\u001b[0m\u001b[0;34m)\u001b[0m\u001b[0;34m:\u001b[0m\u001b[0;34m\u001b[0m\u001b[0;34m\u001b[0m\u001b[0m\n\u001b[0;32m----> 4\u001b[0;31m         \u001b[0maxs\u001b[0m\u001b[0;34m[\u001b[0m\u001b[0mi\u001b[0m \u001b[0;34m//\u001b[0m \u001b[0;36m3\u001b[0m\u001b[0;34m]\u001b[0m\u001b[0;34m[\u001b[0m\u001b[0mi\u001b[0m \u001b[0;34m%\u001b[0m \u001b[0;36m3\u001b[0m\u001b[0;34m]\u001b[0m\u001b[0;34m.\u001b[0m\u001b[0mimshow\u001b[0m\u001b[0;34m(\u001b[0m\u001b[0mds\u001b[0m\u001b[0;34m[\u001b[0m\u001b[0mi\u001b[0m\u001b[0;34m]\u001b[0m\u001b[0;34m[\u001b[0m\u001b[0;34m'image'\u001b[0m\u001b[0;34m]\u001b[0m\u001b[0;34m)\u001b[0m\u001b[0;34m\u001b[0m\u001b[0;34m\u001b[0m\u001b[0m\n\u001b[0m\u001b[1;32m      5\u001b[0m         \u001b[0maxs\u001b[0m\u001b[0;34m[\u001b[0m\u001b[0mi\u001b[0m \u001b[0;34m//\u001b[0m \u001b[0;36m3\u001b[0m\u001b[0;34m]\u001b[0m\u001b[0;34m[\u001b[0m\u001b[0mi\u001b[0m \u001b[0;34m%\u001b[0m \u001b[0;36m3\u001b[0m\u001b[0;34m]\u001b[0m\u001b[0;34m.\u001b[0m\u001b[0mset_title\u001b[0m\u001b[0;34m(\u001b[0m\u001b[0mds\u001b[0m\u001b[0;34m[\u001b[0m\u001b[0mi\u001b[0m\u001b[0;34m]\u001b[0m\u001b[0;34m[\u001b[0m\u001b[0;34m'label'\u001b[0m\u001b[0;34m]\u001b[0m\u001b[0;34m)\u001b[0m\u001b[0;34m\u001b[0m\u001b[0;34m\u001b[0m\u001b[0m\n\u001b[1;32m      6\u001b[0m \u001b[0;34m\u001b[0m\u001b[0m\n",
            "\u001b[0;32m/usr/local/lib/python3.11/dist-packages/matplotlib/__init__.py\u001b[0m in \u001b[0;36minner\u001b[0;34m(ax, data, *args, **kwargs)\u001b[0m\n\u001b[1;32m   1519\u001b[0m     \u001b[0;32mdef\u001b[0m \u001b[0minner\u001b[0m\u001b[0;34m(\u001b[0m\u001b[0max\u001b[0m\u001b[0;34m,\u001b[0m \u001b[0;34m*\u001b[0m\u001b[0margs\u001b[0m\u001b[0;34m,\u001b[0m \u001b[0mdata\u001b[0m\u001b[0;34m=\u001b[0m\u001b[0;32mNone\u001b[0m\u001b[0;34m,\u001b[0m \u001b[0;34m**\u001b[0m\u001b[0mkwargs\u001b[0m\u001b[0;34m)\u001b[0m\u001b[0;34m:\u001b[0m\u001b[0;34m\u001b[0m\u001b[0;34m\u001b[0m\u001b[0m\n\u001b[1;32m   1520\u001b[0m         \u001b[0;32mif\u001b[0m \u001b[0mdata\u001b[0m \u001b[0;32mis\u001b[0m \u001b[0;32mNone\u001b[0m\u001b[0;34m:\u001b[0m\u001b[0;34m\u001b[0m\u001b[0;34m\u001b[0m\u001b[0m\n\u001b[0;32m-> 1521\u001b[0;31m             return func(\n\u001b[0m\u001b[1;32m   1522\u001b[0m                 \u001b[0max\u001b[0m\u001b[0;34m,\u001b[0m\u001b[0;34m\u001b[0m\u001b[0;34m\u001b[0m\u001b[0m\n\u001b[1;32m   1523\u001b[0m                 \u001b[0;34m*\u001b[0m\u001b[0mmap\u001b[0m\u001b[0;34m(\u001b[0m\u001b[0mcbook\u001b[0m\u001b[0;34m.\u001b[0m\u001b[0msanitize_sequence\u001b[0m\u001b[0;34m,\u001b[0m \u001b[0margs\u001b[0m\u001b[0;34m)\u001b[0m\u001b[0;34m,\u001b[0m\u001b[0;34m\u001b[0m\u001b[0;34m\u001b[0m\u001b[0m\n",
            "\u001b[0;32m/usr/local/lib/python3.11/dist-packages/matplotlib/axes/_axes.py\u001b[0m in \u001b[0;36mimshow\u001b[0;34m(self, X, cmap, norm, aspect, interpolation, alpha, vmin, vmax, colorizer, origin, extent, interpolation_stage, filternorm, filterrad, resample, url, **kwargs)\u001b[0m\n\u001b[1;32m   5943\u001b[0m             \u001b[0mself\u001b[0m\u001b[0;34m.\u001b[0m\u001b[0mset_aspect\u001b[0m\u001b[0;34m(\u001b[0m\u001b[0maspect\u001b[0m\u001b[0;34m)\u001b[0m\u001b[0;34m\u001b[0m\u001b[0;34m\u001b[0m\u001b[0m\n\u001b[1;32m   5944\u001b[0m \u001b[0;34m\u001b[0m\u001b[0m\n\u001b[0;32m-> 5945\u001b[0;31m         \u001b[0mim\u001b[0m\u001b[0;34m.\u001b[0m\u001b[0mset_data\u001b[0m\u001b[0;34m(\u001b[0m\u001b[0mX\u001b[0m\u001b[0;34m)\u001b[0m\u001b[0;34m\u001b[0m\u001b[0;34m\u001b[0m\u001b[0m\n\u001b[0m\u001b[1;32m   5946\u001b[0m         \u001b[0mim\u001b[0m\u001b[0;34m.\u001b[0m\u001b[0mset_alpha\u001b[0m\u001b[0;34m(\u001b[0m\u001b[0malpha\u001b[0m\u001b[0;34m)\u001b[0m\u001b[0;34m\u001b[0m\u001b[0;34m\u001b[0m\u001b[0m\n\u001b[1;32m   5947\u001b[0m         \u001b[0;32mif\u001b[0m \u001b[0mim\u001b[0m\u001b[0;34m.\u001b[0m\u001b[0mget_clip_path\u001b[0m\u001b[0;34m(\u001b[0m\u001b[0;34m)\u001b[0m \u001b[0;32mis\u001b[0m \u001b[0;32mNone\u001b[0m\u001b[0;34m:\u001b[0m\u001b[0;34m\u001b[0m\u001b[0;34m\u001b[0m\u001b[0m\n",
            "\u001b[0;32m/usr/local/lib/python3.11/dist-packages/matplotlib/image.py\u001b[0m in \u001b[0;36mset_data\u001b[0;34m(self, A)\u001b[0m\n\u001b[1;32m    673\u001b[0m         \u001b[0;32mif\u001b[0m \u001b[0misinstance\u001b[0m\u001b[0;34m(\u001b[0m\u001b[0mA\u001b[0m\u001b[0;34m,\u001b[0m \u001b[0mPIL\u001b[0m\u001b[0;34m.\u001b[0m\u001b[0mImage\u001b[0m\u001b[0;34m.\u001b[0m\u001b[0mImage\u001b[0m\u001b[0;34m)\u001b[0m\u001b[0;34m:\u001b[0m\u001b[0;34m\u001b[0m\u001b[0;34m\u001b[0m\u001b[0m\n\u001b[1;32m    674\u001b[0m             \u001b[0mA\u001b[0m \u001b[0;34m=\u001b[0m \u001b[0mpil_to_array\u001b[0m\u001b[0;34m(\u001b[0m\u001b[0mA\u001b[0m\u001b[0;34m)\u001b[0m  \u001b[0;31m# Needed e.g. to apply png palette.\u001b[0m\u001b[0;34m\u001b[0m\u001b[0;34m\u001b[0m\u001b[0m\n\u001b[0;32m--> 675\u001b[0;31m         \u001b[0mself\u001b[0m\u001b[0;34m.\u001b[0m\u001b[0m_A\u001b[0m \u001b[0;34m=\u001b[0m \u001b[0mself\u001b[0m\u001b[0;34m.\u001b[0m\u001b[0m_normalize_image_array\u001b[0m\u001b[0;34m(\u001b[0m\u001b[0mA\u001b[0m\u001b[0;34m)\u001b[0m\u001b[0;34m\u001b[0m\u001b[0;34m\u001b[0m\u001b[0m\n\u001b[0m\u001b[1;32m    676\u001b[0m         \u001b[0mself\u001b[0m\u001b[0;34m.\u001b[0m\u001b[0m_imcache\u001b[0m \u001b[0;34m=\u001b[0m \u001b[0;32mNone\u001b[0m\u001b[0;34m\u001b[0m\u001b[0;34m\u001b[0m\u001b[0m\n\u001b[1;32m    677\u001b[0m         \u001b[0mself\u001b[0m\u001b[0;34m.\u001b[0m\u001b[0mstale\u001b[0m \u001b[0;34m=\u001b[0m \u001b[0;32mTrue\u001b[0m\u001b[0;34m\u001b[0m\u001b[0;34m\u001b[0m\u001b[0m\n",
            "\u001b[0;32m/usr/local/lib/python3.11/dist-packages/matplotlib/image.py\u001b[0m in \u001b[0;36m_normalize_image_array\u001b[0;34m(A)\u001b[0m\n\u001b[1;32m    636\u001b[0m         \u001b[0mA\u001b[0m \u001b[0;34m=\u001b[0m \u001b[0mcbook\u001b[0m\u001b[0;34m.\u001b[0m\u001b[0msafe_masked_invalid\u001b[0m\u001b[0;34m(\u001b[0m\u001b[0mA\u001b[0m\u001b[0;34m,\u001b[0m \u001b[0mcopy\u001b[0m\u001b[0;34m=\u001b[0m\u001b[0;32mTrue\u001b[0m\u001b[0;34m)\u001b[0m\u001b[0;34m\u001b[0m\u001b[0;34m\u001b[0m\u001b[0m\n\u001b[1;32m    637\u001b[0m         \u001b[0;32mif\u001b[0m \u001b[0mA\u001b[0m\u001b[0;34m.\u001b[0m\u001b[0mdtype\u001b[0m \u001b[0;34m!=\u001b[0m \u001b[0mnp\u001b[0m\u001b[0;34m.\u001b[0m\u001b[0muint8\u001b[0m \u001b[0;32mand\u001b[0m \u001b[0;32mnot\u001b[0m \u001b[0mnp\u001b[0m\u001b[0;34m.\u001b[0m\u001b[0mcan_cast\u001b[0m\u001b[0;34m(\u001b[0m\u001b[0mA\u001b[0m\u001b[0;34m.\u001b[0m\u001b[0mdtype\u001b[0m\u001b[0;34m,\u001b[0m \u001b[0mfloat\u001b[0m\u001b[0;34m,\u001b[0m \u001b[0;34m\"same_kind\"\u001b[0m\u001b[0;34m)\u001b[0m\u001b[0;34m:\u001b[0m\u001b[0;34m\u001b[0m\u001b[0;34m\u001b[0m\u001b[0m\n\u001b[0;32m--> 638\u001b[0;31m             raise TypeError(f\"Image data of dtype {A.dtype} cannot be \"\n\u001b[0m\u001b[1;32m    639\u001b[0m                             f\"converted to float\")\n\u001b[1;32m    640\u001b[0m         \u001b[0;32mif\u001b[0m \u001b[0mA\u001b[0m\u001b[0;34m.\u001b[0m\u001b[0mndim\u001b[0m \u001b[0;34m==\u001b[0m \u001b[0;36m3\u001b[0m \u001b[0;32mand\u001b[0m \u001b[0mA\u001b[0m\u001b[0;34m.\u001b[0m\u001b[0mshape\u001b[0m\u001b[0;34m[\u001b[0m\u001b[0;34m-\u001b[0m\u001b[0;36m1\u001b[0m\u001b[0;34m]\u001b[0m \u001b[0;34m==\u001b[0m \u001b[0;36m1\u001b[0m\u001b[0;34m:\u001b[0m\u001b[0;34m\u001b[0m\u001b[0;34m\u001b[0m\u001b[0m\n",
            "\u001b[0;31mTypeError\u001b[0m: Image data of dtype object cannot be converted to float"
          ]
        },
        {
          "output_type": "display_data",
          "data": {
            "text/plain": [
              "<Figure size 1300x1300 with 9 Axes>"
            ],
            "image/png": "[encoded data removed]"
          },
          "metadata": {}
        }
      ],
      "source": [
        "def show_images(ds: Dataset):\n",
        "    fig, axs = plt.subplots(3, 3, figsize=(13, 13))\n",
        "    for i in range(9):\n",
        "        axs[i // 3][i % 3].imshow(ds[i]['image'])\n",
        "        axs[i // 3][i % 3].set_title(ds[i]['label'])\n",
        "\n",
        "show_images(dataset['train'])"
      ]
    },
    {
      "cell_type": "markdown",
      "id": "8c92d22e-bc9a-43ea-bed7-cd8c35b867c2",
      "metadata": {
        "id": "8c92d22e-bc9a-43ea-bed7-cd8c35b867c2"
      },
      "source": [
        "For fine-tuning we need process labels to ids."
      ]
    },
    {
      "cell_type": "code",
      "execution_count": 22,
      "id": "71dbf018-8937-4700-9b38-3e4201d43059",
      "metadata": {
        "id": "71dbf018-8937-4700-9b38-3e4201d43059"
      },
      "outputs": [],
      "source": [
        "labels = set(dataset['train']['label'])\n",
        "label2id = {label: i for i, label in enumerate(labels)}\n",
        "id2label = {i: label for label, i in label2id.items()}\n",
        "\n",
        "labels = list(label2id)"
      ]
    },
    {
      "cell_type": "markdown",
      "id": "3345137f-b183-4b38-9a2a-40335282d190",
      "metadata": {
        "id": "3345137f-b183-4b38-9a2a-40335282d190"
      },
      "source": [
        "After that we get mapping from label to id."
      ]
    },
    {
      "cell_type": "code",
      "execution_count": 23,
      "id": "25d5a990-3871-4104-b29d-b1e2d395d24d",
      "metadata": {
        "id": "25d5a990-3871-4104-b29d-b1e2d395d24d",
        "outputId": "4884cf7b-bfc7-4854-ef50-4f1a1a83a5c1",
        "colab": {
          "base_uri": "https://localhost:8080/"
        }
      },
      "outputs": [
        {
          "output_type": "execute_result",
          "data": {
            "text/plain": [
              "{'leonberger': 0,\n",
              " 'Bengal': 1,\n",
              " 'saint bernard': 2,\n",
              " 'japanese chin': 3,\n",
              " 'Maine Coon': 4,\n",
              " 'american pit bull terrier': 5,\n",
              " 'samoyed': 6,\n",
              " 'english cocker spaniel': 7,\n",
              " 'chihuahua': 8,\n",
              " 'english setter': 9,\n",
              " 'basset hound': 10,\n",
              " 'Birman': 11,\n",
              " 'american bulldog': 12,\n",
              " 'miniature pinscher': 13,\n",
              " 'yorkshire terrier': 14,\n",
              " 'great pyrenees': 15,\n",
              " 'staffordshire bull terrier': 16,\n",
              " 'havanese': 17,\n",
              " 'Abyssinian': 18,\n",
              " 'Bombay': 19,\n",
              " 'newfoundland': 20,\n",
              " 'Persian': 21,\n",
              " 'german shorthaired': 22,\n",
              " 'wheaten terrier': 23,\n",
              " 'pomeranian': 24,\n",
              " 'British Shorthair': 25,\n",
              " 'Siamese': 26,\n",
              " 'Sphynx': 27,\n",
              " 'beagle': 28,\n",
              " 'scottish terrier': 29,\n",
              " 'pug': 30,\n",
              " 'shiba inu': 31,\n",
              " 'Ragdoll': 32,\n",
              " 'keeshond': 33,\n",
              " 'boxer': 34,\n",
              " 'Russian Blue': 35,\n",
              " 'Egyptian Mau': 36}"
            ]
          },
          "metadata": {},
          "execution_count": 23
        }
      ],
      "source": [
        "label2id"
      ]
    },
    {
      "cell_type": "markdown",
      "id": "285a9c46-76d4-4e69-983d-7c5d1da73389",
      "metadata": {
        "id": "285a9c46-76d4-4e69-983d-7c5d1da73389"
      },
      "source": [
        "### Dataset preparation"
      ]
    },
    {
      "cell_type": "markdown",
      "id": "a9feacfe-9612-4a0e-a1bb-ba8e96de7616",
      "metadata": {
        "id": "a9feacfe-9612-4a0e-a1bb-ba8e96de7616"
      },
      "source": [
        "For the default CLIP model, we will use the pre-trained [model by OpenAI](https://huggingface.co/openai/clip-vit-base-patch32). However, feel free to modify the `MODEL_NAME` variable to another model. For instance [this](https://huggingface.co/openai/clip-vit-large-patch14) model of CLIP have a larger number of parameters."
      ]
    },
    {
      "cell_type": "code",
      "execution_count": 24,
      "id": "6e2db29d-56f9-415a-95b7-0cc54a5cc7b9",
      "metadata": {
        "id": "6e2db29d-56f9-415a-95b7-0cc54a5cc7b9"
      },
      "outputs": [],
      "source": [
        "MODEL_NAME = \"openai/clip-vit-base-patch32\""
      ]
    },
    {
      "cell_type": "markdown",
      "id": "d784b5c7-8d5a-41b8-9af0-b8962e83ec3f",
      "metadata": {
        "id": "d784b5c7-8d5a-41b8-9af0-b8962e83ec3f"
      },
      "source": [
        "For selected `MODEL_NAME` we need to import corresponding:\n",
        "- **Tokenizer**: used to encode input text.\n",
        "- **Image processor**: It is utilized to preprocess input images, handling tasks such as scaling, resizing, and more."
      ]
    },
    {
      "cell_type": "code",
      "execution_count": 25,
      "id": "407c107e-b7c4-4291-928b-eee5886cc84d",
      "metadata": {
        "id": "407c107e-b7c4-4291-928b-eee5886cc84d",
        "outputId": "6a5c221a-9952-4198-baaf-850f430d38c7",
        "colab": {
          "base_uri": "https://localhost:8080/",
          "height": 241,
          "referenced_widgets": [
            "c533c3fb4ed34a18b3e1585c75696bcd",
            "c0f669c4f6bd400a8616d312b65a2649",
            "1807cfc6eb9345ef8d339c7bd63d0008",
            "a2dd8a5a250b4b7387ea09a9b5f1bcdb",
            "304053af06394163a5a26977c2d9ff5b",
            "fc556b48947042e682c5b079c0f6d607",
            "e60f294f728b40f8ae6c686be9cffc8b",
            "3c215efe9c044993bdfcca4791ba9978",
            "939d05b26fb94d2ebb57c26ca8710de2",
            "e49617d19cff44c99cbb0d645ee2f2c8",
            "f591c213a7f84691a6770a7ae9c7407c",
            "2d110eafeed94927aa2c502c1dfa07ed",
            "07f5b32d26f74bd8b46c9ba22736bffc",
            "3843d12d9d88444dab39c73772ba4826",
            "29e07094af0b44a291578c4e166242f8",
            "d0e766750b014a1ab8300ad7e4383afc",
            "89006462707b4243a17781d05737ed34",
            "ac2cb69b03f94a8c953fd0d15e669683",
            "72c0bbc7fa8a446fa2620130d760f978",
            "e2e95610ae39417b9eae57daaf636540",
            "f625da4dc66747e2b2e172c49eae2293",
            "9f8f8ec9302c452795af4838b250be0b",
            "f6fb6f552d4b4e86937d1f1304d9531b",
            "c4e36431532e45b180304d7679fba8c8",
            "5385ddaa69e24c1880949e0d526141cb",
            "2c26fdbcf0454e6d968f14a0835b046c",
            "9fd1a699b0784a77996b6f81ea1ed546",
            "887247495007482a944dcb9e6b70f910",
            "834b96eec6fb4b8b8579e58a57ff3bb0",
            "43aa54346a7b40329baa25ac93d20076",
            "07387d0484894c138427036c675f447b",
            "49c17d17fe3b4cfc9538cfd01de4ef27",
            "6eaf5f4c793e4e11ba341ce27f02695e",
            "3e38f681f8fe4564964371be202d374b",
            "17ef9c9aec974d9498d83315552c91f4",
            "beee8189943e4c6b94d6ff057421630b",
            "44c692123f55406da5d1fc509419e555",
            "fe1f4271d40c41bf9bead96bc15eb17c",
            "2d24eee9bd8948a0aec43a3ac0b7ed94",
            "22a7a455de2b48ffbc5a952cc6702ece",
            "d9e517e81a9544f3957bb21d1a7d24fa",
            "100759d765ce44d896c89264ef798ae2",
            "4e218d0da71b4e81963117df0783b18e",
            "39d58a8026da43e69bec33a2c3721a9b",
            "529d0202f2084c368643f63f13e331dd",
            "b79a3b7616f94b81837c1d89e12954f1",
            "552e85667f0f4f76ab78c55d08f1f7a3",
            "ae1b03e66f724261baa3fa87701f11ca",
            "710ed4f4e3e745fd9b0c05ca34011ccd",
            "1f3d2cd7ca3a447985dca45972b35ce3",
            "51ea16a61b9047838d05f021e351696e",
            "8aa44cf4387944279a1374bd8966c10b",
            "f95c79e43cb64434b96592e8f9c77022",
            "2e66075deaf84ba9a33cfaefef1f7ea0",
            "f25e22d069fd4bb18b9465ef478249de",
            "075ac44295904bf4886b97754cdab773",
            "d1351fbd468442daa0f68ce30e2b8732",
            "69b42a42d38e4c4e897c07987a2aff10",
            "ea5c0bb43e2f4e6b8c539ec382fd0cad",
            "d90387d239d945c1992e3c94c5f8d18e",
            "beed96c00a1f4f029a129d2bdce23a9b",
            "a37aeac785b1451b80fc73e7647b7423",
            "5e88c58233f84b49bf06563cd42e09bf",
            "0bd2d2fac1f3459e852bbe5397c02c01",
            "dd957edcafad4844a171bd3e73ad55b9",
            "f2f8a75411894f1b83c20f3b7f40866d",
            "ce7275504ebf4f029487403ce6e1ce36",
            "89fc2e6961d945bb93041bba444132e3",
            "1a69f7b08d6d4aba910abd975be06f1b",
            "ab62e73a69e64c4abe6009974ab76fc0",
            "e6a1489e1de9407e82dccc199c29e888",
            "fe2d9ad1af974de3841eb8690856f96c",
            "b10757f0cdbd41c1a27a4afcccb00006",
            "967d6fb3f5ae4ee7bf1ae08a40640b59",
            "1fc7f0d0cdd74f769aa1237cc88c14cb",
            "50f1c82442564044b2023dff898d6634",
            "feb4d966c5b64eba94c43558bc20017c"
          ]
        }
      },
      "outputs": [
        {
          "output_type": "display_data",
          "data": {
            "text/plain": [
              "tokenizer_config.json:   0%|          | 0.00/592 [00:00<?, ?B/s]"
            ],
            "application/vnd.jupyter.widget-view+json": {
              "version_major": 2,
              "version_minor": 0,
              "model_id": "c533c3fb4ed34a18b3e1585c75696bcd"
            }
          },
          "metadata": {}
        },
        {
          "output_type": "display_data",
          "data": {
            "text/plain": [
              "vocab.json:   0%|          | 0.00/862k [00:00<?, ?B/s]"
            ],
            "application/vnd.jupyter.widget-view+json": {
              "version_major": 2,
              "version_minor": 0,
              "model_id": "2d110eafeed94927aa2c502c1dfa07ed"
            }
          },
          "metadata": {}
        },
        {
          "output_type": "display_data",
          "data": {
            "text/plain": [
              "merges.txt:   0%|          | 0.00/525k [00:00<?, ?B/s]"
            ],
            "application/vnd.jupyter.widget-view+json": {
              "version_major": 2,
              "version_minor": 0,
              "model_id": "f6fb6f552d4b4e86937d1f1304d9531b"
            }
          },
          "metadata": {}
        },
        {
          "output_type": "display_data",
          "data": {
            "text/plain": [
              "tokenizer.json:   0%|          | 0.00/2.22M [00:00<?, ?B/s]"
            ],
            "application/vnd.jupyter.widget-view+json": {
              "version_major": 2,
              "version_minor": 0,
              "model_id": "3e38f681f8fe4564964371be202d374b"
            }
          },
          "metadata": {}
        },
        {
          "output_type": "display_data",
          "data": {
            "text/plain": [
              "special_tokens_map.json:   0%|          | 0.00/389 [00:00<?, ?B/s]"
            ],
            "application/vnd.jupyter.widget-view+json": {
              "version_major": 2,
              "version_minor": 0,
              "model_id": "529d0202f2084c368643f63f13e331dd"
            }
          },
          "metadata": {}
        },
        {
          "output_type": "display_data",
          "data": {
            "text/plain": [
              "config.json:   0%|          | 0.00/4.19k [00:00<?, ?B/s]"
            ],
            "application/vnd.jupyter.widget-view+json": {
              "version_major": 2,
              "version_minor": 0,
              "model_id": "075ac44295904bf4886b97754cdab773"
            }
          },
          "metadata": {}
        },
        {
          "output_type": "display_data",
          "data": {
            "text/plain": [
              "preprocessor_config.json:   0%|          | 0.00/316 [00:00<?, ?B/s]"
            ],
            "application/vnd.jupyter.widget-view+json": {
              "version_major": 2,
              "version_minor": 0,
              "model_id": "ce7275504ebf4f029487403ce6e1ce36"
            }
          },
          "metadata": {}
        }
      ],
      "source": [
        "TOKENIZER = CLIPTokenizerFast.from_pretrained(MODEL_NAME)\n",
        "IMAGE_PROCESSOR = CLIPImageProcessor.from_pretrained(MODEL_NAME)"
      ]
    },
    {
      "cell_type": "markdown",
      "id": "1c4b8cfd-72ee-42ca-ac77-d343a363eb31",
      "metadata": {
        "id": "1c4b8cfd-72ee-42ca-ac77-d343a363eb31"
      },
      "source": [
        "Dataset preparation consists of 2 steps\n",
        "1) **Label Encoding with Tokenizer**: This step entails encoding the label of each dataset item using the tokenizer. Importantly, we encode not only the label's text but also include a special prompt with the label. This enhancement is designed to elevate the quality of text features in the language model.\n",
        "\n",
        "2) **Image Preparations with CLIP's Image Processor**: In this step, we prepare the images using CLIP's image processor. This involves preprocessing steps to ensure compatibility with CLIP's model architecture."
      ]
    },
    {
      "cell_type": "code",
      "execution_count": 32,
      "id": "e3e1aa6c-346d-485d-9432-e0f2999f516d",
      "metadata": {
        "id": "e3e1aa6c-346d-485d-9432-e0f2999f516d"
      },
      "outputs": [],
      "source": [
        "def transform_class_labels(\n",
        "    items: LazyBatch, tokenizer: CLIPTokenizerFast, label2id: dict[str, int]\n",
        ") -> dict[str, Any]:\n",
        "    \"\"\"Function used to encode item's label prompt with tokenizer\n",
        "\n",
        "    Args:\n",
        "        items (LazyBatch): Input dataset items\n",
        "        tokenizer (CLIPTokenizerFast): CLIP's tokenizer\n",
        "        label2id (dict[str, int]): mapping from label to id\n",
        "\n",
        "    Returns:\n",
        "        dict[str, Any]: transformed items\n",
        "    \"\"\"\n",
        "    # this prompt is better than prompt consisting only of the class name\n",
        "    label_prompt = [f\"a photo of {label}\" for label in items[\"label\"]]\n",
        "    output = tokenizer(label_prompt, padding=True, return_tensors=\"pt\")\n",
        "    items[\"input_ids\"] = output[\"input_ids\"]\n",
        "    items[\"attention_mask\"] = output[\"attention_mask\"]\n",
        "    items[\"label_id\"] = [label2id[label] for label in items[\"label\"]]\n",
        "    return items\n",
        "\n",
        "\n",
        "def transform_image(items: LazyBatch, image_processor: CLIPImageProcessor) -> dict[str, Any]:\n",
        "    \"\"\"Function used to preprocess input image with image processor\n",
        "\n",
        "    Args:\n",
        "        items (LazyBatch): Input dataset items\n",
        "        image_processor (CLIPImageProcessor): CLIP's image processor\n",
        "\n",
        "    Returns:\n",
        "        dict[str, Any]: transformed items\n",
        "    \"\"\"\n",
        "    #output = image_processor(items[\"image\"], return_tensors=\"pt\")\n",
        "    #items[\"pixel_values\"] = output[\"pixel_values\"]\n",
        "    pixel_values = []\n",
        "    for image in items[\"image\"]:\n",
        "        output = image_processor(image, return_tensors=\"pt\")\n",
        "        pixel_values.append(output[\"pixel_values\"])\n",
        "\n",
        "    items[\"pixel_values\"] = torch.stack(pixel_values)\n",
        "    return items"
      ]
    },
    {
      "cell_type": "markdown",
      "id": "23ec599d-3bf4-4e83-98f8-86fd950e94c3",
      "metadata": {
        "id": "23ec599d-3bf4-4e83-98f8-86fd950e94c3"
      },
      "source": [
        "We can efficiently apply `transform_class_labels` function on each dataset split with [map function](https://huggingface.co/docs/datasets/process#map) inplace.\n",
        "\n",
        "But for `transform_image` function we'll use [set_transform](https://huggingface.co/docs/datasets/v2.16.1/en/package_reference/main_classes#datasets.Dataset.set_transform) to lazily process pictures because it's inefficient to store them in memory"
      ]
    },
    {
      "cell_type": "code",
      "execution_count": 28,
      "id": "5c0b7d07-cd17-4ba5-834a-71950a489a3d",
      "metadata": {
        "id": "5c0b7d07-cd17-4ba5-834a-71950a489a3d",
        "outputId": "c9ca0fd1-1bd2-4b0b-f645-2683dcbb0d66",
        "colab": {
          "base_uri": "https://localhost:8080/",
          "height": 113,
          "referenced_widgets": [
            "8e072dc7c9664a38b4576a018feb18fd",
            "50a26a0536cc4add97bfd97b4ed3b871",
            "21440067e8e84396a94c846b9de6776c",
            "5b270a0044e745e4bb34a0b2826ac38d",
            "9d2ed57a70684373b1657517949e7035",
            "9dd418188cb745a5b3d1227de2b74ea5",
            "8279a3e7d1b54dd3ac4b424ff24c77d6",
            "42293092a4c24d36851b9b0c9d7a6e70",
            "d6a3dbf2c79b4d5daeb9cadd24ae6a9e",
            "44df89e612a6490b8604a658509a8213",
            "d71e4f95a7ab4109a3bde7647811b600",
            "c946504318bd424c95b7306cb6ab75df",
            "91c26920af2147b899dd43073d1709df",
            "ae413b837193421c91963ed8d340037e",
            "180d11eed7444de98cf3ae4ead955007",
            "33a8adffcd344401a74bda2bc395b636",
            "562a1154307c40fca4c1287dbc460f86",
            "f64c1d3e55294e589599044b8dd9f82d",
            "4ec5be874f6b4bbcbdab3bee149fd561",
            "113c339c9e0340918d04787e792d1ce0",
            "190264fa398943dea2b8f4799182b0a1",
            "70296e3baecb4528a09b7a0f755a460a",
            "317a6f6348f54187b1a919a707e1bf0c",
            "57aea4224fe145b9a6a5a5bbe2679d20",
            "385da46ac7df4e6eb26da8894d15611c",
            "590293b0bad64aee8ee7ec5c4d417cdb",
            "3de59c3fe5404c17942193dd4ef53dfd",
            "e0d5e588b88b455ba8f3226eba89b36a",
            "76bad975404e44e2b70a986069c866fb",
            "4475704141734f01b3aadc578f32a2f4",
            "4c2b847e730845b49bad5dcd0211c9f3",
            "f5ae5a369004438385cd45e342027f3f",
            "2101770c83e742259f50f689b3f3adbb"
          ]
        }
      },
      "outputs": [
        {
          "output_type": "display_data",
          "data": {
            "text/plain": [
              "Map:   0%|          | 0/5173 [00:00<?, ? examples/s]"
            ],
            "application/vnd.jupyter.widget-view+json": {
              "version_major": 2,
              "version_minor": 0,
              "model_id": "8e072dc7c9664a38b4576a018feb18fd"
            }
          },
          "metadata": {}
        },
        {
          "output_type": "display_data",
          "data": {
            "text/plain": [
              "Map:   0%|          | 0/444 [00:00<?, ? examples/s]"
            ],
            "application/vnd.jupyter.widget-view+json": {
              "version_major": 2,
              "version_minor": 0,
              "model_id": "c946504318bd424c95b7306cb6ab75df"
            }
          },
          "metadata": {}
        },
        {
          "output_type": "display_data",
          "data": {
            "text/plain": [
              "Map:   0%|          | 0/1773 [00:00<?, ? examples/s]"
            ],
            "application/vnd.jupyter.widget-view+json": {
              "version_major": 2,
              "version_minor": 0,
              "model_id": "317a6f6348f54187b1a919a707e1bf0c"
            }
          },
          "metadata": {}
        }
      ],
      "source": [
        "dataset = dataset.map(partial(transform_class_labels, tokenizer=TOKENIZER, label2id=label2id), batched=True)\n",
        "dataset.set_transform(partial(transform_image, image_processor=IMAGE_PROCESSOR))"
      ]
    },
    {
      "cell_type": "markdown",
      "id": "b9431944-cfd8-4db8-83a4-d229a20bb49c",
      "metadata": {
        "id": "b9431944-cfd8-4db8-83a4-d229a20bb49c"
      },
      "source": [
        "### CLIP Image Classification"
      ]
    },
    {
      "cell_type": "code",
      "execution_count": 29,
      "id": "cc3762d8-d5d2-4fbd-893d-f77119fbae4b",
      "metadata": {
        "id": "cc3762d8-d5d2-4fbd-893d-f77119fbae4b"
      },
      "outputs": [],
      "source": [
        "# utilities functions\n",
        "def get_module_device(module: nn.Module) -> torch.device:\n",
        "    \"\"\"Function to get current module device\n",
        "\n",
        "    Args:\n",
        "        module (nn.Module): pytorch module\n",
        "\n",
        "    Returns:\n",
        "        torch.device: module's device\n",
        "    \"\"\"\n",
        "    return next(module.parameters()).device\n",
        "\n",
        "\n",
        "def freeze_params(module: nn.Module, freeze_top_percent: float = 1.0) -> None:\n",
        "    \"\"\"Function used to freeze module by setting 'requires_grad' to False\n",
        "\n",
        "    Args:\n",
        "        module (nn.Module): pytorch module\n",
        "        freeze_top_percent (float, optional): percentage of layers starting from the top that need to be frozen. Defaults to 1.0.\n",
        "    \"\"\"\n",
        "    all_params_length = len(list(module.parameters()))\n",
        "    for indx, param in enumerate(module.parameters()):\n",
        "        if int(all_params_length * freeze_top_percent) <= indx:\n",
        "            break\n",
        "        param.requires_grad = False\n",
        "\n",
        "\n",
        "def print_trainable_parameters(model: nn.Module) -> None:\n",
        "    \"\"\"Function prints statistics about trainable parameters\n",
        "\n",
        "    Args:\n",
        "        model (nn.Module): pytorch module\n",
        "    \"\"\"\n",
        "    trainable_params = 0\n",
        "    all_param = 0\n",
        "    for _, param in model.named_parameters():\n",
        "        all_param += param.numel()\n",
        "        if param.requires_grad:\n",
        "            trainable_params += param.numel()\n",
        "    print(\n",
        "        f\"Trainable params: {(trainable_params / 10**6):.4f}M || All params: {(all_param / 10**6):.4f}M || Trainable%: {100 * trainable_params / all_param:.2f}%\"\n",
        "    )"
      ]
    },
    {
      "cell_type": "markdown",
      "id": "f5586412-47c9-4930-81dd-5c65747de762",
      "metadata": {
        "id": "f5586412-47c9-4930-81dd-5c65747de762"
      },
      "source": [
        "Our CLIP based classification model will work as follows:\n",
        "1. **Prompt Generation**: Initial prompts are generated based on the labels present in the dataset.\n",
        "2. **Feature Extraction with Language CLIP Model**: Features are extracted from these prompts using a language CLIP model.\n",
        "3. **Visual Feature Extraction**: For each image, features are extracted using a visual CLIP model.\n",
        "4. **Similarity Score Computation**: A similarity score between the image and the set of prompts is computed.\n",
        "5. **Prediction Based on Similarity**: The most similar prompt is selected, and its associated label is used as the final prediction for the image."
      ]
    },
    {
      "cell_type": "code",
      "execution_count": 30,
      "id": "a4b1fbeb-f7b1-45b9-a0fe-aa27374c88fb",
      "metadata": {
        "id": "a4b1fbeb-f7b1-45b9-a0fe-aa27374c88fb"
      },
      "outputs": [],
      "source": [
        "class CLIPClassifier(nn.Module):\n",
        "    def __init__(self, clip_model: CLIPModel, tokenizer: CLIPTokenizerFast, labels: list[str]):\n",
        "        super().__init__()\n",
        "        self.model = clip_model\n",
        "        self.tokenizer = tokenizer\n",
        "        self.logit_scale = self.model.logit_scale.exp()\n",
        "        self.label2id = {label: i for i, label in enumerate(labels)}\n",
        "        self.labels_embeddings = nn.Parameter(self.generate_labels_embeddings(labels))\n",
        "\n",
        "    def generate_labels_embeddings(self, labels: list[str]) -> torch.Tensor:\n",
        "        \"\"\"Function prepares label's prompt embeddings usings language model\n",
        "\n",
        "        Args:\n",
        "            labels (list[str]): list with dataset labels\n",
        "\n",
        "        Returns:\n",
        "            torch.Tensor: labels embeddings of size (num_labels, dim)\n",
        "        \"\"\"\n",
        "        # tokenize label's prompt\n",
        "        labels_inputs = self.tokenizer(\n",
        "            [f\"a photo of {label}\" for label in labels],\n",
        "            return_tensors=\"pt\",\n",
        "            padding=True,\n",
        "        ).to(get_module_device(self.model))\n",
        "        # run language model on this prompt and get embeddings\n",
        "        labels_embeddings = self.model.get_text_features(**labels_inputs)\n",
        "        # normilize embeddings\n",
        "        labels_embeddings /= labels_embeddings.norm(p=2, dim=-1, keepdim=True)\n",
        "        return labels_embeddings\n",
        "\n",
        "    def forward(self, images: torch.Tensor) -> torch.Tensor:\n",
        "        \"\"\"Function to calculate similarity between image and label's promts embeddings\n",
        "\n",
        "        Args:\n",
        "            images (torch.Tensor): image tensor\n",
        "\n",
        "        Returns:\n",
        "            torch.Tensor: output similarity tensor of size (batch_size,  num_labels)\n",
        "        \"\"\"\n",
        "        image_features = self.model.get_image_features(\n",
        "            images\n",
        "        )  # (batch_size, dim)\n",
        "        image_features /= image_features.norm(p=2, dim=-1, keepdim=True)\n",
        "        return torch.matmul(image_features, self.labels_embeddings.T) * self.logit_scale\n",
        "\n",
        "def calculate_accuracy(model: CLIPClassifier, dataloader: DataLoader) -> float:\n",
        "    \"\"\"Function calculates accuracy of given model on dataloader\n",
        "\n",
        "    Args:\n",
        "        model (CLIPClassifier): CLIP classifier model\n",
        "        dataloader (DataLoader): evaluation dataloader\n",
        "\n",
        "    Returns:\n",
        "        float: model's accuracy\n",
        "    \"\"\"\n",
        "    metric = evaluate.load(\"accuracy\")\n",
        "    predictions_list = []\n",
        "    references_list = []\n",
        "    device = get_module_device(model)\n",
        "    for batch in tqdm(\n",
        "        dataloader, total=len(dataloader), desc=\"Evaluate model on dataset\"\n",
        "    ):\n",
        "        batch[\"pixel_values\"] = batch[\"pixel_values\"].to(device)\n",
        "        predictions = model(batch[\"pixel_values\"])\n",
        "        predictions_list.append(torch.argmax(predictions, dim=1))\n",
        "        references_list.append(batch[\"label_id\"])\n",
        "    return metric.compute(\n",
        "        predictions=torch.concat(predictions_list),\n",
        "        references=torch.concat(references_list),\n",
        "    )[\"accuracy\"]\n",
        "\n",
        "def collate_fn(items: LazyBatch) -> dict[str, Any]:\n",
        "    return {\n",
        "        \"pixel_values\": torch.stack(\n",
        "            [item[\"pixel_values\"] for item in items]\n",
        "        ),  # (batch_size, 3, 224, 224)\n",
        "        \"input_ids\": torch.tensor(\n",
        "            [item[\"input_ids\"] for item in items]\n",
        "        ),  # (batch_size, max_length)\n",
        "        \"attention_mask\": torch.tensor(\n",
        "            [item[\"attention_mask\"] for item in items]\n",
        "        ),  # (batch_size, max_length)\n",
        "        \"label_id\": torch.tensor([item[\"label_id\"] for item in items]),  # (batch_size),\n",
        "        \"return_loss\": True,\n",
        "    }\n",
        "\n",
        "@torch.no_grad()\n",
        "def evaluate_clip_classifier(\n",
        "    model: nn.Module,\n",
        "    dataset: Dataset,\n",
        "    tokenizer: CLIPTokenizerFast,\n",
        "    labels: list[str],\n",
        "    batch_size: int = 64,\n",
        "    num_workers: int = 5,\n",
        "    device: str = \"cuda\",\n",
        ") -> None:\n",
        "    \"\"\"Function evaluates CLIP model on given dataset\n",
        "\n",
        "    Args:\n",
        "        model (nn.Module): CLIP model\n",
        "        dataset (Dataset): evaluation dataset\n",
        "        tokenizer (CLIPTokenizerFast): CLIP tokenizer\n",
        "        labels (list[str]): list with dataset labels\n",
        "        batch_size (int): batch size. Defaults to 64\n",
        "        num_workers (int): number of workers for dataloader. Defaults to 5\n",
        "        device (str, optional): model's device. Defaults to \"cuda\".\n",
        "    \"\"\"\n",
        "    clip_classifier = CLIPClassifier(model, tokenizer, labels)\n",
        "    test_dataloader = DataLoader(\n",
        "        dataset, batch_size=batch_size, num_workers=num_workers, collate_fn=collate_fn\n",
        "    )\n",
        "    clip_classifier = clip_classifier.to(device)\n",
        "    acc = calculate_accuracy(clip_classifier, test_dataloader)\n",
        "    print(f\"Model accuracy: {acc}\")"
      ]
    },
    {
      "cell_type": "markdown",
      "id": "0f5619d9-890b-476f-b274-14f0208a86de",
      "metadata": {
        "id": "0f5619d9-890b-476f-b274-14f0208a86de"
      },
      "source": [
        "### Evaluate baseline CLIP (Zero-shot)"
      ]
    },
    {
      "cell_type": "markdown",
      "id": "dbe1788b-7396-4fcd-9493-6d2dc13d1735",
      "metadata": {
        "id": "dbe1788b-7396-4fcd-9493-6d2dc13d1735"
      },
      "source": [
        "First, let's evaluate our pretrained CLIP model on test dataset. One of the advantages of CLIP model compared to standard classification models is that it works well without fine-tuning."
      ]
    },
    {
      "cell_type": "code",
      "execution_count": 44,
      "id": "c6aa412e-c74a-4bef-a5a5-381ac68c3ac8",
      "metadata": {
        "id": "c6aa412e-c74a-4bef-a5a5-381ac68c3ac8",
        "outputId": "cf2a1ca1-2657-494b-e591-7492135571e8",
        "colab": {
          "base_uri": "https://localhost:8080/",
          "height": 651,
          "referenced_widgets": [
            "c6b31b6c882341bcafe2a3b7dc1340ec",
            "54418c164fc74ceeab3b182fe4d4fbbb",
            "d361bf4c703f4b52a6c4da4a3a60873b",
            "bfa7140222bc44a9bc6fc13fe75cfafa",
            "3a896acd0b924800b96f4968fc05786e",
            "38f50a89c1a94b998c66bba33631b00d",
            "e2b5530ab34841529192c6aa200c1f7c",
            "bd11af7e8881448696cae31088a848ac",
            "efb9bfad4f954f6c8014405a688b0401",
            "2671e9571b74484fb29526ba3e0b7d63",
            "fc7676bedfbb460dbe4f503b6991191a"
          ]
        }
      },
      "outputs": [
        {
          "output_type": "stream",
          "name": "stdout",
          "text": [
            "Trainable params: 0.0000M || All params: 151.2773M || Trainable%: 0.00%\n"
          ]
        },
        {
          "output_type": "stream",
          "name": "stderr",
          "text": [
            "/usr/local/lib/python3.11/dist-packages/torch/utils/data/dataloader.py:617: UserWarning: This DataLoader will create 5 worker processes in total. Our suggested max number of worker in current system is 2, which is smaller than what this DataLoader is going to create. Please be aware that excessive worker creation might get DataLoader running slow or even freeze, lower the worker number to avoid potential slowness/freeze if necessary.\n",
            "  warnings.warn(\n"
          ]
        },
        {
          "output_type": "display_data",
          "data": {
            "text/plain": [
              "Evaluate model on dataset:   0%|          | 0/28 [00:00<?, ?it/s]"
            ],
            "application/vnd.jupyter.widget-view+json": {
              "version_major": 2,
              "version_minor": 0,
              "model_id": "c6b31b6c882341bcafe2a3b7dc1340ec"
            }
          },
          "metadata": {}
        },
        {
          "output_type": "error",
          "ename": "KeyError",
          "evalue": "Caught KeyError in DataLoader worker process 0.\nOriginal Traceback (most recent call last):\n  File \"/usr/local/lib/python3.11/dist-packages/torch/utils/data/_utils/worker.py\", line 351, in _worker_loop\n    data = fetcher.fetch(index)  # type: ignore[possibly-undefined]\n           ^^^^^^^^^^^^^^^^^^^^\n  File \"/usr/local/lib/python3.11/dist-packages/torch/utils/data/_utils/fetch.py\", line 55, in fetch\n    return self.collate_fn(data)\n           ^^^^^^^^^^^^^^^^^^^^^\n  File \"<ipython-input-30-22e50433e391>\", line 75, in collate_fn\n    [item[\"pixel_values\"] for item in items]\n  File \"<ipython-input-30-22e50433e391>\", line 75, in <listcomp>\n    [item[\"pixel_values\"] for item in items]\n     ~~~~^^^^^^^^^^^^^^^^\nKeyError: 'pixel_values'\n",
          "traceback": [
            "\u001b[0;31m---------------------------------------------------------------------------\u001b[0m",
            "\u001b[0;31mKeyError\u001b[0m                                  Traceback (most recent call last)",
            "\u001b[0;32m<ipython-input-44-066d015e2b3a>\u001b[0m in \u001b[0;36m<cell line: 0>\u001b[0;34m()\u001b[0m\n\u001b[1;32m      2\u001b[0m \u001b[0mfreeze_params\u001b[0m\u001b[0;34m(\u001b[0m\u001b[0mclip_baseline\u001b[0m\u001b[0;34m)\u001b[0m\u001b[0;34m\u001b[0m\u001b[0;34m\u001b[0m\u001b[0m\n\u001b[1;32m      3\u001b[0m \u001b[0mprint_trainable_parameters\u001b[0m\u001b[0;34m(\u001b[0m\u001b[0mclip_baseline\u001b[0m\u001b[0;34m)\u001b[0m\u001b[0;34m\u001b[0m\u001b[0;34m\u001b[0m\u001b[0m\n\u001b[0;32m----> 4\u001b[0;31m \u001b[0mevaluate_clip_classifier\u001b[0m\u001b[0;34m(\u001b[0m\u001b[0mclip_baseline\u001b[0m\u001b[0;34m,\u001b[0m \u001b[0mdataset\u001b[0m\u001b[0;34m[\u001b[0m\u001b[0;34m'test'\u001b[0m\u001b[0;34m]\u001b[0m\u001b[0;34m,\u001b[0m \u001b[0mTOKENIZER\u001b[0m\u001b[0;34m,\u001b[0m \u001b[0mlabels\u001b[0m\u001b[0;34m)\u001b[0m\u001b[0;34m\u001b[0m\u001b[0;34m\u001b[0m\u001b[0m\n\u001b[0m",
            "\u001b[0;32m/usr/local/lib/python3.11/dist-packages/torch/utils/_contextlib.py\u001b[0m in \u001b[0;36mdecorate_context\u001b[0;34m(*args, **kwargs)\u001b[0m\n\u001b[1;32m    114\u001b[0m     \u001b[0;32mdef\u001b[0m \u001b[0mdecorate_context\u001b[0m\u001b[0;34m(\u001b[0m\u001b[0;34m*\u001b[0m\u001b[0margs\u001b[0m\u001b[0;34m,\u001b[0m \u001b[0;34m**\u001b[0m\u001b[0mkwargs\u001b[0m\u001b[0;34m)\u001b[0m\u001b[0;34m:\u001b[0m\u001b[0;34m\u001b[0m\u001b[0;34m\u001b[0m\u001b[0m\n\u001b[1;32m    115\u001b[0m         \u001b[0;32mwith\u001b[0m \u001b[0mctx_factory\u001b[0m\u001b[0;34m(\u001b[0m\u001b[0;34m)\u001b[0m\u001b[0;34m:\u001b[0m\u001b[0;34m\u001b[0m\u001b[0;34m\u001b[0m\u001b[0m\n\u001b[0;32m--> 116\u001b[0;31m             \u001b[0;32mreturn\u001b[0m \u001b[0mfunc\u001b[0m\u001b[0;34m(\u001b[0m\u001b[0;34m*\u001b[0m\u001b[0margs\u001b[0m\u001b[0;34m,\u001b[0m \u001b[0;34m**\u001b[0m\u001b[0mkwargs\u001b[0m\u001b[0;34m)\u001b[0m\u001b[0;34m\u001b[0m\u001b[0;34m\u001b[0m\u001b[0m\n\u001b[0m\u001b[1;32m    117\u001b[0m \u001b[0;34m\u001b[0m\u001b[0m\n\u001b[1;32m    118\u001b[0m     \u001b[0;32mreturn\u001b[0m \u001b[0mdecorate_context\u001b[0m\u001b[0;34m\u001b[0m\u001b[0;34m\u001b[0m\u001b[0m\n",
            "\u001b[0;32m<ipython-input-30-22e50433e391>\u001b[0m in \u001b[0;36mevaluate_clip_classifier\u001b[0;34m(model, dataset, tokenizer, labels, batch_size, num_workers, device)\u001b[0m\n\u001b[1;32m    111\u001b[0m     )\n\u001b[1;32m    112\u001b[0m     \u001b[0mclip_classifier\u001b[0m \u001b[0;34m=\u001b[0m \u001b[0mclip_classifier\u001b[0m\u001b[0;34m.\u001b[0m\u001b[0mto\u001b[0m\u001b[0;34m(\u001b[0m\u001b[0mdevice\u001b[0m\u001b[0;34m)\u001b[0m\u001b[0;34m\u001b[0m\u001b[0;34m\u001b[0m\u001b[0m\n\u001b[0;32m--> 113\u001b[0;31m     \u001b[0macc\u001b[0m \u001b[0;34m=\u001b[0m \u001b[0mcalculate_accuracy\u001b[0m\u001b[0;34m(\u001b[0m\u001b[0mclip_classifier\u001b[0m\u001b[0;34m,\u001b[0m \u001b[0mtest_dataloader\u001b[0m\u001b[0;34m)\u001b[0m\u001b[0;34m\u001b[0m\u001b[0;34m\u001b[0m\u001b[0m\n\u001b[0m\u001b[1;32m    114\u001b[0m     \u001b[0mprint\u001b[0m\u001b[0;34m(\u001b[0m\u001b[0;34mf\"Model accuracy: {acc}\"\u001b[0m\u001b[0;34m)\u001b[0m\u001b[0;34m\u001b[0m\u001b[0;34m\u001b[0m\u001b[0m\n",
            "\u001b[0;32m<ipython-input-30-22e50433e391>\u001b[0m in \u001b[0;36mcalculate_accuracy\u001b[0;34m(model, dataloader)\u001b[0m\n\u001b[1;32m     58\u001b[0m     \u001b[0mreferences_list\u001b[0m \u001b[0;34m=\u001b[0m \u001b[0;34m[\u001b[0m\u001b[0;34m]\u001b[0m\u001b[0;34m\u001b[0m\u001b[0;34m\u001b[0m\u001b[0m\n\u001b[1;32m     59\u001b[0m     \u001b[0mdevice\u001b[0m \u001b[0;34m=\u001b[0m \u001b[0mget_module_device\u001b[0m\u001b[0;34m(\u001b[0m\u001b[0mmodel\u001b[0m\u001b[0;34m)\u001b[0m\u001b[0;34m\u001b[0m\u001b[0;34m\u001b[0m\u001b[0m\n\u001b[0;32m---> 60\u001b[0;31m     for batch in tqdm(\n\u001b[0m\u001b[1;32m     61\u001b[0m         \u001b[0mdataloader\u001b[0m\u001b[0;34m,\u001b[0m \u001b[0mtotal\u001b[0m\u001b[0;34m=\u001b[0m\u001b[0mlen\u001b[0m\u001b[0;34m(\u001b[0m\u001b[0mdataloader\u001b[0m\u001b[0;34m)\u001b[0m\u001b[0;34m,\u001b[0m \u001b[0mdesc\u001b[0m\u001b[0;34m=\u001b[0m\u001b[0;34m\"Evaluate model on dataset\"\u001b[0m\u001b[0;34m\u001b[0m\u001b[0;34m\u001b[0m\u001b[0m\n\u001b[1;32m     62\u001b[0m     ):\n",
            "\u001b[0;32m/usr/local/lib/python3.11/dist-packages/tqdm/notebook.py\u001b[0m in \u001b[0;36m__iter__\u001b[0;34m(self)\u001b[0m\n\u001b[1;32m    248\u001b[0m         \u001b[0;32mtry\u001b[0m\u001b[0;34m:\u001b[0m\u001b[0;34m\u001b[0m\u001b[0;34m\u001b[0m\u001b[0m\n\u001b[1;32m    249\u001b[0m             \u001b[0mit\u001b[0m \u001b[0;34m=\u001b[0m \u001b[0msuper\u001b[0m\u001b[0;34m(\u001b[0m\u001b[0;34m)\u001b[0m\u001b[0;34m.\u001b[0m\u001b[0m__iter__\u001b[0m\u001b[0;34m(\u001b[0m\u001b[0;34m)\u001b[0m\u001b[0;34m\u001b[0m\u001b[0;34m\u001b[0m\u001b[0m\n\u001b[0;32m--> 250\u001b[0;31m             \u001b[0;32mfor\u001b[0m \u001b[0mobj\u001b[0m \u001b[0;32min\u001b[0m \u001b[0mit\u001b[0m\u001b[0;34m:\u001b[0m\u001b[0;34m\u001b[0m\u001b[0;34m\u001b[0m\u001b[0m\n\u001b[0m\u001b[1;32m    251\u001b[0m                 \u001b[0;31m# return super(tqdm...) will not catch exception\u001b[0m\u001b[0;34m\u001b[0m\u001b[0;34m\u001b[0m\u001b[0m\n\u001b[1;32m    252\u001b[0m                 \u001b[0;32myield\u001b[0m \u001b[0mobj\u001b[0m\u001b[0;34m\u001b[0m\u001b[0;34m\u001b[0m\u001b[0m\n",
            "\u001b[0;32m/usr/local/lib/python3.11/dist-packages/tqdm/std.py\u001b[0m in \u001b[0;36m__iter__\u001b[0;34m(self)\u001b[0m\n\u001b[1;32m   1179\u001b[0m \u001b[0;34m\u001b[0m\u001b[0m\n\u001b[1;32m   1180\u001b[0m         \u001b[0;32mtry\u001b[0m\u001b[0;34m:\u001b[0m\u001b[0;34m\u001b[0m\u001b[0;34m\u001b[0m\u001b[0m\n\u001b[0;32m-> 1181\u001b[0;31m             \u001b[0;32mfor\u001b[0m \u001b[0mobj\u001b[0m \u001b[0;32min\u001b[0m \u001b[0miterable\u001b[0m\u001b[0;34m:\u001b[0m\u001b[0;34m\u001b[0m\u001b[0;34m\u001b[0m\u001b[0m\n\u001b[0m\u001b[1;32m   1182\u001b[0m                 \u001b[0;32myield\u001b[0m \u001b[0mobj\u001b[0m\u001b[0;34m\u001b[0m\u001b[0;34m\u001b[0m\u001b[0m\n\u001b[1;32m   1183\u001b[0m                 \u001b[0;31m# Update and possibly print the progressbar.\u001b[0m\u001b[0;34m\u001b[0m\u001b[0;34m\u001b[0m\u001b[0m\n",
            "\u001b[0;32m/usr/local/lib/python3.11/dist-packages/torch/utils/data/dataloader.py\u001b[0m in \u001b[0;36m__next__\u001b[0;34m(self)\u001b[0m\n\u001b[1;32m    699\u001b[0m                 \u001b[0;31m# TODO(https://github.com/pytorch/pytorch/issues/76750)\u001b[0m\u001b[0;34m\u001b[0m\u001b[0;34m\u001b[0m\u001b[0m\n\u001b[1;32m    700\u001b[0m                 \u001b[0mself\u001b[0m\u001b[0;34m.\u001b[0m\u001b[0m_reset\u001b[0m\u001b[0;34m(\u001b[0m\u001b[0;34m)\u001b[0m  \u001b[0;31m# type: ignore[call-arg]\u001b[0m\u001b[0;34m\u001b[0m\u001b[0;34m\u001b[0m\u001b[0m\n\u001b[0;32m--> 701\u001b[0;31m             \u001b[0mdata\u001b[0m \u001b[0;34m=\u001b[0m \u001b[0mself\u001b[0m\u001b[0;34m.\u001b[0m\u001b[0m_next_data\u001b[0m\u001b[0;34m(\u001b[0m\u001b[0;34m)\u001b[0m\u001b[0;34m\u001b[0m\u001b[0;34m\u001b[0m\u001b[0m\n\u001b[0m\u001b[1;32m    702\u001b[0m             \u001b[0mself\u001b[0m\u001b[0;34m.\u001b[0m\u001b[0m_num_yielded\u001b[0m \u001b[0;34m+=\u001b[0m \u001b[0;36m1\u001b[0m\u001b[0;34m\u001b[0m\u001b[0;34m\u001b[0m\u001b[0m\n\u001b[1;32m    703\u001b[0m             if (\n",
            "\u001b[0;32m/usr/local/lib/python3.11/dist-packages/torch/utils/data/dataloader.py\u001b[0m in \u001b[0;36m_next_data\u001b[0;34m(self)\u001b[0m\n\u001b[1;32m   1463\u001b[0m             \u001b[0;32melse\u001b[0m\u001b[0;34m:\u001b[0m\u001b[0;34m\u001b[0m\u001b[0;34m\u001b[0m\u001b[0m\n\u001b[1;32m   1464\u001b[0m                 \u001b[0;32mdel\u001b[0m \u001b[0mself\u001b[0m\u001b[0;34m.\u001b[0m\u001b[0m_task_info\u001b[0m\u001b[0;34m[\u001b[0m\u001b[0midx\u001b[0m\u001b[0;34m]\u001b[0m\u001b[0;34m\u001b[0m\u001b[0;34m\u001b[0m\u001b[0m\n\u001b[0;32m-> 1465\u001b[0;31m                 \u001b[0;32mreturn\u001b[0m \u001b[0mself\u001b[0m\u001b[0;34m.\u001b[0m\u001b[0m_process_data\u001b[0m\u001b[0;34m(\u001b[0m\u001b[0mdata\u001b[0m\u001b[0;34m)\u001b[0m\u001b[0;34m\u001b[0m\u001b[0;34m\u001b[0m\u001b[0m\n\u001b[0m\u001b[1;32m   1466\u001b[0m \u001b[0;34m\u001b[0m\u001b[0m\n\u001b[1;32m   1467\u001b[0m     \u001b[0;32mdef\u001b[0m \u001b[0m_try_put_index\u001b[0m\u001b[0;34m(\u001b[0m\u001b[0mself\u001b[0m\u001b[0;34m)\u001b[0m\u001b[0;34m:\u001b[0m\u001b[0;34m\u001b[0m\u001b[0;34m\u001b[0m\u001b[0m\n",
            "\u001b[0;32m/usr/local/lib/python3.11/dist-packages/torch/utils/data/dataloader.py\u001b[0m in \u001b[0;36m_process_data\u001b[0;34m(self, data)\u001b[0m\n\u001b[1;32m   1489\u001b[0m         \u001b[0mself\u001b[0m\u001b[0;34m.\u001b[0m\u001b[0m_try_put_index\u001b[0m\u001b[0;34m(\u001b[0m\u001b[0;34m)\u001b[0m\u001b[0;34m\u001b[0m\u001b[0;34m\u001b[0m\u001b[0m\n\u001b[1;32m   1490\u001b[0m         \u001b[0;32mif\u001b[0m \u001b[0misinstance\u001b[0m\u001b[0;34m(\u001b[0m\u001b[0mdata\u001b[0m\u001b[0;34m,\u001b[0m \u001b[0mExceptionWrapper\u001b[0m\u001b[0;34m)\u001b[0m\u001b[0;34m:\u001b[0m\u001b[0;34m\u001b[0m\u001b[0;34m\u001b[0m\u001b[0m\n\u001b[0;32m-> 1491\u001b[0;31m             \u001b[0mdata\u001b[0m\u001b[0;34m.\u001b[0m\u001b[0mreraise\u001b[0m\u001b[0;34m(\u001b[0m\u001b[0;34m)\u001b[0m\u001b[0;34m\u001b[0m\u001b[0;34m\u001b[0m\u001b[0m\n\u001b[0m\u001b[1;32m   1492\u001b[0m         \u001b[0;32mreturn\u001b[0m \u001b[0mdata\u001b[0m\u001b[0;34m\u001b[0m\u001b[0;34m\u001b[0m\u001b[0m\n\u001b[1;32m   1493\u001b[0m \u001b[0;34m\u001b[0m\u001b[0m\n",
            "\u001b[0;32m/usr/local/lib/python3.11/dist-packages/torch/_utils.py\u001b[0m in \u001b[0;36mreraise\u001b[0;34m(self)\u001b[0m\n\u001b[1;32m    713\u001b[0m             \u001b[0;31m# instantiate since we don't know how to\u001b[0m\u001b[0;34m\u001b[0m\u001b[0;34m\u001b[0m\u001b[0m\n\u001b[1;32m    714\u001b[0m             \u001b[0;32mraise\u001b[0m \u001b[0mRuntimeError\u001b[0m\u001b[0;34m(\u001b[0m\u001b[0mmsg\u001b[0m\u001b[0;34m)\u001b[0m \u001b[0;32mfrom\u001b[0m \u001b[0;32mNone\u001b[0m\u001b[0;34m\u001b[0m\u001b[0;34m\u001b[0m\u001b[0m\n\u001b[0;32m--> 715\u001b[0;31m         \u001b[0;32mraise\u001b[0m \u001b[0mexception\u001b[0m\u001b[0;34m\u001b[0m\u001b[0;34m\u001b[0m\u001b[0m\n\u001b[0m\u001b[1;32m    716\u001b[0m \u001b[0;34m\u001b[0m\u001b[0m\n\u001b[1;32m    717\u001b[0m \u001b[0;34m\u001b[0m\u001b[0m\n",
            "\u001b[0;31mKeyError\u001b[0m: Caught KeyError in DataLoader worker process 0.\nOriginal Traceback (most recent call last):\n  File \"/usr/local/lib/python3.11/dist-packages/torch/utils/data/_utils/worker.py\", line 351, in _worker_loop\n    data = fetcher.fetch(index)  # type: ignore[possibly-undefined]\n           ^^^^^^^^^^^^^^^^^^^^\n  File \"/usr/local/lib/python3.11/dist-packages/torch/utils/data/_utils/fetch.py\", line 55, in fetch\n    return self.collate_fn(data)\n           ^^^^^^^^^^^^^^^^^^^^^\n  File \"<ipython-input-30-22e50433e391>\", line 75, in collate_fn\n    [item[\"pixel_values\"] for item in items]\n  File \"<ipython-input-30-22e50433e391>\", line 75, in <listcomp>\n    [item[\"pixel_values\"] for item in items]\n     ~~~~^^^^^^^^^^^^^^^^\nKeyError: 'pixel_values'\n"
          ]
        }
      ],
      "source": [
        "clip_baseline = CLIPModel.from_pretrained(MODEL_NAME)\n",
        "freeze_params(clip_baseline)\n",
        "print_trainable_parameters(clip_baseline)\n",
        "evaluate_clip_classifier(clip_baseline, dataset['test'], TOKENIZER, labels)"
      ]
    },
    {
      "cell_type": "markdown",
      "id": "0662037f-7a6e-4f21-9383-68207cec1a76",
      "metadata": {
        "id": "0662037f-7a6e-4f21-9383-68207cec1a76"
      },
      "source": [
        "In our case we got 0.8 accuracy for free! But we can improve it even further our metrics with fine-tuning techniques."
      ]
    },
    {
      "cell_type": "markdown",
      "id": "7e31770f-6491-4fd7-a3d7-3eff8b723fb2",
      "metadata": {
        "id": "7e31770f-6491-4fd7-a3d7-3eff8b723fb2"
      },
      "source": [
        "## Fine-tuning"
      ]
    },
    {
      "cell_type": "markdown",
      "id": "6a0ff0e9-45c0-4a95-8a33-59030d5d2d98",
      "metadata": {
        "id": "6a0ff0e9-45c0-4a95-8a33-59030d5d2d98"
      },
      "source": [
        "In this section, we'll undertake the fine-tuning process leveraging the [🤗HuggingFace Trainer API](https://huggingface.co/docs/transformers/main_classes/trainer). The Trainer API significantly streamlines the training code, eliminating much of the boilerplate, and offers various features such as the ability to save model weights and training in fp16."
      ]
    },
    {
      "cell_type": "code",
      "execution_count": null,
      "id": "b46ab3ba-524c-4842-88a7-fda209a813f0",
      "metadata": {
        "id": "b46ab3ba-524c-4842-88a7-fda209a813f0"
      },
      "outputs": [],
      "source": [
        "def collate_train_fn(items: LazyBatch):\n",
        "    items = collate_fn(items)\n",
        "    items.pop(\"label_id\")\n",
        "    return items\n",
        "\n",
        "\n",
        "def get_default_training_args(\n",
        "    experiment_name: str,\n",
        "    lr: float,\n",
        "    batch_size: int = 256,\n",
        "    num_epoch: int = 2,\n",
        "    num_workers: int = 15,\n",
        ") -> TrainingArguments:\n",
        "    \"\"\"Function gets default training arguments for HF Trainer\n",
        "\n",
        "    Args:\n",
        "        experiment_name (str): experiment name\n",
        "        lr (float): learning rate\n",
        "        batch_size (int, optional): batch size. Defaults to 256.\n",
        "        num_epoch (int, optional): number of epoch to train. Defaults to 2.\n",
        "        num_workers (int, optional): number of workers for dataloader. Defaults to 15.\n",
        "\n",
        "    Returns:\n",
        "        TrainingArguments: arguments object for HF Trainer\n",
        "    \"\"\"\n",
        "    return TrainingArguments(\n",
        "        experiment_name,\n",
        "        per_device_train_batch_size=batch_size,\n",
        "        learning_rate=lr,\n",
        "        num_train_epochs=num_epoch,\n",
        "        per_device_eval_batch_size=batch_size,\n",
        "        gradient_accumulation_steps=1,\n",
        "        logging_steps=10,\n",
        "        save_total_limit=2,\n",
        "        evaluation_strategy=\"epoch\",\n",
        "        save_strategy=\"epoch\",\n",
        "        fp16=True,\n",
        "        remove_unused_columns=False,\n",
        "        load_best_model_at_end=True,\n",
        "        dataloader_num_workers=num_workers,\n",
        "    )"
      ]
    },
    {
      "cell_type": "markdown",
      "id": "1294e881-db65-4cf9-9bfa-3cbb6e80ff01",
      "metadata": {
        "id": "1294e881-db65-4cf9-9bfa-3cbb6e80ff01"
      },
      "source": [
        "### All layers tuning"
      ]
    },
    {
      "cell_type": "markdown",
      "id": "a07a0df3-4f68-47ad-b889-681410a41b8a",
      "metadata": {
        "id": "a07a0df3-4f68-47ad-b889-681410a41b8a"
      },
      "source": [
        "Initially, let's explore the simplest approach to fine-tuning, which involves fine-tuning all layers of the model. While straightforward, it's important to note that this method is computationally intensive."
      ]
    },
    {
      "cell_type": "code",
      "execution_count": null,
      "id": "660a05ec-8113-4460-ad67-d2ffd346a6b2",
      "metadata": {
        "id": "660a05ec-8113-4460-ad67-d2ffd346a6b2",
        "outputId": "f99dee34-315a-47bf-a3c5-5870eea615da"
      },
      "outputs": [
        {
          "data": {
            "text/html": [
              "\n",
              "    <div>\n",
              "      \n",
              "      <progress value='42' max='42' style='width:300px; height:20px; vertical-align: middle;'></progress>\n",
              "      [42/42 00:35, Epoch 2/2]\n",
              "    </div>\n",
              "    <table border=\"1\" class=\"dataframe\">\n",
              "  <thead>\n",
              " <tr style=\"text-align: left;\">\n",
              "      <th>Epoch</th>\n",
              "      <th>Training Loss</th>\n",
              "      <th>Validation Loss</th>\n",
              "    </tr>\n",
              "  </thead>\n",
              "  <tbody>\n",
              "    <tr>\n",
              "      <td>1</td>\n",
              "      <td>2.477600</td>\n",
              "      <td>2.269790</td>\n",
              "    </tr>\n",
              "    <tr>\n",
              "      <td>2</td>\n",
              "      <td>2.290000</td>\n",
              "      <td>2.232479</td>\n",
              "    </tr>\n",
              "  </tbody>\n",
              "</table><p>"
            ],
            "text/plain": [
              "<IPython.core.display.HTML object>"
            ]
          },
          "metadata": {},
          "output_type": "display_data"
        },
        {
          "data": {
            "text/plain": [
              "TrainOutput(global_step=42, training_loss=2.398661812146505, metrics={'train_runtime': 44.6052, 'train_samples_per_second': 231.946, 'train_steps_per_second': 0.942, 'total_flos': 70339764267612.0, 'train_loss': 2.398661812146505, 'epoch': 2.0})"
            ]
          },
          "execution_count": 17,
          "metadata": {},
          "output_type": "execute_result"
        }
      ],
      "source": [
        "clip_full_finetuned = CLIPModel.from_pretrained(MODEL_NAME)\n",
        "trainer = Trainer(\n",
        "    model=clip_full_finetuned,\n",
        "    args=get_default_training_args(\"clip-all-layers-tuning-oxford-pets\", 3e-6),\n",
        "    data_collator=collate_train_fn,\n",
        "    train_dataset=dataset[\"train\"],\n",
        "    eval_dataset=dataset[\"val\"],\n",
        ")\n",
        "\n",
        "trainer.train()"
      ]
    },
    {
      "cell_type": "code",
      "execution_count": null,
      "id": "86733e8d-66d0-445a-86f6-d18f728d1982",
      "metadata": {
        "id": "86733e8d-66d0-445a-86f6-d18f728d1982",
        "outputId": "baf6bfca-e690-4caf-aff0-ae8421a7e38c",
        "colab": {
          "referenced_widgets": [
            "2f44dd20a1c246bd9604a45accc9dbf5"
          ]
        }
      },
      "outputs": [
        {
          "name": "stdout",
          "output_type": "stream",
          "text": [
            "Trainable params: 151.2773M || All params: 151.2773M || Trainable%: 100.00%\n"
          ]
        },
        {
          "data": {
            "application/vnd.jupyter.widget-view+json": {
              "model_id": "2f44dd20a1c246bd9604a45accc9dbf5",
              "version_major": 2,
              "version_minor": 0
            },
            "text/plain": [
              "Evaluate model on dataset:   0%|          | 0/28 [00:00<?, ?it/s]"
            ]
          },
          "metadata": {},
          "output_type": "display_data"
        },
        {
          "name": "stdout",
          "output_type": "stream",
          "text": [
            "Model accuracy: 0.9278059785673999\n"
          ]
        }
      ],
      "source": [
        "print_trainable_parameters(clip_full_finetuned)\n",
        "evaluate_clip_classifier(clip_full_finetuned, dataset['test'], TOKENIZER, labels)"
      ]
    },
    {
      "cell_type": "markdown",
      "id": "4893a75d-fae2-419a-9058-99f5b61a0f56",
      "metadata": {
        "id": "4893a75d-fae2-419a-9058-99f5b61a0f56"
      },
      "source": [
        "### Fine-tuning Text Encoder"
      ]
    },
    {
      "cell_type": "markdown",
      "id": "0b2c718b-35e8-4498-822a-25f6658a5d50",
      "metadata": {
        "id": "0b2c718b-35e8-4498-822a-25f6658a5d50"
      },
      "source": [
        "Following that, we have the option to fine-tune only the language model while keeping the visual model weights frozen. This method proves beneficial when dataset labels are provided in a language that differs from the one in which the language model was originally trained."
      ]
    },
    {
      "cell_type": "code",
      "execution_count": null,
      "id": "f6534e8c-5b86-4925-ae69-dde621cf5a33",
      "metadata": {
        "id": "f6534e8c-5b86-4925-ae69-dde621cf5a33",
        "outputId": "243c7e1f-345f-4108-edee-c410bae91f81"
      },
      "outputs": [
        {
          "data": {
            "text/html": [
              "\n",
              "    <div>\n",
              "      \n",
              "      <progress value='42' max='42' style='width:300px; height:20px; vertical-align: middle;'></progress>\n",
              "      [42/42 00:32, Epoch 2/2]\n",
              "    </div>\n",
              "    <table border=\"1\" class=\"dataframe\">\n",
              "  <thead>\n",
              " <tr style=\"text-align: left;\">\n",
              "      <th>Epoch</th>\n",
              "      <th>Training Loss</th>\n",
              "      <th>Validation Loss</th>\n",
              "    </tr>\n",
              "  </thead>\n",
              "  <tbody>\n",
              "    <tr>\n",
              "      <td>1</td>\n",
              "      <td>2.477200</td>\n",
              "      <td>2.262403</td>\n",
              "    </tr>\n",
              "    <tr>\n",
              "      <td>2</td>\n",
              "      <td>2.331100</td>\n",
              "      <td>2.229800</td>\n",
              "    </tr>\n",
              "  </tbody>\n",
              "</table><p>"
            ],
            "text/plain": [
              "<IPython.core.display.HTML object>"
            ]
          },
          "metadata": {},
          "output_type": "display_data"
        },
        {
          "data": {
            "text/plain": [
              "TrainOutput(global_step=42, training_loss=2.395583402542841, metrics={'train_runtime': 40.0923, 'train_samples_per_second': 258.054, 'train_steps_per_second': 1.048, 'total_flos': 70339764267612.0, 'train_loss': 2.395583402542841, 'epoch': 2.0})"
            ]
          },
          "execution_count": 19,
          "metadata": {},
          "output_type": "execute_result"
        }
      ],
      "source": [
        "clip_text_model_tuning = CLIPModel.from_pretrained(MODEL_NAME)\n",
        "freeze_params(clip_text_model_tuning.vision_model)\n",
        "\n",
        "trainer = Trainer(\n",
        "    model=clip_text_model_tuning,\n",
        "    args=get_default_training_args(\"clip-text-model-tuning-oxford-pets\", 3e-5),\n",
        "    data_collator=collate_train_fn,\n",
        "    train_dataset=dataset[\"train\"],\n",
        "    eval_dataset=dataset[\"val\"],\n",
        ")\n",
        "\n",
        "trainer.train()"
      ]
    },
    {
      "cell_type": "code",
      "execution_count": null,
      "id": "3152ce73-ac4b-4b7d-abe0-e260d12d967d",
      "metadata": {
        "id": "3152ce73-ac4b-4b7d-abe0-e260d12d967d",
        "outputId": "dc52cd0e-b237-440a-deee-261f23f26181",
        "colab": {
          "referenced_widgets": [
            "3c5bb8f49ae6463c97db810d0dc271d7"
          ]
        }
      },
      "outputs": [
        {
          "name": "stdout",
          "output_type": "stream",
          "text": [
            "Trainable params: 63.8213M || All params: 151.2773M || Trainable%: 42.19%\n"
          ]
        },
        {
          "data": {
            "application/vnd.jupyter.widget-view+json": {
              "model_id": "3c5bb8f49ae6463c97db810d0dc271d7",
              "version_major": 2,
              "version_minor": 0
            },
            "text/plain": [
              "Evaluate model on dataset:   0%|          | 0/28 [00:00<?, ?it/s]"
            ]
          },
          "metadata": {},
          "output_type": "display_data"
        },
        {
          "name": "stdout",
          "output_type": "stream",
          "text": [
            "Model accuracy: 0.9199097574732092\n"
          ]
        }
      ],
      "source": [
        "print_trainable_parameters(clip_text_model_tuning)\n",
        "evaluate_clip_classifier(clip_text_model_tuning, dataset['test'], TOKENIZER, labels)"
      ]
    },
    {
      "cell_type": "markdown",
      "id": "1b52aaec-780b-462c-9617-6e895495cb34",
      "metadata": {
        "id": "1b52aaec-780b-462c-9617-6e895495cb34"
      },
      "source": [
        "### Fine-tuning Image Encoder"
      ]
    },
    {
      "cell_type": "markdown",
      "id": "e6968264-b3e4-4f8a-bb6d-04265832105a",
      "metadata": {
        "id": "e6968264-b3e4-4f8a-bb6d-04265832105a"
      },
      "source": [
        "We can do the opposite and fine-tune only vision model. This can be useful if the image domain in your dataset is quite specific, such as satellite images"
      ]
    },
    {
      "cell_type": "code",
      "execution_count": null,
      "id": "b071345e-4930-4dc3-bf62-ef81bf4c4308",
      "metadata": {
        "id": "b071345e-4930-4dc3-bf62-ef81bf4c4308",
        "outputId": "0cd9ce2c-5c8b-4342-d069-44df1aa4aa8a"
      },
      "outputs": [
        {
          "data": {
            "text/html": [
              "\n",
              "    <div>\n",
              "      \n",
              "      <progress value='42' max='42' style='width:300px; height:20px; vertical-align: middle;'></progress>\n",
              "      [42/42 00:34, Epoch 2/2]\n",
              "    </div>\n",
              "    <table border=\"1\" class=\"dataframe\">\n",
              "  <thead>\n",
              " <tr style=\"text-align: left;\">\n",
              "      <th>Epoch</th>\n",
              "      <th>Training Loss</th>\n",
              "      <th>Validation Loss</th>\n",
              "    </tr>\n",
              "  </thead>\n",
              "  <tbody>\n",
              "    <tr>\n",
              "      <td>1</td>\n",
              "      <td>2.532900</td>\n",
              "      <td>2.441825</td>\n",
              "    </tr>\n",
              "    <tr>\n",
              "      <td>2</td>\n",
              "      <td>2.245000</td>\n",
              "      <td>2.330577</td>\n",
              "    </tr>\n",
              "  </tbody>\n",
              "</table><p>"
            ],
            "text/plain": [
              "<IPython.core.display.HTML object>"
            ]
          },
          "metadata": {},
          "output_type": "display_data"
        },
        {
          "data": {
            "text/plain": [
              "TrainOutput(global_step=42, training_loss=2.4347278277079263, metrics={'train_runtime': 42.5156, 'train_samples_per_second': 243.346, 'train_steps_per_second': 0.988, 'total_flos': 70339764267612.0, 'train_loss': 2.4347278277079263, 'epoch': 2.0})"
            ]
          },
          "execution_count": 21,
          "metadata": {},
          "output_type": "execute_result"
        }
      ],
      "source": [
        "clip_vision_model_tuning = CLIPModel.from_pretrained(MODEL_NAME)\n",
        "freeze_params(clip_vision_model_tuning.text_model)\n",
        "\n",
        "trainer = Trainer(\n",
        "    model=clip_vision_model_tuning,\n",
        "    args=get_default_training_args(\"clip-vision-model-tuning-oxford-pets\", 3e-5),\n",
        "    data_collator=collate_train_fn,\n",
        "    train_dataset=dataset[\"train\"],\n",
        "    eval_dataset=dataset[\"test\"],\n",
        ")\n",
        "\n",
        "trainer.train()"
      ]
    },
    {
      "cell_type": "code",
      "execution_count": null,
      "id": "7662e00b-7819-4aa6-84fd-03dbc20bbdf5",
      "metadata": {
        "id": "7662e00b-7819-4aa6-84fd-03dbc20bbdf5",
        "outputId": "7f5b7541-1963-447f-fb77-96c47793a710",
        "colab": {
          "referenced_widgets": [
            "dcd185ede6b84d39855c7b03040b102f"
          ]
        }
      },
      "outputs": [
        {
          "name": "stdout",
          "output_type": "stream",
          "text": [
            "Trainable params: 88.1114M || All params: 151.2773M || Trainable%: 58.24%\n"
          ]
        },
        {
          "data": {
            "application/vnd.jupyter.widget-view+json": {
              "model_id": "dcd185ede6b84d39855c7b03040b102f",
              "version_major": 2,
              "version_minor": 0
            },
            "text/plain": [
              "Evaluate model on dataset:   0%|          | 0/28 [00:00<?, ?it/s]"
            ]
          },
          "metadata": {},
          "output_type": "display_data"
        },
        {
          "name": "stdout",
          "output_type": "stream",
          "text": [
            "Model accuracy: 0.924985899605189\n"
          ]
        }
      ],
      "source": [
        "print_trainable_parameters(clip_vision_model_tuning)\n",
        "evaluate_clip_classifier(clip_vision_model_tuning, dataset['test'], TOKENIZER, labels)"
      ]
    },
    {
      "cell_type": "markdown",
      "id": "d7600733-cf2a-424f-8f34-8b2e925f9656",
      "metadata": {
        "id": "d7600733-cf2a-424f-8f34-8b2e925f9656"
      },
      "source": [
        "### Fine-tune 30 percent of the Last Layers of Vision-Language Model"
      ]
    },
    {
      "cell_type": "markdown",
      "id": "9ee550c1-4fb8-432f-a9f8-0a7cbc96d68b",
      "metadata": {
        "id": "9ee550c1-4fb8-432f-a9f8-0a7cbc96d68b"
      },
      "source": [
        "The most universal option is to fine-tune only the last layers in both models. This approach strikes a balance, allowing adaptation to the specific task while leveraging the pre-trained knowledge from the lower layers."
      ]
    },
    {
      "cell_type": "code",
      "execution_count": null,
      "id": "cac157de-c028-46aa-91cf-29c92ed903a1",
      "metadata": {
        "id": "cac157de-c028-46aa-91cf-29c92ed903a1"
      },
      "outputs": [],
      "source": [
        "clip_partial_tuning = CLIPModel.from_pretrained(MODEL_NAME)\n",
        "freeze_params(clip_partial_tuning.text_model, freeze_top_percent=0.7)\n",
        "freeze_params(clip_partial_tuning.vision_model, freeze_top_percent=0.7)"
      ]
    },
    {
      "cell_type": "code",
      "execution_count": null,
      "id": "a05c7453-c488-4fa1-b8c7-66b4aeaa6fc9",
      "metadata": {
        "id": "a05c7453-c488-4fa1-b8c7-66b4aeaa6fc9",
        "outputId": "7fbeec74-7df9-42c0-9ea1-231648892d9f"
      },
      "outputs": [
        {
          "data": {
            "text/html": [
              "\n",
              "    <div>\n",
              "      \n",
              "      <progress value='42' max='42' style='width:300px; height:20px; vertical-align: middle;'></progress>\n",
              "      [42/42 00:32, Epoch 2/2]\n",
              "    </div>\n",
              "    <table border=\"1\" class=\"dataframe\">\n",
              "  <thead>\n",
              " <tr style=\"text-align: left;\">\n",
              "      <th>Epoch</th>\n",
              "      <th>Training Loss</th>\n",
              "      <th>Validation Loss</th>\n",
              "    </tr>\n",
              "  </thead>\n",
              "  <tbody>\n",
              "    <tr>\n",
              "      <td>1</td>\n",
              "      <td>2.389500</td>\n",
              "      <td>2.181050</td>\n",
              "    </tr>\n",
              "    <tr>\n",
              "      <td>2</td>\n",
              "      <td>2.209200</td>\n",
              "      <td>2.150931</td>\n",
              "    </tr>\n",
              "  </tbody>\n",
              "</table><p>"
            ],
            "text/plain": [
              "<IPython.core.display.HTML object>"
            ]
          },
          "metadata": {},
          "output_type": "display_data"
        },
        {
          "data": {
            "text/plain": [
              "TrainOutput(global_step=42, training_loss=2.3123262382688976, metrics={'train_runtime': 40.1759, 'train_samples_per_second': 257.517, 'train_steps_per_second': 1.045, 'total_flos': 70339764267612.0, 'train_loss': 2.3123262382688976, 'epoch': 2.0})"
            ]
          },
          "execution_count": 24,
          "metadata": {},
          "output_type": "execute_result"
        }
      ],
      "source": [
        "trainer = Trainer(\n",
        "    model=clip_partial_tuning,\n",
        "    args=get_default_training_args(\"clip-partial-model-tuning-oxford-pets\", 3e-5),\n",
        "    data_collator=collate_train_fn,\n",
        "    train_dataset=dataset[\"train\"],\n",
        "    eval_dataset=dataset[\"val\"],\n",
        ")\n",
        "\n",
        "trainer.train()"
      ]
    },
    {
      "cell_type": "code",
      "execution_count": null,
      "id": "84cc5eec-80e7-42ee-b3dd-34b05c9a0072",
      "metadata": {
        "id": "84cc5eec-80e7-42ee-b3dd-34b05c9a0072",
        "outputId": "2b0956f9-0e1b-4289-a856-ad82fdc08eeb",
        "colab": {
          "referenced_widgets": [
            "5cc6c1736d4c447c80595d345708c9dc"
          ]
        }
      },
      "outputs": [
        {
          "name": "stdout",
          "output_type": "stream",
          "text": [
            "Trainable params: 38.7971M || All params: 151.2773M || Trainable%: 25.65%\n"
          ]
        },
        {
          "data": {
            "application/vnd.jupyter.widget-view+json": {
              "model_id": "5cc6c1736d4c447c80595d345708c9dc",
              "version_major": 2,
              "version_minor": 0
            },
            "text/plain": [
              "Evaluate model on dataset:   0%|          | 0/28 [00:00<?, ?it/s]"
            ]
          },
          "metadata": {},
          "output_type": "display_data"
        },
        {
          "name": "stdout",
          "output_type": "stream",
          "text": [
            "Model accuracy: 0.9334461364918217\n"
          ]
        }
      ],
      "source": [
        "print_trainable_parameters(clip_partial_tuning)\n",
        "evaluate_clip_classifier(clip_partial_tuning, dataset['test'], TOKENIZER, labels)"
      ]
    },
    {
      "cell_type": "markdown",
      "id": "f9a57519-8f58-4b92-b4a0-8c6edb36e189",
      "metadata": {
        "id": "f9a57519-8f58-4b92-b4a0-8c6edb36e189"
      },
      "source": [
        "### PEFT tuning (with LoRA)"
      ]
    },
    {
      "cell_type": "markdown",
      "id": "61e2c4de-adcc-41a7-ad17-9fb3a30a2bfd",
      "metadata": {
        "id": "61e2c4de-adcc-41a7-ad17-9fb3a30a2bfd"
      },
      "source": [
        "In cases where you want to fine-tune a pre-trained model with a large number of parameters, you can use the [PEFT](https://huggingface.co/blog/peft)(Parameter-Efficient Fine-Tuning) techniques. PEFT allows you to train a small number of parameters (about 1-5% of all model parameters) with performance comparable to training all layers\n",
        "\n",
        "In our case, we will use the [LoRA](https://huggingface.co/docs/peft/conceptual_guides/lora) technique using the [🤗HuggingFace PEFT](https://huggingface.co/docs/peft/index) library.\n",
        "\n",
        "**LoRA** introduces two small-rank matrices (called *update matrices*) to the initial weights of the pretrained model. Throughout the fine-tuning process, the initial weights of the model remain frozen, and only the update matrices are trained.\n",
        "\n",
        "In our specific case, we'll employ update matrices of rank 64, applied to the query, key, and value matrices in both the visual and language components of the CLIP model."
      ]
    },
    {
      "cell_type": "code",
      "execution_count": null,
      "id": "074d8f7c-f00c-4783-ad09-eb913a385af7",
      "metadata": {
        "id": "074d8f7c-f00c-4783-ad09-eb913a385af7"
      },
      "outputs": [],
      "source": [
        "clip_lora_tuning = CLIPModel.from_pretrained(MODEL_NAME)\n",
        "config = LoraConfig(\n",
        "    r=64,\n",
        "    lora_alpha=64,\n",
        "    target_modules=['q_proj', 'k_proj', 'v_proj'],\n",
        ")\n",
        "\n",
        "lora_model = get_peft_model(clip_lora_tuning, config)"
      ]
    },
    {
      "cell_type": "code",
      "execution_count": null,
      "id": "f9201e73-e832-4f7a-bcaa-e23c04b4bc1e",
      "metadata": {
        "id": "f9201e73-e832-4f7a-bcaa-e23c04b4bc1e",
        "outputId": "16f12021-f11a-409d-a90a-6d4ed1ed746b"
      },
      "outputs": [
        {
          "data": {
            "text/html": [
              "\n",
              "    <div>\n",
              "      \n",
              "      <progress value='42' max='42' style='width:300px; height:20px; vertical-align: middle;'></progress>\n",
              "      [42/42 00:31, Epoch 2/2]\n",
              "    </div>\n",
              "    <table border=\"1\" class=\"dataframe\">\n",
              "  <thead>\n",
              " <tr style=\"text-align: left;\">\n",
              "      <th>Epoch</th>\n",
              "      <th>Training Loss</th>\n",
              "      <th>Validation Loss</th>\n",
              "    </tr>\n",
              "  </thead>\n",
              "  <tbody>\n",
              "    <tr>\n",
              "      <td>1</td>\n",
              "      <td>2.410300</td>\n",
              "      <td>2.221336</td>\n",
              "    </tr>\n",
              "    <tr>\n",
              "      <td>2</td>\n",
              "      <td>2.251800</td>\n",
              "      <td>2.195205</td>\n",
              "    </tr>\n",
              "  </tbody>\n",
              "</table><p>"
            ],
            "text/plain": [
              "<IPython.core.display.HTML object>"
            ]
          },
          "metadata": {},
          "output_type": "display_data"
        },
        {
          "data": {
            "text/plain": [
              "TrainOutput(global_step=42, training_loss=2.320029849097842, metrics={'train_runtime': 40.0491, 'train_samples_per_second': 258.333, 'train_steps_per_second': 1.049, 'total_flos': 73635016583772.0, 'train_loss': 2.320029849097842, 'epoch': 2.0})"
            ]
          },
          "execution_count": 27,
          "metadata": {},
          "output_type": "execute_result"
        }
      ],
      "source": [
        "trainer = Trainer(\n",
        "    model=lora_model,\n",
        "    args=get_default_training_args(\"clip-lora-model-tuning-oxford-pets\", 3e-4),\n",
        "    data_collator=collate_train_fn,\n",
        "    train_dataset=dataset[\"train\"],\n",
        "    eval_dataset=dataset[\"val\"],\n",
        ")\n",
        "\n",
        "trainer.train()"
      ]
    },
    {
      "cell_type": "code",
      "execution_count": null,
      "id": "dfc52eef-2901-4d6a-96d1-787ae4a29c09",
      "metadata": {
        "id": "dfc52eef-2901-4d6a-96d1-787ae4a29c09",
        "outputId": "ecde13b3-0cbd-44b5-e03e-67b8dab7de5d",
        "colab": {
          "referenced_widgets": [
            "7d524ca329cb4252a7e4664cf43ba4f2"
          ]
        }
      },
      "outputs": [
        {
          "name": "stdout",
          "output_type": "stream",
          "text": [
            "Trainable params: 5.8982M || All params: 157.1756M || Trainable%: 3.75%\n"
          ]
        },
        {
          "data": {
            "application/vnd.jupyter.widget-view+json": {
              "model_id": "7d524ca329cb4252a7e4664cf43ba4f2",
              "version_major": 2,
              "version_minor": 0
            },
            "text/plain": [
              "Evaluate model on dataset:   0%|          | 0/28 [00:00<?, ?it/s]"
            ]
          },
          "metadata": {},
          "output_type": "display_data"
        },
        {
          "name": "stdout",
          "output_type": "stream",
          "text": [
            "Model accuracy: 0.9261139311900733\n"
          ]
        }
      ],
      "source": [
        "print_trainable_parameters(lora_model)\n",
        "evaluate_clip_classifier(lora_model, dataset['test'], TOKENIZER, labels)"
      ]
    },
    {
      "cell_type": "markdown",
      "id": "077a1adc-0765-4b83-b4e2-971a4734e2e6",
      "metadata": {
        "id": "077a1adc-0765-4b83-b4e2-971a4734e2e6"
      },
      "source": [
        "## Conclusion"
      ]
    },
    {
      "cell_type": "markdown",
      "id": "b7fef04e-b1f5-475d-a4fb-77b1114bec75",
      "metadata": {
        "id": "b7fef04e-b1f5-475d-a4fb-77b1114bec75"
      },
      "source": [
        "In this notebook, we explored the fine-tuning of a CLIP model on the Oxford-pets dataset, assessing the model's performance in zero-shot mode and through various fine-tuning methods, including PEFT.\n",
        "\n",
        "The achieved results are summarized below:\n",
        "\n",
        "| Model                       | Trainable Parameters (M) |  Trainable Parameters (%) | Accuracy    |\n",
        "| --------------------------- | ------------------------ | ------------------------- | ----------- |\n",
        "| Baseline (Zero-shot)        | 0                        | 0%                        | 0.8003      |\n",
        "| Full fine-tuning            | 151.28                   | 100%                      | 0.9278      |\n",
        "| Only language model tuning  | 63.82                    | 42.19%                    | 0.9199      |\n",
        "| Only vision model tuning    | 88.11                    | 58.24%                    | 0.9250      |\n",
        "|Top 30% of both models tuning| 38.79                    | 25.65%                    | **0.9334**  |  \n",
        "| LoRA tuning                 | **5.90**                 | **3.75%**                 | 0.9261      |\n",
        "\n",
        "In our case, the best result was obtained from the model with fine-tuning only top 30% of layers.\n",
        "\n",
        "Feel free to experiment with training parameters in the Trainer and CLIP model settings to potentially enhance the results further!"
      ]
    }
  ],
  "metadata": {
    "kernelspec": {
      "display_name": "Python 3",
      "name": "python3"
    },
    "language_info": {
      "codemirror_mode": {
        "name": "ipython",
        "version": 3
      },
      "file_extension": ".py",
      "mimetype": "text/x-python",
      "name": "python",
      "nbconvert_exporter": "python",
      "pygments_lexer": "ipython3",
      "version": "3.8.5"
    },
    "colab": {
      "provenance": [],
      "gpuType": "T4",
      "include_colab_link": true
    },
    "accelerator": "GPU",
    "widgets": {
      "application/vnd.jupyter.widget-state+json": {
        "c533c3fb4ed34a18b3e1585c75696bcd": {
          "model_module": "@jupyter-widgets/controls",
          "model_name": "HBoxModel",
          "model_module_version": "1.5.0",
          "state": {
            "_dom_classes": [],
            "_model_module": "@jupyter-widgets/controls",
            "_model_module_version": "1.5.0",
            "_model_name": "HBoxModel",
            "_view_count": null,
            "_view_module": "@jupyter-widgets/controls",
            "_view_module_version": "1.5.0",
            "_view_name": "HBoxView",
            "box_style": "",
            "children": [
              "IPY_MODEL_c0f669c4f6bd400a8616d312b65a2649",
              "IPY_MODEL_1807cfc6eb9345ef8d339c7bd63d0008",
              "IPY_MODEL_a2dd8a5a250b4b7387ea09a9b5f1bcdb"
            ],
            "layout": "IPY_MODEL_304053af06394163a5a26977c2d9ff5b"
          }
        },
        "c0f669c4f6bd400a8616d312b65a2649": {
          "model_module": "@jupyter-widgets/controls",
          "model_name": "HTMLModel",
          "model_module_version": "1.5.0",
          "state": {
            "_dom_classes": [],
            "_model_module": "@jupyter-widgets/controls",
            "_model_module_version": "1.5.0",
            "_model_name": "HTMLModel",
            "_view_count": null,
            "_view_module": "@jupyter-widgets/controls",
            "_view_module_version": "1.5.0",
            "_view_name": "HTMLView",
            "description": "",
            "description_tooltip": null,
            "layout": "IPY_MODEL_fc556b48947042e682c5b079c0f6d607",
            "placeholder": "​",
            "style": "IPY_MODEL_e60f294f728b40f8ae6c686be9cffc8b",
            "value": "tokenizer_config.json: 100%"
          }
        },
        "1807cfc6eb9345ef8d339c7bd63d0008": {
          "model_module": "@jupyter-widgets/controls",
          "model_name": "FloatProgressModel",
          "model_module_version": "1.5.0",
          "state": {
            "_dom_classes": [],
            "_model_module": "@jupyter-widgets/controls",
            "_model_module_version": "1.5.0",
            "_model_name": "FloatProgressModel",
            "_view_count": null,
            "_view_module": "@jupyter-widgets/controls",
            "_view_module_version": "1.5.0",
            "_view_name": "ProgressView",
            "bar_style": "success",
            "description": "",
            "description_tooltip": null,
            "layout": "IPY_MODEL_3c215efe9c044993bdfcca4791ba9978",
            "max": 592,
            "min": 0,
            "orientation": "horizontal",
            "style": "IPY_MODEL_939d05b26fb94d2ebb57c26ca8710de2",
            "value": 592
          }
        },
        "a2dd8a5a250b4b7387ea09a9b5f1bcdb": {
          "model_module": "@jupyter-widgets/controls",
          "model_name": "HTMLModel",
          "model_module_version": "1.5.0",
          "state": {
            "_dom_classes": [],
            "_model_module": "@jupyter-widgets/controls",
            "_model_module_version": "1.5.0",
            "_model_name": "HTMLModel",
            "_view_count": null,
            "_view_module": "@jupyter-widgets/controls",
            "_view_module_version": "1.5.0",
            "_view_name": "HTMLView",
            "description": "",
            "description_tooltip": null,
            "layout": "IPY_MODEL_e49617d19cff44c99cbb0d645ee2f2c8",
            "placeholder": "​",
            "style": "IPY_MODEL_f591c213a7f84691a6770a7ae9c7407c",
            "value": " 592/592 [00:00&lt;00:00, 46.5kB/s]"
          }
        },
        "304053af06394163a5a26977c2d9ff5b": {
          "model_module": "@jupyter-widgets/base",
          "model_name": "LayoutModel",
          "model_module_version": "1.2.0",
          "state": {
            "_model_module": "@jupyter-widgets/base",
            "_model_module_version": "1.2.0",
            "_model_name": "LayoutModel",
            "_view_count": null,
            "_view_module": "@jupyter-widgets/base",
            "_view_module_version": "1.2.0",
            "_view_name": "LayoutView",
            "align_content": null,
            "align_items": null,
            "align_self": null,
            "border": null,
            "bottom": null,
            "display": null,
            "flex": null,
            "flex_flow": null,
            "grid_area": null,
            "grid_auto_columns": null,
            "grid_auto_flow": null,
            "grid_auto_rows": null,
            "grid_column": null,
            "grid_gap": null,
            "grid_row": null,
            "grid_template_areas": null,
            "grid_template_columns": null,
            "grid_template_rows": null,
            "height": null,
            "justify_content": null,
            "justify_items": null,
            "left": null,
            "margin": null,
            "max_height": null,
            "max_width": null,
            "min_height": null,
            "min_width": null,
            "object_fit": null,
            "object_position": null,
            "order": null,
            "overflow": null,
            "overflow_x": null,
            "overflow_y": null,
            "padding": null,
            "right": null,
            "top": null,
            "visibility": null,
            "width": null
          }
        },
        "fc556b48947042e682c5b079c0f6d607": {
          "model_module": "@jupyter-widgets/base",
          "model_name": "LayoutModel",
          "model_module_version": "1.2.0",
          "state": {
            "_model_module": "@jupyter-widgets/base",
            "_model_module_version": "1.2.0",
            "_model_name": "LayoutModel",
            "_view_count": null,
            "_view_module": "@jupyter-widgets/base",
            "_view_module_version": "1.2.0",
            "_view_name": "LayoutView",
            "align_content": null,
            "align_items": null,
            "align_self": null,
            "border": null,
            "bottom": null,
            "display": null,
            "flex": null,
            "flex_flow": null,
            "grid_area": null,
            "grid_auto_columns": null,
            "grid_auto_flow": null,
            "grid_auto_rows": null,
            "grid_column": null,
            "grid_gap": null,
            "grid_row": null,
            "grid_template_areas": null,
            "grid_template_columns": null,
            "grid_template_rows": null,
            "height": null,
            "justify_content": null,
            "justify_items": null,
            "left": null,
            "margin": null,
            "max_height": null,
            "max_width": null,
            "min_height": null,
            "min_width": null,
            "object_fit": null,
            "object_position": null,
            "order": null,
            "overflow": null,
            "overflow_x": null,
            "overflow_y": null,
            "padding": null,
            "right": null,
            "top": null,
            "visibility": null,
            "width": null
          }
        },
        "e60f294f728b40f8ae6c686be9cffc8b": {
          "model_module": "@jupyter-widgets/controls",
          "model_name": "DescriptionStyleModel",
          "model_module_version": "1.5.0",
          "state": {
            "_model_module": "@jupyter-widgets/controls",
            "_model_module_version": "1.5.0",
            "_model_name": "DescriptionStyleModel",
            "_view_count": null,
            "_view_module": "@jupyter-widgets/base",
            "_view_module_version": "1.2.0",
            "_view_name": "StyleView",
            "description_width": ""
          }
        },
        "3c215efe9c044993bdfcca4791ba9978": {
          "model_module": "@jupyter-widgets/base",
          "model_name": "LayoutModel",
          "model_module_version": "1.2.0",
          "state": {
            "_model_module": "@jupyter-widgets/base",
            "_model_module_version": "1.2.0",
            "_model_name": "LayoutModel",
            "_view_count": null,
            "_view_module": "@jupyter-widgets/base",
            "_view_module_version": "1.2.0",
            "_view_name": "LayoutView",
            "align_content": null,
            "align_items": null,
            "align_self": null,
            "border": null,
            "bottom": null,
            "display": null,
            "flex": null,
            "flex_flow": null,
            "grid_area": null,
            "grid_auto_columns": null,
            "grid_auto_flow": null,
            "grid_auto_rows": null,
            "grid_column": null,
            "grid_gap": null,
            "grid_row": null,
            "grid_template_areas": null,
            "grid_template_columns": null,
            "grid_template_rows": null,
            "height": null,
            "justify_content": null,
            "justify_items": null,
            "left": null,
            "margin": null,
            "max_height": null,
            "max_width": null,
            "min_height": null,
            "min_width": null,
            "object_fit": null,
            "object_position": null,
            "order": null,
            "overflow": null,
            "overflow_x": null,
            "overflow_y": null,
            "padding": null,
            "right": null,
            "top": null,
            "visibility": null,
            "width": null
          }
        },
        "939d05b26fb94d2ebb57c26ca8710de2": {
          "model_module": "@jupyter-widgets/controls",
          "model_name": "ProgressStyleModel",
          "model_module_version": "1.5.0",
          "state": {
            "_model_module": "@jupyter-widgets/controls",
            "_model_module_version": "1.5.0",
            "_model_name": "ProgressStyleModel",
            "_view_count": null,
            "_view_module": "@jupyter-widgets/base",
            "_view_module_version": "1.2.0",
            "_view_name": "StyleView",
            "bar_color": null,
            "description_width": ""
          }
        },
        "e49617d19cff44c99cbb0d645ee2f2c8": {
          "model_module": "@jupyter-widgets/base",
          "model_name": "LayoutModel",
          "model_module_version": "1.2.0",
          "state": {
            "_model_module": "@jupyter-widgets/base",
            "_model_module_version": "1.2.0",
            "_model_name": "LayoutModel",
            "_view_count": null,
            "_view_module": "@jupyter-widgets/base",
            "_view_module_version": "1.2.0",
            "_view_name": "LayoutView",
            "align_content": null,
            "align_items": null,
            "align_self": null,
            "border": null,
            "bottom": null,
            "display": null,
            "flex": null,
            "flex_flow": null,
            "grid_area": null,
            "grid_auto_columns": null,
            "grid_auto_flow": null,
            "grid_auto_rows": null,
            "grid_column": null,
            "grid_gap": null,
            "grid_row": null,
            "grid_template_areas": null,
            "grid_template_columns": null,
            "grid_template_rows": null,
            "height": null,
            "justify_content": null,
            "justify_items": null,
            "left": null,
            "margin": null,
            "max_height": null,
            "max_width": null,
            "min_height": null,
            "min_width": null,
            "object_fit": null,
            "object_position": null,
            "order": null,
            "overflow": null,
            "overflow_x": null,
            "overflow_y": null,
            "padding": null,
            "right": null,
            "top": null,
            "visibility": null,
            "width": null
          }
        },
        "f591c213a7f84691a6770a7ae9c7407c": {
          "model_module": "@jupyter-widgets/controls",
          "model_name": "DescriptionStyleModel",
          "model_module_version": "1.5.0",
          "state": {
            "_model_module": "@jupyter-widgets/controls",
            "_model_module_version": "1.5.0",
            "_model_name": "DescriptionStyleModel",
            "_view_count": null,
            "_view_module": "@jupyter-widgets/base",
            "_view_module_version": "1.2.0",
            "_view_name": "StyleView",
            "description_width": ""
          }
        },
        "2d110eafeed94927aa2c502c1dfa07ed": {
          "model_module": "@jupyter-widgets/controls",
          "model_name": "HBoxModel",
          "model_module_version": "1.5.0",
          "state": {
            "_dom_classes": [],
            "_model_module": "@jupyter-widgets/controls",
            "_model_module_version": "1.5.0",
            "_model_name": "HBoxModel",
            "_view_count": null,
            "_view_module": "@jupyter-widgets/controls",
            "_view_module_version": "1.5.0",
            "_view_name": "HBoxView",
            "box_style": "",
            "children": [
              "IPY_MODEL_07f5b32d26f74bd8b46c9ba22736bffc",
              "IPY_MODEL_3843d12d9d88444dab39c73772ba4826",
              "IPY_MODEL_29e07094af0b44a291578c4e166242f8"
            ],
            "layout": "IPY_MODEL_d0e766750b014a1ab8300ad7e4383afc"
          }
        },
        "07f5b32d26f74bd8b46c9ba22736bffc": {
          "model_module": "@jupyter-widgets/controls",
          "model_name": "HTMLModel",
          "model_module_version": "1.5.0",
          "state": {
            "_dom_classes": [],
            "_model_module": "@jupyter-widgets/controls",
            "_model_module_version": "1.5.0",
            "_model_name": "HTMLModel",
            "_view_count": null,
            "_view_module": "@jupyter-widgets/controls",
            "_view_module_version": "1.5.0",
            "_view_name": "HTMLView",
            "description": "",
            "description_tooltip": null,
            "layout": "IPY_MODEL_89006462707b4243a17781d05737ed34",
            "placeholder": "​",
            "style": "IPY_MODEL_ac2cb69b03f94a8c953fd0d15e669683",
            "value": "vocab.json: 100%"
          }
        },
        "3843d12d9d88444dab39c73772ba4826": {
          "model_module": "@jupyter-widgets/controls",
          "model_name": "FloatProgressModel",
          "model_module_version": "1.5.0",
          "state": {
            "_dom_classes": [],
            "_model_module": "@jupyter-widgets/controls",
            "_model_module_version": "1.5.0",
            "_model_name": "FloatProgressModel",
            "_view_count": null,
            "_view_module": "@jupyter-widgets/controls",
            "_view_module_version": "1.5.0",
            "_view_name": "ProgressView",
            "bar_style": "success",
            "description": "",
            "description_tooltip": null,
            "layout": "IPY_MODEL_72c0bbc7fa8a446fa2620130d760f978",
            "max": 862328,
            "min": 0,
            "orientation": "horizontal",
            "style": "IPY_MODEL_e2e95610ae39417b9eae57daaf636540",
            "value": 862328
          }
        },
        "29e07094af0b44a291578c4e166242f8": {
          "model_module": "@jupyter-widgets/controls",
          "model_name": "HTMLModel",
          "model_module_version": "1.5.0",
          "state": {
            "_dom_classes": [],
            "_model_module": "@jupyter-widgets/controls",
            "_model_module_version": "1.5.0",
            "_model_name": "HTMLModel",
            "_view_count": null,
            "_view_module": "@jupyter-widgets/controls",
            "_view_module_version": "1.5.0",
            "_view_name": "HTMLView",
            "description": "",
            "description_tooltip": null,
            "layout": "IPY_MODEL_f625da4dc66747e2b2e172c49eae2293",
            "placeholder": "​",
            "style": "IPY_MODEL_9f8f8ec9302c452795af4838b250be0b",
            "value": " 862k/862k [00:00&lt;00:00, 2.04MB/s]"
          }
        },
        "d0e766750b014a1ab8300ad7e4383afc": {
          "model_module": "@jupyter-widgets/base",
          "model_name": "LayoutModel",
          "model_module_version": "1.2.0",
          "state": {
            "_model_module": "@jupyter-widgets/base",
            "_model_module_version": "1.2.0",
            "_model_name": "LayoutModel",
            "_view_count": null,
            "_view_module": "@jupyter-widgets/base",
            "_view_module_version": "1.2.0",
            "_view_name": "LayoutView",
            "align_content": null,
            "align_items": null,
            "align_self": null,
            "border": null,
            "bottom": null,
            "display": null,
            "flex": null,
            "flex_flow": null,
            "grid_area": null,
            "grid_auto_columns": null,
            "grid_auto_flow": null,
            "grid_auto_rows": null,
            "grid_column": null,
            "grid_gap": null,
            "grid_row": null,
            "grid_template_areas": null,
            "grid_template_columns": null,
            "grid_template_rows": null,
            "height": null,
            "justify_content": null,
            "justify_items": null,
            "left": null,
            "margin": null,
            "max_height": null,
            "max_width": null,
            "min_height": null,
            "min_width": null,
            "object_fit": null,
            "object_position": null,
            "order": null,
            "overflow": null,
            "overflow_x": null,
            "overflow_y": null,
            "padding": null,
            "right": null,
            "top": null,
            "visibility": null,
            "width": null
          }
        },
        "89006462707b4243a17781d05737ed34": {
          "model_module": "@jupyter-widgets/base",
          "model_name": "LayoutModel",
          "model_module_version": "1.2.0",
          "state": {
            "_model_module": "@jupyter-widgets/base",
            "_model_module_version": "1.2.0",
            "_model_name": "LayoutModel",
            "_view_count": null,
            "_view_module": "@jupyter-widgets/base",
            "_view_module_version": "1.2.0",
            "_view_name": "LayoutView",
            "align_content": null,
            "align_items": null,
            "align_self": null,
            "border": null,
            "bottom": null,
            "display": null,
            "flex": null,
            "flex_flow": null,
            "grid_area": null,
            "grid_auto_columns": null,
            "grid_auto_flow": null,
            "grid_auto_rows": null,
            "grid_column": null,
            "grid_gap": null,
            "grid_row": null,
            "grid_template_areas": null,
            "grid_template_columns": null,
            "grid_template_rows": null,
            "height": null,
            "justify_content": null,
            "justify_items": null,
            "left": null,
            "margin": null,
            "max_height": null,
            "max_width": null,
            "min_height": null,
            "min_width": null,
            "object_fit": null,
            "object_position": null,
            "order": null,
            "overflow": null,
            "overflow_x": null,
            "overflow_y": null,
            "padding": null,
            "right": null,
            "top": null,
            "visibility": null,
            "width": null
          }
        },
        "ac2cb69b03f94a8c953fd0d15e669683": {
          "model_module": "@jupyter-widgets/controls",
          "model_name": "DescriptionStyleModel",
          "model_module_version": "1.5.0",
          "state": {
            "_model_module": "@jupyter-widgets/controls",
            "_model_module_version": "1.5.0",
            "_model_name": "DescriptionStyleModel",
            "_view_count": null,
            "_view_module": "@jupyter-widgets/base",
            "_view_module_version": "1.2.0",
            "_view_name": "StyleView",
            "description_width": ""
          }
        },
        "72c0bbc7fa8a446fa2620130d760f978": {
          "model_module": "@jupyter-widgets/base",
          "model_name": "LayoutModel",
          "model_module_version": "1.2.0",
          "state": {
            "_model_module": "@jupyter-widgets/base",
            "_model_module_version": "1.2.0",
            "_model_name": "LayoutModel",
            "_view_count": null,
            "_view_module": "@jupyter-widgets/base",
            "_view_module_version": "1.2.0",
            "_view_name": "LayoutView",
            "align_content": null,
            "align_items": null,
            "align_self": null,
            "border": null,
            "bottom": null,
            "display": null,
            "flex": null,
            "flex_flow": null,
            "grid_area": null,
            "grid_auto_columns": null,
            "grid_auto_flow": null,
            "grid_auto_rows": null,
            "grid_column": null,
            "grid_gap": null,
            "grid_row": null,
            "grid_template_areas": null,
            "grid_template_columns": null,
            "grid_template_rows": null,
            "height": null,
            "justify_content": null,
            "justify_items": null,
            "left": null,
            "margin": null,
            "max_height": null,
            "max_width": null,
            "min_height": null,
            "min_width": null,
            "object_fit": null,
            "object_position": null,
            "order": null,
            "overflow": null,
            "overflow_x": null,
            "overflow_y": null,
            "padding": null,
            "right": null,
            "top": null,
            "visibility": null,
            "width": null
          }
        },
        "e2e95610ae39417b9eae57daaf636540": {
          "model_module": "@jupyter-widgets/controls",
          "model_name": "ProgressStyleModel",
          "model_module_version": "1.5.0",
          "state": {
            "_model_module": "@jupyter-widgets/controls",
            "_model_module_version": "1.5.0",
            "_model_name": "ProgressStyleModel",
            "_view_count": null,
            "_view_module": "@jupyter-widgets/base",
            "_view_module_version": "1.2.0",
            "_view_name": "StyleView",
            "bar_color": null,
            "description_width": ""
          }
        },
        "f625da4dc66747e2b2e172c49eae2293": {
          "model_module": "@jupyter-widgets/base",
          "model_name": "LayoutModel",
          "model_module_version": "1.2.0",
          "state": {
            "_model_module": "@jupyter-widgets/base",
            "_model_module_version": "1.2.0",
            "_model_name": "LayoutModel",
            "_view_count": null,
            "_view_module": "@jupyter-widgets/base",
            "_view_module_version": "1.2.0",
            "_view_name": "LayoutView",
            "align_content": null,
            "align_items": null,
            "align_self": null,
            "border": null,
            "bottom": null,
            "display": null,
            "flex": null,
            "flex_flow": null,
            "grid_area": null,
            "grid_auto_columns": null,
            "grid_auto_flow": null,
            "grid_auto_rows": null,
            "grid_column": null,
            "grid_gap": null,
            "grid_row": null,
            "grid_template_areas": null,
            "grid_template_columns": null,
            "grid_template_rows": null,
            "height": null,
            "justify_content": null,
            "justify_items": null,
            "left": null,
            "margin": null,
            "max_height": null,
            "max_width": null,
            "min_height": null,
            "min_width": null,
            "object_fit": null,
            "object_position": null,
            "order": null,
            "overflow": null,
            "overflow_x": null,
            "overflow_y": null,
            "padding": null,
            "right": null,
            "top": null,
            "visibility": null,
            "width": null
          }
        },
        "9f8f8ec9302c452795af4838b250be0b": {
          "model_module": "@jupyter-widgets/controls",
          "model_name": "DescriptionStyleModel",
          "model_module_version": "1.5.0",
          "state": {
            "_model_module": "@jupyter-widgets/controls",
            "_model_module_version": "1.5.0",
            "_model_name": "DescriptionStyleModel",
            "_view_count": null,
            "_view_module": "@jupyter-widgets/base",
            "_view_module_version": "1.2.0",
            "_view_name": "StyleView",
            "description_width": ""
          }
        },
        "f6fb6f552d4b4e86937d1f1304d9531b": {
          "model_module": "@jupyter-widgets/controls",
          "model_name": "HBoxModel",
          "model_module_version": "1.5.0",
          "state": {
            "_dom_classes": [],
            "_model_module": "@jupyter-widgets/controls",
            "_model_module_version": "1.5.0",
            "_model_name": "HBoxModel",
            "_view_count": null,
            "_view_module": "@jupyter-widgets/controls",
            "_view_module_version": "1.5.0",
            "_view_name": "HBoxView",
            "box_style": "",
            "children": [
              "IPY_MODEL_c4e36431532e45b180304d7679fba8c8",
              "IPY_MODEL_5385ddaa69e24c1880949e0d526141cb",
              "IPY_MODEL_2c26fdbcf0454e6d968f14a0835b046c"
            ],
            "layout": "IPY_MODEL_9fd1a699b0784a77996b6f81ea1ed546"
          }
        },
        "c4e36431532e45b180304d7679fba8c8": {
          "model_module": "@jupyter-widgets/controls",
          "model_name": "HTMLModel",
          "model_module_version": "1.5.0",
          "state": {
            "_dom_classes": [],
            "_model_module": "@jupyter-widgets/controls",
            "_model_module_version": "1.5.0",
            "_model_name": "HTMLModel",
            "_view_count": null,
            "_view_module": "@jupyter-widgets/controls",
            "_view_module_version": "1.5.0",
            "_view_name": "HTMLView",
            "description": "",
            "description_tooltip": null,
            "layout": "IPY_MODEL_887247495007482a944dcb9e6b70f910",
            "placeholder": "​",
            "style": "IPY_MODEL_834b96eec6fb4b8b8579e58a57ff3bb0",
            "value": "merges.txt: 100%"
          }
        },
        "5385ddaa69e24c1880949e0d526141cb": {
          "model_module": "@jupyter-widgets/controls",
          "model_name": "FloatProgressModel",
          "model_module_version": "1.5.0",
          "state": {
            "_dom_classes": [],
            "_model_module": "@jupyter-widgets/controls",
            "_model_module_version": "1.5.0",
            "_model_name": "FloatProgressModel",
            "_view_count": null,
            "_view_module": "@jupyter-widgets/controls",
            "_view_module_version": "1.5.0",
            "_view_name": "ProgressView",
            "bar_style": "success",
            "description": "",
            "description_tooltip": null,
            "layout": "IPY_MODEL_43aa54346a7b40329baa25ac93d20076",
            "max": 524657,
            "min": 0,
            "orientation": "horizontal",
            "style": "IPY_MODEL_07387d0484894c138427036c675f447b",
            "value": 524657
          }
        },
        "2c26fdbcf0454e6d968f14a0835b046c": {
          "model_module": "@jupyter-widgets/controls",
          "model_name": "HTMLModel",
          "model_module_version": "1.5.0",
          "state": {
            "_dom_classes": [],
            "_model_module": "@jupyter-widgets/controls",
            "_model_module_version": "1.5.0",
            "_model_name": "HTMLModel",
            "_view_count": null,
            "_view_module": "@jupyter-widgets/controls",
            "_view_module_version": "1.5.0",
            "_view_name": "HTMLView",
            "description": "",
            "description_tooltip": null,
            "layout": "IPY_MODEL_49c17d17fe3b4cfc9538cfd01de4ef27",
            "placeholder": "​",
            "style": "IPY_MODEL_6eaf5f4c793e4e11ba341ce27f02695e",
            "value": " 525k/525k [00:00&lt;00:00, 829kB/s]"
          }
        },
        "9fd1a699b0784a77996b6f81ea1ed546": {
          "model_module": "@jupyter-widgets/base",
          "model_name": "LayoutModel",
          "model_module_version": "1.2.0",
          "state": {
            "_model_module": "@jupyter-widgets/base",
            "_model_module_version": "1.2.0",
            "_model_name": "LayoutModel",
            "_view_count": null,
            "_view_module": "@jupyter-widgets/base",
            "_view_module_version": "1.2.0",
            "_view_name": "LayoutView",
            "align_content": null,
            "align_items": null,
            "align_self": null,
            "border": null,
            "bottom": null,
            "display": null,
            "flex": null,
            "flex_flow": null,
            "grid_area": null,
            "grid_auto_columns": null,
            "grid_auto_flow": null,
            "grid_auto_rows": null,
            "grid_column": null,
            "grid_gap": null,
            "grid_row": null,
            "grid_template_areas": null,
            "grid_template_columns": null,
            "grid_template_rows": null,
            "height": null,
            "justify_content": null,
            "justify_items": null,
            "left": null,
            "margin": null,
            "max_height": null,
            "max_width": null,
            "min_height": null,
            "min_width": null,
            "object_fit": null,
            "object_position": null,
            "order": null,
            "overflow": null,
            "overflow_x": null,
            "overflow_y": null,
            "padding": null,
            "right": null,
            "top": null,
            "visibility": null,
            "width": null
          }
        },
        "887247495007482a944dcb9e6b70f910": {
          "model_module": "@jupyter-widgets/base",
          "model_name": "LayoutModel",
          "model_module_version": "1.2.0",
          "state": {
            "_model_module": "@jupyter-widgets/base",
            "_model_module_version": "1.2.0",
            "_model_name": "LayoutModel",
            "_view_count": null,
            "_view_module": "@jupyter-widgets/base",
            "_view_module_version": "1.2.0",
            "_view_name": "LayoutView",
            "align_content": null,
            "align_items": null,
            "align_self": null,
            "border": null,
            "bottom": null,
            "display": null,
            "flex": null,
            "flex_flow": null,
            "grid_area": null,
            "grid_auto_columns": null,
            "grid_auto_flow": null,
            "grid_auto_rows": null,
            "grid_column": null,
            "grid_gap": null,
            "grid_row": null,
            "grid_template_areas": null,
            "grid_template_columns": null,
            "grid_template_rows": null,
            "height": null,
            "justify_content": null,
            "justify_items": null,
            "left": null,
            "margin": null,
            "max_height": null,
            "max_width": null,
            "min_height": null,
            "min_width": null,
            "object_fit": null,
            "object_position": null,
            "order": null,
            "overflow": null,
            "overflow_x": null,
            "overflow_y": null,
            "padding": null,
            "right": null,
            "top": null,
            "visibility": null,
            "width": null
          }
        },
        "834b96eec6fb4b8b8579e58a57ff3bb0": {
          "model_module": "@jupyter-widgets/controls",
          "model_name": "DescriptionStyleModel",
          "model_module_version": "1.5.0",
          "state": {
            "_model_module": "@jupyter-widgets/controls",
            "_model_module_version": "1.5.0",
            "_model_name": "DescriptionStyleModel",
            "_view_count": null,
            "_view_module": "@jupyter-widgets/base",
            "_view_module_version": "1.2.0",
            "_view_name": "StyleView",
            "description_width": ""
          }
        },
        "43aa54346a7b40329baa25ac93d20076": {
          "model_module": "@jupyter-widgets/base",
          "model_name": "LayoutModel",
          "model_module_version": "1.2.0",
          "state": {
            "_model_module": "@jupyter-widgets/base",
            "_model_module_version": "1.2.0",
            "_model_name": "LayoutModel",
            "_view_count": null,
            "_view_module": "@jupyter-widgets/base",
            "_view_module_version": "1.2.0",
            "_view_name": "LayoutView",
            "align_content": null,
            "align_items": null,
            "align_self": null,
            "border": null,
            "bottom": null,
            "display": null,
            "flex": null,
            "flex_flow": null,
            "grid_area": null,
            "grid_auto_columns": null,
            "grid_auto_flow": null,
            "grid_auto_rows": null,
            "grid_column": null,
            "grid_gap": null,
            "grid_row": null,
            "grid_template_areas": null,
            "grid_template_columns": null,
            "grid_template_rows": null,
            "height": null,
            "justify_content": null,
            "justify_items": null,
            "left": null,
            "margin": null,
            "max_height": null,
            "max_width": null,
            "min_height": null,
            "min_width": null,
            "object_fit": null,
            "object_position": null,
            "order": null,
            "overflow": null,
            "overflow_x": null,
            "overflow_y": null,
            "padding": null,
            "right": null,
            "top": null,
            "visibility": null,
            "width": null
          }
        },
        "07387d0484894c138427036c675f447b": {
          "model_module": "@jupyter-widgets/controls",
          "model_name": "ProgressStyleModel",
          "model_module_version": "1.5.0",
          "state": {
            "_model_module": "@jupyter-widgets/controls",
            "_model_module_version": "1.5.0",
            "_model_name": "ProgressStyleModel",
            "_view_count": null,
            "_view_module": "@jupyter-widgets/base",
            "_view_module_version": "1.2.0",
            "_view_name": "StyleView",
            "bar_color": null,
            "description_width": ""
          }
        },
        "49c17d17fe3b4cfc9538cfd01de4ef27": {
          "model_module": "@jupyter-widgets/base",
          "model_name": "LayoutModel",
          "model_module_version": "1.2.0",
          "state": {
            "_model_module": "@jupyter-widgets/base",
            "_model_module_version": "1.2.0",
            "_model_name": "LayoutModel",
            "_view_count": null,
            "_view_module": "@jupyter-widgets/base",
            "_view_module_version": "1.2.0",
            "_view_name": "LayoutView",
            "align_content": null,
            "align_items": null,
            "align_self": null,
            "border": null,
            "bottom": null,
            "display": null,
            "flex": null,
            "flex_flow": null,
            "grid_area": null,
            "grid_auto_columns": null,
            "grid_auto_flow": null,
            "grid_auto_rows": null,
            "grid_column": null,
            "grid_gap": null,
            "grid_row": null,
            "grid_template_areas": null,
            "grid_template_columns": null,
            "grid_template_rows": null,
            "height": null,
            "justify_content": null,
            "justify_items": null,
            "left": null,
            "margin": null,
            "max_height": null,
            "max_width": null,
            "min_height": null,
            "min_width": null,
            "object_fit": null,
            "object_position": null,
            "order": null,
            "overflow": null,
            "overflow_x": null,
            "overflow_y": null,
            "padding": null,
            "right": null,
            "top": null,
            "visibility": null,
            "width": null
          }
        },
        "6eaf5f4c793e4e11ba341ce27f02695e": {
          "model_module": "@jupyter-widgets/controls",
          "model_name": "DescriptionStyleModel",
          "model_module_version": "1.5.0",
          "state": {
            "_model_module": "@jupyter-widgets/controls",
            "_model_module_version": "1.5.0",
            "_model_name": "DescriptionStyleModel",
            "_view_count": null,
            "_view_module": "@jupyter-widgets/base",
            "_view_module_version": "1.2.0",
            "_view_name": "StyleView",
            "description_width": ""
          }
        },
        "3e38f681f8fe4564964371be202d374b": {
          "model_module": "@jupyter-widgets/controls",
          "model_name": "HBoxModel",
          "model_module_version": "1.5.0",
          "state": {
            "_dom_classes": [],
            "_model_module": "@jupyter-widgets/controls",
            "_model_module_version": "1.5.0",
            "_model_name": "HBoxModel",
            "_view_count": null,
            "_view_module": "@jupyter-widgets/controls",
            "_view_module_version": "1.5.0",
            "_view_name": "HBoxView",
            "box_style": "",
            "children": [
              "IPY_MODEL_17ef9c9aec974d9498d83315552c91f4",
              "IPY_MODEL_beee8189943e4c6b94d6ff057421630b",
              "IPY_MODEL_44c692123f55406da5d1fc509419e555"
            ],
            "layout": "IPY_MODEL_fe1f4271d40c41bf9bead96bc15eb17c"
          }
        },
        "17ef9c9aec974d9498d83315552c91f4": {
          "model_module": "@jupyter-widgets/controls",
          "model_name": "HTMLModel",
          "model_module_version": "1.5.0",
          "state": {
            "_dom_classes": [],
            "_model_module": "@jupyter-widgets/controls",
            "_model_module_version": "1.5.0",
            "_model_name": "HTMLModel",
            "_view_count": null,
            "_view_module": "@jupyter-widgets/controls",
            "_view_module_version": "1.5.0",
            "_view_name": "HTMLView",
            "description": "",
            "description_tooltip": null,
            "layout": "IPY_MODEL_2d24eee9bd8948a0aec43a3ac0b7ed94",
            "placeholder": "​",
            "style": "IPY_MODEL_22a7a455de2b48ffbc5a952cc6702ece",
            "value": "tokenizer.json: 100%"
          }
        },
        "beee8189943e4c6b94d6ff057421630b": {
          "model_module": "@jupyter-widgets/controls",
          "model_name": "FloatProgressModel",
          "model_module_version": "1.5.0",
          "state": {
            "_dom_classes": [],
            "_model_module": "@jupyter-widgets/controls",
            "_model_module_version": "1.5.0",
            "_model_name": "FloatProgressModel",
            "_view_count": null,
            "_view_module": "@jupyter-widgets/controls",
            "_view_module_version": "1.5.0",
            "_view_name": "ProgressView",
            "bar_style": "success",
            "description": "",
            "description_tooltip": null,
            "layout": "IPY_MODEL_d9e517e81a9544f3957bb21d1a7d24fa",
            "max": 2224041,
            "min": 0,
            "orientation": "horizontal",
            "style": "IPY_MODEL_100759d765ce44d896c89264ef798ae2",
            "value": 2224041
          }
        },
        "44c692123f55406da5d1fc509419e555": {
          "model_module": "@jupyter-widgets/controls",
          "model_name": "HTMLModel",
          "model_module_version": "1.5.0",
          "state": {
            "_dom_classes": [],
            "_model_module": "@jupyter-widgets/controls",
            "_model_module_version": "1.5.0",
            "_model_name": "HTMLModel",
            "_view_count": null,
            "_view_module": "@jupyter-widgets/controls",
            "_view_module_version": "1.5.0",
            "_view_name": "HTMLView",
            "description": "",
            "description_tooltip": null,
            "layout": "IPY_MODEL_4e218d0da71b4e81963117df0783b18e",
            "placeholder": "​",
            "style": "IPY_MODEL_39d58a8026da43e69bec33a2c3721a9b",
            "value": " 2.22M/2.22M [00:01&lt;00:00, 2.11MB/s]"
          }
        },
        "fe1f4271d40c41bf9bead96bc15eb17c": {
          "model_module": "@jupyter-widgets/base",
          "model_name": "LayoutModel",
          "model_module_version": "1.2.0",
          "state": {
            "_model_module": "@jupyter-widgets/base",
            "_model_module_version": "1.2.0",
            "_model_name": "LayoutModel",
            "_view_count": null,
            "_view_module": "@jupyter-widgets/base",
            "_view_module_version": "1.2.0",
            "_view_name": "LayoutView",
            "align_content": null,
            "align_items": null,
            "align_self": null,
            "border": null,
            "bottom": null,
            "display": null,
            "flex": null,
            "flex_flow": null,
            "grid_area": null,
            "grid_auto_columns": null,
            "grid_auto_flow": null,
            "grid_auto_rows": null,
            "grid_column": null,
            "grid_gap": null,
            "grid_row": null,
            "grid_template_areas": null,
            "grid_template_columns": null,
            "grid_template_rows": null,
            "height": null,
            "justify_content": null,
            "justify_items": null,
            "left": null,
            "margin": null,
            "max_height": null,
            "max_width": null,
            "min_height": null,
            "min_width": null,
            "object_fit": null,
            "object_position": null,
            "order": null,
            "overflow": null,
            "overflow_x": null,
            "overflow_y": null,
            "padding": null,
            "right": null,
            "top": null,
            "visibility": null,
            "width": null
          }
        },
        "2d24eee9bd8948a0aec43a3ac0b7ed94": {
          "model_module": "@jupyter-widgets/base",
          "model_name": "LayoutModel",
          "model_module_version": "1.2.0",
          "state": {
            "_model_module": "@jupyter-widgets/base",
            "_model_module_version": "1.2.0",
            "_model_name": "LayoutModel",
            "_view_count": null,
            "_view_module": "@jupyter-widgets/base",
            "_view_module_version": "1.2.0",
            "_view_name": "LayoutView",
            "align_content": null,
            "align_items": null,
            "align_self": null,
            "border": null,
            "bottom": null,
            "display": null,
            "flex": null,
            "flex_flow": null,
            "grid_area": null,
            "grid_auto_columns": null,
            "grid_auto_flow": null,
            "grid_auto_rows": null,
            "grid_column": null,
            "grid_gap": null,
            "grid_row": null,
            "grid_template_areas": null,
            "grid_template_columns": null,
            "grid_template_rows": null,
            "height": null,
            "justify_content": null,
            "justify_items": null,
            "left": null,
            "margin": null,
            "max_height": null,
            "max_width": null,
            "min_height": null,
            "min_width": null,
            "object_fit": null,
            "object_position": null,
            "order": null,
            "overflow": null,
            "overflow_x": null,
            "overflow_y": null,
            "padding": null,
            "right": null,
            "top": null,
            "visibility": null,
            "width": null
          }
        },
        "22a7a455de2b48ffbc5a952cc6702ece": {
          "model_module": "@jupyter-widgets/controls",
          "model_name": "DescriptionStyleModel",
          "model_module_version": "1.5.0",
          "state": {
            "_model_module": "@jupyter-widgets/controls",
            "_model_module_version": "1.5.0",
            "_model_name": "DescriptionStyleModel",
            "_view_count": null,
            "_view_module": "@jupyter-widgets/base",
            "_view_module_version": "1.2.0",
            "_view_name": "StyleView",
            "description_width": ""
          }
        },
        "d9e517e81a9544f3957bb21d1a7d24fa": {
          "model_module": "@jupyter-widgets/base",
          "model_name": "LayoutModel",
          "model_module_version": "1.2.0",
          "state": {
            "_model_module": "@jupyter-widgets/base",
            "_model_module_version": "1.2.0",
            "_model_name": "LayoutModel",
            "_view_count": null,
            "_view_module": "@jupyter-widgets/base",
            "_view_module_version": "1.2.0",
            "_view_name": "LayoutView",
            "align_content": null,
            "align_items": null,
            "align_self": null,
            "border": null,
            "bottom": null,
            "display": null,
            "flex": null,
            "flex_flow": null,
            "grid_area": null,
            "grid_auto_columns": null,
            "grid_auto_flow": null,
            "grid_auto_rows": null,
            "grid_column": null,
            "grid_gap": null,
            "grid_row": null,
            "grid_template_areas": null,
            "grid_template_columns": null,
            "grid_template_rows": null,
            "height": null,
            "justify_content": null,
            "justify_items": null,
            "left": null,
            "margin": null,
            "max_height": null,
            "max_width": null,
            "min_height": null,
            "min_width": null,
            "object_fit": null,
            "object_position": null,
            "order": null,
            "overflow": null,
            "overflow_x": null,
            "overflow_y": null,
            "padding": null,
            "right": null,
            "top": null,
            "visibility": null,
            "width": null
          }
        },
        "100759d765ce44d896c89264ef798ae2": {
          "model_module": "@jupyter-widgets/controls",
          "model_name": "ProgressStyleModel",
          "model_module_version": "1.5.0",
          "state": {
            "_model_module": "@jupyter-widgets/controls",
            "_model_module_version": "1.5.0",
            "_model_name": "ProgressStyleModel",
            "_view_count": null,
            "_view_module": "@jupyter-widgets/base",
            "_view_module_version": "1.2.0",
            "_view_name": "StyleView",
            "bar_color": null,
            "description_width": ""
          }
        },
        "4e218d0da71b4e81963117df0783b18e": {
          "model_module": "@jupyter-widgets/base",
          "model_name": "LayoutModel",
          "model_module_version": "1.2.0",
          "state": {
            "_model_module": "@jupyter-widgets/base",
            "_model_module_version": "1.2.0",
            "_model_name": "LayoutModel",
            "_view_count": null,
            "_view_module": "@jupyter-widgets/base",
            "_view_module_version": "1.2.0",
            "_view_name": "LayoutView",
            "align_content": null,
            "align_items": null,
            "align_self": null,
            "border": null,
            "bottom": null,
            "display": null,
            "flex": null,
            "flex_flow": null,
            "grid_area": null,
            "grid_auto_columns": null,
            "grid_auto_flow": null,
            "grid_auto_rows": null,
            "grid_column": null,
            "grid_gap": null,
            "grid_row": null,
            "grid_template_areas": null,
            "grid_template_columns": null,
            "grid_template_rows": null,
            "height": null,
            "justify_content": null,
            "justify_items": null,
            "left": null,
            "margin": null,
            "max_height": null,
            "max_width": null,
            "min_height": null,
            "min_width": null,
            "object_fit": null,
            "object_position": null,
            "order": null,
            "overflow": null,
            "overflow_x": null,
            "overflow_y": null,
            "padding": null,
            "right": null,
            "top": null,
            "visibility": null,
            "width": null
          }
        },
        "39d58a8026da43e69bec33a2c3721a9b": {
          "model_module": "@jupyter-widgets/controls",
          "model_name": "DescriptionStyleModel",
          "model_module_version": "1.5.0",
          "state": {
            "_model_module": "@jupyter-widgets/controls",
            "_model_module_version": "1.5.0",
            "_model_name": "DescriptionStyleModel",
            "_view_count": null,
            "_view_module": "@jupyter-widgets/base",
            "_view_module_version": "1.2.0",
            "_view_name": "StyleView",
            "description_width": ""
          }
        },
        "529d0202f2084c368643f63f13e331dd": {
          "model_module": "@jupyter-widgets/controls",
          "model_name": "HBoxModel",
          "model_module_version": "1.5.0",
          "state": {
            "_dom_classes": [],
            "_model_module": "@jupyter-widgets/controls",
            "_model_module_version": "1.5.0",
            "_model_name": "HBoxModel",
            "_view_count": null,
            "_view_module": "@jupyter-widgets/controls",
            "_view_module_version": "1.5.0",
            "_view_name": "HBoxView",
            "box_style": "",
            "children": [
              "IPY_MODEL_b79a3b7616f94b81837c1d89e12954f1",
              "IPY_MODEL_552e85667f0f4f76ab78c55d08f1f7a3",
              "IPY_MODEL_ae1b03e66f724261baa3fa87701f11ca"
            ],
            "layout": "IPY_MODEL_710ed4f4e3e745fd9b0c05ca34011ccd"
          }
        },
        "b79a3b7616f94b81837c1d89e12954f1": {
          "model_module": "@jupyter-widgets/controls",
          "model_name": "HTMLModel",
          "model_module_version": "1.5.0",
          "state": {
            "_dom_classes": [],
            "_model_module": "@jupyter-widgets/controls",
            "_model_module_version": "1.5.0",
            "_model_name": "HTMLModel",
            "_view_count": null,
            "_view_module": "@jupyter-widgets/controls",
            "_view_module_version": "1.5.0",
            "_view_name": "HTMLView",
            "description": "",
            "description_tooltip": null,
            "layout": "IPY_MODEL_1f3d2cd7ca3a447985dca45972b35ce3",
            "placeholder": "​",
            "style": "IPY_MODEL_51ea16a61b9047838d05f021e351696e",
            "value": "special_tokens_map.json: 100%"
          }
        },
        "552e85667f0f4f76ab78c55d08f1f7a3": {
          "model_module": "@jupyter-widgets/controls",
          "model_name": "FloatProgressModel",
          "model_module_version": "1.5.0",
          "state": {
            "_dom_classes": [],
            "_model_module": "@jupyter-widgets/controls",
            "_model_module_version": "1.5.0",
            "_model_name": "FloatProgressModel",
            "_view_count": null,
            "_view_module": "@jupyter-widgets/controls",
            "_view_module_version": "1.5.0",
            "_view_name": "ProgressView",
            "bar_style": "success",
            "description": "",
            "description_tooltip": null,
            "layout": "IPY_MODEL_8aa44cf4387944279a1374bd8966c10b",
            "max": 389,
            "min": 0,
            "orientation": "horizontal",
            "style": "IPY_MODEL_f95c79e43cb64434b96592e8f9c77022",
            "value": 389
          }
        },
        "ae1b03e66f724261baa3fa87701f11ca": {
          "model_module": "@jupyter-widgets/controls",
          "model_name": "HTMLModel",
          "model_module_version": "1.5.0",
          "state": {
            "_dom_classes": [],
            "_model_module": "@jupyter-widgets/controls",
            "_model_module_version": "1.5.0",
            "_model_name": "HTMLModel",
            "_view_count": null,
            "_view_module": "@jupyter-widgets/controls",
            "_view_module_version": "1.5.0",
            "_view_name": "HTMLView",
            "description": "",
            "description_tooltip": null,
            "layout": "IPY_MODEL_2e66075deaf84ba9a33cfaefef1f7ea0",
            "placeholder": "​",
            "style": "IPY_MODEL_f25e22d069fd4bb18b9465ef478249de",
            "value": " 389/389 [00:00&lt;00:00, 39.6kB/s]"
          }
        },
        "710ed4f4e3e745fd9b0c05ca34011ccd": {
          "model_module": "@jupyter-widgets/base",
          "model_name": "LayoutModel",
          "model_module_version": "1.2.0",
          "state": {
            "_model_module": "@jupyter-widgets/base",
            "_model_module_version": "1.2.0",
            "_model_name": "LayoutModel",
            "_view_count": null,
            "_view_module": "@jupyter-widgets/base",
            "_view_module_version": "1.2.0",
            "_view_name": "LayoutView",
            "align_content": null,
            "align_items": null,
            "align_self": null,
            "border": null,
            "bottom": null,
            "display": null,
            "flex": null,
            "flex_flow": null,
            "grid_area": null,
            "grid_auto_columns": null,
            "grid_auto_flow": null,
            "grid_auto_rows": null,
            "grid_column": null,
            "grid_gap": null,
            "grid_row": null,
            "grid_template_areas": null,
            "grid_template_columns": null,
            "grid_template_rows": null,
            "height": null,
            "justify_content": null,
            "justify_items": null,
            "left": null,
            "margin": null,
            "max_height": null,
            "max_width": null,
            "min_height": null,
            "min_width": null,
            "object_fit": null,
            "object_position": null,
            "order": null,
            "overflow": null,
            "overflow_x": null,
            "overflow_y": null,
            "padding": null,
            "right": null,
            "top": null,
            "visibility": null,
            "width": null
          }
        },
        "1f3d2cd7ca3a447985dca45972b35ce3": {
          "model_module": "@jupyter-widgets/base",
          "model_name": "LayoutModel",
          "model_module_version": "1.2.0",
          "state": {
            "_model_module": "@jupyter-widgets/base",
            "_model_module_version": "1.2.0",
            "_model_name": "LayoutModel",
            "_view_count": null,
            "_view_module": "@jupyter-widgets/base",
            "_view_module_version": "1.2.0",
            "_view_name": "LayoutView",
            "align_content": null,
            "align_items": null,
            "align_self": null,
            "border": null,
            "bottom": null,
            "display": null,
            "flex": null,
            "flex_flow": null,
            "grid_area": null,
            "grid_auto_columns": null,
            "grid_auto_flow": null,
            "grid_auto_rows": null,
            "grid_column": null,
            "grid_gap": null,
            "grid_row": null,
            "grid_template_areas": null,
            "grid_template_columns": null,
            "grid_template_rows": null,
            "height": null,
            "justify_content": null,
            "justify_items": null,
            "left": null,
            "margin": null,
            "max_height": null,
            "max_width": null,
            "min_height": null,
            "min_width": null,
            "object_fit": null,
            "object_position": null,
            "order": null,
            "overflow": null,
            "overflow_x": null,
            "overflow_y": null,
            "padding": null,
            "right": null,
            "top": null,
            "visibility": null,
            "width": null
          }
        },
        "51ea16a61b9047838d05f021e351696e": {
          "model_module": "@jupyter-widgets/controls",
          "model_name": "DescriptionStyleModel",
          "model_module_version": "1.5.0",
          "state": {
            "_model_module": "@jupyter-widgets/controls",
            "_model_module_version": "1.5.0",
            "_model_name": "DescriptionStyleModel",
            "_view_count": null,
            "_view_module": "@jupyter-widgets/base",
            "_view_module_version": "1.2.0",
            "_view_name": "StyleView",
            "description_width": ""
          }
        },
        "8aa44cf4387944279a1374bd8966c10b": {
          "model_module": "@jupyter-widgets/base",
          "model_name": "LayoutModel",
          "model_module_version": "1.2.0",
          "state": {
            "_model_module": "@jupyter-widgets/base",
            "_model_module_version": "1.2.0",
            "_model_name": "LayoutModel",
            "_view_count": null,
            "_view_module": "@jupyter-widgets/base",
            "_view_module_version": "1.2.0",
            "_view_name": "LayoutView",
            "align_content": null,
            "align_items": null,
            "align_self": null,
            "border": null,
            "bottom": null,
            "display": null,
            "flex": null,
            "flex_flow": null,
            "grid_area": null,
            "grid_auto_columns": null,
            "grid_auto_flow": null,
            "grid_auto_rows": null,
            "grid_column": null,
            "grid_gap": null,
            "grid_row": null,
            "grid_template_areas": null,
            "grid_template_columns": null,
            "grid_template_rows": null,
            "height": null,
            "justify_content": null,
            "justify_items": null,
            "left": null,
            "margin": null,
            "max_height": null,
            "max_width": null,
            "min_height": null,
            "min_width": null,
            "object_fit": null,
            "object_position": null,
            "order": null,
            "overflow": null,
            "overflow_x": null,
            "overflow_y": null,
            "padding": null,
            "right": null,
            "top": null,
            "visibility": null,
            "width": null
          }
        },
        "f95c79e43cb64434b96592e8f9c77022": {
          "model_module": "@jupyter-widgets/controls",
          "model_name": "ProgressStyleModel",
          "model_module_version": "1.5.0",
          "state": {
            "_model_module": "@jupyter-widgets/controls",
            "_model_module_version": "1.5.0",
            "_model_name": "ProgressStyleModel",
            "_view_count": null,
            "_view_module": "@jupyter-widgets/base",
            "_view_module_version": "1.2.0",
            "_view_name": "StyleView",
            "bar_color": null,
            "description_width": ""
          }
        },
        "2e66075deaf84ba9a33cfaefef1f7ea0": {
          "model_module": "@jupyter-widgets/base",
          "model_name": "LayoutModel",
          "model_module_version": "1.2.0",
          "state": {
            "_model_module": "@jupyter-widgets/base",
            "_model_module_version": "1.2.0",
            "_model_name": "LayoutModel",
            "_view_count": null,
            "_view_module": "@jupyter-widgets/base",
            "_view_module_version": "1.2.0",
            "_view_name": "LayoutView",
            "align_content": null,
            "align_items": null,
            "align_self": null,
            "border": null,
            "bottom": null,
            "display": null,
            "flex": null,
            "flex_flow": null,
            "grid_area": null,
            "grid_auto_columns": null,
            "grid_auto_flow": null,
            "grid_auto_rows": null,
            "grid_column": null,
            "grid_gap": null,
            "grid_row": null,
            "grid_template_areas": null,
            "grid_template_columns": null,
            "grid_template_rows": null,
            "height": null,
            "justify_content": null,
            "justify_items": null,
            "left": null,
            "margin": null,
            "max_height": null,
            "max_width": null,
            "min_height": null,
            "min_width": null,
            "object_fit": null,
            "object_position": null,
            "order": null,
            "overflow": null,
            "overflow_x": null,
            "overflow_y": null,
            "padding": null,
            "right": null,
            "top": null,
            "visibility": null,
            "width": null
          }
        },
        "f25e22d069fd4bb18b9465ef478249de": {
          "model_module": "@jupyter-widgets/controls",
          "model_name": "DescriptionStyleModel",
          "model_module_version": "1.5.0",
          "state": {
            "_model_module": "@jupyter-widgets/controls",
            "_model_module_version": "1.5.0",
            "_model_name": "DescriptionStyleModel",
            "_view_count": null,
            "_view_module": "@jupyter-widgets/base",
            "_view_module_version": "1.2.0",
            "_view_name": "StyleView",
            "description_width": ""
          }
        },
        "075ac44295904bf4886b97754cdab773": {
          "model_module": "@jupyter-widgets/controls",
          "model_name": "HBoxModel",
          "model_module_version": "1.5.0",
          "state": {
            "_dom_classes": [],
            "_model_module": "@jupyter-widgets/controls",
            "_model_module_version": "1.5.0",
            "_model_name": "HBoxModel",
            "_view_count": null,
            "_view_module": "@jupyter-widgets/controls",
            "_view_module_version": "1.5.0",
            "_view_name": "HBoxView",
            "box_style": "",
            "children": [
              "IPY_MODEL_d1351fbd468442daa0f68ce30e2b8732",
              "IPY_MODEL_69b42a42d38e4c4e897c07987a2aff10",
              "IPY_MODEL_ea5c0bb43e2f4e6b8c539ec382fd0cad"
            ],
            "layout": "IPY_MODEL_d90387d239d945c1992e3c94c5f8d18e"
          }
        },
        "d1351fbd468442daa0f68ce30e2b8732": {
          "model_module": "@jupyter-widgets/controls",
          "model_name": "HTMLModel",
          "model_module_version": "1.5.0",
          "state": {
            "_dom_classes": [],
            "_model_module": "@jupyter-widgets/controls",
            "_model_module_version": "1.5.0",
            "_model_name": "HTMLModel",
            "_view_count": null,
            "_view_module": "@jupyter-widgets/controls",
            "_view_module_version": "1.5.0",
            "_view_name": "HTMLView",
            "description": "",
            "description_tooltip": null,
            "layout": "IPY_MODEL_beed96c00a1f4f029a129d2bdce23a9b",
            "placeholder": "​",
            "style": "IPY_MODEL_a37aeac785b1451b80fc73e7647b7423",
            "value": "config.json: 100%"
          }
        },
        "69b42a42d38e4c4e897c07987a2aff10": {
          "model_module": "@jupyter-widgets/controls",
          "model_name": "FloatProgressModel",
          "model_module_version": "1.5.0",
          "state": {
            "_dom_classes": [],
            "_model_module": "@jupyter-widgets/controls",
            "_model_module_version": "1.5.0",
            "_model_name": "FloatProgressModel",
            "_view_count": null,
            "_view_module": "@jupyter-widgets/controls",
            "_view_module_version": "1.5.0",
            "_view_name": "ProgressView",
            "bar_style": "success",
            "description": "",
            "description_tooltip": null,
            "layout": "IPY_MODEL_5e88c58233f84b49bf06563cd42e09bf",
            "max": 4186,
            "min": 0,
            "orientation": "horizontal",
            "style": "IPY_MODEL_0bd2d2fac1f3459e852bbe5397c02c01",
            "value": 4186
          }
        },
        "ea5c0bb43e2f4e6b8c539ec382fd0cad": {
          "model_module": "@jupyter-widgets/controls",
          "model_name": "HTMLModel",
          "model_module_version": "1.5.0",
          "state": {
            "_dom_classes": [],
            "_model_module": "@jupyter-widgets/controls",
            "_model_module_version": "1.5.0",
            "_model_name": "HTMLModel",
            "_view_count": null,
            "_view_module": "@jupyter-widgets/controls",
            "_view_module_version": "1.5.0",
            "_view_name": "HTMLView",
            "description": "",
            "description_tooltip": null,
            "layout": "IPY_MODEL_dd957edcafad4844a171bd3e73ad55b9",
            "placeholder": "​",
            "style": "IPY_MODEL_f2f8a75411894f1b83c20f3b7f40866d",
            "value": " 4.19k/4.19k [00:00&lt;00:00, 327kB/s]"
          }
        },
        "d90387d239d945c1992e3c94c5f8d18e": {
          "model_module": "@jupyter-widgets/base",
          "model_name": "LayoutModel",
          "model_module_version": "1.2.0",
          "state": {
            "_model_module": "@jupyter-widgets/base",
            "_model_module_version": "1.2.0",
            "_model_name": "LayoutModel",
            "_view_count": null,
            "_view_module": "@jupyter-widgets/base",
            "_view_module_version": "1.2.0",
            "_view_name": "LayoutView",
            "align_content": null,
            "align_items": null,
            "align_self": null,
            "border": null,
            "bottom": null,
            "display": null,
            "flex": null,
            "flex_flow": null,
            "grid_area": null,
            "grid_auto_columns": null,
            "grid_auto_flow": null,
            "grid_auto_rows": null,
            "grid_column": null,
            "grid_gap": null,
            "grid_row": null,
            "grid_template_areas": null,
            "grid_template_columns": null,
            "grid_template_rows": null,
            "height": null,
            "justify_content": null,
            "justify_items": null,
            "left": null,
            "margin": null,
            "max_height": null,
            "max_width": null,
            "min_height": null,
            "min_width": null,
            "object_fit": null,
            "object_position": null,
            "order": null,
            "overflow": null,
            "overflow_x": null,
            "overflow_y": null,
            "padding": null,
            "right": null,
            "top": null,
            "visibility": null,
            "width": null
          }
        },
        "beed96c00a1f4f029a129d2bdce23a9b": {
          "model_module": "@jupyter-widgets/base",
          "model_name": "LayoutModel",
          "model_module_version": "1.2.0",
          "state": {
            "_model_module": "@jupyter-widgets/base",
            "_model_module_version": "1.2.0",
            "_model_name": "LayoutModel",
            "_view_count": null,
            "_view_module": "@jupyter-widgets/base",
            "_view_module_version": "1.2.0",
            "_view_name": "LayoutView",
            "align_content": null,
            "align_items": null,
            "align_self": null,
            "border": null,
            "bottom": null,
            "display": null,
            "flex": null,
            "flex_flow": null,
            "grid_area": null,
            "grid_auto_columns": null,
            "grid_auto_flow": null,
            "grid_auto_rows": null,
            "grid_column": null,
            "grid_gap": null,
            "grid_row": null,
            "grid_template_areas": null,
            "grid_template_columns": null,
            "grid_template_rows": null,
            "height": null,
            "justify_content": null,
            "justify_items": null,
            "left": null,
            "margin": null,
            "max_height": null,
            "max_width": null,
            "min_height": null,
            "min_width": null,
            "object_fit": null,
            "object_position": null,
            "order": null,
            "overflow": null,
            "overflow_x": null,
            "overflow_y": null,
            "padding": null,
            "right": null,
            "top": null,
            "visibility": null,
            "width": null
          }
        },
        "a37aeac785b1451b80fc73e7647b7423": {
          "model_module": "@jupyter-widgets/controls",
          "model_name": "DescriptionStyleModel",
          "model_module_version": "1.5.0",
          "state": {
            "_model_module": "@jupyter-widgets/controls",
            "_model_module_version": "1.5.0",
            "_model_name": "DescriptionStyleModel",
            "_view_count": null,
            "_view_module": "@jupyter-widgets/base",
            "_view_module_version": "1.2.0",
            "_view_name": "StyleView",
            "description_width": ""
          }
        },
        "5e88c58233f84b49bf06563cd42e09bf": {
          "model_module": "@jupyter-widgets/base",
          "model_name": "LayoutModel",
          "model_module_version": "1.2.0",
          "state": {
            "_model_module": "@jupyter-widgets/base",
            "_model_module_version": "1.2.0",
            "_model_name": "LayoutModel",
            "_view_count": null,
            "_view_module": "@jupyter-widgets/base",
            "_view_module_version": "1.2.0",
            "_view_name": "LayoutView",
            "align_content": null,
            "align_items": null,
            "align_self": null,
            "border": null,
            "bottom": null,
            "display": null,
            "flex": null,
            "flex_flow": null,
            "grid_area": null,
            "grid_auto_columns": null,
            "grid_auto_flow": null,
            "grid_auto_rows": null,
            "grid_column": null,
            "grid_gap": null,
            "grid_row": null,
            "grid_template_areas": null,
            "grid_template_columns": null,
            "grid_template_rows": null,
            "height": null,
            "justify_content": null,
            "justify_items": null,
            "left": null,
            "margin": null,
            "max_height": null,
            "max_width": null,
            "min_height": null,
            "min_width": null,
            "object_fit": null,
            "object_position": null,
            "order": null,
            "overflow": null,
            "overflow_x": null,
            "overflow_y": null,
            "padding": null,
            "right": null,
            "top": null,
            "visibility": null,
            "width": null
          }
        },
        "0bd2d2fac1f3459e852bbe5397c02c01": {
          "model_module": "@jupyter-widgets/controls",
          "model_name": "ProgressStyleModel",
          "model_module_version": "1.5.0",
          "state": {
            "_model_module": "@jupyter-widgets/controls",
            "_model_module_version": "1.5.0",
            "_model_name": "ProgressStyleModel",
            "_view_count": null,
            "_view_module": "@jupyter-widgets/base",
            "_view_module_version": "1.2.0",
            "_view_name": "StyleView",
            "bar_color": null,
            "description_width": ""
          }
        },
        "dd957edcafad4844a171bd3e73ad55b9": {
          "model_module": "@jupyter-widgets/base",
          "model_name": "LayoutModel",
          "model_module_version": "1.2.0",
          "state": {
            "_model_module": "@jupyter-widgets/base",
            "_model_module_version": "1.2.0",
            "_model_name": "LayoutModel",
            "_view_count": null,
            "_view_module": "@jupyter-widgets/base",
            "_view_module_version": "1.2.0",
            "_view_name": "LayoutView",
            "align_content": null,
            "align_items": null,
            "align_self": null,
            "border": null,
            "bottom": null,
            "display": null,
            "flex": null,
            "flex_flow": null,
            "grid_area": null,
            "grid_auto_columns": null,
            "grid_auto_flow": null,
            "grid_auto_rows": null,
            "grid_column": null,
            "grid_gap": null,
            "grid_row": null,
            "grid_template_areas": null,
            "grid_template_columns": null,
            "grid_template_rows": null,
            "height": null,
            "justify_content": null,
            "justify_items": null,
            "left": null,
            "margin": null,
            "max_height": null,
            "max_width": null,
            "min_height": null,
            "min_width": null,
            "object_fit": null,
            "object_position": null,
            "order": null,
            "overflow": null,
            "overflow_x": null,
            "overflow_y": null,
            "padding": null,
            "right": null,
            "top": null,
            "visibility": null,
            "width": null
          }
        },
        "f2f8a75411894f1b83c20f3b7f40866d": {
          "model_module": "@jupyter-widgets/controls",
          "model_name": "DescriptionStyleModel",
          "model_module_version": "1.5.0",
          "state": {
            "_model_module": "@jupyter-widgets/controls",
            "_model_module_version": "1.5.0",
            "_model_name": "DescriptionStyleModel",
            "_view_count": null,
            "_view_module": "@jupyter-widgets/base",
            "_view_module_version": "1.2.0",
            "_view_name": "StyleView",
            "description_width": ""
          }
        },
        "ce7275504ebf4f029487403ce6e1ce36": {
          "model_module": "@jupyter-widgets/controls",
          "model_name": "HBoxModel",
          "model_module_version": "1.5.0",
          "state": {
            "_dom_classes": [],
            "_model_module": "@jupyter-widgets/controls",
            "_model_module_version": "1.5.0",
            "_model_name": "HBoxModel",
            "_view_count": null,
            "_view_module": "@jupyter-widgets/controls",
            "_view_module_version": "1.5.0",
            "_view_name": "HBoxView",
            "box_style": "",
            "children": [
              "IPY_MODEL_89fc2e6961d945bb93041bba444132e3",
              "IPY_MODEL_1a69f7b08d6d4aba910abd975be06f1b",
              "IPY_MODEL_ab62e73a69e64c4abe6009974ab76fc0"
            ],
            "layout": "IPY_MODEL_e6a1489e1de9407e82dccc199c29e888"
          }
        },
        "89fc2e6961d945bb93041bba444132e3": {
          "model_module": "@jupyter-widgets/controls",
          "model_name": "HTMLModel",
          "model_module_version": "1.5.0",
          "state": {
            "_dom_classes": [],
            "_model_module": "@jupyter-widgets/controls",
            "_model_module_version": "1.5.0",
            "_model_name": "HTMLModel",
            "_view_count": null,
            "_view_module": "@jupyter-widgets/controls",
            "_view_module_version": "1.5.0",
            "_view_name": "HTMLView",
            "description": "",
            "description_tooltip": null,
            "layout": "IPY_MODEL_fe2d9ad1af974de3841eb8690856f96c",
            "placeholder": "​",
            "style": "IPY_MODEL_b10757f0cdbd41c1a27a4afcccb00006",
            "value": "preprocessor_config.json: 100%"
          }
        },
        "1a69f7b08d6d4aba910abd975be06f1b": {
          "model_module": "@jupyter-widgets/controls",
          "model_name": "FloatProgressModel",
          "model_module_version": "1.5.0",
          "state": {
            "_dom_classes": [],
            "_model_module": "@jupyter-widgets/controls",
            "_model_module_version": "1.5.0",
            "_model_name": "FloatProgressModel",
            "_view_count": null,
            "_view_module": "@jupyter-widgets/controls",
            "_view_module_version": "1.5.0",
            "_view_name": "ProgressView",
            "bar_style": "success",
            "description": "",
            "description_tooltip": null,
            "layout": "IPY_MODEL_967d6fb3f5ae4ee7bf1ae08a40640b59",
            "max": 316,
            "min": 0,
            "orientation": "horizontal",
            "style": "IPY_MODEL_1fc7f0d0cdd74f769aa1237cc88c14cb",
            "value": 316
          }
        },
        "ab62e73a69e64c4abe6009974ab76fc0": {
          "model_module": "@jupyter-widgets/controls",
          "model_name": "HTMLModel",
          "model_module_version": "1.5.0",
          "state": {
            "_dom_classes": [],
            "_model_module": "@jupyter-widgets/controls",
            "_model_module_version": "1.5.0",
            "_model_name": "HTMLModel",
            "_view_count": null,
            "_view_module": "@jupyter-widgets/controls",
            "_view_module_version": "1.5.0",
            "_view_name": "HTMLView",
            "description": "",
            "description_tooltip": null,
            "layout": "IPY_MODEL_50f1c82442564044b2023dff898d6634",
            "placeholder": "​",
            "style": "IPY_MODEL_feb4d966c5b64eba94c43558bc20017c",
            "value": " 316/316 [00:00&lt;00:00, 27.1kB/s]"
          }
        },
        "e6a1489e1de9407e82dccc199c29e888": {
          "model_module": "@jupyter-widgets/base",
          "model_name": "LayoutModel",
          "model_module_version": "1.2.0",
          "state": {
            "_model_module": "@jupyter-widgets/base",
            "_model_module_version": "1.2.0",
            "_model_name": "LayoutModel",
            "_view_count": null,
            "_view_module": "@jupyter-widgets/base",
            "_view_module_version": "1.2.0",
            "_view_name": "LayoutView",
            "align_content": null,
            "align_items": null,
            "align_self": null,
            "border": null,
            "bottom": null,
            "display": null,
            "flex": null,
            "flex_flow": null,
            "grid_area": null,
            "grid_auto_columns": null,
            "grid_auto_flow": null,
            "grid_auto_rows": null,
            "grid_column": null,
            "grid_gap": null,
            "grid_row": null,
            "grid_template_areas": null,
            "grid_template_columns": null,
            "grid_template_rows": null,
            "height": null,
            "justify_content": null,
            "justify_items": null,
            "left": null,
            "margin": null,
            "max_height": null,
            "max_width": null,
            "min_height": null,
            "min_width": null,
            "object_fit": null,
            "object_position": null,
            "order": null,
            "overflow": null,
            "overflow_x": null,
            "overflow_y": null,
            "padding": null,
            "right": null,
            "top": null,
            "visibility": null,
            "width": null
          }
        },
        "fe2d9ad1af974de3841eb8690856f96c": {
          "model_module": "@jupyter-widgets/base",
          "model_name": "LayoutModel",
          "model_module_version": "1.2.0",
          "state": {
            "_model_module": "@jupyter-widgets/base",
            "_model_module_version": "1.2.0",
            "_model_name": "LayoutModel",
            "_view_count": null,
            "_view_module": "@jupyter-widgets/base",
            "_view_module_version": "1.2.0",
            "_view_name": "LayoutView",
            "align_content": null,
            "align_items": null,
            "align_self": null,
            "border": null,
            "bottom": null,
            "display": null,
            "flex": null,
            "flex_flow": null,
            "grid_area": null,
            "grid_auto_columns": null,
            "grid_auto_flow": null,
            "grid_auto_rows": null,
            "grid_column": null,
            "grid_gap": null,
            "grid_row": null,
            "grid_template_areas": null,
            "grid_template_columns": null,
            "grid_template_rows": null,
            "height": null,
            "justify_content": null,
            "justify_items": null,
            "left": null,
            "margin": null,
            "max_height": null,
            "max_width": null,
            "min_height": null,
            "min_width": null,
            "object_fit": null,
            "object_position": null,
            "order": null,
            "overflow": null,
            "overflow_x": null,
            "overflow_y": null,
            "padding": null,
            "right": null,
            "top": null,
            "visibility": null,
            "width": null
          }
        },
        "b10757f0cdbd41c1a27a4afcccb00006": {
          "model_module": "@jupyter-widgets/controls",
          "model_name": "DescriptionStyleModel",
          "model_module_version": "1.5.0",
          "state": {
            "_model_module": "@jupyter-widgets/controls",
            "_model_module_version": "1.5.0",
            "_model_name": "DescriptionStyleModel",
            "_view_count": null,
            "_view_module": "@jupyter-widgets/base",
            "_view_module_version": "1.2.0",
            "_view_name": "StyleView",
            "description_width": ""
          }
        },
        "967d6fb3f5ae4ee7bf1ae08a40640b59": {
          "model_module": "@jupyter-widgets/base",
          "model_name": "LayoutModel",
          "model_module_version": "1.2.0",
          "state": {
            "_model_module": "@jupyter-widgets/base",
            "_model_module_version": "1.2.0",
            "_model_name": "LayoutModel",
            "_view_count": null,
            "_view_module": "@jupyter-widgets/base",
            "_view_module_version": "1.2.0",
            "_view_name": "LayoutView",
            "align_content": null,
            "align_items": null,
            "align_self": null,
            "border": null,
            "bottom": null,
            "display": null,
            "flex": null,
            "flex_flow": null,
            "grid_area": null,
            "grid_auto_columns": null,
            "grid_auto_flow": null,
            "grid_auto_rows": null,
            "grid_column": null,
            "grid_gap": null,
            "grid_row": null,
            "grid_template_areas": null,
            "grid_template_columns": null,
            "grid_template_rows": null,
            "height": null,
            "justify_content": null,
            "justify_items": null,
            "left": null,
            "margin": null,
            "max_height": null,
            "max_width": null,
            "min_height": null,
            "min_width": null,
            "object_fit": null,
            "object_position": null,
            "order": null,
            "overflow": null,
            "overflow_x": null,
            "overflow_y": null,
            "padding": null,
            "right": null,
            "top": null,
            "visibility": null,
            "width": null
          }
        },
        "1fc7f0d0cdd74f769aa1237cc88c14cb": {
          "model_module": "@jupyter-widgets/controls",
          "model_name": "ProgressStyleModel",
          "model_module_version": "1.5.0",
          "state": {
            "_model_module": "@jupyter-widgets/controls",
            "_model_module_version": "1.5.0",
            "_model_name": "ProgressStyleModel",
            "_view_count": null,
            "_view_module": "@jupyter-widgets/base",
            "_view_module_version": "1.2.0",
            "_view_name": "StyleView",
            "bar_color": null,
            "description_width": ""
          }
        },
        "50f1c82442564044b2023dff898d6634": {
          "model_module": "@jupyter-widgets/base",
          "model_name": "LayoutModel",
          "model_module_version": "1.2.0",
          "state": {
            "_model_module": "@jupyter-widgets/base",
            "_model_module_version": "1.2.0",
            "_model_name": "LayoutModel",
            "_view_count": null,
            "_view_module": "@jupyter-widgets/base",
            "_view_module_version": "1.2.0",
            "_view_name": "LayoutView",
            "align_content": null,
            "align_items": null,
            "align_self": null,
            "border": null,
            "bottom": null,
            "display": null,
            "flex": null,
            "flex_flow": null,
            "grid_area": null,
            "grid_auto_columns": null,
            "grid_auto_flow": null,
            "grid_auto_rows": null,
            "grid_column": null,
            "grid_gap": null,
            "grid_row": null,
            "grid_template_areas": null,
            "grid_template_columns": null,
            "grid_template_rows": null,
            "height": null,
            "justify_content": null,
            "justify_items": null,
            "left": null,
            "margin": null,
            "max_height": null,
            "max_width": null,
            "min_height": null,
            "min_width": null,
            "object_fit": null,
            "object_position": null,
            "order": null,
            "overflow": null,
            "overflow_x": null,
            "overflow_y": null,
            "padding": null,
            "right": null,
            "top": null,
            "visibility": null,
            "width": null
          }
        },
        "feb4d966c5b64eba94c43558bc20017c": {
          "model_module": "@jupyter-widgets/controls",
          "model_name": "DescriptionStyleModel",
          "model_module_version": "1.5.0",
          "state": {
            "_model_module": "@jupyter-widgets/controls",
            "_model_module_version": "1.5.0",
            "_model_name": "DescriptionStyleModel",
            "_view_count": null,
            "_view_module": "@jupyter-widgets/base",
            "_view_module_version": "1.2.0",
            "_view_name": "StyleView",
            "description_width": ""
          }
        },
        "8e072dc7c9664a38b4576a018feb18fd": {
          "model_module": "@jupyter-widgets/controls",
          "model_name": "HBoxModel",
          "model_module_version": "1.5.0",
          "state": {
            "_dom_classes": [],
            "_model_module": "@jupyter-widgets/controls",
            "_model_module_version": "1.5.0",
            "_model_name": "HBoxModel",
            "_view_count": null,
            "_view_module": "@jupyter-widgets/controls",
            "_view_module_version": "1.5.0",
            "_view_name": "HBoxView",
            "box_style": "",
            "children": [
              "IPY_MODEL_50a26a0536cc4add97bfd97b4ed3b871",
              "IPY_MODEL_21440067e8e84396a94c846b9de6776c",
              "IPY_MODEL_5b270a0044e745e4bb34a0b2826ac38d"
            ],
            "layout": "IPY_MODEL_9d2ed57a70684373b1657517949e7035"
          }
        },
        "50a26a0536cc4add97bfd97b4ed3b871": {
          "model_module": "@jupyter-widgets/controls",
          "model_name": "HTMLModel",
          "model_module_version": "1.5.0",
          "state": {
            "_dom_classes": [],
            "_model_module": "@jupyter-widgets/controls",
            "_model_module_version": "1.5.0",
            "_model_name": "HTMLModel",
            "_view_count": null,
            "_view_module": "@jupyter-widgets/controls",
            "_view_module_version": "1.5.0",
            "_view_name": "HTMLView",
            "description": "",
            "description_tooltip": null,
            "layout": "IPY_MODEL_9dd418188cb745a5b3d1227de2b74ea5",
            "placeholder": "​",
            "style": "IPY_MODEL_8279a3e7d1b54dd3ac4b424ff24c77d6",
            "value": "Map: 100%"
          }
        },
        "21440067e8e84396a94c846b9de6776c": {
          "model_module": "@jupyter-widgets/controls",
          "model_name": "FloatProgressModel",
          "model_module_version": "1.5.0",
          "state": {
            "_dom_classes": [],
            "_model_module": "@jupyter-widgets/controls",
            "_model_module_version": "1.5.0",
            "_model_name": "FloatProgressModel",
            "_view_count": null,
            "_view_module": "@jupyter-widgets/controls",
            "_view_module_version": "1.5.0",
            "_view_name": "ProgressView",
            "bar_style": "success",
            "description": "",
            "description_tooltip": null,
            "layout": "IPY_MODEL_42293092a4c24d36851b9b0c9d7a6e70",
            "max": 5173,
            "min": 0,
            "orientation": "horizontal",
            "style": "IPY_MODEL_d6a3dbf2c79b4d5daeb9cadd24ae6a9e",
            "value": 5173
          }
        },
        "5b270a0044e745e4bb34a0b2826ac38d": {
          "model_module": "@jupyter-widgets/controls",
          "model_name": "HTMLModel",
          "model_module_version": "1.5.0",
          "state": {
            "_dom_classes": [],
            "_model_module": "@jupyter-widgets/controls",
            "_model_module_version": "1.5.0",
            "_model_name": "HTMLModel",
            "_view_count": null,
            "_view_module": "@jupyter-widgets/controls",
            "_view_module_version": "1.5.0",
            "_view_name": "HTMLView",
            "description": "",
            "description_tooltip": null,
            "layout": "IPY_MODEL_44df89e612a6490b8604a658509a8213",
            "placeholder": "​",
            "style": "IPY_MODEL_d71e4f95a7ab4109a3bde7647811b600",
            "value": " 5173/5173 [00:01&lt;00:00, 4324.57 examples/s]"
          }
        },
        "9d2ed57a70684373b1657517949e7035": {
          "model_module": "@jupyter-widgets/base",
          "model_name": "LayoutModel",
          "model_module_version": "1.2.0",
          "state": {
            "_model_module": "@jupyter-widgets/base",
            "_model_module_version": "1.2.0",
            "_model_name": "LayoutModel",
            "_view_count": null,
            "_view_module": "@jupyter-widgets/base",
            "_view_module_version": "1.2.0",
            "_view_name": "LayoutView",
            "align_content": null,
            "align_items": null,
            "align_self": null,
            "border": null,
            "bottom": null,
            "display": null,
            "flex": null,
            "flex_flow": null,
            "grid_area": null,
            "grid_auto_columns": null,
            "grid_auto_flow": null,
            "grid_auto_rows": null,
            "grid_column": null,
            "grid_gap": null,
            "grid_row": null,
            "grid_template_areas": null,
            "grid_template_columns": null,
            "grid_template_rows": null,
            "height": null,
            "justify_content": null,
            "justify_items": null,
            "left": null,
            "margin": null,
            "max_height": null,
            "max_width": null,
            "min_height": null,
            "min_width": null,
            "object_fit": null,
            "object_position": null,
            "order": null,
            "overflow": null,
            "overflow_x": null,
            "overflow_y": null,
            "padding": null,
            "right": null,
            "top": null,
            "visibility": null,
            "width": null
          }
        },
        "9dd418188cb745a5b3d1227de2b74ea5": {
          "model_module": "@jupyter-widgets/base",
          "model_name": "LayoutModel",
          "model_module_version": "1.2.0",
          "state": {
            "_model_module": "@jupyter-widgets/base",
            "_model_module_version": "1.2.0",
            "_model_name": "LayoutModel",
            "_view_count": null,
            "_view_module": "@jupyter-widgets/base",
            "_view_module_version": "1.2.0",
            "_view_name": "LayoutView",
            "align_content": null,
            "align_items": null,
            "align_self": null,
            "border": null,
            "bottom": null,
            "display": null,
            "flex": null,
            "flex_flow": null,
            "grid_area": null,
            "grid_auto_columns": null,
            "grid_auto_flow": null,
            "grid_auto_rows": null,
            "grid_column": null,
            "grid_gap": null,
            "grid_row": null,
            "grid_template_areas": null,
            "grid_template_columns": null,
            "grid_template_rows": null,
            "height": null,
            "justify_content": null,
            "justify_items": null,
            "left": null,
            "margin": null,
            "max_height": null,
            "max_width": null,
            "min_height": null,
            "min_width": null,
            "object_fit": null,
            "object_position": null,
            "order": null,
            "overflow": null,
            "overflow_x": null,
            "overflow_y": null,
            "padding": null,
            "right": null,
            "top": null,
            "visibility": null,
            "width": null
          }
        },
        "8279a3e7d1b54dd3ac4b424ff24c77d6": {
          "model_module": "@jupyter-widgets/controls",
          "model_name": "DescriptionStyleModel",
          "model_module_version": "1.5.0",
          "state": {
            "_model_module": "@jupyter-widgets/controls",
            "_model_module_version": "1.5.0",
            "_model_name": "DescriptionStyleModel",
            "_view_count": null,
            "_view_module": "@jupyter-widgets/base",
            "_view_module_version": "1.2.0",
            "_view_name": "StyleView",
            "description_width": ""
          }
        },
        "42293092a4c24d36851b9b0c9d7a6e70": {
          "model_module": "@jupyter-widgets/base",
          "model_name": "LayoutModel",
          "model_module_version": "1.2.0",
          "state": {
            "_model_module": "@jupyter-widgets/base",
            "_model_module_version": "1.2.0",
            "_model_name": "LayoutModel",
            "_view_count": null,
            "_view_module": "@jupyter-widgets/base",
            "_view_module_version": "1.2.0",
            "_view_name": "LayoutView",
            "align_content": null,
            "align_items": null,
            "align_self": null,
            "border": null,
            "bottom": null,
            "display": null,
            "flex": null,
            "flex_flow": null,
            "grid_area": null,
            "grid_auto_columns": null,
            "grid_auto_flow": null,
            "grid_auto_rows": null,
            "grid_column": null,
            "grid_gap": null,
            "grid_row": null,
            "grid_template_areas": null,
            "grid_template_columns": null,
            "grid_template_rows": null,
            "height": null,
            "justify_content": null,
            "justify_items": null,
            "left": null,
            "margin": null,
            "max_height": null,
            "max_width": null,
            "min_height": null,
            "min_width": null,
            "object_fit": null,
            "object_position": null,
            "order": null,
            "overflow": null,
            "overflow_x": null,
            "overflow_y": null,
            "padding": null,
            "right": null,
            "top": null,
            "visibility": null,
            "width": null
          }
        },
        "d6a3dbf2c79b4d5daeb9cadd24ae6a9e": {
          "model_module": "@jupyter-widgets/controls",
          "model_name": "ProgressStyleModel",
          "model_module_version": "1.5.0",
          "state": {
            "_model_module": "@jupyter-widgets/controls",
            "_model_module_version": "1.5.0",
            "_model_name": "ProgressStyleModel",
            "_view_count": null,
            "_view_module": "@jupyter-widgets/base",
            "_view_module_version": "1.2.0",
            "_view_name": "StyleView",
            "bar_color": null,
            "description_width": ""
          }
        },
        "44df89e612a6490b8604a658509a8213": {
          "model_module": "@jupyter-widgets/base",
          "model_name": "LayoutModel",
          "model_module_version": "1.2.0",
          "state": {
            "_model_module": "@jupyter-widgets/base",
            "_model_module_version": "1.2.0",
            "_model_name": "LayoutModel",
            "_view_count": null,
            "_view_module": "@jupyter-widgets/base",
            "_view_module_version": "1.2.0",
            "_view_name": "LayoutView",
            "align_content": null,
            "align_items": null,
            "align_self": null,
            "border": null,
            "bottom": null,
            "display": null,
            "flex": null,
            "flex_flow": null,
            "grid_area": null,
            "grid_auto_columns": null,
            "grid_auto_flow": null,
            "grid_auto_rows": null,
            "grid_column": null,
            "grid_gap": null,
            "grid_row": null,
            "grid_template_areas": null,
            "grid_template_columns": null,
            "grid_template_rows": null,
            "height": null,
            "justify_content": null,
            "justify_items": null,
            "left": null,
            "margin": null,
            "max_height": null,
            "max_width": null,
            "min_height": null,
            "min_width": null,
            "object_fit": null,
            "object_position": null,
            "order": null,
            "overflow": null,
            "overflow_x": null,
            "overflow_y": null,
            "padding": null,
            "right": null,
            "top": null,
            "visibility": null,
            "width": null
          }
        },
        "d71e4f95a7ab4109a3bde7647811b600": {
          "model_module": "@jupyter-widgets/controls",
          "model_name": "DescriptionStyleModel",
          "model_module_version": "1.5.0",
          "state": {
            "_model_module": "@jupyter-widgets/controls",
            "_model_module_version": "1.5.0",
            "_model_name": "DescriptionStyleModel",
            "_view_count": null,
            "_view_module": "@jupyter-widgets/base",
            "_view_module_version": "1.2.0",
            "_view_name": "StyleView",
            "description_width": ""
          }
        },
        "c946504318bd424c95b7306cb6ab75df": {
          "model_module": "@jupyter-widgets/controls",
          "model_name": "HBoxModel",
          "model_module_version": "1.5.0",
          "state": {
            "_dom_classes": [],
            "_model_module": "@jupyter-widgets/controls",
            "_model_module_version": "1.5.0",
            "_model_name": "HBoxModel",
            "_view_count": null,
            "_view_module": "@jupyter-widgets/controls",
            "_view_module_version": "1.5.0",
            "_view_name": "HBoxView",
            "box_style": "",
            "children": [
              "IPY_MODEL_91c26920af2147b899dd43073d1709df",
              "IPY_MODEL_ae413b837193421c91963ed8d340037e",
              "IPY_MODEL_180d11eed7444de98cf3ae4ead955007"
            ],
            "layout": "IPY_MODEL_33a8adffcd344401a74bda2bc395b636"
          }
        },
        "91c26920af2147b899dd43073d1709df": {
          "model_module": "@jupyter-widgets/controls",
          "model_name": "HTMLModel",
          "model_module_version": "1.5.0",
          "state": {
            "_dom_classes": [],
            "_model_module": "@jupyter-widgets/controls",
            "_model_module_version": "1.5.0",
            "_model_name": "HTMLModel",
            "_view_count": null,
            "_view_module": "@jupyter-widgets/controls",
            "_view_module_version": "1.5.0",
            "_view_name": "HTMLView",
            "description": "",
            "description_tooltip": null,
            "layout": "IPY_MODEL_562a1154307c40fca4c1287dbc460f86",
            "placeholder": "​",
            "style": "IPY_MODEL_f64c1d3e55294e589599044b8dd9f82d",
            "value": "Map: 100%"
          }
        },
        "ae413b837193421c91963ed8d340037e": {
          "model_module": "@jupyter-widgets/controls",
          "model_name": "FloatProgressModel",
          "model_module_version": "1.5.0",
          "state": {
            "_dom_classes": [],
            "_model_module": "@jupyter-widgets/controls",
            "_model_module_version": "1.5.0",
            "_model_name": "FloatProgressModel",
            "_view_count": null,
            "_view_module": "@jupyter-widgets/controls",
            "_view_module_version": "1.5.0",
            "_view_name": "ProgressView",
            "bar_style": "success",
            "description": "",
            "description_tooltip": null,
            "layout": "IPY_MODEL_4ec5be874f6b4bbcbdab3bee149fd561",
            "max": 444,
            "min": 0,
            "orientation": "horizontal",
            "style": "IPY_MODEL_113c339c9e0340918d04787e792d1ce0",
            "value": 444
          }
        },
        "180d11eed7444de98cf3ae4ead955007": {
          "model_module": "@jupyter-widgets/controls",
          "model_name": "HTMLModel",
          "model_module_version": "1.5.0",
          "state": {
            "_dom_classes": [],
            "_model_module": "@jupyter-widgets/controls",
            "_model_module_version": "1.5.0",
            "_model_name": "HTMLModel",
            "_view_count": null,
            "_view_module": "@jupyter-widgets/controls",
            "_view_module_version": "1.5.0",
            "_view_name": "HTMLView",
            "description": "",
            "description_tooltip": null,
            "layout": "IPY_MODEL_190264fa398943dea2b8f4799182b0a1",
            "placeholder": "​",
            "style": "IPY_MODEL_70296e3baecb4528a09b7a0f755a460a",
            "value": " 444/444 [00:00&lt;00:00, 5781.64 examples/s]"
          }
        },
        "33a8adffcd344401a74bda2bc395b636": {
          "model_module": "@jupyter-widgets/base",
          "model_name": "LayoutModel",
          "model_module_version": "1.2.0",
          "state": {
            "_model_module": "@jupyter-widgets/base",
            "_model_module_version": "1.2.0",
            "_model_name": "LayoutModel",
            "_view_count": null,
            "_view_module": "@jupyter-widgets/base",
            "_view_module_version": "1.2.0",
            "_view_name": "LayoutView",
            "align_content": null,
            "align_items": null,
            "align_self": null,
            "border": null,
            "bottom": null,
            "display": null,
            "flex": null,
            "flex_flow": null,
            "grid_area": null,
            "grid_auto_columns": null,
            "grid_auto_flow": null,
            "grid_auto_rows": null,
            "grid_column": null,
            "grid_gap": null,
            "grid_row": null,
            "grid_template_areas": null,
            "grid_template_columns": null,
            "grid_template_rows": null,
            "height": null,
            "justify_content": null,
            "justify_items": null,
            "left": null,
            "margin": null,
            "max_height": null,
            "max_width": null,
            "min_height": null,
            "min_width": null,
            "object_fit": null,
            "object_position": null,
            "order": null,
            "overflow": null,
            "overflow_x": null,
            "overflow_y": null,
            "padding": null,
            "right": null,
            "top": null,
            "visibility": null,
            "width": null
          }
        },
        "562a1154307c40fca4c1287dbc460f86": {
          "model_module": "@jupyter-widgets/base",
          "model_name": "LayoutModel",
          "model_module_version": "1.2.0",
          "state": {
            "_model_module": "@jupyter-widgets/base",
            "_model_module_version": "1.2.0",
            "_model_name": "LayoutModel",
            "_view_count": null,
            "_view_module": "@jupyter-widgets/base",
            "_view_module_version": "1.2.0",
            "_view_name": "LayoutView",
            "align_content": null,
            "align_items": null,
            "align_self": null,
            "border": null,
            "bottom": null,
            "display": null,
            "flex": null,
            "flex_flow": null,
            "grid_area": null,
            "grid_auto_columns": null,
            "grid_auto_flow": null,
            "grid_auto_rows": null,
            "grid_column": null,
            "grid_gap": null,
            "grid_row": null,
            "grid_template_areas": null,
            "grid_template_columns": null,
            "grid_template_rows": null,
            "height": null,
            "justify_content": null,
            "justify_items": null,
            "left": null,
            "margin": null,
            "max_height": null,
            "max_width": null,
            "min_height": null,
            "min_width": null,
            "object_fit": null,
            "object_position": null,
            "order": null,
            "overflow": null,
            "overflow_x": null,
            "overflow_y": null,
            "padding": null,
            "right": null,
            "top": null,
            "visibility": null,
            "width": null
          }
        },
        "f64c1d3e55294e589599044b8dd9f82d": {
          "model_module": "@jupyter-widgets/controls",
          "model_name": "DescriptionStyleModel",
          "model_module_version": "1.5.0",
          "state": {
            "_model_module": "@jupyter-widgets/controls",
            "_model_module_version": "1.5.0",
            "_model_name": "DescriptionStyleModel",
            "_view_count": null,
            "_view_module": "@jupyter-widgets/base",
            "_view_module_version": "1.2.0",
            "_view_name": "StyleView",
            "description_width": ""
          }
        },
        "4ec5be874f6b4bbcbdab3bee149fd561": {
          "model_module": "@jupyter-widgets/base",
          "model_name": "LayoutModel",
          "model_module_version": "1.2.0",
          "state": {
            "_model_module": "@jupyter-widgets/base",
            "_model_module_version": "1.2.0",
            "_model_name": "LayoutModel",
            "_view_count": null,
            "_view_module": "@jupyter-widgets/base",
            "_view_module_version": "1.2.0",
            "_view_name": "LayoutView",
            "align_content": null,
            "align_items": null,
            "align_self": null,
            "border": null,
            "bottom": null,
            "display": null,
            "flex": null,
            "flex_flow": null,
            "grid_area": null,
            "grid_auto_columns": null,
            "grid_auto_flow": null,
            "grid_auto_rows": null,
            "grid_column": null,
            "grid_gap": null,
            "grid_row": null,
            "grid_template_areas": null,
            "grid_template_columns": null,
            "grid_template_rows": null,
            "height": null,
            "justify_content": null,
            "justify_items": null,
            "left": null,
            "margin": null,
            "max_height": null,
            "max_width": null,
            "min_height": null,
            "min_width": null,
            "object_fit": null,
            "object_position": null,
            "order": null,
            "overflow": null,
            "overflow_x": null,
            "overflow_y": null,
            "padding": null,
            "right": null,
            "top": null,
            "visibility": null,
            "width": null
          }
        },
        "113c339c9e0340918d04787e792d1ce0": {
          "model_module": "@jupyter-widgets/controls",
          "model_name": "ProgressStyleModel",
          "model_module_version": "1.5.0",
          "state": {
            "_model_module": "@jupyter-widgets/controls",
            "_model_module_version": "1.5.0",
            "_model_name": "ProgressStyleModel",
            "_view_count": null,
            "_view_module": "@jupyter-widgets/base",
            "_view_module_version": "1.2.0",
            "_view_name": "StyleView",
            "bar_color": null,
            "description_width": ""
          }
        },
        "190264fa398943dea2b8f4799182b0a1": {
          "model_module": "@jupyter-widgets/base",
          "model_name": "LayoutModel",
          "model_module_version": "1.2.0",
          "state": {
            "_model_module": "@jupyter-widgets/base",
            "_model_module_version": "1.2.0",
            "_model_name": "LayoutModel",
            "_view_count": null,
            "_view_module": "@jupyter-widgets/base",
            "_view_module_version": "1.2.0",
            "_view_name": "LayoutView",
            "align_content": null,
            "align_items": null,
            "align_self": null,
            "border": null,
            "bottom": null,
            "display": null,
            "flex": null,
            "flex_flow": null,
            "grid_area": null,
            "grid_auto_columns": null,
            "grid_auto_flow": null,
            "grid_auto_rows": null,
            "grid_column": null,
            "grid_gap": null,
            "grid_row": null,
            "grid_template_areas": null,
            "grid_template_columns": null,
            "grid_template_rows": null,
            "height": null,
            "justify_content": null,
            "justify_items": null,
            "left": null,
            "margin": null,
            "max_height": null,
            "max_width": null,
            "min_height": null,
            "min_width": null,
            "object_fit": null,
            "object_position": null,
            "order": null,
            "overflow": null,
            "overflow_x": null,
            "overflow_y": null,
            "padding": null,
            "right": null,
            "top": null,
            "visibility": null,
            "width": null
          }
        },
        "70296e3baecb4528a09b7a0f755a460a": {
          "model_module": "@jupyter-widgets/controls",
          "model_name": "DescriptionStyleModel",
          "model_module_version": "1.5.0",
          "state": {
            "_model_module": "@jupyter-widgets/controls",
            "_model_module_version": "1.5.0",
            "_model_name": "DescriptionStyleModel",
            "_view_count": null,
            "_view_module": "@jupyter-widgets/base",
            "_view_module_version": "1.2.0",
            "_view_name": "StyleView",
            "description_width": ""
          }
        },
        "317a6f6348f54187b1a919a707e1bf0c": {
          "model_module": "@jupyter-widgets/controls",
          "model_name": "HBoxModel",
          "model_module_version": "1.5.0",
          "state": {
            "_dom_classes": [],
            "_model_module": "@jupyter-widgets/controls",
            "_model_module_version": "1.5.0",
            "_model_name": "HBoxModel",
            "_view_count": null,
            "_view_module": "@jupyter-widgets/controls",
            "_view_module_version": "1.5.0",
            "_view_name": "HBoxView",
            "box_style": "",
            "children": [
              "IPY_MODEL_57aea4224fe145b9a6a5a5bbe2679d20",
              "IPY_MODEL_385da46ac7df4e6eb26da8894d15611c",
              "IPY_MODEL_590293b0bad64aee8ee7ec5c4d417cdb"
            ],
            "layout": "IPY_MODEL_3de59c3fe5404c17942193dd4ef53dfd"
          }
        },
        "57aea4224fe145b9a6a5a5bbe2679d20": {
          "model_module": "@jupyter-widgets/controls",
          "model_name": "HTMLModel",
          "model_module_version": "1.5.0",
          "state": {
            "_dom_classes": [],
            "_model_module": "@jupyter-widgets/controls",
            "_model_module_version": "1.5.0",
            "_model_name": "HTMLModel",
            "_view_count": null,
            "_view_module": "@jupyter-widgets/controls",
            "_view_module_version": "1.5.0",
            "_view_name": "HTMLView",
            "description": "",
            "description_tooltip": null,
            "layout": "IPY_MODEL_e0d5e588b88b455ba8f3226eba89b36a",
            "placeholder": "​",
            "style": "IPY_MODEL_76bad975404e44e2b70a986069c866fb",
            "value": "Map: 100%"
          }
        },
        "385da46ac7df4e6eb26da8894d15611c": {
          "model_module": "@jupyter-widgets/controls",
          "model_name": "FloatProgressModel",
          "model_module_version": "1.5.0",
          "state": {
            "_dom_classes": [],
            "_model_module": "@jupyter-widgets/controls",
            "_model_module_version": "1.5.0",
            "_model_name": "FloatProgressModel",
            "_view_count": null,
            "_view_module": "@jupyter-widgets/controls",
            "_view_module_version": "1.5.0",
            "_view_name": "ProgressView",
            "bar_style": "success",
            "description": "",
            "description_tooltip": null,
            "layout": "IPY_MODEL_4475704141734f01b3aadc578f32a2f4",
            "max": 1773,
            "min": 0,
            "orientation": "horizontal",
            "style": "IPY_MODEL_4c2b847e730845b49bad5dcd0211c9f3",
            "value": 1773
          }
        },
        "590293b0bad64aee8ee7ec5c4d417cdb": {
          "model_module": "@jupyter-widgets/controls",
          "model_name": "HTMLModel",
          "model_module_version": "1.5.0",
          "state": {
            "_dom_classes": [],
            "_model_module": "@jupyter-widgets/controls",
            "_model_module_version": "1.5.0",
            "_model_name": "HTMLModel",
            "_view_count": null,
            "_view_module": "@jupyter-widgets/controls",
            "_view_module_version": "1.5.0",
            "_view_name": "HTMLView",
            "description": "",
            "description_tooltip": null,
            "layout": "IPY_MODEL_f5ae5a369004438385cd45e342027f3f",
            "placeholder": "​",
            "style": "IPY_MODEL_2101770c83e742259f50f689b3f3adbb",
            "value": " 1773/1773 [00:00&lt;00:00, 5492.58 examples/s]"
          }
        },
        "3de59c3fe5404c17942193dd4ef53dfd": {
          "model_module": "@jupyter-widgets/base",
          "model_name": "LayoutModel",
          "model_module_version": "1.2.0",
          "state": {
            "_model_module": "@jupyter-widgets/base",
            "_model_module_version": "1.2.0",
            "_model_name": "LayoutModel",
            "_view_count": null,
            "_view_module": "@jupyter-widgets/base",
            "_view_module_version": "1.2.0",
            "_view_name": "LayoutView",
            "align_content": null,
            "align_items": null,
            "align_self": null,
            "border": null,
            "bottom": null,
            "display": null,
            "flex": null,
            "flex_flow": null,
            "grid_area": null,
            "grid_auto_columns": null,
            "grid_auto_flow": null,
            "grid_auto_rows": null,
            "grid_column": null,
            "grid_gap": null,
            "grid_row": null,
            "grid_template_areas": null,
            "grid_template_columns": null,
            "grid_template_rows": null,
            "height": null,
            "justify_content": null,
            "justify_items": null,
            "left": null,
            "margin": null,
            "max_height": null,
            "max_width": null,
            "min_height": null,
            "min_width": null,
            "object_fit": null,
            "object_position": null,
            "order": null,
            "overflow": null,
            "overflow_x": null,
            "overflow_y": null,
            "padding": null,
            "right": null,
            "top": null,
            "visibility": null,
            "width": null
          }
        },
        "e0d5e588b88b455ba8f3226eba89b36a": {
          "model_module": "@jupyter-widgets/base",
          "model_name": "LayoutModel",
          "model_module_version": "1.2.0",
          "state": {
            "_model_module": "@jupyter-widgets/base",
            "_model_module_version": "1.2.0",
            "_model_name": "LayoutModel",
            "_view_count": null,
            "_view_module": "@jupyter-widgets/base",
            "_view_module_version": "1.2.0",
            "_view_name": "LayoutView",
            "align_content": null,
            "align_items": null,
            "align_self": null,
            "border": null,
            "bottom": null,
            "display": null,
            "flex": null,
            "flex_flow": null,
            "grid_area": null,
            "grid_auto_columns": null,
            "grid_auto_flow": null,
            "grid_auto_rows": null,
            "grid_column": null,
            "grid_gap": null,
            "grid_row": null,
            "grid_template_areas": null,
            "grid_template_columns": null,
            "grid_template_rows": null,
            "height": null,
            "justify_content": null,
            "justify_items": null,
            "left": null,
            "margin": null,
            "max_height": null,
            "max_width": null,
            "min_height": null,
            "min_width": null,
            "object_fit": null,
            "object_position": null,
            "order": null,
            "overflow": null,
            "overflow_x": null,
            "overflow_y": null,
            "padding": null,
            "right": null,
            "top": null,
            "visibility": null,
            "width": null
          }
        },
        "76bad975404e44e2b70a986069c866fb": {
          "model_module": "@jupyter-widgets/controls",
          "model_name": "DescriptionStyleModel",
          "model_module_version": "1.5.0",
          "state": {
            "_model_module": "@jupyter-widgets/controls",
            "_model_module_version": "1.5.0",
            "_model_name": "DescriptionStyleModel",
            "_view_count": null,
            "_view_module": "@jupyter-widgets/base",
            "_view_module_version": "1.2.0",
            "_view_name": "StyleView",
            "description_width": ""
          }
        },
        "4475704141734f01b3aadc578f32a2f4": {
          "model_module": "@jupyter-widgets/base",
          "model_name": "LayoutModel",
          "model_module_version": "1.2.0",
          "state": {
            "_model_module": "@jupyter-widgets/base",
            "_model_module_version": "1.2.0",
            "_model_name": "LayoutModel",
            "_view_count": null,
            "_view_module": "@jupyter-widgets/base",
            "_view_module_version": "1.2.0",
            "_view_name": "LayoutView",
            "align_content": null,
            "align_items": null,
            "align_self": null,
            "border": null,
            "bottom": null,
            "display": null,
            "flex": null,
            "flex_flow": null,
            "grid_area": null,
            "grid_auto_columns": null,
            "grid_auto_flow": null,
            "grid_auto_rows": null,
            "grid_column": null,
            "grid_gap": null,
            "grid_row": null,
            "grid_template_areas": null,
            "grid_template_columns": null,
            "grid_template_rows": null,
            "height": null,
            "justify_content": null,
            "justify_items": null,
            "left": null,
            "margin": null,
            "max_height": null,
            "max_width": null,
            "min_height": null,
            "min_width": null,
            "object_fit": null,
            "object_position": null,
            "order": null,
            "overflow": null,
            "overflow_x": null,
            "overflow_y": null,
            "padding": null,
            "right": null,
            "top": null,
            "visibility": null,
            "width": null
          }
        },
        "4c2b847e730845b49bad5dcd0211c9f3": {
          "model_module": "@jupyter-widgets/controls",
          "model_name": "ProgressStyleModel",
          "model_module_version": "1.5.0",
          "state": {
            "_model_module": "@jupyter-widgets/controls",
            "_model_module_version": "1.5.0",
            "_model_name": "ProgressStyleModel",
            "_view_count": null,
            "_view_module": "@jupyter-widgets/base",
            "_view_module_version": "1.2.0",
            "_view_name": "StyleView",
            "bar_color": null,
            "description_width": ""
          }
        },
        "f5ae5a369004438385cd45e342027f3f": {
          "model_module": "@jupyter-widgets/base",
          "model_name": "LayoutModel",
          "model_module_version": "1.2.0",
          "state": {
            "_model_module": "@jupyter-widgets/base",
            "_model_module_version": "1.2.0",
            "_model_name": "LayoutModel",
            "_view_count": null,
            "_view_module": "@jupyter-widgets/base",
            "_view_module_version": "1.2.0",
            "_view_name": "LayoutView",
            "align_content": null,
            "align_items": null,
            "align_self": null,
            "border": null,
            "bottom": null,
            "display": null,
            "flex": null,
            "flex_flow": null,
            "grid_area": null,
            "grid_auto_columns": null,
            "grid_auto_flow": null,
            "grid_auto_rows": null,
            "grid_column": null,
            "grid_gap": null,
            "grid_row": null,
            "grid_template_areas": null,
            "grid_template_columns": null,
            "grid_template_rows": null,
            "height": null,
            "justify_content": null,
            "justify_items": null,
            "left": null,
            "margin": null,
            "max_height": null,
            "max_width": null,
            "min_height": null,
            "min_width": null,
            "object_fit": null,
            "object_position": null,
            "order": null,
            "overflow": null,
            "overflow_x": null,
            "overflow_y": null,
            "padding": null,
            "right": null,
            "top": null,
            "visibility": null,
            "width": null
          }
        },
        "2101770c83e742259f50f689b3f3adbb": {
          "model_module": "@jupyter-widgets/controls",
          "model_name": "DescriptionStyleModel",
          "model_module_version": "1.5.0",
          "state": {
            "_model_module": "@jupyter-widgets/controls",
            "_model_module_version": "1.5.0",
            "_model_name": "DescriptionStyleModel",
            "_view_count": null,
            "_view_module": "@jupyter-widgets/base",
            "_view_module_version": "1.2.0",
            "_view_name": "StyleView",
            "description_width": ""
          }
        },
        "c6b31b6c882341bcafe2a3b7dc1340ec": {
          "model_module": "@jupyter-widgets/controls",
          "model_name": "HBoxModel",
          "model_module_version": "1.5.0",
          "state": {
            "_dom_classes": [],
            "_model_module": "@jupyter-widgets/controls",
            "_model_module_version": "1.5.0",
            "_model_name": "HBoxModel",
            "_view_count": null,
            "_view_module": "@jupyter-widgets/controls",
            "_view_module_version": "1.5.0",
            "_view_name": "HBoxView",
            "box_style": "",
            "children": [
              "IPY_MODEL_54418c164fc74ceeab3b182fe4d4fbbb",
              "IPY_MODEL_d361bf4c703f4b52a6c4da4a3a60873b",
              "IPY_MODEL_bfa7140222bc44a9bc6fc13fe75cfafa"
            ],
            "layout": "IPY_MODEL_3a896acd0b924800b96f4968fc05786e"
          }
        },
        "54418c164fc74ceeab3b182fe4d4fbbb": {
          "model_module": "@jupyter-widgets/controls",
          "model_name": "HTMLModel",
          "model_module_version": "1.5.0",
          "state": {
            "_dom_classes": [],
            "_model_module": "@jupyter-widgets/controls",
            "_model_module_version": "1.5.0",
            "_model_name": "HTMLModel",
            "_view_count": null,
            "_view_module": "@jupyter-widgets/controls",
            "_view_module_version": "1.5.0",
            "_view_name": "HTMLView",
            "description": "",
            "description_tooltip": null,
            "layout": "IPY_MODEL_38f50a89c1a94b998c66bba33631b00d",
            "placeholder": "​",
            "style": "IPY_MODEL_e2b5530ab34841529192c6aa200c1f7c",
            "value": "Evaluate model on dataset:   0%"
          }
        },
        "d361bf4c703f4b52a6c4da4a3a60873b": {
          "model_module": "@jupyter-widgets/controls",
          "model_name": "FloatProgressModel",
          "model_module_version": "1.5.0",
          "state": {
            "_dom_classes": [],
            "_model_module": "@jupyter-widgets/controls",
            "_model_module_version": "1.5.0",
            "_model_name": "FloatProgressModel",
            "_view_count": null,
            "_view_module": "@jupyter-widgets/controls",
            "_view_module_version": "1.5.0",
            "_view_name": "ProgressView",
            "bar_style": "danger",
            "description": "",
            "description_tooltip": null,
            "layout": "IPY_MODEL_bd11af7e8881448696cae31088a848ac",
            "max": 28,
            "min": 0,
            "orientation": "horizontal",
            "style": "IPY_MODEL_efb9bfad4f954f6c8014405a688b0401",
            "value": 0
          }
        },
        "bfa7140222bc44a9bc6fc13fe75cfafa": {
          "model_module": "@jupyter-widgets/controls",
          "model_name": "HTMLModel",
          "model_module_version": "1.5.0",
          "state": {
            "_dom_classes": [],
            "_model_module": "@jupyter-widgets/controls",
            "_model_module_version": "1.5.0",
            "_model_name": "HTMLModel",
            "_view_count": null,
            "_view_module": "@jupyter-widgets/controls",
            "_view_module_version": "1.5.0",
            "_view_name": "HTMLView",
            "description": "",
            "description_tooltip": null,
            "layout": "IPY_MODEL_2671e9571b74484fb29526ba3e0b7d63",
            "placeholder": "​",
            "style": "IPY_MODEL_fc7676bedfbb460dbe4f503b6991191a",
            "value": " 0/28 [00:00&lt;?, ?it/s]"
          }
        },
        "3a896acd0b924800b96f4968fc05786e": {
          "model_module": "@jupyter-widgets/base",
          "model_name": "LayoutModel",
          "model_module_version": "1.2.0",
          "state": {
            "_model_module": "@jupyter-widgets/base",
            "_model_module_version": "1.2.0",
            "_model_name": "LayoutModel",
            "_view_count": null,
            "_view_module": "@jupyter-widgets/base",
            "_view_module_version": "1.2.0",
            "_view_name": "LayoutView",
            "align_content": null,
            "align_items": null,
            "align_self": null,
            "border": null,
            "bottom": null,
            "display": null,
            "flex": null,
            "flex_flow": null,
            "grid_area": null,
            "grid_auto_columns": null,
            "grid_auto_flow": null,
            "grid_auto_rows": null,
            "grid_column": null,
            "grid_gap": null,
            "grid_row": null,
            "grid_template_areas": null,
            "grid_template_columns": null,
            "grid_template_rows": null,
            "height": null,
            "justify_content": null,
            "justify_items": null,
            "left": null,
            "margin": null,
            "max_height": null,
            "max_width": null,
            "min_height": null,
            "min_width": null,
            "object_fit": null,
            "object_position": null,
            "order": null,
            "overflow": null,
            "overflow_x": null,
            "overflow_y": null,
            "padding": null,
            "right": null,
            "top": null,
            "visibility": null,
            "width": null
          }
        },
        "38f50a89c1a94b998c66bba33631b00d": {
          "model_module": "@jupyter-widgets/base",
          "model_name": "LayoutModel",
          "model_module_version": "1.2.0",
          "state": {
            "_model_module": "@jupyter-widgets/base",
            "_model_module_version": "1.2.0",
            "_model_name": "LayoutModel",
            "_view_count": null,
            "_view_module": "@jupyter-widgets/base",
            "_view_module_version": "1.2.0",
            "_view_name": "LayoutView",
            "align_content": null,
            "align_items": null,
            "align_self": null,
            "border": null,
            "bottom": null,
            "display": null,
            "flex": null,
            "flex_flow": null,
            "grid_area": null,
            "grid_auto_columns": null,
            "grid_auto_flow": null,
            "grid_auto_rows": null,
            "grid_column": null,
            "grid_gap": null,
            "grid_row": null,
            "grid_template_areas": null,
            "grid_template_columns": null,
            "grid_template_rows": null,
            "height": null,
            "justify_content": null,
            "justify_items": null,
            "left": null,
            "margin": null,
            "max_height": null,
            "max_width": null,
            "min_height": null,
            "min_width": null,
            "object_fit": null,
            "object_position": null,
            "order": null,
            "overflow": null,
            "overflow_x": null,
            "overflow_y": null,
            "padding": null,
            "right": null,
            "top": null,
            "visibility": null,
            "width": null
          }
        },
        "e2b5530ab34841529192c6aa200c1f7c": {
          "model_module": "@jupyter-widgets/controls",
          "model_name": "DescriptionStyleModel",
          "model_module_version": "1.5.0",
          "state": {
            "_model_module": "@jupyter-widgets/controls",
            "_model_module_version": "1.5.0",
            "_model_name": "DescriptionStyleModel",
            "_view_count": null,
            "_view_module": "@jupyter-widgets/base",
            "_view_module_version": "1.2.0",
            "_view_name": "StyleView",
            "description_width": ""
          }
        },
        "bd11af7e8881448696cae31088a848ac": {
          "model_module": "@jupyter-widgets/base",
          "model_name": "LayoutModel",
          "model_module_version": "1.2.0",
          "state": {
            "_model_module": "@jupyter-widgets/base",
            "_model_module_version": "1.2.0",
            "_model_name": "LayoutModel",
            "_view_count": null,
            "_view_module": "@jupyter-widgets/base",
            "_view_module_version": "1.2.0",
            "_view_name": "LayoutView",
            "align_content": null,
            "align_items": null,
            "align_self": null,
            "border": null,
            "bottom": null,
            "display": null,
            "flex": null,
            "flex_flow": null,
            "grid_area": null,
            "grid_auto_columns": null,
            "grid_auto_flow": null,
            "grid_auto_rows": null,
            "grid_column": null,
            "grid_gap": null,
            "grid_row": null,
            "grid_template_areas": null,
            "grid_template_columns": null,
            "grid_template_rows": null,
            "height": null,
            "justify_content": null,
            "justify_items": null,
            "left": null,
            "margin": null,
            "max_height": null,
            "max_width": null,
            "min_height": null,
            "min_width": null,
            "object_fit": null,
            "object_position": null,
            "order": null,
            "overflow": null,
            "overflow_x": null,
            "overflow_y": null,
            "padding": null,
            "right": null,
            "top": null,
            "visibility": null,
            "width": null
          }
        },
        "efb9bfad4f954f6c8014405a688b0401": {
          "model_module": "@jupyter-widgets/controls",
          "model_name": "ProgressStyleModel",
          "model_module_version": "1.5.0",
          "state": {
            "_model_module": "@jupyter-widgets/controls",
            "_model_module_version": "1.5.0",
            "_model_name": "ProgressStyleModel",
            "_view_count": null,
            "_view_module": "@jupyter-widgets/base",
            "_view_module_version": "1.2.0",
            "_view_name": "StyleView",
            "bar_color": null,
            "description_width": ""
          }
        },
        "2671e9571b74484fb29526ba3e0b7d63": {
          "model_module": "@jupyter-widgets/base",
          "model_name": "LayoutModel",
          "model_module_version": "1.2.0",
          "state": {
            "_model_module": "@jupyter-widgets/base",
            "_model_module_version": "1.2.0",
            "_model_name": "LayoutModel",
            "_view_count": null,
            "_view_module": "@jupyter-widgets/base",
            "_view_module_version": "1.2.0",
            "_view_name": "LayoutView",
            "align_content": null,
            "align_items": null,
            "align_self": null,
            "border": null,
            "bottom": null,
            "display": null,
            "flex": null,
            "flex_flow": null,
            "grid_area": null,
            "grid_auto_columns": null,
            "grid_auto_flow": null,
            "grid_auto_rows": null,
            "grid_column": null,
            "grid_gap": null,
            "grid_row": null,
            "grid_template_areas": null,
            "grid_template_columns": null,
            "grid_template_rows": null,
            "height": null,
            "justify_content": null,
            "justify_items": null,
            "left": null,
            "margin": null,
            "max_height": null,
            "max_width": null,
            "min_height": null,
            "min_width": null,
            "object_fit": null,
            "object_position": null,
            "order": null,
            "overflow": null,
            "overflow_x": null,
            "overflow_y": null,
            "padding": null,
            "right": null,
            "top": null,
            "visibility": null,
            "width": null
          }
        },
        "fc7676bedfbb460dbe4f503b6991191a": {
          "model_module": "@jupyter-widgets/controls",
          "model_name": "DescriptionStyleModel",
          "model_module_version": "1.5.0",
          "state": {
            "_model_module": "@jupyter-widgets/controls",
            "_model_module_version": "1.5.0",
            "_model_name": "DescriptionStyleModel",
            "_view_count": null,
            "_view_module": "@jupyter-widgets/base",
            "_view_module_version": "1.2.0",
            "_view_name": "StyleView",
            "description_width": ""
          }
        }
      }
    }
  },
  "nbformat": 4,
  "nbformat_minor": 5
}