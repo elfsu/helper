{
  "cells": [
    {
      "cell_type": "markdown",
      "metadata": {
        "id": "view-in-github",
        "colab_type": "text"
      },
      "source": [
        "<a href=\"https://colab.research.google.com/github/elfsu/helper/blob/master/notebooks/Unit%204%20-%20Multimodal%20Models/Clip_finetune.ipynb\" target=\"_parent\"><img src=\"https://colab.research.google.com/assets/colab-badge.svg\" alt=\"Open In Colab\"/></a>"
      ]
    },
    {
      "cell_type": "markdown",
      "id": "bf4ba8f5-ab09-434c-8165-15d766c2654e",
      "metadata": {
        "id": "bf4ba8f5-ab09-434c-8165-15d766c2654e"
      },
      "source": [
        "# CLIP transfer learning\n",
        "---\n",
        "## Introduction"
      ]
    },
    {
      "cell_type": "markdown",
      "id": "9206554a-f418-437f-9ca8-3b7a5852b0c5",
      "metadata": {
        "id": "9206554a-f418-437f-9ca8-3b7a5852b0c5"
      },
      "source": [
        "In this notebook we will look at how to fine-tune CLIP models for the [Oxford-pets](https://huggingface.co/datasets/pcuenq/oxford-pets) dataset.\n",
        "\n",
        "[CLIP](https://arxiv.org/abs/2103.00020), or Contrastive Language-Image Pre-training, is a multimodal model that combines language and vision to extract features from text and images. The resulting features are then projected into a common Euclidean space, allowing for meaningful comparisons between text and image features using the dot product.\n",
        "\n",
        "Normally, CLIP operates in zero-shot prediction mode or functions as a feature extractor. Consequently, fine-tuning CLIP diverges from the usual process, as seen in tasks like fine-tuning ResNet for classification. In our scenario, the model must acquire the most valuable features from both the input text and image data.\n",
        "\n",
        "Evaluating the quality of the features extracted remains an ongoing area of active research. One method employed for this assessment involves utilizing the extracted features to address the classification problem, either through the application of a [linear classifier probe](https://h2o.ai/wiki/probing-classifiers/) or adopting a zero-shot approach.\n",
        "\n",
        "---\n",
        "\n",
        "Let's start with importing necessary functions, libraries and environmental variables."
      ]
    },
    {
      "cell_type": "code",
      "source": [
        "!pip install evaluate\n",
        "!pip install datasets"
      ],
      "metadata": {
        "colab": {
          "base_uri": "https://localhost:8080/"
        },
        "id": "jnOhyfahNc5C",
        "outputId": "f415ef77-b094-4a3e-ea46-a2519585d32b"
      },
      "id": "jnOhyfahNc5C",
      "execution_count": 2,
      "outputs": [
        {
          "output_type": "stream",
          "name": "stdout",
          "text": [
            "Collecting evaluate\n",
            "  Downloading evaluate-0.4.3-py3-none-any.whl.metadata (9.2 kB)\n",
            "Collecting datasets>=2.0.0 (from evaluate)\n",
            "  Downloading datasets-3.3.1-py3-none-any.whl.metadata (19 kB)\n",
            "Requirement already satisfied: numpy>=1.17 in /usr/local/lib/python3.11/dist-packages (from evaluate) (1.26.4)\n",
            "Collecting dill (from evaluate)\n",
            "  Downloading dill-0.3.9-py3-none-any.whl.metadata (10 kB)\n",
            "Requirement already satisfied: pandas in /usr/local/lib/python3.11/dist-packages (from evaluate) (2.2.2)\n",
            "Requirement already satisfied: requests>=2.19.0 in /usr/local/lib/python3.11/dist-packages (from evaluate) (2.32.3)\n",
            "Requirement already satisfied: tqdm>=4.62.1 in /usr/local/lib/python3.11/dist-packages (from evaluate) (4.67.1)\n",
            "Collecting xxhash (from evaluate)\n",
            "  Downloading xxhash-3.5.0-cp311-cp311-manylinux_2_17_x86_64.manylinux2014_x86_64.whl.metadata (12 kB)\n",
            "Collecting multiprocess (from evaluate)\n",
            "  Downloading multiprocess-0.70.17-py311-none-any.whl.metadata (7.2 kB)\n",
            "Requirement already satisfied: fsspec>=2021.05.0 in /usr/local/lib/python3.11/dist-packages (from fsspec[http]>=2021.05.0->evaluate) (2024.10.0)\n",
            "Requirement already satisfied: huggingface-hub>=0.7.0 in /usr/local/lib/python3.11/dist-packages (from evaluate) (0.28.1)\n",
            "Requirement already satisfied: packaging in /usr/local/lib/python3.11/dist-packages (from evaluate) (24.2)\n",
            "Requirement already satisfied: filelock in /usr/local/lib/python3.11/dist-packages (from datasets>=2.0.0->evaluate) (3.17.0)\n",
            "Requirement already satisfied: pyarrow>=15.0.0 in /usr/local/lib/python3.11/dist-packages (from datasets>=2.0.0->evaluate) (17.0.0)\n",
            "Collecting dill (from evaluate)\n",
            "  Downloading dill-0.3.8-py3-none-any.whl.metadata (10 kB)\n",
            "Collecting multiprocess (from evaluate)\n",
            "  Downloading multiprocess-0.70.16-py311-none-any.whl.metadata (7.2 kB)\n",
            "Requirement already satisfied: aiohttp in /usr/local/lib/python3.11/dist-packages (from datasets>=2.0.0->evaluate) (3.11.12)\n",
            "Requirement already satisfied: pyyaml>=5.1 in /usr/local/lib/python3.11/dist-packages (from datasets>=2.0.0->evaluate) (6.0.2)\n",
            "Requirement already satisfied: typing-extensions>=3.7.4.3 in /usr/local/lib/python3.11/dist-packages (from huggingface-hub>=0.7.0->evaluate) (4.12.2)\n",
            "Requirement already satisfied: charset-normalizer<4,>=2 in /usr/local/lib/python3.11/dist-packages (from requests>=2.19.0->evaluate) (3.4.1)\n",
            "Requirement already satisfied: idna<4,>=2.5 in /usr/local/lib/python3.11/dist-packages (from requests>=2.19.0->evaluate) (3.10)\n",
            "Requirement already satisfied: urllib3<3,>=1.21.1 in /usr/local/lib/python3.11/dist-packages (from requests>=2.19.0->evaluate) (2.3.0)\n",
            "Requirement already satisfied: certifi>=2017.4.17 in /usr/local/lib/python3.11/dist-packages (from requests>=2.19.0->evaluate) (2025.1.31)\n",
            "Requirement already satisfied: python-dateutil>=2.8.2 in /usr/local/lib/python3.11/dist-packages (from pandas->evaluate) (2.8.2)\n",
            "Requirement already satisfied: pytz>=2020.1 in /usr/local/lib/python3.11/dist-packages (from pandas->evaluate) (2025.1)\n",
            "Requirement already satisfied: tzdata>=2022.7 in /usr/local/lib/python3.11/dist-packages (from pandas->evaluate) (2025.1)\n",
            "Requirement already satisfied: aiohappyeyeballs>=2.3.0 in /usr/local/lib/python3.11/dist-packages (from aiohttp->datasets>=2.0.0->evaluate) (2.4.6)\n",
            "Requirement already satisfied: aiosignal>=1.1.2 in /usr/local/lib/python3.11/dist-packages (from aiohttp->datasets>=2.0.0->evaluate) (1.3.2)\n",
            "Requirement already satisfied: attrs>=17.3.0 in /usr/local/lib/python3.11/dist-packages (from aiohttp->datasets>=2.0.0->evaluate) (25.1.0)\n",
            "Requirement already satisfied: frozenlist>=1.1.1 in /usr/local/lib/python3.11/dist-packages (from aiohttp->datasets>=2.0.0->evaluate) (1.5.0)\n",
            "Requirement already satisfied: multidict<7.0,>=4.5 in /usr/local/lib/python3.11/dist-packages (from aiohttp->datasets>=2.0.0->evaluate) (6.1.0)\n",
            "Requirement already satisfied: propcache>=0.2.0 in /usr/local/lib/python3.11/dist-packages (from aiohttp->datasets>=2.0.0->evaluate) (0.2.1)\n",
            "Requirement already satisfied: yarl<2.0,>=1.17.0 in /usr/local/lib/python3.11/dist-packages (from aiohttp->datasets>=2.0.0->evaluate) (1.18.3)\n",
            "Requirement already satisfied: six>=1.5 in /usr/local/lib/python3.11/dist-packages (from python-dateutil>=2.8.2->pandas->evaluate) (1.17.0)\n",
            "Downloading evaluate-0.4.3-py3-none-any.whl (84 kB)\n",
            "\u001b[2K   \u001b[90m━━━━━━━━━━━━━━━━━━━━━━━━━━━━━━━━━━━━━━━━\u001b[0m \u001b[32m84.0/84.0 kB\u001b[0m \u001b[31m2.3 MB/s\u001b[0m eta \u001b[36m0:00:00\u001b[0m\n",
            "\u001b[?25hDownloading datasets-3.3.1-py3-none-any.whl (484 kB)\n",
            "\u001b[2K   \u001b[90m━━━━━━━━━━━━━━━━━━━━━━━━━━━━━━━━━━━━━━━━\u001b[0m \u001b[32m484.9/484.9 kB\u001b[0m \u001b[31m9.8 MB/s\u001b[0m eta \u001b[36m0:00:00\u001b[0m\n",
            "\u001b[?25hDownloading dill-0.3.8-py3-none-any.whl (116 kB)\n",
            "\u001b[2K   \u001b[90m━━━━━━━━━━━━━━━━━━━━━━━━━━━━━━━━━━━━━━━━\u001b[0m \u001b[32m116.3/116.3 kB\u001b[0m \u001b[31m6.3 MB/s\u001b[0m eta \u001b[36m0:00:00\u001b[0m\n",
            "\u001b[?25hDownloading multiprocess-0.70.16-py311-none-any.whl (143 kB)\n",
            "\u001b[2K   \u001b[90m━━━━━━━━━━━━━━━━━━━━━━━━━━━━━━━━━━━━━━━━\u001b[0m \u001b[32m143.5/143.5 kB\u001b[0m \u001b[31m5.9 MB/s\u001b[0m eta \u001b[36m0:00:00\u001b[0m\n",
            "\u001b[?25hDownloading xxhash-3.5.0-cp311-cp311-manylinux_2_17_x86_64.manylinux2014_x86_64.whl (194 kB)\n",
            "\u001b[2K   \u001b[90m━━━━━━━━━━━━━━━━━━━━━━━━━━━━━━━━━━━━━━━━\u001b[0m \u001b[32m194.8/194.8 kB\u001b[0m \u001b[31m11.5 MB/s\u001b[0m eta \u001b[36m0:00:00\u001b[0m\n",
            "\u001b[?25hInstalling collected packages: xxhash, dill, multiprocess, datasets, evaluate\n",
            "Successfully installed datasets-3.3.1 dill-0.3.8 evaluate-0.4.3 multiprocess-0.70.16 xxhash-3.5.0\n",
            "Requirement already satisfied: datasets in /usr/local/lib/python3.11/dist-packages (3.3.1)\n",
            "Requirement already satisfied: filelock in /usr/local/lib/python3.11/dist-packages (from datasets) (3.17.0)\n",
            "Requirement already satisfied: numpy>=1.17 in /usr/local/lib/python3.11/dist-packages (from datasets) (1.26.4)\n",
            "Requirement already satisfied: pyarrow>=15.0.0 in /usr/local/lib/python3.11/dist-packages (from datasets) (17.0.0)\n",
            "Requirement already satisfied: dill<0.3.9,>=0.3.0 in /usr/local/lib/python3.11/dist-packages (from datasets) (0.3.8)\n",
            "Requirement already satisfied: pandas in /usr/local/lib/python3.11/dist-packages (from datasets) (2.2.2)\n",
            "Requirement already satisfied: requests>=2.32.2 in /usr/local/lib/python3.11/dist-packages (from datasets) (2.32.3)\n",
            "Requirement already satisfied: tqdm>=4.66.3 in /usr/local/lib/python3.11/dist-packages (from datasets) (4.67.1)\n",
            "Requirement already satisfied: xxhash in /usr/local/lib/python3.11/dist-packages (from datasets) (3.5.0)\n",
            "Requirement already satisfied: multiprocess<0.70.17 in /usr/local/lib/python3.11/dist-packages (from datasets) (0.70.16)\n",
            "Requirement already satisfied: fsspec<=2024.12.0,>=2023.1.0 in /usr/local/lib/python3.11/dist-packages (from fsspec[http]<=2024.12.0,>=2023.1.0->datasets) (2024.10.0)\n",
            "Requirement already satisfied: aiohttp in /usr/local/lib/python3.11/dist-packages (from datasets) (3.11.12)\n",
            "Requirement already satisfied: huggingface-hub>=0.24.0 in /usr/local/lib/python3.11/dist-packages (from datasets) (0.28.1)\n",
            "Requirement already satisfied: packaging in /usr/local/lib/python3.11/dist-packages (from datasets) (24.2)\n",
            "Requirement already satisfied: pyyaml>=5.1 in /usr/local/lib/python3.11/dist-packages (from datasets) (6.0.2)\n",
            "Requirement already satisfied: aiohappyeyeballs>=2.3.0 in /usr/local/lib/python3.11/dist-packages (from aiohttp->datasets) (2.4.6)\n",
            "Requirement already satisfied: aiosignal>=1.1.2 in /usr/local/lib/python3.11/dist-packages (from aiohttp->datasets) (1.3.2)\n",
            "Requirement already satisfied: attrs>=17.3.0 in /usr/local/lib/python3.11/dist-packages (from aiohttp->datasets) (25.1.0)\n",
            "Requirement already satisfied: frozenlist>=1.1.1 in /usr/local/lib/python3.11/dist-packages (from aiohttp->datasets) (1.5.0)\n",
            "Requirement already satisfied: multidict<7.0,>=4.5 in /usr/local/lib/python3.11/dist-packages (from aiohttp->datasets) (6.1.0)\n",
            "Requirement already satisfied: propcache>=0.2.0 in /usr/local/lib/python3.11/dist-packages (from aiohttp->datasets) (0.2.1)\n",
            "Requirement already satisfied: yarl<2.0,>=1.17.0 in /usr/local/lib/python3.11/dist-packages (from aiohttp->datasets) (1.18.3)\n",
            "Requirement already satisfied: typing-extensions>=3.7.4.3 in /usr/local/lib/python3.11/dist-packages (from huggingface-hub>=0.24.0->datasets) (4.12.2)\n",
            "Requirement already satisfied: charset-normalizer<4,>=2 in /usr/local/lib/python3.11/dist-packages (from requests>=2.32.2->datasets) (3.4.1)\n",
            "Requirement already satisfied: idna<4,>=2.5 in /usr/local/lib/python3.11/dist-packages (from requests>=2.32.2->datasets) (3.10)\n",
            "Requirement already satisfied: urllib3<3,>=1.21.1 in /usr/local/lib/python3.11/dist-packages (from requests>=2.32.2->datasets) (2.3.0)\n",
            "Requirement already satisfied: certifi>=2017.4.17 in /usr/local/lib/python3.11/dist-packages (from requests>=2.32.2->datasets) (2025.1.31)\n",
            "Requirement already satisfied: python-dateutil>=2.8.2 in /usr/local/lib/python3.11/dist-packages (from pandas->datasets) (2.8.2)\n",
            "Requirement already satisfied: pytz>=2020.1 in /usr/local/lib/python3.11/dist-packages (from pandas->datasets) (2025.1)\n",
            "Requirement already satisfied: tzdata>=2022.7 in /usr/local/lib/python3.11/dist-packages (from pandas->datasets) (2025.1)\n",
            "Requirement already satisfied: six>=1.5 in /usr/local/lib/python3.11/dist-packages (from python-dateutil>=2.8.2->pandas->datasets) (1.17.0)\n"
          ]
        }
      ]
    },
    {
      "cell_type": "code",
      "execution_count": 3,
      "id": "49753ed9-8db5-46a5-81fe-c72fb6448bcc",
      "metadata": {
        "id": "49753ed9-8db5-46a5-81fe-c72fb6448bcc"
      },
      "outputs": [],
      "source": [
        "import os\n",
        "import io\n",
        "import random\n",
        "from functools import partial\n",
        "from typing import Any\n",
        "import evaluate\n",
        "import matplotlib.pyplot as plt\n",
        "import matplotlib.image as mpimg\n",
        "import numpy as np\n",
        "import torch\n",
        "import torch.nn as nn\n",
        "from datasets import Dataset, DatasetDict, load_dataset\n",
        "from peft import LoraConfig, get_peft_model\n",
        "from PIL import Image\n",
        "from torch.utils.data import DataLoader\n",
        "from tqdm.notebook import tqdm\n",
        "from transformers import (CLIPImageProcessor, CLIPModel, CLIPProcessor,\n",
        "                          CLIPTokenizerFast, Trainer, TrainingArguments)\n",
        "from transformers.tokenization_utils_base import BatchEncoding\n",
        "from datasets.formatting.formatting import LazyBatch"
      ]
    },
    {
      "cell_type": "code",
      "execution_count": 4,
      "id": "5fddf114-a640-44c8-a9c1-b11341c8b3fd",
      "metadata": {
        "id": "5fddf114-a640-44c8-a9c1-b11341c8b3fd"
      },
      "outputs": [],
      "source": [
        "os.environ[\"CURL_CA_BUNDLE\"] = \"\"\n",
        "os.environ[\"TOKENIZERS_PARALLELISM\"] = \"false\"\n",
        "\n",
        "def seed_all(seed: int):\n",
        "    random.seed(seed)\n",
        "    torch.manual_seed(seed)\n",
        "    np.random.seed(seed)\n",
        "\n",
        "seed_all(69)"
      ]
    },
    {
      "cell_type": "markdown",
      "id": "9d8eee91-69ac-44f1-b867-09da69a64a86",
      "metadata": {
        "id": "9d8eee91-69ac-44f1-b867-09da69a64a86"
      },
      "source": [
        "### Exploratory Data Analysis on the Dataset"
      ]
    },
    {
      "cell_type": "markdown",
      "id": "1c424484-bb31-4848-9409-8f24cacb289e",
      "metadata": {
        "id": "1c424484-bb31-4848-9409-8f24cacb289e"
      },
      "source": [
        "We'll utilize the [🤗datasets](https://huggingface.co/docs/datasets/index) library to load the [Oxford-pets](https://huggingface.co/datasets/pcuenq/oxford-pets) dataset, comprising 37 pet categories (primarily dogs and cats) with a total of 7,390 images.\n",
        "\n",
        "Since the dataset exclusively consists of the training portion, we'll proceed to partition it into training, validation, and test sets."
      ]
    },
    {
      "cell_type": "code",
      "execution_count": 45,
      "id": "ce3cd09d-2fc9-45d3-aa1e-1c80fc6681af",
      "metadata": {
        "id": "ce3cd09d-2fc9-45d3-aa1e-1c80fc6681af"
      },
      "outputs": [],
      "source": [
        "dataset = load_dataset(\"pcuenq/oxford-pets\")\n",
        "dataset_train_val = dataset['train'].train_test_split(test_size=0.3)\n",
        "dataset_val_test = dataset_train_val['test'].train_test_split(test_size=0.2)\n",
        "\n",
        "dataset = DatasetDict(\n",
        "    {\n",
        "        \"train\": dataset_train_val['train'],\n",
        "        \"val\": dataset_val_test['test'],\n",
        "        \"test\": dataset_val_test['train']\n",
        "    }\n",
        ")"
      ]
    },
    {
      "cell_type": "code",
      "execution_count": 32,
      "id": "af81bbc1-f17f-450d-9ae0-f8a57680eb1c",
      "metadata": {
        "colab": {
          "base_uri": "https://localhost:8080/"
        },
        "id": "af81bbc1-f17f-450d-9ae0-f8a57680eb1c",
        "outputId": "0db7e52f-1a07-4e88-e3c0-44d998f5adc1"
      },
      "outputs": [
        {
          "output_type": "execute_result",
          "data": {
            "text/plain": [
              "DatasetDict({\n",
              "    train: Dataset({\n",
              "        features: ['path', 'label', 'dog', 'image', 'input_ids', 'attention_mask', 'label_id'],\n",
              "        num_rows: 5173\n",
              "    })\n",
              "    val: Dataset({\n",
              "        features: ['path', 'label', 'dog', 'image', 'input_ids', 'attention_mask', 'label_id'],\n",
              "        num_rows: 444\n",
              "    })\n",
              "    test: Dataset({\n",
              "        features: ['path', 'label', 'dog', 'image', 'input_ids', 'attention_mask', 'label_id'],\n",
              "        num_rows: 1773\n",
              "    })\n",
              "})"
            ]
          },
          "metadata": {},
          "execution_count": 32
        }
      ],
      "source": [
        "dataset"
      ]
    },
    {
      "cell_type": "markdown",
      "id": "52544e43-a02b-416f-94e5-3221f4d23a41",
      "metadata": {
        "id": "52544e43-a02b-416f-94e5-3221f4d23a41"
      },
      "source": [
        "An individual item in the dataset consists of the following attributes:\n",
        "\n",
        "- **path**: A string representing the image file path.\n",
        "- **label**: A string denoting the pet category.\n",
        "- **dog**: A boolean value; True if the image features a dog.\n",
        "- **image**: A PIL image representing the dataset image.\n",
        "\n",
        "However, for our purposes, we will exclusively utilize the **label** and **image** columns."
      ]
    },
    {
      "cell_type": "code",
      "execution_count": 34,
      "id": "dd3c8fd1-d217-4ede-a3b0-64f627f30878",
      "metadata": {
        "colab": {
          "base_uri": "https://localhost:8080/"
        },
        "id": "dd3c8fd1-d217-4ede-a3b0-64f627f30878",
        "outputId": "f7f98b42-4616-4a8e-ae24-f79319ef4bce"
      },
      "outputs": [
        {
          "output_type": "execute_result",
          "data": {
            "text/plain": [
              "{'path': '/data/datasets/magic-ml/oxford-iiit-pet/images/newfoundland_21.jpg',\n",
              " 'label': 'newfoundland',\n",
              " 'dog': True,\n",
              " 'image': {'bytes': b'\\xff\\xd8\\xff\\xe0\\x00\\x10JFIF\\x00\\x01\\x01\\x00\\x00\\x01\\x00\\x01\\x00\\x00\\xff\\xdb\\x00C\\x00\\x08\\x06\\x06\\x07\\x06\\x05\\x08\\x07\\x07\\x07\\t\\t\\x08\\n\\x0c\\x14\\r\\x0c\\x0b\\x0b\\x0c\\x19\\x12\\x13\\x0f\\x14\\x1d\\x1a\\x1f\\x1e\\x1d\\x1a\\x1c\\x1c $.\\' \",#\\x1c\\x1c(7),01444\\x1f\\'9=82<.342\\xff\\xdb\\x00C\\x01\\t\\t\\t\\x0c\\x0b\\x0c\\x18\\r\\r\\x182!\\x1c!22222222222222222222222222222222222222222222222222\\xff\\xc0\\x00\\x11\\x08\\x01M\\x01\\xf4\\x03\\x01\"\\x00\\x02\\x11\\x01\\x03\\x11\\x01\\xff\\xc4\\x00\\x1f\\x00\\x00\\x01\\x05\\x01\\x01\\x01\\x01\\x01\\x01\\x00\\x00\\x00\\x00\\x00\\x00\\x00\\x00\\x01\\x02\\x03\\x04\\x05\\x06\\x07\\x08\\t\\n\\x0b\\xff\\xc4\\x00\\xb5\\x10\\x00\\x02\\x01\\x03\\x03\\x02\\x04\\x03\\x05\\x05\\x04\\x04\\x00\\x00\\x01}\\x01\\x02\\x03\\x00\\x04\\x11\\x05\\x12!1A\\x06\\x13Qa\\x07\"q\\x142\\x81\\x91\\xa1\\x08#B\\xb1\\xc1\\x15R\\xd1\\xf0$3br\\x82\\t\\n\\x16\\x17\\x18\\x19\\x1a%&\\'()*456789:CDEFGHIJSTUVWXYZcdefghijstuvwxyz\\x83\\x84\\x85\\x86\\x87\\x88\\x89\\x8a\\x92\\x93\\x94\\x95\\x96\\x97\\x98\\x99\\x9a\\xa2\\xa3\\xa4\\xa5\\xa6\\xa7\\xa8\\xa9\\xaa\\xb2\\xb3\\xb4\\xb5\\xb6\\xb7\\xb8\\xb9\\xba\\xc2\\xc3\\xc4\\xc5\\xc6\\xc7\\xc8\\xc9\\xca\\xd2\\xd3\\xd4\\xd5\\xd6\\xd7\\xd8\\xd9\\xda\\xe1\\xe2\\xe3\\xe4\\xe5\\xe6\\xe7\\xe8\\xe9\\xea\\xf1\\xf2\\xf3\\xf4\\xf5\\xf6\\xf7\\xf8\\xf9\\xfa\\xff\\xc4\\x00\\x1f\\x01\\x00\\x03\\x01\\x01\\x01\\x01\\x01\\x01\\x01\\x01\\x01\\x00\\x00\\x00\\x00\\x00\\x00\\x01\\x02\\x03\\x04\\x05\\x06\\x07\\x08\\t\\n\\x0b\\xff\\xc4\\x00\\xb5\\x11\\x00\\x02\\x01\\x02\\x04\\x04\\x03\\x04\\x07\\x05\\x04\\x04\\x00\\x01\\x02w\\x00\\x01\\x02\\x03\\x11\\x04\\x05!1\\x06\\x12AQ\\x07aq\\x13\"2\\x81\\x08\\x14B\\x91\\xa1\\xb1\\xc1\\t#3R\\xf0\\x15br\\xd1\\n\\x16$4\\xe1%\\xf1\\x17\\x18\\x19\\x1a&\\'()*56789:CDEFGHIJSTUVWXYZcdefghijstuvwxyz\\x82\\x83\\x84\\x85\\x86\\x87\\x88\\x89\\x8a\\x92\\x93\\x94\\x95\\x96\\x97\\x98\\x99\\x9a\\xa2\\xa3\\xa4\\xa5\\xa6\\xa7\\xa8\\xa9\\xaa\\xb2\\xb3\\xb4\\xb5\\xb6\\xb7\\xb8\\xb9\\xba\\xc2\\xc3\\xc4\\xc5\\xc6\\xc7\\xc8\\xc9\\xca\\xd2\\xd3\\xd4\\xd5\\xd6\\xd7\\xd8\\xd9\\xda\\xe2\\xe3\\xe4\\xe5\\xe6\\xe7\\xe8\\xe9\\xea\\xf2\\xf3\\xf4\\xf5\\xf6\\xf7\\xf8\\xf9\\xfa\\xff\\xda\\x00\\x0c\\x03\\x01\\x00\\x02\\x11\\x03\\x11\\x00?\\x00\\xd4\\x92\\xec\\xc5\\x1b\\xf9Q\\xc8\\xeb\\xb3;z\\xe4\\xe3=~\\xb5T\\xdf\\x82#\\xff\\x00B\\xb9\\x85\\x81\\xce\\xd2\\xbb\\x80\\xe4\\x7f\\x8e\\x7f\\x03W\\x0ca\\x81\\xc1\\x86U\\xf3pD\\xccJ\\xa8=\\t\\xa5\\x0f\\x12JS\\xc9\\xde\\x07;\\xe3\\'\\x93\\x9e\\xe7\\xfaW\\x99`V\\xee=\\xd5\\xe3\\x01\\xf0K1!X\\x0f\\xeb\\xf5\\xa8\\xf0\\xcb0b\\xac\\xf1\\xc7\\xc8!\\xb0\\x1b\\xd4g\\xd3\\xde\\x99\\x1cA\\x94:&\\xdc\\x8f\\x98\\x99K`\\x1fL\\x9a\\x93\\xf7\\x8e\\xac\\x12E\\xda03 \\xeb\\xd8\\xe2\\x99V\\xea;\\xf7~[\\xccx }\\xd08#\\xd8u\\xff\\x009\\xa7\\xc4\\x15G\\x96\\x8eA<\\xae\\xf0y \\xe7\"\\xa1y$\\x85B\\x96\\xdc\\xd8\\xcb\\x04\\x1d\\xa8@dVQ\\x83\\xf2\\xf1\\xbc\\x83\\x9c\\xf5\\xe3>\\x94\\x03V$\\x06/1\\xdaD9?\\xc4\\x17\\x9fn(\\x0e\\xb2\\xaa\"\\xe1Z1\\xddq\\x9c\\xf5\\xe7\\xbf\\xd2\\x90DP\"\\x87\\x93j/\\x04\\x9e\\xbe\\xdfZ\\x96 \\x80\\x9f2]\\xab\\x9d\\xb8\\x0b\\xc0\\xef\\xf9\\xe6\\x80\\xd0\\xaf(*\\xab\\xe73n\\xc8i0\\xa7\\x91\\x9e\\xde\\xf4\\xdd\\xaa\\x9b\\xe2xca\\x93\\xf3\\x02y\\xcf|T\\xb3\\x1cp\\x11\\x8at\\xdc\\xaeO?C\\xfe4\\x8b$\\xab\\x112BP\\xa8\\xfb\\xec\\x87\\xfe\\xf9\\x1csE\\xc5\\xa0\\x825[\\x83!*\\xab\\xc8PG\\'\\xe9\\x93SF\\x1e3\\x86\\x91\\x06\\xefA\\x8c\\xfb\\x83\\xdb\\xe9P\\xcf4A\\x1cH\\xdc\\xa1\\x04\\x1e\\xde\\xdcu\\xcd8\\xaaF\\x8a\\x06r\\x1b\\xee\\xe78\\xff\\x00&\\x8d\\x05tJ\\xf7\\x01\\xe4\\x08cPq\\x82\\xc3\\xf8}\\r 1\\xbb\\x08\\xc0\\xc1\\r\\x8c\\x0e\\x9dz\\x9fzY6E\\x13JH\\xdb\\x9e\\xa4\\xe0\\x1c\\xf7\\'\\xebP\\xa2H\\x83y1!\\xf3\\x01\\xda\\x06\\x15\\x80\\xe9\\xc7\\x7f\\xc2\\x95\\x90h;\\xec\\xc5B\\xaamr\\x85\\xf2\\x18`\\x80}=\\xb1U\\x1c3\\xc0\\x14\\xa3\\x8e\\x80pN\\xde\\xff\\x00J\\xbf\\xe5\\xed\\x91\\x9b\\xe42g\\x043n\\x1c\\x7f\\xb2{R\\x18\\xa5/\\xb8\\xc8\\xccK\\r\\xc8\\x8a9\\x1d\\xc7\\xd2\\x81\\xdb\\xc8b\\xbe\\xc8\\xd4\\xc8\\xb1\\xb3\\x80vs\\xc7\\xe2)\\x0c\\xce\\x15\\xa4\\x95\\xbc\\xd2W\\x85\\'\\x19\\xfa\\x11\\xedO\\x95A*\\xdb\\x1c\\xe7vI\\x19\\xcf\\xaf?Z\\x86)!\\x90\\xc4\\xb2F\\xee\\x03\\xe7\\xe6\\x1b@?L\\xd2%\\xc5\\x0e\\x84:\\xcc\\x92H\\xa1-\\xf2z\\x12q\\xed\\x9e\\xfcz\\xd4\\x93D\\x9b\\x81\\x12Fc\\xc6IU\\xed\\xe8M8\\x14\\x96U\\x90\\x86\\x8dd!\\x82\\xa3\\x1e\\x07A\\xf2\\x9f\\xc6\\x9b%\\xaf\\xda\\x0c\\xaa\\x92\\xaf\\x93\\x1bn]\\xc0)\\xc5\\x16\\x15\\x88fE\\x99\\xddv)\\x01wa\\xb8\\x18\\xfa\\xd3\\x15\\xa4%\\xd5!\\x0e\\xa0\\xe3{\\x0c\\x04\\xfa\\n\\x9e8Y\\x99\\xa1\\x93\\x95\\xdb\\xb9\\x89\\xe4\\x9fE\\xa6\\x11\\x1c\\x99\\n\\xed\\x85!x|}x\\xef\\xfd(\\xb0\\x9a \\x89cVenYA\\xc8\\x07<\\x9a\\x96X\\x8f\\x91\\xf2\\xf9\\x8a\\xfc\\x82\\x01\\x07?\\x855-\\xb3*\\xee\\x01[!I\\x18\\xf9E:\\xe2\\xdd\\xa3\\x992Bd\\xfc\\xdb\\x9b\\x91\\x8f\\xa5;\\n\\xccX\\xa3hB\\xef\\xe4(\\x0b\\x8c\\x0e\\xa7\\xff\\x00\\xadN\\x7f8\\x0c&\\xd6\\x1bx%\\xb3\\x8flSM\\xc0m\\xc4\\xc5\\xc3\\xaev\\xf3\\x91\\xe8M07\\xef\\x1b%\\x9c\\xa8\\xe4?\\xcb\\xcf\\xb7\\xa5+\\r+\\x0c\\x8c\\xb0$mE\\x93\\xef\\x15\\xec~\\x954\\xb3\\xdcJU\\x00$.\\x08 p\\xc7\\xda\\xa2\\xdb\\x12\\xca\\xc5\\x8c\\x81\\xd4\\xe0`g\\x1e\\xd9\\xa5\\x11\\xec\\x04B\\xe7\\x9f\\x99\\x89\\xc9\\xc7\\xad\\x17hm\\xb4\\xadq\\xb0\\xa3H\\xd2\\xb3\\xc4!\\x98\\xb6\\xe3\\xbb\\x95ns\\xd7\\xd7\\x9a\\xa8\\xfa\\x1e\\x9by\\x1b}\\xa6\\xca\\x19\\xe79\\x8f\\xfdV\\x07<\\x83\\x9e9\\xf7\\xf4\\xabA\\xa4\\x95\\x88\\xc3\\x10\\xa3\\x91\\x8c\\x0e:T\\x9eS\\xab\\x1c;\\x91\\x82\\x08U\\xc9\\x1e\\xff\\x00ZjR\\x1a\\x9c\\xcc\\x11\\xe1\\x0b#$k\\r\\xe5\\xdd\\xa3\"a\\x9e\\x0b\\x8c\\x83\\x8e\\xdc\\xf5\\xac\\xe9\\xf4\\xbdf\\xcd\\x91\\xado\\xad\\xaf\\x07\\x9ccE\\x9e=\\xacp~\\xf6\\xe0?\\xce+\\xac\\xf2\\xca0\\x01\\xce\\x08\\x00\\x02\\xb8+\\xeb\\xfd*\\x19-\\xda4\\x80*\\x94e\\xcb\\r\\xa7\\x8fR}\\xea\\xd5V\\x86\\xa5c\\x98\\xbe\\x9bX\\x8d$K\\xed.\\xe5\\x80\\x19/g7\\x98\\x14z\\xf4\\x15\\x0e\\x9f\\xe2\\x8bh\\x168M\\xf3\\xc6\\x14d\\xf9\\xdb\\xd7w\\xd4\\xf3]\\x9a\\xdb\\xb1I\\xb6\\xb9\\x121\\xdaK\\xa9\\x18\\x18\\xe3\\xfa\\xd1{\\xa6\\xc7:[E%\\xa4S\\xc7\\x1fwE`>\\\\p\\rh\\xaa&\\xb55N\\xe5x<HdBlg\\x85\\x95\\x80\\xc9\\x8d\\x84\\x99\\xfdi[Zu\\x90\\xac\\xdap\\x95;\\x90\\xdbwzqY\\x93x+D\\xb8\\xb1\\xb9alR\\xe43\\x18\\xe4\\x8aL\\x14<t\\x19\\xc6=\\xa9\\xbf\\xf0\\x86\\xdc\\xdbO\\x14Z~\\xbd\\xa8C\\xbe\"\\xcc&\\x1e`V\\x04c\\x1d8\\xabM\\x05\\x8d\\xf8u\\xcbIL\\x85\\xed\\xae\\xd1\\xdb\\xa0e\\x07\\xa0\\xc7Z[[\\xcb\\x06\\xbc\\x19\\xbbDrI\\xd9!\\xd8}\\xba\\xd7\\x1dz|Y\\x03<\\x11\\xf9:\\x94PH\\xc8K&\\xd2}\\xc0\\xc8\\xff\\x00\"\\xab\\xbd\\xe6\\xa3\\x0c\\x86\\x1b\\xff\\x00\\x0f\\xdc\\xab\\x14\\xdf\\x88\\x18H\\xae:\\x13\\xf8}i\\xdd\\x06\\x96=6\\x06B]\\x16x$TA\\x81\\x1b\\x82W\\xeb\\xefY\\xa8\\x86[\\xc9\\x86?\\xc6\\xb2\\xbc\\x15wm{4\\xab\\x12\\xca\\x8a\\x91\\x16\\xd8\\xe9\\x8cs\\x8e\\xbc\\x8f\\xc35\\xadv\\xef\\x05\\x94\\xf3\\xc2?xH\\t\\x83\\xcfZ\\x1b\\xb2.*\\xe2\\xea\\xf9\\xf2\\x1c\\xeee>R\\x94*\\x01\\xc9=\\x01\\xac\\xf5\\x87\\xf7p\\x828\\x1d8\\xefU\\x1fW\\xb9\\xf3\\xb6\\xcf\\x1aH\\xc7\\x9c\\x9f\\x9754>\"\\xb2}\\xa8\\xe9\\xf3\\xa3|\\xc1\\x1c61\\xedB\\xbfAM;\\x9a\\xf3\\xca\\xa0\\xf9b5\\xdc\\x11\\xd8\\xc9\\xb7\\xa0\\x03\\xa5T\\x8dK$i\\x8e\\x8c\\xa4\\xfe\\x02\\x84\\xd4\\xb4\\xf9\\xde_\\xf4\\x85M\\xe8@\\xdc\\x08\\xe4\\xf6\\xabP\\xaa<`\\xa3\\x06\\xc6NC\\x03U\\xb9\\x1dF\\xcdl\\xd20\\x9b\\x18UU_\\xc4\\x9a\\xb10\\xddt\\xa8z\\x82}\\xbd\\xaaM\\xb2\\x9b\\xd4\\x82&(\\x81\\x94\\xb8\\xc7\\xde\\xc7aQ\\x88\\xcc\\x9a\\xb1\\'\\xee\\xa7\\x18>\\xe7\\xff\\x00\\xadH/\\xa1\\x06\\xb4\\x89s<Q6\\xef)\\x1b$\\x0e\\xdbFM3n \\xdb\\x95\\xce\\xc5\\x00\\x13\\xc9\\xc9\\xf4\\xa8u\\\\\\xfd\\xb2(\\xc0%\\\\\\xb1\\x7f\\xd7\\x1f\\xad^x\\x08HW\\x19n\\x088\\xc7\\x18\\xa7r\\x96\\xc3/a\\x11\\xdeE\\x08#%T0\\x1d\\xbb\\xd42F<\\xae\\t\\xc2\\r\\xc3=\\xf1M\\x8e)#\\xd5\\x1by\\'\\x0c\\xed\\xd7\\xd0T\\xb9>T\\xa7\\x19\\n\\x9c\\x01\\xdc\\xd0\\xf6\\x11N\\xd1\\x0cz\\\\\\x08\\xe3$\\xe7p\\xfa\\x92j\\xe3\\xfc\\x91\\x0f\\x9c\\x80\\x08\\xda\\x07z\\x82Va\\x1c\\x11\\x1cd\\xba\\x93\\xed\\xebS\\\\\\x9c\\xaa\\x13\\x901\\xd0\\x8a\\x99=\\n\\x82\\xbc\\x8a\\xfb\\x7fx\\x01\\xef\\xce*+\\xcc4\\xf3\\x8f\\xee\\'~\\x9c\\xd4\\xa8\\t\\x95W\\xa1\\xcfZ\\x8a\\xe4,\\x9ex=|\\xc0\\x07\\xbfAD\\r&?F\\x8c5\\xf4\\xae\\xcb\\xbc\\x07Q\\x82p\\x08P8\\xab\\x9a\\xcc\\xa2\\xda\\x19\\xae\\xa2\\\\\\x15\\xcba:g\\xa6*-\\x1d\\x01\\xb7\\x12g&I\\x18\\x93\\xe9\\xf3\\x7f\\xf5\\xaa\\xf4\\xd1G\\x1d\\xc0IP\\xb4n\\xfc\\x801\\xf5\\xaa\\xe8d\\xf7(i\\xd1M\\x15\\x8cr\\xb0;\\xa5\\xfd\\xe3.s\\x9c\\xf4\\xcdl]!\\x80G\\x19\\x00aK\\x1ej\\x8d\\xa4\\x07\\x01\\x15\\xce7\\x80:p3\\xe9\\xf4\\xa5\\x96F\\x0b1f%T2\\xae\\x7f\\xba:U\"\\x19N\\xd1\\xb3\\x14\\xc0\\x01\\xcb\\xe7#\\x9e\\xd55\\xe4\\xab\\x1e\\x953d\\x8c\\xba\\x83\\xc7`\\t\\xe3\\xf3\\xaa\\xd0\\x02m-\\x90\\x0c\\x03\\x96l\\x7f\\x17\\xa6j]E\\xcf\\xd9a\\x8d[9w\\x00\\x11\\x9e\\xa0d\\x8fN\\x95Qz\\x83\\xd8\\xbbm\\x1aC\\x1c\\x92\\'\\xcc\\xdc.\\xe1\\xd3\\x00\\x1f\\xeak\\x06I\\x01\\xd4u\\'\"><\\xa82\\x1b\\x9c\\x05\\xc9\\x07\\xd3\\xefV\\xf5\\xa4b+\\x16\\xcb\\x16/\\x96\\xe7\\xb6p+\\x9c\\xd4b\\x9a)\\x95\\x0b#\\xb4\\xd7{\\xfeU\\xe8\\xbd\\x81\\xf5 \\x0e\\xb4\\xa4\\xc7\\x12\\xc2\\xe8\\xf2\\xeb\\x12\\xcd,lv\\xc4\\xc2!\\x84\\xcfE\\x04\\xfe\\xa6\\x8a\\xbf\\xa6\\xa4\\xb6\\xe9q\\xe6\\xb1\\xcc\\x93\\xbb\\x81\\x9e\\x8b\\xd0~\\x82\\x8ad4\\xdb!\\x81C\\xe64\\x12\\x81\\xbc\\x82\\xdbv\\xae\\xef\\xaf\\xf8\\xd4s\\xdd:\\xc3\\xb66W\\x92#\\x8c\\xa7\\xcb\\xc7Rr\\x7f\\x9d#[7\\x93\\x17\\x92\\xb3\\xfc\\xef\\xf3\\x80\\xc7\\'\\'\\xf8I\\x1ds\\x8f\\xa5L\\xe5m`h>M\\xfb\\x89\\x97\\xa3y\\xad\\xf5\\xc0\\xc9\\xfd:\\xd7\\x9db\\x1a\\x15/s\\x1b?\\x98#\\xce\\x03s\\x92q\\xdc}\\x07\\xf3\\xa9~dB\\xa4\\xbb,\\x80\\x1c\\xf9\\x99$\\xfa\\xe7\\xb9\\xf6\\xf7\\xaa{ \\x8a\\xe7\\xf7\\x85\\xbc\\xb2\\x06\\xf2\\x83\\x96=q\\x81\\xdf\\xd8T\\xb1\\xea17\\x94-\\xe3\\x91CH\\xf1\\xaaH\\xbbIe\\x19\\xda\\xc4\\x9e3\\x82)7\\xdc6\\xd0\\xb7\\x05\\xfc1\\xc6\\xf2\\x0c\\x828*Fv\\xfb\\xe2\\x9dp\\xe9\\x1a\\xc7\\x93\\xb5\\x02\\x16\\xf5,:`\\xe3\\xbf\\xb5P\\xb4\\xbc\\x176\\x8a.\\x90\\xd9\\xcf\\x8ebf\\r\\xb4}{\\x0e\\xd8<\\xd4\\x91K\\x1aZE3~\\xe9\\x17\\x80\\x92\\x1eA\\'\\x8c\\x80i\\x8e\\xe5\\x86k\\x9f%Z-\\xbb\\xc0\\x05\\xbe|\\xed\\xf7\\x1e\\xb5\\x1c\\x9cH\\xecZG\\xdf\\xd3 \\x12H\\xea~\\xb4\\xbeE\\xca\\xc9\\x1e\\xeb\\xa4\\x8dpK(\\xe79\\xe8\\x07\\xb6i\\x8b<P)?hE#\\xef4\\x84\\x9e{\\x9c\\x8c\\xe2\\x9d\\x87mK.\\x8a\\x13~\\x1a6a\\x82\\xac\\xbc\\x85\\xf4\\x19\\xefPG\\xa6\\xc1\\x80\\xd1\\xbb.\\xc3\\xb5r\\xed\\xc0\\x15,\\x88\\xb7\\x83\\xcc\\xfbIB\\x99\\xd8O \\x0e\\x9e\\xddE>8\\xd8E\\xb5f\\x8d\\x81n\\x0e\\xdc`\\xfe?\\xe742\\xad\\xe4!>[\\x16\\xda]\\xf2>f\\x18\\xc8\\xed\\x8a\\x89\\xbc\\xb1\\xb9\\xb7\\x90\\xce6\\xb0\\xc6x\\xf6\\x15;\\xb3@\\xad\\x1ck\\x19\\xf3J\\xab\\x97\\xc1\\xc2\\x8fN\\xf9\\xf7\\xaa\\xb0\\xca\\x17\\xcd\\xcd\\x9c\\x99\\r\\xc8\\t\\xb8\\xb7\\xa7>\\x9e\\xd4\\xafa7\\xe4:{%\\xb8dR]\\xa3\\x1f6\\x07B\\x7f:\\x92[A\\x85e\\x96\\\\/\\xce\\x02ub\\x069=\\xaa?\\xb4Oud\\xa6\\x14Ub\\xfd\\x1eB\\x81\\x08\\xe4\\xe1\\xb1\\x9c\\xfd\\x06*u\\x91\\xa3\\x9bh\\x95\\xb2\\xdc\\xe3 n\\xf5\\xe3\\xae3\\xe9Bi\\xe8%\\xca\\xc8\\xa3U-\\xc2\\x08\\xd6A\\x808\\xc61\\xd0\\xf7\\x1f\\xe3V\\xdeI\\x15\\x80\\xb6\\xc9`@\\xc3(\\x00!\\xf6\\xedP\\xce\\x93\\x9b\\x85fd(\\xd9\\x0c\\xae\\x07\\x07\\xd7\\xad#\\xa3n>`\\r\\x19\\x00\\xb1\\xdb\\x91\\xf9g4\\xca\\xb2\\x1d\\xf6\\x89\\xd1\\xd4y/\\x8c\\xe3\\xe5\\xdb\\x83\\xed\\xedJ\\x93\\xc7\\x1c\\x8e\\x02n \\x15\\x19Rp}}\\xfd\\x85R\\xb2yg3+\\xdb\\xbd\\xbe\\xc9\\xbc\\xa2\\xd9;J\\x0eC(\\xeeq\\xc5=\\x989\\xf3V7\\x08\\xa5\\xb6\\x16%I\\x1c\\x8eA\\x19\\xa5q^\\xea\\xc3\\x95\\x9cO\\x85*~L\\x86\\'\\x18\\xfa\\x8aUvi<\\x91\\x1a,\\xb8?\\xbb\\xc9S\\xc79\\xe9\\x83\\x81\\xf4\\x14\\xdba\\xf2\\xfe\\xf2i\\x9dT\\xeeEo\\xd0g\\xb7>\\x94\\xd6K\\xa0\\xe3n\\xe0\\xb2\\x1eP0\\x00\\x8e\\xbc\\xe7\\xa5!?\"\\xc1\\x99\\xa2\\x9b\\xce\\x7f\\x96&\\xc0L\\x0c\\x0f\\xae{\\xd4\\xdebI\\'\\x98bR\\x00\\xf9G\\xf7\\x7f\\xad4I$l\\x93\\xcd\\x1b\\x17U\\x07km8_a\\x9cv\\xf5\\xa6\\xdb\\xde\\x17\\x0c\\x18+\\xb1\\x04\\xc8\\xe0\\x80w\\x13\\xdf\\xf0\\xa65\\xb8\\xae\\xb1n\\x7f\\x91\\x9bo\\xf7;~\\x14\\xd7\\x1b\\x19Y6\\x10\\xc7\\xa6\\x06A?\\xc8\\xd3\\x9dU\\xd3dM\\xcfM\\xc4cw\\xae*6Y\\x03\\xee\\x01\\x9bp\\xf9\\x94.\\x0b\\x11\\xf5\\xa6U\\x84{8\\xdc\\x84\\x91|\\xc2\\xa7\\x18f\\xc0\\xe9\\xc1\\xfa\\xd3\\x92\\xdd\\x98;a\\x18\\xa7\\xcd\\xbb#\\x8c\\x0e\\xd4\\xf4b\\x0e\\x0cG\\xcb\\xc1\\xc1\\x00\\x03\\x91\\xdb\\x1d\\xbf:|s\\xc7\\x1b4,\\xa4\\xeeLp3\\x8f\\xc7\\xbf\\xad\\x02v3\\xd9L[@\\x92F/\\xc1\\xdc\\x07\\x04\\xf7\\xff\\x00\\xeb\\xd3\\xa1\\x84E\\x80K>y\\xe1rs\\xf9\\xd5\\xbf$n\\xc6>A\\xd3\\x9c1\\xff\\x009\\xebC\\xc7\\nD\\xe3&\\'\\x1c\\x90O\\x00PJZ\\x95\\xe2\\x94\\x00S;\\x10\\r\\xc5X`s\\xed\\xebK+\\xca\\xe8\\xcc\\x9b\\x0e\\xc5\\xf9H\\xf6\\xe9\\x93\\x9e*F\\x0e\\xee@*\\xe1\\x07\\xcd\\xce>\\x9dzRH?xQ\\xa0)\\xf2\\x8f\\x991\\xf9\\x0c\\x8f\\xd6\\x91Ka\\x04\\x90\\x90\\x9exh\\xd4/\\xde\\x1c/\\xe0i\\x8c\"8u\\x00\\x97\\xfe\\x1c\\xf6\\xf6\\xa3\\xc8e\\xd9\\xe6O\\x1e\\x1b\\x82\\x84s\\xc7r~\\xb5^\\xe8J\\xb0\\xec\\x1c\\x868,\\xaf\\x9e\\xf8\\xf4\\xe2\\x8d\\x01\\xab+\\x96\\x06\\xf8\\xf7\\x01\\x1f(O\\x00\\x92\\x17>\\x9e\\xf4\\xe5\\xb9X]%\\x906\\xd3\\x82\\xc3\\x9c\\x8c\\xd4Ha6\\x8a\\x122\\x92\"\\x85pA\\x1f\\xcc\\xd3\\xcc\\xef\\x16\\x10\\xb0m\\xc3\\x1b\\x8a\\xf1\\xc7\\xb9\\xa4\\xd2\"\\xcc\\x929\\x04\\x81w\\xa6\\xed\\xc7\\xf8\\xb8\\x07\\xdc\\xfbS^w\\x0c\\x18\\x84\\x00\\xf0\\x0eq\\xf8Sd\\x1b!T\\x03.A\\xed\\xd3\\xdf5D]\\xaf\\x9e-\\xa6g\\x8d\\xdf\\x85$m\\xe7\\xd8\\xfb\\xff\\x00\\xf5\\xa8W\\x1f4\\x89\\x9e\\xdeG`\\xd1K(]\\xdb\\x9f\\xa1\\x07\\xb8\\xf7\\xf4\\x15a\\xa6+z\\x928e_-\\x93;\\x80$\\x92;Tv\\xf3\\x11#\\xc2\\xc3\\x07\\x19\\\\\\xff\\x00\\x11\\xf5\\xff\\x00\\xebSRD\\x99\\xbe\\xe2\\x96\\x8c\\xf1\\xbb\\xef\\x0ey<t\\x18\\xaa\\x8bq\\x1cem\\xcd\\r\\x16H\\x9ek\\xb6R\\xa5\\xa4bKm\\xc0lu9\\xefY\\xfa\\xf5\\x84\\x1a\\x9d\\x94\\x16\\x12\\x96\\xf2\\xaee\\x01\\xb6\\x1f\\x9b\\x00\\x13\\xd7\\xb5O\\x1d\\xc4@\\t\\x0c\\xbbX\\xe4\\xe1\\xbb\\x83\\xefKom\\xe5\\xca\\x923\\xefd\\xc9RF\\x00\\'\\xb9\\xfc+EWK\\x1a\\xc6Q\\xb6\\xac\\xe1\\xe7\\xf0\\x95\\xf5\\xad\\xec\\xf6\\xbav\\xb9<q\\xc6\\xc0\\xa2\\xcc7\\xe4\\x15\\xce\\x0f\\xe5\\xe9P6\\x93\\xe2[a\\x14\\xa6\\x1b;\\xa9%\\xc2\\x8f(\\x85|\\xe38\\xcf\\x15\\xdd\\xdd\\xa2\\xad\\xcbI\\xcf\\x9a[\\x91\\xd7\\x03\\x18\\xe2\\xa0\\r\\x9b\\xb4\\x0f\\xf7\"\\xdd\\xf3\\x11\\x802\\xbcU*\\xba\\x8aM]$y\\xcbjr\\xd8;\\x0b\\xed>\\xe6\\xdee#w\\xcb\\xbb\\x00\\xf4\\'\\xa7\\x15r\\x1d~\\xc6g\\xca_\\x08\\xdb\\x1fu\\xc1A\\x9a\\xed\\xc4lo.&T\\x066H\\x95\\x1f<8\\x1b\\x89\\xf6#5]\\xf4\\x1d.k]\\xb76\\x10\\xb0gE\\x88\\x04\\nG9<\\x81\\x9e\\xfe\\xb5\\xa72\\xe8;\\xb3\\x12\\xd3_\\xd4\\xa2\\x9d\\x1a\\x0b\\xa6u\\xea\\xac\\x8e\\x1f\\x15\\xa7\\x17\\x8an\\xe1\\xb9gh\\xa1\\x94\\xff\\x00\\x11e#\\x9f\\xcf\\xadP\\xba\\xf06\\x956\\xb2\\xd0Z\\x0b\\x8bEXL\\x8ecnwdm\\xc6\\x7f\\x1c\\xd1\\x1f\\x83u{\\x88\\xef~\\xc3\\xac\\x00\\xd1H\\xc5E\\xc2\\xee\\x0f\\xc0 t8\\xa2\\xeb\\xa8\\x9b]\\x8d\\x95\\xd7\\xe0\\xb9\\x9ft\\xd02I\\xc1\\xc2|\\xc3\\x15\\xa9m\\xa8\\xe9\\x8e\\xc0\\xa5\\xea\\xb3;g\\x0e~\\xedy\\xb1\\x1a\\xfd\\xa8W\\x97N\\xb7\\xb9PT7\\x90\\xd8`[\\x80\\x08\\x07\\xae}\\xa8]L[\\xcc\\xf1\\xdei\\xf7\\xd6\\x13\\x85\\xdc\\xc8\\xc9\\x9d\\xd8\\xfc\\x05=\\xc6\\xecz\\x97\\x96\\xb3\\\\3\\xc6\\xeb&\\xe4<\\xa3g\\x04\\xd4\\x08\\x92\\xacNP\\xe0\\x16\\xdb\\xee+\\xcf\\xa1\\xd6m\\x1a\\xd3|Z\\x9aF\\xdb\\xbeP\\xc0\\xaeq\\xf5\\xfa\\xd6\\xa5\\xbe\\xb3\\xa8G\\xb4\\xac\\xf24x\\xc9\\xdaw\\x83\\xef\\xe9@Y\\xf4:\\x99S\\xe7RpH\\x04\\x81M\\xb9\\xc9e\\x07\\x9c\\x0e\\xfd\\xab\\t<L\\xc2S\\xe7\"2\\x81\\x80\\xdb6\\x9f\\xa7\\x1d\\xea\\xd8\\xd5\\x16h\\xd6W;T\\xf4\\xec\\x7f\\\\\\xff\\x00J\\x99&\\xca\\x83\\xe5z\\x9a\\x16\\xe8\\x1a}\\xc1\\xb2\\x15I\\xc8\\xedY\\xb7/\\xfe\\xa8\\xf2CJd$\\xfa\\x00Mi\\xe9\\xd8\\x91f\\x00\\x9c\\x05\\xe4\\xfdk:\\xf6\\x02T\\x15\\xe8!|\\x11\\xdc\\x92\\x17\\xfa\\xd3Z\"\\x9b\\xbe\\xa8\\xd6\\xf0\\xdc,\\xf6\\xc9\\xe78T\\xda\\xa5x\\xc7Z\\x86\\xfa\\xeaU\\xb8A#\\x16c3\\xe3\\xb6;\\n\\xbf\\x0c\\x068\\x84k\\x8c\\x803\\xc6zU9\\xa3-{\\x18d\\xc0\\x03#\\x8fSN\\xfa\\x19\\xf5,\\xc6\\xfeO\\x92\\x07v\\xe4\\xfd\\x06j\\xbd\\xe38\\xb4\\x98\\xc7\\x13HBd\\xa8\\xea}j\\xe1\\x8dDlq\\x93\\xc8\\x07\\xd0\\x9e*\\x85\\xd9\\x06)T\\xf4s\\xb4U^\\xd6 \\x9a\\x14Qo\\x11\\xc6\\x18\\x001\\x9e\\x9cUK\\xb6\\xcd\\xf4j\\x08*\\xb1\\xb1\\xe3\\xd4\\xd6\\x81P\\xa0\\x81\\xd0\\x1cVf<\\xcdJm\\xa4\\x9cmA\\xfc\\xe8\\x88t5Q\\xca\\xb2D?\\xd5\\xa4@\\xb7\\xb9&\\xb1n\\xb3.\\xb9\\x80>X\\xd4\\x0f\\xc4\\xd6\\xe3.\\xdfc\\xb4f\\xb0m\\xb3.\\xb73\\xf5\\xdb\\xd3\\xf3\\xc5&\\xf5+diN\\xed\\x03**\\xcaF3\\xf2\\xaeh\\xa9\\xe5\\xb9\\xd8\\xfb@~=\\r\\x14\\xefa\\xa5\\xa1\\x9boupg\\xdbm \\x11\\xbeSt\\x9c\\x15l\\xe7\\xe5\\x1e\\x98\\xeejMD\\x87\\x91J\\x9c\\x9f\\xf9g\\x81\\xcf\\xbe\\x7f\\xc6\\xa6\\x8b|7o*M\\x97\\xd9\\xf7\\xcf\\xcd\\xce:\\x0c\\x91\\xf9\\xd4*#\\xf3\\xc8\\x98\\xc8\\xd2\\x12\\x0b\\xb2\\x9cc\\xb0\\x18\\xed\\xf4\\xed\\\\7\\xb9\\xce=\\x98\\xdb\\x96r^F\\x95\\x01\\x0c\\xe4/\\x96\\x83\\x82B\\x8e3\\xefN\\xf2!3\\x85\\x8e$\\xfb:\\x7f\\xab%\\xb2x\\x1e\\xb8\\xc6rz\\xd3\\xa2-!\\xd9!\\x8dwI\\x82rT\\x1c\\xf2\\x01\\xfc?\\x1fj\\x92I\\x1arc\\x13*\\x15\\xf9\\x80\\x8f8\\x03\\xb1\\xf7\\xa6U\\xd5\\x8a\\xed\\x12\\x18J\\x98#c\\x8c\\xe7\\x00\\x00}\\x89\\xceO5Z\\xe6\\xcf\\xcd\\x95\\x1aC;\\xaa\\xe4\\x84\\x90\\x8d\\xbc\\xf0\\x0e1\\xd7\\xd3\\xf3\\xab\\xe6\\xd5\\x86\\xf0\\x93\\xa9\\x81\\xfa\\xb3\\x82v\\xa8\\xeb\\x8fr{~\\xb4F\\xcbs\\x89\\x06\\xf5P\\xb9bW$v\\xe3\\x07\\x93\\x8c\\x0c\\xd2\\x1d\\xd3\\xdc\\xa6\\xaa\\xa1\\xb6y\\xc5\\xbc\\xa6\\xc9(\\x99`:}\\x01\\xa7\\x1bf\\x86\\xdc\\xb3\\xe7\\xcao\\x97x\\xee\\x0fAS\\xcb\\x1b$O\\xe6\\xa7\\x91\\n\\x96%\\xdd\\xbdx\\x00\\xf4\\xc7\\xd2\\x8b\\x86\\x12\\x90\\x89\\x1a\\x86\\x8e=\\xb1\\xed\\x03\\x8c\\xf6\\xc9\\xfc\\xfa\\xd3\\x1bd\\x19\\x85\\xa3e\\x86L\\xee8\\xf2\\xf7\\x81\\x9f\\xf6I\\xa9\\xa1\\x92\\xea\\x10!%I\\x07\\x86\\x04\\x13\\x8f\\xcb\\x9f\\xca\\xa2\\x99\\xdb\\xcb\\x95-\\xc2\\xb6T\\x1c\\x91\\xf2\\x9c\\x1e\\xed\\x9c\\xe7?\\x85>\\x0b\\x96hb\\x90\\x13\\xbaF\\xd9\\x84\\x8c\\x1e\\x87\\xa7>\\xf4\\x93\\xb9)\\xeaHfy\\xe5\\xdb\\x14\\xaa\\xaf\\x11\\xc6\\x02\\xf5>\\x84\\x7f\\xf5\\xea[Y\\xa2\\x90\\x18\\xdcy2\\x93\\x9c\\x83\\xb4\\x9ez\\x83\\xdf\\x8a\\xad\\x17\\x9b3+8\\xf2\\xd1\\x81R\\n|\\xce{\\xe3\\xd2\\xa6Kh\\x969\\x01\\x88\\xc6pp\\xa4\\x93\\xd7\\x1d\\xbbS\\xb1j\\xe0n\\x98\\xbc\\xf1\\xc4\\xc0\\xaev\\xef\\xc6\\x0b\\x11\\xd7\\'\\x1c\\x83\\xea\\x05$r$I\\xb6W\\x860[,\\x14\\xee<\\xf2q\\x81\\xc9\\xa6\\x05\\x966hG\\x98\\xf9\\x93\\x08\\xee\\x98$c\\x19\\x1f\\xe2i\\xd2\\x19\\xed\\x001\\xa4,\\t;\\x81}\\xbcw\\xff\\x009\\xa5qhH/!\\xdeWa-\\xbbkm\\x19\\xcf\\xa6}\\xf1\\xcf5ev]|\\xf18$\\x93\\xd4c~8\\xc1\\xaa\\xc8`\\xbax\\xa6\\xf30\\xdbq\\xc1\\xc1\\xfcF=?:\\x08VV>A8\\xf9P|\\xd8Nx\\xff\\x00=(\\xb8&\\x89\\xbc\\xa2Dy!6\\xa9 /\\xaf\\xd4sQ+J.\\x982\\xee\\x8fgv\\xef\\xdf\\x83\\xceG\\xa9\\xa8~\\xdb}\\x19\\xe6&\\xda\\xcf\\xb3\\x82\\x08\\x1e\\xfc\\x1a\\xb6.$\\x93)\\xb9\\x04\\xab\\xf3\\x15\\xdcF\\xcf|\\xff\\x00N(\\x1a\\xb3+\\x0f\\xb1=\\xc4\\x83\"\\x1c\\x0f\\xb8y\\xdd\\xf8\\x9e\\xe7\\xa5Xh\\xc9]\\xb1\\x8d\\xdd\\xc9v\\xea}\\xbd\\xa9\\x92-\\xcc\\xd0E.\\xf5`\\xe4\\xb2\\x87\\xc6N\\x0e8\\x15P\\xcaVT\\x8aKI`\\\\g\\xed\\x08\\x87\\xcbS\\x83\\xd3?\\xfdjOA=\\x0b\\x0b$\\x92\\xda\\x89~\\xea\\xae\\x18\\x807.\\x07\\x7fjb\\x05tw\\x90F\\x84\\xe3s#2\\x82O\\'\\xeaqQ\\x0b\\xa8\\x84\\x82\\x1b\\x7f6U}\\xbf\\xbe\\x19\\xda8\\xc9\\xe3\\xf8G\\x1dy\\xfc)\\xd1\\xdd\\xdb\\xfd\\xab\\xe6\\x901\\x04\\xaa\\xc8z\\xf3\\xd4d\\x9e\\x9f\\xce\\x9a\\x95\\xc7\\x1dI\\xd3zB_ \\xa8<#/\\\\z~5b(\\x96I\\x01\\xcc\\x9c\\x8c\\xb1\\x1d1\\xf4\\xa8\\xa2\\x9e\\xc9\\xd6V3\\x00\\xe3\\xeeF\\x06\\x1c\\x91\\xed\\xda\\x91-YfY0\\xc13\\x81\\xc6H`:\\x0c\\x1ein6\\x85\\x9fsL\\xe7.\\x14\\x1c\\xec-\\xdb=?\\xfa\\xff\\x00Zt\\x93[1v*\\xb0\\x81\\x90\\xa4\\xf3\\xcf\\xf7\\x8f\\xd6\\x92YnVi\\x0b\\xc9\\x82\\x08\\xe5\\x8f8>\\xa3\\xb7J`1\\xf9\\xdb\\x08\\xc3\\x13\\xb9F\\x0erO\\x04\\xf6\\x06\\x82yZ\\xd9\\x84m\\x13\\x03\\xbauP\\xa7\\x07\\'8\\xf59\\xa7\\xab\\xa0V0F\\xae\\xbd\\x14\\x0f\\xe2>\\xbc\\x9e\\xd5W\\xc9 c\\xe5f*6\\x91\\xcf~\\xa7\\xfc\\xf6\\xabH\\x98\\x04\\xbb\\xa6\\\\\\x00\\xb8\\x1bz\\x1e\\x83\\x8e(\\xd4\\x12}G\\xdb\\xc5\\x18\\xdf\\x84@\\xf8\\x07hO\\xbcs\\xdc\\xf6\\xe3\\xb5J\\xe9$d\\x10\\x06\\x07\\xcb\\x81\\xc1a\\xef\\xe8*\\x9c\\x0cT\\xb2\\xb2\\xa3\\xe5\\xf7\\x1f\\x98\\xf4\\xec??Z\\xb7\\xe7\\xa62\\xc4\\xa9N1\\xd4\\x11\\x8e\\x87\\xe9@^\\xfb\\xb2#\\n3\\x19\\x9e\\x00\\x1a4\\xcf#\\xa8\\x14\\xc5\\x96& \\xc5\\x19\\x8d\\xd4\\x06`\\xddy\\x1c\\x8c~U,r\\xceRi\\x0b\\xa1PG$v\\xc7\\xaf\\xbd62\\x82\\x10\\xed\\x1c\\x8c]\\x88`\\xd2\\x1c\\xf0r?\\xfdT\\x13\\xf3\\x1b&\\xc6O\\xdd\"\\xf2\\xa00\\xdd\\x92q\\xeas\\xd2\\xa2c\\x1cA\\x98\\xef\\xd8\\xc0\\x91\\xfcX\\xa6\\xa3E\\xe5\\xb6\\xe5V\\x89\\xc6\\x02\\xed<\\x1a\\x8e\\xe2X\"\\x08K\\x92q\\xb3\\x11\\x0c\\xe3\\xfa\\x8a\\xa4\\xaeR\\xbfC6\\xfd\\\\\\xc4&\\xb4\\xb9\\xf7\\x10\\xee=\\x7f\\xd9=?\\n\\xc4}r\\x19\\xe1\\x92\\xcfUF\\r\\xbb)2pP\\xfd=jMkP\\xf2\\xb0\\xf0\\x98\\xe3-\\xd5\\x9e\"7c\\xfb\\xdd\\x8f\\xe5\\\\\\xa5\\xee\\xb7\\x14\\xe4\\xad\\xe5\\xb6X}\\xd9\\xa19?\\xa5t\\xc2\\x9a\\x11\\xd4\\x7fj#m\\x81\\xee\\x83\\xe3\\x98\\xee#\\xcf>\\x99\\x07\\x91\\xf4\\xa6\\xcb\\xad\\xb1\\x00\\x12\\x05\\xc2q\\xd3\\xef\\x8f\\xadpMt\\xbb\\xb3\\x0c\\xa1\\xd7\\xdf\\xfc)\\x1bP\\x95@R\\xe7\\x03\\xa6{V\\x9e\\xc9\\x08\\xf4KO\\x13F\\x1d\\x1dU\\xb7\\xa1\\xf9\\xd0\\x1c\\xff\\x00\\x91]5\\x86\\xb1m\\xa9E\\xb69I\\x18\\xc1\\x88\\xf2\\xc4\\xf6\\xc7\\xa9\\xaf\\x14\\xfe\\xd1\\x91\\x98?I\\x17\\xbf\\xff\\x00^\\xadE\\xae7\\x9c$\\xf3Ls\\x0eU\\xd3\\x83\\xf8\\xd4J\\x84^\\xc0{V\\xec.\\xe8\\x82\\x10c(\\xa8A;H\\xfe^\\xe6\\xa3\\x86q\\xf6P\\xcd\\x11\\xc98\\xf9W=;\\xff\\x00\\xfa\\xff\\x00J\\xf3\\xed3\\xc6\\xf2\\xc7\\x85\\xb8\\xc4\\x9cm~\\xab\\x91\\xfe\\xf0\\xff\\x00\\n\\xea\\xed<K\\x05\\xe5\\xb1\\xdb\\x1bFFI\\xf9\\xb7c=\\xf1\\xdf\\x8a\\xe6\\x95\\x19\\xc4V\\xd6\\xe6\\xc9Dx\\xc0\\x89$U#9\\x03\\x03q\\xf6\\xa7<\\x0e\\xcdnK\\xf0\\x8c\\x1d\\x07\\xf0\\xe0{\\xfdi\\x96z\\x92\\xb4\\r\\xe5\\xca\\xa5pYH\\xff\\x00\\x1f\\\\f\\x90\\xdc!\\xb3\\x91\\xe3\\xc8\\x08FC\\xb7<\\xf3\\x9cv\\xfaT]\\xc49\\x9a\\x1dq\\xfb\\xbb\\xf9.c\\x1b\\xdcB!\\xf9\\x8e\\xd00rq\\xebQX\\xce\\xf1\\xe9sH\\x81\\x83\\xcc\\xe4\\xb1\\xcep1\\xc5H#1+\\xab2\\x996\\x00X\\xb6s\\xbb\\x9f\\xe6i\\xe1B*\\x93\\t/\\xbf\\x05\\x99\\x82\\xf3\\xf4\\xebO\\xda\\xbb\\xea\\noF\\xcc\\x9bh\\x88\\xd4-\\xe0\\x10\\x1d\\xdb\\xc1.\\xcaFUy$\\xe7\\xde\\xb4g\\x7f7\\xc4\\x913\\xa1\\x0e\\xb6\\xed\\xb7\\x03\\x80\\x0e\\x05><\\x83\\xb59\\x00\\xf0\\x06x\\xa7\\xb9/<\\x93 ev\\x04\\x00\\x06qT\\xab#Oh\\x9a\\xd4\\xcd\\xbb\\xf0\\xce\\x8b\\xa8Mv\\xf3\\xe9\\xf01g\\xc6\\xe4\\xca\\x11\\x85\\xe7\\x04b\\xb9X|\\x13k6\\x9c\\xd7P\\xde^[\\xdcF\\x1ff\\x1b#\\nH\\\\\\x8cg\\x18\\x1d\\xbdk\\xbe\\xf3\\x94\\x87\\xc1,X`)]\\xa4\\x9fsU$\\x82/\\xb0\\xcb\\r\\xb5\\xc0\\x89\\xdd~BrpI\\xce:qZ*\\xd1\\xeeSi\\x9cS\\xe8Z\\xf4\\x17^lW\\xb0]\\xc6\\xee\\x17\\xc9u\\xf2\\x80,;g<\\x03\\xd8\\x1a\\x82hu\\xad=\\x1du\\r$J\\xe5s\\x1f\\xd9>q\\'<\\xe7\\xae\\x06=\\xab\\xb9Y 2\\xc4|\\xc5\\xda\\xad\\x9c\\xf5\\xfdq\\xd6\\x9f:\\x19o\\xe3\\x95A1$L\\x8a\\xdc\\x8f\\x99\\x88\\xe3\\x1fA\\xd6\\xa9TLW\\xf32\\xfc!t.\\xb4\\x9b\\xa9\\xa3\\xb7\\x9a\\xdbl\\x862\\x92(\\x04m^z}j]Q\\x9b\\xfb,\\x85}\\xb2\\xecTS\\x9cc\\x9c\\xd6\\xe6\\xf5[\\x01\\x9f\\xba\\xd9\\xdc{\\x92?\\xfa\\xc2\\xb9mwL\\xb7\\xd6\\x914\\xf9\\x99\\xfc\\xa9\\x19\\xa5\\x05\\x0e1\\xb5x\\xfc2i\\xb6\\x8d\\xa2U\\x8f[\\xd5\\xec\\xb2\\x91\\xdd\\xccP\\x8e\\x04\\x80\\x1c\\xfa\\xf6\\xfe\\xb5b\\xdb\\xc52\\xac\\xe5\\xa7\\xb4Gu\\x05r\\xb9^\\x9d\\xf1\\xfdk:\\xf7\\xc37\\x1ae\\x9f\\xf6\\x9d\\xbe\\xa9u,\\xd0\\xc4\\x93Km\\'\\t\\'L\\xaf\\xcax\\x18\\xf6\\xaa\\xeda\\xad\\xd9\\xdc\\xb5\\xc5\\xfa\\xdb\\\\i\\xe2`\\x8e\\x96\\xe0\\x17]\\xdc*\\x80@\\xee@\\xefT\\x9a3o\\xc8\\xed\\xad\\xbcG\\xa7\\xddD\\x96\\xaa\\x92,\\xac\\x01\\xc9\\xe4\\x12i\\x9fn\\xb12\\xaciy\\x0b2I\\xf3.\\xecc\\x9fz\\xe2K\\xde\\xd8\\xce\\xcb\\xaah\\xd3\\xd8\\xe1\\\\\\x89\\x8be[h\\xce\\x07\\xa9#\\xb6j\\x8d\\x95\\xe4\\x1a\\x80\\xb9\\x9a\\xda\\xe2@!O6Q\"m\\xf2\\xd78\\xc9?\\xfdzoRl\\xb6=N,\\xba;\\x12>i\\x0e\\x0f^1\\xc5C\\x15\\xb6&\\x07\\x1f3\\xb6\\xe3\\xfe5\\xc1Z\\\\\\xca\\xe3t3\\xac\\xa1z\\x18\\x9f?\\xcb\\xa5kE\\xae\\xdf\\xc4c \\xbb\\x91\\xc0\\x12\\x15\\'\\xf5\\xaa\\xe8\\r3\\xb1\\x91\\xb6\\x87.\\xc1I\\x03\\x03\\xf9\\x0f\\xca\\xb2t\\x98\\xcf\\xda\\xa5\\x97\\xbe@\\xc9\\xef\\xdf\\xfa\\xd5Y\\xfcL\\xf1\\x07K\\x98\\xa3\\xdf\\xd1\\xb6\\xb6\\x06?\\nv\\x9b\\xafi\\xf1\\xc9\\xb4\\x89\\x00bN\\xed\\xb9\\xc5K\\xdcw\\xd1\\x97\\x89uf\\\\\\xf4&\\x8a\\x86MF\\xc9\\xdc\\xb7\\xda\"\\xfcx\\xa2\\x8b\\x85\\xca\\xe6\\x14\\x92|\\xf9\\xaeT\\xae\\x06\\\\\\xe0\\xe3\\x8c\\x8eq\\x8e*\\xd4\\xd0~\\xe6M\\xd2\\x07}\\x9c*\\xf3\\xd4t<~\\xb5\"G\\x18g(J\\x14\\'\\xcb\\x8eN@\\xecy\\xeb\\x90*\\xb4\\x17.o\\xe4fx\\xda LH\\xe9\\xd3$s\\x9f\\xfe\\xbdr\\x186X\\xb5\\x8aIm\\x9eydbp\\x02\\x88\\xc7\\xccGC\\xb7=?\\n\\x9aQ,\\xc8\\x1d\\xe4\\x8fy\\x07b(\\xe4\\x00;\\xfb\\xf4\\xac\\xf6\\xf3B3\\xc78\\xda\\xa7`e\\xf9\\xc09\\xc6\\x01\\xe8)\\xfb\\x8c)\\xd0G\\x83\\xb9\\xa5 \\xe3\\x07\\x80\\x17\\'\\x9e\\x9c\\x9fSE\\x81\\x16E\\xd4\\xcd\\xa7,q\\x87c\\x10e\\x91\\x82`\\x9c|\\xd8\\xc0\\xe83\\xc7N\\xd5N\\xcb\\\\\\x9e\\xe1X\\\\\\xd9}\\x968\\x98(\\xf9\\xc9\\xdc2~n\\x83\\'\\xaf\\x1c\\xe35xI\\x14\\x91 i\\x80}\\xdb\\x11K\\xf0\\x07\\x19\\'\\xdf\\x93\\xf5\\xaa\\xf2Y\\xb4[[\\x0ev\\x9c\\xe0\\x86 z\\x91\\xe9\\xf5\\xa0vOfA5\\xdf\\xda\\x99\\xd9\\x12]\\x88\\n(`W\\x83\\xec}z\\xe6\\xad\\xc6\\xb6\\xd0\\xfc\\x8d\\x06T\\x93\\x81!\\xcaHp\\x01/\\xec=?\\xfa\\xf4\\xb2A\\xbc\\xc8\\x92\\x12U\\xd9xg\\xc6s\\xd7\\x1e\\xde\\xd5^q\\x18F]\\xac\\xc9\\x83\\x88\\xc1\\xe3nx8\\xeb\\x8a-\\xa8$\\x89\\xe5-}|\\xaf\\x0c\\x8eXg\\xcc\\x1b\\x8e\\x0eH\\xc7\\x03\\xb0\\x03\\xb7\\x14\\x9fk\\x9a0\\xee\\xdb|\\x96\\xda\\x08b\\x0e\\xdey\\xc7\\xd4UX\\xe4\\xb9\\x8aO.7\\xfd\\xd1\\x18q\\xbb\\x07\\xf08\\xc7\\xe1\\xd6\\xac[\\xa3\\xb2\\x0f&0\\xcd\\x92\\x15\\x91\\xc6\\xdc\\xfa\\xf5\\xff\\x00\\xeb\\xd0\\xd6\\xa3\\x12\\x1b\\x99$\\x88\\xc9\\x93\\x11l,l\\xd1\\xe4c\\xa9\\x1e\\x9c\\x91\\xd7\\xf9U\\xa8f\\xdef\\x0b\\x1b\\xed \\xb0u\\x1e\\x87\\xd3=;U{\\x92#1[\\x16V|\\xab\\xb8@\\x14\\x06\\xcf$z\\xe0v\\xcdA%\\x9c\\x98\\x92R\\x85\\x9b~\"R\\x10\\xf0NO\\x03\\xaf\\xe3\\xd3\\xb5!\\xab\\x96\\xae\\xe1\\xb9fA\\x1c\\x98\\x965\\xc1%\\xb3\\x8c\\xf2\\xd8\\xf4\\xebM\\x9er\\x90\\xf9\\'\\xe6um\\xce:\\xae\\x00\\xc0\\x19\\xeb\\x9f\\xa5WU\\x99\\xa0w\\x0f\\xe4H\\xbc\\x82\\xc4\\x01\\x9e\\xe4/<}i\\xb2@\\xbeG\\x9e\\xccw\\x85\\xda\\xb2\\x02In\\xe3\\x03\\xa6)\\x85\\xad\\xa9}\\x18\\xb4J\\xf1H\\xb18!\\x82\\xb0$\\xb1\\xc62\\t\\xef\\xf5\\xaa\\xb0Z\\xccn\\x16g\\x90\\x12\\xd1\\xf9r\\x08\\xc0\\x04\\xf3\\xd7\\x1d\\x01\\xfaT\\x0e\\x93\\xc2RDW\\x8b,6\\x1e\\x1b\\x1f\\xa6+EQD\\xaa$\\x8f\\xcb\\x0b(\\xfb\\xfdwt\\xef\\xd4P\\xc4\\xc2\\xe4\\xdc\\x01$\\x11\\xb7\\x96\\xe7\\x92W\\xa9\\xe9\\xc7r8\\xa4\\x11\\xed\\xd9\\xe6\\xc8!(Hc\\x9f\\x94\\xa8\\xe9\\xcf~sNI\\xee\\x96H\\xe1m\\xae\\xec\\xcf\\xd6<\\x8d\\xbd\\xbb\\xe3\\xa1\\xa9g1I1\\x90\\xa0PyQ\\xd3q\\x1d8\\xc6\\x07AJ\\xc9\\x88\\x89\\xa5w\\xdd\\x121)\\xe5\\x85-\\xf7X\\x12rq\\xe9\\xfc\\xeas;\\xb8i|\\xc1*\\x80#\\x88\\x82C1\\x03\\xa9\\xe7\\x8e\\xe4\\xf3QE\\x0c\\x1ez\\xc7\\xe6\\x80\\\\\\xee8$\\xe0\\xfa\\x9f^\\x7f\\x9dH\\xcb\\x00\\x85\\x94\\x06\\xdf\\x07\\xdd@\\x00\\xcbg\\xd8\\xd0;\\x89z\\xb7S1\\x8e5(\\xdbrX\\x02\\tn>\\xef\\x1f\\xd2\\x9b4\\x11\\xa4\\x9fhX\\xd6M\\xa8\\x14\\xb4\\x9f7#\\xf8\\xbf\\xa5\\x07&\\xe9\\x028\\x89\\xca\\x9c\\x01\\xd7\\x18\\xf5\\xa5\\x9d\\xe2\\x8b\\xcd\\x8e\\xe0\\xedY#\\xe5\\x993\\xdb\\x83\\xe9\\xd7\\xb5&\\x83A\\x8b\\nO\\xf3\\x14d!\\x82\\xe7\\xc9\\x1b\\xca\\xfaf\\xa6\\x12\\xbaE\\xf7KF_\\xe5r\\xa4\\x07\\xc7\\xa7\\xf8\\x8a\\xab\"\\xc4\\x10\\xac\\x89\"\\x02\\x00g\\xc8\\x1b\\x9b\\xfb\\xb8\\xefQ\\xda\\xdf\\\\\\xf2\\x12\\x16B\\x8cU\\xdd\\xb8\\xcf\\xa7^\\xc3\\xda\\x84\\xaeW5\\xcb\\xa2V\\xc9\\x0ec\\\\\\x0c\\x97Y99\\xe3\\xf1\\xfc\\xaa9\\xa4\\x05dQ\\x13\\xb8b\\x15\\x93;\\xf8\\x1c\\xfe\\x04\\xd4hQ\\x97\\xe7\\x067#\\xfeY\\x1c\\x13\\x8e?\\xfa\\xd4\\xc8\\xda\\x10\\xca7\\x90]\\xbeX\\x9eB\\xca?\\x0c\\x9av\\x1d\\xee[W\\x8a\\xeb\\xcewR\\xa9\\xd0\\x05%\\x88\\x00q\\x93\\xc0\\xfc*X\\xa0\\x1b\\x1a8\\xdc\\x9c\\xb02\\x12\\xd8\\x1b\\xf1\\xdbwj\\xa7$,\\xc3\\xcbx\\xc7\\'\\x89\\x01\\xc5G\\x19dy\\x15\\xe3\\xc4n>\\xf7L\\x1crFz\\x0c\\x8e\\xd4\\xb5\\xea-K\\xb1\\r\\xc4\\x12\\x81\\x91\\x0e\\xdd\\xe56\\xe7\\x1e\\xf8\\xa8\\x92\\x04yL\\xb1\\x07\\x89\\x96\"\\xb2g\\x8c\\x8e\\xd9\\xf6\\xcdFo\\x8cSZ\\xa3\\'\\x9a\\x19\\xfel\\x1c\\x96\\xc8\\xeaG\\xf8U\\x88dUp\\xc8\\xaa\\xd34\\x85\\x82n\\xe0\\x8e\\x83>\\xb8\\xfc1Liw%\\xfb8\\x8e\\xd8G\\xe5\\xe4.X\\x01\\x8f\\x94\\xfb\\x93\\x9f\\xfe\\xb0\\xc5C\\x1cR\\xc3;\\x15;\\x91\\x89f\\xf3\\x18\\xf2\\x07\\x03\\x8f\\\\\\xd2\\x16U\\x93\\xce\\xda\\x0b.C\\x1f\\xba\\x18\\x8e\\xa0z}s\\xf8\\xd0\\x1d\\xe2;\\xde\\xe3dY\\xf9\\x98\\xe1\\x90\\x8e\\xa3\\x07\\x83E\\x83\\x95u\\x1aY\\xd2Y\\xc8\\x8e8\\xcc\\xa7pb2\\x07\\xe2=\\xfd\\xeb*\\xfa\\xd8H\\x86X\\xc9r\\x9c\\x17\\x0b\\x92OsZ\\x8e\\xc9w\\x17\\x98\\xf1\\xfc\\xdd@\\x07vT}?\\xfdU\\x9dt\\xb0\\xa2\\xb4\\xa6)\\x1e7?}:\\x8fc\\x8e\\xff\\x00Ni\\xc5\\xea\\n+\\xa1\\xc8\\xea\\x177-# y\\xe7\\xf6\\xdb\\xf3\\x8f\\xc0\\xf3\\\\}\\xfcy\\x95\\x8f\\n\\xdd\\xc3FP\\xfe5\\xdej1X\\xdc#\\xf9s_\\xc9 \\xee\\xa0H3\\xdb!\\x87\\x15\\xc7\\xde[:\\xb1%\\xdc\\x0fI0s\\xfa\\xd7d\\x18\\x9a0\\x99\\x17#?\\xbbo^\\xc6\\x9a\\xdb\\xc7\\x0c\\x01>\\xa3\\xbdX\\x95\\x00$\\x00?\\x03\\x91UH`p\\xac\\xc0zc5\\xb1#p\\xed\\xc0\\x04\\xd4\\xbeZ.2\\xf8n\\xb8\\x1c\\xd3Qen\\x87\\x03\\xb9\\xdbN/\\x1c\\nNFO\\xa7S\\xf8\\xd0\\x05\\xc8d\\n6\\x96;O\\xa8\\xc5]\\xb5\\xbb\\x92\\xd1\\xc4\\x90J\\xc0w\\xaex\\xdd1\\xe4!\\xfc\\xf3O[\\x96S\\x92\\xac\\x07\\xaeh\\x03\\xb8\\x83\\xc4\\x0e\\x8c$G\\xdb&z\\x13\\xc3}+\\xb9\\xd3\\xb5=/UH\\xa27h\\xb3\\xc89\\x8d\\xd0\\x87-\\xdf\\x91\\xdb\\xff\\x00\\xack\\xc8!s2\\x84#\\x04\\xf2\\r]\\x17\\xfeD\\x88br\\xce\\x99\\xc3/\\x04\\xd6s\\xa3\\x19\\xa2Z=\\x8a(6\\xce#\\x8fh(w\\x19\\x14\\xe4\\xab\\x11\\xf7\\x8eG^H\\xf5\\xab\\x0f\\xe6,\\x8eCn,\\xa5\\x15\\x8f@3\\xc1\\xfa\\xe2\\xbc\\xdfK\\xd7n\\xa4\\xfd\\xdbN\\x89=\\xc4\\xa1\\xdeW?\\xea\\xd4z\\xe2\\xbb(5\\x8d=\\xcc\\x06\\xde\\xe3v\\x06\\xdf\\x91\\xb7s\\xeb\\x8fC\\\\S\\xa2\\xe0I\\xa3\"\\xa2\\x03\\xc2H\\xed\\xf7\\x99\\xcf9\\x1d\\x87\\xe7R$\\xe5#*Q\\xa3%\\xb1\\xf3\\x9c\\x1fz\\x8c4\\x92\\x86,\\xec6\\x0c\\xe4\\x0cd\\x9e\\x82\\x9c\\xb2\\xc8\\xf1\\xc6cH\\xc4+\\x9eI\\x1f\\x98\\xe3\\x9c\\x9c\\xd66\\x1e\\x83\\x12\\xe3\\x11\\x99\\x0e\\xf8\\'\\xc9\\x1f0\\xe3\\xa7\\x07\\xf4\\xa4\\x8at1#\\xba\\x0c\\x107\\x15\\xcbs\\xd3\\xa0\\xe9SL\\x1e_1\\x02\\x10\\xcb\\x90\\xdb\\xb9,O|\\x7fJ\\xae\\xf1\\x12\\xcc\\x92\\xc5\\xb7\\x03\\xe6\\xf2\\xc9%\\x89\\xe9\\xec\\r.P\\xb0\\xf6\\x92\\xda+\\xa5\\x91\\xfc\\xb5d;\\x82\\x1e\\x08\\x1e\\xa0u\\xf4\\xe9Mw.\\xa8\"}\\xb2!\\xe4g$~\\x19\\xe2\\xa4F\\x11\\x05\\x8c\\x02\\x1f8\\n\\xcf\\x97\\x19\\xf54\\xa4+\\x00\\xcf\\x1b\\xba\\x91\\x8c)\\xdd\\xb7\\xd0`\\x0c\\xfet\\xedbJ\\x8e\\xb7\\x12\\x10%b\\xc4\\xf5\\x00\\x8c\\x95\\xef\\xf8\\xd2yq\\xc1\\x1b\\xdc<\\x1f.\\xd2\\xa4\\x85!\\x94z\\x02\\x0f\\xa0\\xf4\\xab#\\r;G\\xe6.{\\x968\\x07<\\xe3\\xda\\x8d\\xc2UvIw\\xc4\\x0e\\xc2A\\xeaG`>\\x99\\xeb\\xcd\\t\\xb4Z\\x94\\x97S:\\xed]\\xedUZ)\\xa0\\x8f!\\xd5\\xc3\\xa9f\\x03\\x1f\\xfe\\xac\\xe6\\x96y\\xbc\\xcb\\x98 \\x11\\xabZ\\xfd\\xae)$\\x91\\x97\\x81\\x83\\x9f\\xe6\\x05j\\x85G\\x8fk4e\\n\\xf0\\ng\\xb7Oj\\x8eH\\xe3}\\x8b\\x9f\\xba;\\x1e\\t\\xf4\\xc7\\xb55Q\\xc5\\x8dI\\xda\\xc4z\\xe5\\xd4.t\\xd8C\\x86w\\x99\\xa5\\x18\\xe86\\xa9<\\xfe\\x95\\x80ll\\xefu\\xabD\\x9a\\x14r\\xd6\\xf34\\xa9\\x8c\\t\\x14`a\\xb1\\xd7\\x04\\xe7\\x9a\\xdc}>\\x1b\\x8b\\x84!D\\xa7\\x1f+yx\\xdb\\xeas\\x9f\\xc3\\xa5,Vf+\\x96\\x9b\\xcc\\x95\\xd8\\xa1\\x8f\\x96\\x05Tu\\xe89\\x07\\xdf\\xadl\\xb1\\x11oSNt\\xccy<\\x19\\xa4\\xcd4\\xd6\\xf1,\\xb6\\xd0I\\n<\\xb1\\xc0\\xfd\\\\7\\xcar\\xd9\\xf7\\xe2\\xa8\\x7f\\xc2-\\xa8\\xc4\\xd7z~\\x95\\x7f\\x1e\")2\\xcfs\\x92\\xe0\\x11\\x83\\x1fB\\x00\\xef\\xd2\\xbb\\x04\\x96(d\\x96i\\xc3np\\xbb@\\x03\\x8d\\xb9\\xf7\\xe9\\xcdU\\xb1\\x13[_\\xea\\x972\\xc8\\xaf\\x1d\\xc1A\\x08F\\xce\\x14\\x0er1\\xc1\\xcdj\\xaa\\xc1\\xf5\\x0b\\xa6\\xce\\x11\\x93W\\xb63\\xdb\\xddY%\\xc5\\xecN\\xb2<\\x89\\x85\\x8c\\xc4z\\x1e9\\'#\\xd3\\xf0\\xa2k\\xd84\\xdbq%\\xe5\\xa4\\xb0\\xb7\\x99\\xb1\\x95~r8\\xc8$\\x1c`Wk\\x1d\\xb2\\\\]\\xce\\xd3\\xb8\\x10\\xc8\\xd1\\x85\\x1c\\x9c\\x00\\x0e\\x7fZbG\\xb9\\xe4P\\x01\\xdc@bG\\xa7_\\xe9MO]\\x06\\xeft\\x939\\xbbD\\x87R\\xb7[\\x9bi\\x97\\xcal\\x81\\xbc\\x949\\x1c\\x1e\\t\\xa2\\xb5\\xac\\xbc;\\xa5^\\x9b\\x99\\x9a\\xd6\\xd9\\xbf~\\xc0|\\x87\\x03\\x18\\xce:c\\x9c\\xfe\\xb4U\\xf32[\\x92v/\\xc2\\x91\\xa9\\xb8\\x90(X\\xf2\\x84\\x93\\xc18\\xeb\\xc88\\xf5\\xe3\\x83R\\\\[Ch\\xa1\\xc4\\xe0\\xf9\\x8e\\xa4\\x89N\\xd8\\xdb\\xe8\\x0f%Fy\\xf55\\x03+\\x80\\xd3$\\x8f3#\\x16\\x19\\\\\\xa9lc<v\\xf6?\\xadHn//&\\xc4\\xb1\\x9c\\xe7&|\\x03\\xe6\\x0e\\xa7\\x83\\x8e8\\xf4\\xf6\\xc5q\\xdc\\xc8q\\xbb[8\\xcc\\xad\\xbaE`b,8\\x8c\\xf3\\xd8\\x1fC\\xcf\\xb7\\xd6\\x98%\\xdc\\xf6\\xf0\\x95\\xb8\\x923\\x86\\xf3\\xe3]\\xc0)\\xe8q\\xd7\\x04\\xfeT\\xe4x\\xef\"\\x9e9\\x00R\\xb8\\'\\xcd \\xee\\x03\\xb2\\x86\\x18U\\xe8=Oa\\xde\\xa9\\xdd\\xdf\\xc9m\\x1cS\\xc1\\x1a\\xa0)\\x99#\\x95Im\\xbe\\xd9\\xe7\\x83\\xd3\\x1c\\n\\x06Zw\\x95\\xef\\xe7\\\\d2\\x8c\\x15L\\x00s\\xd7=zw\\xf7\\xabk4\\xea\\xb9Q4e\\xd8\\x02\\xbe\\xf9=G\\'\\xde\\x91^g\\xb4O$\\xf9\\x929\\x04\\x8d\\xcb\\x9c\\x9e\\xa7\\xeb\\x8e\\xd5\\r\\xcc\\x92BR\\xe2w\\x90\\x86\\xe5\\x81 \\x13\\xdb\\xa0\\xe8)\\x8fb\\xfcS,~t\\x12\\xbb\\x05h\\x8eX\\x9c\\xfe\\x98\\xc0\\xfc*\\x01-\\xbc1\\xc4\\xb0\\xe1\\x19\\x81\\x8eIT\\x1c\\x9f~z\\x1e1\\xf4\\xaal%p\\x8f$\\x91\\xa3\\xb0?\\xbb<g\\xd3\\'\\xaf=\\xfe\\x94Ja\\x82\\xd9\\xe3\\x12\\xb2F\\xab\\xb8\\x1d\\xa0\\xeen\\xa5\\xa8\\xb8\\xd3{\\x93\\xda\\xc0\\'\\x86a\\r\\xd0\\x12)\\xc9\\x88a\\x81\\x07\\x83\\xf49\\xfeu0\\x86\\x1b9\\xd5\\x128\\xc1\\xc1f)\\xc6\\x0fM\\xc7\\xb5Q\\xb7K|\\xcb\\x14r\\x04b\\x00f\\\\\\xaf-\\xf7\\x81>\\xa0U\\x99\\x8cWJ\\x02\\\\\\x18\\xd8\\x03\\xc20f\\x94t\\xc0\\x1e\\x94\\xaf\\xa0]\\x93;3\\\\\\xaf\\x96\\xa0\\xa9|\\xe4s\\x9e\\xdf\\x9fZ\\x8eI\\x91\\x1c\\xc8\\xea\\xce\\xcas\\xc8\\xc1\\x0b\\xe9\\x8fL\\xf7\\xa9aR\\x93\\x04\\'(\\x02\\xb39o\\x9bi\\x1c(9\\xc0\\xfe\\xb4\\x93[y\\x80L\\xb1C3\\xc4\\x03\\x07A\\x8c\\xf5\\x1b@\\xed\\x8ei\\xbb\\x8a\\xccW\\x90\\xb5\\x91\\x9e\\xe2\\x11*\\x90\\xa9\\xe5\\xa1#\\xe5=\\xcf\\xafjY\\xad\\xc3<{b\\x0c\\x83\\x01\\x81\\x07\\x92:\\x9f\\xe9U|\\xdd\\xe8\\x88\\x89\\xb6Dm\\xa4\\x01\\xd0\\xf2~n09 \\x93\\xdf\\xa5J$\\x11\\xa4h$\\x8d\\xe5\\xe5~\\xf1$\\x90{\\xf6\\x03\\xa9\\xfci\\\\i\\xb1\\xf3\\x06L\\xc9\\x1e\\xc7\\xdd\\xc1\\x8d\\x9c`v\\x07\\x8e\\x80s\\xc5C\\x03y\\x92\\xdc\\x03)\\xdb\\x1a\\x17\\x05\\x93\\xe5\\xdd\\xd8\\x8c\\xf5\\xa9\\xeeU!Y,P.\\xf8\\x9ddp\\x8e\\x01\\x1f\\xdd\\x04\\x9cq\\x93\\xf8\\xd3\\x14I\\x1a\\t\\xd9|\\xb2\\xdf{d\\xb9\\x19\\xce\\x0e}\\xf8\\xa0\\x14\\xb7$X\\x19V\\xdeF\\x1f\\xba\\xced(\\xdbCd\\xf4\\x15\\x0cW\\x11\\xc7z$\\x98\\x13\\x19?4\\'$\\x83\\xf8\\xf4\\x1f\\xa5XB\\xd2\\x1c\\xcf\\xb64Bd\\'p$c\\xa7#\\x1f\\x95Tp\\xc2\\xeaI\\xe2\\x9e7U\\xf9\\x98c\\x921\\xfe\\xce{\\xd2z\\t\\xb0\\xba\\xb3YdS\\x16\\xf8\\xe1\\x95C#\\x01\\x96\\x1c\\xe7\\x81\\x8c\\x921\\x8cR\\xc54)s\\xb7\\xc9\\x05\\x89VfV\\xdc\\xcb\\xd7\\x83\\xee\\xd8<\\n\\xafi<\\x97\\x96\\xf7\\x12M\\'\\x94>|\\xf9\\x8c\\x01B:\\x9f\\xa1\\xaeg\\\\\\xf1Y[\\x86\\x86\\xc1c\\x07\\x01I\\x07\\x85#\\xb9\\xf5\\xfa\\x9a\\xa8Su\\x1e\\x84nv\\xac\\x15n\\xa6\\xf3dH\\x8cx\\x8f\\x12\\xb1=y\\x1fL\\xfe\\xb5F\\xf3R\\xb5t\\xc7\\x9a\\xb1\\xb4\\x8a\\xa8\\x18\\xba\\xf4S\\xdcg\\xbf\\xe5\\\\\\x04\\xefsq\\xfb\\xddB\\xe2G#\\xee\\xa1~\\x14\\xf5\\xe9U\\'\\x92\\xda,\\xf9\\xa1K2\\xf0\\x0fA\\x9a\\xeaX^\\xec\\xadOB\\xd4uk\\x04$\\xcb\\x7fj\\xed\\x8d\\xaa\\xa6`\\x07\\xab}\\xde\\xbd;\\xff\\x00*l\\x1e0\\xd0\\xd5\\xd4\\x8dL<\\x9f(\\xf9\\xc6T\\x01\\xce+\\xcc$\\xb2\\x86Ef\\x0f\\x8e\\xa7\\xa7\\xf9\\xfc\\xaa\\xb9\\xb3-\\xc2\\xaf\\x03\\xaez\\xfe5\\x7fV\\x87p\\xd4\\xf6o\\xed\\x1b\\tStWV\\xce[\\xe6(\\xb2n\\xda:\\xf2\\rZ\\x85!6\\xf2\\xcd\\x1aG\\xb5\\x81\\x039\\xc8\\xcf@\\x07@?\\xc9\\xaf\\x1b\\xb4\\x81\\xad\\xa4\\x0c\\xaeP\\xaf\\xf1\\x0c\\x9a\\xea\\xb4\\xcf\\x18Md\\x0cwn\\x92!]\\x9b\\xce\\x0b(\\xf5\\xe6\\xb2\\x96\\x19\\xadb\\xc7\\xa9\\xdcC\\x1b\\xabm\\x85\\x95\\x15\\x1b\\x1bI\\xc8\\xfc?\\xfdU8|\\xa4\\x82Y\\x11e\\x03\\x00m\\xe4\\x9e\\x9e\\x9c}k\\x1a\\xd2\\xf2{\\xab\\x12\\xf6\\xd7\\x1b\\x88;\\xe3\\x7f\\x94\\x01\\x81\\xd8\\x0f\\xebW\\xadZI\\x0e7\\x16\\xf91\\x93\\x82s\\xef\\xd0\\xfe\\x1d+\\x9bU\\xb8)\\x16\\xa4$2\\xacPn@\\x06\\xe2\\\\|\\xc7\\x1d\\xbb\\xfd}h\\xe2\\xdaa\\'\\x96\\xce]U\\xb3\\x95\\x19\\'\\x81\\x8e\\xf9\\xf6\\xc5U\\xf2\\xa771#\\x16GT%\\xb7\\x1d\\x8b\\x81\\xff\\x00\\xd7\\xc6({\\x8d\\xd3\\xb0\\xb9\\x11\\xa36YB\\xf3\\x96#\\x82H\\x1d\\x7fJ.R\\x9d\\x89\\xd6\\x18\\x83\\xb33K\\x12\\xb9\\xdc\\xc4\\'\\n\\xdd\\xben\\xf8\\xf4\\x14\\xcf5\\xa2I\\x04\\x80H\\x1c\\x01\\x1c\\x84\\x10\\n\\x83\\xd7\\xd8{\\x8f\\xd4\\xd2\\xe9\\xf6\\xdeDL\\xb8\\x92U\\x91\\xb73\\xcd\\xces\\xf7\\xbf/\\xc0U\\x99\\xee\\xed\\xe20\\xca\\xc4Gl\\x98\\x8c\\xb9\\x90*\\x0c\\x9c\\xef#<\\xe0v\\xa1\\rL\\x89\\xca\\xc0c?eA\\xe4\\xa7\\xcb\\xf2\\xfd\\xd1\\x9c\\x00\\x07=\\xea\\xba^B\\xf1\\xed\\xda\\x87ke\\xc3\\x96m\\xa0u\\x1e\\xc7\\xd8V=\\xc7\\x8c4\\x8b2vL\\xf7/\\x19\\xc2\\x98\\x81!\\xb1\\xd7,\\x7fLVL\\xff\\x00\\x12HW\\x8e\\xcbHTV\\xc9c4\\x9b\\x87=x\\x00\\x7f\\xf5\\xebh\\xd0\\xa9.\\x81\\xed\\x11\\xaf\\xa9\\xc1\\x1b\\xc2$k+y\"\\xecJ\\x06o\\xc8\\x10\\xd5\\xc5_\\xdb\\xd8\\xbe\\xe5\\x16\\xc47\\xf7bf_\\xfd\\n\\xa2\\xbc\\xf1.\\xaft\\xe6X\\xca[\\x92r\\x05\\xb8\\xdb\\xfdMf_kZ\\xb5\\xcf\\xcbqr_\\x1d\\x88\\x05\\xb8\\xf7\\xc5t\\xc2\\x84\\x96\\xec\\x97\"\\xbd\\xcd\\xacI\\x90\\x90\\x95\\xf4\\xdd7O\\xca\\xa8Kir\\xa52v\\x89\\x00e%\\xba\\x83\\xc0?\\xa1\\xab\\r5\\xd3\\xe0\\x94|\\x9e\\xf8\\xa4\\x94\\xdc\\xba\\xef`\\xdf(U\\xc9\\xe3\\xa0\\xc0\\xadT-\\xd4W*42+\\x18\\x8br:\\x9c\\xf1J\\xb6\\xe8\\x18\\x027\\x13\\xf9\\x9a\\x94}\\xa5\\x88\\x18V,z\\x0e\\xb5e-\\x98\\xcaT,\\x9b\\xd7\\xef\\xa3\\x0f\\x9b>\\xf4X.\\x11Y\\x07*\\xd7\\x0ev\\x93\\x81\\x1c_\\xd4\\xd5\\xa2\\xd60\\r\\x89n\\x85\\x81\\xe7w?\\x9ej\\x8d\\xc0\\x93pYK*\\x9cp\\xb8\\xc9\\xaa\\xb2&\\xf6(\\xa7\\xcb\\x03\\xaa\\xe3\\xad\\x16\\x0b\\x97\\xe6tXZDX\\x94\\x9c\\x00\\xa8H+Q\\x16\\x91\\xa1@2\\x0b\\x13\\x93\\x9fN\\x95\\n\\x08\\xd16\\xe5\\xb1\\x8eI5qn\\x90\\xc6Q9P\\xbbCt\\xcd0!F\\x91>Up\\x15\\x88\\x0c\\xd5\\xdf\\xf8jk+5\\x86\\x05I\\xae\\xee\\x9c\\xf2W\\x80=\\x80\\x15\\xc0K \\x0cx\\x01s\\x9a\\xd4\\xd2\\xee\\xe7\\x93P\\x84\\xc7$\\xfb\\xf7\\x0cl`?\\x9fJ\\xca\\xacy\\x95\\x84\\xcf]\\x8d\\x1e;r\\xc4\\x14\\x8f\\x96a#\\x1c\\x9f^\\x7fLU\\xe9\\xe2D\\x90\\xc3\\xe6\\x15\\xf9~`H\\x1c{b\\xa2\\xd2\\xaen\\x05\\xb1\\x8el1\\\\aC\\x0eH\\xe4\\x92@\\xe7\\xb7Z\\x9cG\\x0c\\xe1\\xa4|\\x85\\xca\\x90\\x07F\\x1f\\x87\\xbdy\\x96\\xec\\t!\\x91G\\x1d\\xb3,\\x91\\xcacr\\x08\\x0c\\xear\\x01\\xfe!\\xf4\\x1c{\\xd4S[\\xcc\\xe4l\\xdc\\xec\\x10\\x9c\\xb3r\\x83\\xd3\\x1e\\xbe\\xbc\\xd5\\x9b\\x92HT\\x8eFP\\xc9\\xbb\\x0c\\xa0w\\xc0\\x00\\x12s\\xc7\\xafJF\\x86$L\\xb4\\xa5\\xa5\\x0b\\x96\\x19;\\\\\\x03\\x92z\\xe0\\xf1\\xdb\\xeb@\\xdc{\\x15<\\xb2n\\x04a\\xf34Co@\\x19\\xbdN=s\\xc5$V\\xe9\\xf6\\xa2|\\xb0\\x92#\\x02F\\xeeO\\x199\\xe7\\x9fJz\\xdaK\\x04\\x99\\xb8u!\\xc8d\\x08\\xbbH\\x1d\\x87\\xa7\\xe0*\\xeb\\xc7%\\xdf\\xca\\x8d\\xb8\\xc60\\xc4\\xe1z\\xf7\\xcf?\\xcb\\xb54$\\x8aQG\\x19t\\x92E]\\xa4\\x1c\\x04S\\x8e\\x7f\\xaei\\xd2\\xe5b\\x10D\\x11q\\xf7p7)8\\xe4\\xf1\\x8f\\xe7O\\xf2eFT\\x06N\\x03\\x06pG#\\xd7\\xa5I\\x14 \\x86\\x01\\x08;r[qlzsG)V+G\\t\\x94\\x806\\xc4\\xa3\\x92\\x02`\\xe3\\xd0r{\\xd2\\x98\\xf7C\\x86\\x966\\xda\\xc1T1\\x1f\\x96y\\x00\\xe6\\x99l\\x8e\\xb0$M*<\\xa5Iw-\\x82\\xc4w\\xe9\\x81\\xd7\\xd7\\xbdK49(\\t\\x8dY\\x13b\\x197\\x12\\xd9\\xe4\\xf3\\x9ey\\xa5\\xcaJ#p\\xf1\\x96T\\xdd\\x9e\\x80\\x87\\xdd\\x8c\\xf3\\x8f_ZQ\\x02\\x00\\xea\"X\\\\\\x80K;c\\x03\\x1cc\\x8e\\xbd9\\xa7\\xc7\\x0c\\xedo\"\\xa1P\\xcep\\xcd\\xd7=\\xb8\\xf7\\xa8\\xfc\\xc9!fV\\xdb\\xbfn\\x1fwL\\xf6\\xce;\\xf7\\xe2\\x8eD\\x12\\x1a\\x01\\'j6{\\x11\\xbc7?\\xe7\\xb5Js\\x1b.\\xe3&\\x0f`r\\x06:\\xd5x7\\x17/\\x00\\x8b\\xe6\\xfb\\xa46v\\x9f\\xf6\\x81<\\x8c\\xfe\\x94\\xf9\\xd5\\xf9V\\x07\\xcb\\x93\\x18F\\xc2\\x96\\xf5\\xc0\\xc9\\xc0\\xcf\\xaf\\xa5C\\x85\\x98\\x81\\xe2tPJ\\x1f-\\xb9\\xdf\\x91\\x8eG\\x19\\xee8\\x15(ud\\xde\\xdb\\xd7k|\\xe4\\xa6x\\xc7\\x03\\xe9P\\xb5\\xe2\\xaa\\x85\\x91\\xa630`\\xe2>r1\\x8c\\x1e>\\x99?\\x856V\\x16\\xf0y\\x88\\xf8VA\\xf79\\xc0\\xce\\x0f\\x07\\x8c\\xe6\\x9a\\xd3`\\xbb@\\x9b\\x02\\xfc\\xb6\\xf22\\x9eF\"#\\x19\\xfc\\r\\x14\\xf0\\x92\\xed\\x1bmeu\\xc7\\r\\x8e\\xa3\\xf3\\xa2\\x8b\\xcb\\xb8s2\\x15\\x9a5U\\x8d\\x9f\\x08\\xa7\\xe7\\xdc\\xbbK\\x1e\\x9f\\x96;UI\\xac\\xee\\x12s\\x08\\x927\\xdc\\xbbALpOL~\\x1f\\xca\\xad\\xde:\\x0b\\x7f:W\\x8ek\\xa4eh\\xe3\\xc6\\xef/\\x1dY\\xcfB\\xde\\x8b\\xf9\\xfaUK{\\x826\\xee\\x05H;\\x8b\\x12F\\xe3\\x8e\\xb9\\x18\\xc7\\xd7\\xda\\xb6q\\x0bk\\xa0\\xc9 \\x95\\xa7s.\\xd9d-\\xbb\\x9c\\x07\\x04\\x0e9\\xc6s\\xf8\\xd5\\x83a3[I\\x14\\xb3,e\\x91K1rT\\x03\\xc0\\x05\\x88\\xe4\\xfd)%\\xbdY\\xa39c\\x1a\"\\xedB\\x14\\xb6\\xf6\\'\\xe5\\x1c\\xd5\\xa6\\x92O1W\\xcc \\x01\\xf7X\\xe4\\xe4\\x0e\\x83\\xaf\\xe1\\x8a,U\\x86/\\x99d\\xeb\\x03F~P1\\xb1s\\x8f\\xc3\\x03\\x8f\\xc6\\xa5\\xfb=\\xb4\\xd2\\x19!\\x92\"\\x16 X#\\x83\\xf3\\x16\\xf9\\x9b\\xae3\\xf8T\\x12\\x19\\xa5\\x82T\\xf3\\xccN\\xd8R\\xd1E\\x92\\x9e\\x99\\xe7\\x8e\\x9d\\xff\\x00\\x1fJ\\xad3\\x0bei\\xa5\\xbd\\x8e\\xde\\xdf$\\x8f4\\x02]\\xba\\x92rq\\x93\\x8e\\xb9\\x14\\xafasX\\xb9ui\\x1b>\\xd4\\x841\\xc8\\xc0\\xc0n\\x83\\xd4\\x9c)\\xf74&\\x8f\\x17\\xcc\\xcf.\\xd0;1%\\x81\\xc6z\\x929\\xe0\\xf3\\x8a\\xcf\\x89\\xa7\\xb9t\\x91|\\xb0da\\xce\\xdc(\\x1dN=\\xcf\\xafJ\\x99\\xefm\\xa3\\xcaK!\\n\\x14;\\x9d\\xb9\\x19=\\x01\\x1e\\xb8\\xc7\\x1f\\xd2\\x98\\\\tP:\\xdc\\x04q\\xe7G\\x96#q\\t\\xcbp2O#\\x81\\xdb\\xf3\\xa2h\\xa7\\x8c\\xfc\\xc0\\xa0\\x04\\x04e\\x93\\x91\\x8e\\x9c\\x9cg\\x8e\\xd8\\x15c\\xed\\xf6rN\\xa3thxf\\xdcq\\xd7\\xa7\\xd6\\xa6\\x96\\xe2\\xe9\\x97k1\\x7f5H\\r\\xc1\\xcf\\xa7\\x18\\xf4\\xf4\\xa1\\xa4U\\x8aI\\x19k\\xb7\\x82\\xdf\\x91\\xb0\\x19\\n\\x1f\\x97\\x9e\\xaa\\xdcu\\xf55,\\xb71\\xc1\"\\xa47\\x1f3a]\\xb9\\x1f7c\\x82\\x08\\xe9\\xfe{TG\\xccH\\x84pD\\xe4\\x16\\x08\\xc5\\x9b$\\x1e\\xa4\\xf2}\\xb9\\xa7\\x98\\x14,\\x89!I\\xa6iG\\xef1\\x8d\\xa0\\xf6\\x0c}=\\x87J\\\\\\xa1gqG\\x91-\\xe2$>a|\\x1eC\\x9f\\x95\\x81\\xc6x=MY\\xf2d\\x9a|\\xcc\\xa8\\xc7%\\x90\\xaa\\xed\\xc1\\xc7\\x00`z\\x83\\xd6\\xa0\\xb7E\\x8f\\xccC\\x15\\xb0\\xb9e\\xca\\x8c2\\xf9\\x80\\x02Fv\\xf7=;~T\\xc4\\xd4^qn\\x19_!O\\x99\\x13\\xcd\\x95F\\xe0m\\x18\\xef\\xc8\\xf7\\xa3\\xcc\\x19a\\x1a).\\xbc\\xdb\\xcb&2\\x95\\xc3\\xbb8B\\x07_\\x94\\xf7<\\xf6\\xf7\\xa4\\x92\\x0c\\xdc\\x15\\xc9F\\\\y\\xab\\x1b\\x9c\\x95\\xed\\xdc\\x01\\xcf99\\xa9&\\xb7\\x89#\\x90\\xcb#\\x9b\\xa9\\x08\\x0cJ\\x9c \\xeaG\\xcb\\xfeG\\x03\\xad\"\\xdbD\\xb1\\xc9\\x1c\\x08\\x032\\x86\\x91\\xbb\\x0fB[\\xd3\\x8f\\xba=:\\xd1f\"\\xb4\\xd6\\xc6q\\x0cl\\xe9\\x1c\\r\\x19)p\\x17\\xe7b\\t\\xcf\\xb7A\\xdf\\x19\\xa1\\x12kH\\x9e\\xdb\\xe5\\x84y\\xc1\\xdeQ !\\xc9\\x19\\xe4\\x11\\xc1\\xe4t52\\xda!\\x94#\\x88\\xe5\\x8d!\\xd8c,Tq\\xd4\\xf0{\\xf7\\x1f\\xafj\\xe7\\xbcOy\\xa8\\xdc\\xdb\\xa5\\x8d\\xbf\\x97\\x04$n\\x96P\\xb8U\\x03\\x80\\xa3\\xbe{\\nqWv&\\xc6/\\x89\\xfcS\\xf6\\x85\\xfb\\x14h\\x8e\\xe4\\x92\\xdb\\x86Q\\t\\xea@\\xeeORk\\x1fL\\xb3\\xfd\\xd9y\\x94zd\\x8cu\\xf5\\xac\\x88]c\\xbb2\\x97\\xc4q\\xb7\\r\\x8e\\xa6\\xb5\\x96\\xf1.#a\\x13\\x00z\\x90\\xbe\\xbd\\xbf\\xc6\\xbd\\x18EAY\\r+\\x0f\\xbc\\xb9\\x8d\\x19\\xcb)\\xc2\\x83\\xcf\\xf4\\xaef\\xee\\xed\\xa6\\x9c\\xc8[\\x04\\x9c\\xd4\\xf77/*\\xecf\\xe1Ilc\\xa15\\x92\\xed\\x92H\\x04\\xe3\\xadSc74\\xfb\\xdc\\xb6\\x1d\\x80\\xce~bj\\xfc\\x87\\xe5$\\xc8\\x0ez\\x01\\xc7\\xe3\\\\\\xee\\x9e\\x0bN\\x0f\\xf0\\x8e\\xa7\\xd2\\xb6\\x8c\\xb1K)\\x1b\\x14\\x8e\\x83#\\xfa\\xd0\\x98\\x11\\xcd\\xe6m\\xf9\\x19\\x89\\xf4-\\xfc\\x8d2\\x05G \\x18\\x83\\x16\\xecz\\x8a\\xb3%\\xbb+\\xe1y\\x03\\x95\\'\\x8a\\xae\\xd6\\xbeb\\xee\\r\\xb1\\x8eO\\\\sL\\r\\x1bMJ})\\x88\\x8aIPu\\x00\\x1c~\\x95\\xa9\\x07\\x8e&H\\x19\\x1e\\x08\\xa6 \\x8f\\xde)*\\xf8\\xfaw\\xac,\\xb4\\xb0*LF\\xf02\\x1c\\x1eG\\xbdf(x\\xee\\x89\\x00\\tT\\x90\\xc0tj\\x97\\x08\\xcbt\\r\\x1d\\xeax\\xfe\\x07\\x88,\\x96\\xee\\x83!\\x8e\\xc2\\t8\\xe8=\\x85N|}hV<X\\xcb\"\\xa8\\xf9\\x83H\\x06\\xec\\xfe\\x15\\xc3\\x8bD\\x9c\\x06\\\\#\\x0e\\xa0\\xf4\\xe6\\xa30\\xacl7\\x15\\xc0\\xe3\\x8e\\xf5>\\xc6\\x9faY\\x9dN\\xa5\\xf1\\x0fS\\xb8\\x1b-\\xccv\\xd1\\xa9\\xe0D\\t\\'\\xd3$\\xf1\\xfaW-w\\xa8\\xdd^\\xb9\\x96y\\x19\\xdd\\xba\\x969&\\x89\\x92\\x12\\xb8\\x0e\\x1b\\xd1G\\xaf\\xb9\\xaaQ\\xc8b\\'\\xcd\\x8br\\xfa\\x12H\\x15\\xa2\\x8cc\\xf0\\xa1[\\xb9\\x1bI)\\x1c\\xc8\\xdbG\\xbf\\x15v\\xda\\xf4\\xec\\xf2\\xdd\\xbe_P\\x0e\\xe3R\\xa5\\x80\\xbe\\xf9\\xe3\\x9cs\\xd1|\\xaf-G\\xe6\\x7f\\xc6\\xa4\\x9fN\\x92\\xd56\\xc6w\\x95\\x1f3 \\xc8\\x1f\\x8d1\\x8aJ\\x84%A\\xdaO\\x03\\xa6~\\xb5\\x1b\\xcc\\xca\\x84(\\x03\\xdb\\xd6\\xa0\\x8c\\xe7\\xee\\xc9\\xcf\\xa1\\x1f\\xd6\\xa7X\\xf7\\x9c\\x03\\xf3z\\xd00K\\xdb\\xa5M\\xbd\\x17<\\x9f\\xfe\\xbdN\\x93\\xcc\\xb8\\x01z\\xff\\x00\\x9e\\xb5j\\xd2\\xd8eT\\xb8RFN\\xfe\\x87\\xf1\\xa5\\x95\\xc4.RUBGO\\x97\\xf5\\x14\\x01\\x1a\\xb1\\x113\\x98T\\x82NAZ\\x8c\\xdd7A\\x08Q\\x9c\\xf5\\xe7\\xf3\\xea*f\\xbb\\x88\\xf0X\\x10\\x0f\\x18\\xe0\\x8f\\xa1\\x1dEI\\xe6\\xda\\x13\\xbaD$z\\x9e\\x08\\xed@\\x14\\xa7\\x99\\xc2\\x86\\x00n\\xeb\\x82s\\x9f\\xc6\\xaaG$/q\\xfb\\xf8\\xc8\\xc9\\xce\\x00\\xfd*\\xeb\\xcfi$\\xfb\\x19J\\xa1<\\x81\\xd0\\x0f\\x7fzm\\xcd\\x94$\\xab#\\x10W\\x9c\\x83\\x91\\x8e\\xd9\\x14\\x08\\x89\\xad\"\\xb8\\x8d\\xde\\x08\\xdd\\xd9W%@\\xac\\xe5(\\x81\\x84\\x8a\\xca}\\x85kL#\\xb6)\\xb5\\x88$\\x8d\\xf1\\xe4\\x81\\xf9\\xfaVv\\xa2\\x8c\\xb7,\\xcc\\xea\\xfb\\xce\\xed\\xca1\\x9f\\xc2\\x90\\xca\\xceT\\xe3k\\x92?\\xdd\\xc5hh\\xd3<z\\x84B7Tb\\xc0n<\\xd6aS\\x8e\\x0eA\\xe9\\xda\\xb6\\xfc5e\\x15\\xde\\xa5\\n\\\\\\\\y\\x11\\xef\\xf9\\x9c{s\\xd7\\xb5D\\xadmD\\xcfk\\xd3\\x84\\xd3yov\\xfb\\xb6\\x0f6@\\x80\\x80\\x00\\x00rs\\xdc\\xf6\\xc55\\xafD\\x8b\\x14H\\x8a\\n\\xb1\\xe1\\x178\\x07$\\xf3\\x9c\\xf6\\xa8\\xecX\\xc9f\\x91\\xc8I]\\xdf\\xbb\\x01\\x81s\\x8c\\xed\\xfa\\x0e\\xf9\\xff\\x00\\xf5\\xd4\\xc2\\xddnd\\x10\\xdc[\\xf9L\\xd9\\x0c\\xd9\\x04\\xb7\\xe2O~y\\xaf-\\xa6\\n7\\xd1\\x0f\\x12\\x84\\x82\\xd9\\xa2~[\\x84\\xf3T\\xe5\\x06I\\xe7\\xd2\\x96T1\\x07\\x91\\xf6\\xccX\\x08\\xd5\\xd0\\x11\\xb8\\x1e\\xbc\\xe7\\xb1\\xe7\\x8a\\xa4\\x96\\xd6`4v\\xd2>\\xef0(M\\xcc\\xc9\\x81\\xd8\\x1e\\x98\\xa9\\xd6\\xdcF\\xca\\xb2H\\x93[\\xc2\\t,\\xae\\x19\\x89\\xcfN\\xbc~T\\xac\\xc7\\xca\\xd1r[\\x991\\x18R\\x08\\x03\\xe4\\xdc\\xdd0=OO\\xf3\\xde\\xa0\\xf3\\x80H|\\xc7\\x81\\x9b\\x05\\x95]pA\\xe8[\\x1dO\\xa6O\\xa5Q\\x9au\\x96y$\\x9a\\xdeB\\x18\\xae\\x19\\xdb=\\x06I#\\xa1\\x07\\xf9v\\xa9\\x1e\\xe2\\t\\x19e\\xb4C\\xe66<\\xc3\\x17\\xccYzc\\x83\\xc6\\x05\\x17\\x11\\xa8\\x924)\\xb5\\x98\\x19\\x9d\\x8f,p1\\xeaGZ\\xaaY\\x9f\\xe7\\x9f\\xe6\\xdf\\xf2\\x80#\\xdb\\xb4\\x13\\xeb\\x8fc\\xf9UX\\x1e&\\x95\\xe2I\\x83$E|\\xd5\\t\\xc8=@\\x00\\x9e\\xfe\\xa6\\x9bqu\\x04\\xb3\\xa9\\x95\\x15\\xa5\\xc8.\\x03o\\xd9\\x93\\xf8\\x85\\xfeg\\xf4\\xa7\\xa0\\xf64\\x03\\r\\x93E\\xb8\\xeeV;Y\\xc8o\\xa7#\\xd3\\xd7\\x9a\\x84\\xc0\\x8b#\\x92\\xe5\\xd0\\xe0\\x85\\xdcH\\x1d\\xf2\\x0f\\xf45^;\\xa1\\xe6D\\xd2\\\\\\xc7&\\xec\\xaf\\x97\\xbf\\x00\\x10z\\xe6\\xa7\\xb5\\xbd\\x83\\xf7\\xd0\\xab\\'\\x9e\\xab\\x83\\x12\\xe0\\x94\\x04\\xf3\\xf9\\xf4\\xa1\\x02\\xb1\\'\\xfaLRG#2\\x88v\\xf4\\xe7\\x8e3\\xf4\\x15Y\\x8c\\xd1\\xca\\xc4\\x13\\xe6\\xf0N\\xdf\\x98\\xe3\\xaf\\x1e\\xbcT\\xcb*+\\xac\\x12\\x90\\xf0\\xaa\\xfe\\xe8\\x03\\xbdO\\x19<\\x0e\\xbf\\xaf\\xe3V\\xe6C\\x01\\x02Tbc\\x180\\xa0\\x00\\xaeFN}?\\xcf\\x15Ad\\xcc\\xdby\\xbc\\xc9\\xb1$-\\xbb\\x05\\xb1\\xb79=q\\xedS\\x18\\xe6.\\xb39$8\\x19\\xc3n\\xc7\\xa0$\\x9f\\xf2\\x05]ymZ<\\x92\\x88\\xc1\\xd5L@\\x13\\xb8\\xf4\\xeb\\x8f~\\xa6\\xaa]J\\xc0\\xba\\xb3\\xaclq\\xe5D1\\x93\\xdb\\x8e\\xd8\\x1diX-a\\x8d\\x0c\\xd1\\xa4\\x88\\xaa\\xb2\\xec]\\xbb\\xf0z\\x1ex\\xcf8\\xa6\\x84\\x8eM\\xb1yL\\xa0\\x92U\\x98\\xe0\\xe7\\xbe=\\xf3\\x8a\\x91Y\\x94\\x05gG\\x8dp\\xa8\\xe9\\x96\\xc9\\xe9\\xf3\\x1c\\xfa\\xd3|\\xf1\\x16\\xe7\\x91w\\x15\\x7f\\x95\\xd8r\\x00\\xed\\xd7#\\x9e\\xd4\\x15k\\x8b\\xf6\\x89\\xc9-\\x1c\\x8a\\xeay\\xc9Py\\xef\\xd3\\x8a*x\\xe0G@\\xd1\\xc5t\\xca{\\xc6H\\x07\\xf2\\x034Q\\xca\\xc3\\x91\\xf43e\\x86\\x1f1\\xe7\\x0c\\xa8\\xa1K\\x9d\\x9c`}I\\xfa\\xd2F\\xf6\\xaaDW\\t\\r\\xc2\\xba\\x88\\xd9\\x8a\\xe5F[#\\x93\\xe83\\xd2\\xa3\\x8a+7\\x96\\t%yW\\xcb\\x8d?z\\x879\\xceN\\xc2\\xa3\\x82G\\xbfJ\\x9ek\\x88.\\x82<i \\x91G\\xee\\x8a),\\xe4s\\xbb\\x00v\\xc7J\\xab\\xf6#\\x98l[ZfkR\\xaf\\t\\xf9VP\\x07a\\x9e\\x1b\\x8fn\\xb9\\xc5[X\\x03\\x1c\\xce\\x15\\xb3\\xc8 \\x13\\x91\\xf5\\x18\\xec}\\xa9\\xb6\\xd0\\\\\\xa4\\n\\n\\x89\\x01\\xc9\\x96e\\xf9]\\x8bs\\x90>\\xb9\\x1fJ\\xabc-\\xd5\\xd2\\x8b\\x8d\\xa9\\xfb\\xcc)\\x85\\xb9\\x00\\xe3\\x01s\\xd7\\xb7\\xaf\\xb5\\n\\xe1}u%\\xb9\\xb0\\x8e\\x19\\xc8\\x88\\xc4\\xa5\\xd8\\xa2mRr\\xbdH\\x0b\\xd0\\x0e\\x83\\xbdEqo\\x0ci-\\xc5\\xccq\\xcd+/\\x96! \\x1c\\x8cg\\xa7LS\\xe1\\x90\\xca\\xf1\\x86.\\xb1\\x80\\x10 \\xc029\\xfdp)\\xabq%\\xa5\\x9d\\xce\\xd9U\\xafm\\xfeE;\\x81\\x01\\xb7`\\xae1\\xc9\\x1fCM0\\xe6*\\x1b\\x86x\\xd6;\\xcb2\\x8e?\\xbe\\xd9\\xc1\\xfe\\x10G@@54j\\xa6\\xdd\\x8bA\\xb5X\\r\\xdb\\xces\\x9e\\x063\\xd4\\x9fZ\\x18\\x85\\x96A\"\\x87m\\xa6X\\xf3\\x9f\\x93-\\xd7\\x1d\\xcex\\xe7\\x14\\x97\\xf0\\xc5i\"\\x92\\xfbw\\xa2\\xab\\x81\\xc8\\xdcNK\\x05\\xcf\\xe1\\xdb\\'\\xda\\x95\\xec;\\xdbr\\xbe\\xe3\\xe7\\xb42!\\x9a(\\xa5V\\x1bH*\\xc7\\xe9\\xdb\\x02\\xae>At\\x8eYD,\\xbbU\\x1b\\x8c\\x11\\xd3\\x1f\\xfdze\\xa8\\xb2\\x93\\xcd\\x05D\\xae\\xc1\\x97\\xcb@\\x11\\x18\\x81\\xd4\\x9ex_a\\xc9\\xe4\\x9e\\xd54\\xd6\\x8d;\\x89T\\x98T.61\\xc1B\\x0fN\\x9c\\xf1\\xc8\\xcfZcL\\xac !\\x83\\xc8VR\\x84\\xf9r*\\x0f\\xdd\\xf7<u$\\x9ex\\xc5]\\x8e\\xef\\xccW\\xf3^6tPI\\xdd\\xd0\\x1f\\xafz>\\xc8 \\x91$ir\\x1b\\xef`\\xed\\xcb\\x1e\\x83\\xdc\\xd2<0YJ\\xb1\\xf0\\xbep\\x00d\\x87Wlg\\x93\\xd7\\x8e\\xff\\x00J4C\\x142H\\x8cI@\\xed\\x9d\\xa4\\x0es\\xe9\\x81\\xfaTr\\xda\\xc4\\xf2\\x172\\x93)\\x00\\x07U\\xc3#\\xe0dzc\\xd8\\xd4\\xa8\\xa6(\\x80\\xb5\\x8d\\x95I\\xf9\\xdc\\x1c\\x07rz\\x9ar\\x13m\\x1f\\xcf\\xe5\\xa1\\x04\\x99\\t\\xcf9\\xec?\\xcf8\\xa4+\\x10\\xb43I\\x0f\\xc8epNX\\x0c\\x0c\\x81\\xd8\\xfaf\\xad\\xdb:\\xdb\\xee\\xb7\\x8eH\\x9fz\\xab\\xbb\\xaf\\xddR\\x07\\x18\\xc8\\xe7\\x1d*1!\\xb5%\\xfc\\xe8\\x1d\\xc3\\x01\\xf2\\xb1;\\x14\\x8eF:\\x0e*Ie\\x85\\xe3TA#\\x8cd\\x92\\x80\\x10}\\xb8\\xe3\\xf1\\xa4.R\\xb5\\xbc\\xfew\\xdaC\\xcc\\xbbH\\xcbol\\x10\\x07\\xf7{\\xe7=\\xc5S\\xd7\\xe3\\xce\\x9ebM\\xcd\\xe5\\xe6?\\x99\\xb8RF\\x0e{\\x16#\\xbfQZi\\r\\x8e\\xd13@2\\xa7i\\xc2\\xe4\\x81\\xd4\\xf2y\\xfa\\xe3\\xadfj\\xb1\\xc95\\xb4\\x93\\x94\\x99[ )d?(\\xc7\\x18\\x04c\\x1c\\xfe\\xb4$\\xd0Y\\xa3\\xc5u\\'!\\xe6D\\xc2\\xa0\\x94\\x8d\\xb9\\xcfJ\\xb9\\xa3\\xc4\\xeb\\x10\\x9b\\x81\\x93\\x80[\\xd3\\xd7\\xf3\\xa7\\x9bM\\xda\\x8c\\xfeb\\xa4\\x9eb\\xec\\xc1\\x1d2A\\xe0\\xf6\\xe8?3Z2\\x88\\xe3\\xb5*v\\xae\\x07\\xca\\xa3\\x81\\xff\\x00\\xea\\xafN;\\\\\\x0c+\\xd9L\\xbfhuP\\xaa\\\\p;\\xf1\\x8a\\xa1\\x1aM\\xb5\\x84l@~\\x0e;\\xd5\\xeb\\xa5)\\x11PF\\xd3\\x8c\\x90}\\xe9\\xaa\\xa6KUX\\x19W\\xe6%\\x89o\\x9c\\x8foN\\xbdhcA\\xa6\\x98\\xa2\\x91\\x92RVN\\x9d*I\\x83C6\\x19q\\x93\\xc3\\x8e\\xf4\\xf8\\xa0;\\xc3\\xa8Y\\x90`F\\xae\\xc0\\xbf\\xd3\\x8f\\xebUo.\\xa4\\x91\\xf6:\\xed\\x03\\xa2\\xd0\\x984m\\t\\x15\\xe2\\xdc\\x018\\xe1\\xb9\\xe9\\xfepj&*\\xdc\\x82|\\xc1\\xc98\\xebXq]\\xc9\\x1c\\x80\\x83\\xc6s\\x8c\\xf1\\x9a\\xb9\\xf6\\x90\\xce\\x02\\x9c\\x12z\\xfa\\xd3\\xb8\\x8d\\tK\\x1bP\\x14\\xedx\\x980\\xfc\\x7f\\xa5Q\\x9ee\\x12\\x9c.9\\xf9\\x91\\xbb{T\\x17\\x97,\\x18\\x06$c\\xee\\xb8\\x1c\\xfb\\x83\\xf4\\xa8\\x8c\\xeb(W\\xdd\\x97\\x03\\x07#\\xa8\\xa2\\xe34D\\xcf\\xe4+DH8\\xc6\\t\\xceG\\xa5=.\\xc4\\x89\\x99\\x14\\x96\\x1dMT\\x88\\x95\\x88\\xb2\\x10A==)2\\x19\\xb28>\\xb4\\\\\\x0b\\xf1\\xdc}\\xd4\\x10\\x90\\x1b\\xee\\xb3\\x0c\\xe6\\xa3\\x9a\\xd1K\\x96\\xe4\\x1e\\xbbT\\x7f\\x87Z\\x82;\\xb2\\x8eF\\x00=\\x0f|\\xd5\\xd8\\'-\\x89#$0=Tp1\\xedM1\\x14\\x15\\xe6\\xb2\\x97hg0\\xb7U\\x04\\x90\\x7f\\x0f\\xf2kN\\x18L\\x81\\xa4\\x8aF\\xd9\\xc6T\\xb1+\\xcf\\xbfO\\xd6\\x9e\\xb3#\\xccc\\x964\\xc9\\x19*A\\xc6}\\xbd\\xbf\\x95M=\\xbck\\x1e\\xdb)3\\xbb\\xe6\\xc0n\\xfe\\x9c\\xf6\\xfdi\\x81Z\\xe0\\x17q\\x14Af w;\\xbe\\xb8\\xe9\\xf9\\xd5\\x02\\x8f\\x0b\\x87 \\x9e\\xe0\\x13\\x9a\\xb2d\\xf96\\x85Ul\\xfc\\xc4\\xb63\\xeb\\xc5@\\xcd\\xb5\\xb2\\xb2\\x06\\xea@\\n?\\x9d /\\xad\\xc8\\x92\\xdfz)\\x0e\\xa3\\xb6{\\x7f\\x9e\\xb5FK\\x95\\x95vH0\\xdf\\xc2\\xde\\x9fZta\\x93\\xe6\\xc9;\\xbd\\xf1Uo\\xa3))\\xe3\\x8f_\\xf1\\xa6\\x03\\x95\\x99\\xd8\\xc6\\xc4\\x06\\x03\\xd7\\xef\\x0e\\xf4\\xe8\\xa5eo(6A\\xe8\\xa4\\xf1\\xee*\\x88|`\\xe7\\x04zU\\xc5U\\x9dC\\x00\\xdd\\x06T~T\\x80W\\x8bq\\xc8\\xc8$d\\x0cs\\xee*[i\\xa6\\x87\\xe5?2c###\\x1d\\xa9\\xf1Dv\\x00\\xee~a\\xb9\\x1f\\x1d\\x08\\xf5\\xfaT\\x91\\xc7\\x97e\\xc9\\xc0\\xe4\\x8f\\xee\\xe7\\x83\\xfa\\xd0\\x03a\\x9e\\x0b\\x8d\\xd0M\\xf2\\x83\\x92\\x84\\xff\\x00\\x0b\\x7f\\x9f\\xf3\\x9a\\xcf\\xbb\\xdb\\x1f\\xc8\\x17/\\x9e\\x80\\xe7\\x1f\\xe7\\xd2\\x8b\\xa5\\xf2\\xae]1\\x8c\\x1cc\\xd2\\xa3\\x99\\x8bl\\x93q\\'\\x1bO\\xbe:~\\x941\\t\\x08\\x92O\\x97nH\\xe81^\\xbd\\xe1\\xcf\\x0f\\xd9Y\\xd9[\\xce\\xd1I\\xe7`|\\xd2\\x80\\xe063\\x9d\\xb9\\xe6\\xbc\\xe3@\\x8a;\\xeb\\xe8\\xad\\xe6u\\x8by\\xda_\\xbf\\xb7\\xb7\\xaf=k\\xd9\\xb4\\xc71\\xa4~P\\xf3`\\xda\\xc8c\\xec@\\x1c\\x9c\\x9e\\xf8\\xef\\\\\\x98\\x89\\xb5d;\\xd8\\xb9>\\xa8\\x92\\xc3\\xfb\\xeb8D\\x00\\xe0\\xcb\\x12\\xb2\\x16<\\x11\\xb7\\xe5\\xc9>\\xd9\\xcd=\\xef\\xedZSl\\xac\\x1e_,\\xb1\\x12\\x90\\xaf\\xb7\\xb8\\x07\\xd7\\xb7\\xa8\\xaa\\xe2$\\x88p|\\xb5S\\x98\\xd3\\xce+\\x8e\\x878\\xc8\\xa7K\\x18y\\xd9\\xa3r\\x10\\xb0q!q\\x90O\\\\\\x8c\\xfe\\x19\\xeb\\\\\\x97}G\\xcc\\xfa\\x93\\x9buy\\xa3\\x8a\\x07\\x96%~\\x9b#\\xdd\\x8cu\\x1cq\\xf9\\xfaSe\\xb6\\xb9[\\xb2\\xa8\\xa42\\xfc\\xc3v\\x13w\\xd0\\x1c\\x7f\\xfa\\xa9\\xdb\\xd1\"\\xb8\\x9d$\\x91\\x9c;/\\xcas\\x8e\\xdc\\xfa\\xf2zU\\x0bmF;\\x85\\x8a\\xd4\\xac\\xd7L\\x1c\\xc2\\xa0\\xb0\\x0c\\xb8\\x1c\\xee,A\\xeb\\xe9\\x9e=(\\x1f1y\\xa3\\x9a\\xea\\xedCy^S\\xfc\\xb8\\xd9\\xfc_N\\xfc\\x8cf\\xab\\x96\\xb63y7,\\xc8\\t\\x0c\\x12\\x12\\x17\\x00\\x1e\\xc79\\x1c\\xfety\\xac\\xd2*\\xc6\\xd0DBa\\xc8R\\xa0zc\\xbf\\xd2\\xa2\\x8c\\t\\x03\\x85\\x96\"7ygb\\x13\\xb0\\x0e\\xa0\\x13\\x83C\\x07\\'rYl\\xadV\\x00\\xedpL\\xad6\\xf5\\xd9\\xc1$\\xe7\\xae\\x07?\\x8d5\\xad\\xe0uM\\xeb\\x80\\x10\\xb6\\xf0\\xdb\\x95}\\xceG\\x1fZY\\xa0+1ug\\xf2\\xc8,\\x11\\x14\\x06\\xeb\\xcbg\\xaf\\xe7S)v\\xc2\\xf9\\x92;)8]\\xe0\\x0c\\xf4\\x1c\\xe7\\xb8\\xedE\\x98\\xf9\\x88QP `\\xdf/\\n\\x1d\\x0ew\\xf7\\xeb\\x8c{\\xff\\x00\\x85\\x12\\x86\\x96Yc@\\x167$\\xbc\\x91\\x8c7\\xa7^\\x9d*14Q\\x89#\\x90\\x02\\xacH\\x05\\x89\\'\\x1e\\x99\\x07\\x93Vm\\xadm\\xc5\\xd4m\\x19l\\x95u\\x11\\x11\\xc1<\\x9c\\x0f|P+\\xa6\\xf5 \\x12Oe\\x1cPC\\x19V,<\\xa2\\xea\\x00\\xcf\\\\\\xe7\\x07\\x9f\\xa5Of\\xb22\\xf9\\xf2\\xc4\\xc2D\\xe7l\\xa3\\xaf8$\\x8e\\xc3\\x9e3\\xcf4[\\\\\\xa2\\xb8W\\x84n\\x00\\x15\\xc7\\x01=\\x08\\xe7\\x8a\\xb1\\x04\\xa8\\xaf\\xbe<\\xb3\\xa2\\x03\\x90\\xd8\\xfb\\xc7\\x8c\\x8c\\xf5\\xff\\x00\\nh\\xa4\\x97B\\xbe%t|\\xc3\\xe5.\\x0e\\xfd\\xa7w~\\xfcd\\x0f\\xca\\xa3h-\\x9d7\\x02\\x03l\\xdcdC\\xdb\\xdf\\x81\\xda\\x9d:/\\xcc\\xe8\\xdf#\\x10\\tV\\xe1H\\xe7q\\xc8\\xebN\\x92&v\\x8c\\x91\\x0b\\x89\\x08\\x8f\\x0b\\xc9n3\\xcfO\\xcc\\xd0$\\x85\\xb41>\\x19\\xbc\\xc1\\x13\\xf2\\xa1\\x8e>^\\xdc\\xfeX\\x03\\xda\\xa2X?|\\xc2\\x06\\x95\\x90\\x1d\\x9c\\x8e\\x84\\x8e\\xb8\\xa6@^;\\xbf\\'k5\\xbad\\xa9\\xf2\\xf7\\x14\\x1e\\x99\\x04\\xf1\\x9e:T\\xe9v\\x81\\xa6c\\x18M\\xc4\\xaeB\\x93\\xbb=M\\x0c7\"f\\xf2\\x98\\xa4\\x8c\\\\\\xa9\\xc0+\\x19\\x1f\\xd6\\x8au\\xcd\\xc2[\\xba\\xa3\\\\4d\\xa88\\xcf_q\\x93E!Y\\x90Cn\\xd0\\xc9$\\x92\\xcf\\xb9\\xc2\\xf9\\x92\\xa4`\\x02\\xa0\\x8eq\\xce\\x01#\\'=\\xb3\\xdc\\xf1T\\xaef\\x8e{\\xe5xK,\\xaa\\xca\\x868\\x9b\\x0b\\x10\\xf4\\xc8\\x1f1\\x1c~\\xbe\\xb5j\\xc9e\\xdc\\xd0\\x96V3)\\x9c)\\x05\\x8f\\x1d7)\\x18\\xfc\\xcfn\\xf4\\xc8b\\x03e\\xd4RF\\xd1\\x86\\xdd!\\xe0\\x02X\\xf2\\x06}\\xbf!Om\\x8c\\x89.o|\\xb3\\x1ci2\\xaf\\xda\"\\xc7\\x96\\xb8bB\\x9c\\x12q\\xf5\\xef\\xfaR\\x8d\\xe2/2\\xdd\\xf7\\xc8\\xc1[\\x0cz\\x1c\\xfa\\xd56\\x8c\\xdc\\xdd\\xb4PC$\\x88\\x92\\x11\\xb5\\x10.\\x06s\\xc1\\xcfLb\\xa4\\xb8GK\\xf6\\xde\\n[\\xaa\\x8c\\xa4g\\x00\\xa99\\x08I\\xed\\xc5.\\x81g\\xb90\\x8d\\x14\\xc7\\n\\xdcF\\xea\\xe7\\x0c\\xe4gn\\x0e2\\x00\\x1c\\x91\\x8a\\xa9\\x1a\\xc9+\\xf9q\\xc0aK\\x99|\\xb3\\xb2!\\xd0\\x9f\\xe2=\\x87\\\\\\x9c\\xf7\\xab\\x97\\x17\\x06\\xddZT\\xb7\\x8ey$\\xda\\xd9P\\x07\\xca\\xa0\\xe4\\x9e{g\\x18\\x1f\\x9dE\\x1d\\xc2A\\x0f\\x9e\\x81\\xa42\\xa6\\xf2\\x11\\x81f\\xc1\\xe8\\x0f\\xd0\\xf5\\xa3@\\xb0\\x97\\xc1\\xa2\\xb8\\x85\\xe0\\x86<0\\xcc\\xa1T0\\t\\xce9?x\\x91\\x8fZ\\x81\\xe10E\\x14\\xa8\\x9ecM\\xfb\\xe6\\x95O(;1 p1\\xc6\\x7f\\n\\xbbvO\\xd8\\xfc\\xd7\\x9e$\\x84\\xc9\\xb7\\x05\\x8f\\xcd\\xcf]\\xbf\\xc5\\xceG\\xe1X\\xd1A4Q\\\\\\xda\\x978\\x91\\xbe\\\\\\x91\\x18*[?&z\\xe3\\xdf\\xf2\\xa6\\x8a\\xb1\\xa6\\xaf\\xe7\\xdf\\\\&\\xdf-!\\x00\\x99\\x0b\\x92\\x06\\x06O=\\xb9\\xcej\\xc5\\xbc\\xf2ZZ\\xcc\\xd2\\xb3o\\xdb\\x85P\\xa7\\xf7\\x998\\xda\\xa7\\x9e\\xc6\\xa2\\x9a4\\x96\\xc6ct\\x9f\\xbep\\x912\\xc6\\xc5I\\'\\xa8\\xc60s\\xd4\\xff\\x00\\xf5\\xf9V\\x96\\t\\xf1\\x1f\\x94\\x91\\xcfl\\xc3\\x0f\\xc8\\x07\\x8e\\x98\\x07\\x91\\xc0\\xed\\xc1\\xa7\\xb0j\\x89\\xc5\\xd4\\xabj\\x10\\xbaI\\x18\\x94\\xe22\\xa1\\x88lg<\\xfdGA\\xf9\\n\\xae\\xc0Am\\xe4Co!\\x8e\\x17>k\\x10K9\\xf4\\xf6\\x1f\\xfd\\x7faT\\xad\\xe5\\x99\\'\\xbai\\xdf\\xc9\\x85\\x1b\\xcd\\x8e2\\xfbs\\x9e=0x\\xea=\\xebI\\xf5\\x10Z\\xe8\\xc8<\\xbd\\xd8}\\xa0\\x9c\\xaa\\x93\\x9f\\x94{\\x93I\\x05\\xbb\\x88\\x93\\\\\\x9f1\\x92\\t\\x1f\\xce\\x01\\x14\\x01\\xf3\\x002p\\xa3\\xd7\\'\\'\\x8a\\x18<6\\xaf8\\x05\\x18\\x9c\\xc8\\xe7%W\\xb79\\x1dy\\x14\\xfbS\\x18\\x92Q3\\x130A \\x8f\\xcd\\xc0\\xc9\\xe3n\\xde\\xf8\\xf4\\x00\\x03\\xeb\\xda\\x96\\xc2\\xe3\\xedr\\xec\\xbe\"x\\xb6\\x1d\\xf1\\xbfV\\x1f\\xc2@\\xc6\\xdcf\\x99V\\xd2\\xc5{ur\\xbb\\xd1\\x84\\xca>Ev\\x18Y\\x00\\xe0\\x91S\\xdc\\xb0y\\xdb\\xec\\xe6<\\x15\\x18\\x91A\\xc1#\\xab\\x1a\\x89m\\x8b\\tUX\\xc1\\x19\\x01]\\xa3}\\xc0\\x1e\\x06\\xee}\\x7f\\n\\xadq\\x04\\xc8e!\\xd1\\x82\\x11\\xe6#\\xab\\x13\"\\x0e\\x061\\xc7\\xcc\\x7f\\x95&\\xc1\\xdd\\x97..n%\\xb6UG\\xdc\\xe1~t\\x18\\xc0q\\xd0g<\\xf1\\xce\\x07<\\xf3Y\\xda\\xf6\\xab\\x16\\x93k\\xe5*\\x01;\\x0c\\xa8r>\\x7f\\xf6\\x89\\xec\\xb9\\xfcj}Z\\xea\\xda\\xc6\\xc9\\xe7\\x9a\\'\\x93j~\\xed\\x03q\\xcfL\\xe3\\xb7oS^W\\xab\\xcby\\xa9\\xeaRL\\xeeK?A\\xe9\\xf8V\\xf4is\\xea\\xf6\\x17\\xa9$\\x97V\\xf1M\\xe7I2\\xc919m\\x83\\xe5\\x1d\\xbbU+\\xbb\\xa1/\\nq\\xceI\\xed\\xcdf\\xcfk5\\xbb\\r\\xc3\\xbfj\\xb5m/\\x98\\xa6&C\\xbf\\xb1\\xae\\xdb\\x8c\\xab*\\xb2\\xf1\\xb82\\x9f\\xc7\\x155\\x84bfx_\\xe5U\\xe7wB*g\\xd3\\xdc\\xb29m\\xb9\\xf58\\x03\\xe9Ot\\x8e\\xd7-\\xb8\\x82\\xc3\\x1cR\\x02\\x115\\xae\\x9b!x\\x9d\\xe5\\x97\\xa0\\xe3\\n:\\xfe}\\xab.Wi\\xe4.\\xc0rz\\n\\x91\\x84l\\xe4\\xe0\\x9c\\xfaqK\\x9f\\x97\\x95 {P\"\\xb1M\\xbe\\xb5$JH\\xe0\\xd3d\\x1c\\x9c`\\xd5\\xed-a\\x9aC\\x1c\\x84\\xee \\x81\\x8a\\x00\\xab,\\x86P\\x15\\x87^\\xf5q-\\xd2\\x17\\xdf\\x19\\x8eD\\xe8pz~\\x15\\r\\xfd\\xa9\\xb1\\xba\\xdaHe\\'*~\\x95jk\\xbbf\\xb6%`hf=B\\x0f\\x95\\xa8\\x02\\xac\\xd2\\xaa\\xcc|\\xb0\\x15OP\\r*\\xc872\\x82v\\xb0\\xe2\\xaa\\xcc\\xdb\\xe5\\xdc\\x14/\\x1d\\x00\\xa9`\\x04\\xb208#\\xad\\x03,\\x12\\xa5\\x81n\\xa4d\\x11\\xd75.\\xf1\\x16\\xd7\\x8f#p\\xc9\\xf5\\x15V\\xe5\\xb1\\x80\\t\\xda\\x19\\xb0}pqB\\xcb\\xba\\x1c\\x1f\\xc2\\x98\\x8di.~\\xd1\\x12\\x0e\\x92(\\xf9H\\xea*/4\\xc9\\x1e\\xf2Apy\\xe2\\xb3\\xd2C\\xb4\\x0c\\xe0\\x83\\xc1\\xf7\\xa9\\xd7,3\\x9e\\xbdw\\nw\\x02i\\xae\\x9fj\\xf2A\\x03\\x1e\\xa0\\xd3U\\x92d\\x19nW\\xa6\\x0e?\\xfa\\xf9\\xa9c\\x89%\\x87\\xcas\\xf3d\\xe1OO\\xa85Yb17\\xc8O\\x1cc\\x1c\\xd0\\x04\\xd6\\xf2\\x18\\xf7FT\\xb4d\\xff\\x00\\x17\\x1f\\xaf\\xadX\\xbaD\\x92\\x1cn;\\xb1\\x90\\xc1x>\\xd5\\n3d`\\xfbr{z\\x11\\xe9Sa\\x90\\x94c\\x98\\xc7\\xbfn\\xff\\x00\\x95\\x00e%\\xbb;2.\\x0b/<\\x1e\\xb5r\\xc27\\xf3\\xa3P\\xa7\\'\\xb6z\\xd5\\xb8-\\xbc\\x99\\x1eC\\x8c\\xe4\\x10\\x0f9\\xef\\xc5\\x12l\\xb5r\\xcb\\x9cl\\xf5\\xe9\\xcf\\x02\\x8b\\x08[\\xe6\\x8cB\\xb1\\xc4\\x00^\\xa3\\x1f\\xc3\\x9e?\\x9d@\\x93\\x8f\\xb50w;\\x94m\\x04\\x1cV|\\xd7@\\xae\\xd1\\xf7\\xbb\\x93P,\\xaf\\xe6\\xef\\x0cwg\\xafzLe\\x8b\\xd2$\\x98\\xb2\\xe7\\xa79\\xa2\\xd6\\x16\\xb9\\x1eX d\\xf1\\x96\\xc74\\xeb\\x98\\xdc\\xa0\\x97\\x1dz\\x9csM\\x85\\x9c08_\\xa9\\xa0\\r\\r/I\\x93Q\\xd4\\xe1\\xb2\\xb7bdv\\x1c\\x82\\x00^y\\xc95\\xed\\x16+&\\x9df\\xb1?\\x9b?\\x95\\x1e\\x18n\\x1b\\xb8\\xe0\\x1c\\x1e\\xa2\\xa0\\xf0\\xb7\\x86\\xedm\\xb4\\xe1p\\x91\\xa4\\xb7s\\xb6\\x1eGA\\xfb\\xb0\\x00\\'\\x0b\\xe9\\xcf\\xe3Z3\\xcc\\x92YD\\xb6\\x05r\\xe4\\xa31\\x19b\\t\\xe9\\x93\\xd0\\x01\\xcf\\xb5y\\xf5js0\\xb9R7\\xb9\\xbd\\x8e\\x05\\x11\\xaa\\xc9&[\\x0c\\x17\\x9d\\xbc\\xf2z\\x03\\xf4\\xf4\\xe9VJD\\xe0E\\xe4\\x94\\xca\\x82\\xb8\\xdd\\x90\\xc3\\x92\\x18\\xff\\x00\\x0f\\xaej8\\xfc\\xd3\\x89\\x16x\\xa5d-\\xb7\\xcc8\\xf9G\\n\\xc0\\xf7\\xe9\\x8a\\x9ai\\xd6\\x1b@\\xc1\\x92+\\xc99}\\xf8*\\xc7\\xfb\\xa38\\xcf\\x1c\\xd6\"\"\\xb7\\x8a}\\xd73\\xc3\\x14B%]\\xd1\\xc8\\x00>k\\xf7\\x04\\x9e\\xf9\\xcfn{f\\xa7\\xd3\\'t\\x94O\\x04\\x81\\xa4nA\\x910#\\x18\\xe7w>\\xfd}\\xa9\\xf6\\x93\\xaaF\\xe6]\\xc4I\\x8d\\xe6@\\xacX/\\\\c;\\xb8\\xf4\\xe9U\\xee\\xa7\\x85\\x0e\\xe1\\x19M\\x84\\x07f8a\\xdcp\\x01\\xcf^:\\x9f\\xa5;\\xdbT\\x03b\\x9a4\\x8c \\x93k\\xb1?$\\x83h\\x1c\\xf2s\\xe8G\\xa1\\xa9\\x9c\\x15\\x81\\xd28J\\xab\\xc9\\xb5\\xbc\\xb3\\xb5\\x9f\\x03\\x929\\x00U\\x1b8\\x9a\\xc9\\xca2\\x162nX\\xe3\\x8f9\\\\\\x0e\\x0e_\\xfc\\x92j\\xcd\\xc4\\xad\\x05\\xac&f\\xf3#W\\xdedRT\\x03\\xd0t\\xeb\\xc8\\xff\\x00\\xf5PW1f)\\x04\\xbf~\\x16\\xf3\\x01\\xe1_\\x9c\\x8f\\xf7\\x87\\xb5\\x06Kg?\\xbc\"/\\x9b#\\x8c\\x81\\xf8u\\xfc\\xaa\\x0b[\\x9d\\xd8BH\\x19\\xd8\\xcd\\xb4\\xb1\\x00\\x7f\\xb3\\xdb<S\\x1a\\xe5\\x19\\xd4\\xa3#\\x16#\\x04\\x80\\xea\\xa3\\xdb\\xd3>\\xb5Zn>ry\"\\x83\\xec\\xb1\\xc7(\\x8c|\\xc1@\\xdf\\xe6n\\xf6\\x1c|\\xb8\\xcei\\x92\\xab[\\x99\\xa5\\xd8gV\\xc7\\xc9\\x1a\\x12\\xa4\\x1e\\x9f\\x87\\xb8\\xc7\\xe1NQ\\nNc\\xb8\\x96\\x06\\x94a\\xd4\\xb0\\xcb\\xa6OO\\xd6\\xa4\\x99\\xb6A\\x1f\\x9a\\xdb\\x97\\x95\\x007\\xcb\\xd7\\x1fw\\x9cT\\xb5q\\xbbKB%f0\\xba\\xc9\\x12\\xaf\\xcd\\x95$\\x0er;{SLn$\\x02(\\xd4\\xc8F\\t\\x89GR;w\\xedOI 2> A\\xb1v\\xa0\\n\\xa1\\x89<}\\xef\\xd7\\xb5I`c\\x8e7\\x8d\\xe5\\x91w\\xe0y\\x8e\\xdc\\xb3\\x0e\\xe7\\xa7L\\x9f\\xad\\t\\x0b\\x97[\"\\xaf\\x95\\x15\\xbc\\x84H|\\xc2\\x84e\\xa7\\xe4c\\x1d\\xc6G|\\xd4\\xa8\\xcd+\\xb4P\\x18\\xca\\xa3\\x00H\\\\\\x1c\\x81\\xc7#\\xebN\\x8a\\xd6\\xd6)\\xa2\\x90#\\x96\\nX\\x9cd;\\x0eFFI\\x03\\xbf\\xbd:\\xf2\\xd9\\xad@t\\xbbddP|\\xa6\\xcf$\\xf2\\x01\\xe3\\x8f\\\\\\x7f\\x8d;0\\xb3C\\xe0Y\\xa3s\\xe6\\x10\\xd0\\x80\\t\\r&\\xe9\\x18\\x8fA\\x8c~4\\xb7\\x16\\x8d\\xe7=\\xc1\\xbd`\\x80`+.\\x17\\x03\\xa7^\\x9e\\x9c\\ni\\x96\\xe1R6\\x96M\\xe4\\x80\\xaa\\xcc0\\xb8\\xee\\xdf\\xe7\\xbdB\\x97\\x8d=\\xc0GP\\xa4\\x0c\\x96\\x1cn\\xfc\\x8f\\xa7\\xa5=,>t\\xb7\\'\\x94\\x93+\\x16XX\\xf7!\\x95\\x7f\\xf4 M\\x15U\\xd4\\xc8\\xc5\\xbc\\xad\\xe7\\xb9\\xda\\x1b\\x9f\\xa9\\xa2\\x95\\x90\\xf9\\xe0T\\xb7\\x8aK[\\x060\\xa2\\xacH2\\xce%\\n\\xcf\\x93\\x8eN{\\x92O\\xb7\\x15Rk\\xd8n\\x0bG!B\\x88\\xa5\\xd5r8\\xc7@\\x07C\\xcf\\xadZ{\\xc3\\xf6q#\\x18Zt@\\x84\\xa0\\xc0l\\x1f\\x94c\\xa1n\\x99\\xe3\\xf5\\xaa\\xb3\\xc9j\\x93M\\n\\xca\\xea\\xd1\\xb7\\x96\\xe0\\xa8]\\xec\\xdc\\x10\\x07\\xa6s\\xfe<Rj\\xdb\\x18\\xbd\\t\\xedo\\x15.\\xc5\\x9c\\x01\\x10\\x173e\\x94c\\r\\x9e\\t?w\\x83\\x9a\\xb1}\\x9d\\xd1[@\\xa8\\xa8\\x99\\x0f!\\x90\\xe4\\x90:\\xf1\\xd3\\xd8\\x1e\\xdfZ\\xa3\\n\\xa7\\x9b*D#\\x8eyIw|\\xe1\\xd1z\\x00O@8\\xc8?\\xa5>I\\x95^h\\xa1\\xbab\\x0c`\\xc5&\\x07N\\xc0\\x1c\\xe4\\xe7\\xb9\\xc0\\xf6\\xebOPM\\xa2\\xcb\\xdaG\\r\\xd4w\\xf7\\x19\\x9a\\xda+i$(\\xd8\\xf2\\xc9\\x0b\\xc7\\\\\\xf3\\x9fo\\xce\\xb2l\\x8cw\\xded\\x8e\\xbb\\xa5A\\x18 \\x9eG\\xa8\\xe3\\xa0\\xe9\\xc5j\\xeb\\x02[\\x88c\\xb51\\x0bs\\xb1D\\xcd\\'\\t\\x12\\x01\\x8d\\xd2c\\xee\\xf3\\xf9\\xe7\\xd6\\x94\\x1bH\\x83Z\\xc7\\x1cR#\"\\xaaH\\x91\\xec2\\xe0\\x0f\\x98\\xf1\\xc6\\x01\\xe3\\x9f\\xc6\\x8d\\xc7a-\\x1a\\xe2\\xfb]x\\xd1\\xc9\\xfb2\\x8d\\xff\\x00/\\xc9\\x18\\x1d\\t=N{\\n\\xb0\\xb3\\xca\\x910R\\x92\\xb6\\xeeI\\x04\\xe3o\\xb8\\xe89\\xe9\\xd3\\xd6\\xa8^\\xea\\x07\\xec\\xcfgl\\x0cMp\\xe5\\xa5|c\\x01z\\x13\\xc7=3\\x91\\xed\\x8e*\\xbcW\\x06;_\\x91&I\\xda3\\xb1\\x15\\n\\x90\\xaa@nq\\xceO\\x7f\\xa5+\\xf6\\x04\\xda5!\\xbc\\x8d/\\x04B7\\r.<\\xd7o\\x95U\\x86H c \\xf3Q<\\x82%\\xc8\\xf2W\\xcb\\x90\\xb7\\n\\xdb\\xb7\\x8e\\xbe\\x83\\x92\\xd9\\xce8\\xe6\\xaa\\xc2%6L\\xf1D\\xc9<\\x92\\x86\\x89\\xf6\\xfc\\xd9\\xfcrv\\xfb`\\x0c\\xd5\\x8b\\xbbTK\\xd1,\\xb2\\xb8V\\x19\\xdaP\\x1c\\x02NB\\x0f^\\xfc\\x9ei\\xee\\x0eM\\xee5\\xe1[\\x8bR\\xc2\\xe04\\xaf\\xc8\\x8b\\x1bC\\xb6s\\x90wv\\xc6q\\x83\\xba\\x9b%\\xa5\\xb4\\x97\\x11\\xba\\xdcJd;L\\x85\\x07n\\x87\\x0b\\x8cu\\xe3\\xa6\\x06MM,\\xebe*\\x19\\x9b\\xe5\\xc8p\\t\\xe4\\xe0\\xf7\\xe3\\x03\\x1ct\\xa9V\\xf0[-\\xe5\\xd9\\x89b\\x93\\xe6\\x840\\xe4\\x8f\\x9b\\x04\\x8f`\\x08\\xe3\\xde\\x80\\xb8\\xb66\\x96\\xcds:y\\xed\\xe6\\x98\\xc6\\xcd\\xc3\\x03\\x07\\x8e\\xbd?*\\x90\\xdb\\x88\\xac\\xa1\\x95\\xe1/k\\x0f\\x0cp0_?(c\\xedPE\\x1b\\xc2\\'\\x95\\xa2A*\\xa0df\\x03nN\\x009\\xc9\\x1e\\xfczU\\xc9\\xa72\\xd9[5\\xbcOun\\x97,\\xfb\\xdb\\r\\x95\\xc0\\x05\\x88\\xed\\xce{q\\x91OA\\xb7m\\n\\xb6w\\x115\\xdb,\\xc8\\xf1D\\xec\\xa4\\xa0_\\x9b\\xe5\\xf9\\xbeb\\x06:\\xd2d[\\x19n\\xe6\\x98\\x15\\x85\\xc8C\\xb1\\x87\\x07%y\\xc7b{t\\xa6Eu\\x1d\\x9c\\xb6\\xd6\\xea\\xf8\\x8a@Dn\\x01,\\xcc~\\xf3\\x0fn\\xc3?\\xa5Co\\xe5\\xea\\xd1O\\x18\\xb6\\x93`v`\\xce\\xc5\\x10)\\xfe#\\xc7\\xde \\x01\\x8c\\x12z\\x8a\\x96E\\xcew\\xc7\\xb72\\xe9\\xfa\\r\\xbcP\\xdb\\x88\\xc4\\x97\\x00\\x90\\xa4\\x9c\\x8d\\x84\\xe0\\x123\\x9e\\x99\\xae\"\\x0f\\x13\\xc7\\r\\xb3\\xc5>\\x9a\\xb7\\x0c\\xc7\\x86\\x0cU\\x92\\xbb\\x8f\\x1a%\\xde\\xabky,\\x91\\xe1\\xade\\x8d\\xe3\\x08\\n\\x89#\\x0b\\xb5\\x99{\\xf1\\xc1\\xeb\\xd0\\x1a\\xe0\\x13F\\xd5\\x12\\xe5g\\xb5\\x0c\\xccA\\x90H\\xa7\\xd3\\x19\\xfcrk\\xba\\x83\\xf7,\\x8bBM\\xa9E}\\x1a\\xc6\\xa8U\\xb7d\\x92A {\\x9a\\xafb\\x1d.\\x99\\x80%;\\xb1\\xedVn\\x1a\\xf6\\xe1\\xc1\\xb9r\\xc4p\\x00P\\x07\\xe1\\x81P\\xa4jIr\\xe4\\x0fC\\xde\\xb6\\xdce\\xf7X\\xa5\\x1c1\\xdb\\x8e\\xa7\\xbdP\\x9eX~ex\\xc0 \\xf5\\x07\\xb7\\xd2\\xac<\\x8b\\x1a\\x03\\xd1H\\xfe&\\xe7\\xf2\\xac\\xdb\\x86\\xdc\\xc5\\x8be{P\\x02;[\\x95\\x04n\\xf7\\xcfjadh\\xf2\\xac2\\xbd\\x9b\\x8e*\\'\\x1b\\x93(s\\x81\\x92;\\xff\\x00\\xf5\\xea\\xb9s\\x9eNs@\\x16\\x1c\\xa3/\\xcay\\x03\\x90E>\\xc1\\xf6]!\\x07\\xbdTPX\\xf1\\xc1\\xc5\\\\\\xd3\\xe1f\\xba\\x8f\\xdf?\\xa7Z\\x04h\\xde\\xa0\\xb8\\xb5,\\xc0\\x86F\\xcf=\\x81\\xff\\x00\"\\xb2\\xd7y\\x95\\x14\\x9f\\xb8z\\x1a\\xd2\\x9a\\xe7\\xfdr\\x81\\x9eH\\xcdQH\\xf2\\xdb\\x8bp[\\x1f\\xa5!\\x96\\xbe\\xce\\x1d\\xd9\\xa4\\xfb\\xab\\xceGjX @\\xac3\\x9c?\\x06\\xac\\x04+\\x1b\\x86\\xe4\\x85\\x04\\x9f\\xc7\\x1c\\xd6j\\xcd\\x97\\xca\\x1cl \\xd3\\x02\\x0b\\xad\\xc96\\x0fN\\xc6\\x8e\\x881L\\x9aM\\xfdz\\xe6\\x849J\\x04X\\xb6m\\xc4\\xa1\\xc6\\xd6\\xab(\\x1a\"\\x0f\\x07\\xb5U\\xb5M\\xce\\x00\\xeb\\x9c\\x8a\\xd1\\x03|l\\x1b\\x82\\xbe\\xdd?\\xfa\\xd4\\xc0pe\\xfb\\xf1\\xb9\\x18\\xea:\\x10EN\\x92\\xc33\\x87`62\\xf2\\x7f\\xba}~\\x95\\x10\\x89L%\\xd4\\xb0~\\x17i9\\xe6\\xa0\\x8eD\\xdb\\xb6C\\xb4\\xf3\\xf49\\xfeT\\xc0\\xb12\\x94;\\x99r3\\x83\\x93\\xed\\xc5=Y\\x99\\x96@F2\\x15\\xb1\\xd7\\x07\\xa1\\xfe\\x94\\xe8\\x18I\\x00G\\xcbv,\\x061\\x8a\\x8e&;\\xda&|\\x82rI\\xf7\\x14\\x08\\xb5\\x1by\\\\\\x16\\x1b\\x94\\x9c7\\xaa\\xff\\x00\\x93Y:\\x9d\\xd7d\\'\\x1c\\x8c\\x1fJ\\xbc\\x92\\xed@\\x18`\\x059 zV\\x1d\\xe3\\x07\\x98\\xe3$\\x06<\\x9e\\xf46\\x04 \\xf7=j\\xdd\\xac%\\x8e\\xe2\\xad\\x8fP3L\\xb4\\x8a)\\x03\\x99\\x1c.\\x07\\x19\\xeejE\\xb8h\\xd0\\xc6\\xa7\\x0b\\xea*FX\\xba\\x98\\x1c*\\x81\\xb0t\\xe2\\xaa;\\x8f,\\x91\\x9e{T\\x8eN\\xd3\\xbc\\xe4\\x9f@*\\xb3\\xb0$\\x81\\xe9L\\x0f\\xa0m\\xc3G\\xa7[\\xaf\\x9c\\x10yH\\xca\\x87\\r\\xbb\\xa7|\\xf0*\\xd3\\xcblJ,\\xad\\x12\\xb3\\x1c\\x17\\xfe%\\x1d\\xf0\\x07nk\\x9b\\xd3\\xee&\\xb8\\xd3\\x14$\\xed\\x01\\x92\\x041J\\xf0\\x03\\xd7\\x04\\xf4\\xea1\\x91\\x93\\xd2\\xb4l&\\xbb\\x92\\xea(\\xb2Z\\xd8?\\x95!t\\x01\\x8a\\xfa\\x86\\xe7\\xb7\\xff\\x00Z\\xbc\\x8e\\xb6\"\\xec\\xd4\\x82-\\xd1\\xba\\xa9Ba\\x00\\xeev\\xe4\\x008_\\xd7\\x91\\xedL\\x92\\x19.\\xe2\\x89\\x1dZP\\x92n,\\x0f\\'\\x8c\\x02={\\xfd3D\\xf1\\x88\\x0b\\xc6\\x84<\\x81\\x8a\\x88\\xc1\\xdb\\xbb\\x9d\\xc5\\x06O\\xa7\\xe7\\x8a\\x85nn\\x16Fw!c\\x94}\\xd2\\xb8r1\\xe9\\xf8w\\xaa\\xf5)\\x0e\\x08\\xb8\\x86`\\xa3b/\\xcb\\xbf#i\\x07\\xa7\\xa6=\\xfd\\xa8\\x86\\xf0Iy$\\xbb#h\\xa3m\\xb9\\x11\\xef\\xcf\\x1drx\\xfc\\x063\\x8a\\xb0/I\\x99\\x12\\xdd\\xd5\\x83\\x0f\\xde\\x16\\xce\\x06G\\xdd\\xcf\\xaf\\'5\\\\\\xae\\xcb\\xa8\\xda+\\x8c\\xc4\\\\\\xb0\\x8d\\x14\\r\\xd8\\xe0\\xe3?\\xad\\rY\\x8c\\x9dH3\\xc8\\xe6i\\xe1\\x81d\\xda\\x85\\x00,F2x\\xcf$\\x91\\xd5\\xb3\\x8f\\xca\\xa3\\xbb\"o8\\xc5\\xe6\\xc5\\xb2A\\xfb\\xb3\\'\\x1b}9^\\xbe\\xa7\\x9e\\xbf\\x85,\\xac\\x91\\xb1\\x92-\\xa9\\x19\\x8f\\xcc\\xf3\\\\l\\'\\'\\x04`t\\x1e\\xf4\\xb6\\xd1A+\\x84i\\x9b\\xcb9\\x02D\\x040\\x04\\xf3\\xc1\\xf7\\x1d\\xe8b~DV\\xe8\\tI\\x1de\\x0f\\xbbq\\xef\\xbf=\\xf8\\x15nKt\\x95\\xa21\\xef\\x8c\\x190\\xae\\x0e\\x18\\x909\\x1e\\xdd@\\xc5Ua$rI\\x11\\x92O3\\x80\\xbb\\xce@\\x1d\\xc09\\xeb\\x8e\\xd9\\xfd)\\\\\\xab\\x88\\xa1p\\x1cn\\x1b\\x80bs\\x9e@\\xe9\\x9c\\xe7\\xb9\\xedB\\xf3\\rV\\xe59mAA\"\\xcd+\\x08\\xf2\\xa1\\xd9\\n\\x90}\\x80\\xfc=3S,\\xd3$E^Th\\xf8gv]\\xdb\\xb1\\xd3\\xa0\\xeb\\x9e\\xb9\\xe9V\\x16x\\x9d\\xb6\\xb4\\xaee\\x90\\x960\\x96)\\x8cpr3\\x83\\xd3\\x19\\xfeU\\x1b\\xca.\\xad\\x0c\\x91\\xb4q\\x87\\xca\\xa9ua\\xb3\\x1c\\x9c\\xf3\\x83\\xf8{P\\xac\\x17C\\xe3\\x125\\xb4O\\x04\\xc0\\xcf\\xb4\\xf9\\xbbH\\xd9\\x90>\\xf0\\xcf>\\x9d\\xe9-\\x82E\\x024\\x03th\\x0e\\x0e\\x01+\\x9f\\xbcs\\xdb\\xad:9\\x11d\\x12d\\x8b\\x81\\x82\\xa3$\\x0cz\\x9c\\x8e??L\\xd4m\\t\\x86\\x14\\xf2\\xe3>Yb\\x08\\xeeI=\\xf1\\xd7\\x1e\\xb4? \\xd5lhY]\\x04\\xd4J\\x07\\nQC\\xe7\\xa7\\'\\x8e\\x87\\xd3\\xaf\\xe5O\\x8at\\x96&so\\x82\\xecxw\\x12o?\\xde\\'?{\\xf9W>\\xb6\\xa2\\x05\\x9c\\x97\\x99O>d\\xa1\\xca\\xef\\xff\\x00{\\xb2\\xe3\\x8e\\x9dqS%\\xd3$\"\\xdc\\x7f\\xabt\\xc4\\xce\\xa7\\xe6\\xcf`\\xaaq\\x81MHjm3DjVrM41\\xa8\\xf2\\xd4\\xf0\\xd8;r8\\x079\\x047\\xd3\\xb5C\\xe5\\xaf\\xdb\\xa5\\x8d\\x10gvw \\xc8\\x1e\\xe3\\x9e\\xdf\\xd6\\xab\\x18\\xae\\x0c\\xcb\\x0c\\x83\\xee\\xe1\\xb3\\xfd\\xe0{\\x1ep:pO\\x15k\\xf7\\xf3E+>\\xcf)F\\xe1\\xb1\\x0f\\xc8;d\\x9c\\xf7=1E\\xeeK\\x90\\xe6\\xbd\\xbc\\xb4>L\\x02(\\xd4\\x00H!\\x18\\x93\\xear\\x0f\\'\\xd2\\x8a\\xa9\\x1d\\xfb\\xdb\\x86H\\x8c\\xaa7\\x12F\\x0fS\\xd7\\x91\\xc1\\xa2\\x8ef-\\x04Kv\\xb0\\xb63\\x99\\x1d\\x89;bq\\xf3\\x15\\xc9\\xc1u\\x1f\\xcb\\xf3=*\\x81\\xd3\\xac\\x91QDp+\\xab\\xf3#\\xb7\\x1d\\xceO5\\xa5p\\xe6\\xe0*\\xccZ%\\xc6\\xd2\\x14\\xe0\\x81\\xe8x\\xebU\\xa5_!\\xdbv\\x08l\\x86u\\xcf\\xa7\\x7f\\xa6\\x01\\xab\\x1e\\xbb\\x95\\xde\\xd0Hg\\xe8\\xcb#\\x02R6\\xda\\xad\\x8e\\x9c~\\xbc\\x0eqSKj\\xb1\\xc0BN\\xc5\\x996\\x92\\xbc\\x02\\xc7\\x8f\\xcf\\xbes\\xe9N\\x86h\\xd2h\\x84\\xb8\\x8d\\x89\\xdc\\xbb\\x99\\x7fx\\x08\\xe3\\x8esMv\\x99<\\xc8!\\x7f0\\xca\\xff\\x00(\\x8cds\\xd3\\xa9#>\\xf4\\xac\\r\\xbe\\xa3\\xe0\\x8e+\\x88S\\xcc\\x843[HaGi\\x0e1\\x8c\\x8c\\xe3\\xbf^y\\xedQEq-\\xd9gd\\x93kHJy\\x81@U\\x1cc\\xdb\\x9a\\xb4\\xb7\\xb1\\xc3$\\xf0\\xc6\\x0e\\xd4}\\xa3i\\xc7\\x03\\xf1?_\\xc6\\xa2\\xf9\\\\\\xc1\\x11\\x90\\xb1\\x8dw\\xc9*\\x03\\xb7\\x00\\xe7\\x9c\\xf1\\x91\\xf5\\xcd\\x16C\\xb8\\xdf\\xec\\xf9\\'t\\x9ay$\\x19<*\\xfc\\xc3\\x9e\\x839\\xce8\\xed\\xc5H\\xb1!v`\\x1dv\\xae\\x03/BA\\xef\\xb8\\xfa\\xf6\\x1f\\x91\\xa2\\xea\\xedD\\x8b9$\\xab\\xc7\\x92\\xecH\\xc89\\xc2\\xfdN?*-\\xae\\x1e\\x1cB\\xcf\\xb5\\xccg*\\x01\\xf93\\xeb\\xc7\\\\\\x1c\\xfe4\\xac\\x1eD\\xd1ZI\\x14^{\\x93!]\\xcc\\xa0\\x8e\\x14\\x9eF}q\\xe9\\xf4\\xaa\\xeb\\x14\\xedf\\xf7\\x18Y.\\xdaW\\'\\xa91!\\xc0\\x1f\\x819==*\\xccN\\xac\\n\\xc8\\xd9\\x00\\xe1C(\\n\\xc4\\x1f\\xa7~\\xb4\\xc5H\\xe6i\\xe2\\x07h\\xc7H\\xba\\x81\\x9es\\x8ex\\xe9Mw\\r\\np\\xbc\\x0f4\\x88\\xe5N\\t\\x05\\xe4\\xc1\\x07\\x0b\\xd3\\x9e\\xdcS\\x9bO\\xbb\\x93L\\xb9\\x9a\\xd0\\xc8\\x8c\\xf3\\xc6T\\x94\\x05H\\xc1$m\\xc8\\xe0\\xe3\\xd6\\xac\\xacV\\xf0\\xc7\\xb22F\\xf3\\x92r3\\x1ey\\xc0\\x03\\xa6}\\xaag\\x0b\\x0b\\x0f1\\xd6@\\xc4\\x1c\\x85\\xe0\\xb0\\xe7\\xb1\\xe3\\x81\\xd4\\xf1Sm\\x05b\\x1bM\\x93\\x06\\xb7\\xbd\\x8bt\\x9bIc\\xf7I\\xcf\\x1c\\xe7\\xbf\\xb0\\xe9N3\\xc7\"\\xc5\\xe4\\xce\\xc5c\\xf9K\\xabl1dc\\x00\\x02O`2q\\xf4\\xc5-\\xdcoz\\xa8\\x1ep\\xaa\\x06\\x14\\x80\\x17;\\xb9\\xeb\\x8f\\xfe\\xbdD\\x9ad\\x01$H\\xe1\\x8cl\\x06C\\x12\\'\\x01\\xb1\\xcbg=x\\xa3P\\xb1\\x9f\\xaaG3Fe\\x92=\\xd7\\x1b\\xf6@\\xaa\\xdb\\x00#\\xa9a\\xfcX\\xcfn\\x0e\\x05]\\xb5it\\xed\\x12\\xd5\\xa4\\r,\\x93\\x96r\\xaa\\x0b\\x08\\x06p\\xaa{3\\xb7`x\\x03\\xa8\\xa9\\xeea\\x99\\xed\\xd8[\\xba\\xc6\\xce\\xc1\\xd8c\\x19\\r\\xd7\\xd4\\xf4\\x15V\\xf5^\\x1d\\xa8_\\x84U\\xf2\\xf6\\xfc\\xc5N\\x0f!q\\xc7_\\xc4\\xe2\\x8bY\\x93k\\x12\\xe9v\\xd1\\\\]\\xec\\xb8i$\\xf2\\xf2ZF\\xda\\xc0\\xb0\\xce\\xd0\\x0e:\\xf3\\xc9\\xc1\\x15\\xc6x\\x8fF\\xb5\\xb5\\xb5\\x96Ko0:\\xdc\\x1d\\xf0F\\xe7`\\x04\\xf5\\x18\\xe9\\xd7\\xd6\\xba\\xbb6\\x10\\xdb\\xb7\\x92\\xacAr1\\x9d\\xc4\\x8cs\\x9e\\xff\\x00\\xfe\\xbaY\\x96\\x1b\\x97M\\xb0\\x92J\\x91\\xe5\\x9c\\xed\\xc1\\xf4\\xc1\\xe3\\xb74\\xe3\\'\\x16\\x17h\\xf3\\xa9\\xb4\\xcf\\x10\\xdaF\\x15\\xacL\\xd12\\x96i\\x8c!\\x9bh\\x19\\xe4\\x8fAXo5\\xc8rM\\x90\\x07\\xae\\x08<}\\x7f*\\xf5\\xb5\\xd7\\xcd\\x85\\xd3\\xdb_2\\xacr\\xa1U\\x93q\\xd9\\xf3q\\x9c\\xfag\\xb18\\xebX\\xb7\\x9e+\\xb6ki\\x0c\\x16\\xd6\\xee\\xfd\\x19\\xdd~V\\xe7\\x9e\\xc7\\xfc\\ru\\xa9\\xb3\\xa3\\x96/T\\xcf6\\x90\\\\NA\\xf2\\xb2\\x08\\xeczT\\x1b\\n\\x04\\x96`L\\x04\\xe3\\xe4\\xeaq\\xda\\xba\\x0f\\x13\\\\>\\x9d\\xabMe%\\x89\\xb6\\xba\\x8b\\x02X\\xa5\\x18##<\\xfdA\\x06\\xb9f\\xf3\\x1c\\xe0\\xe4\\xfa\\x01\\xdb\\xe9[+\\xb2\\x07M1\\x92E*6`\\xf1\\x83\\xd3\\xd2\\xa2|\\x16\\xcf\\x03\\x8e@\\xedS\\x88R$/)\\xc3\\xe3\\n\\x83\\xae}\\xfd\\x057r\\xa2\\x85\\xda\\t\\xeeH\\xefLC!\\x01\\xe5T\\xdc\\x17q\\x03s\\x1c\\x01\\xee}\\xabp\\x82\\xac\\xae\\x85<\\xb8\\xa2\\xf2\\xe3`Cc\\xb99\\x1d\\xc9\\'\\xf3\\x15\\x16\\x9dm\\x0f\\x92n$\\x8798Q\\x9e\\xbe\\xa6\\xa4\\xd4\\xa5\\x16\\xd1\\xac\\x08\\x08\\x8c\\xaeG4\\x8a\\xb6\\x85\\x0bW/r\\x14\\x8c\\x86\\xc8 u\\xa8\\xcecvRrG\\x00\\xf44\\xeb7\\xdb8l\\x9c{u\\x14\\x92\\xa9bOpO\\xb6h\\x10\\xadv\\xc2\\xdd\\x97\\'$\\x0e\\x7f?\\xf1\\xaaa\\x8a\\xb7\\x14\\xe7\\xe9\\x82\\r4\\xfc\\xcf\\xd3\\x8e\\xd4\\xc47\\xbdM\\x1e\\x02TaN\\xfcw\\xab\"?\\xdd\\xa3c\\xbd0-A\\x18L\\xee?CV\\x88P\\xdb\\x83\\x11\\xc7\\x19\\xe75\\x0c$\\xfd\\xd2\\x01\\xe3\\x00\\x1e\\xe2\\x99$\\xbf\\xc2\\t\\x05z\\x02z\\xd0\\x05\\xa4u\\xd8\\xc3*>\\\\\\x8ex\\xac\\xd9\\xdc\\xa4\\xacP\\x8d\\xad\\xce3\\x9cS\\xe3\\x97\\x0cN\\x0e\\x07QQJ\\xa1\\xd80\\xfb\\xa7\\xbd\\x00Omp\\xe5\\xc6\\x18\\x82:\\x8fZ\\xb2\\xf2\\x1d\\xde`\\xe5\\x8bd\\xe4\\xf4\\xfc+>%\\xd8\\xf9 \\xe3\\xd7\\x15aH,\\x02\\xe7kw\\xf4\\xa1\\x01m\\xe4\\xdc\\xcc\\x98\\x1c);}+\\x1eo\\xbf\\xd3\\x1e\\xb5\\xa0\\xd2\\x94\\x08\\xd8\\xc1#\\xbf\\xa8\\xac\\xb7m\\xcf\\x93C\\x02x\\x978\\x1b\\x01\\x18\\xe7\\x9cf\\x95\\xc2\\xa1\\xdc\\xa0\\x82;\\x9ejB<\\xb5\\x8d\\x95\\xb1\\xb8d\\xe0\\xfey\\xaa\\xb3?\\xccv\\xf0\\x0fj@\\r!\\x93\\x81\\xd4\\xd3\\xa1L\\xb6\\xe6\\x04\\x81\\xf7\\x80\\xe2\\x9b\\x0c&E%9#\\xa8\\xa9\\xc3\\x15e\\x91~\\xf6>`E1\\x1e\\xa9\\xe1mA\\x87\\x87b\\x8aV\\xdbi\\n\\x90\\x84\\x16\\xf9\\x89<\\x03\\xd8\\xf5\\xae\\xbd\\x97\\xcb\\xb3\\x8aF\\x9b\\xe4\\x86@\\xc3\\x03-\\xb7\\x07\\'\\xd7\\xb7Z\\xf3_\\x04\\xea\\x92\\xc38\\x84e\\x81\\xce6\\x80vg\\xab\\x01\\xc7=\\xf9\\xafEv\\xc9GyZR\\x037\\x98\\xc0\\xb1\\x91\\xba\\xe3\\x1e\\xb5\\xe7V\\x8f,\\x98\\x85K[\\x8b\\xa8\\x9aH\\xf6[\\xcf\\xb0|\\xacw\\x1eNrq\\xd3\\x83U\\xb4\\xc147m\\xe6\\xe6EG\\x1e[\\xca\\xddN>`0\\t=3U\\xd6\\xe5YT\\xa1\\x91\\xe3\\xdb\\x8c\\x06*\\xaaA\\xce2\\x0f<~\\x19\\xecqZQ\\\\yS4\\xb2F\\xe8!\\n\\xc3h\\x04\\x1e\\x98\\xe7\\x04\\x8e\\xdf\\xadg\\xa8\\xb5l\\xa4\\x96\\xae\\x9fl\\x8e!\\x1c\\xb3/\\x12\\x18\\xb0B\\x9c\\x0f\\xbc\\xa4\\xfaz{\\xd5\\xd8\\x9f\\xf7Q(\\x11\\xccC7\\x98\\xc3\\xe6F\\r\\xd4\\x9c\\x11\\xd3\\xb1\\x1c\\xf1\\xf5\\xa8|\\xf8\\xa0\\x96I\\x9e\\x1f6yT9\\x0c\\xb9Yy\\xe0\\x128$\\x13\\xd0\\xf5\\xaa\\xf2\\xe8\\xf6\\xd7\\x10\\xb4\\xdb~er\\x0b0\\xce\\x0f\\xb6s\\xdf\\xb7Nh\\xbd\\xb5\\x06\\x8b\\xb2\\xeav\\xcfqs$\\x01\\xc8\\x89<\\x94\\x8c\\xb8\\xd8\\x9b\\x7f\\x88\\x909\\xfa\\xe6\\xa1\\xb1\\x9aK\\x81\\x13\\xb4\\x81Y\\x8b\\x19\\n\\x0e\\x1f\\xb62z\\x8fC\\xde\\x91\\xad\\xe32\\x06\\x11\\x15I\\x80v\\xcf`;\\xf7\\x18\\xe3\\xe9OX\\xc2\\xa2\\xaf\\xd9\\xd2-\\xad\\x9c7\\xde\\xeb\\x9d\\xd9\\xcf\\xe9\\xeb\\xf4\\xa4\\xf5\\x05\\xa1/\\xda^K\\xbbeW\\x8eS#1\\x91X\\x90T\\xf3\\xb4\\xfa\\x03\\x81\\xfezU\\x88m\\xa5w\\xe0D\\x1eB\\xbb\\x9f\\x90\\xaa\\xa3\\xa9\\xe7\\xa9\\xe3 c4\\xf0\\xd1\\xfd\\xa69Di\\x90\\x9bY\\x95F\\x07\\xd3\\xdc\\xfd*\"VDu\\x9a>%\\xdb\\xf3n?*\\x0c\\xe0c\\xeaj\\xb7)\\xb62YM\\xc3\\xb4\\xb1F^<\\xedIJ\\xfc\\xc8\\xa0t \\xff\\x00\\x11\\xc89\\xa29m\\xfc\\xc2\\xc5\\x93\\t\\xc99\\xc9\\x04z\\x9c\\xfe\\x154\\x0b\\x15\\xb7\\x9c\\x89pKH\\x03\\xa8n\\x01e\\x18\\x04\\xf7\\xce\\x08\\xa0\\xa0\\x1e\\\\\\x8f\\x1b.X\\xa3:\\xe3\\x18\\xe8x\\xc6h\\xb5\\xc1$7\\xed\\x0b2\\x9bw\\x92\\xddcm\\xab\\xbd\\x1by$\\xf4Q\\xdb\\xde\\xa1\\x9fyO\\xde\\xe0.w\\x05\\xdd\\x9e:\\x0c\\xf7\\xfcsOXU\\x0bKo\\xbf\\x08X a\\x9d\\x98\\x1f\\xc2\\x07S\\xdf\\x91\\xc0\\xfc\\xaa(Y`\\x9c=\\xc3\\xa8\\x12\\xc6QJ7\\xca2x\\x1c\\x0e\\xbc\\x7f\\xf5\\xaal\\x16*\\\\Gqq)E\\x98\\xec\\x0c\\x08+&Aq\\xcf\\x1d{c<\\xfe4@\\xae&\\x95\\xddZ\\xd9\\xaeF\\xff\\x00\\xde1\\xdc\\xd8$\\x10O\\xeb\\xc0\\xefW\\xd6\\xde\\x14K{\\x97\\x91\\xe4b\\n\\xb3\\x95\\xeb\\xcepO\\xa7\\xf8Ts\\x80f32\\x05u;U\\x98r;\\xe0\\x01\\xed\\xd0\\xd3\\xb1,\\x8d\\'\\xb3\\xfb-\\xc4\\x97\\x02\\xe2%\\x88\\xe1e\\xdb\\xf2\\xed\\x03;\\x94\\x93\\xf3\\x11\\xf4\\xe3\\xd2\\xa0FAt\\xb1\\xb4E\\x9c|\\xd1;\\x00T\\x86\\x19\\x00\\xe0\\xe4\\x1c\\x1c\\xf3\\xfdjic\\x8e\\xe2\\xee\\x0c\\xa4\\xfetR\\x98\\xe2\\xc4\\x80\\x84\\xdd\\xcez\\xe0\\xf4\\xe4\\x03\\xed\\xcdZ\\x88$R\\xae\\xcd\\xdb&\\xc2H\\xfb\\x01\\xf9\\x87@\\x1b\\x19\\xc7\\x07\\x81\\xc6)XV\\x19$,\\xe26\\x86\\xe5\\xd1\\n\\x02\\x164\\x0c?:*x\\xc4\\xa8\\xbb\\x05\\x920^\\x06Il\\x0e\\xc34S\\xb0\\xf5\\xee@\\x93\\t5\\xa9\\xa2\\x16\\xdb\\xf6\\x9f\\xf5\\xa0\\x01\\x19,\\xbcc\\x9fp3\\xd4\\xd5[\\xdd\\xd8KT\\xdb\\x14\\x90\\x86\\x1b\\x18\\xe1\\xbd\\x0f\\xf9\\xef\\x9a\\x8f\\xce[p\\xfeAy\\xfeffm\\xe0\\xb0a\\x8c{\\xe7\\xa61\\xe9U\\xdbR\\xb8\\xbb\\xb9\\x9a\\xfaiRg\\x96E\\xfd\\xcc\\nN\\xde\\xb9\\xdb\\x9f\\x9b<\\x1e8\\xefZ\\x17dY\\xd3\\xe7\"\\xdaA%\\xbb\\xc6K\\xae\\x06F=\\x86q\\xfdEIr\\x12\\x1b\\xc0b\\x8d\\x11\\xd8.H\\x1c\\x16\\x1e\\xbdG>\\xd5=\\xbc\\xf3\\x8d4\\xc6\\xd6\\xe2\\'\\xdcD*\\xef\\xbbvy\\xf9\\x80\\xef\\x9c\\xf1\\xda\\xa0\\x95\\x1a\\xe1\\xd6\\xeadEd\\x00*\\x1e\\xa7\\xb784nU\\xb4\"\\x9a\\xdd\\x19\\x0b\\xa2@\\x89\\x8f\\x9b\\xc9bw\\x9e\\xe7\\xeb\\xeb\\x8f\\xc2\\xac\\xec\\x82\\xde\\xd6f\\xb8\\x84,eS\\x0c\\x1cm\\'\\xd0\\x0es\\xdb5\\x14V\\xa3|\\xb9\\x9a(\\x9cc9=\\x97\\x8ct\\xfd\\x01\"\\xa4\\x85\\x8d\\xdc\\xad\\x16\\xf9A\\xdb\\xb4\\xa9\\xe0\\x13\\xd8\\x7fZV&\\xda\\xe8AnDR\\x8d\\xbb\\xb9\\x00+8\\xce\\xdc\\xf5 p\\x7f\\xfd^\\x95x^\\xc5\\x1ch\\xc3aq\\xbb\\xcd;\\xb1\\xbb\\xe9\\xc7\\x1cVt\\xa2\\x18\\xa7\\xf2\\x17\\xce\\xc0Pda\\x82@\\x1d[#\\x8e\\xbd\\xb3\\xf8T\\x96\\xb0\\xbb\\xdc\\xc9s\\xe5\\xbc\\x91\\x04&0\\xa7\\xcb8\\xc7\\xf1g\\xfa\\xe3\\xeb@\\xac\\xc9\\xe5f\\xb8q,\\xae\\xf2\\xc8:\\xb1a\\xf8\\xfb\\x01\\xdb\\x8fJ\\x7f\\x96\\x16Q:8v\\r\\xb4\\x17\\xe3p\\xc7 \\x1c\\xe7\\x1c\\xd2D\\x90\\x9b\\t%\\x98\\x08\\xe6\\xdb\\xe6\\x0c\\x10\\xe0\\x83\\xd0\\xe7\\xd7\\xa7\\x1e\\xd4\\x8c\\xf1\\\\O\\r\\xab+\\xcev\\x0e\\x10\\x12\\xacO$\\xf1\\xd0\\xfb\\x9c{R~af\\r\"*\\xac\\xb6\\xd1\\xbf\\\\\\xe0\\x82rO\\xf0\\xf4\\xce\\xde\\x0f\\xe7Q\\xac\\x0f-\\xbd\\xc1\\x12\\xb9h\\xfer9\\xf9\\x86yRH\\xc0\\xc7\\xa6h\\xbbx\\x12X\\xe2h\\x1d\\xd38\\xc6\\xfd\\xa0\\x80\\xb9\\xfb\\xd9\\xe3\\x03\\x1f_Z\\x86\\x04)\"\\xcb\\xccpp\\xc5\\xd4\\xed\\xcf\\xa8\\xf6\\xc9\\xef\\x8eij!\\xca]\\n,\\xa9\\xe5\\xc7\\x92@@8#\\xd0\\x0e\\x0eN\\x7f*\\x9d\\xa6\\x96\\x15Y\\xe3\\x8b1(d/\\xbb\\xe69\\xe4\\x9czt\\x1c\\xd4#\\xcd\\xb8\\x98\\x8b\\x88\\xc0Ub\\xc8W\\x90B\\xf4\\x1dx\\xea8\\xfdjQ\\x04r\\xcc\\xb2\\xccc24a\\x19[$.O\\xa7~\\x9f\\xfe\\xaa\\xa1\\xebbW\\xbaO*\\xda\\xd46\\x19!W\\x95\\xb7\\x1eIb[\\xb7\\xa5Sro\\'\\x08\\xd3\\x19#g}\\xc8\\xca\\x0e\\xc2\\x07\\x00\\xfa\\x1cc\\x81S\\xcf\\x81vK\\xb3\\xc8\\xe4\\x08\\xf6\\x96;Xc\\xa0\\xff\\x00\\n\\xae\\xd7\\xa0\\xdd\\xdb#\\x01\\x1a\\x96\\x18\\xc6\\x0es\\xf2\\xf5\\xf64\\\\W\\'\\xb7\\xb6\\x8d\\xe0H\\xbc\\xb5\\x0b\\x1a\\x8f\\x9c\\xae2H\\xcfN\\x80\\xe7\\xa54\\x18\\xa43l\\xda\\xae\\x80\\x8c\\x0e\\xe3\\xae3\\xdb>\\xd5+\\xc8\\xb1)$p\\xa7\\xcb\\xca\\x8c\\t\\x1b\\xaeI\\xff\\x00\"\\xa9\\x8b\\x9f7r\\xf9\\x069$\\x0b\\xd4ps\\xc998\\xcf\\xf8T\\x89\\xb2\\xb6\\xb5\\x06\\x89-\\xbf\\xd95\\x94\\xbb[w\\x8c\\'\\x9bf\\xc0<.y\\xfb\\xad\\xc1\\x1c\\x0e3\\xcdd\\xda\\xf8O\\xc1\\xd6V\\xef\\xab\\xae\\xa9\\xac^-\\xab\\x86\\x8e+\\x88\\xe2\\x8d\\x0b\\xf0P0-\\x96\\x19\\x1c\\xe0t\\xad\\xdb\\xbd.;\\xbd-\\xad\\x84y\\x89\\x99\\x99\\xdePy\\x00\\xe0\\x1c\\xf6\\xc9\\xe4w\\xaeF\\xff\\x00\\xc3\\x1fd\\x8dB\\xc7\\x16\\xed\\xb9\\x0cf\\xc9\\x04u\\xe3\\x1e\\xbf\\xcb\\xde\\xba\\xa9N)Y\\x9aFVZ\\x98\\xda\\xf6\\xa0\\xde \\xf1\\r\\xc6\\xa5r\\xa8%\\xb9}\\xd20^?\\xfd\\x91X\\xb3\\xda\\xacl\\xe5\\xe6\\xdd\\xea\\x10\\xe3#\\xf0\\xa8\\xf5+\\x99\\xc4\\x867#+\\xddx\\xcf\\xe5Y\\xd2\\\\K\\'\\xdfrA\\xae\\x846\\xee$\\x8e\\x81\\x88\\x8cq\\x9e\\xbd\\xe9-\\xd4<\\xea\\x1b\\xa6rj:\\xbbdV(\\xde^\\x0b\\x13\\xb0dt\\x1d\\xcd\\x026\\xa0\\x9db\\xd8\\xf3&\\xdc\\x80c\\x1e\\x82\\xaak2\\xab\\\\l\\xe0\\xe0\\x0c\\x11\\xd3\\x06\\xaaK9\\x9a`\\xa4\\xe0/\\xca\\x07\\xa0\\xa9oa2F.\\x8c\\xb1\\x06v\\n!\\r\\x97U\\x03\\x86#\\xb04\\x0e\\xe5kb\\x04\\xd9\\xe7\\x1e\\xd5n\\xf9\\x040\\xa1\\x07\\xa9\\xc0\\xcf\\xe7T\\xc7\\xeeXw>\\xdd\\xe9/\\xae\\x0c\\xb2*\\xe7;G\\xeb@\\xba\\x103\\x13\\x80:\\nj\\xf0\\xc34\\x0e\\x94\\xf0\\x03\\xe3h\\xc3\\x0e\\xbc\\xf5\\xfaS\\x112C\\xd5\\xbf,T\\xd0\\xbf\\xcaQ\\xbd\\x7f*\\x925\\xc4\\x03\\x81\\x9e\\xf5\\x14C\\x0e\\t\\xe4\\x12I?Z`M/\\xee\\xa4\\xe0\\xf0G\\x1fZ\\xad+\\x979\\xf7\\xab\\xd3 d\\'\\xb0\\x1cV{g?J@!\\'ny\\xfa\\xd3\\x19\\xfe\\xb9\\xfa\\xd3\\xf8\\xc1\\x15\\x0f\\x1c\\xd0\\x04\\xf1\\xcd\\xd1I\\xab\\x90\\x10\\x92\\x02\\t\\xdb\\xd7\\x15\\x99\\xb7\\x9fj\\xb7\\x1b\\x11\\x1bw\\xe0\\x8ah\\x06\\xdc\\xccH*H\\xeb\\xe9T\\xc9\\xa5v\\xdcsL\\xe9H\\t\\xfc\\xdc\\xa2\\x83\\x93\\xb7\\xa75\\x1eK6OsM\\xab\\x16\\xd0\\x19\\xa4\\xda:\\xf6\\xcd\\x00\\\\\\xb6\\x84\\xc5\\x0f\\x9f\\xff\\x00\\x01`\\x07Pj\\x16LI\\x85\\xabs8X\\x15A\\xc7\\xaa\\xe3\\xf3\\xaa\\xe8\\xb9a\\xc0<\\xd0\\xc0\\xdf\\xf0\\xc3yZ\\x9d\\xbb\\xba\\xb6\\xdf0+m\\x1dT\\xf5\\xafe\\x928\\x89_\\xddJ\\x9f0!\\x00\\xda\\x0b\\xf6\\xed\\xc9\\x18\\xef\\xc5yO\\x87mVi\\x8cE\\x90\\x7f\\x12\\x92\\t\\xcf\\xe5\\xdf\\x9a\\xef\\xbf\\xb4\\xa4\\x16\\xe5\\x16\\xdd\\xc9\\nF\\x07\\xcb\\xb3\\x8e\\xdd\\x89\\xae\\x1a\\xee\\xf2\\x03R\\xe6\\xce\\x11o\\xbc\\xc6\\xa1\\x8c\\x81\\x8f\\x1c\\x02Op8\\xc7\\xb5H\\xeb$\\t\\x18\\xb8F\\x12\\xa9(\\x1d\\x08\\xc3\\xe7\\x8cs\\xe8:sU\\x95n\\r\\xa2\\x99LK3.\\xd5\\x8c\\x8e\\x00<\\x9c\\xf2y\\xc7\\xff\\x00^\\x8b\\x94\\x9d%\\x96\\x10\\xc4\\xbe0\\x1c\\x1c(\\x00u\\x19\\xedX9h&\\xc5\\xba\\xb6x\\xed~\\xcd\\x04\\xe9\\x1c\\xd2\\x12B\\xb1\\xdf\\xb4\\x0e\\x9f\\x8f\\xf8v\\xa7\\x9b\\xcbY\"E\\x8e32\\xec$\\xca\\xce\\x17c\\x0e\\x98\\x1d\\xb8\\xcf>\\xa7\\xd2\\xab,\\xc2X\\x19\\xad\\xf0\\xb3\\x18w6NC\\xb1$\\x0c\\x0ex\\xc7\\xe1T\\xed\\xd8D\\xec\\x16\"Y\\x00%\\x13\\x9f\\x94\\xf4\\x18?\\xd7\\xb7\\xd2\\x86\\xed\\xa97\\xeah[\\x19\\x1a\\xd4\\xbb\\x8c\\xb31*X\\x1c\\xa0\\xc7\\x00\\xe78\\xe9\\xda\\x95\\x7f\\xd2#\\xdc\\xb3(p\\x00\\xcb\\x8e\\xe3\\x8es\\xd3\\xbfZ\\x8a\\x02\\xd3\\x978s\\xb3.v6\\x07\\xb2\\xe3\\xaex\\xf5\\xe9\\xeai#\\xb9\\xd8\\xab<qG\\xe5\\xcb\\x19\\xf3\\x08\\x18\\r\\x9e9\\xeezzP\\x98\\xeeOj\\xd1\\x18\\xa7\\x8aM\\xca\\xd1\\xaer\\x08\\x18\\x04\\xf5\\xfau\\xc51.#,~BL|\\x00\\x06A\\xfa\\x9c\\xe7\\xff\\x00\\xd7L\\x13\\xc8m\\xe5G*\\xac`\\xc8^\\x1c\\x01\\xd9\\x87\\x1dqH\\x9bf\\n\\xca\\xd1\\x95\\x86=\\xf9\\xe8\\xe0\\x8e9\\xf5\\xfc\\x05;\\x8a\\xe5\\x89\\xae\\'i\\xe4DFP\\xe4`o\\x1b2O\\xe0x\\xcdM!6Y\\x90\\x19Z\\x15b@L\\x12\\xc7\\xb8\\xe4\\x8e\\xff\\x00\\x8dP\\xb9\\xbdeH%\\x08\\xad\"\\xb6\\xe2\\xea\\x03\\x93\\xe8\\xbf\\x9f\\xb5Du+\\x99-\\xd9[,\\xeb&\\x0b\\x15\\xc6\\x18\\xe3#\\x8e\\xfe\\xdf\\xa9\\xa2\\xe8\\x1c\\x8b\\x87\\x10\\xce\\xc5]\\xc0\\nKep\\x01#={\\x1c\\xf5\\xf5\\xc5$\\xef\\xe4:4\\x9b\\x9c*n\\xde\\x8b\\x85\\xc9\\x19\\xc7\\xea*\\x05\\x9bm\\xc2\\x063\\x80\\xc4n\\xde0\\xa5\\xba\\x01\\xd3\\xbf\\xd3\\x15\\x0c\\xc2h.%\\x8eYJI\\x1c\\x9f3Dpp2~\\x9d=\\x07z.\\x17-\\t\\x92\\\\\\xe1\\xd9\\xb6\\xa9!\\x89\\xe2<q\\xd3\\xd39\\xc7\\xad-\\xcc\\xa6\\xde\\x13\\n\\x01\\xb8&Bm\\xf9\\x83d\\x0eX\\xfa\\xff\\x00\\xf5\\xaa\\x8aE%\\xc4\\xc2;X\\xd6\\x05+\\xf3<\\x87\\x18\\xef\\xd0\\x83\\xdb\\'=*6\\x92K\\x99\\x07\\xd9\\xf2\\xd1\\xe7hn\\xa5\\xdb\\xae\\x07\\xe5\\xd3\\xfaSD\\xdc\\xbdopR\\xe7qb\\xa4\\x9d\\xd9\\x8c\\x8e=\\rhY\\xdc)x\\xd1\\xf7&\\xd6l\\x8c\\xfc\\xbb\\x8f\\xbfC\\xc0\\xfeu\\x93s,\\xb0\\xca\\xc7lj#\\xfe\\x10q\\x93\\xc6@\\x1f_\\xc2\\xa4\\x8e\\xe6(\\xe4\\xf2\\x99\\x15H!6\\x11\\x9d\\xacFq\\x91\\xfey\\xa0.m\\xad\\xc4\\xe3\"#\\x1cqn;\\x15\\x94\\x82\\x06}\\xa8\\xac\\xe8\\xaf&\\xb9\\x8c<Cb\\xaf\\xcb\\xb7z\\xa61\\xed\\x9c\\xfetU_\\xcc9\\x8cX\\xb3\\x15\\xd4\\xf7s\\xc7\\n\\xdb\\xca\\xde^Q7\\x13\\x8e\\x01\\xe0\\xe4d\\x92z\\x1a\\xb2\\xb7\\xb6\\xf6q\\xb3\\\\\\xbb\\xab\\x0c\\xedi\\x97n\\xee\\xc3\\'\\xd3\\xbfJ\\xb3\\nB\\xbf\\xbc{\\x94VP\\xd9\\xcc\\x8d\\x8c\\xf5\\x00q\\xcf\\x07\\xa0\\xfci\\xd2\\xdd\\xcd%\\xa1\\x1fdTVP\\x8d)`Kdv\\x1f\\xd6\\x83U$\\x91\\r\\x85\\xce\\xe8\\xa6\\x95\\xe7F\\x84\\x10F@\\xef\\xdf?\\xe4t\\xfaT\\x8d2\\xddj7\\x10\\xc1\\xf38\\x882\\xa9`X\\xb1\\xe7\\xa8\\xff\\x00=\\xea\\x9f\\x9b\\xd2\\x06\\xdd\\x02\\x04]\\x92\"\\xafA\\xd8\\xe3\\xa7\\xd2\\x9fmoo\\x08v6\\xf2\\xcc\\xde[\\xf9a\\xee\\x19J\\x16l\\xee\\xc60\\x0f#\\xe9\\x8a\\x18\\xb9\\xba\\x92NP$b\\xecI\\x1d\\xb8\\x90 \\xd9\\xf7\\\\\\x8e\\xbbq\\xf4#&\\xa4\\x97S\\x92\\t\\xa4\\xb9{h\\x84lW\\x11 \\x0c\\x81\\x8f\\n\\xab\\xcf\\x1c\\x0c\\xf7\\xa8,n\\xa4:j$\\xacO\\xc8>v\\x84 b\\x1b\\x8f\\x94\\xe7$\\xe0}z\\xd4\\xf0[\\x04\\xb8x\\x9e\\xe6i&q\\x86YTr\\t\\xcf\\x1e\\x87\\xe9@\\xf9\\xb5\\xb8\\xd6\\x95$\\x90\\xc3\\x11\\x18F\\xdc^@\\x1f)\\xc1\\x00c\\xb6zR\\xdd\\xbd\\xcd\\xcc%\\r\\x96\\x1a`p\\x18mF^\\xec\\t\\x1c\\x9e\\x07\\xd2\\xa3\\xd5\\'\\xb6\\xd3a\\xfbl\\xb9\\x8eF\\'\\x91\\xfd\\xd1\\xc1 s\\xcfE\\xe9\\xde\\xb3\\xd9$\\x96\\xef\\xcd\\\\\\xa4\\x84\\xe5\\xd6V\\xc8e8\\xfb\\xa7\\x07\\xae@\\xe81K`\\xe7\\xd4\\xd9\\x16\\xd7\\x16\\x96A\\x11RY\\x90\\x85P\\xcd\\xc7^H\\'\\xa56\\xe7O\\xb7\\x86\\xe0H\\xf0\\xbc\\xc2L\\xab\\xba\\xb6\\xd2\\xfc\\x12>\\xef\\xe3\\xd3\\xaf\\x195,\\x89qo2\\x9b\\x86\\x84\\xacY9_\\x99=\\xf3\\xcf\\x00\\x1e\\xf8\\xcey\\xc0\\xa2x\\xd7R\\xd3VHT\\xdc\\x81\\xd6$Rp3\\xc9\\xe7\\x04\\x8e>\\x87\\xe8hzj\\x17\\xb0\\xb1I\\xba\\x12n6\\x9bu,\\x0c{\\x0e\\xc7s\\x82\\xa7q\\xea\\x17\\x1c\\xf6\\xe3\\x1d*\\x08\\xcc\\xb7P\\xc9+\\xb3\\xa4\"B\\xa8rv\\x15\\x03;\\x86\\x07#\\xbdTQe\\xa9\\xda<lc6\\xcc\\x02)c\\x8d\\xe4\\xf0\\xd9\\xe3\\x03\\xbdXM\\xf0\\xe9\\xfeB\\xc0\\x8f\\x08bc\\x85\\x13\\x93\\x8c\\x0eO|\\x8eM+4\\'\\xae\\xa46W\\x0b\\x1e\\xab\\x07\\xfaD\\xb2D\\xec\\x13\\x12\\x91\\xc9#\\x9cz\\x0c{\\xd3\\xe1@\\xd3M\\x99\\x1eq\\xbc\\xab\\xba\\xc9\\xb3h\\x04\\xe7\\x80wg\\xb0\\x1d\\xeaK\\x18@\\x0c\\xf1\\xb6\\x14\\x83\\xe4\\xf9\\x9f)\\\\\\xf2Wo\\x18Pzt#\\xe9O\\xb6M\\xcft\\xc1\\xda&\\x9af\\x94\\x8d\\xbb\\x89-\\xd4\\x1eG\\x19\\xef\\xc0\\xfc:\\xb4%fS3\\x97\\r(\\x87q@\\xaf\\x1a\\xb7\\x07\\'\\xb99\\xc7\\xf5\\xa9\\xa3\\x89\\x99\\xfc\\xab\\x98\\x80\\x99I;\\xd4\\x90\\x01\\xe8\\x0f\\x1c\\xf7<\\x7f\\xf5\\xa9\\xf1\\xc6\\xea\\x89\\x1c\\xad\\x13c%a\\xdf\\xd4\\x0e8@\\xbc\\x8e{\\x1f\\xf0\\xabl\\xb0G\\x1e\\x99\\x1c\\x16\\xad\\x1c\\xf21\\x08\\x14\\x1ex\\xc1\\xc0\\xe9\\x9c\\xe0w }h\\xbe\\xa0\\xd7B\\x94\\xf6W\\x06\\xdeAlK\\xabm\\x08\\xad0bs\\xd4\\x01\\xd7\\x04S\\xafg0\\xea\\x10\\xd9;\\xb0\\x9207\\xb0;@lt\\x04u\\xc69=*\\xf5\\xbe\\xa7\\x15\\x8d\\xd8v\\x8aY\\xaeI\\x10F|\\xb5L\\xb9\\xfe#\\x8e\\xb8\\xe4\\xf4\\xf6\\x15\\x9fx\\xbbb\\xb6\\x91Y\\xc7\\xcd\\x80\\xc5A\\x0f\\x8ex\\x07\\x92I\\xedM;\\xa2\\xac\\x9e\\xc5\\xb4\\xbc\\x11Z\\x19\\x81\\x00+\\x9d\\xa0 o0\\x0e@\\x0b\\xdcg\\xd3\\xadr\\xfa\\xad\\xfd\\xd3\\xb5\\xca\\\\\\xa1S\\xb8\\xed,Fq\\xe81\\xf5?\\x9dm\\xc14mo\\x1b\\xbc&\\x05Y\\x14\\xe1\\xc9VP:\\xe0\\xff\\x00\\x1bs\\xc2\\x8e\\x05fk\\xf6\\xef\\x1e\\x9c\\x8e\\xe8\\x11\\x1bq\\x1f>I\\xf7?\\xe7\\x15t\\xfe \\xe5\\xb1\\xe5Z\\xb2\\x80\\xdb\\xc7s\\xde\\xb2\\xb8#\\xde\\xb6u\\xbc\\xe06\\x0e\\x0fBk\\x13\\xb5w\\x00`\\xe6\\xad@\\x8d\\xe4\\x82A\\n\\xcd\\xc1\\xfc*\\xb2\\x90xj\\xda\\xb7\\x8e?\\xb1\\xa1Q\\x96\\xeb\\xcfAI\\x8d+\\x99\\xe2?\\x95\\xa4s\\xc1;@\\x1dO\\xff\\x00Z\\x89T\\xc2\\xf8\\xfe.\\xf5bA\\x87\\xf3$\\\\\\xe0\\xf4=\\xff\\x00\\xcf\\xa5Q\\x94\\x92\\x03\\x1c\\xf3\\xd3?\\xad\\x005\\xe4,\\xd9\\xa8\\xf9\\xcd.\\t<U\\x88\\xed\\x89\\x19 \\x90};S\\x11\\x1c|#d\\x13\\xd8}i\\xf1\\x0cH\\t\\xadKx\\x02B\\x01^s\\xf7\\xbbRKb\\x1d\\x7fv\\x15\\x18\\x1e\\x0fc@\\xecA1T\\x8c 9$\\x02}\\xaax\\xa2\\r\\x19\\'\\x03#\\x8e{U9\\xd6Ct\\x12E\\xdaI\\xc6*\\xf3a\\x11\\x02d\\xe7\\xe5\"\\x80\\x1c\\xe3\\x18\\x8c\\x93\\xc8\\xeck9\\x86\\xc6 \\xf6\\xebWg|\\xccS\\x1f0\\xc1\\xaa\\xec\\xbb\\xce\\xe2>\\xbe\\xf4\\x01Y\\xf8\\x18\\xa8\\xd4\\x03\\xcdI!\\xea=\\rD\\x0f>\\x86\\x81\\x0f8\\xc6;\\xd4\\xd16\"`s\\xd3\\xd6\\xab\\xfd\\xe3R\\xbb\\x88\\xd3\\x1f\\xc5\\x8cb\\x80*\\x9e\\xa6\\x90\\xf5\\xa7\\x13\\x92M7\\xad\\x00I\\x12\\x16<\\x0c\\xd6\\xad\\x84[\\x1fs/\\x19\\xebTm\\xa1\\x91\\xb0Tg=+f0\\x05\\xa9\\xe3\\x0f\\xb7\\x9e(\\x02\\x8d\\xdb\\x1d\\xcc\\xbc1\\xdd\\x9d\\xde\\xa2\\x9db\\xa8\\xef\\xb6L\\x80x\\x04v=\\xa8[g\\x9d\\x9f\\x03\\x9cqZ\\x1a}\\xa2\\xc8Yd\\xc4m\\x8f\\x95\\x9b\\xa6GcQ)\\x01\\xd0h^lm\\x00U\\xdb:\\xb1tb\\xdbC\\xaf\\xf1\\x00{\\xf6\\xfc\\xab\\xd2m\\xae#\\x9e!$a\\x99\\x95\\x033\\'Pzw\\xcfq\\\\>\\x9bm\\x88\\xd1\\x1d[\\xc8\\x95\\xc6$\\xc7\\xfa\\xa9{`\\xfa\\x1f\\xc8\\xd7k\\t\\x95\\xe2(DjbPdl\\x85\\x0c\\x0f\\xf1\\xf1\\xd7\\x91\\xd3\\xd7\\x15\\xc5Q\\xf5\\x16\\xa5\\x96\\x864\\xb4.\\xeas\\x18W`\\x9d\\x8b\\x1c\\x92s\\xed\\xf8\\x93T#\\xba\\xf3\\xdf\\xedB\\x16)\\xb31\\xb1`\\xab\\xb7\\xa7OA\\xcf=\\xff\\x00\\x1a\\xb0\\xea\\xa9\\x02\\xca\\x19\\xfc\\x99TF\\x15\\xdc9,>\\xe9\\xc7\\xd4u\\x1e\\xf5\\x13\\\\\\xc9\\x0cf5\\x8e0\\xb2`+ 9Oq\\x93\\x9cg\\xa7\\xd2\\xb0lI\\xf7%6\\xabu\\x07\\xee\\x94\\xb9\\n\\xa8$\\x00\\x0c\\xfa7\\xd3\\x15Y\\xed-\\\\N\\x11\\x95\\x99\\xdd\\xf7e\\x89gQ\\x8e[$\\x12OR\\x7f\\xa5\\\\\\x8e4H\\x8b\\\\4\\xb2 \\\\\\x80\\xe4\\xb6\\xf6\\xc9\\x00\\x11\\xd1\\x8eOJO)\\x11\\x0bF[\\xcc\\x98bC\\xb86O\\xb6=?*^L\\x14J\\n\\x9b`\\r1\\x9f\\xca\\x95\\x0b\"\\xc3\\x80\\\\\\x83\\xb4}\\xd1\\xeb\\xd0\\xf4\\xe2\\xacG\\x13\\xc8\\xd0\\xa5\\xe0\\xe0\\x168\\xe5w #\\n\\x01\\x1c\\x8c\\xfe\\x94\\xe95\\x17\\x96X\\xd1#(G\\xcb\\x1b\\x88\\x83\\xaa\\x05\\x18\\xcag\\xae3\\xf9\\xe6\\xa2G\\x8a0b\\x97,\\xe7\\xef\\xb9\\x18`N{\\x8e\\xbd;~4\\xd5\\xd6\\xc2\\xb7bFh\\xee/w\\xc5\\t\\x12\\xb99q\\xf2(\\x19\\xee\\x7f\\x88\\x7f\\x8f\\xb5B\\x88\\xd0\\x92d\\xc0\\x89\\x9d\\x83H\\x84\\x10s\\xc99\\xe3\\x8f\\xc0\\xf6\\x15gOM\\xa0\\\\,\\xb1\\x08\\xdf+\\x89&\\xda\\xdc\\x1c6\\x06\\x07\\xb7~\\xfd\\xe9\\xeab\\x86d\\xb4W1\\x97b\\xc5\\xd8\\x00\\xb8\\x1c\\xedS\\xf5\\x00\\xd3wC\\xd8\\xa0\\xd1&H\\x12\\x1d\\xd1\\x15eF\\xc1\\x05z\\x96\\'\\xb1\\xfasG\\xd9\\xa0\\x0e\\x19\\xe3-4\\x85d\\xcc-\\x8c\\xa99\\xe7\\xbfn\\x9c\\x8cs\\xc5J\\xd7,\\xb7\\xc0\\x94\\x925R]\\x95\\xc2\\xe4\\xf5\\xc9\\x04\\x83\\x91\\xdcsM\\x95Z\\x7f.\\x7f\\x9cyj\\x0b\\x12p:\\x9e\\xe7\\xaf?\\xe3S\\xe8+\\x8f\\x9eT[\\x95\\xdc\\xec|\\xe0\\xc0l\\x00\\x88\\xc0\\xe3\\xd3>\\xddx\\xaa\\xd2Y\\x1bk\\x98\\xe2\\xb5I&yd\\xc9x\\xdc.p\\xb9\\xdb\\xdb\\x00~\\xb8\\xefZ2\"(I\\xe0C\\xdb\\n\\x13\\x03\\x04\\xfc\\xdc\\xf4\\'\\'\\xd2\\xa4\\x8e\\xf6\\x1bh\\xa4\\x88\\xc6\\xb1+\\xa8tP\\t\\xda\\x07\\x04\\xe7\\xb7-\\xcf\\xadZcl\\xce\\x96\\xc5\\xa1\\x9d\\xcd\\xb4\\x06K\\xc7<\\x99X\\x1c\\x03\\x80}\\x80\\xf4\\xa1\\xb3\\x1d\\xa4\\xd1\\\\F\\n\\xc7&\\x0c\\x838<\\x0c\\xe3=GJ\\xbc,\\x05\\xdal\\x13\\xf9N\\x84\\x8d\\xe5z\\x10@\\xfb\\xddG\\xa7\\x1e\\xbcS\\x046\\xcf$\\x8b\"\\xbbA\\x07\\xca\\x83\\x1b\\xb1\\x8e\\xe3w\\xde$\\xe7\\xe9\\xda\\x9a\\xbd\\x89\\xdc\\xce\\xb9\\x8cH\\x96\\xb3Mk?\\xd9\\xd8\\x97\\x92R3\\xb8\\x01\\x90\\xaa\\xbe\\xe7\\xeai \\xd3\\x96[&\\x90\\xc7\\x15\\xbd\\xcc\\xb2\\t#c&\\x14\\x11\\xce0\\x01<\\x8e\\xdds\\xe8+B(\\xd9%\\x92R\\xe4\\xca\\x84\\x17Gbv\\xa1$\\x8c\\xae@^\\x9c\\xd4\\x87O\\xb4\\x90@/f1%\\xcc\\xb9\\x19\\x95\\x86\\xe2z\\xe0n\\xc1\\x18\\x03\\x8e\\x9di\\x0e\\xc8\\xa5\\x15\\xb6\\xb0`\\x8cAs\\x05\\x9a\\xa8\\xdb\\xb2\\xec#;`\\xfd\\xec\\xe78=\\xbaQR\\xab\\xc7\\x01x\\xfc\\xe8P+\\x10\\xaa\\xa9\\xdb\\xb5\\x14\\xae\\xc5b\\xbb\\xf9,\\x18E\\xb0b@fL\\xed\\x0cH\\xe3\\x93\\xdf\\x8e\\xd4\\xd5\\xb6\\x13\\xb8\\x13]D\\xd1\\x9eUY1\\xb3\\x1c\\r\\x83\\x19\\x04\\xfe4\\xe9 Y\\x8b<0\\xfc\\x9b>p\\xeeA\\x90\\x82\\x0f\\xf9\\xe4Q:\\x99a\\x08\\xb2y.\\xe7\\x126\\xfc\\x92\\xbd\\xf9\\xfd=\\xb3[\\x16\\xa3\\xdci\\x8d\\x12\\xe9b\\x85\\xd5\\xa6H\\xb7\\x80\\xab\\x868\\xff\\x00\\xd0\\x87|\\n\\x8e+\\xd8$\\x81\\xe12+1|\\x14`O\\xccO\\'\\xdf<\\xfbP\\xd0=\\xb1\\x8e(\\xce$\\x85\\x99\\xf8bLg\\x1c\\x0c\\xfa}?*\\x84[,\\xf7pJ\\x8e\\xc2\\xd5\\x90)23\\x07\\xc8\\xe5O\\xe6z~B\\x98Y-\\t\\xe4\\x12\\x19\\x15\\xe1D@\\x92\\x95\\xd8\\xcaY\\x80#\\xefzg\\xff\\x00\\xadV$8\\x92\\x12L\\xfb\\x1f$\\xaa\\xf0O|\\xb1\\x03\\xa7\\xe0*\\'\\xdf\\x0c\\xf6\\xb0F\\xd9y\\x1dAV?3\\x1e\\x9d\\xf8\\xf7\\xff\\x00\\xeb\\xd3\\xf5\\xb7Xc!nR&V1\\xc6:\\xa7\\\\g\\xf0\\xc1\\xf6\\xa8mh\\xc3\\xcc\\x8e\\xf9\\x9a[H\\xedd\\xb6@.\\x0f\\x07~\\xd2\\xea9\\xf9\\x8b\\xe3\\xa1\\xe7\\xd2\\x92\\xd2\\r\\xb7\\x04D\\xc8\\x1a<\\x90q\\x93\\x928\\'#\\x07\\xd7=(\\xfd\\xe5\\xd4\\x16\\xf2J\\x8bo\\x8d\\xab\\x08\\x90\\x00W\\x1dJ\\xe7\\xaeFO\\xaf\\xe3Ii\\x03%\\xc4\\xe4\\x89\\x8e\\xfb\\x83\\xbaK\\x81\\xb7<\\x8d\\xdbOV\\x00c\\x9e\\xdc\\n}\\x06\\xd2\\xe8_\\x10\\x14\\xd3a\\x96I]\\x9dWj\\xdc\\xccw|\\xde\\xb8\\xe6\\xa2\\x80\\xc8\\xa3\\x0b,\\xc5$ly\\xbb\\x8a\\xb7#\\xae{}*\\xbd\\xd6\\xa2\\xd2\\xdd\\x99\\xa6o+qEX\\x80 \\xf5\\xce=s\\xf8RM(\\n\\xdb\\x1eH\\x9f#\\x83!b\\x18\\x1e\\xbf1\\xe3\\x8fjM]\\x05\\x914R\\xa5\\xd0{xB\\xcfqh\\xc6\\x178-\\x9frx;\\xbb\\x9e\\x7f\\x95N\\x8f\\x05\\xc3\\xacrM\\xb1`;\\x02\\xaa\\xe3q=\\xcey8\\xe9\\xf5\\xaa\\xe8\\x9a\\x9c\\x96\\xc9(\\xb9\\x9flLH\\x8a\\\\(\\x90\\x1es\\x8cg\\'\\xd4\\xf6\\xe7\\xda\\x9b\\x1bC\\xba\\x1b\\xa9n-\\x15Sp\\x12JH;s\\x83\\xf3\\x0c/s\\x8f\\xad\\x1a\\xa5\\xa8\\xcbS5\\xb5\\xbco\\x12\\xefX\\xdb\\xf7Q\\xa4x\\x19\\xc7\\xf29=i\\xcf\\xe5$x\\xdd!\\x91\\x08\\xcb7,\\xc3\\xa8\\xc8\\xe7\\xdb\\x195\\x8a\\xcbr\\x9a\\x91\\x8a\\xf24\\x16(X,\\xa7,\\xad\\x90H\\x00.9\\xc799\\x1d;\\xd5\\xab[\\x99.\\xc7\\x9b\\x89\\x91\\x03m\\x8e\\x05\\xceX\\xf6\\xcb\\x1c\\x8cw4\\xedd+X\\xbb{\\x05\\xa5\\xbc\\x8d,\\x9elI0\\xda\\xc8\\xf2mu\\'\\x9cn\\x1d\\xbb\\xf1K43\\xce\\xe9+\\x19L0\\x8f\\x91\\x11p\\xa5\\x8e0G\\xa9\\xe9UfI\\xae\\xaf\\xc1\\xba\\x94\\x10c&&v\\xdb\\xbf\\x07\\x91\\xc1\\xe9\\xeazv\\xc1\\xa9\\xa3\\x96)mB7\\xefb\\xc6\\xd2\\xaf\\x95PNGL\\xf01\\xd3\\xa5$\\xba\\xb0\\xb7rHm\\xa0H\\x96\\xe8\\xcd3\\\\\\xbb\\x15$\\xa9Ep\\xa0\\xe3\\xbf\\xa9\\xc6q\\x8e\\xbd\\xea\\xb5\\xab\\xda\\xdaa\\xefv\\xa2m2<jH@\\xaa\\xbc\\x02x\\x1d}O\\x03\\xeb\\x8a\\xb7c\\x14\\xd3\\x88\\xa4*H\\x83%\\x10\\x8c\\x97\\x19\\xe0g\\xb8\\x1dy\\xa5\\x8d<\\x8d\\x92L\\xdez\\x90r\\xd2\\x91\\x82\\xe3<\\x1c\\x0c\\x7f:v\\xd0ii\\xa1\\x9f#\\x9dD\\x84\\xc4\\xe5dEq+\\x13\\x84\\xe7\\x828\\x04c\\xe8q\\xc7Z\\xc9\\xf1=\\xcbAb\\xb6`\\x99V\\x11\\x85s\\x80\\xc4g\\xae?\\xc7\\x93]d\\xdeZ,J\\x0c\\x8ftY\\x95\\xc67\\x96\\xcf\\\\\\x1f\\xc7\\xff\\x00\\xac+\\x9d\\xd7\\xa5\\x07L\\x98\\xc4\\xbf+\\x9c30\\xc61\\xc61\\x9cu\\xab\\xa4\\xad \\xb1\\xe4\\xba\\xd4\\xa6I\\x139\\x03\\x1c\\n\\xc8\\xadMe\\xf7\\xce\\x87\\xd0\\x11Yu\\xdc \\xab\\xd6w[%EbBs\\x9f\\x7fJ\\xa1J\\r\\x034\\xb2\\xd72\\xac+\\x81\\xf7\\x98\\x93\\xd3\\x00d\\xff\\x00*\\xa0\\xee[\\x1e\\x83\\xa0\\xf4\\xa4,M&i\\x01=\\xb4\\xeb\\x14\\xd9?u\\xb8\\'\\xae*i\\xae\\x0co\\x85\\x03\\x00\\xd5\\x1aq;\\xb1\\x93\\xd0c\\x9a\\x00\\xb6\\x9a\\x84\\xa8}W\\xd0\\xd5\\xc8\\xb5%8\\x0c\\xbc{\\xd6F\\x08\\xa7)\\xa0.k\\xb4\\xb1\\xdc2\\xe59\\x1d\\xfd*6r\\xae\\xaax\\xdb\\xde\\xa9\\xc2H9S\\x83V\\x0b\\xe7;\\xf0x\\xe0\\xd0\\x03\\x9d\\x83\\x9c\\x8e\\xb8\\x1d\\xe9\\x0b\\x07A\\xbb\\x8c\\x8aha\\x85\\xe3\\x8c`\\x9a\\x8d\\xdb\\x81\\xc8\\xf7\\xa6\\x04R\\x8c7\\xbdF:g\\x149,\\xd8\\xebS\\x04\\x01\\x80~\\x01\\xef\\xe9@\\x8a\\xfb\\x8a\\xb1\\xa7J\\xdb\\x9b4\\xd9\\x14\\xa4\\x85OQ\\xc1\\xa6\\x9a\\x00\\x0fJT\\x19jL\\xd4\\xf0&H88\\xf6\\xa0\\r\\xcd\\x168\\xc4\\xe1f8B>c\\x8f\\xd6\\xaf]\\xda4\\x13\\x88\\xf6\\x17G\\xe8\\xc0c#\\xb1\\xa9\\xb4\\xcbd6\\xcb$g%\\x07\\xcd\\xbf\\x18l\\xf1\\x81\\x9e\\xff\\x00\\xe1]=\\x95\\x92\\xdd\\xc2\\xf6\\xf2\\xc2\\xfb\\x18\\x80N\\xd0q\\xe8A=+\\t\\xd4\\xb3\\x03\\x98\\xb2\\xb6{+\\x88\\xa7(Z\\xd9[\\xcb\\x94\\x01\\x92\\x01\\xeb\\xf8f\\xb7c\\xd3b\\x8e\\xf2X\\xa2\\x02r\\xd8hpF9\\xe3\\x1e\\xe3\\x9e\\x95\\xa5\\x0e\\xf5X\\xed\\xf5\\x15\\xdcmX$\\x04\\xf3\\x94\\x07\\x80\\x06x\\xfc\\xebV\\xe6\\xde;x\"\\xb8\\x85\\xfee\\x1b\\xe6m\\x87\\xa99\\xcez\\x02\\x07a\\\\\\xf2\\xa9v+\\x99?eM*\\xe2]2\\xfa@\\xe1\\x14\\x161\\x92q\\x9e\\x98\\xf7\\x07\\x8a\\xd8\\xd3\\xaeY^)\\xa7\\x05da\\xe4\\xe1FC\\x82x\\xce>\\x84\\xd6o\\xda-\\xff\\x00\\xb4\"h\\\\\\xcar\\x1d\\xe2;\\x83loR3\\xc7N\\xfe\\x95\\xabe\\x04r\\xab\\x08fU\\x8e7\\xfd\\xe7\\xc9\\xb9\\x95[\\xa0\\xc7\\x1d\\xcf\\\\\\xf1\\xefR\\xdd\\xd5\\xc5rI\\xd9\\xa3\\xb9Q\\x19Sj\\xb2FY\\x91\\x82\\x84=\\xc0\\x03\\xa9\\xe9\\xf8\\xd2M\\x04W0\\xc7\\x120\\x9av\\x90(u\\xdcU\\x0es\\xf4\\xc8\\x1d\\xb9\\xe7\\xadX\\xfb\\x03\\xc1\\x0cV\\xf3#6\\xc8\\xce\\xf8\\xe5|\\xb3s\\x91\\x92O\\x03<\\x93\\x9a\\x8c\\xa5\\x8cp\\x8bu\\x89\"\\x9ef\\x12;\\xabo\\r\\x93\\xc7N\\x87\\xaf\\x19\\xf45\\x16\\xb8\\xecG\\x89R(\\xed\\xaen\\x19\\x89q\"\\xb0\\\\\\xb1\\x0b\\xc6\\t\\xc7LS\\x94\\xcbnL\\xaa\\x8d*\\xc8\\xc1\\x89\\x00\\x95*:r\\x7f\\x90\\xfd*\\x19\\xee\\xf4\\xfb\\x9b\\x96\\x8do!\\x12\\x0cF\\xf0\\xf5*:\\xe4\\x10}\\xc5\\\\{\\x91\\xf6\\x98!\\x92Ic\\x95\\xceP($\\xa2\\x8e9\\'#o\\xeaN*m\\xa8\\x07\\xda\\xfc\\x88\\xe3\\x96xv\\xab\\xc0\\x15U\\xa3\\xca\\x03\\x93\\xd7\\xd3\\xb7\\xb9\\xaa\\xb0\\xc4\\xf7W\\x11^\\xfd\\xa1\\xc4\\xea\\xaa6\\xa0!G\\xaf\\x03\\x82\\xd8\\xc8\\xf4\\x1e\\xf5m\\x90\\xc7j\\xd0\\\\\\xc8\\xab#6D\\x81Hf#\\xd4\\x9c\\xe3\\'\\xbf5oO\\xd3\\xad\\xa1\\xf3\\xbc\\x88LpH\\x08\\xdc\\x83\\x01\\xf1\\xcb1\\xc8\\xf5\\xef\\xc7\\xe3N\\xdd\\x8aKB\\x07\\xc3K\\x13\\xcdn\\x0f\\x9a\\x01\\x89b\\xcb\\x90\\x07\\xdd\\x1d8\\xf5\\xff\\x00\\xeb\\x9a\\x92\\x15Y\\xad\\xaeZT@m\\xe3Te\\\\g\\x07$\\x0c\\x13\\xeb\\xdc\\xfe\\x9d*\\x06\\xbeR\\xecT\\x05\\x98\\x80\\xca\\xc0\\x15\\xeb\\xf2\\xe3\\x801\\xf8\\xd3Z\\xe6;+K\\x89\\x04%|\\xc9cY\\x97$\\x97\\xc9by<~\\x02\\x8d\\toK\\x91\\xcdwi\\'\\x96\\xdfd]\\xe4f0\\xa0\\x93\\x93\\xdc\\xb6H\\xf5\\xe7\\x1f\\x85I<\\x91G,m\\n<\\xb1\\xb2\\x13\\x97m\\xa4\\x0c\\x0c\\x9c`g\\xbfQ\\xda\\xa9\\xdb\\xf97\\x17)\\x13)\\x85\\x83n\\x0f\\x11%UB\\xe7\\xbf\\xa6*\\xd8\\xbcxC\\xdc\\xa0\\n\\xae\\xa0\\xa99%\\xb2}\\xc6A\\xe7\\xd3\\xf1\\xa9\\xb2\\x13H\\x8e\\xe6c\\x84\\x801y&\\xf9c\\x8ah\\xb6\\xeeN\\xbb\\x89\\x07+\\xed\\x91\\x9fjM\\x97\\x11\\xcf\"\\xdb\\xcb\\x1a\\xc7\\xc2\\xdc\\r\\xe0\\xa8#\\x18P\\xc39?\\xd7\\xbdI\\x0b4\\x97\\x12\\x90\"U\\xde\\x15T\\xa12)9\\xca\\xb1\\xf5\\x07\\xb7\\x15,\\x90\\xdb!\\x85K\\xb2\\xa2\\x04I\\x1dQ\\xc9\\r\\x9c\\xe4\\xe0\\x12\\x7f\\xa0\\xa3a!c\\nn\\x10.\\xd0\\x90\\x80B\\x03\\xd7\\x1d\\x87\\xe6\\x7f\\x9dN\\x81<\\xe8<\\xc3\\xb6\\xe6<I\\xb4H\\xcc=\\x87\\xb7\\x1d\\xbd\\xaa;A4\\xb12\\xdb\\x9br\\xfeg\\x9d\\xc1*\\xa3=\\x08\\xe0\\xe3\\x9f\\xad\\x10\\x86\\xfb#\\xe4\\xfe\\xf6@6I!\\xdd\\xe6\\xe4\\x93\\xc9\\xf5\\xec0:U!\\xd8j\\xc5q\\xa6\\xc8Y6Lr\\xdb\\x9d\"\\xdc[q8\\xcf\\x18\\xc8\\x1d\\xbf:\\xc9\\x13\\t\\x10Kn6\\xaa1\\xe0\\xb0P\\x0b\\x1d\\xb8\\xcfM\\xddO\\xd6\\xaf^\\xcbp\\xd2\\xda\\xdaX\\x99$\\x83\\xec\\xe4\\xc8\\x0cc\\'=FGC\\xc8\\xc9\\xe7\\xa74\\xa6;\\x94\\xc4\\xacK\\x10p\\xed#d1<q\\xdb4\\xd8\\xb4\"\\xb9\\t\\x14\\x81^\\xc2\\t\\x01PU\\xcb\\xb9\\xdc=x\\x18\\x1d\\xf8\\xa2\\xa4\\xb7\\xbd\\xb5\\x91\\x1b\\xf7\\xf2\\xc2C\\x1c\\xc6S8\\xef\\xc7=9\\xa2\\x9d\\x90s$M\\xf6\\xcb\\x18\\xf4\\xf4\\xb7Y\\xd1f\\x80\\xe7s.[\\x04\\xe3\\x81\\x8fOJp\\xb7\\x86\\x0b\\x1c\\xa0s(\\x18]\\xcd\\x86U\\xeb\\x92\\x0fOZ\\xccwH\\x10\\xeeul\\xfd\\xff\\x00\\x95x\\'\\x81\\xf3\\x03\\xcf\\xd7\\xb5\"\\\\I\\x0c\\xc8&;\\xa3q\\x8c\\xe3hV\\x04\\xf1\\x9f\\\\\\x8e\\xdfJ\\xbd\\xcd\\\\\\xfa\\x16e\\x86F\\xb9-\\x0bg|,C\\xac\\x83\\x93\\xc6\\x06?\\xc6\\x90\\xac\\x8aG\\x96\\\\\\x90\\xd9\\x01\\x18\\x9c\\xb1\\x18\\xc8=\\xb3\\xd35\\x0b\\xa4q\\xbbc\\x11\\x02\\xa7+\\x9c\\t\\t\\xeb\\xc7\\xa55\\xefD\\xcb\\xe5\\xfe\\xec1M\\xeb\\xb3w\\xdd\\x1d\\t\\xf44\\xaeC\\xb3\\x1fo\\x9d\\xfbQZF\\xde8l\\x1c\\x00s\\x8cv\\xe6\\x8b\\x80.\\xad\\xe2@\\xb1\\x89\\xc3\\x12#\\xc0\\xe3\\x8eH\\x00q\\xc1\\xf4\\xaa\\r#M\\x19X\\xcb\\xe1\\xd7\\xe6$\\x85\\x0c?\\x88\\x92z\\x0e\\xc3\\xebVt\\xcc\\xcd\\r\\xba\\xb0\\x89\\x91de\\n\\xa3\\xfdV{\\x82;\\xf1\\x8f\\xc6\\xa5 \\xb3\\xd8rZy\\xd0\\xc4!\\x08 l\\x87\\x0e\\xc0\\x86\\xfa\\xe7\\xb6{\\xd5\\x8f?\\xcad\\x88*\\x85\\x00\\xb2\\x80\\xc3kp9\\xf7\\xe9U\\x12Xs\\x18\\x93\\xe4\\xc3\\xed\\x08HQ\\x83\\xd7\\xd7\\x81M\\x17\\xb2\\xb4\\x91\\x95b\\x8e\\t\\x048 \\x10\\xd8\\xf9\\xbas\\xd3\\xd6\\xabt.m\\x0b\\xb7\\x0c\\xf7w\\x01$\\n\"\\x1b_(8\\xe3\\xa3v\\xc8\\xf6\\xe7\\x9a\\x8a\\xdek\\x86\\x11\\xc7\\x04f1#2\\x94~YA\\xe3\\x80GLu#\\x9cT\\x16\\xd7W{L\\x98xr\\xd9m\\xc46\\xd0>\\xbd\\xbf<S\\x89\\x95\\x96YZ\\xd9\\xa6R\\nG\\x8c\\x8d\\x81\\xbf\\xda\\xe9\\x93\\xc7\\xa0\\xc7\\xe5AJW4\\x03\\x9d\\xe1\\x93iB\\x86\\x16\\xdc3\\x90F\\x01\\xe0\\xe4u\\xfd*#e\\x1d\\xc4qZ;\\x8f\\x91\\x03H\\xa5>S\\xd0(#\\'\\x9e\\xf8\\xe7\\xad:\\xcd\\xa13\\x14\\x90m\\x82\\xdd<\\xfb\\xa3\\x83\\x9c/%ww\\xc9\\xda\\xa3\\x1f\\xde\\xac\\xfbI\\xae.d\\x9bd\\x92=\\xc5\\xc3\\x8c\\xec@\\xca\\x18\\xb6p\\x07\\xf1\\x009\\xcf`:\\xd3\\xd4|\\xcf\\xa1\\xa5\\xac4\\x90o\\x9a\\xd2\"\\xd1\\x05\\xd8\\x02&\\xf5f\\xe3\\x80\\x063\\xd7\\x8aKI$\\xb5\\x91\\xbc\\xb8\\xe3\\x82A\\x88\\xc6G\\r\\x91\\xce{\\xe79\\xe2\\xa2\\x82\\xf1\\x85\\xec\\xb6\\xa2c\\x1b\\xb9\\xf9e\\xda~U=\\xd7#\\x05\\x8f<v\\xcf5ne 2\\x95F\\xd8r\\xd2\\x16`@\\x19=O\\\\\\xd2\\x1bi\\xa2!\\x04\\x89\\x10Ae\\xf6{\\x82\\x18E<\\xcd\\xf2\\x11\\x90[f\\x07>\\x9d\\xb1\\x9a\\x82\\xe1\\xe6S4\\x1ab!If\\xc3\\xc7+\\xf0\\x14zc\\xae2z\\xf5\\xa9\\x9a\\xf95X \\xd8\\x02\\xb1E@\\x92\\x8c`g\\x9209\\x194\\xd8-E\\xc5\\xd6\\xf1&\\xd5#c\\xc8\\x1c\\xb2\\x91\\xd3 \\x0c\\x1e?!E\\xd8j\\xf6,X\\xc94)\\x12\\xce\\xc5\\x90#\\\\\"\\xc9\\x8d\\xca:r\\xa0d\\xfex\\x14\\xc5\\x8e@\\xd1\\xaa\\x17\\x92Y\\xa4+\\x12\\x88\\xcf\\xcaq\\x9e\\xa7\\xa8\\xebJ\\x1b\\xedlb\\xb6\\x8b\\xcarr\\x10\\x1c\\x8cg\\xef\\x02y\\xfaf\\xa3[[\\xc4\\xba\\x86\\x19\\x8a\\x1d\\x9b\\x98\\x04\\xce\\x17\\xd0\\xe7$\\x13\\xc1>\\xd8\\xa0\\\\\\xd7,O$\\xb7\\x0e\\xa1\\xd0\\x94*<\\xd9\\x81\\n=\\n\\x90\\x07\\\\~Y5\\x95w\\r\\x8d\\xed\\xb4\\xf6\\x91b(\\xf0L \\x0cl\\xcf\\\\\\xff\\x00\\x9e\\xf5\\xa7q\\x1d\\xc8\\xb6R\\xa4,2\\x16p\\xe8~n\\x83#\\x07\\xaf\\xd3\\xde\\xb9?\\x10jOmu \\xdcc29-\\x95\\r\\x8f\\xa1\\xed\\xf8U\\xd3M\\xbb M\\x9eo\\xab[\\x15\\x9d\\xa3\\x04\\x9d\\xad\\xd4\\xd63.\\xd2Et\\x1a\\x94\\xe94\\xcf\\xb4\\x9cg\\xf3\\xac\\x89T9\\xf9z\\xd7h\\x15qF)E)\\xa6!1IK\\xd4\\xd5\\xe84\\xbb\\x8b\\x95\\xccQ\\xb3\\x1f@3\\xedI\\xb4\\xb7\\x02\\x86)\\x7f\\x1a\\xb5sc=\\x9b\\x85\\x9e&L\\x8c\\x82G\\x04T\\x05i^\\xe0 \\'\\x18\\xa4\\xcd<\\xc4\\xe2?3i\\xd9\\x9cf\\xa3\\xe8i\\x81$nU\\xaaG\\x93 \\x0f\\xad@\\xbfxS\\x8fZ\\x00\\x988\\n\\x01\\xe9Q\\xbb\\xf1\\x8e\\xa2\\x98M\\x1di\\x80\\xf8\\x97t\\x83\\xa7Z\\x9e\\xf2L\\xcc\\xdf.1\\xc6)l\\x8a\\xac\\xc0\\x91\\x93\\x91\\x8c\\xf7\\xaa\\xf3\\xb139=w\\x1c\\xd2\\xea\\x03$m\\xcf\\x9fP?\\x956\\x8e\\xf4S\\x00\\x03&\\xb4,\\xd9!]\\xce\\x1b\\x07\\xa1\\x02\\xa8\\xa0\\xce}q\\xc5hE?\\x97\\n\\xa7\\x94\\xa4z\\xb0\\xa4\\x05\\x96\\xbf\\r(|\\x02@\\xc0\\x07\\x9a\\xb9\\x07\\x89n\\x16X\\xcb9+\\x19\\xf9@8\\x03\\xe9X\\x93\\\\\\x82p#Q\\xf8V\\x8e\\x9b\\xa7\\x9b\\xdbWu\\x11\\xee\\x07\\x1b\\x9c\\xe3\\x9fA\\xebS+n\\xc4\\xdd\\x8b\\xc7\\\\\\xbb\\x91\\xdeYd.\\xe4\\x86\\x12\\x13\\xd0\\x8e\\xf5r\\xdb\\xc4\\xd2\\xc2\\x1d\\xee#7GiE2HF\\xdc\\xf5\\xe3\\xfc\\xf5\\xacCm$*\\xc1\\xe3 \\x8e\\x08\\xf4\\xf5\\xaa\\xed\\x91\\xd5B\\xf6\\xe4\\xd4\\xf2E\\xf43:\\xed?\\xc4\\xb0\\xdb[\\xc9\\x14\\xd6\\xdf3\\x82C#\\x10\\t\\xea7\\x8fO\\xa1\\xcdlZx\\xaa\\x08\\xc4\\r5\\xf4\\xa5\\x17\\x0c\\xd6\\xf9b\\xa1\\xbf\\xbc=}\\xcdy\\xc8`\\xab\\xcf\\'\\xb1\"\\x9c%i\\x1c\\xee\\xc98\\xeay\\xc7\\xa5L\\xa8\\xc5\\x8e\\xe7\\xac\\xd9\\xf8\\x83G\\xbbo\\xb1\\x0bq\\xe4\\xb7%\\xc9\\x039\\xe9\\xb8g\\x9fq\\xff\\x00\\xea\\xad9n\\xadLIq\\x04h\\xc7\\x90\\x88\\x8e7\\xbf\\xb2\\xa8\\xe8zv\\xc5x\\xbcl\\xfbw\\x16%\\xb3\\xb5\\x17\\xde\\xaf\\xe9\\x9a\\x9d\\xed\\x95\\xc8\\x91\\x18\\xb0B0\\x9ds\\xf8\\x0eO\\xe7YJ\\x8d\\x96\\x85sic\\xd7\\x8a2\\xa4\\x17\\xa8\\x90\\xdaH\\x11\\xe3\\x95\\x99C\\xb0\\xff\\x00g,;z\\xfb`T2\\xb5\\xdc\\xacx\\xb5\\xb78,Zt\\xdcJt!p\\x0e\\t\\xed\\x8eG\\xebY\\x9e\\x1d\\xd7\\xef\\xb5\\x06\\x9d\\xee#K\\x98\\x1dV\\x10O/\\xb8}\\xd0;\\x13\\xef\\x9e=j\\xebM\\xf3\\xacM$*F6F\\t\\xcf\\xb1 \\x13\\xf9\\x83\\xeb\\xda\\xb0k[2\\x8b\\xb0\\xa8\\x99\\xa3\\x12\\x85*3\\x92\\tm\\xacGLw\\xe2\\xa4{\\x9f \\xad\\xb4cxEBc\\x00\\xf2\\xe4\\x9e\\xa3\\xa1\\x00\\x0e\\x9csU\\xec\\xe6\\xb9\\x8d\\xdd\\x8f\\x94X\\x9c\\x06\\x88\\x85\\xc8=O\\xa6\\x07\\xadXd)\"\\xb2\\xec\\xf9\\xd8;\\x95\\xe8\\x8az\\x10q\\xdf\\x1cc\\xafZ/q\\xdc@\\xaa&i\\xa4\\x923,\\xad\\x85B9\\xe3\\x03\\xae{u?\\xa6j-N\\x16\\xba\\xd3\\x9a\\xc3|\\x88\\xe6]\\xf2L\\x8b\\x9d\\xa1G\\x1b\\x8f\\xb9\\xff\\x00\\xf5\\xd4\\xa0\\xfd\\xa2\\xe4\\xb6\\x15\\x08\\xc8\\xcb|\\xb8\\xcf_\\x9b\\x1e\\xbc\\xd5K\\t\\x96\\xe8\\x85\\xb4bX6\\xd5F9l\\x13\\xcb2\\xe3\\xa6\\x07\\xd0g\\xd6\\x90\\x9d\\x89\\xed\"\\x02\\x00\\x919\\xf3#P$v g#\\xae\\xe1\\xd0\\x02*\\x84\"Yg\\x11\\t\\xc2\\xbbG\\xfe\\xb0r\\x08V\\xeb\\x8c\\xfa\\xe0\\xe3\\xf3\\xab\\x92\\xa2\\xbf\\x9b\\x12(c\\x1b\\x9c\\xc2\\xc8[\\xf1\\n9\\'\\xb9\\xc52\\xda\\xd6)\\x1c\\xefydxC\\xb4E\\xd4*\\x03\\x8cg\\x81\\xc1\\x1cps\\xcfz\\x12\\x15\\xb4\\x1f\\x17\\xd9\\xa3\\xb1\\xccp4-\\x16Hs\\xf2\\xab\\xe0\\xf2\\xcc2y\\xfdi\\xe2\\xeeD\\x98H#v\\xf3\\x1f,\\xa0\\x02q\\xd0\\x90\\x0f_\\x97\\x1cqV!\\x95`\\x99\\xd6\\xe03@\\xff\\x00\\xc4\\xc3!\\x98t\\'=9\\xeb\\xcdW\\xba\\xdd$\\xa5&\\x02W\\x91w\\x8d\\xac\\x01f\\'\\xa7^1\\xd7\\xe9IE\\x89-H\\xef\\x0c\\xc7Rx-q!\\x9b\\x9d\\xf6\\xf9b\\x88\\xb8\\xce\\xe2}W\\xa9\\xed\\xebO\\xb4\\x8d.$\\x96?\\xb51\\x97\\xcc/\\xb8\\'N\\x00\\x01A \\xf6\\xc1\\xe9\\xd3\\x8a\\x82\\xc6V\\xb2\\xd3\\xa5\\xb5Hex\\xe69x\\xe5\\xe8\\xca\\x0fL\\x8e\\x9c\\xf4\\x1d\\xfd\\xea\\xe47Qi\\xb6\\xf2\\xef\\x01D\\xb8\\x01\\x1d\\xb2\\x8b\\x8e\\x85\\x89\\xe7\\xa1\\xc7\\xbd6\\x1e\\xa4W\\xfeE\\x95\\xba\\xcd,\\xaa.\\x9f\\x97\\x89I&5\\xe8\\x18\\xf3\\xc0\\xe4\\x9c{\\xd4mqrn\\x983\\xa4\\xbb\\n\\xaci\\x1b\\r\\xc5\\x0fq\\xc6\\xde\\x84\\xe7\\xb8\\xaa\\xcbn\\xd3\\xe9\\xe6Y]\\xe5{\\x86\\xdf\\xb8\\x10\\x1c&}7\\x0e\\t\\x07\\x03\\xb5Od\\xb1\\xbd\\xb41\\xdaE\\x06\\x11\\x8f\\x97\\x19]\\xef\\x19\\x19\\'\\x03\\xee\\xb3\\x9eq\\xf7\\x80\\xebJK\\xb8\\x9a\\xea)\\xd2C\\x13!\\xbbH\\xa4\\x93\\xe6\\x93t\\xca\\x8c\\xcd\\xea\\xc0\\xf58\\xc0\\xcf\\xb5\\x14\\xc6\\xd65\\x1b)\\x1e\\xdd \\x9c\\xedo\\x99\\xdd737rz\\xf3E\\x1f\"J\\x89-\\xbc\\xf2\\xab\\x82\\x89\\x1a\\x90\\xdbCc=rz\\x01\\x9c\\xd2\\xfd\\xa5\\xad\\xb5A\\x00\\xb2\\x9eH\\\\\\x06gU;P\\xf1\\x8e9\\x19\\xf7\\xa5\\t\\x15\\xc5\\xd4F\\xcfs\\xc4\\n\\x81$\\xb2\\x06,pA;\\x7f\\x84\\x7f\\x91Z\\xb1\\\\!\\x8c[\\xc3)\\x129\\xdb\\x96\\xc0\\xc9=\\x81\\xf5\\xeb\\xc5ib\\xed}\\xcc\\xc4\\x82\\xeah\\x9b\\xee\\x05,[\\x00\\r\\xca3\\xc2\\x9c\\xf4\\xfe\\x9c\\xd5u\\xb5\\x8e/\\xb4\\\\\\x02\\xa5\\x08\\xc1\\x0c\\xc0\\xab\\x02~`GV\\x19\\xc5i\\xc9\\xa65\\xdc\\xb7(\\xd3yp\\xaf\\xca\\xd9\\x8dF\\xd6_\\x98rH\\xcf@:\\xd5\\xeb\\x8d*[\\x8b\\x88\\xe0\\x8d\\x86\\x0eHE\\xe5\\x80 \\r\\xd9\\x07\\xbf<\\x9e\\x06\\x05=\\x8bPl\\xca\\x88\\xf9P?\\x98\\xa8\\x91.\\x1db\\x8a0J\\x93\\xcb\\x8c\\x0f\\xaf\\x035d\\x98\\x1a\\xdc\\xae]bV\\xc1b\\x15wq\\xc2\\xfa\\xf0q\\xd7\\xd6\\x99sl\\xb27\\x90\\xc6I\\x0e\\xf2\\xaac\\x93vq\\xd4\\xee\\xea\\x0e9\\xcf\\xf8\\xd4\\xbfg1N\\xc3\\x99\\xd7(\\xa1YrY{\\xfe\\xbf\\x99\\xa46\\xacf\\xaa\\xce\\xce<\\xd6u1\\xba\\x85\\x88(R3\\xd4\\x03\\xdf\\x83\\xd4\\xd5X\\xdaG\\xb9\\xb8vUN\\xb9B\\xbccy\\xf9\\xb9\\xe0\\x13\\x80:qV\\xe5\\xb3\\x9ag\\x10\\x97\\x12,2`\\xc6CoQ\\xbb\\xee\\xf21\\xef\\xdf\\x15b}\\xd0\\xdbO\\x16\\xc4kv\";}\\xca[\\'\\xdf\\xbe3\\x9eh\\xb9.\\xd71/..\\xadndX\\xe1\\x05\\x8b\\x96L09\\xc8\\x19\\x01\\xb1\\xf2\\xe7\\x1c\\x91]\\x00\\x9e9\\xbeX\\xeeD\\x88\\xc8\\xac\\xd2\\x17\\xc7\\xcc\\xdd\\xb1\\x8e\\x06z\\x11\\x83\\xc5T\\xb8\\xb6\\xb8\\xc8\\x8b\\xcb\\xb7\\x91\\x81\\x8d\\x89x\\xce\\xc6\\x0c\\xd8\\xdb\\xea\\xd9#\\xbe\\x00\\x02\\xb4\\xe4\\x8b\\xce\\xb4\\x85\\xa0\\xb2\\x8e\\xdfh\\x01\\xa3\\xde\\x0e9 \\x14=\\xc6=zSoA\\xa8\\xbb\\x14\\xe7\\xba\\xf2\\xd6x\\x95[\\xc9\\x91\\x839V\\xe5\\xf0s\\x82:\\xe3\\xafNi!\\x16\\xf2DVYLX\\xdc\\xceG\\xcaX\\x1e\\xc4\\xfa`c\\x00U\\xe1\\x13\\x1b\\xd5\\xf3\\x8f\\x052\\x878,H\\xe0\\xfe\\x9e\\x95\"\\xc7e\\xf69\\';\\x98\\xba\\x08\\x83F\\xbb\\x8e\\x01\\xf9\\x88\\xed\\xfau\\xa9\\xdd\\xd8\\x14z\\x14-\\xa2\\xf3\\xa5\\xfbK\\xdd\\x17\\x012b?*\\x96\\xeb\\x81\\x9e\\xbcc\\xb7j\\xb3s\\x11\\xb8\\x8dvD\\xd2\\xbap\\x88\\xb9\\xf9\\xc9\\x1c\\xb6r=i,-g\\x8c4\\x88\\xae\\x14\\x17Sn\\xe5x\\xe0\\xe3\\xe6\\x19\\x18\\xc8\\xe9\\x9e\\xf5$@H\\xed\\x1c\\xd1\\xf9+\\x0b\\r\\xac\\xb3\\x1d\\xc8q\\x8d\\xa0\\x01\\xfc\\xe9\\xb2\\xb9V\\xc8`\\xb66\\x11$\\'!\\x93\\x9eS\\xee\\xb6y\\x18\\xc8\\xcf\\xff\\x00\\xae\\xad$p\\x18\\x9d\\xd8\\x80Z1\\x92X\\xae\\xe2NIQ\\xeb\\x8e\\xd9\\xc53S\\x88H\\xf1\\xb8\\x9a-\\x91\\xab:\\x8d\\x85\\x8c\\x99\\xc0\\xdb\\x90{\\x7f\\x8dR[i\\xb2\\x10\\xba(\\xb8\\xe5\\xc8$\\xe0\\x11\\xfc#\\xbf\\xa6\\x7f\\x90\\xa3`Zh]\\xb5L\\xb5\\xdc\\xcc\\xaf\\xba\\x0caH\\xdcK\\x1f\\\\\\x0f\\xd2\\xab-\\xcc\\xa2t\\x8f\\xcc!\\xddI\\xf2\\xf1\\x86\\x00u\\xc9\\xf4\\xe9\\x9e9\\xab\\xfa\\x84\\xc9\\x05\\x85\\xa4q\\x1c\\xc9$\\x8b$\\x8a\\xa7,\\xcd\\xf7P\\x05\\xfc\\xce:z\\xd5[k9M\\xed\\xcc\\xder\\x9c\\x00\\x88\\x19w\\x92\\xcc\\xdc\\xf4\\xc7\\xf0\\x81\\xf8\\xd2\\xb1<\\xa4Fa3Kj\\xd2\\x98\\x9b\\x0b\\xb5\\x87*OQ\\xf4\\x19\\xe3\\x9cW\\x05\\xe3r\\'\\x8do!%\\xe3bq!\\xfb\\xa7\\x93\\x9c{f\\xbd\\x03\\xca\\x17\\x03\\xcc#\\xcc\\xde6\\xb6\\xc9\\x0e\\x14z\\x13\\xdf\\x8cg\\x9a\\xe6<}k\\x1e\\x9f\\xa0-\\xb2\\x10\\x16\\x17\\n\\x80\\x0e\\n\\x11\\x95\\xc1\\xef\\xdf\\xadiKI <\\x99\\xe4$\\x9ex\\xfa\\xd2\\',iY\\x0f\\xa6Oz|i\\xb7\\x04\\xe2\\xbb@\\x85\\xadeQ\\xbba+\\xea*\"0H=kv\\x16Ci4g\\xa3)\\x19\\xf4\\xe3\\x8f\\xd6\\xb2\\x9a0\\xd1\\x99\\x0bd\\xfaS\\x01\\x96\\xd04\\xf2* \\xc9<\\xe3\\xe9^\\x99\\xe1-\\x11\\xcc\\xac\\xfb7G\\xb7\\x85\\x7f\\x98\\x1c\\x8c\\x1e?\\x0e\\xb5\\xcfx#E}FY\\xe4\\xdb\\xf2\\xaa\\xecPFw\\x13\\xce?\\xcf\\xadz\\xad\\xb8\\xfe\\xc1\\xb2\\xdd\\x1b\\xcb\\r\\xc9B\\xc1\\xd5\\x82\\x82\\xa3\\x8c\\xf4\\xe9\\xd7\\xa9\\xec+\\x92\\xb4\\xf5\\xe5%\\xbb\\x14\\x1bL\\xb0\\xbbD\\x86\\xee\\xddnU\\x91\\xd8.\\xd1\\x8c\\x8e\\xe7\\x1d0=?\\xa5rZ\\xb7\\xc3\\xd8\\x9bP\\xb7\\x1aS1\\x12`I\\x13\\x1c\\xed\\'\\xa6\\x0f\\xeb\\xcf\\xf5\\xae\\xaa6\\x17\\x11f\\xcaDigm\\xc8\\xac\\xe4\\xa7\\nx\\xe3\\xee\\x9f|w\\xab\\xdac>\\x91\\x0b\\xcc\\xef\\x19\\xb8l\\x12\\x98\\xff\\x00T\\xb9\\xdcOs\\xc9\\n8\\xe6\\xb1\\x84\\x9cEs\\x08xGO\\xb7\\xb5\\x93O\\x9d\\x03H\\x14\\x9e\\x0f\\xdc\\xda9\\xeb\\xef\\xfc\\xeb\\xcd|E\\xa4\\x7ff\\xea\\xd2\\xc2\\xa8U8*\\x0f`zW\\xb3A\\x14\\x97B\\x0b\\xa8\\'I\\x1ev\\xce\\xe3 9\\xf5\\xf9s\\xc0\\xcfsY\\xb7v6\\x97\\xd77P\\xcf\\x1b\\xc9s\\x0c\\x064\\x13\\x80\\xd8^\\x80\\x81\\xdcd\\x9f\\xa5\\\\j8\\xca\\xec.\\xcf#\\x9bH\\x9a\\x1d!o\\xcf1\\xb3\\x01\\x91\\xdb5\\x97\\x9c\\x9a\\xf4\\xff\\x00\\x14i\\x91i\\x1f\\x0e\\xa2\\x08\\xa8%\\xb9\\xb9\\xc1 \\x0c\\x95^:\\xfdk\\xcc+\\xaa\\x9c\\x9c\\x95\\xc6\\x85\\x14\\xea@9\\xa5\\xc1$z\\xd6\\x83%\\x84\\xbaH\\xae\\x9dT\\xe74\\xc9\\x94\\xef-\\xfd\\xe3\\x9a\\xd9\\xd3e\\xb2\\xb5\\xb1\\xb83\\xc4\\xefp\\xc3\\xf7dc\\x0b\\xc1\\xceO\\xf8V6\\xf0F\\x1b\\x90z\\xd4\\xa7\\xa8\\x11Rg\\x9aV\\x188\\xcd9Ww=\\x85P\\x12\\xc02\\x8c0\\t=\\x0f\\xa5K\\xfc\\x18c\\xd3\\x9ajFca\\x91\\xd6\\x9f70\\xf1\\xd7\\xfaR\\x02\\xabs\\xcdt:^\\xact\\xfb!\\r\\xbd\\xa4\\x02C\\xf7\\xa7`L\\x98\\xc8\\xce\\x0ep:z~u\\xcf\\xc6\\x15\\x9cn8\\x1d\\xeb@*\\x00\\t\\xce\\x0foZ\\x1cS\\xd1\\x93&ojZ\\xb5\\xbd\\xf4\\x08r\\xea\\xcax\\x05\\x03d\\x01\\xc6{u\\xcf5\\x84\\xd8\\xc1\\xc9\\xef\\xc6)\\xbb\\xb7\\x0c\\xb7$u\\xa4\\xdc\\x0er\\xa4\\x91\\xdc\\x1a\\x95\\x14\\xb6!\\xbb\\x93\"\\x06n9Q\\xed\\xd7\\x14\\x89\\x19i\\xb8\\xcbd\\xf0\\x01\\xff\\x00<Tj\\xe7v\\x01\\xe4U\\x98v\\xb5\\xc89P\\x87\\xb9\\xe9\\xd2\\x9f\\x98\\x8b\\x16\\xd1\\xb4\\xd7\\xf6q\\x95\\xccb^x\\xe0\\x81\\xc9\\xad-\\x1bL\\x9fR\\xd35\\x1b\\xb8\\xa2y.\\xd4\\x84\\x83-\\x8c\\xabpG\\'\\x18\\x035\\xd3h\\x9e\\x11\\xddi2+\\xac\\x86hD\\x81\\x91\\x86P\\xf5\\x05{t\\xcf\\xe9[\\x96\\x10\\x9bg\\xf2\\x92\\x15\\x96\\x18\\x00\\xdaB\\x82\\x18\\x81\\x80[\\xfb\\xdf\\x87\\xa7\\xa5r\\xce\\xa7b\\x92fW\\x834[\\xdd&\\x19g\\xb8\\x8cGqp\\xad\\x1d\\xbck($\\x8e\\xe4\\x8ex\\x19\\xcf5\\xb4\\x05\\xef\\x9dw\\x00\\x8c\\xb7\\x9b\\x18\\xc4\\xf1\\x8d\\xe4H:\\xe3\\xd3 c\\xae*Ic2\\xb2*I$PE\\xf2/;\\x19\\x97\\xef\\x1fln\\xfeU\\xa4\\t\\xb6\\x94\\xa4\\x1eY\\x00\\xe1e\\x94\\xb6\\x1f?\\x88\\xe7\\xae+\\x9d\\xcaOR\\xd4\\x9a3ah\\xee\\xad\\xc2\\xb3\\xcb$[\\xfeh\\xde3\\xb9X\\xf5W`9\\x1c\\x0e\\xbc~\\x153\\\\\\xad\\xaccqU\\x91\\x813J\\x01R:c\\xaerp;\\xfe@T\\x11K/\\x9e\\xf0\\xdc\\xc6\\xecf\\x98|\\xd1er?\\xb9\\xd0\\xf2}x?N\\x95$\\x88\\xb2\\xdd\\xb9\\xba\\x908\\x0e\\xce\\xa8\\x17\\xe5\\x88\\xaf\\x188\\xe7\\xa0\\xebIj8\\xc9\\xdfb\\xc4[\\xdc,\\xebp\\xed\\x0b\\x8d\\xee\\xc4\\x93\\xf3z\\xe7\\xa6q\\x8f~\\xf5\\x01\\x92\\x1bI\\xc8\\x95\\x9b\\xe6,[`\\'y\\xeb\\xc9\\xeb\\x9c\\x0e+B\\xe6\\xe1\\xa4\\x11\\xf2\\x8c\\xca\\x9bT,{\\x80\\xf5\\xd8=y\\xea*\\xaaB\\xf2C\\xb6G\\xc9Pw\\x16\\x05z}0s\\xfc\\xea\\xda\\xb8\\x9e\\xe5\\x85\\x8e%\\xb4\\x8e\\xf3KB\\xc3\\xee\\xe3\\xc9\\xde\\xc5@\\xc9\\xed\\xd7\\x1cT0YZ\\xaa}\\xae\\xdc\\xb8\\x13\\xcd\\xbc\\xb2\\x8e$n\\xf9\\xc8\\xc0\\x19\\xef\\xda\\x9fk\\x16\\xd3o\\x00\\x12\\xab\\xc8v\\xc2#\\xff\\x00\\x96g\\x1dp\\x06G\\x1e\\xff\\x00\\x95\\x10\\xc6R\\xe2d[\\xa9\\x1a\\x19\\x1fa\\x0b\\x86\\x10(\\x1c\\x1e:\\x1c\\x03\\xd7=\\x7f\\n\\x9fAm\\xb1,\\xd3\\xdb}\\x8eh\\xed.\\xa3[\\xdf\\x98D\\xf8\\'\\xa8\\xf9\\x98.rFG\\x1e\\xbd@\\xa2\\x08\\x1a\\xe6\\xc6v\\x99\\xc3K\\x1a\\xa2\\x07\\xda\\x11L\\x87\\xb9\\xc0\\xf4\\x04\\xfeU\\x05\\xa6\\xc3\\xba\\xf03}\\x9f\\x95Do\\x9b\\xcd#\\xb8\\'\\x9e\\xbd\\xfd\\xb1\\x9e\\xb4\\xa6{\\x90\\x12\\xe0\\x99\"2\\\\0U\\x85\\xf6\\xf6\\x1b\\xa4\\x1c\\x1fe\\xfc\\xfaUZ\\xe8\\x1bc-\\xa4{g;\\xb6\\xc7+\\x10%;\\x15\\x8c\\x87\\xa6\\xe3\\x9eO\\xb0\\xe3\\xf2\\xaa/k>\\xa1p\\x86I\\xae\\x0b);#Y\\t\\xdf\\xf5\\xc1\\x038\\xf4\\x18\\xa8\\xafmZ;\\x85\\xc1\\x89\\x1c\\x9f\\xf4yS\\r\\x83\\xe9\\xd7\\xdf\\'\\x19\\xabp\\xc3=\\xb2\\x10\\x8c\\xa96\\xf02_\\x19#\\xa9\\x07\\xa7\\x03\\x9eqE\\xdd\\xb5\\x1d\\x9b\"\\x8e\\xc68\\xad!X\\xa4C$\\xc0;\\x95\\x05\\xb6\\xa8;J\\x921\\x8e\\x98\\xcdJ\\xf6\\x91D\\xc6\\xe2\\xd8\\t&ux\\xfc\\xb5fS\\x85\\xc0#\\x7f\\\\\\x0ezTs\\xbbE\\x0c\\x9eA\\x8e9\\x19[yQ\\xb0\\xb1\\xed\\xb8\\x8e\\xe4g\\x06\\xa5\\xb97\\x17V6\\xf0$Q\\xdbJ\\x18\\xbeVf;T\\x81\\x9c\\xb1\\x1c\\x80\\x01\\xe3\\xd6\\x90\\x99\\x8dw4v\\x8f\\x1c\\x16\\xd0\\xcb$k\\x1a\\xf3%\\xdcq\\x9c\\xe3$a\\x86h\\xad\\xb8m\\xad\\x91J\\xc8fw\\x07\\x9d\\xb0\\xef#<\\x80}\\x0e\\x08\\xe3\\xb5\\x14\\xec\\xc5\\xee\\x90\\xda\\xe9\\xb0\\xc0\\xcd\\xe5\\xc8\\xf2JAE\\x8fq\\xf9\\x88\\xe7\\x198\\xcf\\x1d\\xaa\\x18\\xe3M\\xc2K\\xb2\\x91\\xc6\\x89\\xb4E\\x909\\xeb\\xc9<\\xf4\\xf4\\xab)q\\x0c\\x031\\x059\\x7f-\\x9d\\x8f$\\x1ex\\xcf\\xafN\\x99\\xa8 +\\xa7\\xc4\\xa6\\xe6\\x16\\x91\\xe7\\xb8d\\xff\\x00V\\x1b\\xc9R\\xe3;\\x89;Fz\\x0f@\\rR\\xb9\\xa5\\x8b2+\\xd9\\xccb\\x90\\xbbJ\\xe1p\\x87\\xaa\\x83\\xcf\\\\\\xf0}kAu\\x8f-\\x9d6\\x95.C\\xb4\\x98;\\x80\\xec3\\xdc\\x1f\\xc2\\xb1/u\\x05\\xbc7Q]F\\x93!\\x9b?\\xbc<(\\xcfL\\x02}\\x8f\\xbdGv\\xd7\\x01\\xe4\\x96Ir\\xca\\xa5\\x89\\x88q\\x19\\xcf\\x00s\\xe9\\xd8\\xe4b\\x82c&\\xb65\\x1e\\xfd\\xda\\xe5\\xdeW\\x1b\\x01\\xc9.8e\\xe3\\xaeENt\\xff\\x0027\\x96=\\xca\\xfb\\x99\\xc2\\xb8\\xe4\\x0c\\xe4\\xb9\\xe3\\xd3\\xb68\\xf6\\xac[K\\xa4\\xb9\\x9e\\xd9\\x8a\\x86\\x93\\xb3r\\xa4\\x80?\\xbc1\\xc7\\xb0\\xfcMn\\xdb\\xea\\xa9ya\\x9b\\x90\\x8b(\\x8f\\x02Rq\\x80\\t,\\x06}@\\xc7\\xbd$i{\\xeeP\\xb8\\xbc\\x97\\x11<\\x85>v#\\x0209\\xe9\\xbb\\xe9\\x8a\\x81\\xe6\\x98\\xef$\\xbc;\\x83\\x04\\x8eC\\xb7-\\xf8q\\xe9\\xf8t\\xa9\\xae\\x18\\xc0\\xb1\\x93\\x0b\\x01+\\x15\\r\\x8c\\xee\\xe7?\\\\sQ\\\\\\xc8cf\\x98\\xb7\\xcc\\x0e\\x15\\x9c\\x03\\x92{\\x0c\\x1f\\xd6\\x839n>8\\x0c\\x81\\x16Fy!iT28\\xdc\\x18\\xe3\\xa9\\x18\\xfdj\\xdb[I$\\xa2\\x11\\x13\\x06\\x12\\x8f\\xf5x\\x19\\x1c\\xf1\\x9a\\xa0&*bm\\xca\\xb2\\xa8*\\xf3\\x17?6:p\\x061\\xf5\\xf4\\xad\\t\\x1a\\xec\\xda\\xc2`*\\x93\\x10Y\\x03F\\xa5\\xd8\\x9ev\\xe7\\x81\\xeas\\x8af\\x91I\\xa2\\xcc\\xd0\\x89\\x99\\xb7!\\x8e%;w\\x01\\xb5@\\xf5\\'\\xa9\\xfa\\xd6f\\x9f\\x00\\xfe\\xd36\\xe1ql\\xac\\xbbJ\\x0e\\xa3\\x9c\\x91\\x93\\xc0\\xeb\\x8c\\xfaT\\xfa\\x84\\xd2\\x88^%u\\x8e&\\x0b\\x11}\\xbc;g\\'\\x039 {\\xf7\\xa8\\x10\\xc8\\xb6x\\x8db\\x91\\xddB\\x89\\xe4\\x03|\\xbc\\xf0:p\\x06;g\\xf3\\xa5n\\xa3\\x92ORI%\\x02Y\\xa2\\x10\\xef\\x82\\x1c\\x90\\x17\\xe6\\xc0\\xc8\\xe0\\xe4\\xfa\\x11\\xe9N\\x12\\xa3\\x8d\\xf6\\xf1\\xefT\\'\\x8202\\xde\\xa3\\x8c\\xe7\\xa62>\\xbdj\\xbc\\x10\\xc9\\x143\\xce\\xe1\\x9e6\\x90!8\\x000n\\x87h\\x1e\\xa3\\x18\\xce=j\\xa4w\\xacn\\xbc\\xf2Q\\x12X\\xdd~W\\nA^\\x9c\\xf59\\x1dq\\xd0~\\xaa\\xfa\\x90\\xb4f\\xe2\"\\x01*\\xdc\\xc2\\x8b4\\x89\\xe5\\xc3\\xbb*\\x83\\r\\xc8^\\xbbz\\xe3\\x1d\\rT[B\\xd2\\x18\\xdd\\xc1X\\xe3\\xda\\xce\\xce\\x0e\\xc0z\\x91\\x9c\\x0c\\x9e:\\xfa\\xd4\\xb7Z\\xac\\xb7\\xb6\\x91#\\x13n\\xaa\\x14\\xec\\xcf\\xef\\x02\\x01\\xf7\\x9b\\xd3\\xd8u\\xf5\\xe7\\x8a\\xabi{\\xe6Z=\\xbcS4\\xc78\\\\/\\xcc\\xe079\\xf5?Zz2\\x9c\\x91b\\xe7e\\xbd\\x80\\x93\\xc8T\\x11.\\xe5q&\\xd2\\x17\\xb0\\xe7\\xb1 \\xf3\\xff\\x00\\xeb\\xa8$\\xb8\\x80\\xd9B\\xf7\\x12\\x85\\x80\\x0c\\x95C\\xbfy\\xcf\\xca\\x00\\x1c\\x92\\x7f_\\xa5bkz\\xc9\\x12C\\x1b\\xa7\\xfa-\\xb8h\\xd5A\\xdc\\x0b1\\xc9;\\x97#?\\xa7LV\\x04z\\xe9\\x82t%Vx\\xe1?\\xbbY\\x97*=\\x01\\x1f\\xca\\xb4\\x8d&\\xf6\\x13\\xd7c\\xb4K\\xe9\\xaf-\\xc5\\xc3@\\xd1\\xdb\\xa33\\xc7\\xb8\\x85$g\\xee`\\x03\\xf8\\x9cu\\xae\\x0b\\xc7\\x9a\\x87\\xdaf\\xb6\\xb5\\x8d\\xc1\\x8d\\x01s\\xb4c\\x93\\xc7?\\x852\\xef\\xc4\\x93\\x10#-\\xe5\\xc6\\xc4\\x92\\x0fNNk\\x13V\\x95\\xae&Y\\t\\xceTc\\x8cqZ\\xd3\\xa5\\xcb\\xab\\x0bX\\xce,\\xb1\\xa1\\x03\\x96<\\xfd*\\x1e\\xcaI\\x1c\\xe7\\xea)\\xcd\\xcf\\xe3M\\'i\\x07\\x19\\xf5\\x06\\xb7b\\x1e\\x19\\xe3fPr\\x0fZ\\x96\\x0b)&\\xb6\\x0e\\xa8\\xcc\\xaa\\xc0\\xb1\\x03\\xa0\\'\\x02\\xa1A\\x80\\xde\\x98\\xe2\\xbb\\x8f\\x08\\xe9\\x7fkF\\x88)0\\x96R\\xd2&s\\x9cgo\\xd3\\xd7\\xf0\\xa8\\x9c\\xb9U\\xc4\\xce\\xa3\\xc3\\xb6\\x83E\\xb0\\xb6\\xb4\\x11?\\xda&%\\x99\\x82\\xe0&z\\xfe?\\xe0j\\xec\\xfa\\x9cz\\x9d\\xe4\\x96\\xeb\\xf3B\\x00\\x89\\xe5\\x88|\\xca\\x9d\\x01S\\x8c\\x0e\\x7f:\\x16\\xd8Jnb\\xf3f\\x8c\\x9f\\x94\\x04`\\x0b\\x00=\\xb9\\xce9\\xe9\\x81\\x9crj\\xf5\\xbc{\\xefnn\\x9fc3\\xe4 E<\\x00\\x00\\x18\\x04\\x00p\\x07Q\\\\\\r\\xebvO/R(\\xecm\\xf4\\xe8\\xa41y\\xb2\\x98p\\x0c\\xec\\xa5\\x99\\xe4<\\x05\\\\w\\xf6\\xed\\xd4\\xd5k\\xa97\\xcb\\xe5\\xce$\\x18\\x8c\\tc\\x88\\xec\\xc8\\x1f\\xc20;\\x9e\\xfdq\\x93S\\xdd_E\\x14\\xd0\\x91+\\xefDvY#\\x01Wv\\xe0\\xa0\\xe0\\xe3\\'\\x83\\x93\\x8cW1\\xa9\\xeavi`\\xd2\\xf9\\xc9\\x02\\xc6d\\x11\\x08T\\xca^o|\\xe0`\\xfa\\xe4\\xf1\\xf9SQm\\x85\\x90\\xfbK\\x89!\\xd0\\xb4\\xf0\\xce\\xc0\\xc8]\\xd658;\\x018\\x03\\xaf\\x1e\\xc4v\\xa3T\\xbc6\\xba\\xad\\xa5\\xcc33H\\x96\\xee\\xc9\\x16\\xe5\\x19P\\xb9\\xda\\xc4\\xf4\\x18\\xef\\x9e\\xdd3Y\\xc7R\\xb3\\x83N\\xd3C2B\\xe2\\xdc.\\xff\\x00-N\\xe088\\'\\x81\\x83\\xe8\\t\\xeb\\xcds:\\x8e\\xa94\\x93\\xaa\\x89\\t\\xf2I\\xd9!\\xc6H=\\xb1\\xd3\\xf4\\xad\\xa3N\\xec\\x0b~/\\xf1\\x13\\xeaZu\\x95\\x8a\\xccd\\x86\\x1f\\xba@\\xda\\xb8\\xeb\\xb4\\x0fbz\\x9fJ\\xe3EI;e\\x80\\xf4\\xa8\\xeb\\xaa+\\x95Xka\\xca9\\xa9\\xe2Q\\x9c\\x91\\x93QG\\xebV\\x14u9\\xedL\\x18\\x92\\xc8<\\xb3\\xc7n\\rS\\xa9\\xa5 (\\x03\\x9a\\x8b\\xa50Bu\\xabP\\xa2\\x94c\\xedU\\x85Z\\x8b\\x84\\xeb\\xd6\\x93\\x06J\\x088\\xf5\\xfeu^v\\xc3eN\\x0f\\\\T\\xc1\\x81\\x1e\\xe2\\x94\\xc4\\xae\\xc7#\\xa8\\xa5{\\n\\xe5DB\\xcc\\xb9\\x1c\\x1ej\\xe0c! (?\\x8fJ\\x89b(\\xdbI\\xe4\\x0e\\xdd\\xea\\xcc\\x00`\\x90{\\xd1qI\\xdc\\x8f\\xa8\\x198\\x1d0;R\\xed=\\x8f\\x1e\\xf4HH\\x90\\xe0~4(<\\xe4})\\x92<\\xa2\\x809\\xe7\\xb852\\xe0F8\\xc7\\x18\\x1f\\xd6\\xa0\\xe4\\x02OL\\xe0\\xd4\\xa5\\x1f\\xcaW\\x01\\x82\\x83\\x82}=)6\\x07\\xa8x/RYl!\\x81\\xd8\\xef\\x88\\xfc\\xec\\xed\\xb5\\n\\x8f\\xba\\t\\xfd:\\xe3\\x93Z\\xe8\\xdfg\\x1ee\\xe4\\x81Y\\x01c\\x1c@\\x14^\\xd8\\x00\\x0e\\x9c\\x8ek\\x99\\xf0\\xc1O*#.q4D\\x18\\xd5\\xf6\\xf7>\\xd9\\xe9\\x93\\xc7A\\xf8WQ\\x14\\x0c\\xe8\\xa9p\\xcd\\x1c\\x1f2\\xa1\\x87\\x92\\xa0t8\\xc7|{\\x9a\\xe1\\x9a\\xf7\\x99W,B\\x93\\xe2\\x06\\x9c)2\\xf2\\x90\\xa3u<\\x8d\\xac\\xa0v\\xed\\xd7\\x1e\\xb5\\'\\xd8G\\x9a\\xf1\\xbe\\x01\\x007\\x90\\xaep0>b\\xc7\\xaeI<q\\xc9\\xcfaKk,\\x16\\xaf\"[\\x89d\\xf3#\\xe1\\x8br\\xbd\\xc2\\x8e:\\x13\\x92}qN\\xb6\\xbe\\x10;\\x9bx\\x15\\xc8\\x94\\x1f\\x98\\x96R\\x07R\\xd9\\x1d3\\x9e9\\xfc*\\x19w\\xd8rE\\xb28\\xa4\\x04`\\xb1\\xca\\x91\\x83\\'\\x1c|\\xdd\\x00\\x03\\x81\\xef\\xc9\\xaa\\xe6\\xde\\xe6\\xce\\xeaydt_5\\xceB\\xf0\\xa3\\'-\\x9c\\x9c\\x822\\x05]\\xb6\\x98\\xcbq#\\xeeB \\n\\x02\\x86\\x05Y\\x8f9\\xdax\\x00\\x1ej\\x8c\\x91\\xb4o+]Jg\\x05\\xb7\\x07#q\\xc9<s\\xe9\\x9f\\xe7E\\x86\\xec:I..fp\\x98\\xdb\\x10\\x01e\\x10\\x8c\\xa1\\'$c8 \\xf1\\xc9\\xe6\\xac\\xc9\\x12\\x05y$\\x1e\\\\\\xce\\xe3(\\x07\\xcb\\xc0\\xcez\\xff\\x00\\x91Y\\xf6s\\\\\\rE\\x15\\xe2I\\xe2e*\\xdbA\\xde9\\xfb\\xa3=\\x07\\xf9&\\xa7\\x92{{\\x08\\xfe\\xc7\\x04-\\xb6F\\xf3% \\x00\\x8b\\xdfjc\\xa9\\xc9\\x1dq\\xde\\x8d\\x85\\xcc,\\xaa\\xa5\\x16D\\xb7v\\x89\\xce\\x04\\xa03\\x16L}\\xecq\\x8c\\x9f\\xc3\\xebU\\xadc\\xb2\\xb5\\x93\\xc9\\xb5\\x99d\\x8d2f\\\\\\x10y\\xc9$\\x03\\xe9\\xf8\\xd3\\xa2\\xb8\\xb7\\x8eXD{\\xbe`w.\\xe6\\xceGc\\x9e\\xd8\\xfc\\rB\\x91\\xa3\\\\\\xb4SA\\xfb\\xcd\\xcd\\xe6 O\\x97\\xa7\\' u\\xc7\\xe5\\x8fJ{\\x86\\x83\\x9ed\\x84F\\xc9\\xbc\\xecB#\\x87\\x8c7\\xab\\x10\\x07\\xa1\\xebZW1$\\xbaz\\x88\\xdd\\x1c\\xf5\\x91W\\xfeY\\x01\\xe9\\xea+/\\x0f=\\xc7\\x94\\x99I\\x0e\\xd0\\xdb\\x13 \\xa8\\xfb\\x8b\\xc8\\xc0\\x15n9\\x1a;\\x87o2M\\xa8\\xa5U\\x10m\\xc6rO\\xb6}(\\xb2\\xb0+\\r\\x9a(\\xd3c\\xc3\\xfb\\x86C\\x97%6\\x8c\\x8c\\x0f\\x94\\xf5\\xcf\\xadC=\\xb4\\xb0\\xdd\\xc8\\x971\\xcaP\"\\xbaJ\\xa7\\xe5~x\\xe7\\xf8\\xb9\\x04\\xf3\\x8e\\xddip\\x97\\x08\\xc8\\xce\\x81r\\x00\\x01\\xc9\\x08=\\xf1\\xd4\\x93\\xd7\\xf2\\xabR\\xca\\xf1\\x99M\\xd0\\xf2\\xd2\\x01\\xb3~\\xe5;\\xb3\\xe8:\\x8f\\xc7\\x14n\\x16*<\\xf6Q\\x96Y\\x9a3\\x14`\\x93+1#~s\\xb8\\x91\\x8c\\xfab\\xa3\\xfe\\xd8M2\\xfdb\\x95d\\xcd\\xc1\\t\\x0b,\\xca\\xa3\\xaf\\x1d\\x8f\\x1e\\xf4\\xd9\\x126\\xb9\\x8eI%<\\xf4\\xde\\xaa\\x00\\xc7\\xb1\\xe9\\xf554\\x13D\\xf1Im\\xe6m\\x08\\x99M\\xa8\\x0e88\\xff\\x008\\x14\\x92\\'\\x96\\xe5\\x99\\xa6\\xfb-\\xc4\\x89\\x12-\\xba\\x16,\\x13q\\x19\\xcf\\x7f|\\xf5\\xcd\\x15]\\xc1W JT\\x8cn(r\\x18\\xe3\\xaf#9\\xa2\\x9d\\x81\\xc3S\\x1eF]>\\x08\\xe4\\x11\\xc3+\\x99\\x02*/\\x03$\\xe4\\x9c\\x9eT\\x01\\xd7\\xd7\\x8a\\xda\\x82\\x15\\x96\\xd4M\\xb1\\xd4\\x80\\xd1\\x98\\x13\\x90NI\\xe3\\xd7$\\x9a\\xcbSs\\x1bK$r\\x82\\x15\\x02\\x81\\x1ar\\xb2q\\x91\\xc7\\xb0\\xf6\\xad\\x81g-\\xf6\\xa1\\x1f\\x91\\x85D\\x8c\\xc8\\xea$\\x0b\\xbb\\nON\\xa7\\x9c\\xf3\\xedU\\xb9\\xa5\\xf4\\xb1\\x84\\xac\\x93\\xdf2\\xae~\\xce3\\x1b\\xcd\\x1a\\xed\\x01\\xfap{\\xfad\\xfaV\\xb5\\xac\\x9b\\xad\\x9cG\\x04\\xd2\\xacr\\x18\\xfc\\xb5ER0\\x009V#*9\\xe7\\xf3\\xaa\\xf6\\xf011[4M\\t\\x9dCJ\\xd8\\xf36\\x03\\xce\\xd0z\\x02Os\\xfa\\xd2J\\xd2=\\xdc\\xd6\\x8b\\x1e\\xdb]\\xa1\\x9f\\xcd\\xe0\\xf0pG\\x1c\\x91\\xc0\\xe0u&\\x82c\\xa1\\xb0\\x9a\\xa8kHe\\x8d<\\xb5\\xc7\\x95\\x1f\\x96\\xc01\\xc6\\t\\xc7sT\\xfe\\xd5\\x1c\\xd2\\x08\\xae\\xa1\\x9ePS\\xfdaA\\xf3\\xf3\\xdcg\\x1d\\xaa\\t`\\xba\\xb3\\x11]y\\n\\xf3\\xc2\\x9cg$\\x1ez/\\xd0u=\\xb1R<bkr\\xae\\xc0:)?p\\xb1\\xc9\\xfe!\\xea\\xb9\\xcf\\'\\x02\\x95\\xcb{\\x13\\x10\\xcd\\x92\\xa2,\\x03\\xb0 \\x041\\xce9*:q\\xceGo\\xca\\xb2\\xa7\\x8d\\xc5\\xd4,\\x16@]YFG\\x08\\xa8q\\xd79=\\xb8\\x00\\xe4\\x9a\\xb6L\\xf1\\xc6\\x02$\\xad\"\\x9f.<.y\\xeeG\\x7fo|T\\xcd\\x1a4r\\xc2\\xb1\\xe2db\\xeeC\\x92\\\\\\x91\\xd0g\\xa7\\xbe(3~\\xf33\\xa2\\xbe\\xf2\\xa3\\x91\\xd8)\\x91N\\x04a@ \\xe7\\x19\\'\\xf2\\xfaP\\xba\\xa0\\x0f\\xe4\\xdc\\xb9WM\\xacHr\\x14\\x15\\xf4\\xef\\x8ei&\\x92\\xda+I\\xb6 \\x9a\\xeeF\\xc9i\\x14\\x9eG\\x04v\\xe0\\x0c\\x01\\xf4\\xefL\\xb7\\x84\\x9dB7/\\x0b\\xc4B\\xc8\\x157y\\x9d8\\x18\\xf4\\xfcE\\x04\\xea\\x8df\\xbb\\x95\\xa6M\\xc28Z-\\xca\\xb2\\x10@\\x00\\xf4+\\xfe\\xd6}\\xea\\x0b\\xe5H\\x11\\x166\\xca\\xc5\\x08\\xce\\x0eK\\x01\\xc99\\xcf\\\\\\xff\\x00:\\xa1#\\xc5s3\\x08\\xaccx\\x0b\\x17\\x9c#`\\x9c\\xb63\\x9f\\\\\\x8f\\xcb\\xd0u\\xb7\\x15\\xa0\\x8bc\\xdc\\xcf\\x1cv\\xff\\x00\\xf2\\xd5K\\xf3&\\x018\\x0c\\x08\\xc8\\x03\\xb6(-\\xb2)/.>\\xcd\\x025\\xcb\\xfd\\x9c\\x10X\\x14\\xd9\\xf3\\x0c\\xf3\\xc7\\x19\\x19\\xc5e\\xd9\\xeb\"9\\xa2\\x86T+\\x0f\\x90\\xaf$\\x8d\\xc6\\xd5\\x1f{\\xaf\\xbe\\xd1\\xc0\\xcf5\\xb2\\xf6\\xea\\x96\\x02\\xea\\xe1^?\\xb5H\\xc68U\\xf26\\xa9\\xda\\xad\\xd7\\x18\\xe7\\x9f\\xa52;H\\xe4\\xdc\\x97\\x13<\\x8e\\xc4\\x05+\\x18\\n\\x9e\\x8b\\x83\\x9c\\xaf^\\x0e\\t\\xebCJ\\xe2\\xea2\\xd8\\xdb\\xde\\tH`\\xe0\\xb2\\xb9V\\n\\\\)l\\x05@\\x0f=\\xf9o\\xca\\xa3\\x9eYn\\x0b\\xbd\\xb0H\\xec\\x0ew0\\x99r[v6\\x9e\\x0eG`?J\\xdc\\x86h\\xed\\xd2\\xe2)\\x80\\x84B\\xa0\\xb4h\\xaa\\x99$\\x8d\\xbc\\x0e\\xb8\\x03\\x18\\xf7\\xacO\\x91/\\xde@\\xc5\\x11\\xe4w]\\x88K\\xc7\\xb8s\\x9e\\xd8\\xc8\\xff\\x00\\xf5R\\t\\'\\xa23\\xaf!\\xf3\\xedd\\x9b\\x1c\\xca\\xdb%Lu\\xe3\\xb1#\\xads7v\\x0c\\xb1\\xb8R\\xcc\\x14ds\\xb5\\xc0\\xfaw\\xae\\xf36\\x90X\\xacn\\xe2DR\\x0c\\xb1\\xb9\\x0e\\x0bu\\xe4\\xe7\\xf3\\xc5gj\\xb6\\xc6\\xe8I$R\\xa4\\xa8\\xaa\\x15OB\\xbcq\\xc8\\xe9\\xe9\\x83\\xf9\\xd6\\xf4\\xe6\\xd6\\x83H\\xf3h\\xd1\\x9e\\xe5W9\\'\\xfb\\xdf(\\xfa\\x93\\xe9K|\\xc7\\xcc#9\\xc7qWn\\xa2\\x9a\\x0b\\xb2\\xb2*\\xab\\x13\\x83\\xf2\\xf2\\x7f\\xa5g\\xdf\\x1cN\\xc0\\xf5\\x07\\x07=\\x8fz\\xeaE=\\x8a\\x99\\xe7\\x14\\x98-6\\xdf\\xca\\x91FO\\xe3SD33\\x90G\\x07#\\x14\\xc4I\\x0cD\\xcc\\x8a\\xaaY\\x89\\xdb\\x8cu\\xaf[\\xd1t\\xdf\\xec\\x1d!VX\\xf0\\xa6A$\\x84\\x02\\xdcc\\xa1\\xc7\\xea3\\\\_\\x85\\xb4o\\xb6\\xdf\\xc6\\xfb\\x88\\x92\\x12\\xb2\\x02\\xb89\\xe7\\x9e=\\xbe\\x95\\xe8\\xd1\\xc7su=\\xcb\\\\2\\xc4\\xb2<\\x9bb\\x1c\\xb6\\xd1\\xd4\\xf3\\xc6x&\\xb9kK[ \\xb5\\xcabm\\xd777\\x06@6\\xe4\\x86\\x0b\\x80C\\x0e\\xe7\\xd3\\x15\\x1c\\x18\\xb0\\x0c\\x86`\\xf3\\\\3m*O t\\xc0\\xceq\\xd7\\x8f\\xadK{u\\x12\\xc9?1\\x10P\\x0c\\x19\\x03\\x16*\\t\\x0b\\xb7\\x9eq\\x83\\xf4\\xeb\\\\^\\xab\\xaeY\\x1dbwq4rA\\x0f\\x97\\x13\\x05\\x1b\\xc1<\\xb19\\xcex\\xe0\\x03\\xebX\\xa8s2\\x1a}K\\x9a\\xe7\\x89-\\xe0\\x96H\\xe2\\x91n\\x1bk(\\x9aH\\xc6Pz/\\xa89=\\xbf\\xc2\\xb8\\xb9\\xf5\\t&\\x89\\xa1y\\x9d\\xc6\\xe0\\xe4\\x7f\\x0e}\\x87\\xd2\\xa9\\xc9/\\x98\\xecv\\xf7\\xe2\\xa0/\\xce\\x0f~2+\\xae0I\\x12\\xf5,4\\xbeaS#3\\x15\\xe83\\x90\\x07\\xa6i\\x85\\xf9\\xdd\\x83\\x8c\\xd3\\x01\\xc2\\xa8\\xc8\\x04SY\\xf0\\x84\\x01\\x92\\x07R:V\\x80W\\x91\\xb7H\\xc7\\xde\\x9a)@\\xcd;m\\x06\\x83\\xd0q\\xf5\\xa9\\xb3\\x81\\x83\\xc7\\xbd1G\\xcc3\\xd2\\x89\\\\\\x0e\\x16\\x98\\x99\\x0c\\x8d\\xb9\\x8f\\xa56\\x83A\\xe2\\x81\\x8eU\\xdc\\xde\\xd5d\\xe1G`j(W\\x07\\x91\\xd6\\xacE\\x1e\\xe3#1\\x03\\xcbB\\xc4~8\\x03\\xf5\\xa4K\\x13\\x07\\xee\\xe5N:\\xed5\\'\\x01\\xfap\\x07\\xad,\\x90Ki7\\x954O\\x13\\x90\\x18\\xab\\xae\\x0e\\x0fN>\\x95r\\xcbK}CO\\xd4\\xee\\x96eAa\\x1a\\xcaP\\xa9&M\\xcd\\x8c\\x03\\xdb\\xd752d\\xd8\\xa4\\xc9\\x99\\x01\\x1ds\\xf9\\xd5\\xd1m\\x97\\xf2\\xa1\\xc1UQ\\xb9\\x8f\\x1f1\\xea3F\\x95*\\xc1\\'\\x98\\xc2?5\\x8f\\x97\\x17\\x98\\xb9P[\\x8d\\xc7\\xe9V\\xdfK\\xba\\x8e\\xf6x\\xda\\xdeY\\xe2\\x80\\xe0\\x90\\xa5w\\xf3\\x8c\\x8c\\xf2Fk)J\\xda\\n\\xc0t+\\xe9!k\\x88\\xd0\\x18\\x14r\\xfb\\xb2:\\xe0\\xf4\\xfa\\xd5!d\\\\\\xed\\xf9\\xcc\\xa0\\xe3h\\xf5\\xce\\x08\\xc5z%\\x94\\x9a\\xad\\x95\\x84v\\x17\\x16q\\xcd\\x0c\\xe10c \\x08W\\xb8o\\xa0\\xe8kF-\"8\\xd0\\xc1\\x14p\\xb6\\xcc\\xf9\\xccO rz\\x83\\xc9<Vj\\xbb[\\x8d-\\x0f7M\\x16\\xe9\\xbc\\xb8\\xde5I\\\\\\x90\\x91g\\x93\\xeeOn?\\xce+~\\x0f\\x0eI\\x15\\x93\\xecPJH\\x18\\xb8\\x19\\xcf\\xcb\\xc61\\xf8\\x9f\\xa0\\xae\\xce\\xd6\\xcc\\xa4WF\\xe7a\\xf9Di+\\x1d\\xdeVx\\xc6\\xd1\\x8e=q\\x82zV\\x91\\xb5[(\\x0cQ\\xc6\\xaf\\x12\\xb32\\xb1\\x18\\xf9Xr1\\x83\\xc9<\\xe4\\x9f\\xca\\x93\\xa8\\xd9J=NSD\\xb0H\\x16T\\x9e6\\xfbDk\\x95b\\x07\\x00\\x8f\\x98\\x83\\xd7\\x04c\\x81]%\\xb4\\x88\\xbeM\\xc7\\x96|\\xc2\\x84g\\x07\\x82?\\xc3=\\xea9gT\\xb8\\x8f\\xcaT\\x1f\\xc3!\\xdd\\x90T\\x0e\\xdd\\xc1$\\x8f\\xc0RG-\\xc4\\x8b!\"T\\x88\\x12\\xa6g\\xf9c\\xc0\\xc1\\xfb\\xccFx\\xf4\\x15\\x9d\\xee\\xc7\\xb6\\xc6\\xa4\\xd1fI\\x84r\\x0f1\\xa3\\xf9<\\xc8\\xcfq\\x9fN\\xbf\\xe3U-Y\\x84\\x18\\x95\\x15]\\xc8E\\x01x$c\\x81\\x8fz\\x82)\\xdab|\\xa9\\x9afa\\x8c\\xaa\\x93\\x9f\\xa8b0?\\n\\xb5l\\xc8e\\xc4\\xc5\\xd1\"V\\x98\\x04lt\\xe3\\x93\\xd39?\\xe4Q\\xd4w\\xbb\\x1b\\x1d\\x8c\\xb1#I\\xb22A-1\\'\\xee\\xa7m\\xa3\\xeb\\xefR\\xb2\\x85L\\xe5\\x0cj\\x84.1\\x8c\\x9e\\xbf\\xd2\\xa0\\x96B\\x8a\\xca\\xacL\\x92&\\xe7@\\xc4\\x9c\\x16\\xc0\\x18\\xf4\\xcdE$r\\x98\\x1aVs$\\t\\x19\\xc0)\\xc6\\xfeq\\xf5\\xfchAua\\xd1\\xb3\\xc1(\\xf2\\xd8FU\\x97i\\n0@\\xe7\\xbfZ}\\xcd\\xb3\\xcc$\\xba\\x171\\x98#c\\xe6\\x10\\xc0\\x01\\xddH_|\\x9e\\xfc\\x1a\\xa6\\x12;\\x98\\x16+\\x84m\\xe0n\\x92&S\\xb5\\x8fn\\xbc\\x7f_jH\\x16\\xe0O\\x1d\\xb4\\x93\\x03n\\xc5\\x02&\\xed\\xbb\\x9cp\\x17\\x1f\\xdd\\x07\\x9ez\\x91\\xedH\\x9b\\xe8K\\x0bD\\x04{\\x1eE\\x19\\xe8\\x13\\x079\\xe7$\\xe7\\x1d\\xbf*\\x95\\xedY\\x01\\r\",h\\xdb\\xd86\\xe2G\\xa7>\\xbf\\xe3SEpM\\xbaZ\\xe3/\\x12\\x97s\\xd5\\x93\\x9cn88\\xfdj\\xa3@\\xb7\\n\\xa2I\\x0c\\xce\\xee\\x19Q\\x07\\t\\x8e\\x01#\\xf3$v\\xa05\\x1cw\\xb21\\xb7\\r\"\\xf2$_3\\x01P\\x9e\\x08\\x1f\\xd3\\xbd$\\xc2I\\xd1\\x13x1\\xa9\\x1b7\\xc4@l\\x9fM\\xd9\\'\\x9f\\xff\\x00U8\\x0be\\x96UW\\x08\\xe1\\xb7H\\xe3\\xa4y\\x1f\\xe1\\xf9U\\x88\\xe3\\x8d\\xfc\\x96\\x0c\\xaf$\\xe3tR\"\\x96\\x07\\x1d1\\x91\\xc7\\x15E);\\x0b\\x15\\xa5\\xbc-l#h\\xf2\\x1dCDx\\xda\\x01\\x07\\x01}\\xf0*=rY7;[\\xdb\\xc9\\xfb\\xccl\\x07n\\xe2z\\xb6\\x08=G\\xe2j%>[\\xb6\\xe9%x\\xb6\\x94RI\\x1c\\xf6\\x0b\\xc7\\x1c\\xf7\\xf6\\xa7\\xcf$Q$1m\\x85\\x9a\\x01\\xb8J\\xc3+\\xbb\\x1c6O\\xa7_\\xadM\\xc7)\\\\\\xcfFHQE\\xd0Nv\\x94`\\xe4\\xe0\\xe7\\x90@\\x19\\xf4\\x1f_LU\\xc9/\\xac\\xf4\\xe1\\xe7\\xb4\\x8a\\x8c\\xc3v\\xcc\\x8e\\xa3\\xbf\\'\\x93\\xe9\\xd2\\xa3f\\x89!\"\\xeaD,\\xc0>\\xd4\\xe4{\\x9d\\xb8\\xe9\\xf5\\xa4\\xfb2\\x91\\x13\\xc5\\xb0n@HA\\x800\\x08\\xcf?\\xe3E\\xacg{hY\\x8a{v\\x0c\\xc41v;\\x9c\\xed-\\xf3\\x11\\x9e\\xa3#\\xf2\\xa2\\xabC\\x04Q\\x86+v\\x189\\xdd\\x97\\x7f\\x9b\\xa0\\xeb\\xf9QU\\xa7Q\\xf3\\x96`\\xfb=\\xbd\\x99i\\xb2\\xf7*\\xc00#n\\xf6=r}=\\xea\\x9d\\xcd\\xc0%\\xdcJ\\xd0\\\\HWn\\xc1\\xf2t\\xe8G~;{\\xd5\\x1b\\xa6\\x06\\xe0\\xda\\xac\\x9b$\\x8c4\\x92\\x03\\x91\\xcf\\xaf>\\xa34\\xb6./\\xa4\\x82\\xddY\\x820b\\xce\\xca\\\\\\xe0u\\xc1\\xc6\\t\\xfc\\xb3Km\\xca\\xe6\\xd8\\xd2\\xd4\\'\\x80\\xc2\\xf6\\xf6\\x92E\\x0c\\xaa\\x04\\x92\\x9064k\\xc7\\x19\\xec1\\xda\\x88/\\xa1\\xb7\\x9a\\xd5\\xd9VU\\x9c\\x9f*I\\x1f\\x19@23\\xb4\\x0crG&\\xa9\\xcdo\\t\\xba\\xf2\\xa2\\xb8W\\x8e]\\x85\\xc8\\xe0\\xa8\\x07\\x91\\x93V\\xe7W\\xddm\\x1c`\\x00J\\xbc\\x83qm\\xc7\\xb1\\x19\\xff\\x00=\\xe9\\xdf@\\xe7\\xea\\xc7]E\\xe73D\\xf2\\xe1f\\x8f\\xcb!\\x01\\x0ec<\\xb1\\xf5\\x1f\\x85Y\\x85~\\xd1#\\x84y\\x92\\']\\xa1K\\xed\\x19$\\x00s\\xf8p\\x07\\xf3\\xe6\\xb3\\xe7\\x953%\\xcb\\xb6\\xf7\\x1f(n9\\xc1\\xe3\\xdc\\x8f\\xe7N\\xdd,\\x0f4\\x10\\xb9y\\x17\\x0cs&\\x14\\x1c}\\xdc\\x0es\\x8eO\\x03\\xd2\\x80\\xf6\\x9a\\xf9\\ts\\x1cm\\xe4\\x08\\xe4@T\\xc8Y\\xf6\\x93\\xca\\xe0g\\x03\\xa7\\xa7\\x7fz}\\xf4\\xd1\\xec\\xf3\\xa4|\\xa4\\xae\\xc7j\\xa6T\\x95<\\xe0\\xe3#\\x8f\\xf3\\x93U\\xacb\\x82\\x0b\\xdbX$\\xb9q(g\\x94\\x81&\\xd3\\xb7\\xb6@\\x1d3\\x80\\x07\\xe3S\\xdey\\x17R\\x01\"\\x94\\x87~\\xe2\\xcb\\x1e\\xed\\x807\\xa7\\xf4\\xefH\\x1aV\\xba sm$+\\xe7\\x99|\\xc9\\x00_\\x95\\x94d\\xb1\\xed\\xec\\x06\\x07\\xd2\\x9f\\x90\\xbb\\xa3\\x8dX\\x08Ho\\x95\\x87\\'\\x1e\\xfc\\xe3\\x02\\x99;\\xc4f\\xbb\\xb8]\\xdb\\x0c\\x7f\\xbbP\\x02|\\xa0\\xe3\\xbfs\\xc7\\x03\\x8a\\xab\\x15\\xec\\x97r\\x85H$f\\x81\\xb2Y\\x1bq~\\xb8\\xe3\\x07\\x8f~(!\\xeak\\xc2\\xbfh\\xba6r?\\xee\\xe5en~\\xeb\\x95\\xe7\\x93\\x8f\\xd7\\xaf\\xa5:t\\x8e;C\\t_6Y_xn\\x17\\xaf\\\\\\x0c~\\x00\\n\\xa1k\\x10p\\xf7\\x86\\x06gfv\\x04#\\x9d\\x8b\\x9c\\x1eO\\\\\\x8c\\xfdjX\\x1bt\\xee\\x97;\\xd6C\\x0b\\x97\\x88((\\x19N@,9\\xc8\\x18\\xe2\\x80].H\\xf0$\\x1bn\\xed\\xc1\\x0f\\x1d\\xba\\xed\\x88?\\xf1\\x13\\xceGO\\xca\\xa7\\x8aQ\\x08\\x81\\xc8\\xf3C0\\x11\\xa0\\x8c\\x82\\xad\\xdf\\x00\\xf6\\xf5\\'\\x9f\\xe5Y\\xd7\\xf72F\\xc8\\xd1J\\xf9\\xc7\\xcd\"\\xbe0\\x0f9\\x07\\xfb\\xdc\\x01N\\xb4\\xd4\\xcc3\\xc2$\\x84\\xc8\\xc1\\xd0\\xa7\\xca~ry\\xce\\xefL\\x8eh\\xdc\\xaee{2I\\xa0\\x17\\x12\\x18\\xa6\\x04\\x05\\x97\\xcf\\xc2\\xc8[\\xe7\\'\\x01y\\xc7\\x1e\\xd5\\x1c\\xde_\\xfa\\xc9FD\\xd1\\xb6\\x00\\x1c\\'\\xcd\\xeb\\x8e?\\x95Ms<G\\xc4\\x12\\xb4\\x01\\\\H\\xdej\\xa6I\\t\\x9eK\\x03\\xe8\\x00<z\\xd5;\\x89\\x9c[\\xd9\\x89_\\xcb\\x0f\\x9c\\x01\\x85\\xc1,q\\xd8\\xf4\\x1dsH\\x9b\\xdfQ\\xf7\\t,V\\xe5eDu\\xc6\\xe0\\x00\\xc8 \\x0c\\x80O\\xb9\\xac\\xe9\\x93|&r\\xfeW\\x9a\\x01Q!\\xe7\\x9e~S\\xc8?L\\xf6\\xaboy\\x18iC+4/\\xb8\\xb4m\\x9f\\xc4\\xe7\\x18l\\x81\\xd0SuF\\xf9`UY\\t\\xd8\\x1aG\\x0e\\x17\\x0e\\xdd\\x14(\\x04\\xf0\\xb8\\xfaf\\xb4\\x8d\\xd3\\x1a\\xdc\\xe1\\xb5$v\\xd4\\x97t\\xc1\\xf9\\xcfCXW\\x1f4\\x8eq\\xde\\xb7nA\\x92\\xf6\\xe3fr\\xbcg\\xfaVE\\xcc\\x05\\x07PH\\x19o\\xadv\\xc7b\\xca\\xd0G\\xb8\\xb3\\x0e\\xaa:\\x1e\\xf4\\xfb\\x1c\\x17$\\x92\\xa0\\x9eI\\xedE\\xb0f\\x95\\xb1\\xc0Tc\\xf8\\xe2\\xa7\\xd3\\xa2R\\x9b\\x9d\\xd5T\\x8c\\xb1=1\\xde\\x98\\x1dg\\x87\\xee\\x93I\\xd3\\xe4\\x12&f\\x921 =6\\xf2q\\x93\\xf8U\\x9b\\x9f\\x14[\\xc7\\x99,\\xa5H^e;\\xd7~\\xe2\\x0f\\xdd\\x000\\x19\\x00\\xf2\\xc7?\\xads\\xff\\x00n\\x82D\\xbfI#s!\\xda\\xb0\\x0cd\\x80\\x07<\\xf6\\x18\\xe6\\xb9\\xc6c\\xce:\\xe0\\x8cW:\\x873m\\x99\\xa93\\xa4\\x8f\\xc4S\\x81q9\\xb9V\\xb9\\xdb\\xb1\\x03\\x0c\\xaf\\xa1 \\xe3\\x92z\\xf6\\xaevy\\xdey$\\x92C\\xf3\\xc8\\xc5\\x8bc\\xef\\x13\\xd6\\xa2\\x0ex\\x1e\\xa7\\x07\\x06\\x92g/!#\\xa7@=\\xabX\\xc5!j\\xc5\\xe4\\x00{\\xd33\\xceq\\xf9R\\xe1\\xb6\\x96\\x038\\xeb\\xcdH\\xa8\\xce0\\xab\\x96\\xe9\\x803T\\x04d\\xf2\\x18\\x9e\\x94\\x8d\\xf3\\x13\\xf4\\xa9d\\x80\\x88\\xed\\xd9\\x0e\\xef8p=\\x088\\xab\\x13Z\\x00\\xaa\\xf0\\xa1\\xd9\\x1b,r\\xa9\\xeb\\xcf\\xf1}\\x0f4\\xae\\x86\\x91\\x96:f\\x9e\\xa3\\xbfj\\xd7\\xd64\\xb6O\\x12\\xcdal\\x01y&!\\x10\\x0e\\x17\\'\\x81\\xf9sQ^\\xda<z\\x8czz\\x80\\xab\\x18\\n\\xa4\\x8c\\x16\\xcf\\xf1\\x11\\xef\\xfc\\xb1S\\xce\\x8b(dn\\xc5BO<\\xd5\\x9b\\xabw\\xb5}\\x92\\x1cI\\x92\\n\\x91\\x829\\xc5V\\xc1c\\xc6I>\\x95\\xa2b\\x0c\\x1cg\\x07\\x19\\xc6qRA\\x0bM2\"\\xf5f\\n\\x0f\\xd6\\xaf^\\xe9\\xf2%\\xec6\\xc9\\x1e\\xc9\\x1a\\x14o,\\xf0w\\x11\\xc8\\xe7\\xbf\\xb5lh^\\x1d\\xba\\x9e)n\\x00\\x8f|m\\xc0\\xde\\t\\x04\\x0c\\xf4\\xef\\xcf\\x1e\\xd5\\x9c\\xa6\\x94n\\x0c\\xc5kvI\\xa4\\x8d2\\xfbX\\xaa\\x9cc5\\xbf\\xa0\\xd9[\\xc6\\x92_\\xdcBgDu\\x8e\\x15 \\x84y\\xb3\\x903\\xddG\\x04\\xe6\\xba\\xcd\\x03\\xc2V\\xb30\\x1a\\x84*\\xe8\\x87\\x02G\\x00\\x86\\xf5\\xc6\\x0f?Z\\xda\\x16\\x16v\\xc8\\xa2\\xd6Qok\\x1b\\x08\\xed\\xe1\\x88\\x80\\x0eO\\xcd\\xb8\\x9e\\xb9\\xeaO&\\xb0\\x95d\\xf4D\\x9c9\\xf0\\x95\\xe6\\xa1ussp\\xec\\x93\\xcf#\\x18\\xa4e\\xca\\x1ccs\\x9fl\\x9c}~\\x95\\xa1\\xa5\\xf8~[;}X\\xcc\\xeb\\x047p\\x15 \\x82Ja\\x87\\'\\xdb\\xfck\\xb6E\\x85X\"\\xb4\\n\\xa1H\\x891\\xd1\\x179\\xc0\\x1c\\xf5\\xcfSQ\\\\\\xca\\x1f\\xf7\\xad\\x8f.\\x14\\x07o\\x04\\xee8\\xcdg*\\x8d\\xab\\r\\x9c}\\x87\\x86<\\x8dB\\xc9\\x82\\xbb\\xc5\\x1a\\xef\\xdc@\\nH\\x1f.\\x07S\\xcf?\\xd2\\xbaI\\xa0\\x92\\xda\\xd6[\\xa8\\xb6\\xb1\\xc6\\xe4I\\x97\\x86\\xc6Af=\\x81=\\xf1\\xda\\xa6\\x96(\\xa3\\x83\\xcdm\\xf1\\xe1\\xb3\\xb1\\xcfP{\\x123\\x9f\\xc2\\x99\\x1d\\xd4\\xb2\\xee\\x9aI\\xe4\\xfbL\\xa7i%N8\\xe9\\x85\\xe8\\x07aP\\xdd\\xdd\\xd8u\\xd4\\xc6\\xd25w\\xd4\\xbcG=\\xb3\\xf9ih\\x80\\xfc\\xca\\x872p\\x03\\x12\\xc7\\xb0\\'\\xa1\\x15\\xd1\\xa4\\x90I\\x1b[F\\xeaWw\\x96\\xc1~c\\xd3=\\x07p9\\xc7\\xb5-\\xbd\\x8d\\xbd\\xbd\\x95\\xc2\\xa3\\xc4\\xec\\xca[\\x02=\\xa5\\x8e\\xec\\xb6q\\xd3\\xfa\\xd5\\x7f\\x10\\xcdm\\x06\\xa5\\xe4ZK\\x18\\xf3q+\\x95l \\xdc2A\\xecI<\\x00iZ\\xef@Z2\\xd4m\\x18h\\xdc\\xab\\xed\\x0e\\xc8p\\xc1w\\xae8\\xc8\\x03\\xd4g\\x1e\\xb5jt\\x92\\xee\\xc1\\xd2@\\xc0\\xb3a\\x80\\xe1\\x868\\x18\\xe3\\xde\\xb3%;\\xae#\\xb5\\x9e9X\\xcaCmF\\xdaP\\xae\\n\\x8c\\x0ey#\\xad\\\\i\\xe7D\\x89\\'\\x04\\xed\\x19b\\x9c\\xf7\\xe7\\xfc\\xe6\\xa8\\xd12)\\xd2\\x18\\xef\\xdd]fU\\x1f+)m\\xdb@\\x1c\\x8eO\\x03\\xe9\\x9aK\\x9b{&\\x98\\x9d\\xc8\\xed\\x12\\x80\\xa2\\x17$\\x03\\x8e@9\\xe1\\x80\\xe3\\x8fz\\x9c\\xdc5\\xbc\\xb2<\\xf1HD\\x8d\\x96\\xca\\xe0\\xa8\\xed\\x9fn\\x95Mb\\x11N\\x91(H\\xbc\\xe2N\"\\xc0\\xc2\\xf3\\xf3`\\xfa\\xf4\\xc8\\xe6\\x92b\\xb7Q5\\x04\\xb8\\x86X\\xc5\\x94\\x828\\xda(\\xfc\\xe8\\xc3\\x00\\xe9\\x95\\xf9\\xb9\\xeaNx\\x07<c\\xa6y\\xabVf\\x1bhe\\xf3\\xe4\\xf9\\x916\\x83)\\xca\\xf1\\xd4\\xf5\\xf9x\\xc9\\xfe\\xb4\\xfb\\x97`\\xb1\\xb4\\x8d\\xe6;|\\xad*\\xc6|\\xb2\\xc0p\\x1b\\xe9\\xc7\\xe3T\\xe1\\x96\\x1b\\x97\\x95.\\xd9J\\xac\\xcc\\xb3!\\x1b\\x90`\\x7f\\x1flw\\xfc(h]I\\xe6\\x95c\\xb4&YZ(\\x10\\t7u\\x01q\\xd4\\x103\\x82=\\xea\\xc5\\x80[\\x8d\\x165\\xb6U\\xde\\xb2e\\x15\\x898\\x00\\xf1\\x92O\\x03\\x15Zv\\x81\\xe13}\\x9e?\\xb0\\xa2\\xab\\x1f\\x94\\xb6A\\xe9\\x95\\x1e\\xf8\\xc5O\\r\\xe7\\xd9\\xac\\xbc\\x95A\\x18\\x91\\xb7\\xb9\\'p\\'\\xa6\\xd4\\x03\\xdb\\x9fjOBJ\\xcf\\x11d\\xbe\\xbaF\\r\\x13\\x01\\x1a\\xa0\\\\\\x92\\xf9\\xe7#\\xe9\\xf8\\xd5\\x9b\"\\x92\\x98\\\\\\x05\\x889U\\x08Ny=\\xbens\\xed\\xda\\x9b-\\xcc70[(\\x89P#\\xb3\\xe1\\x93\\xe6\\x1f\\xc5\\x8c\\x83\\xdf\\xadiEc$V\\x10^\\xdd\\x0bx\\x04m\\x1b\\xec\\x19gb\\xcd\\xc1\\xe9\\x81\\x81\\x81\\xd3\\xb1<\\xd5!\\xdfC-a\\x16\\xb7\\x97r3;:f,\\x13\\x9cd\\xf08\\xf7\\xaaQO9i&\\x8dD[\\xf1\\x11X\\xf1\\xb9{\\x96\\xcf\\\\\\xe4t<\\xe2\\xb5n\\xa2ME\\xa6\\xdc\\x82[rK\\xbb\\x86\\xc7C\\x90\\x7fA\\xd7\\xae9\\xaaN\\x973@Y!\\x84\\xf9\\x7f2\\x95 s\\xdc\\x8e\\x01\\xce*S\\x11a>b\\xd0\\xb7\\xcd\\x85.\\t\\xe8\\xef\\xdf\\xa78\\x1cf\\x94I\\x1c\\x89\\x99\\xb6\\x86o\\xb8\\xa1\\x95@_a\\xd7\\x1d\\xb1M\\xcaY\\xc7\\x1b\\xbeW(\\x14d\\xe3r\\xf5\\xfc\\xbe\\xb5,\\xd6WW\\xa29>\\xcb\\xf22o\\x1f>\\xc1\\xf8\\xfb\\x03\\xf8\\xd5\\x05\\xc7\\xdf\\xe9\\xb12\\x07\\x92/;{\\x96|0\\xda\\xb8\\xe4\\x0c\\x9e\\x9e\\xa7\\'\\x8a\\xc8f{\\xb3q\\x1a\\xc2v\\xc2\\xcb\\xb1\\xd1\\x8b.\\xf0r\\x00\\xe9\\xc7\\xf3\\xfaV\\xa4w77~g\\xd9a\\xb5hSbDe\\x18P{\\xb0\\xc7<\\x8e\\x00\\xeb\\x9cv\\xa8d2N\\xf3L\\x8ef\\xb8P\\xcb\\x16\\xf9\\xc1\\x11\\xe7\\x8e\\x98\\xf9\\x8f^\\xbc\\x00:\\x1a\\x9fA^\\xe5qn\\xb7*\\xb8\\x0b$\\xdc\\x96\\x91T\\xe0\\x13\\xd7=\\xbd*\\xcd\\xa4wQ\\xda\\xab\\xacq\\x1d\\xd2\\x91\\xb8\\x0f\\x95\\x88^y\\xfc\\xab>\\xd69^(\\xed\\x9aFhC,\\x93\\xce>\\xf4\\xac\\t\\xe88\\xcf\\xe21\\xf3{V\\xb4\\xb7\"\\xfe\\xc9n\\xa3\\xb8f\\x8e7\\xf2\\xc1\\xc6\\xd4A\\xdc\\xfb\\xb1#\\x81\\xcfJka[\\xa9].\\xd2\\xce5\\x84\\xc3#8\\x19lr\\x01\\xf4\\xcf\\xd3\\x14Ui\\xfc\\xd3&b\\xd3\\'\\x9e?\\xe1}\\xca\\xbc}(\\xa5\\xcc\\x8aFc\\xef\\x8efW\\x85\\xa4\\xdd\\xe6\\xb3\\xb9B\\xc0\\x06n0y\\x18\\x03\\xd7$\\xfab\\xa4\\xb2\\xb2xDLU\\x18\\x87c\\x12\\xa0*\\x14\\xe3\\x8c\\x8f\\xe6{\\xd3\\xee\\xed\\xdd\\xaf\\x19VF\\x91\\xe3D\\x1d\\x03\\x11\\x96=\\x0fA\\xd7\\xaf=*Wy!\\x82-\\x82%\\x93>T\\xb9%\\x8c}\\xc0\\'?Z\\xd1\\xf6\\x16\\xa8`\\x82\\xdd\\xf5\\x08\\xe6\\x12Fc<\\xaa\\x0c\\x80\\xcd\\x8f\\x98\\x0c\\x8cu\\x14\\xe9n.\\x16kH|\\xb6\\xcc\\xceU\\xfc\\xd2@Q\\x8e\\xa7=\\x06;\\x8e\\xdfZ\\xab;\\x19`\\x11\\xc7p\\xab\\xcf\\xcc\\xe5\\x81)\\xfd\\xec\\x1c\\x11\\xe8\\x07j\\xd3H\\xca\\xda+\\xdc\\xec\\x02\\x15D!\\xd8\\xe0\\xbf\\x1d}@\\x1c\\xfb\\xd2bZn%\\x88\\x16\\x92Opq$\\xcb\\xb8&\\xc1\\xc0^\\xa0\\x9f~?\\x01T\\xaco\\x04\\x91\\x97\\x8aH\\xda\\xe9\\xc3\\xae\\xe2\\x7f\\xe5\\xa7\\xf11\\x03\\xa7\\x1e\\xfd>\\xb4\\xa2\\xc2[\\xfb\\x93\\x18\\xf3\\xd0\\xcb\\xbb3\\xc6rW\\x9e8\\xc8<\\xe38\\xe9\\xf8Uk\\x84[\\x04e\\x8a\\xe0\\xb4\\xaa\\xcc\\x03(\\xdd\\x80\\xec\\x01$\\x81\\xe83\\xf8\\xd04\\xac[;\\xad\\x81\\xb7\\x8d\\x95\\xa5!T\\x15R7\\xff\\x00\\x93\\x93\\xf4\\xa9mf\\x85\\x8a\\xc5\\xbc$k\\x9c\\x00\\xd8,GV\\x1ct\\x04\\xe7\\xf9\\xd6dZ\\xa7\\xd9.R5\\xb9\\xf3D\\xb34Q\\xe4ddp\\xa3#\\xbf\\\\\\xfa\\xe2\\xb5bH\\xcc2\\xdfy\\x9b#1\\x95\\xca\\x10\\xca\\x08o\\x98\\x8crx\\xed\\xdb\\xbd\\r\\x05\\xae\\xc6y\\x13$\\xb1\\xa4\\x12G#a\\xbc\\xff\\x008\\xef\\xcez.\\x0fn\\xa7\\'\\x02\\xafyv\\xb6\\xe2\\xe4\\xa8\\x113\\xaa\\xee\\xdb&\\x01\\x18\\xce\\x00\\xec*\\x84\\x8b\\x14\\xbe|\\xea\\xb3\\x84\\\\1o0.zzz\\x9cu\\xed\\xe9N\\xfb\\t\\xb4\\x0bm\\x86\\x91\\x9c?\\x07i\\x00\\x81\\x9e\\xc3\\xa68\\xc94\\x86\\xae\\x8b\\xb0\\\\\\xc7\\x06\\xc3\\x1b1\\x8cg\\xe4\\x94\\x11\\x91\\xd3\\xaf=\\xbf\\n\\x86\\xdaO\\xb3),p\\xb3\\xc8\\xfb2N_\\xa8\\xcb\\x1e\\xc3\\xa5-\\xac\\x13\\xdc#\\xc8\\x01\\x92Q\\xbagf^B\\x0e\\xa4\\xfag\\x07\\x14\\xd6\\xc3\\xcd\\x04-h%\\x8d\\x88\\xf3\\x13v\\x01\\xc9\\xe0r@\\x1c\\xf3\\xf8R\\xb6\\xa0\\xd7Q\\x9eB\\x9bx\\xcc\\xa4;F\\x07\\x98\\xe12\\x1c\\x8f\\xf6y\\xe3\\xfc*;[B\\xf2\\xe6i\\x0b\\xf9\\x8a\\xe0\\xb3\\x0f\\xbf\\x93\\xf2\\x81\\xd7\\x81\\xcf\\xe3D\\xf3\\x98\\x9d\\xe0\\x10\\xa3\\x99\\x8b\\xe7i\\xd8\\xac\\x01\\xe5T\\xe4d\\x01\\xfcg\\x19=\\x0697b\\x84\\xfd\\x89\\x02\\xc4\\xc8\\xe0g,\\x00\\xed\\xd4u\\xef\\x8a{\\x05\\x9b\\xd4\\xcb\\xb9r\\x8doq\\x12\\x18\\xe4(U\\x83\\xe4\\xb2\\xc6\\xdc`\\xfb\\xe4t\\xcdh}\\xa6%\\x83\\xec\\x91B\\xcav\\x17\\x85\\x9e1\\x80\\xc0r1\\x93\\x9f\\\\{T.\\xd6\\xd9\\x12,\\x99f\\n\\x06T.\\xe2\\xa4\\x82\\xd9\\xe9\\xde\\xa4\\xd9\\x00\\xba\\x02_\\xde42\\xa6\\xd0O\\x03\\x86\\xeex\\xc8\\xfa\\xd4\\xb8\\x85\\xacS\\x8e\\xdaX\\xa3\\x11O\\xb2bd\\r+\\xb2\\xf0\\xa8;g\\xb6}\\xfa\\xd6\\x0e\\xbd\\x7fqj\\x97\\x12D\\xbb\\x0c\\xc7\\x19a\\xb4\\x008\\xc0\\x03\\xaf\\xd4\\xd6\\xee\\xe9\\xdd\\xc8\\x8eb\\xc9\\xbbr\\xab\\x0e\\x9e\\x83\\xd2\\xb0\\xf5k)%\\x89\\x9aW\\x8a4$\\x93$\\x84\\xf3\\x9e\\x01\\xe3\\xe9[S\\xee\\xc269\\xbbI\\x0b\\xd9K+n,\\xaa~ny$\\xf6\\xa6\\xea\\xd1yVP\\x95\\x1c0\\xcb\\x0e\\xf9\\xab\\xb1\\xc0\\xabg\\x1c\\x11nm\\xcf\\xb8\\xb1\\xef\\x8an\\xb8R\\xe20\\xa8C\\x15\\x1f\\x88\\xf6\\xae\\xd5\\xb1\\xa39\\xd2\\x86\\xde\\xd5\\x98\\x9ed\\x07\\x18\\xab6\\x8c#\\xb3u\\xce7!\\x04\\xe38\\xfaU{\\x9c\\x8beBO\\xcax\\x1fZ\\x8d\\xe5\\x0b\\x14N\\xa7\\xe6\\x0b\\x8c\\n\\x19/D$W\\r\\x0cS(\\x03t\\x80\\r\\xddN)\\x1e&@09 \\x16c\\xdb\\xd0f\\xa0\\x1c\\xc8\\t^X\\xe0\\nYd3N\\xe4\\xb7|\\x0f\\xc2\\xa1\\xadL\\xc7\"\\x96\\x93i*3\\x90H\\xe9R[\\xd8\\xcfs*\\xa4)\\xbaW\\xce\\xc4\\xee\\xd8\\xeb\\x8a\\xd8\\xf0\\xfe\\x8b\\xfd\\xa4&\\x99\\xa0\\x92H\\xe2\\xff\\x00\\x9eg\\x9c\\x8e\\xc0w\\xcfO\\xc6\\xbb\\xdd3\\xc3\\x89\\xa6\\xc3\\x1d\\xf4\\xee\\xb0\\xc6\\xa8\\xdeX<\\xf9\\x99\\x1c\\x95\\xef\\x81\\xcf\\xb7\\xbdD\\xea(\\xe8\\x07)i\\xe1ui\\xaf\\xdd\\xe3\\x98\\xdb\\xdb\\xdb+#+(\\xde\\xe7\\x03\\x1f\\xce\\xb6,<\\x1d\\x15\\x9c\\xf1\\xcd+#\\xc5\\x0e\\xec\\x9f\\xe3\\xdcz(\\x03<\\x00NI\\xadw\\x13\\xf92I\\x01\\x85Bs$c\\x0c\\xc8\\xbd\\xb9\\xce\\t\\xcf\\x1e\\xb5ueI-$\\xb9\\x92A\\xe5\\x95\\xdaT\\xa9P\\xa7\\x00\\x9c\\x822x\\xe3\\x15\\x83\\xa8\\xd9H\\xc7O\\tXIy\\x1c1\\xaa\\xfd\\x8a\\xce\\xd4\\x02\\xe7\\xf8\\xd9\\xd41`}\\xb2y\\xf6\\x02\\x9b7\\x86l\\xd7S\\xb3\\xb8\\xb3\\xb56\\xce\\xd2\\x03q\\x0e\\xff\\x005e\\x84\\xe4\\x1e\\xbd\\xb8\\x15\\xb9mwm2\\xec\\x95J\\xdb\\xc80\\xcaG\\x97\\x94\\x03\\x8d\\xbf\\xd0g\\x9a\\xb1m<Rx\\x82\\xe2\\xd9\\xe2\\xc1\\xb7\\x8d\\x19Z@FX\\x9c\\x95\\x07\\xe8EB\\x94\\xae;\\xea`^x`X_.\\xb5\\x08k\\x8b\\xab\\xe7t\\x8c\\xb9\\x07f@\\x1b\\x86;\\x81\\xc7\\xe3PE\\xa5\\xa2\\xf8\\x89\\x16y>\\xd7<N\\xd2j\\x82<\\x98c<m\\x8c7FoS\\xd6\\xba\\x19\\xad\\xc8\\xb0\\xb9\\x17\\x1a\\x94\\xb3>ZH<\\x94 \\xb6H\\x1b\\x07|\\xe0q\\x80{\\x9a\\xcb\\x82\\x07\\xb7\\x17\"\\xd3\\x05e\\xb9\\xdb\\x85\\\\*\\x1e\\x03t\\xef\\x9e?:NN\\xded\\xbd\\xcek\\xc7z|\\xb3]\\x19\\xa2\\x86/\\xb2\\xf3\\xe5$\\t\\x83\\xe6\\x1e\\xb9\\x18\\xec0\\x05dh^\\x11\\xfe\\xd6\\xb4\\xbe\\xd9u\\x8b\\xd8\\x14\\x14H\\xdc`>z\\x1f\\xefq\\xe9\\xdf\\xd6\\xbb\\xdb\\x9cC/\\xd8\\xae\\xae\\nB\\xe7li\\x1aHg\\x93\\x9c\\x1c\\x858\\xdaNx\\x03\\xb7>\\xfb\\xf2\\x9b+?\\r]\\xdb\\xcdki\\x0b\\xb2\\x00\\x89k\\x06\\xc0s\\x8fA\\xf31\\xe9\\xd2\\xb4UZ\\x8d\\x8b\\x8a\\xbe\\xe7\\x05/\\x86n5-@]j2\\xa7\\x9d\\x02\":\\r\\xacX\\x81\\xcf\\x03\\xbf\\xf5\\xae\\xa5t\\xfb{XE\\xac\\x07\\x11\\xb1\\x03\\xcb\\'\\x04\\xb1\\xc6I#\\x9e\\x83\\x1e\\xb5Z\\xd2\\xda\\xe2U\\x95\\xe6\\xb6\\xf9\\xc1\\r,\\xdc`\\x168\\x00`\\x9c\\x11\\xc8\\xf7\\xc5Z\\x94\\xba\\\\B\\x1f\\xe4\\xf2\\x0edL\\xee\\'<\\x03\\x9f\\\\u\\xac\\xe5&\\xf4!\\x96\\x84BV\\x9e\\x14\\x99\\x112\\x11\\x18.\\x02.\\x00\\xda\\xab\\xf5>\\xb9\\xfaS^\\xccZi\\xc2u\\xb8\\x9fl\\x84\\xa8\\x1c\\x80\\xc3=\\xc7a\\xc0\\xaa\\xd1\\xdc\\xe2\\x7f F\\xc8\\xa0\\xf0\\xef\\x9c;\\x1e\\xd9<\\xe4v\\xfcqS]\\t\\xad\\xe2\\x91%\\x86H\\xf7\\xbf\\xce\\x85\\x0e\\x03t\\x07=\\xb2\\x07LRHoE\\xb1j\\xde1\\x0c\\x0b\\xbdL\\x92>A\\xf9s\\x91\\xc1\\xc68#\\xf9\\xd4AU\\xa3\\nJ\\xcd\\x1aH\\xec\\xb2F\\xbb>`y\\x0cI\\xcf\\x02\\xabI\\x1f\\xfaM\\xbbD\\x9b\\x9e@If\\\\\\x059\\x1d=x\\x1d\\t\\xa7y\\x98\\xd4c\\x8a\\xd0\\xaac~\\xe2\\xe9\\xce\\xd1\\x8e@\\xcf\\xcb\\xc7\\xd7\\xa7ZbZ2\\xec\\xd3Fti<\\xa8\\xf6\\xcc@\\x92 A\\xc9\\x03\\xb1o\\xe9\\xefY\\xc4_\\xdd\\xac/uk\\x1c/\\xb0\\xaa\\x0c\\x15`s\\xd4\\xf1\\xc0\\xf6bO5j\\xe2Dy>\\xd1\\x03\\x99\\x15\\xc6C\\x03\\xf7\\x97\\xa0\\x00\\xf5\\xe7\\xd7\\xd0qO\\x93c\\xc5\\x04\\x90BS\\nYw\\x02\\xcb\\x08\\xc7A\\x9eMH\\xee\\xd8G4\\x8f+\\xda\\xc8\\xa1Q\\\\\\x04gV<\\xe0\\xae>\\x95Z\\xd7O\\xb66\\xa8\\xd7j\\xa6\\xf0!\\x017\\x02FX\\x80\\xd9\\xe9\\x90:V\\x8cw\\xcd\\xe4\\xbd\\xb4\\xd2\\xc7,\\x8c\\xa1rx\\xc7}\\xdbz\\x01\\x9e\\xe7\\xf0\\xac\\xf7\\x8ah\\xe5\\x12\\xc5\\xb5\\x99H\\x8d\\xc9\\xe1[\\x1fxg\\x07\\x00\\x03\\xd7\\xd7=)\\xad\\xc7}\\x8b\\xe9kl#\\xb6-(\\x13\\xceUd-\\xc7^\\x11\\x99\\xb1\\x93\\xd3\\xa6GZ\\xb6\\x90}\\x9e\\x14\\x85\\xa2\\x88\\x83&dn\\xc0\\xe7\\x18\\xdb\\xd0\\x0e8\\xfdk$\\x01y\\x11\\x0b>\\x0c\\x8eQ\\xb7\\xf2\\xb1\\xe3\\xa6\\x00\\'\\x9f\\xaei\\r\\xe1\\x821\\x0bL\\xb7\\x069\\xd5|\\xc0\\xbbT\\xe7\\x82p\\t\\xcf\\xa0\\xf7\\xa2Z\\xa7b\\xa5\\xa2\\xb9bT\\x1a\\x8d\\xd5\\xdb12\\x03>\\xc8<\\xb3\\x94\\xf9W>\\xd9\\x19\\xeb\\xfe\\x15%\\xb2\\xc2\\x88\\xed3N.\\x8a\\xb2\\xe7\\x01P`pW\\x19$z\\xf4\\xf4\\xe4UK\\xbdB\\x18\\x12\\tZ\\xe4\\x83\\x19s\\x11V\\x1f\\xbd\\'\\x83\\xc9=1\\xc1#\\x8ad\\x1a\\x85\\xb4\\xfa\\x95\\xb1\\xb8\\xb8\\xf9\\xa5_--\\xc4\\x99Ff\\xe4\\xf9\\x9b9\\xdb\\x81\\xf7\\x7f\\x88\\xf1I\\'}\\x08\\xe6}\\x0b\\xabe2\\xd8\\xfd\\xb2G\\x10\\xcfq P$;|\\xcc\\x0c\\xecB2H\\xc7R?1P\\xc7k\\n\\xc7\\x14P\\xc7\\x020c\\x98\\xe3o\\x94\\xb1\\xeaO9\\xe3\\xa6i\\xfa\\x9c\\xden\\xb5p\\xe6Ie\\x95c\\xfb<;p\\xa2&\\xe3 c\\x81\\x8e\\xe0}3\\xd4\\xd6t\\x92\\x19\\xa5Hb\\xca\\xa8||\\xa9\\xbb\\xcc\\xc7\\xa1\\xef\\xcf\\x1d\\x7f\\xc2\\x9f\\x91ww\\xb1\\xb8\"\\xb4\\x89V\\x00\\xa1\\x82\\x1f\\xdd+9o\\x9b\\xd7\\xaf|\\xfe\\x18\\x15BI\\xcd\\x8ays0\\x9aYwb!\\x18TU\\xcf\\x1c\\x9f~\\xfe\\xdc\\n-\\xe2we`\\xfb\\x91\\x9f\\xe7@\\xa1B\\x81\\xcb\\x1c\\x93\\x92q\\xda\\x95b\\xb5\\x90\\xcb4r\\xf9\\x92\\xca\\xdb\\xb9C\\xf2\\x81\\xc0\\x1c\\xf4\\x1d1\\xfe\\x144\\rv\\'\\xb01Y$\\xf7\\xb7n\\xbeZ\\xfc\\xc7p\\xc6\\xe2:\\x92\\x7f\\xbb\\xfc\\xf8\\xab\\x10\\xde\\x9dCL\\xb9,JOq X\\x9cd8\\xc8\\xc9\\xc7\\xa7\\x1c}*\\x9d\\xea\\xdd\\xdcZJ`\\x113\\xc6\\x17j\\x05\\xe5\\xfa\\x901Y\\xd8\\x9a;\\xeb;4y\\x07\\x124\\xc9\\x0e\\xee7.\\xdeOe\\x04\\xe0s\\xf8\\xd2Wd$\\xee\\\\\\xb7\\xd4\\xa6\\xd3l\\x1ai\\x89g\\xf3\\x00d;\\x86\\xe5\\xef\\x91\\xf4#\\xf0\\xad%\\xb6K\\x08\\xe5\\x8d\\xc9c&3\\x8e:\\xf21\\xcf\\xa7\\xbf\\xa5c\\xca\\xad\\x13\\xba\\xdcJ\\xb1B#\\xda\\xa3 \\xf1\\xd0\\xb3q\\x93\\xe8:T\\xf7w\\x8dz\\xd05\\xa5\\xd3\\xcc#\\xb6\\xc7\\xd9\\xd5\\t\\x93\\x03\\x85\\x05\\x81\\xc6\\x08\\x19\\xf5\\xfet\\xec\\x17i\\x96\\xe3\\x8du\\x1b\\xabkx\\xb6\\xc6\\x11A\\x92W\\x18 \\xee\\xc9\\x03\\xd7\\x8a\\xb7\\xac35\\xf5\\xcc\\x0b>\\x1aV\\xdf!\\x8e?\\x9a(\\xf0\\x07\\'\\xfb\\xed\\xfazV,~}\\x96\\x96!\\x85\\xe2}Ch\\x02N\\x9f98\\xdc\\x7f\\xbd\\x8fS\\xe9OLMg$\\x12\\x89Z\\x10\\xce\\xee\\xf30,\\xec8\\xc9\\x0c;\\x93\\x9f\\xe5N\\xfa1\\x0e\\xb67\\x9b\\xad\\xe2\\xb0\\x8c%\\xbcr\\x0c\\xf9\\xd2\\xe4\\xed_L\\x0c\\x13\\xce8$\\x1f\\xc2\\xac\\xcfas\\x0c\\xb7\\x93Kk)6\\xcb\\xf3\\x158\\x91\\x8e:px\\xe0\\x8f\\xe5W\\xad,.cX\\x9ey\\x9c[B\\x11#oN\\xfc\\x0f_\\xa0\\xaa\\x17\\xd7\\xcfys\\xf6(n$\\xb5\\xb1\\x8d\\x83\\xc9\\x94o2B\\x0eN\\xe7\\'<\\xfbsKq\\xe8R\\x8e{\\xd9m\\xcc\\xeb\\x01\\x8e`\\xf8*HRN>\\xee:\\x8c\\x0fj\\x84\\x08Y\\x95\\xe6\\x81\\xf73\\xed\\x019^\\x99 \\xaf\\x00\\x1e\\x9e\\xfd*\\xdbF\\xadr-\\xad\\x13d.w~\\xec\\x9f\\x9d{\\xe7\\x8e\\xbd\\xf2EX\\x96[X\\xa1\\x8ay\\x06\\xc9<\\xb2\\x11b\\\\\\xa19\\xeeO\\x1f\\xca\\x9d\\x90\\xf9QG2\\xc6\\x88\\x90\\xe1\\x90(\\x19f\\x00\\xfe\\xb4V\\xb5\\x8f\\xd9$\\xb7\\xdf-\\xb4\\xad\\xb9\\x89Vf\\t\\x91\\xf4\\xa2\\xaa\\xdefG9\\x14sX\\x9d\\xd73\\x96\\x92\\xe8\\x84i6\\x96d\\x8f\\x07\\n{\\x0f\\xa1\\xef\\xf4\\xab\\x97vq\\xb5\\x95\\xe4\\xac\\x16Q\\xb02\\x07Q\\x8f\\xbd\\x9eG\\x1e\\xbdi\\x8f\\x0c\\x8b\\x1c\\xd6\\xefq\\x02=\\xc0V#;\\xb6\\xb7\\xa308\\xdd\\xec3\\xeeER\\xb8f\\xfbt\\xc6Cl\\xb9E\\x8d\\x12V\\'p\\xfe\\x11\\xea\\x0f^\\x9e\\xc2\\x93\\xd0\\xa4\\xde\\xc6\\x8d\\xa4\\x96wpH\\xa4\\xda\\x99b\\x8b\\xcceve\\x19\\xc7#\\x91\\x8e\\x07a\\xc7\\xcc*\\x95\\xfc\\x8f:\\xdbD]\\x124a$\\x88\\xa7(\\x1b\\xab\\x02q\\xce28\\xe9Q\\xcd\\xa5O-\\xf2@\\x1f\\xcb\\x81\\xe5U\\x94)*J\\x0f\\xe1\\xe0\\xfc\\xc4\\x9e1\\x9a\\xb1\\x1d\\xb47\\x0f \\x89]U0NN\\x14 l\\x15\\xe9\\xbb<g\\x8e\\xb9\\xa1\\x15n\\xe4(\\xb2\\xdb\\xc7\\xf6I.ZI.C#\\xb2\\xbbne\\xfb\\xca\\x08\\xe0\\xf4\\xceA\\xeb\\xf4\\xac\\xa6\\x8bU\\x9eYc\\xbcY\\xcd\\xa38\\x11\\xc2\\x80l\\x8dG \\x9e\\xd8\\x03\\xbf5\\xd0E\\xb0\\\\4\\xb0\\xc5\\x12\\xdcya\\x10J\\xaa\\x88\\xaf\\x93\\xc9\\xe3\\'\\xafJT*\\xb7\\xae\\xe5\\x95\\'\\x89\\n\\x1c.\\x02\\xaeF9\\xf7=\\x8d0\\xb5\\xdd\\xcc\\xc8\\xe1g\\x10;\\xb7\\x97\\x14a\\xb0B\\xee\\x00\\x15\\xc6UG9\\x0b\\xd3\\x8e\\xe6\\xb4\\x99d\\xb4\\xb0y,\\xc8\\xb7\\xb7\\x8e\\x10\\xea\\xec\\x03\\x94#\\x92\\n\\xe7\\x83\\xedV\\xb7[\\xc0\\x05\\xc6\\xe5\\xfby\\x8bd\\x9b_n\\xe5-\\xd8t\\xc1\\xf6<\\xe2\\xa9\\xdf_\\xc9\\x05\\xba\\xa8\\xb5\\xdf\\x0b\\x8c\\x07\\x90\\xe7q\\'\\x01QTp8\\xef\\x9a\\x9b\\xf6\\x1b\\xb3Z\\x13\\xba%\\xbd\\xb9~b\\x13\\xc7\\xf3r\\x02\\x9e\\x03\\x0c\\x8fry\\x02\\xa4\\x12\\xcb>\\xa6.\\x12\\x12\\xa28D\\x92D\\x0e\\x13\\x04r\\xd8\\xce[\\xafLu\\xaaKk=\\xe5\\xcb2\\xcc \\x11\\x90\\xa7\\x04\\x96\\xc9\\xeb\\xd3\\xee\\x93\\xc7\\x18\\xab\\xd1XOn\\xa2t\\x99\\xc8\\x8d\\x95I*6n\\x07\\x8c\\xf5\\x18\\xeap9\\xa6>W\\xd4Y`\\x8e\\xe50\\x96\\xf2mm\\x98M\\x87\\'\\x1c\\x80\\x0fs\\xd7\\x83\\xd2\\xa2\\x9a\\xc2\\xea}0]\\x9d@B\\xbfhh\\xe6\\xdf\\x82C\\xe7\\xe5\\x1c\\xfbq\\xff\\x00\\xd6\\xe6\\xa4T\\xbdk\\x88\\xee<\\xc4\\x10|\\xc0\\x05\\x1dFF[oN\\xbf\\x8d1\\xe3C#\\xbcDb6.\\xeb\\xb4\\tK\\x0c\\xf0\\x0f\\\\\\x1e>\\xb4 KML\\xeb\\x92\\xa9bn\\'\\xf3\\xb2Cm\\xca\\x8eI8\\'\\x07\\x9f\\xf1\\xedS\\xdb\\xddIq\\x00h\\xad\\xdc\\xb8\\x89c\\xe5\\x89\\x065\\xc8,1\\x8er1R\\xc1\\x18\\xb8G[\\x88P P\\xcc\\x87 \\x0c\\xf5\\x04\\xf7<z\\xd2Y\\xdb46\"Q\\xe5\\x14\\x0eJ\\xc7\\x18\\xc3\\xf2r\\x01#\\xd7\\xbe\\x7f*l\\x9b\\x190j\\xd1\\xb4\\xf7\\xd7\\x1b_\\xcd\\x8aa\\x04Q*\\x0e$a\\x80\\x14c9\\x039\\xf4\\xe6\\xae\\xea\\xcc\\xb6\\xb6\\xf6\\x91\\xcbxM\\xcc\\x93\\xc6\\x8d\"g\\xe6$\\x1c\\xa9\\x19\\xe9\\xdb\\xa68\\xefSi\\x9a\\\\\\x96\\xdb0\\x82xds#\\xdcH\\tu\\'\\x82\\x1c\\x8c\\xe4\\x9f_\\xa0\\xe3\\x18\\xa6Y\\xc5\\xe6\\xde\\xb5\\xca\\xb0+\\x92\\xc3\\xcdM\\xb8+\\xf2\\x80\\xbe\\xa7\\xdf\\x8e(\\xeaZ\\xd1\\x14e\\xd3\\xee-\\xadK\\xf9\\xa7\\'q(y\\'\\xdb\\x19\\xe9\\\\\\x9e\\xa7;\\xdc\\xdd$kp]\\xb7\\x00@\\xe0/j\\xeb\\xfcUqh \\x8a\\xd4\\xde!\\x9db.\\xe0J\\x01ROB\\x7f\\x8b\\x8e\\xd9\\xae6{\\xbbX\\xef\\x00\\xb5H\\xc2 \\xe5\\xb3\\x9e?\\xfdu\\xbd$\\x16Hu\\xdd\\xd2\\xe9\\xc4\\xb2\\x90X\\r\\xb1\\xaf\\\\v\\xcdfG\\x7f$\\xa4\\xa8\\x1c\\xb1\\xe6\\xa8\\xdf\\\\\\x9b\\x8b\\x97\\x90\\x9e\\t\\xe3\\xe9Si\\xb8\\xfbBn8\\x1b\\x86k\\xa4\\x07\\xdeDJL\\xc0\\x11\\x86\\x1bA\\x1d\\xab:U\\xc6\\xd5V\\xfe\\x11\\x93[Z\\xd4\\xca%\\x924o\\x94\\x90Tc\\x1cV+\\x03\\x82O8\\xe0\\n\\x92d>$\\xdc\\xdb\\x80;cRs\\xfe}\\xcdl\\xe8\\xde\\x1d:\\xac\\x10\\x94\\x91\\x14y\\x98\\x94\\x83\\xca!\\x04\\x92~\\x9bO\\xe7R\\xd8\\xe8\\x86?\\x0f[\\xea\\x8e\\x12x\\xaf\\xae\\x05\\xaa\\xaeH\\x118nw\\xfa\\xe7\\x83\\x81\\xd6\\xbd\\x0fH\\xd2\\xad\"\\xb5\\xf2\\xee`\\x99\\xce\\xcd\\xcf4\\xe5\\x02F\\xc3\\xa1\\xda>b=\\x01\\xc7Q\\xc6+\\n\\x95-\\xb1<\\xac\\xcc\\xf0\\xc6\\x9d\\x1aY\\xc8a\\x85\\x96\\xddg,\\xa2G\\xc9}\\xbce\\x8ey\\xe3\\xf8T{f\\xba\\x0b\\xb9n\\xe4\\xd2\\xed\\xf2#\\xb8\\xb8\\x91Zk\\x87e\\x00\\x88\\xfa*\\xaex\\x03\\x8e\\x99\\x1d*o,\\x14\\xc0;c\\xf5O\\x97ga\\xfa\\xd4W\\xcbt\\xbat\\xd0\\xc2\\xe1.\\x1c,[\\x84\\x80\\x18\\xe3\\xc8\\x00\\x0e\\xe5\\x9f\\xd4t\\x15\\xcb\\xabwe(\\x94mt\\x98\\xed\\xe1\\x848}\\xf2\\x06\\x95:\"!\\xfe\\x10\\x07\\x19\\x1c\\x9eMi\\xbcW\\t4\\x96\\x84\\x87\\xb4X\\xc4\\xe8\\xe7r\\xb38\\x188\\xc9?C\\xf4\\xab7\\x06\\xdd\\xad\\x8a\\x08\\xdeC\\x1b,\\nK\\xb60:\\x96#\\x802z\\x8c\\xd5\\x0b\\x93\\x11\\x87l\\xc8\\x1aHNch\\x0er\\xdd\\x80?Jm\\x95e\\x12\\x8b[=\\xd5\\xea\\x08\\x1a_9\\x06e\\xc2\\xef\\x04\\x93\\x90\\xc3\\xb0\\xc5i\\xcfn\\x96WR\\xef\\x8a#rb\\x00\\xa0\\x90+\\xb9\\x03 \\x91\\x9cg\\xd6\\xb44xE\\x8aK\\xa8\\xddB\\x0b&\\x16\\x15#\\xfdc\\x1f\\xbb\\xbb\\x8epy\\'\\xda\\xb3\\xaf%\\xf3\\xef\\xd6\\xf2M\\x92N\\xaedR>]\\xdd\\x8fRN\\xde\\xbc\\xe2\\x80Hm\\x95\\xe4\\xaf{\\xf6%\\xd8\\xdeR\\xfc\\x92\\xca2\\x07S\\x803\\xdb\\xd7\\xbfJ\\xce\\xb8\\xb5\\xba\"\\x08\\xe2\\x90\\x0f+m\\xc1v\\\\4\\x87\\xd0\\x1e\\x83\\xe9\\xd7\\xadh\\xca\\x82\\xe6x\\x9fu\\xd0G\\x05\\xd1\\x11\\x08=r\\x02\\xf1\\x91\\x9cg\\xaf4\\xb2\\\\F\\xf1\\xdbYMl\\xe1\\x16-\\xdc\\xbe\\x0be\\xb2;s\\xc7\\xe2(D\\xdb\\xa1A\\x12x\\xe62\\xbc\\xdel\\x92e\\\\\\xacy\\xc8\\xcev\\x12~\\xe8\\xf6\\x19\\xe6\\xb4\\xa2\\x96E\\xb8\\xb4\\x86\\xe2\\xd9\\xcb\\\\\\xcc\\x18yR\\xe5\\x82\\xf6$\\x9faR\\xcf\\x14?b\\xf3\\xed\\xd2\\x0b\\xa86\\xaaG\\xf2\\x16+\\xbb\\xae9\\xc620i\\x9ai\\x16\\xf3\\xcd<\\x84\\xac\\xcb\\x96\\xcb\\xc8]\\xb3\\xdb\\'\\xd7\\xd8t\\x14\\x9b\\xd7Q\\xf2\\xd9\\x99\\xf6\\xf1\\xdc\\xa4\\xb0}\\xb2\\x11\\xbd\\x9c\\x94\\x0b\\xff\\x00,Tg\\x05\\xc9\\xe1\\x9c\\x83\\x8c\\x81\\x90=)\\xb6\\xf72\\xea\\x16\\xc2\\xe5\\xd9\\x96\\x0c|\\x89\\xb0\\x96\\xc7\\xbe\\x7f\\x96+NF\\xf3.3z\\xfbe\\xc9H\\xe2B2\\xbb\\xbf\\x84\\x93\\xfc\\xf8\\xaaSE,\\xb6\\xeaVT\\x897\\x11\\xb5A;@\\xc8\\xc0\\xfe\\x13\\x9f^z\\x8ad\\xb6\\xdb\\xd0$\\xb8\\x08\\xf6\\xd0\\xa4\\xcc\\x92\\\\\\xa9\\xc2\\xb0\\xe5W\\xfb\\xd9\\xc62>\\xbd\\xea\\x9e\\xa7<\\xb0\\x96\\x8c\\x14X\\xa3]\\xcc\\x19w32\\x8c\\x1c\\xb7Z\\xd9\\xb3e\\xb4\\x8c+\\xb8\\x84\\xb6r\\xdb\\xb7\\x0eF\\x07\\x1e\\xbe\\xd8\\xaa\\x97:s\\xb4Op\\x81cV\"6\\xc1\\xc6A\\xe8q\\xf8c#\\xa5\\x08\\xad\\xe3\\xa0\\xfb\\xe7\\x9aKK\\x04\\xb6xBG\\x1a\\xbb\\xb2\\xc9\\x90[\\x1e\\xa3\\xef\\x1e\\xd5\\x13\\x81ls\\x06\\x17\\xcc\\x8cF\\xe4\\x1f3\\x19\\xeas\\xdf\\xb8\\xe2\\xad\\xc5\\r\\xa5\\xbd\\x8d\\xa9\\x92@\\xc1\\xa3W\\x90Hx\\r\\x8e@\\'\\x1c}}\\xe9\\x15w\\xdc3\\xca\\x8c|\\xcc;\\x01\\x90\\xa1q\\xc2\\xe0q\\xc6?\\x1a\\x04\\xd3e\\r\\x83\\n\\xc2E\\x0c\\xa4\\xa4ciR\\xbcc\\x83\\x9e\\x0e9\\x1f\\xca\\xb4-\\xf2m\\xc8\\x96Yd`\\x820d#\\x92NH\\x03\\xafa\\xd7\\xa5\\x12\\xc6c\\x86\\x05\\xd8\\x15\\xa6$\\x15\\'\\xf7\\x8c\\xd8\\xc8$\\xfac\\x8c\\xfb\\xd5K\\x88\\xbc\\xc8c\\xb6\\xb8,\\x8c\\xe8\\xd9q&J\\xf3\\xeb\\x9e\\xb8\\xa0M{\\xa4\\x9aZ\\xdc\\xc1tnn\\x97$6\\xf6\\xe3\\xaf$s\\xc8\\xc7\\xa0\\xabs\\xdeM<x\\x8e8mn\\x19p\\xbb\\xd5K2\\x93\\xc6\\x0e~U\\xe3\\xda\\xab\\x1bX\\xeeM\\xb8\\xde\\xbb\\x01\\x13L\\x84\\x8c\\x0e\\xbb9\\xe7\\'\\xbf&\\x9f\\x85i^VTt\\\\y\\x89\\xf3\\x15\\x1e\\x9bry\\x18\\xa0\"\\x994V\\x90\\xc5\\x0c\\x9es~\\xf8\\xb6\\xe6EPpx\\xeerH\\xac\\xe6\\xb3\\x10K9\\x92]\\xab \\x0b\\xb9\\xd4\\x9d\\x99\\xeb\\xf4\\xe3\\x8fQZ\\n.$\\x96(\\xed\\xce%\\x04\\xb8\\x05F\\x11~\\xbf\\xaf\\\\\\xf1Q\\xdf[\\xe6F\\x8aT\\x12\\xaa\\x15\\xdcI\\xc6q\\xcf\\x1c\\x8e\\xa6\\x82\\xba\\x18\\x17v\\x10\\xdc\\xca\\xc9p!\\xb7\\xc6\\xdf.L|\\xc8\\x17\\x90\\xbf1#\\xa7\\xd7\\xaf\\xad.\\x96\\x96\\xe8f\\x92\\x19\\xa5\\x9a\\xe2I|\\xd6\\x96m\\xa1\\xcf]\\xad\\x91\\xfc\\x03\\xb0\\xad\\xd5\\xb7\\xff\\x00Js!\\xb6\\xcb\\x00\\xe6u$\\xe4\\x109\\xe0\\x0c\\xf6\\xe6\\xa7\\x92\\xc1/$\\x8au`\\xc52\\xe7.@\\x04da\\xb1\\xc1\\xe7\\xb50Qe9-\\xd6h\\xa1\\x85\\x8c\\x92(]\\xccY\\xb3\\xbb=F\\x060\\x07|u\\xa9\\xa1i\\xdem\\xc8\\xb1\\xa2\\xc7\\x0e\\x04a\\x95cS\\xe8\\x14{\\x1f^*\\x03<\\x811l\\xc8&\\x00\\xae\\xfc\\x023\\x9e[\\x07\\xb7\\x1d*\\xe2\\xc4\\xa2v\\x94\\xaa)\\x91\\x00%p\\x00$t\\xc7L\\xe7\\xd8R\\x1e\\xbb\\x99\\xefl-\\xedwF\\xa5 \\x1c\\xba\\x07V\\x00\\x93\\x86\\x19\\xcf\\xd3\\xf0\\xf7\\xab\\xb67\\x11\\xcdr`Q+F\\x87\\xe6\\x8c\\xa8_\\x98\\x8d\\xc3-\\xef\\x9e\\x94\\xeb\\x96Y\\xad\\xe3\\x8a8\\xc1r\\x8b\\x95\\x0c\\xaa\\x1c\\x8e\\xdcv\\xefO\\xb1\\xdd\\x0b$[\\xe2.\\xaf\\x97\\x90\\xb1D\\x88\\x0eGc\\xcfN\\x9f\\xd6\\x8d\\xca\\x8e\\xb2\\xb1$\\x17_i\\xb3\\x9a\\xcf\\xed\\x11\\xc4\\xeaLi\\xb7\\x90[\\xa9F\\xceJ\\x9exo\\xd2\\xb3\\xe3\\xba\\xba\\x86\\x19$kww\\x80\\xb4\\'jcq\\xce:`\\xf1\\x9f\\xeb\\xebSk\\x91\\xa4\\x97\\xea\\xd9\\x8e$Em\\x9b[\\x1f;`\\x93\\x91\\xc7#\\xbf8\\x1e\\xf5=\\xad\\xb2,\\xca\\x972D\\xd3\\xab|\\x92\\xc6\\xc7 \\x15\\xc1\\x00\\x9fo\\xc6\\x8bw\\t\\xd3\\xb1\\x05\\xbc\\xd15\\xaa\\xcfsh\\x92\\x90v\\xf3\\x1a\\xb6\\xf2\\xbdv\\x83\\xd0\\x83U\\xee\\'\\xbe\\xbc\\x9a&\\xb7\\x95\\xe2\\xb5\\x00\\xb3 \\xe0(\\x07\\xa61\\xc9?_Z#\\xb3\\x92\\xd2\\xef\\xcc\\xf2Fe>c\\xc8\\xab\\x9cz\\x01\\x9f^\\xe4g\\xebW<\\x89!\\x8a[\\x89N\\xc5\\xda\\x1b\\xca_\\x9fo\\x1f\\xcf\\'\\xe9\\xd2\\x95\\xacg\\xcbgaf\\x8d\\xee\\xd2h\\xe3\\xdbj\\x1b\\xcb\\xdb\\xf2\\xf0@\\xe0\\xfb\\x81\\x8fz\\x85\\xe5\\xb63\\xca\\xd37\\x98\\x16L\\x02\\x13k0\\xec\\xa0\\x81\\xc7\\xd4\\xd4ksq2\\x08\\x8c\\xce\\x1bf^0\\x0bn\\xc6\\x17\\x8c\\x0e\\xb9\\xef\\x8ahH>\\xd0\\xb0\\x94\\x91d\\x8d\\x19\\xcf\\x989\\\\q\\x9fc\\x91\\x8fQ\\xf5\\xa5m5\\x14\\xbb\\x1az\\xdd\\xec\\xd2\\x9bo\"\\xd1\\xa4\\x89\\xadU\\xdcFp#fb\\xaa\\xaa3\\xc9\\xe3\\xff\\x00\\xafYV6\\xef-\\xc8bf\\x05\\xb0\\xb8W8\\xfc\\xc7S\\xc5X\\xb3\\x9c\\xcbo\\x03=\\xbc\\xfbB\\x0c\\xc7\\x16O\\xca\\t\\xf5\\xeb\\xf4#\\xbd/\\xda\\x94\\x0b\\x96E\\xc0\\xdf\\xf3\\x0c\\xe0\\x1c\\x9c\\x80\\x07\\x1d28\\x15LvV\\xd4%\\x825c\\x12\\x87\\x0c\\xe4.\\xe08,y#\\xaf\\x07\\x8a\\x92I>\\xc5\\tS\\x1f\\xee\\x90)}\\xe3\\x19\\x1d\\x00\\x1f\\x95.\\xcb\\x81\\xb2_+\\x9d\\xc3\\x0c\\xe4mQ\\xeaG\\xf2\\xa8\\x9d\\xe3y\\x9a\\xd2{\\xa6y\\x06\\x1bo\\xca2\\t\\xc0\\x03\\xb7\\xb0\\xc5+\\xb0\\xf43\\x1f\\xedn\\xc6K{d\\x929>`\\xeb\"\\x059\\xf4\\xcf\\'\\xebEm\\xc6\\xfax\\x0c\\x91$\\xbf#2\\xb0\\x1f.\\x08<\\xf7\\xa2\\x8b>\\xc3\\xe4^F.\\x9eN\\xf9\\xbc\\xb8\\xe3\\r#\\x04G\\xeaF\\x06Y\\xb8\\x07\\x8f\\xc8R5\\xab%\\xc1\\x92\\xdaT{\\x85p\\xee\\xfeYv\\xce8\\xc7\\xb6?\\x13\\xedL\\xb1\\x16\\xee\\xae\\xa6\\x0e\\x03H\\x0f\\xceF\\xed\\x83\\x8c\\xe3\\x19\\xfaT:U\\xd3\\\\y\\xf7\\xd1\\xa2\\xc4H$\\xc4r\\xc8\\xdbP\\x1f\\x98\\x1e\\xbf\\xa54\\x88\\x8d\\xb7/\\xe9\\xa6\\xed#\\x9bd%\\xa6\\x95\\x9eT9P\\x10\\xe7\\x00\\xff\\x00\\x93\\xebO\\x13[C\\x14\\x82i\\xa5\\xf3b\\xda\\x7fy\\xf2\\xc6\\x19\\xb8\\x198\\xe7\\xf3\\xa8~\\xd9=\\xc4Q\\\\\\xb4\\xad\\x8b\\x82C!9\\x01\\x87$\\x8f@zc\\xb5dM\\xa9\\x96\\xb0{\\xa7\\x81\\x1d\\xbe\\xd4\\xd1\"\\xb7!N\\x0f\\xcd\\xf9/Ozv-\\xc8\\xdf\\xb9\\xb7\\xb8[YT\\xc7\\x1eH\\xcc\\x04d\\xe1\\xf3\\xc9\\xfaU9f\\x11H\\xab,\\xe9#\\xc8\\xd9?/\\xde\\x00s\\x9e\\xdf\\x80=*M:\\xfe{\\xcbX\\xdav\\xdcb%@\\x04\\xe0\\xf03\\xc1\\xcf\\xaf\\xff\\x00\\xae\\xa6\\xb3\\xb6\\x17\\xfa\\xaa\\xcc\\xf2H\\x90\\xfd\\x99\\x94@\\xacv\\x8c0\\x19\\xfc@\\xa2\\xfd\\xc5d\\xda\\xb0\\xb2D\\xc2\\xca\\xdf\\xed(\\xad\\x14\\xca\\xaa\\xdf0\\xf9\\x9b\\xaf>\\x83\\xf9~\\x15eo\\xa1\\x9dmT\\xc3\\xe5Ei*\\x8f207\\x1c\\x03\\xd3?.\\x07\\\\\\xf4\\xfdkD\\x04\\xb8\\x83|\\x90\\xc6\\xca\\xbb#\\n\\xc0\\xf2X\\x12X\\xfb\\xe0b\\xb2$\\x89F\\xa3\\xf6iU%EE*Yy\\x1b\\x86H\\xfaQ\\xe6W2\\x8a\\xe6]GZ\\x03{,W0\\xddF\\xf1L\\x04\\xb3H\\xc8T\\x93\\xbb \\xe7\\xb7a\\xef\\xcfj\\x96I\\xd2\\'\\x98\\xc6L0n\\xf2\\xca\\x83\\x9d\\xd8\\x003\\x1fV?\\x90\\x1d*\\x8d\\xdb\\xbc\\x1a\\xc9\\xb6\\x89\\xb6@\\xb6M0P:m`\\x00\\x1e\\x9d\\xff\\x00:\\x8ei\\xc7\\xd9U\\x88i$R\\xa8ZV\\xdc\\x08=p01\\xfes\\x9a,O\\xb4v\\xb1j[\\xef*x\\x14D\\x93\\x88\\xd0mH\\xc9\\xdc\\xdb9\\xc9\\xf5\\'\\xda\\x8b\\xfb\\xbb\\x89\\xb5\\x08\\x84EQ\\'\\x1el\\xa4\\x1f\\x9bi\\xf5$`\\x0fn*(\\xa3\\x8a;\\xe8\\xac\\xd22\\x14F_ql\\xf3\\x9f\\xd3\\xff\\x00\\xadPM/\\x9bs\\xbc(Y|\\xc2\\x8d \\'\\'\\xe5\\xdd\\xf9{PG3\\x89\\xa2\\x9a<\\x7f\\xd9p[\\x06\\x8ew2\\xb1ws\\x86\\xdb\\xd9Ppp\\x0e?.\\xb5B\\x1d\\x10\\xc7wp\\xd1FT\\xcaQ6\\xae\\n\\xaa\\x8e\\xacO\\x04t\\xfc\\xa9\\xf2\\xea2\\xc7\\x10\\xb99i$\\xd87\\x16$\\x8e\\xddOj\\xd3\\x9c\\xbf\\xdam\\xe2f\\xca<{\\xd8c\\x00\\x93\\x9f\\xf0\\xefN\\xe5\\xa9\\xdd]\\x11]\\xdc\\x0b[v\\x99\\x0b\\x85\\x0f\\x81\\x12\\x1eX\\x9e\\x00\\x1d\\xbb\\xf1P\\xca\\x1b\\xfb>{xb\\xb6X\\xc9\\xc4\\xca\\x9dCc\\xf8\\xb2{q\\xcf\\xd4\\xf1Kt\\xad\\x0cO\\x97-\\x85\\xc9#\\nz\\xf5\\x18\\xe8q\\xc6k\\x9d\\xbb\\xbb\\x9fN\\xd6\\x85\\x80)\"nVm\\xc8\\x02\\xb0\\x00ap;g\\x1d\\xfbw\\xa4\\xb5&3\\xd4\\xcb\\xd6t;\\x89\\x0b+\\xfd\\x96[\\x99\\x82mR\\xe5I\\xf7P01\\x8cg?Z\\xe2\\xee\\xb1m\\x11\\x80\\x05\\x0c[-\\xb7\\xf9W\\xa4kz\\xa4\\x9eW\\xda\\xde4wI\\x1c\\x00s\\x82H8\\'\\xe9\\xd8W\\x97]\\xb3=\\xd4\\xa5\\xd8\\xb3\\x16\\xc9c\\xdc\\xd7]\\x16\\xde\\xe6\\x8d\\xf4\"\\x07q\\xab\\xf6\\x87to\\x18\\x00\\xb3t\\xcf\\xadP\\x8f\\xfd`\\x1e\\xf5\\xa5\\x1c%.QRF^\\xf9\\x15\\xabb*\\xcae\\x12\\x04\\x95\\x837\\x1d\\x0ep\\rni\\x9e\\x19\\xbb\\xbc\\xd5\\xc5\\xbd\\xc4m\\x0c82\\x17$|\\xca:\\x01\\xe9\\x9e\\x99\\xa9\\xf4-\\x12\\x1b\\x8db\\xccN\\xdb\\xc4\\x92o\\x00\\xaf\\x1f)\\xce\\x0f\\xa8?\\x85w\\xbe\\\\\\x0b\\xa8\\xceZ\"\\xcd7\\xce~l\\x00\\x19\\x80\\xda\\x07\\xa7\\xca+\\t\\xd4\\xb6\\x88Z\\x16\\xf4\\x8bk{->}6X$\\xc2\\xba\\xb5\\xb2\\x00\\x08\\x8bop=y?1\\xebU\\xeed\\x1f\\xe9S\\xb2\\x8c\\xed;\\x90\\xb6\\xe2[\\xfa\\x9flU\\xd7b!\\x9e\\xed\\x89we(U\\xbapF8\\xac\\xcb\\x9b\\xc3\\xa7X\\t\\x164u\\x96V\\xdc\\x08\\x00\\x90[\\x18\\xc8\\xef\\xef\\\\\\xafQ\\xb3\\xa3\\xb2u\\x8bGV\\x9e-\\x92\\xb2\\xb0\\xf2\\xd7\\x968l\\xfc\\xa3\\xae}\\xfaTQ\\x18\\xeeZ\\xf2g\\x07\\xec\\xb1\\xa0bJ\\xe0\\xbe\\x01$s\\xc8\\xe3\\xbf_\\xa5O\\x04\\x02( \\xb9\\x044\\xf2\\xc8\"Wa\\x9d\\x80\\x1f\\xd4g\\x9c{w\\xac\\x9b\\x9b\\xe7\\x92\\x1dB\\x02\\x0e\\x1ahc$\\x9eN\\xe2A&\\xa7\\xa5\\xc6\\xdf1\\xa4\\xd7\\xbfh\\xd3\\xad\\xdaHb\\xf2\\t\\xdb\\x15\\xaa&#\\x19\\xe1}\\xcf\\xae*\\x8d\\xb4\\xf1\\x12\\x91\\x92Q\\xb6\\x96\\xc8\\x01ps\\x8cc\\x1d\\xc7o\\xce\\xa4\\xd7nSI\\x9d,\\xa1\\x84\\x14\\x89\\x920I\\xfe\\xf0>\\xdcU\\xe8t\\xbb\\x18\\xb4\\x8b\\xbdE\\xad\\x97\\xcd\\x8a\\xdf\\xce\\xfd\\xd1)\\x923\\x8c\\xf2zc\\xaf\\xbd;>\\xa4\\xdd\\xb5tQ\\xfbw\\x99\"Z\\x85\\x0b\\x17\\xdem\\xa46X\\xf6c\\xf9t\\x18\\xa9\\x1aX\\xaea[x\\xbc\\xa5s\\xc6\\xf01\\xb8\\x0e\\xa3\\x81\\x8cVb\\xc2\\x92[\\xc3t\\xe32\\x12T\\xe3\\x8c\\x93\\xdf\\x8f\\xa9\\xe2\\xa4\\x9dD\\xd1\\x80\\x98\\x8eH_\\x86\\x03\\x83\\xc7<})\\\\.\\xd2E\\xd6a,\\xd2\\xcf\\x13\\xbc\\x90\\x03\\xb5`\\\\`\\x11\\xd0g\\x19<c\\xd8{\\xd4w\\t\\x0c\\xf7\\x0e\\xc1rDJ%\\x91\\x17q\\xce9\\x19\\x1e\\x86\\x968\\x9aK\\xf8\\xe0\\x0c\\x02\\xc3\\x14\\x92\\x93\\xb7\\xef\\xb8\\xc0\\x07\\x03\\x03\\x1c\\xf4\\xf6\\xaa\\xe6y\\x0bG\\x136Zwf/\\xd0\\x8c`\\x7fS\\xd7\\xd6\\x84\\xb5\\x1c\\x9b\\xea4jq\\xc2\\xb1Kr\\xf2Ch\\x80F#\\x07.\\xd8\\\\\\x81\\x81\\xd6\\xb4g\\xb9f\\x8e\\x19U$Hq\\xe7\\x17`7*\\x95\\xce\\x0fq\\x8e?:\\xcftQ.\\xf2\\x01X\\xc3\\x1d\\x84pp\\xa7\\x8fn\\x06*]RY\\x16\\xd2\\x19\\xd6G\\x0f3\\xa8\\'=\\x01\\x03\\x8f\\xc3>\\xd4\\xc5\\xabDsG\\x01\\xf9\\x16\\xeeI\\xdc\\x00\\xb9Q\\x92\\xa5\\xb9\\xef\\xc0\\x03<\\x8a\\x96Kh\\xd4\\xdaC,\\xcb\\xc7\\xcaq\\x1e\\xe2}\\x0er1\\xc6y\\xc5/\\xd9\\xdf\\xec\\x91\\xf9S\\xbc@D\\xdbTt\\x1b\\x1b\\x1c\\x8e\\x84\\x92y=i\\xf3\\xb0\\x81\\xe3D\\xdc7(\\xdcw}\\xe2\\xc7\\x04\\x9f\\x7f\\xfe\\xb5\\x05&U\\x13\\xa2\\xc4<\\xf2\\xf1\\xbc\\x8cdRS$\\xf3\\x81\\xd3\\xafn\\xd5m]\\x82\\x92\\xec6l\\xfe\\xf6\\x02\\xfe8\\xe2\\xa2\\xbe\\x02\\xe1\\n\\xb9u\\xc6\\xd0\\x04m\\xb4\\x05\\x07\\x00c\\xd3\\xf9\\xf7\\xa8\\xa5\\x83|Q\\x12\\xd9\\xf3\\x1cd\\x11\\xc0\\x1d\\xc7\\x1fJ\\x11\\x12ilKwv\\x8c\\xc8\\xca!Ixfv9*\\x07\\x1c\\x1e\\xed\\xdb\\x91\\xebU\\xed\\xe5\\x92\\x19\\x97\\xcah\\xe4\\x89Ads\\x80\\xe1\\xf9\\xce@\\xc6=\\x8dZ\\xd4U\\x19\\x9dB(M\\xc1Uq\\xc2\\x81\\x81\\xc5U\\x9b\\xe5X\\xe0\\xe0\\x86\\x1c\\x92=:S\\xd1\\x03\\x93\\xbd\\x89\\xa6\\xb7\\x96i\\x8a\\x8f\\x90\"\\xee\\x91\\xc3\\x10\\xee\\xc0\\x8e28\\xef\\xda\\xa6\\x9b\\xcc\\x9an\\x18\\x04\\xce\\xe6$\\x9e03\\xfc\\xeae\\xfd\\xd2\\x14\\x19 \\xaa\\xbad\\xf2\\xbe\\xbc\\xf55QY\\xaf\\x0c/#\\xb0\\xe1\\xb2\\x14\\x8e}\\x07\\xd2\\x93\\x15\\xef\\xb0\\xe4\\xd4Rx\\x9e8\\xd5\\x12V\\xda\\xa8]p3\\x9c\\xe7\\x07\\x9c\\xfe\\x9d) y\\xa4\\xd4\\xe2\\xb9\\x86Q\\xb4\\xfe\\xed\\n\\xf0W\\x19\\xc9\\'\\x1e\\xdf\\x8dKcj\\x9eS\"*\\xa1\\x8ar\\xb1\\xb6\\xd0J\\xe0\\xe3?\\x97\\xd2\\xa7\\xb2\\xc83\\xba\\xfc\\xb2y\\xad\\x1a\\xb0\\xec\\x00\\x1f\\xe3M\\xecR\\x95\\xb7,}\\x95\\xaeB\\xcd\\x0e\\xe2\\xb9\\xf9\\xd9s\\xf7\\xc7;\\x81\\'\\xd2\\x9e\\xf6\\xc9y#\\xc8\\xe8[\\xee\\x97P9V\\x03\\x8c{\\xfb\\xd4m3\\x95bI$}\\xdc\\xe0\\x85\\xcf\\\\qP\\xa5\\xdc\\xb6\\x10:\\x07y\\tL\\xefr7\\x0c\\x8088\\xf7\\xa5sD\\xd3v4\\xed\\xc2\\xc5 \\x9bi\\xdcc2&K\\x1eN:\\x8f\\xeb\\x8cT[\\xf3y4B4@\\x87\\xcd\\xca\\xf09\\xe1\\xc8\\xcfN\\x9dj\\x9a\\x15\\x9b\\x96\\r\\x86\\x8f-\\xf3\\x9c\\xb6:sU.\\xed\\xa0Cm W-\"+6[\\xd0\\xe0\\x01\\xdf\\xf3\\xcd=\\xc7&M*C(1FdEv*\\x1f\\'\\x96\\xc1\\xfaey\\xfe\\xb5L\\x87\\xb6\\x9e\\xd7\\xe4yC.\\t`6\\x87<\\x02{\\x0e\\xff\\x00\\xd6\\xb4a\\xf2\\xe419\\x8cn\\x88\\xee\\x19\\xe7$t\\xa6\\xdb\\\\n\\x96\\xee/*5H\\xce\\xe0\\x00\\xe4\\x92\\t\\xe6\\x8bj%+\\xadJ\\xf773\\tU\\xfc\\xe8\\xd4\\xab\\x8cI\\x8e\\xbcch\\x00`\\x8cw\\x14\\xd2#\\x11\\xe7\\xcd\\x9bk\\x95S\\x93\\x82\\xfd\\xf3\\xc5U\\xb6+5\\xea\\xe5\\x06\\x128\\xddyn\\xa4\\x1f|\\x11\\xf8V\\x85\\xca\\x15;\\x98\\xee\\xc1\\xe4\\x8c\\xa9?)8\\xc8\\xed\\xedG@J\\xfa\\x8d\\xb5\\x86\\x15\\xbc*\\xfek\\xdd\\xc8Ce\\x99\\x8fC\\xc2\\x9c\\xf1\\xce?J\\x8aK\\xa7m]d|e\\x18\\xb3\\x85lnc\\xc61\\xec;\\xd6r\\xcf$\\x1a|\\xd2+|\\xec\\xa0\\xe7\\x9e\\x06\\t\\xc0\\x1d\\xbe\\xb5vm\\xc9i\\x0b\\x19\\x18\\xb1\\x8c)a\\xc1\\xe9\\x93\\xcf\\xbd\\x1a\\xb0\\x93\\x95\\xac\\xcbk\\x7f\\xc5\\xb2I\\n\\xb4rD\\xd1\\x86\\xd8N\\xc9\\x15\\xba\\xaeO\\x19\\x1f\\xca\\xb2\\xef\\xe6\\x80\\x98\\xaf\\t\\x9eX\\x1d\\xf7\\xb0\\x8c\\xe7s\\xaf@\\xe4\\x8c\\x0c{c\\x9a\\xb0\\xd0+\\xd8F\\x1c\\x96\\x0c\\xbb\\x9b?\\xc5\\xcfz\\x9e\\xc6\\xc6\\xd9\\xdd\\xdd\\xe2\\xdc!\\xc1+\\x92\\x15\\xd8\\x0e\\t\\x03\\xd2\\x8f6g\\xcd}\\x8c\\xfc\\xdc\\x05k\\xb8\\x0b\\xc9\\x14\\xfbv\\x04c\\xb9B\\xf1\\x83\\x83\\x9f\\xd6\\x9e\\x97F+9\\x16;T[\\x89_\\x11\\xa0r\\xcar2_$g\\x1f\\xd6\\x9e\\xcf\\x1f\\xee-\\x84e\\t\\x89\\xe6i\\x11\\xb0I\\'\\xa79\\xc0\\xc6\\x07\\xe1K\\x16\\x9b\\x14\\xa4\\xde\\xb3\\xb9\\x91\\xe4)\\xce8\\n\\xb9\\xc0\\xe3\\xa1\\xa9lK]\\x8b\\t\\xb6\\xdc,\\xee\\xe6K\\x99\\xce\\xd4h\\x9f\\xe5\\x8e09\\n:\\x02O~\\xb4\\x89 \\x82\\xd6\\xe2\\xe5\\xc3Al\\x8d\\xcc\\xb2s\\xb8\\xfa\\x01\\xeb\\x81\\xcfn\\xf4\\xbe\\x1f\\xb7I\\xf43\\xad\\xdff\\xe6\\xe1\\x1fb!%Tdc\\xa0\\xed\\x8e\\xc3\\x02\\xb3%\\x8eMb\\xe0\\\\\\xddN\\xc7\\xf7RyP\\x80<\\xb8\\xd5z\\x0cc\\x9c\\xf7=O\\xb5W@\\xb3f\\x94\\x97\\x0fyj\\xbe\\\\\\xbeP\\x98c1\\xf2pG\\x1bq\\x8d\\xbfSS\\xab\\x8f\\xb3\\xb0\\x8er\\x93l\\x1f+\\x0eX\\x81\\x80s\\xeb\\xd6\\xaaGm\\xb9-\\xfe`\\xa4*\\xaam\\x07j\\x0e\\xbc\\x02O>\\xf5b\\x19V\\xd6\\xd07\\x96\\x1c\\xc8\\x1b\\'\\x80x>\\xb8\\xf4\\xa3\\xad\\x826l\\xa6\\xe3q\\x05\\x9aP\\xe7\\xef\\x9e\\tc\\x9e\\xa4\\x922h\\xa6\\xb11\\x90\\x018*\\xac\\x00$c \\x1c{\\xd1OP\\xe5?\\xff\\xd9',\n",
              "  'path': None}}"
            ]
          },
          "metadata": {},
          "execution_count": 34
        }
      ],
      "source": [
        "dataset['train'][0]"
      ]
    },
    {
      "cell_type": "markdown",
      "id": "6ce7b298-d4c2-4193-bad2-6458fce390a1",
      "metadata": {
        "id": "6ce7b298-d4c2-4193-bad2-6458fce390a1"
      },
      "source": [
        "Now, let's examine a selection of images along with their corresponding labels.\n",
        "\n",
        "\n",
        "\n",
        "\n",
        "\n",
        "\n"
      ]
    },
    {
      "cell_type": "code",
      "execution_count": 44,
      "id": "e86a2406-40fd-4cbb-9350-465d2b7f2291",
      "metadata": {
        "colab": {
          "base_uri": "https://localhost:8080/",
          "height": 1000
        },
        "id": "e86a2406-40fd-4cbb-9350-465d2b7f2291",
        "outputId": "bd10f53b-7b93-445a-8351-dd82cd5843b9"
      },
      "outputs": [
        {
          "output_type": "error",
          "ename": "ValueError",
          "evalue": "Invalid image type. Expected either PIL.Image.Image, numpy.ndarray, torch.Tensor, tf.Tensor or jax.ndarray, but got <class 'list'>.",
          "traceback": [
            "\u001b[0;31m---------------------------------------------------------------------------\u001b[0m",
            "\u001b[0;31mValueError\u001b[0m                                Traceback (most recent call last)",
            "\u001b[0;32m<ipython-input-44-83fc935ce40f>\u001b[0m in \u001b[0;36m<cell line: 0>\u001b[0;34m()\u001b[0m\n\u001b[1;32m      8\u001b[0m         \u001b[0maxs\u001b[0m\u001b[0;34m[\u001b[0m\u001b[0mi\u001b[0m \u001b[0;34m//\u001b[0m \u001b[0;36m3\u001b[0m\u001b[0;34m]\u001b[0m\u001b[0;34m[\u001b[0m\u001b[0mi\u001b[0m \u001b[0;34m%\u001b[0m \u001b[0;36m3\u001b[0m\u001b[0;34m]\u001b[0m\u001b[0;34m.\u001b[0m\u001b[0mset_title\u001b[0m\u001b[0;34m(\u001b[0m\u001b[0mds\u001b[0m\u001b[0;34m[\u001b[0m\u001b[0mi\u001b[0m\u001b[0;34m]\u001b[0m\u001b[0;34m[\u001b[0m\u001b[0;34m'label'\u001b[0m\u001b[0;34m]\u001b[0m\u001b[0;34m)\u001b[0m\u001b[0;34m\u001b[0m\u001b[0;34m\u001b[0m\u001b[0m\n\u001b[1;32m      9\u001b[0m \u001b[0;34m\u001b[0m\u001b[0m\n\u001b[0;32m---> 10\u001b[0;31m \u001b[0mshow_images\u001b[0m\u001b[0;34m(\u001b[0m\u001b[0mdataset\u001b[0m\u001b[0;34m[\u001b[0m\u001b[0;34m'train'\u001b[0m\u001b[0;34m]\u001b[0m\u001b[0;34m)\u001b[0m\u001b[0;34m\u001b[0m\u001b[0;34m\u001b[0m\u001b[0m\n\u001b[0m",
            "\u001b[0;32m<ipython-input-44-83fc935ce40f>\u001b[0m in \u001b[0;36mshow_images\u001b[0;34m(ds)\u001b[0m\n\u001b[1;32m      2\u001b[0m     \u001b[0mfig\u001b[0m\u001b[0;34m,\u001b[0m \u001b[0maxs\u001b[0m \u001b[0;34m=\u001b[0m \u001b[0mplt\u001b[0m\u001b[0;34m.\u001b[0m\u001b[0msubplots\u001b[0m\u001b[0;34m(\u001b[0m\u001b[0;36m3\u001b[0m\u001b[0;34m,\u001b[0m \u001b[0;36m3\u001b[0m\u001b[0;34m,\u001b[0m \u001b[0mfigsize\u001b[0m\u001b[0;34m=\u001b[0m\u001b[0;34m(\u001b[0m\u001b[0;36m13\u001b[0m\u001b[0;34m,\u001b[0m \u001b[0;36m13\u001b[0m\u001b[0;34m)\u001b[0m\u001b[0;34m)\u001b[0m\u001b[0;34m\u001b[0m\u001b[0;34m\u001b[0m\u001b[0m\n\u001b[1;32m      3\u001b[0m     \u001b[0;32mfor\u001b[0m \u001b[0mi\u001b[0m \u001b[0;32min\u001b[0m \u001b[0mrange\u001b[0m\u001b[0;34m(\u001b[0m\u001b[0;36m9\u001b[0m\u001b[0;34m)\u001b[0m\u001b[0;34m:\u001b[0m\u001b[0;34m\u001b[0m\u001b[0;34m\u001b[0m\u001b[0m\n\u001b[0;32m----> 4\u001b[0;31m         \u001b[0mfp\u001b[0m \u001b[0;34m=\u001b[0m \u001b[0mio\u001b[0m\u001b[0;34m.\u001b[0m\u001b[0mBytesIO\u001b[0m\u001b[0;34m(\u001b[0m\u001b[0mds\u001b[0m\u001b[0;34m[\u001b[0m\u001b[0mi\u001b[0m\u001b[0;34m]\u001b[0m\u001b[0;34m[\u001b[0m\u001b[0;34m'image'\u001b[0m\u001b[0;34m]\u001b[0m\u001b[0;34m[\u001b[0m\u001b[0;34m'bytes'\u001b[0m\u001b[0;34m]\u001b[0m\u001b[0;34m)\u001b[0m\u001b[0;34m\u001b[0m\u001b[0;34m\u001b[0m\u001b[0m\n\u001b[0m\u001b[1;32m      5\u001b[0m         \u001b[0;32mwith\u001b[0m \u001b[0mfp\u001b[0m\u001b[0;34m:\u001b[0m\u001b[0;34m\u001b[0m\u001b[0;34m\u001b[0m\u001b[0m\n\u001b[1;32m      6\u001b[0m             \u001b[0mimg\u001b[0m \u001b[0;34m=\u001b[0m \u001b[0mmpimg\u001b[0m\u001b[0;34m.\u001b[0m\u001b[0mimread\u001b[0m\u001b[0;34m(\u001b[0m\u001b[0mfp\u001b[0m\u001b[0;34m,\u001b[0m \u001b[0mformat\u001b[0m\u001b[0;34m=\u001b[0m\u001b[0;34m'jpeg'\u001b[0m\u001b[0;34m)\u001b[0m\u001b[0;34m\u001b[0m\u001b[0;34m\u001b[0m\u001b[0m\n",
            "\u001b[0;32m/usr/local/lib/python3.11/dist-packages/datasets/arrow_dataset.py\u001b[0m in \u001b[0;36m__getitem__\u001b[0;34m(self, key)\u001b[0m\n\u001b[1;32m   2780\u001b[0m     \u001b[0;32mdef\u001b[0m \u001b[0m__getitem__\u001b[0m\u001b[0;34m(\u001b[0m\u001b[0mself\u001b[0m\u001b[0;34m,\u001b[0m \u001b[0mkey\u001b[0m\u001b[0;34m)\u001b[0m\u001b[0;34m:\u001b[0m  \u001b[0;31m# noqa: F811\u001b[0m\u001b[0;34m\u001b[0m\u001b[0;34m\u001b[0m\u001b[0m\n\u001b[1;32m   2781\u001b[0m         \u001b[0;34m\"\"\"Can be used to index columns (by string names) or rows (by integer index or iterable of indices or bools).\"\"\"\u001b[0m\u001b[0;34m\u001b[0m\u001b[0;34m\u001b[0m\u001b[0m\n\u001b[0;32m-> 2782\u001b[0;31m         \u001b[0;32mreturn\u001b[0m \u001b[0mself\u001b[0m\u001b[0;34m.\u001b[0m\u001b[0m_getitem\u001b[0m\u001b[0;34m(\u001b[0m\u001b[0mkey\u001b[0m\u001b[0;34m)\u001b[0m\u001b[0;34m\u001b[0m\u001b[0;34m\u001b[0m\u001b[0m\n\u001b[0m\u001b[1;32m   2783\u001b[0m \u001b[0;34m\u001b[0m\u001b[0m\n\u001b[1;32m   2784\u001b[0m     \u001b[0;32mdef\u001b[0m \u001b[0m__getitems__\u001b[0m\u001b[0;34m(\u001b[0m\u001b[0mself\u001b[0m\u001b[0;34m,\u001b[0m \u001b[0mkeys\u001b[0m\u001b[0;34m:\u001b[0m \u001b[0mList\u001b[0m\u001b[0;34m)\u001b[0m \u001b[0;34m->\u001b[0m \u001b[0mList\u001b[0m\u001b[0;34m:\u001b[0m\u001b[0;34m\u001b[0m\u001b[0;34m\u001b[0m\u001b[0m\n",
            "\u001b[0;32m/usr/local/lib/python3.11/dist-packages/datasets/arrow_dataset.py\u001b[0m in \u001b[0;36m_getitem\u001b[0;34m(self, key, **kwargs)\u001b[0m\n\u001b[1;32m   2765\u001b[0m         \u001b[0mformatter\u001b[0m \u001b[0;34m=\u001b[0m \u001b[0mget_formatter\u001b[0m\u001b[0;34m(\u001b[0m\u001b[0mformat_type\u001b[0m\u001b[0;34m,\u001b[0m \u001b[0mfeatures\u001b[0m\u001b[0;34m=\u001b[0m\u001b[0mself\u001b[0m\u001b[0;34m.\u001b[0m\u001b[0m_info\u001b[0m\u001b[0;34m.\u001b[0m\u001b[0mfeatures\u001b[0m\u001b[0;34m,\u001b[0m \u001b[0;34m**\u001b[0m\u001b[0mformat_kwargs\u001b[0m\u001b[0;34m)\u001b[0m\u001b[0;34m\u001b[0m\u001b[0;34m\u001b[0m\u001b[0m\n\u001b[1;32m   2766\u001b[0m         \u001b[0mpa_subtable\u001b[0m \u001b[0;34m=\u001b[0m \u001b[0mquery_table\u001b[0m\u001b[0;34m(\u001b[0m\u001b[0mself\u001b[0m\u001b[0;34m.\u001b[0m\u001b[0m_data\u001b[0m\u001b[0;34m,\u001b[0m \u001b[0mkey\u001b[0m\u001b[0;34m,\u001b[0m \u001b[0mindices\u001b[0m\u001b[0;34m=\u001b[0m\u001b[0mself\u001b[0m\u001b[0;34m.\u001b[0m\u001b[0m_indices\u001b[0m\u001b[0;34m)\u001b[0m\u001b[0;34m\u001b[0m\u001b[0;34m\u001b[0m\u001b[0m\n\u001b[0;32m-> 2767\u001b[0;31m         formatted_output = format_table(\n\u001b[0m\u001b[1;32m   2768\u001b[0m             \u001b[0mpa_subtable\u001b[0m\u001b[0;34m,\u001b[0m \u001b[0mkey\u001b[0m\u001b[0;34m,\u001b[0m \u001b[0mformatter\u001b[0m\u001b[0;34m=\u001b[0m\u001b[0mformatter\u001b[0m\u001b[0;34m,\u001b[0m \u001b[0mformat_columns\u001b[0m\u001b[0;34m=\u001b[0m\u001b[0mformat_columns\u001b[0m\u001b[0;34m,\u001b[0m \u001b[0moutput_all_columns\u001b[0m\u001b[0;34m=\u001b[0m\u001b[0moutput_all_columns\u001b[0m\u001b[0;34m\u001b[0m\u001b[0;34m\u001b[0m\u001b[0m\n\u001b[1;32m   2769\u001b[0m         )\n",
            "\u001b[0;32m/usr/local/lib/python3.11/dist-packages/datasets/formatting/formatting.py\u001b[0m in \u001b[0;36mformat_table\u001b[0;34m(table, key, formatter, format_columns, output_all_columns)\u001b[0m\n\u001b[1;32m    656\u001b[0m     \u001b[0mpython_formatter\u001b[0m \u001b[0;34m=\u001b[0m \u001b[0mPythonFormatter\u001b[0m\u001b[0;34m(\u001b[0m\u001b[0mfeatures\u001b[0m\u001b[0;34m=\u001b[0m\u001b[0mformatter\u001b[0m\u001b[0;34m.\u001b[0m\u001b[0mfeatures\u001b[0m\u001b[0;34m)\u001b[0m\u001b[0;34m\u001b[0m\u001b[0;34m\u001b[0m\u001b[0m\n\u001b[1;32m    657\u001b[0m     \u001b[0;32mif\u001b[0m \u001b[0mformat_columns\u001b[0m \u001b[0;32mis\u001b[0m \u001b[0;32mNone\u001b[0m\u001b[0;34m:\u001b[0m\u001b[0;34m\u001b[0m\u001b[0;34m\u001b[0m\u001b[0m\n\u001b[0;32m--> 658\u001b[0;31m         \u001b[0;32mreturn\u001b[0m \u001b[0mformatter\u001b[0m\u001b[0;34m(\u001b[0m\u001b[0mpa_table\u001b[0m\u001b[0;34m,\u001b[0m \u001b[0mquery_type\u001b[0m\u001b[0;34m=\u001b[0m\u001b[0mquery_type\u001b[0m\u001b[0;34m)\u001b[0m\u001b[0;34m\u001b[0m\u001b[0;34m\u001b[0m\u001b[0m\n\u001b[0m\u001b[1;32m    659\u001b[0m     \u001b[0;32melif\u001b[0m \u001b[0mquery_type\u001b[0m \u001b[0;34m==\u001b[0m \u001b[0;34m\"column\"\u001b[0m\u001b[0;34m:\u001b[0m\u001b[0;34m\u001b[0m\u001b[0;34m\u001b[0m\u001b[0m\n\u001b[1;32m    660\u001b[0m         \u001b[0;32mif\u001b[0m \u001b[0mkey\u001b[0m \u001b[0;32min\u001b[0m \u001b[0mformat_columns\u001b[0m\u001b[0;34m:\u001b[0m\u001b[0;34m\u001b[0m\u001b[0;34m\u001b[0m\u001b[0m\n",
            "\u001b[0;32m/usr/local/lib/python3.11/dist-packages/datasets/formatting/formatting.py\u001b[0m in \u001b[0;36m__call__\u001b[0;34m(self, pa_table, query_type)\u001b[0m\n\u001b[1;32m    409\u001b[0m     \u001b[0;32mdef\u001b[0m \u001b[0m__call__\u001b[0m\u001b[0;34m(\u001b[0m\u001b[0mself\u001b[0m\u001b[0;34m,\u001b[0m \u001b[0mpa_table\u001b[0m\u001b[0;34m:\u001b[0m \u001b[0mpa\u001b[0m\u001b[0;34m.\u001b[0m\u001b[0mTable\u001b[0m\u001b[0;34m,\u001b[0m \u001b[0mquery_type\u001b[0m\u001b[0;34m:\u001b[0m \u001b[0mstr\u001b[0m\u001b[0;34m)\u001b[0m \u001b[0;34m->\u001b[0m \u001b[0mUnion\u001b[0m\u001b[0;34m[\u001b[0m\u001b[0mRowFormat\u001b[0m\u001b[0;34m,\u001b[0m \u001b[0mColumnFormat\u001b[0m\u001b[0;34m,\u001b[0m \u001b[0mBatchFormat\u001b[0m\u001b[0;34m]\u001b[0m\u001b[0;34m:\u001b[0m\u001b[0;34m\u001b[0m\u001b[0;34m\u001b[0m\u001b[0m\n\u001b[1;32m    410\u001b[0m         \u001b[0;32mif\u001b[0m \u001b[0mquery_type\u001b[0m \u001b[0;34m==\u001b[0m \u001b[0;34m\"row\"\u001b[0m\u001b[0;34m:\u001b[0m\u001b[0;34m\u001b[0m\u001b[0;34m\u001b[0m\u001b[0m\n\u001b[0;32m--> 411\u001b[0;31m             \u001b[0;32mreturn\u001b[0m \u001b[0mself\u001b[0m\u001b[0;34m.\u001b[0m\u001b[0mformat_row\u001b[0m\u001b[0;34m(\u001b[0m\u001b[0mpa_table\u001b[0m\u001b[0;34m)\u001b[0m\u001b[0;34m\u001b[0m\u001b[0;34m\u001b[0m\u001b[0m\n\u001b[0m\u001b[1;32m    412\u001b[0m         \u001b[0;32melif\u001b[0m \u001b[0mquery_type\u001b[0m \u001b[0;34m==\u001b[0m \u001b[0;34m\"column\"\u001b[0m\u001b[0;34m:\u001b[0m\u001b[0;34m\u001b[0m\u001b[0;34m\u001b[0m\u001b[0m\n\u001b[1;32m    413\u001b[0m             \u001b[0;32mreturn\u001b[0m \u001b[0mself\u001b[0m\u001b[0;34m.\u001b[0m\u001b[0mformat_column\u001b[0m\u001b[0;34m(\u001b[0m\u001b[0mpa_table\u001b[0m\u001b[0;34m)\u001b[0m\u001b[0;34m\u001b[0m\u001b[0;34m\u001b[0m\u001b[0m\n",
            "\u001b[0;32m/usr/local/lib/python3.11/dist-packages/datasets/formatting/formatting.py\u001b[0m in \u001b[0;36mformat_row\u001b[0;34m(self, pa_table)\u001b[0m\n\u001b[1;32m    509\u001b[0m \u001b[0;34m\u001b[0m\u001b[0m\n\u001b[1;32m    510\u001b[0m     \u001b[0;32mdef\u001b[0m \u001b[0mformat_row\u001b[0m\u001b[0;34m(\u001b[0m\u001b[0mself\u001b[0m\u001b[0;34m,\u001b[0m \u001b[0mpa_table\u001b[0m\u001b[0;34m:\u001b[0m \u001b[0mpa\u001b[0m\u001b[0;34m.\u001b[0m\u001b[0mTable\u001b[0m\u001b[0;34m)\u001b[0m \u001b[0;34m->\u001b[0m \u001b[0mdict\u001b[0m\u001b[0;34m:\u001b[0m\u001b[0;34m\u001b[0m\u001b[0;34m\u001b[0m\u001b[0m\n\u001b[0;32m--> 511\u001b[0;31m         \u001b[0mformatted_batch\u001b[0m \u001b[0;34m=\u001b[0m \u001b[0mself\u001b[0m\u001b[0;34m.\u001b[0m\u001b[0mformat_batch\u001b[0m\u001b[0;34m(\u001b[0m\u001b[0mpa_table\u001b[0m\u001b[0;34m)\u001b[0m\u001b[0;34m\u001b[0m\u001b[0;34m\u001b[0m\u001b[0m\n\u001b[0m\u001b[1;32m    512\u001b[0m         \u001b[0;32mtry\u001b[0m\u001b[0;34m:\u001b[0m\u001b[0;34m\u001b[0m\u001b[0;34m\u001b[0m\u001b[0m\n\u001b[1;32m    513\u001b[0m             \u001b[0;32mreturn\u001b[0m \u001b[0m_unnest\u001b[0m\u001b[0;34m(\u001b[0m\u001b[0mformatted_batch\u001b[0m\u001b[0;34m)\u001b[0m\u001b[0;34m\u001b[0m\u001b[0;34m\u001b[0m\u001b[0m\n",
            "\u001b[0;32m/usr/local/lib/python3.11/dist-packages/datasets/formatting/formatting.py\u001b[0m in \u001b[0;36mformat_batch\u001b[0;34m(self, pa_table)\u001b[0m\n\u001b[1;32m    539\u001b[0m         \u001b[0mbatch\u001b[0m \u001b[0;34m=\u001b[0m \u001b[0mself\u001b[0m\u001b[0;34m.\u001b[0m\u001b[0mpython_arrow_extractor\u001b[0m\u001b[0;34m(\u001b[0m\u001b[0;34m)\u001b[0m\u001b[0;34m.\u001b[0m\u001b[0mextract_batch\u001b[0m\u001b[0;34m(\u001b[0m\u001b[0mpa_table\u001b[0m\u001b[0;34m)\u001b[0m\u001b[0;34m\u001b[0m\u001b[0;34m\u001b[0m\u001b[0m\n\u001b[1;32m    540\u001b[0m         \u001b[0mbatch\u001b[0m \u001b[0;34m=\u001b[0m \u001b[0mself\u001b[0m\u001b[0;34m.\u001b[0m\u001b[0mpython_features_decoder\u001b[0m\u001b[0;34m.\u001b[0m\u001b[0mdecode_batch\u001b[0m\u001b[0;34m(\u001b[0m\u001b[0mbatch\u001b[0m\u001b[0;34m)\u001b[0m\u001b[0;34m\u001b[0m\u001b[0;34m\u001b[0m\u001b[0m\n\u001b[0;32m--> 541\u001b[0;31m         \u001b[0;32mreturn\u001b[0m \u001b[0mself\u001b[0m\u001b[0;34m.\u001b[0m\u001b[0mtransform\u001b[0m\u001b[0;34m(\u001b[0m\u001b[0mbatch\u001b[0m\u001b[0;34m)\u001b[0m\u001b[0;34m\u001b[0m\u001b[0;34m\u001b[0m\u001b[0m\n\u001b[0m\u001b[1;32m    542\u001b[0m \u001b[0;34m\u001b[0m\u001b[0m\n\u001b[1;32m    543\u001b[0m \u001b[0;34m\u001b[0m\u001b[0m\n",
            "\u001b[0;32m<ipython-input-28-2bc2ede75d35>\u001b[0m in \u001b[0;36mtransform_image\u001b[0;34m(items, image_processor)\u001b[0m\n\u001b[1;32m     31\u001b[0m         \u001b[0mdict\u001b[0m\u001b[0;34m[\u001b[0m\u001b[0mstr\u001b[0m\u001b[0;34m,\u001b[0m \u001b[0mAny\u001b[0m\u001b[0;34m]\u001b[0m\u001b[0;34m:\u001b[0m \u001b[0mtransformed\u001b[0m \u001b[0mitems\u001b[0m\u001b[0;34m\u001b[0m\u001b[0;34m\u001b[0m\u001b[0m\n\u001b[1;32m     32\u001b[0m     \"\"\"\n\u001b[0;32m---> 33\u001b[0;31m     \u001b[0moutput\u001b[0m \u001b[0;34m=\u001b[0m \u001b[0mimage_processor\u001b[0m\u001b[0;34m(\u001b[0m\u001b[0mitems\u001b[0m\u001b[0;34m[\u001b[0m\u001b[0;34m\"image\"\u001b[0m\u001b[0;34m]\u001b[0m\u001b[0;34m,\u001b[0m \u001b[0mreturn_tensors\u001b[0m\u001b[0;34m=\u001b[0m\u001b[0;34m\"pt\"\u001b[0m\u001b[0;34m)\u001b[0m\u001b[0;34m\u001b[0m\u001b[0;34m\u001b[0m\u001b[0m\n\u001b[0m\u001b[1;32m     34\u001b[0m     \u001b[0mitems\u001b[0m\u001b[0;34m[\u001b[0m\u001b[0;34m\"pixel_values\"\u001b[0m\u001b[0;34m]\u001b[0m \u001b[0;34m=\u001b[0m \u001b[0moutput\u001b[0m\u001b[0;34m[\u001b[0m\u001b[0;34m\"pixel_values\"\u001b[0m\u001b[0;34m]\u001b[0m\u001b[0;34m\u001b[0m\u001b[0;34m\u001b[0m\u001b[0m\n\u001b[1;32m     35\u001b[0m     \u001b[0;32mreturn\u001b[0m \u001b[0mitems\u001b[0m\u001b[0;34m\u001b[0m\u001b[0;34m\u001b[0m\u001b[0m\n",
            "\u001b[0;32m/usr/local/lib/python3.11/dist-packages/transformers/image_processing_utils.py\u001b[0m in \u001b[0;36m__call__\u001b[0;34m(self, images, **kwargs)\u001b[0m\n\u001b[1;32m     39\u001b[0m     \u001b[0;32mdef\u001b[0m \u001b[0m__call__\u001b[0m\u001b[0;34m(\u001b[0m\u001b[0mself\u001b[0m\u001b[0;34m,\u001b[0m \u001b[0mimages\u001b[0m\u001b[0;34m,\u001b[0m \u001b[0;34m**\u001b[0m\u001b[0mkwargs\u001b[0m\u001b[0;34m)\u001b[0m \u001b[0;34m->\u001b[0m \u001b[0mBatchFeature\u001b[0m\u001b[0;34m:\u001b[0m\u001b[0;34m\u001b[0m\u001b[0;34m\u001b[0m\u001b[0m\n\u001b[1;32m     40\u001b[0m         \u001b[0;34m\"\"\"Preprocess an image or a batch of images.\"\"\"\u001b[0m\u001b[0;34m\u001b[0m\u001b[0;34m\u001b[0m\u001b[0m\n\u001b[0;32m---> 41\u001b[0;31m         \u001b[0;32mreturn\u001b[0m \u001b[0mself\u001b[0m\u001b[0;34m.\u001b[0m\u001b[0mpreprocess\u001b[0m\u001b[0;34m(\u001b[0m\u001b[0mimages\u001b[0m\u001b[0;34m,\u001b[0m \u001b[0;34m**\u001b[0m\u001b[0mkwargs\u001b[0m\u001b[0;34m)\u001b[0m\u001b[0;34m\u001b[0m\u001b[0;34m\u001b[0m\u001b[0m\n\u001b[0m\u001b[1;32m     42\u001b[0m \u001b[0;34m\u001b[0m\u001b[0m\n\u001b[1;32m     43\u001b[0m     \u001b[0;32mdef\u001b[0m \u001b[0mpreprocess\u001b[0m\u001b[0;34m(\u001b[0m\u001b[0mself\u001b[0m\u001b[0;34m,\u001b[0m \u001b[0mimages\u001b[0m\u001b[0;34m,\u001b[0m \u001b[0;34m**\u001b[0m\u001b[0mkwargs\u001b[0m\u001b[0;34m)\u001b[0m \u001b[0;34m->\u001b[0m \u001b[0mBatchFeature\u001b[0m\u001b[0;34m:\u001b[0m\u001b[0;34m\u001b[0m\u001b[0;34m\u001b[0m\u001b[0m\n",
            "\u001b[0;32m/usr/local/lib/python3.11/dist-packages/transformers/models/clip/image_processing_clip.py\u001b[0m in \u001b[0;36mpreprocess\u001b[0;34m(self, images, do_resize, size, resample, do_center_crop, crop_size, do_rescale, rescale_factor, do_normalize, image_mean, image_std, do_convert_rgb, return_tensors, data_format, input_data_format, **kwargs)\u001b[0m\n\u001b[1;32m    284\u001b[0m         \u001b[0mvalidate_kwargs\u001b[0m\u001b[0;34m(\u001b[0m\u001b[0mcaptured_kwargs\u001b[0m\u001b[0;34m=\u001b[0m\u001b[0mkwargs\u001b[0m\u001b[0;34m.\u001b[0m\u001b[0mkeys\u001b[0m\u001b[0;34m(\u001b[0m\u001b[0;34m)\u001b[0m\u001b[0;34m,\u001b[0m \u001b[0mvalid_processor_keys\u001b[0m\u001b[0;34m=\u001b[0m\u001b[0mself\u001b[0m\u001b[0;34m.\u001b[0m\u001b[0m_valid_processor_keys\u001b[0m\u001b[0;34m)\u001b[0m\u001b[0;34m\u001b[0m\u001b[0;34m\u001b[0m\u001b[0m\n\u001b[1;32m    285\u001b[0m \u001b[0;34m\u001b[0m\u001b[0m\n\u001b[0;32m--> 286\u001b[0;31m         \u001b[0mimages\u001b[0m \u001b[0;34m=\u001b[0m \u001b[0mmake_list_of_images\u001b[0m\u001b[0;34m(\u001b[0m\u001b[0mimages\u001b[0m\u001b[0;34m)\u001b[0m\u001b[0;34m\u001b[0m\u001b[0;34m\u001b[0m\u001b[0m\n\u001b[0m\u001b[1;32m    287\u001b[0m \u001b[0;34m\u001b[0m\u001b[0m\n\u001b[1;32m    288\u001b[0m         \u001b[0;32mif\u001b[0m \u001b[0;32mnot\u001b[0m \u001b[0mvalid_images\u001b[0m\u001b[0;34m(\u001b[0m\u001b[0mimages\u001b[0m\u001b[0;34m)\u001b[0m\u001b[0;34m:\u001b[0m\u001b[0;34m\u001b[0m\u001b[0;34m\u001b[0m\u001b[0m\n",
            "\u001b[0;32m/usr/local/lib/python3.11/dist-packages/transformers/image_utils.py\u001b[0m in \u001b[0;36mmake_list_of_images\u001b[0;34m(images, expected_ndims)\u001b[0m\n\u001b[1;32m    204\u001b[0m             )\n\u001b[1;32m    205\u001b[0m         \u001b[0;32mreturn\u001b[0m \u001b[0mimages\u001b[0m\u001b[0;34m\u001b[0m\u001b[0;34m\u001b[0m\u001b[0m\n\u001b[0;32m--> 206\u001b[0;31m     raise ValueError(\n\u001b[0m\u001b[1;32m    207\u001b[0m         \u001b[0;34m\"Invalid image type. Expected either PIL.Image.Image, numpy.ndarray, torch.Tensor, tf.Tensor or \"\u001b[0m\u001b[0;34m\u001b[0m\u001b[0;34m\u001b[0m\u001b[0m\n\u001b[1;32m    208\u001b[0m         \u001b[0;34mf\"jax.ndarray, but got {type(images)}.\"\u001b[0m\u001b[0;34m\u001b[0m\u001b[0;34m\u001b[0m\u001b[0m\n",
            "\u001b[0;31mValueError\u001b[0m: Invalid image type. Expected either PIL.Image.Image, numpy.ndarray, torch.Tensor, tf.Tensor or jax.ndarray, but got <class 'list'>."
          ]
        },
        {
          "output_type": "display_data",
          "data": {
            "text/plain": [
              "<Figure size 1300x1300 with 9 Axes>"
            ],
            "image/png": "[encoded data removed]"
          },
          "metadata": {}
        }
      ],
      "source": [
        "def show_images(ds: Dataset):\n",
        "    fig, axs = plt.subplots(3, 3, figsize=(13, 13))\n",
        "    for i in range(9):\n",
        "        fp = io.BytesIO(ds[i]['image']['bytes'])\n",
        "        with fp:\n",
        "            img = mpimg.imread(fp, format='jpeg')\n",
        "        axs[i // 3][i % 3].imshow(img)\n",
        "        axs[i // 3][i % 3].set_title(ds[i]['label'])\n",
        "\n",
        "show_images(dataset['train'])"
      ]
    },
    {
      "cell_type": "markdown",
      "id": "8c92d22e-bc9a-43ea-bed7-cd8c35b867c2",
      "metadata": {
        "id": "8c92d22e-bc9a-43ea-bed7-cd8c35b867c2"
      },
      "source": [
        "For fine-tuning we need process labels to ids."
      ]
    },
    {
      "cell_type": "code",
      "execution_count": 46,
      "id": "71dbf018-8937-4700-9b38-3e4201d43059",
      "metadata": {
        "id": "71dbf018-8937-4700-9b38-3e4201d43059"
      },
      "outputs": [],
      "source": [
        "labels = set(dataset['train']['label'])\n",
        "label2id = {label: i for i, label in enumerate(labels)}\n",
        "id2label = {i: label for label, i in label2id.items()}\n",
        "\n",
        "labels = list(label2id)"
      ]
    },
    {
      "cell_type": "markdown",
      "id": "3345137f-b183-4b38-9a2a-40335282d190",
      "metadata": {
        "id": "3345137f-b183-4b38-9a2a-40335282d190"
      },
      "source": [
        "After that we get mapping from label to id."
      ]
    },
    {
      "cell_type": "code",
      "execution_count": 47,
      "id": "25d5a990-3871-4104-b29d-b1e2d395d24d",
      "metadata": {
        "colab": {
          "base_uri": "https://localhost:8080/"
        },
        "id": "25d5a990-3871-4104-b29d-b1e2d395d24d",
        "outputId": "4f1c05c9-73b5-4fbd-d481-200f70003010"
      },
      "outputs": [
        {
          "output_type": "execute_result",
          "data": {
            "text/plain": [
              "{'basset hound': 0,\n",
              " 'samoyed': 1,\n",
              " 'pug': 2,\n",
              " 'beagle': 3,\n",
              " 'Persian': 4,\n",
              " 'Ragdoll': 5,\n",
              " 'Birman': 6,\n",
              " 'scottish terrier': 7,\n",
              " 'great pyrenees': 8,\n",
              " 'pomeranian': 9,\n",
              " 'havanese': 10,\n",
              " 'chihuahua': 11,\n",
              " 'german shorthaired': 12,\n",
              " 'British Shorthair': 13,\n",
              " 'Russian Blue': 14,\n",
              " 'staffordshire bull terrier': 15,\n",
              " 'Maine Coon': 16,\n",
              " 'miniature pinscher': 17,\n",
              " 'Sphynx': 18,\n",
              " 'Bombay': 19,\n",
              " 'boxer': 20,\n",
              " 'wheaten terrier': 21,\n",
              " 'japanese chin': 22,\n",
              " 'keeshond': 23,\n",
              " 'yorkshire terrier': 24,\n",
              " 'Siamese': 25,\n",
              " 'saint bernard': 26,\n",
              " 'american pit bull terrier': 27,\n",
              " 'Abyssinian': 28,\n",
              " 'Egyptian Mau': 29,\n",
              " 'english cocker spaniel': 30,\n",
              " 'newfoundland': 31,\n",
              " 'american bulldog': 32,\n",
              " 'shiba inu': 33,\n",
              " 'Bengal': 34,\n",
              " 'leonberger': 35,\n",
              " 'english setter': 36}"
            ]
          },
          "metadata": {},
          "execution_count": 47
        }
      ],
      "source": [
        "label2id"
      ]
    },
    {
      "cell_type": "markdown",
      "id": "285a9c46-76d4-4e69-983d-7c5d1da73389",
      "metadata": {
        "id": "285a9c46-76d4-4e69-983d-7c5d1da73389"
      },
      "source": [
        "### Dataset preparation"
      ]
    },
    {
      "cell_type": "markdown",
      "id": "a9feacfe-9612-4a0e-a1bb-ba8e96de7616",
      "metadata": {
        "id": "a9feacfe-9612-4a0e-a1bb-ba8e96de7616"
      },
      "source": [
        "For the default CLIP model, we will use the pre-trained [model by OpenAI](https://huggingface.co/openai/clip-vit-base-patch32). However, feel free to modify the `MODEL_NAME` variable to another model. For instance [this](https://huggingface.co/openai/clip-vit-large-patch14) model of CLIP have a larger number of parameters."
      ]
    },
    {
      "cell_type": "code",
      "execution_count": 48,
      "id": "6e2db29d-56f9-415a-95b7-0cc54a5cc7b9",
      "metadata": {
        "id": "6e2db29d-56f9-415a-95b7-0cc54a5cc7b9"
      },
      "outputs": [],
      "source": [
        "MODEL_NAME = \"openai/clip-vit-base-patch32\""
      ]
    },
    {
      "cell_type": "markdown",
      "id": "d784b5c7-8d5a-41b8-9af0-b8962e83ec3f",
      "metadata": {
        "id": "d784b5c7-8d5a-41b8-9af0-b8962e83ec3f"
      },
      "source": [
        "For selected `MODEL_NAME` we need to import corresponding:\n",
        "- **Tokenizer**: used to encode input text.\n",
        "- **Image processor**: It is utilized to preprocess input images, handling tasks such as scaling, resizing, and more."
      ]
    },
    {
      "cell_type": "code",
      "execution_count": 49,
      "id": "407c107e-b7c4-4291-928b-eee5886cc84d",
      "metadata": {
        "id": "407c107e-b7c4-4291-928b-eee5886cc84d"
      },
      "outputs": [],
      "source": [
        "TOKENIZER = CLIPTokenizerFast.from_pretrained(MODEL_NAME)\n",
        "IMAGE_PROCESSOR = CLIPImageProcessor.from_pretrained(MODEL_NAME)"
      ]
    },
    {
      "cell_type": "markdown",
      "id": "1c4b8cfd-72ee-42ca-ac77-d343a363eb31",
      "metadata": {
        "id": "1c4b8cfd-72ee-42ca-ac77-d343a363eb31"
      },
      "source": [
        "Dataset preparation consists of 2 steps\n",
        "1) **Label Encoding with Tokenizer**: This step entails encoding the label of each dataset item using the tokenizer. Importantly, we encode not only the label's text but also include a special prompt with the label. This enhancement is designed to elevate the quality of text features in the language model.\n",
        "\n",
        "2) **Image Preparations with CLIP's Image Processor**: In this step, we prepare the images using CLIP's image processor. This involves preprocessing steps to ensure compatibility with CLIP's model architecture."
      ]
    },
    {
      "cell_type": "code",
      "execution_count": 50,
      "id": "e3e1aa6c-346d-485d-9432-e0f2999f516d",
      "metadata": {
        "id": "e3e1aa6c-346d-485d-9432-e0f2999f516d"
      },
      "outputs": [],
      "source": [
        "def transform_class_labels(\n",
        "    items: LazyBatch, tokenizer: CLIPTokenizerFast, label2id: dict[str, int]\n",
        ") -> dict[str, Any]:\n",
        "    \"\"\"Function used to encode item's label prompt with tokenizer\n",
        "\n",
        "    Args:\n",
        "        items (LazyBatch): Input dataset items\n",
        "        tokenizer (CLIPTokenizerFast): CLIP's tokenizer\n",
        "        label2id (dict[str, int]): mapping from label to id\n",
        "\n",
        "    Returns:\n",
        "        dict[str, Any]: transformed items\n",
        "    \"\"\"\n",
        "    # this prompt is better than prompt consisting only of the class name\n",
        "    label_prompt = [f\"a photo of {label}\" for label in items[\"label\"]]\n",
        "    output = tokenizer(label_prompt, padding=True, return_tensors=\"pt\")\n",
        "    items[\"input_ids\"] = output[\"input_ids\"]\n",
        "    items[\"attention_mask\"] = output[\"attention_mask\"]\n",
        "    items[\"label_id\"] = [label2id[label] for label in items[\"label\"]]\n",
        "    return items\n",
        "\n",
        "\n",
        "def transform_image(items: LazyBatch, image_processor: CLIPImageProcessor) -> dict[str, Any]:\n",
        "    \"\"\"Function used to preprocess input image with image processor\n",
        "\n",
        "    Args:\n",
        "        items (LazyBatch): Input dataset items\n",
        "        image_processor (CLIPImageProcessor): CLIP's image processor\n",
        "\n",
        "    Returns:\n",
        "        dict[str, Any]: transformed items\n",
        "    \"\"\"\n",
        "    output = image_processor(items[\"image\"][\"bytes\"], return_tensors=\"pt\")\n",
        "    items[\"pixel_values\"] = output[\"pixel_values\"]\n",
        "    return items"
      ]
    },
    {
      "cell_type": "markdown",
      "id": "23ec599d-3bf4-4e83-98f8-86fd950e94c3",
      "metadata": {
        "id": "23ec599d-3bf4-4e83-98f8-86fd950e94c3"
      },
      "source": [
        "We can efficiently apply `transform_class_labels` function on each dataset split with [map function](https://huggingface.co/docs/datasets/process#map) inplace.\n",
        "\n",
        "But for `transform_image` function we'll use [set_transform](https://huggingface.co/docs/datasets/v2.16.1/en/package_reference/main_classes#datasets.Dataset.set_transform) to lazily process pictures because it's inefficient to store them in memory"
      ]
    },
    {
      "cell_type": "code",
      "execution_count": 51,
      "id": "5c0b7d07-cd17-4ba5-834a-71950a489a3d",
      "metadata": {
        "colab": {
          "base_uri": "https://localhost:8080/",
          "height": 113,
          "referenced_widgets": [
            "27c6dd09d1b947709d826ed58cdcf935",
            "69776fe5c1e447d89c7729e33adba6f6",
            "1e26d93475a74358a2358b9efe3167da",
            "7e9cb7b2a63a42e69da50a63a56532f1",
            "2efbbc9c5d8049d5b2ce6d94061964d6",
            "d9c46802e91243e8a472e8eaed604316",
            "d6e710c1308444abb0efdc31aea89f3f",
            "4c32deb61b64491a86b81e136fc152b1",
            "9d13448152004428a17f44831efab7d6",
            "2c4d85f3826441a88be78348e6f460ed",
            "12dd1917bc4246d2b5f5896647614eff",
            "1773ea7af09644e4a1858a3784e622a3",
            "9cddfa7cd5474c1b8fc2d90b64941708",
            "a27d37e1889f486ca91e0f0f497495ad",
            "754ad176a20d4e71bdc807bb72966fc4",
            "d7892a53b81e41c0a0467cae29e833d3",
            "8b44f42cb414407296bd9aba52c55c7a",
            "62cd6d738ebb4416aa28888054e3f89b",
            "9ba33b91939b4354b43b79376d33b43f",
            "3f310bd4a64e4b4884c7b608ba0cce7e",
            "c26d37a0d08245efb83defbd685fe31a",
            "5acc5dce5a324f00922be9caf36fa8fa",
            "e085ef1fc73440be9903603ee4fc21de",
            "a6e9c1fcc7a34539b7c769a4096fb62b",
            "910bcc7c0dfe4b8ab70e34cced458513",
            "21b587ba6cc74046a123aedc16e5713f",
            "7ccd75850b944bd28cabacd93dc8b258",
            "596206ecc6454a449efbbaa3a708f83a",
            "e36a0cb3bb454c9c9e7e63f40273957d",
            "6f8c58511add4fe295768275afe90d91",
            "ddabb87d1be542ad8c4c5e6a15d47a5c",
            "2e1f54ffd51a45fd93aaa0fceb83a80f",
            "c3d70763ac87425f8e4ce03d9fd150da"
          ]
        },
        "id": "5c0b7d07-cd17-4ba5-834a-71950a489a3d",
        "outputId": "bc412eb3-a496-4d91-d415-622de2397c0e"
      },
      "outputs": [
        {
          "output_type": "display_data",
          "data": {
            "text/plain": [
              "Map:   0%|          | 0/5173 [00:00<?, ? examples/s]"
            ],
            "application/vnd.jupyter.widget-view+json": {
              "version_major": 2,
              "version_minor": 0,
              "model_id": "27c6dd09d1b947709d826ed58cdcf935"
            }
          },
          "metadata": {}
        },
        {
          "output_type": "display_data",
          "data": {
            "text/plain": [
              "Map:   0%|          | 0/444 [00:00<?, ? examples/s]"
            ],
            "application/vnd.jupyter.widget-view+json": {
              "version_major": 2,
              "version_minor": 0,
              "model_id": "1773ea7af09644e4a1858a3784e622a3"
            }
          },
          "metadata": {}
        },
        {
          "output_type": "display_data",
          "data": {
            "text/plain": [
              "Map:   0%|          | 0/1773 [00:00<?, ? examples/s]"
            ],
            "application/vnd.jupyter.widget-view+json": {
              "version_major": 2,
              "version_minor": 0,
              "model_id": "e085ef1fc73440be9903603ee4fc21de"
            }
          },
          "metadata": {}
        }
      ],
      "source": [
        "dataset = dataset.map(partial(transform_class_labels, tokenizer=TOKENIZER, label2id=label2id), batched=True)\n",
        "dataset.set_transform(partial(transform_image, image_processor=IMAGE_PROCESSOR))"
      ]
    },
    {
      "cell_type": "markdown",
      "id": "b9431944-cfd8-4db8-83a4-d229a20bb49c",
      "metadata": {
        "id": "b9431944-cfd8-4db8-83a4-d229a20bb49c"
      },
      "source": [
        "### CLIP Image Classification"
      ]
    },
    {
      "cell_type": "code",
      "execution_count": 52,
      "id": "cc3762d8-d5d2-4fbd-893d-f77119fbae4b",
      "metadata": {
        "id": "cc3762d8-d5d2-4fbd-893d-f77119fbae4b"
      },
      "outputs": [],
      "source": [
        "# utilities functions\n",
        "def get_module_device(module: nn.Module) -> torch.device:\n",
        "    \"\"\"Function to get current module device\n",
        "\n",
        "    Args:\n",
        "        module (nn.Module): pytorch module\n",
        "\n",
        "    Returns:\n",
        "        torch.device: module's device\n",
        "    \"\"\"\n",
        "    return next(module.parameters()).device\n",
        "\n",
        "\n",
        "def freeze_params(module: nn.Module, freeze_top_percent: float = 1.0) -> None:\n",
        "    \"\"\"Function used to freeze module by setting 'requires_grad' to False\n",
        "\n",
        "    Args:\n",
        "        module (nn.Module): pytorch module\n",
        "        freeze_top_percent (float, optional): percentage of layers starting from the top that need to be frozen. Defaults to 1.0.\n",
        "    \"\"\"\n",
        "    all_params_length = len(list(module.parameters()))\n",
        "    for indx, param in enumerate(module.parameters()):\n",
        "        if int(all_params_length * freeze_top_percent) <= indx:\n",
        "            break\n",
        "        param.requires_grad = False\n",
        "\n",
        "\n",
        "def print_trainable_parameters(model: nn.Module) -> None:\n",
        "    \"\"\"Function prints statistics about trainable parameters\n",
        "\n",
        "    Args:\n",
        "        model (nn.Module): pytorch module\n",
        "    \"\"\"\n",
        "    trainable_params = 0\n",
        "    all_param = 0\n",
        "    for _, param in model.named_parameters():\n",
        "        all_param += param.numel()\n",
        "        if param.requires_grad:\n",
        "            trainable_params += param.numel()\n",
        "    print(\n",
        "        f\"Trainable params: {(trainable_params / 10**6):.4f}M || All params: {(all_param / 10**6):.4f}M || Trainable%: {100 * trainable_params / all_param:.2f}%\"\n",
        "    )"
      ]
    },
    {
      "cell_type": "markdown",
      "id": "f5586412-47c9-4930-81dd-5c65747de762",
      "metadata": {
        "id": "f5586412-47c9-4930-81dd-5c65747de762"
      },
      "source": [
        "Our CLIP based classification model will work as follows:\n",
        "1. **Prompt Generation**: Initial prompts are generated based on the labels present in the dataset.\n",
        "2. **Feature Extraction with Language CLIP Model**: Features are extracted from these prompts using a language CLIP model.\n",
        "3. **Visual Feature Extraction**: For each image, features are extracted using a visual CLIP model.\n",
        "4. **Similarity Score Computation**: A similarity score between the image and the set of prompts is computed.\n",
        "5. **Prediction Based on Similarity**: The most similar prompt is selected, and its associated label is used as the final prediction for the image."
      ]
    },
    {
      "cell_type": "code",
      "execution_count": 53,
      "id": "a4b1fbeb-f7b1-45b9-a0fe-aa27374c88fb",
      "metadata": {
        "id": "a4b1fbeb-f7b1-45b9-a0fe-aa27374c88fb"
      },
      "outputs": [],
      "source": [
        "class CLIPClassifier(nn.Module):\n",
        "    def __init__(self, clip_model: CLIPModel, tokenizer: CLIPTokenizerFast, labels: list[str]):\n",
        "        super().__init__()\n",
        "        self.model = clip_model\n",
        "        self.tokenizer = tokenizer\n",
        "        self.logit_scale = self.model.logit_scale.exp()\n",
        "        self.label2id = {label: i for i, label in enumerate(labels)}\n",
        "        self.labels_embeddings = nn.Parameter(self.generate_labels_embeddings(labels))\n",
        "\n",
        "    def generate_labels_embeddings(self, labels: list[str]) -> torch.Tensor:\n",
        "        \"\"\"Function prepares label's prompt embeddings usings language model\n",
        "\n",
        "        Args:\n",
        "            labels (list[str]): list with dataset labels\n",
        "\n",
        "        Returns:\n",
        "            torch.Tensor: labels embeddings of size (num_labels, dim)\n",
        "        \"\"\"\n",
        "        # tokenize label's prompt\n",
        "        labels_inputs = self.tokenizer(\n",
        "            [f\"a photo of {label}\" for label in labels],\n",
        "            return_tensors=\"pt\",\n",
        "            padding=True,\n",
        "        ).to(get_module_device(self.model))\n",
        "        # run language model on this prompt and get embeddings\n",
        "        labels_embeddings = self.model.get_text_features(**labels_inputs)\n",
        "        # normilize embeddings\n",
        "        labels_embeddings /= labels_embeddings.norm(p=2, dim=-1, keepdim=True)\n",
        "        return labels_embeddings\n",
        "\n",
        "    def forward(self, images: torch.Tensor) -> torch.Tensor:\n",
        "        \"\"\"Function to calculate similarity between image and label's promts embeddings\n",
        "\n",
        "        Args:\n",
        "            images (torch.Tensor): image tensor\n",
        "\n",
        "        Returns:\n",
        "            torch.Tensor: output similarity tensor of size (batch_size,  num_labels)\n",
        "        \"\"\"\n",
        "        image_features = self.model.get_image_features(\n",
        "            images\n",
        "        )  # (batch_size, dim)\n",
        "        image_features /= image_features.norm(p=2, dim=-1, keepdim=True)\n",
        "        return torch.matmul(image_features, self.labels_embeddings.T) * self.logit_scale\n",
        "\n",
        "def calculate_accuracy(model: CLIPClassifier, dataloader: DataLoader) -> float:\n",
        "    \"\"\"Function calculates accuracy of given model on dataloader\n",
        "\n",
        "    Args:\n",
        "        model (CLIPClassifier): CLIP classifier model\n",
        "        dataloader (DataLoader): evaluation dataloader\n",
        "\n",
        "    Returns:\n",
        "        float: model's accuracy\n",
        "    \"\"\"\n",
        "    metric = evaluate.load(\"accuracy\")\n",
        "    predictions_list = []\n",
        "    references_list = []\n",
        "    device = get_module_device(model)\n",
        "    for batch in tqdm(\n",
        "        dataloader, total=len(dataloader), desc=\"Evaluate model on dataset\"\n",
        "    ):\n",
        "        batch[\"pixel_values\"] = batch[\"pixel_values\"].to(device)\n",
        "        predictions = model(batch[\"pixel_values\"])\n",
        "        predictions_list.append(torch.argmax(predictions, dim=1))\n",
        "        references_list.append(batch[\"label_id\"])\n",
        "    return metric.compute(\n",
        "        predictions=torch.concat(predictions_list),\n",
        "        references=torch.concat(references_list),\n",
        "    )[\"accuracy\"]\n",
        "\n",
        "def collate_fn(items: LazyBatch) -> dict[str, Any]:\n",
        "    return {\n",
        "        \"pixel_values\": torch.stack(\n",
        "            [item[\"pixel_values\"] for item in items]\n",
        "        ),  # (batch_size, 3, 224, 224)\n",
        "        \"input_ids\": torch.tensor(\n",
        "            [item[\"input_ids\"] for item in items]\n",
        "        ),  # (batch_size, max_length)\n",
        "        \"attention_mask\": torch.tensor(\n",
        "            [item[\"attention_mask\"] for item in items]\n",
        "        ),  # (batch_size, max_length)\n",
        "        \"label_id\": torch.tensor([item[\"label_id\"] for item in items]),  # (batch_size),\n",
        "        \"return_loss\": True,\n",
        "    }\n",
        "\n",
        "@torch.no_grad()\n",
        "def evaluate_clip_classifier(\n",
        "    model: nn.Module,\n",
        "    dataset: Dataset,\n",
        "    tokenizer: CLIPTokenizerFast,\n",
        "    labels: list[str],\n",
        "    batch_size: int = 64,\n",
        "    num_workers: int = 5,\n",
        "    device: str = \"cuda\",\n",
        ") -> None:\n",
        "    \"\"\"Function evaluates CLIP model on given dataset\n",
        "\n",
        "    Args:\n",
        "        model (nn.Module): CLIP model\n",
        "        dataset (Dataset): evaluation dataset\n",
        "        tokenizer (CLIPTokenizerFast): CLIP tokenizer\n",
        "        labels (list[str]): list with dataset labels\n",
        "        batch_size (int): batch size. Defaults to 64\n",
        "        num_workers (int): number of workers for dataloader. Defaults to 5\n",
        "        device (str, optional): model's device. Defaults to \"cuda\".\n",
        "    \"\"\"\n",
        "    clip_classifier = CLIPClassifier(model, tokenizer, labels)\n",
        "    test_dataloader = DataLoader(\n",
        "        dataset, batch_size=batch_size, num_workers=num_workers, collate_fn=collate_fn\n",
        "    )\n",
        "    clip_classifier = clip_classifier.to(device)\n",
        "    acc = calculate_accuracy(clip_classifier, test_dataloader)\n",
        "    print(f\"Model accuracy: {acc}\")"
      ]
    },
    {
      "cell_type": "markdown",
      "id": "0f5619d9-890b-476f-b274-14f0208a86de",
      "metadata": {
        "id": "0f5619d9-890b-476f-b274-14f0208a86de"
      },
      "source": [
        "### Evaluate baseline CLIP (Zero-shot)"
      ]
    },
    {
      "cell_type": "markdown",
      "id": "dbe1788b-7396-4fcd-9493-6d2dc13d1735",
      "metadata": {
        "id": "dbe1788b-7396-4fcd-9493-6d2dc13d1735"
      },
      "source": [
        "First, let's evaluate our pretrained CLIP model on test dataset. One of the advantages of CLIP model compared to standard classification models is that it works well without fine-tuning."
      ]
    },
    {
      "cell_type": "code",
      "execution_count": 54,
      "id": "c6aa412e-c74a-4bef-a5a5-381ac68c3ac8",
      "metadata": {
        "colab": {
          "base_uri": "https://localhost:8080/",
          "height": 1000,
          "referenced_widgets": [
            "429f048723a14b2d8c4808c90314dcd7",
            "34de40942efa4b7a974e6dda3ea1edae",
            "88da35d9c12d47f59861ed05da04a2a9",
            "d6bb16aab6e44cb0beb360050ec9b44b",
            "9c30ec108be54e8da864c9f8a99af032",
            "02b3fedda7e644bbafc0c46fd33a1953",
            "f6cefa93f48d4b98abbfa01d61e69459",
            "30e8cf74aef64bbeb15d5daa33f14113",
            "e7aa1fe356f24c718ffa78620e95cced",
            "203c38b5a789411d956ecf0c84d78d99",
            "9c701ba4f05945d0ad6adf15123cb214"
          ]
        },
        "id": "c6aa412e-c74a-4bef-a5a5-381ac68c3ac8",
        "outputId": "fb76da6f-7bf9-48b4-a43a-c0e6a54263ca"
      },
      "outputs": [
        {
          "output_type": "stream",
          "name": "stdout",
          "text": [
            "Trainable params: 0.0000M || All params: 151.2773M || Trainable%: 0.00%\n"
          ]
        },
        {
          "output_type": "stream",
          "name": "stderr",
          "text": [
            "/usr/local/lib/python3.11/dist-packages/torch/utils/data/dataloader.py:617: UserWarning: This DataLoader will create 5 worker processes in total. Our suggested max number of worker in current system is 2, which is smaller than what this DataLoader is going to create. Please be aware that excessive worker creation might get DataLoader running slow or even freeze, lower the worker number to avoid potential slowness/freeze if necessary.\n",
            "  warnings.warn(\n"
          ]
        },
        {
          "output_type": "display_data",
          "data": {
            "text/plain": [
              "Evaluate model on dataset:   0%|          | 0/28 [00:00<?, ?it/s]"
            ],
            "application/vnd.jupyter.widget-view+json": {
              "version_major": 2,
              "version_minor": 0,
              "model_id": "429f048723a14b2d8c4808c90314dcd7"
            }
          },
          "metadata": {}
        },
        {
          "output_type": "error",
          "ename": "TypeError",
          "evalue": "Caught TypeError in DataLoader worker process 0.\nOriginal Traceback (most recent call last):\n  File \"/usr/local/lib/python3.11/dist-packages/torch/utils/data/_utils/worker.py\", line 351, in _worker_loop\n    data = fetcher.fetch(index)  # type: ignore[possibly-undefined]\n           ^^^^^^^^^^^^^^^^^^^^\n  File \"/usr/local/lib/python3.11/dist-packages/torch/utils/data/_utils/fetch.py\", line 50, in fetch\n    data = self.dataset.__getitems__(possibly_batched_index)\n           ^^^^^^^^^^^^^^^^^^^^^^^^^^^^^^^^^^^^^^^^^^^^^^^^^\n  File \"/usr/local/lib/python3.11/dist-packages/datasets/arrow_dataset.py\", line 2786, in __getitems__\n    batch = self.__getitem__(keys)\n            ^^^^^^^^^^^^^^^^^^^^^^\n  File \"/usr/local/lib/python3.11/dist-packages/datasets/arrow_dataset.py\", line 2782, in __getitem__\n    return self._getitem(key)\n           ^^^^^^^^^^^^^^^^^^\n  File \"/usr/local/lib/python3.11/dist-packages/datasets/arrow_dataset.py\", line 2767, in _getitem\n    formatted_output = format_table(\n                       ^^^^^^^^^^^^^\n  File \"/usr/local/lib/python3.11/dist-packages/datasets/formatting/formatting.py\", line 658, in format_table\n    return formatter(pa_table, query_type=query_type)\n           ^^^^^^^^^^^^^^^^^^^^^^^^^^^^^^^^^^^^^^^^^^\n  File \"/usr/local/lib/python3.11/dist-packages/datasets/formatting/formatting.py\", line 415, in __call__\n    return self.format_batch(pa_table)\n           ^^^^^^^^^^^^^^^^^^^^^^^^^^^\n  File \"/usr/local/lib/python3.11/dist-packages/datasets/formatting/formatting.py\", line 541, in format_batch\n    return self.transform(batch)\n           ^^^^^^^^^^^^^^^^^^^^^\n  File \"<ipython-input-50-77ef3386dcf1>\", line 33, in transform_image\n    output = image_processor(items[\"image\"][\"bytes\"], return_tensors=\"pt\")\n                             ~~~~~~~~~~~~~~^^^^^^^^^\nTypeError: list indices must be integers or slices, not str\n",
          "traceback": [
            "\u001b[0;31m---------------------------------------------------------------------------\u001b[0m",
            "\u001b[0;31mTypeError\u001b[0m                                 Traceback (most recent call last)",
            "\u001b[0;32m<ipython-input-54-066d015e2b3a>\u001b[0m in \u001b[0;36m<cell line: 0>\u001b[0;34m()\u001b[0m\n\u001b[1;32m      2\u001b[0m \u001b[0mfreeze_params\u001b[0m\u001b[0;34m(\u001b[0m\u001b[0mclip_baseline\u001b[0m\u001b[0;34m)\u001b[0m\u001b[0;34m\u001b[0m\u001b[0;34m\u001b[0m\u001b[0m\n\u001b[1;32m      3\u001b[0m \u001b[0mprint_trainable_parameters\u001b[0m\u001b[0;34m(\u001b[0m\u001b[0mclip_baseline\u001b[0m\u001b[0;34m)\u001b[0m\u001b[0;34m\u001b[0m\u001b[0;34m\u001b[0m\u001b[0m\n\u001b[0;32m----> 4\u001b[0;31m \u001b[0mevaluate_clip_classifier\u001b[0m\u001b[0;34m(\u001b[0m\u001b[0mclip_baseline\u001b[0m\u001b[0;34m,\u001b[0m \u001b[0mdataset\u001b[0m\u001b[0;34m[\u001b[0m\u001b[0;34m'test'\u001b[0m\u001b[0;34m]\u001b[0m\u001b[0;34m,\u001b[0m \u001b[0mTOKENIZER\u001b[0m\u001b[0;34m,\u001b[0m \u001b[0mlabels\u001b[0m\u001b[0;34m)\u001b[0m\u001b[0;34m\u001b[0m\u001b[0;34m\u001b[0m\u001b[0m\n\u001b[0m",
            "\u001b[0;32m/usr/local/lib/python3.11/dist-packages/torch/utils/_contextlib.py\u001b[0m in \u001b[0;36mdecorate_context\u001b[0;34m(*args, **kwargs)\u001b[0m\n\u001b[1;32m    114\u001b[0m     \u001b[0;32mdef\u001b[0m \u001b[0mdecorate_context\u001b[0m\u001b[0;34m(\u001b[0m\u001b[0;34m*\u001b[0m\u001b[0margs\u001b[0m\u001b[0;34m,\u001b[0m \u001b[0;34m**\u001b[0m\u001b[0mkwargs\u001b[0m\u001b[0;34m)\u001b[0m\u001b[0;34m:\u001b[0m\u001b[0;34m\u001b[0m\u001b[0;34m\u001b[0m\u001b[0m\n\u001b[1;32m    115\u001b[0m         \u001b[0;32mwith\u001b[0m \u001b[0mctx_factory\u001b[0m\u001b[0;34m(\u001b[0m\u001b[0;34m)\u001b[0m\u001b[0;34m:\u001b[0m\u001b[0;34m\u001b[0m\u001b[0;34m\u001b[0m\u001b[0m\n\u001b[0;32m--> 116\u001b[0;31m             \u001b[0;32mreturn\u001b[0m \u001b[0mfunc\u001b[0m\u001b[0;34m(\u001b[0m\u001b[0;34m*\u001b[0m\u001b[0margs\u001b[0m\u001b[0;34m,\u001b[0m \u001b[0;34m**\u001b[0m\u001b[0mkwargs\u001b[0m\u001b[0;34m)\u001b[0m\u001b[0;34m\u001b[0m\u001b[0;34m\u001b[0m\u001b[0m\n\u001b[0m\u001b[1;32m    117\u001b[0m \u001b[0;34m\u001b[0m\u001b[0m\n\u001b[1;32m    118\u001b[0m     \u001b[0;32mreturn\u001b[0m \u001b[0mdecorate_context\u001b[0m\u001b[0;34m\u001b[0m\u001b[0;34m\u001b[0m\u001b[0m\n",
            "\u001b[0;32m<ipython-input-53-22e50433e391>\u001b[0m in \u001b[0;36mevaluate_clip_classifier\u001b[0;34m(model, dataset, tokenizer, labels, batch_size, num_workers, device)\u001b[0m\n\u001b[1;32m    111\u001b[0m     )\n\u001b[1;32m    112\u001b[0m     \u001b[0mclip_classifier\u001b[0m \u001b[0;34m=\u001b[0m \u001b[0mclip_classifier\u001b[0m\u001b[0;34m.\u001b[0m\u001b[0mto\u001b[0m\u001b[0;34m(\u001b[0m\u001b[0mdevice\u001b[0m\u001b[0;34m)\u001b[0m\u001b[0;34m\u001b[0m\u001b[0;34m\u001b[0m\u001b[0m\n\u001b[0;32m--> 113\u001b[0;31m     \u001b[0macc\u001b[0m \u001b[0;34m=\u001b[0m \u001b[0mcalculate_accuracy\u001b[0m\u001b[0;34m(\u001b[0m\u001b[0mclip_classifier\u001b[0m\u001b[0;34m,\u001b[0m \u001b[0mtest_dataloader\u001b[0m\u001b[0;34m)\u001b[0m\u001b[0;34m\u001b[0m\u001b[0;34m\u001b[0m\u001b[0m\n\u001b[0m\u001b[1;32m    114\u001b[0m     \u001b[0mprint\u001b[0m\u001b[0;34m(\u001b[0m\u001b[0;34mf\"Model accuracy: {acc}\"\u001b[0m\u001b[0;34m)\u001b[0m\u001b[0;34m\u001b[0m\u001b[0;34m\u001b[0m\u001b[0m\n",
            "\u001b[0;32m<ipython-input-53-22e50433e391>\u001b[0m in \u001b[0;36mcalculate_accuracy\u001b[0;34m(model, dataloader)\u001b[0m\n\u001b[1;32m     58\u001b[0m     \u001b[0mreferences_list\u001b[0m \u001b[0;34m=\u001b[0m \u001b[0;34m[\u001b[0m\u001b[0;34m]\u001b[0m\u001b[0;34m\u001b[0m\u001b[0;34m\u001b[0m\u001b[0m\n\u001b[1;32m     59\u001b[0m     \u001b[0mdevice\u001b[0m \u001b[0;34m=\u001b[0m \u001b[0mget_module_device\u001b[0m\u001b[0;34m(\u001b[0m\u001b[0mmodel\u001b[0m\u001b[0;34m)\u001b[0m\u001b[0;34m\u001b[0m\u001b[0;34m\u001b[0m\u001b[0m\n\u001b[0;32m---> 60\u001b[0;31m     for batch in tqdm(\n\u001b[0m\u001b[1;32m     61\u001b[0m         \u001b[0mdataloader\u001b[0m\u001b[0;34m,\u001b[0m \u001b[0mtotal\u001b[0m\u001b[0;34m=\u001b[0m\u001b[0mlen\u001b[0m\u001b[0;34m(\u001b[0m\u001b[0mdataloader\u001b[0m\u001b[0;34m)\u001b[0m\u001b[0;34m,\u001b[0m \u001b[0mdesc\u001b[0m\u001b[0;34m=\u001b[0m\u001b[0;34m\"Evaluate model on dataset\"\u001b[0m\u001b[0;34m\u001b[0m\u001b[0;34m\u001b[0m\u001b[0m\n\u001b[1;32m     62\u001b[0m     ):\n",
            "\u001b[0;32m/usr/local/lib/python3.11/dist-packages/tqdm/notebook.py\u001b[0m in \u001b[0;36m__iter__\u001b[0;34m(self)\u001b[0m\n\u001b[1;32m    248\u001b[0m         \u001b[0;32mtry\u001b[0m\u001b[0;34m:\u001b[0m\u001b[0;34m\u001b[0m\u001b[0;34m\u001b[0m\u001b[0m\n\u001b[1;32m    249\u001b[0m             \u001b[0mit\u001b[0m \u001b[0;34m=\u001b[0m \u001b[0msuper\u001b[0m\u001b[0;34m(\u001b[0m\u001b[0;34m)\u001b[0m\u001b[0;34m.\u001b[0m\u001b[0m__iter__\u001b[0m\u001b[0;34m(\u001b[0m\u001b[0;34m)\u001b[0m\u001b[0;34m\u001b[0m\u001b[0;34m\u001b[0m\u001b[0m\n\u001b[0;32m--> 250\u001b[0;31m             \u001b[0;32mfor\u001b[0m \u001b[0mobj\u001b[0m \u001b[0;32min\u001b[0m \u001b[0mit\u001b[0m\u001b[0;34m:\u001b[0m\u001b[0;34m\u001b[0m\u001b[0;34m\u001b[0m\u001b[0m\n\u001b[0m\u001b[1;32m    251\u001b[0m                 \u001b[0;31m# return super(tqdm...) will not catch exception\u001b[0m\u001b[0;34m\u001b[0m\u001b[0;34m\u001b[0m\u001b[0m\n\u001b[1;32m    252\u001b[0m                 \u001b[0;32myield\u001b[0m \u001b[0mobj\u001b[0m\u001b[0;34m\u001b[0m\u001b[0;34m\u001b[0m\u001b[0m\n",
            "\u001b[0;32m/usr/local/lib/python3.11/dist-packages/tqdm/std.py\u001b[0m in \u001b[0;36m__iter__\u001b[0;34m(self)\u001b[0m\n\u001b[1;32m   1179\u001b[0m \u001b[0;34m\u001b[0m\u001b[0m\n\u001b[1;32m   1180\u001b[0m         \u001b[0;32mtry\u001b[0m\u001b[0;34m:\u001b[0m\u001b[0;34m\u001b[0m\u001b[0;34m\u001b[0m\u001b[0m\n\u001b[0;32m-> 1181\u001b[0;31m             \u001b[0;32mfor\u001b[0m \u001b[0mobj\u001b[0m \u001b[0;32min\u001b[0m \u001b[0miterable\u001b[0m\u001b[0;34m:\u001b[0m\u001b[0;34m\u001b[0m\u001b[0;34m\u001b[0m\u001b[0m\n\u001b[0m\u001b[1;32m   1182\u001b[0m                 \u001b[0;32myield\u001b[0m \u001b[0mobj\u001b[0m\u001b[0;34m\u001b[0m\u001b[0;34m\u001b[0m\u001b[0m\n\u001b[1;32m   1183\u001b[0m                 \u001b[0;31m# Update and possibly print the progressbar.\u001b[0m\u001b[0;34m\u001b[0m\u001b[0;34m\u001b[0m\u001b[0m\n",
            "\u001b[0;32m/usr/local/lib/python3.11/dist-packages/torch/utils/data/dataloader.py\u001b[0m in \u001b[0;36m__next__\u001b[0;34m(self)\u001b[0m\n\u001b[1;32m    699\u001b[0m                 \u001b[0;31m# TODO(https://github.com/pytorch/pytorch/issues/76750)\u001b[0m\u001b[0;34m\u001b[0m\u001b[0;34m\u001b[0m\u001b[0m\n\u001b[1;32m    700\u001b[0m                 \u001b[0mself\u001b[0m\u001b[0;34m.\u001b[0m\u001b[0m_reset\u001b[0m\u001b[0;34m(\u001b[0m\u001b[0;34m)\u001b[0m  \u001b[0;31m# type: ignore[call-arg]\u001b[0m\u001b[0;34m\u001b[0m\u001b[0;34m\u001b[0m\u001b[0m\n\u001b[0;32m--> 701\u001b[0;31m             \u001b[0mdata\u001b[0m \u001b[0;34m=\u001b[0m \u001b[0mself\u001b[0m\u001b[0;34m.\u001b[0m\u001b[0m_next_data\u001b[0m\u001b[0;34m(\u001b[0m\u001b[0;34m)\u001b[0m\u001b[0;34m\u001b[0m\u001b[0;34m\u001b[0m\u001b[0m\n\u001b[0m\u001b[1;32m    702\u001b[0m             \u001b[0mself\u001b[0m\u001b[0;34m.\u001b[0m\u001b[0m_num_yielded\u001b[0m \u001b[0;34m+=\u001b[0m \u001b[0;36m1\u001b[0m\u001b[0;34m\u001b[0m\u001b[0;34m\u001b[0m\u001b[0m\n\u001b[1;32m    703\u001b[0m             if (\n",
            "\u001b[0;32m/usr/local/lib/python3.11/dist-packages/torch/utils/data/dataloader.py\u001b[0m in \u001b[0;36m_next_data\u001b[0;34m(self)\u001b[0m\n\u001b[1;32m   1463\u001b[0m             \u001b[0;32melse\u001b[0m\u001b[0;34m:\u001b[0m\u001b[0;34m\u001b[0m\u001b[0;34m\u001b[0m\u001b[0m\n\u001b[1;32m   1464\u001b[0m                 \u001b[0;32mdel\u001b[0m \u001b[0mself\u001b[0m\u001b[0;34m.\u001b[0m\u001b[0m_task_info\u001b[0m\u001b[0;34m[\u001b[0m\u001b[0midx\u001b[0m\u001b[0;34m]\u001b[0m\u001b[0;34m\u001b[0m\u001b[0;34m\u001b[0m\u001b[0m\n\u001b[0;32m-> 1465\u001b[0;31m                 \u001b[0;32mreturn\u001b[0m \u001b[0mself\u001b[0m\u001b[0;34m.\u001b[0m\u001b[0m_process_data\u001b[0m\u001b[0;34m(\u001b[0m\u001b[0mdata\u001b[0m\u001b[0;34m)\u001b[0m\u001b[0;34m\u001b[0m\u001b[0;34m\u001b[0m\u001b[0m\n\u001b[0m\u001b[1;32m   1466\u001b[0m \u001b[0;34m\u001b[0m\u001b[0m\n\u001b[1;32m   1467\u001b[0m     \u001b[0;32mdef\u001b[0m \u001b[0m_try_put_index\u001b[0m\u001b[0;34m(\u001b[0m\u001b[0mself\u001b[0m\u001b[0;34m)\u001b[0m\u001b[0;34m:\u001b[0m\u001b[0;34m\u001b[0m\u001b[0;34m\u001b[0m\u001b[0m\n",
            "\u001b[0;32m/usr/local/lib/python3.11/dist-packages/torch/utils/data/dataloader.py\u001b[0m in \u001b[0;36m_process_data\u001b[0;34m(self, data)\u001b[0m\n\u001b[1;32m   1489\u001b[0m         \u001b[0mself\u001b[0m\u001b[0;34m.\u001b[0m\u001b[0m_try_put_index\u001b[0m\u001b[0;34m(\u001b[0m\u001b[0;34m)\u001b[0m\u001b[0;34m\u001b[0m\u001b[0;34m\u001b[0m\u001b[0m\n\u001b[1;32m   1490\u001b[0m         \u001b[0;32mif\u001b[0m \u001b[0misinstance\u001b[0m\u001b[0;34m(\u001b[0m\u001b[0mdata\u001b[0m\u001b[0;34m,\u001b[0m \u001b[0mExceptionWrapper\u001b[0m\u001b[0;34m)\u001b[0m\u001b[0;34m:\u001b[0m\u001b[0;34m\u001b[0m\u001b[0;34m\u001b[0m\u001b[0m\n\u001b[0;32m-> 1491\u001b[0;31m             \u001b[0mdata\u001b[0m\u001b[0;34m.\u001b[0m\u001b[0mreraise\u001b[0m\u001b[0;34m(\u001b[0m\u001b[0;34m)\u001b[0m\u001b[0;34m\u001b[0m\u001b[0;34m\u001b[0m\u001b[0m\n\u001b[0m\u001b[1;32m   1492\u001b[0m         \u001b[0;32mreturn\u001b[0m \u001b[0mdata\u001b[0m\u001b[0;34m\u001b[0m\u001b[0;34m\u001b[0m\u001b[0m\n\u001b[1;32m   1493\u001b[0m \u001b[0;34m\u001b[0m\u001b[0m\n",
            "\u001b[0;32m/usr/local/lib/python3.11/dist-packages/torch/_utils.py\u001b[0m in \u001b[0;36mreraise\u001b[0;34m(self)\u001b[0m\n\u001b[1;32m    713\u001b[0m             \u001b[0;31m# instantiate since we don't know how to\u001b[0m\u001b[0;34m\u001b[0m\u001b[0;34m\u001b[0m\u001b[0m\n\u001b[1;32m    714\u001b[0m             \u001b[0;32mraise\u001b[0m \u001b[0mRuntimeError\u001b[0m\u001b[0;34m(\u001b[0m\u001b[0mmsg\u001b[0m\u001b[0;34m)\u001b[0m \u001b[0;32mfrom\u001b[0m \u001b[0;32mNone\u001b[0m\u001b[0;34m\u001b[0m\u001b[0;34m\u001b[0m\u001b[0m\n\u001b[0;32m--> 715\u001b[0;31m         \u001b[0;32mraise\u001b[0m \u001b[0mexception\u001b[0m\u001b[0;34m\u001b[0m\u001b[0;34m\u001b[0m\u001b[0m\n\u001b[0m\u001b[1;32m    716\u001b[0m \u001b[0;34m\u001b[0m\u001b[0m\n\u001b[1;32m    717\u001b[0m \u001b[0;34m\u001b[0m\u001b[0m\n",
            "\u001b[0;31mTypeError\u001b[0m: Caught TypeError in DataLoader worker process 0.\nOriginal Traceback (most recent call last):\n  File \"/usr/local/lib/python3.11/dist-packages/torch/utils/data/_utils/worker.py\", line 351, in _worker_loop\n    data = fetcher.fetch(index)  # type: ignore[possibly-undefined]\n           ^^^^^^^^^^^^^^^^^^^^\n  File \"/usr/local/lib/python3.11/dist-packages/torch/utils/data/_utils/fetch.py\", line 50, in fetch\n    data = self.dataset.__getitems__(possibly_batched_index)\n           ^^^^^^^^^^^^^^^^^^^^^^^^^^^^^^^^^^^^^^^^^^^^^^^^^\n  File \"/usr/local/lib/python3.11/dist-packages/datasets/arrow_dataset.py\", line 2786, in __getitems__\n    batch = self.__getitem__(keys)\n            ^^^^^^^^^^^^^^^^^^^^^^\n  File \"/usr/local/lib/python3.11/dist-packages/datasets/arrow_dataset.py\", line 2782, in __getitem__\n    return self._getitem(key)\n           ^^^^^^^^^^^^^^^^^^\n  File \"/usr/local/lib/python3.11/dist-packages/datasets/arrow_dataset.py\", line 2767, in _getitem\n    formatted_output = format_table(\n                       ^^^^^^^^^^^^^\n  File \"/usr/local/lib/python3.11/dist-packages/datasets/formatting/formatting.py\", line 658, in format_table\n    return formatter(pa_table, query_type=query_type)\n           ^^^^^^^^^^^^^^^^^^^^^^^^^^^^^^^^^^^^^^^^^^\n  File \"/usr/local/lib/python3.11/dist-packages/datasets/formatting/formatting.py\", line 415, in __call__\n    return self.format_batch(pa_table)\n           ^^^^^^^^^^^^^^^^^^^^^^^^^^^\n  File \"/usr/local/lib/python3.11/dist-packages/datasets/formatting/formatting.py\", line 541, in format_batch\n    return self.transform(batch)\n           ^^^^^^^^^^^^^^^^^^^^^\n  File \"<ipython-input-50-77ef3386dcf1>\", line 33, in transform_image\n    output = image_processor(items[\"image\"][\"bytes\"], return_tensors=\"pt\")\n                             ~~~~~~~~~~~~~~^^^^^^^^^\nTypeError: list indices must be integers or slices, not str\n"
          ]
        }
      ],
      "source": [
        "clip_baseline = CLIPModel.from_pretrained(MODEL_NAME)\n",
        "freeze_params(clip_baseline)\n",
        "print_trainable_parameters(clip_baseline)\n",
        "print(clip_baseline)\n",
        "#evaluate_clip_classifier(clip_baseline, dataset['test'], TOKENIZER, labels)"
      ]
    },
    {
      "cell_type": "markdown",
      "id": "0662037f-7a6e-4f21-9383-68207cec1a76",
      "metadata": {
        "id": "0662037f-7a6e-4f21-9383-68207cec1a76"
      },
      "source": [
        "In our case we got 0.8 accuracy for free! But we can improve it even further our metrics with fine-tuning techniques."
      ]
    },
    {
      "cell_type": "markdown",
      "id": "7e31770f-6491-4fd7-a3d7-3eff8b723fb2",
      "metadata": {
        "id": "7e31770f-6491-4fd7-a3d7-3eff8b723fb2"
      },
      "source": [
        "## Fine-tuning"
      ]
    },
    {
      "cell_type": "markdown",
      "id": "6a0ff0e9-45c0-4a95-8a33-59030d5d2d98",
      "metadata": {
        "id": "6a0ff0e9-45c0-4a95-8a33-59030d5d2d98"
      },
      "source": [
        "In this section, we'll undertake the fine-tuning process leveraging the [🤗HuggingFace Trainer API](https://huggingface.co/docs/transformers/main_classes/trainer). The Trainer API significantly streamlines the training code, eliminating much of the boilerplate, and offers various features such as the ability to save model weights and training in fp16."
      ]
    },
    {
      "cell_type": "code",
      "execution_count": 55,
      "id": "b46ab3ba-524c-4842-88a7-fda209a813f0",
      "metadata": {
        "id": "b46ab3ba-524c-4842-88a7-fda209a813f0"
      },
      "outputs": [],
      "source": [
        "def collate_train_fn(items: LazyBatch):\n",
        "    items = collate_fn(items)\n",
        "    items.pop(\"label_id\")\n",
        "    return items\n",
        "\n",
        "\n",
        "def get_default_training_args(\n",
        "    experiment_name: str,\n",
        "    lr: float,\n",
        "    batch_size: int = 256,\n",
        "    num_epoch: int = 2,\n",
        "    num_workers: int = 15,\n",
        ") -> TrainingArguments:\n",
        "    \"\"\"Function gets default training arguments for HF Trainer\n",
        "\n",
        "    Args:\n",
        "        experiment_name (str): experiment name\n",
        "        lr (float): learning rate\n",
        "        batch_size (int, optional): batch size. Defaults to 256.\n",
        "        num_epoch (int, optional): number of epoch to train. Defaults to 2.\n",
        "        num_workers (int, optional): number of workers for dataloader. Defaults to 15.\n",
        "\n",
        "    Returns:\n",
        "        TrainingArguments: arguments object for HF Trainer\n",
        "    \"\"\"\n",
        "    return TrainingArguments(\n",
        "        experiment_name,\n",
        "        per_device_train_batch_size=batch_size,\n",
        "        learning_rate=lr,\n",
        "        num_train_epochs=num_epoch,\n",
        "        per_device_eval_batch_size=batch_size,\n",
        "        gradient_accumulation_steps=1,\n",
        "        logging_steps=10,\n",
        "        save_total_limit=2,\n",
        "        evaluation_strategy=\"epoch\",\n",
        "        save_strategy=\"epoch\",\n",
        "        fp16=True,\n",
        "        remove_unused_columns=False,\n",
        "        load_best_model_at_end=True,\n",
        "        dataloader_num_workers=num_workers,\n",
        "    )"
      ]
    },
    {
      "cell_type": "markdown",
      "id": "1294e881-db65-4cf9-9bfa-3cbb6e80ff01",
      "metadata": {
        "id": "1294e881-db65-4cf9-9bfa-3cbb6e80ff01"
      },
      "source": [
        "### All layers tuning"
      ]
    },
    {
      "cell_type": "markdown",
      "id": "a07a0df3-4f68-47ad-b889-681410a41b8a",
      "metadata": {
        "id": "a07a0df3-4f68-47ad-b889-681410a41b8a"
      },
      "source": [
        "Initially, let's explore the simplest approach to fine-tuning, which involves fine-tuning all layers of the model. While straightforward, it's important to note that this method is computationally intensive."
      ]
    },
    {
      "cell_type": "code",
      "execution_count": null,
      "id": "660a05ec-8113-4460-ad67-d2ffd346a6b2",
      "metadata": {
        "colab": {
          "base_uri": "https://localhost:8080/",
          "height": 212
        },
        "id": "660a05ec-8113-4460-ad67-d2ffd346a6b2",
        "outputId": "85e6d2a7-cf7c-4f09-a0c6-b11b21440914"
      },
      "outputs": [
        {
          "output_type": "stream",
          "name": "stderr",
          "text": [
            "/usr/local/lib/python3.11/dist-packages/transformers/training_args.py:1575: FutureWarning: `evaluation_strategy` is deprecated and will be removed in version 4.46 of 🤗 Transformers. Use `eval_strategy` instead\n",
            "  warnings.warn(\n",
            "/usr/local/lib/python3.11/dist-packages/torch/utils/data/dataloader.py:617: UserWarning: This DataLoader will create 15 worker processes in total. Our suggested max number of worker in current system is 2, which is smaller than what this DataLoader is going to create. Please be aware that excessive worker creation might get DataLoader running slow or even freeze, lower the worker number to avoid potential slowness/freeze if necessary.\n",
            "  warnings.warn(\n",
            "\u001b[34m\u001b[1mwandb\u001b[0m: \u001b[33mWARNING\u001b[0m The `run_name` is currently set to the same value as `TrainingArguments.output_dir`. If this was not intended, please specify a different run name by setting the `TrainingArguments.run_name` parameter.\n"
          ]
        },
        {
          "output_type": "display_data",
          "data": {
            "text/plain": [
              "<IPython.core.display.Javascript object>"
            ],
            "application/javascript": [
              "\n",
              "        window._wandbApiKey = new Promise((resolve, reject) => {\n",
              "            function loadScript(url) {\n",
              "            return new Promise(function(resolve, reject) {\n",
              "                let newScript = document.createElement(\"script\");\n",
              "                newScript.onerror = reject;\n",
              "                newScript.onload = resolve;\n",
              "                document.body.appendChild(newScript);\n",
              "                newScript.src = url;\n",
              "            });\n",
              "            }\n",
              "            loadScript(\"https://cdn.jsdelivr.net/npm/postmate/build/postmate.min.js\").then(() => {\n",
              "            const iframe = document.createElement('iframe')\n",
              "            iframe.style.cssText = \"width:0;height:0;border:none\"\n",
              "            document.body.appendChild(iframe)\n",
              "            const handshake = new Postmate({\n",
              "                container: iframe,\n",
              "                url: 'https://wandb.ai/authorize'\n",
              "            });\n",
              "            const timeout = setTimeout(() => reject(\"Couldn't auto authenticate\"), 5000)\n",
              "            handshake.then(function(child) {\n",
              "                child.on('authorize', data => {\n",
              "                    clearTimeout(timeout)\n",
              "                    resolve(data)\n",
              "                });\n",
              "            });\n",
              "            })\n",
              "        });\n",
              "    "
            ]
          },
          "metadata": {}
        },
        {
          "output_type": "stream",
          "name": "stderr",
          "text": [
            "\u001b[34m\u001b[1mwandb\u001b[0m: Logging into wandb.ai. (Learn how to deploy a W&B server locally: https://wandb.me/wandb-server)\n",
            "\u001b[34m\u001b[1mwandb\u001b[0m: You can find your API key in your browser here: https://wandb.ai/authorize\n",
            "wandb: Paste an API key from your profile and hit enter:"
          ]
        }
      ],
      "source": [
        "clip_full_finetuned = CLIPModel.from_pretrained(MODEL_NAME)\n",
        "trainer = Trainer(\n",
        "    model=clip_full_finetuned,\n",
        "    args=get_default_training_args(\"clip-all-layers-tuning-oxford-pets\", 3e-6),\n",
        "    data_collator=collate_train_fn,\n",
        "    train_dataset=dataset[\"train\"],\n",
        "    eval_dataset=dataset[\"val\"],\n",
        ")\n",
        "\n",
        "trainer.train()"
      ]
    },
    {
      "cell_type": "code",
      "execution_count": null,
      "id": "86733e8d-66d0-445a-86f6-d18f728d1982",
      "metadata": {
        "colab": {
          "referenced_widgets": [
            "2f44dd20a1c246bd9604a45accc9dbf5"
          ]
        },
        "id": "86733e8d-66d0-445a-86f6-d18f728d1982",
        "outputId": "51bdd2fc-922c-4821-ff38-c8a4ba2916b9"
      },
      "outputs": [
        {
          "name": "stdout",
          "output_type": "stream",
          "text": [
            "Trainable params: 151.2773M || All params: 151.2773M || Trainable%: 100.00%\n"
          ]
        },
        {
          "data": {
            "application/vnd.jupyter.widget-view+json": {
              "model_id": "2f44dd20a1c246bd9604a45accc9dbf5",
              "version_major": 2,
              "version_minor": 0
            },
            "text/plain": [
              "Evaluate model on dataset:   0%|          | 0/28 [00:00<?, ?it/s]"
            ]
          },
          "metadata": {},
          "output_type": "display_data"
        },
        {
          "name": "stdout",
          "output_type": "stream",
          "text": [
            "Model accuracy: 0.9278059785673999\n"
          ]
        }
      ],
      "source": [
        "print_trainable_parameters(clip_full_finetuned)\n",
        "evaluate_clip_classifier(clip_full_finetuned, dataset['test'], TOKENIZER, labels)"
      ]
    },
    {
      "cell_type": "markdown",
      "id": "4893a75d-fae2-419a-9058-99f5b61a0f56",
      "metadata": {
        "id": "4893a75d-fae2-419a-9058-99f5b61a0f56"
      },
      "source": [
        "### Fine-tuning Text Encoder"
      ]
    },
    {
      "cell_type": "markdown",
      "id": "0b2c718b-35e8-4498-822a-25f6658a5d50",
      "metadata": {
        "id": "0b2c718b-35e8-4498-822a-25f6658a5d50"
      },
      "source": [
        "Following that, we have the option to fine-tune only the language model while keeping the visual model weights frozen. This method proves beneficial when dataset labels are provided in a language that differs from the one in which the language model was originally trained."
      ]
    },
    {
      "cell_type": "code",
      "execution_count": null,
      "id": "f6534e8c-5b86-4925-ae69-dde621cf5a33",
      "metadata": {
        "id": "f6534e8c-5b86-4925-ae69-dde621cf5a33",
        "outputId": "24104fb0-c564-422c-f3df-db42ae799692"
      },
      "outputs": [
        {
          "data": {
            "text/html": [
              "\n",
              "    <div>\n",
              "      \n",
              "      <progress value='42' max='42' style='width:300px; height:20px; vertical-align: middle;'></progress>\n",
              "      [42/42 00:32, Epoch 2/2]\n",
              "    </div>\n",
              "    <table border=\"1\" class=\"dataframe\">\n",
              "  <thead>\n",
              " <tr style=\"text-align: left;\">\n",
              "      <th>Epoch</th>\n",
              "      <th>Training Loss</th>\n",
              "      <th>Validation Loss</th>\n",
              "    </tr>\n",
              "  </thead>\n",
              "  <tbody>\n",
              "    <tr>\n",
              "      <td>1</td>\n",
              "      <td>2.477200</td>\n",
              "      <td>2.262403</td>\n",
              "    </tr>\n",
              "    <tr>\n",
              "      <td>2</td>\n",
              "      <td>2.331100</td>\n",
              "      <td>2.229800</td>\n",
              "    </tr>\n",
              "  </tbody>\n",
              "</table><p>"
            ],
            "text/plain": [
              "<IPython.core.display.HTML object>"
            ]
          },
          "metadata": {},
          "output_type": "display_data"
        },
        {
          "data": {
            "text/plain": [
              "TrainOutput(global_step=42, training_loss=2.395583402542841, metrics={'train_runtime': 40.0923, 'train_samples_per_second': 258.054, 'train_steps_per_second': 1.048, 'total_flos': 70339764267612.0, 'train_loss': 2.395583402542841, 'epoch': 2.0})"
            ]
          },
          "execution_count": 19,
          "metadata": {},
          "output_type": "execute_result"
        }
      ],
      "source": [
        "clip_text_model_tuning = CLIPModel.from_pretrained(MODEL_NAME)\n",
        "freeze_params(clip_text_model_tuning.vision_model)\n",
        "\n",
        "trainer = Trainer(\n",
        "    model=clip_text_model_tuning,\n",
        "    args=get_default_training_args(\"clip-text-model-tuning-oxford-pets\", 3e-5),\n",
        "    data_collator=collate_train_fn,\n",
        "    train_dataset=dataset[\"train\"],\n",
        "    eval_dataset=dataset[\"val\"],\n",
        ")\n",
        "\n",
        "trainer.train()"
      ]
    },
    {
      "cell_type": "code",
      "execution_count": null,
      "id": "3152ce73-ac4b-4b7d-abe0-e260d12d967d",
      "metadata": {
        "colab": {
          "referenced_widgets": [
            "3c5bb8f49ae6463c97db810d0dc271d7"
          ]
        },
        "id": "3152ce73-ac4b-4b7d-abe0-e260d12d967d",
        "outputId": "08eac624-739a-4ecd-bd25-512682615b0d"
      },
      "outputs": [
        {
          "name": "stdout",
          "output_type": "stream",
          "text": [
            "Trainable params: 63.8213M || All params: 151.2773M || Trainable%: 42.19%\n"
          ]
        },
        {
          "data": {
            "application/vnd.jupyter.widget-view+json": {
              "model_id": "3c5bb8f49ae6463c97db810d0dc271d7",
              "version_major": 2,
              "version_minor": 0
            },
            "text/plain": [
              "Evaluate model on dataset:   0%|          | 0/28 [00:00<?, ?it/s]"
            ]
          },
          "metadata": {},
          "output_type": "display_data"
        },
        {
          "name": "stdout",
          "output_type": "stream",
          "text": [
            "Model accuracy: 0.9199097574732092\n"
          ]
        }
      ],
      "source": [
        "print_trainable_parameters(clip_text_model_tuning)\n",
        "evaluate_clip_classifier(clip_text_model_tuning, dataset['test'], TOKENIZER, labels)"
      ]
    },
    {
      "cell_type": "markdown",
      "id": "1b52aaec-780b-462c-9617-6e895495cb34",
      "metadata": {
        "id": "1b52aaec-780b-462c-9617-6e895495cb34"
      },
      "source": [
        "### Fine-tuning Image Encoder"
      ]
    },
    {
      "cell_type": "markdown",
      "id": "e6968264-b3e4-4f8a-bb6d-04265832105a",
      "metadata": {
        "id": "e6968264-b3e4-4f8a-bb6d-04265832105a"
      },
      "source": [
        "We can do the opposite and fine-tune only vision model. This can be useful if the image domain in your dataset is quite specific, such as satellite images"
      ]
    },
    {
      "cell_type": "code",
      "execution_count": null,
      "id": "b071345e-4930-4dc3-bf62-ef81bf4c4308",
      "metadata": {
        "id": "b071345e-4930-4dc3-bf62-ef81bf4c4308",
        "outputId": "ccc1f05a-d92c-4206-f462-e5802367174e"
      },
      "outputs": [
        {
          "data": {
            "text/html": [
              "\n",
              "    <div>\n",
              "      \n",
              "      <progress value='42' max='42' style='width:300px; height:20px; vertical-align: middle;'></progress>\n",
              "      [42/42 00:34, Epoch 2/2]\n",
              "    </div>\n",
              "    <table border=\"1\" class=\"dataframe\">\n",
              "  <thead>\n",
              " <tr style=\"text-align: left;\">\n",
              "      <th>Epoch</th>\n",
              "      <th>Training Loss</th>\n",
              "      <th>Validation Loss</th>\n",
              "    </tr>\n",
              "  </thead>\n",
              "  <tbody>\n",
              "    <tr>\n",
              "      <td>1</td>\n",
              "      <td>2.532900</td>\n",
              "      <td>2.441825</td>\n",
              "    </tr>\n",
              "    <tr>\n",
              "      <td>2</td>\n",
              "      <td>2.245000</td>\n",
              "      <td>2.330577</td>\n",
              "    </tr>\n",
              "  </tbody>\n",
              "</table><p>"
            ],
            "text/plain": [
              "<IPython.core.display.HTML object>"
            ]
          },
          "metadata": {},
          "output_type": "display_data"
        },
        {
          "data": {
            "text/plain": [
              "TrainOutput(global_step=42, training_loss=2.4347278277079263, metrics={'train_runtime': 42.5156, 'train_samples_per_second': 243.346, 'train_steps_per_second': 0.988, 'total_flos': 70339764267612.0, 'train_loss': 2.4347278277079263, 'epoch': 2.0})"
            ]
          },
          "execution_count": 21,
          "metadata": {},
          "output_type": "execute_result"
        }
      ],
      "source": [
        "clip_vision_model_tuning = CLIPModel.from_pretrained(MODEL_NAME)\n",
        "freeze_params(clip_vision_model_tuning.text_model)\n",
        "\n",
        "trainer = Trainer(\n",
        "    model=clip_vision_model_tuning,\n",
        "    args=get_default_training_args(\"clip-vision-model-tuning-oxford-pets\", 3e-5),\n",
        "    data_collator=collate_train_fn,\n",
        "    train_dataset=dataset[\"train\"],\n",
        "    eval_dataset=dataset[\"test\"],\n",
        ")\n",
        "\n",
        "trainer.train()"
      ]
    },
    {
      "cell_type": "code",
      "execution_count": null,
      "id": "7662e00b-7819-4aa6-84fd-03dbc20bbdf5",
      "metadata": {
        "colab": {
          "referenced_widgets": [
            "dcd185ede6b84d39855c7b03040b102f"
          ]
        },
        "id": "7662e00b-7819-4aa6-84fd-03dbc20bbdf5",
        "outputId": "bc3f3ead-b88a-49af-c6c3-49af9d037cb4"
      },
      "outputs": [
        {
          "name": "stdout",
          "output_type": "stream",
          "text": [
            "Trainable params: 88.1114M || All params: 151.2773M || Trainable%: 58.24%\n"
          ]
        },
        {
          "data": {
            "application/vnd.jupyter.widget-view+json": {
              "model_id": "dcd185ede6b84d39855c7b03040b102f",
              "version_major": 2,
              "version_minor": 0
            },
            "text/plain": [
              "Evaluate model on dataset:   0%|          | 0/28 [00:00<?, ?it/s]"
            ]
          },
          "metadata": {},
          "output_type": "display_data"
        },
        {
          "name": "stdout",
          "output_type": "stream",
          "text": [
            "Model accuracy: 0.924985899605189\n"
          ]
        }
      ],
      "source": [
        "print_trainable_parameters(clip_vision_model_tuning)\n",
        "evaluate_clip_classifier(clip_vision_model_tuning, dataset['test'], TOKENIZER, labels)"
      ]
    },
    {
      "cell_type": "markdown",
      "id": "d7600733-cf2a-424f-8f34-8b2e925f9656",
      "metadata": {
        "id": "d7600733-cf2a-424f-8f34-8b2e925f9656"
      },
      "source": [
        "### Fine-tune 30 percent of the Last Layers of Vision-Language Model"
      ]
    },
    {
      "cell_type": "markdown",
      "id": "9ee550c1-4fb8-432f-a9f8-0a7cbc96d68b",
      "metadata": {
        "id": "9ee550c1-4fb8-432f-a9f8-0a7cbc96d68b"
      },
      "source": [
        "The most universal option is to fine-tune only the last layers in both models. This approach strikes a balance, allowing adaptation to the specific task while leveraging the pre-trained knowledge from the lower layers."
      ]
    },
    {
      "cell_type": "code",
      "execution_count": null,
      "id": "cac157de-c028-46aa-91cf-29c92ed903a1",
      "metadata": {
        "id": "cac157de-c028-46aa-91cf-29c92ed903a1"
      },
      "outputs": [],
      "source": [
        "clip_partial_tuning = CLIPModel.from_pretrained(MODEL_NAME)\n",
        "freeze_params(clip_partial_tuning.text_model, freeze_top_percent=0.7)\n",
        "freeze_params(clip_partial_tuning.vision_model, freeze_top_percent=0.7)"
      ]
    },
    {
      "cell_type": "code",
      "execution_count": null,
      "id": "a05c7453-c488-4fa1-b8c7-66b4aeaa6fc9",
      "metadata": {
        "id": "a05c7453-c488-4fa1-b8c7-66b4aeaa6fc9",
        "outputId": "37a68826-cfbb-4d8b-df12-e1e3de87cacf"
      },
      "outputs": [
        {
          "data": {
            "text/html": [
              "\n",
              "    <div>\n",
              "      \n",
              "      <progress value='42' max='42' style='width:300px; height:20px; vertical-align: middle;'></progress>\n",
              "      [42/42 00:32, Epoch 2/2]\n",
              "    </div>\n",
              "    <table border=\"1\" class=\"dataframe\">\n",
              "  <thead>\n",
              " <tr style=\"text-align: left;\">\n",
              "      <th>Epoch</th>\n",
              "      <th>Training Loss</th>\n",
              "      <th>Validation Loss</th>\n",
              "    </tr>\n",
              "  </thead>\n",
              "  <tbody>\n",
              "    <tr>\n",
              "      <td>1</td>\n",
              "      <td>2.389500</td>\n",
              "      <td>2.181050</td>\n",
              "    </tr>\n",
              "    <tr>\n",
              "      <td>2</td>\n",
              "      <td>2.209200</td>\n",
              "      <td>2.150931</td>\n",
              "    </tr>\n",
              "  </tbody>\n",
              "</table><p>"
            ],
            "text/plain": [
              "<IPython.core.display.HTML object>"
            ]
          },
          "metadata": {},
          "output_type": "display_data"
        },
        {
          "data": {
            "text/plain": [
              "TrainOutput(global_step=42, training_loss=2.3123262382688976, metrics={'train_runtime': 40.1759, 'train_samples_per_second': 257.517, 'train_steps_per_second': 1.045, 'total_flos': 70339764267612.0, 'train_loss': 2.3123262382688976, 'epoch': 2.0})"
            ]
          },
          "execution_count": 24,
          "metadata": {},
          "output_type": "execute_result"
        }
      ],
      "source": [
        "trainer = Trainer(\n",
        "    model=clip_partial_tuning,\n",
        "    args=get_default_training_args(\"clip-partial-model-tuning-oxford-pets\", 3e-5),\n",
        "    data_collator=collate_train_fn,\n",
        "    train_dataset=dataset[\"train\"],\n",
        "    eval_dataset=dataset[\"val\"],\n",
        ")\n",
        "\n",
        "trainer.train()"
      ]
    },
    {
      "cell_type": "code",
      "execution_count": null,
      "id": "84cc5eec-80e7-42ee-b3dd-34b05c9a0072",
      "metadata": {
        "colab": {
          "referenced_widgets": [
            "5cc6c1736d4c447c80595d345708c9dc"
          ]
        },
        "id": "84cc5eec-80e7-42ee-b3dd-34b05c9a0072",
        "outputId": "70ba516a-d4d0-4081-c0e7-b4f3a5998570"
      },
      "outputs": [
        {
          "name": "stdout",
          "output_type": "stream",
          "text": [
            "Trainable params: 38.7971M || All params: 151.2773M || Trainable%: 25.65%\n"
          ]
        },
        {
          "data": {
            "application/vnd.jupyter.widget-view+json": {
              "model_id": "5cc6c1736d4c447c80595d345708c9dc",
              "version_major": 2,
              "version_minor": 0
            },
            "text/plain": [
              "Evaluate model on dataset:   0%|          | 0/28 [00:00<?, ?it/s]"
            ]
          },
          "metadata": {},
          "output_type": "display_data"
        },
        {
          "name": "stdout",
          "output_type": "stream",
          "text": [
            "Model accuracy: 0.9334461364918217\n"
          ]
        }
      ],
      "source": [
        "print_trainable_parameters(clip_partial_tuning)\n",
        "evaluate_clip_classifier(clip_partial_tuning, dataset['test'], TOKENIZER, labels)"
      ]
    },
    {
      "cell_type": "markdown",
      "id": "f9a57519-8f58-4b92-b4a0-8c6edb36e189",
      "metadata": {
        "id": "f9a57519-8f58-4b92-b4a0-8c6edb36e189"
      },
      "source": [
        "### PEFT tuning (with LoRA)"
      ]
    },
    {
      "cell_type": "markdown",
      "id": "61e2c4de-adcc-41a7-ad17-9fb3a30a2bfd",
      "metadata": {
        "id": "61e2c4de-adcc-41a7-ad17-9fb3a30a2bfd"
      },
      "source": [
        "In cases where you want to fine-tune a pre-trained model with a large number of parameters, you can use the [PEFT](https://huggingface.co/blog/peft)(Parameter-Efficient Fine-Tuning) techniques. PEFT allows you to train a small number of parameters (about 1-5% of all model parameters) with performance comparable to training all layers\n",
        "\n",
        "In our case, we will use the [LoRA](https://huggingface.co/docs/peft/conceptual_guides/lora) technique using the [🤗HuggingFace PEFT](https://huggingface.co/docs/peft/index) library.\n",
        "\n",
        "**LoRA** introduces two small-rank matrices (called *update matrices*) to the initial weights of the pretrained model. Throughout the fine-tuning process, the initial weights of the model remain frozen, and only the update matrices are trained.\n",
        "\n",
        "In our specific case, we'll employ update matrices of rank 64, applied to the query, key, and value matrices in both the visual and language components of the CLIP model."
      ]
    },
    {
      "cell_type": "code",
      "execution_count": null,
      "id": "074d8f7c-f00c-4783-ad09-eb913a385af7",
      "metadata": {
        "id": "074d8f7c-f00c-4783-ad09-eb913a385af7"
      },
      "outputs": [],
      "source": [
        "clip_lora_tuning = CLIPModel.from_pretrained(MODEL_NAME)\n",
        "config = LoraConfig(\n",
        "    r=64,\n",
        "    lora_alpha=64,\n",
        "    target_modules=['q_proj', 'k_proj', 'v_proj'],\n",
        ")\n",
        "\n",
        "lora_model = get_peft_model(clip_lora_tuning, config)"
      ]
    },
    {
      "cell_type": "code",
      "execution_count": null,
      "id": "f9201e73-e832-4f7a-bcaa-e23c04b4bc1e",
      "metadata": {
        "id": "f9201e73-e832-4f7a-bcaa-e23c04b4bc1e",
        "outputId": "fbbd9966-1e70-4839-dcda-101bf280eda1"
      },
      "outputs": [
        {
          "data": {
            "text/html": [
              "\n",
              "    <div>\n",
              "      \n",
              "      <progress value='42' max='42' style='width:300px; height:20px; vertical-align: middle;'></progress>\n",
              "      [42/42 00:31, Epoch 2/2]\n",
              "    </div>\n",
              "    <table border=\"1\" class=\"dataframe\">\n",
              "  <thead>\n",
              " <tr style=\"text-align: left;\">\n",
              "      <th>Epoch</th>\n",
              "      <th>Training Loss</th>\n",
              "      <th>Validation Loss</th>\n",
              "    </tr>\n",
              "  </thead>\n",
              "  <tbody>\n",
              "    <tr>\n",
              "      <td>1</td>\n",
              "      <td>2.410300</td>\n",
              "      <td>2.221336</td>\n",
              "    </tr>\n",
              "    <tr>\n",
              "      <td>2</td>\n",
              "      <td>2.251800</td>\n",
              "      <td>2.195205</td>\n",
              "    </tr>\n",
              "  </tbody>\n",
              "</table><p>"
            ],
            "text/plain": [
              "<IPython.core.display.HTML object>"
            ]
          },
          "metadata": {},
          "output_type": "display_data"
        },
        {
          "data": {
            "text/plain": [
              "TrainOutput(global_step=42, training_loss=2.320029849097842, metrics={'train_runtime': 40.0491, 'train_samples_per_second': 258.333, 'train_steps_per_second': 1.049, 'total_flos': 73635016583772.0, 'train_loss': 2.320029849097842, 'epoch': 2.0})"
            ]
          },
          "execution_count": 27,
          "metadata": {},
          "output_type": "execute_result"
        }
      ],
      "source": [
        "trainer = Trainer(\n",
        "    model=lora_model,\n",
        "    args=get_default_training_args(\"clip-lora-model-tuning-oxford-pets\", 3e-4),\n",
        "    data_collator=collate_train_fn,\n",
        "    train_dataset=dataset[\"train\"],\n",
        "    eval_dataset=dataset[\"val\"],\n",
        ")\n",
        "\n",
        "trainer.train()"
      ]
    },
    {
      "cell_type": "code",
      "execution_count": null,
      "id": "dfc52eef-2901-4d6a-96d1-787ae4a29c09",
      "metadata": {
        "colab": {
          "referenced_widgets": [
            "7d524ca329cb4252a7e4664cf43ba4f2"
          ]
        },
        "id": "dfc52eef-2901-4d6a-96d1-787ae4a29c09",
        "outputId": "dd25a91e-e80a-4816-f131-c78ee89e8b39"
      },
      "outputs": [
        {
          "name": "stdout",
          "output_type": "stream",
          "text": [
            "Trainable params: 5.8982M || All params: 157.1756M || Trainable%: 3.75%\n"
          ]
        },
        {
          "data": {
            "application/vnd.jupyter.widget-view+json": {
              "model_id": "7d524ca329cb4252a7e4664cf43ba4f2",
              "version_major": 2,
              "version_minor": 0
            },
            "text/plain": [
              "Evaluate model on dataset:   0%|          | 0/28 [00:00<?, ?it/s]"
            ]
          },
          "metadata": {},
          "output_type": "display_data"
        },
        {
          "name": "stdout",
          "output_type": "stream",
          "text": [
            "Model accuracy: 0.9261139311900733\n"
          ]
        }
      ],
      "source": [
        "print_trainable_parameters(lora_model)\n",
        "evaluate_clip_classifier(lora_model, dataset['test'], TOKENIZER, labels)"
      ]
    },
    {
      "cell_type": "markdown",
      "id": "077a1adc-0765-4b83-b4e2-971a4734e2e6",
      "metadata": {
        "id": "077a1adc-0765-4b83-b4e2-971a4734e2e6"
      },
      "source": [
        "## Conclusion"
      ]
    },
    {
      "cell_type": "markdown",
      "id": "b7fef04e-b1f5-475d-a4fb-77b1114bec75",
      "metadata": {
        "id": "b7fef04e-b1f5-475d-a4fb-77b1114bec75"
      },
      "source": [
        "In this notebook, we explored the fine-tuning of a CLIP model on the Oxford-pets dataset, assessing the model's performance in zero-shot mode and through various fine-tuning methods, including PEFT.\n",
        "\n",
        "The achieved results are summarized below:\n",
        "\n",
        "| Model                       | Trainable Parameters (M) |  Trainable Parameters (%) | Accuracy    |\n",
        "| --------------------------- | ------------------------ | ------------------------- | ----------- |\n",
        "| Baseline (Zero-shot)        | 0                        | 0%                        | 0.8003      |\n",
        "| Full fine-tuning            | 151.28                   | 100%                      | 0.9278      |\n",
        "| Only language model tuning  | 63.82                    | 42.19%                    | 0.9199      |\n",
        "| Only vision model tuning    | 88.11                    | 58.24%                    | 0.9250      |\n",
        "|Top 30% of both models tuning| 38.79                    | 25.65%                    | **0.9334**  |  \n",
        "| LoRA tuning                 | **5.90**                 | **3.75%**                 | 0.9261      |\n",
        "\n",
        "In our case, the best result was obtained from the model with fine-tuning only top 30% of layers.\n",
        "\n",
        "Feel free to experiment with training parameters in the Trainer and CLIP model settings to potentially enhance the results further!"
      ]
    }
  ],
  "metadata": {
    "kernelspec": {
      "display_name": "Python 3",
      "name": "python3"
    },
    "language_info": {
      "codemirror_mode": {
        "name": "ipython",
        "version": 3
      },
      "file_extension": ".py",
      "mimetype": "text/x-python",
      "name": "python",
      "nbconvert_exporter": "python",
      "pygments_lexer": "ipython3",
      "version": "3.8.5"
    },
    "colab": {
      "provenance": [],
      "gpuType": "T4",
      "include_colab_link": true
    },
    "accelerator": "GPU",
    "widgets": {
      "application/vnd.jupyter.widget-state+json": {
        "27c6dd09d1b947709d826ed58cdcf935": {
          "model_module": "@jupyter-widgets/controls",
          "model_name": "HBoxModel",
          "model_module_version": "1.5.0",
          "state": {
            "_dom_classes": [],
            "_model_module": "@jupyter-widgets/controls",
            "_model_module_version": "1.5.0",
            "_model_name": "HBoxModel",
            "_view_count": null,
            "_view_module": "@jupyter-widgets/controls",
            "_view_module_version": "1.5.0",
            "_view_name": "HBoxView",
            "box_style": "",
            "children": [
              "IPY_MODEL_69776fe5c1e447d89c7729e33adba6f6",
              "IPY_MODEL_1e26d93475a74358a2358b9efe3167da",
              "IPY_MODEL_7e9cb7b2a63a42e69da50a63a56532f1"
            ],
            "layout": "IPY_MODEL_2efbbc9c5d8049d5b2ce6d94061964d6"
          }
        },
        "69776fe5c1e447d89c7729e33adba6f6": {
          "model_module": "@jupyter-widgets/controls",
          "model_name": "HTMLModel",
          "model_module_version": "1.5.0",
          "state": {
            "_dom_classes": [],
            "_model_module": "@jupyter-widgets/controls",
            "_model_module_version": "1.5.0",
            "_model_name": "HTMLModel",
            "_view_count": null,
            "_view_module": "@jupyter-widgets/controls",
            "_view_module_version": "1.5.0",
            "_view_name": "HTMLView",
            "description": "",
            "description_tooltip": null,
            "layout": "IPY_MODEL_d9c46802e91243e8a472e8eaed604316",
            "placeholder": "​",
            "style": "IPY_MODEL_d6e710c1308444abb0efdc31aea89f3f",
            "value": "Map: 100%"
          }
        },
        "1e26d93475a74358a2358b9efe3167da": {
          "model_module": "@jupyter-widgets/controls",
          "model_name": "FloatProgressModel",
          "model_module_version": "1.5.0",
          "state": {
            "_dom_classes": [],
            "_model_module": "@jupyter-widgets/controls",
            "_model_module_version": "1.5.0",
            "_model_name": "FloatProgressModel",
            "_view_count": null,
            "_view_module": "@jupyter-widgets/controls",
            "_view_module_version": "1.5.0",
            "_view_name": "ProgressView",
            "bar_style": "success",
            "description": "",
            "description_tooltip": null,
            "layout": "IPY_MODEL_4c32deb61b64491a86b81e136fc152b1",
            "max": 5173,
            "min": 0,
            "orientation": "horizontal",
            "style": "IPY_MODEL_9d13448152004428a17f44831efab7d6",
            "value": 5173
          }
        },
        "7e9cb7b2a63a42e69da50a63a56532f1": {
          "model_module": "@jupyter-widgets/controls",
          "model_name": "HTMLModel",
          "model_module_version": "1.5.0",
          "state": {
            "_dom_classes": [],
            "_model_module": "@jupyter-widgets/controls",
            "_model_module_version": "1.5.0",
            "_model_name": "HTMLModel",
            "_view_count": null,
            "_view_module": "@jupyter-widgets/controls",
            "_view_module_version": "1.5.0",
            "_view_name": "HTMLView",
            "description": "",
            "description_tooltip": null,
            "layout": "IPY_MODEL_2c4d85f3826441a88be78348e6f460ed",
            "placeholder": "​",
            "style": "IPY_MODEL_12dd1917bc4246d2b5f5896647614eff",
            "value": " 5173/5173 [00:01&lt;00:00, 4580.27 examples/s]"
          }
        },
        "2efbbc9c5d8049d5b2ce6d94061964d6": {
          "model_module": "@jupyter-widgets/base",
          "model_name": "LayoutModel",
          "model_module_version": "1.2.0",
          "state": {
            "_model_module": "@jupyter-widgets/base",
            "_model_module_version": "1.2.0",
            "_model_name": "LayoutModel",
            "_view_count": null,
            "_view_module": "@jupyter-widgets/base",
            "_view_module_version": "1.2.0",
            "_view_name": "LayoutView",
            "align_content": null,
            "align_items": null,
            "align_self": null,
            "border": null,
            "bottom": null,
            "display": null,
            "flex": null,
            "flex_flow": null,
            "grid_area": null,
            "grid_auto_columns": null,
            "grid_auto_flow": null,
            "grid_auto_rows": null,
            "grid_column": null,
            "grid_gap": null,
            "grid_row": null,
            "grid_template_areas": null,
            "grid_template_columns": null,
            "grid_template_rows": null,
            "height": null,
            "justify_content": null,
            "justify_items": null,
            "left": null,
            "margin": null,
            "max_height": null,
            "max_width": null,
            "min_height": null,
            "min_width": null,
            "object_fit": null,
            "object_position": null,
            "order": null,
            "overflow": null,
            "overflow_x": null,
            "overflow_y": null,
            "padding": null,
            "right": null,
            "top": null,
            "visibility": null,
            "width": null
          }
        },
        "d9c46802e91243e8a472e8eaed604316": {
          "model_module": "@jupyter-widgets/base",
          "model_name": "LayoutModel",
          "model_module_version": "1.2.0",
          "state": {
            "_model_module": "@jupyter-widgets/base",
            "_model_module_version": "1.2.0",
            "_model_name": "LayoutModel",
            "_view_count": null,
            "_view_module": "@jupyter-widgets/base",
            "_view_module_version": "1.2.0",
            "_view_name": "LayoutView",
            "align_content": null,
            "align_items": null,
            "align_self": null,
            "border": null,
            "bottom": null,
            "display": null,
            "flex": null,
            "flex_flow": null,
            "grid_area": null,
            "grid_auto_columns": null,
            "grid_auto_flow": null,
            "grid_auto_rows": null,
            "grid_column": null,
            "grid_gap": null,
            "grid_row": null,
            "grid_template_areas": null,
            "grid_template_columns": null,
            "grid_template_rows": null,
            "height": null,
            "justify_content": null,
            "justify_items": null,
            "left": null,
            "margin": null,
            "max_height": null,
            "max_width": null,
            "min_height": null,
            "min_width": null,
            "object_fit": null,
            "object_position": null,
            "order": null,
            "overflow": null,
            "overflow_x": null,
            "overflow_y": null,
            "padding": null,
            "right": null,
            "top": null,
            "visibility": null,
            "width": null
          }
        },
        "d6e710c1308444abb0efdc31aea89f3f": {
          "model_module": "@jupyter-widgets/controls",
          "model_name": "DescriptionStyleModel",
          "model_module_version": "1.5.0",
          "state": {
            "_model_module": "@jupyter-widgets/controls",
            "_model_module_version": "1.5.0",
            "_model_name": "DescriptionStyleModel",
            "_view_count": null,
            "_view_module": "@jupyter-widgets/base",
            "_view_module_version": "1.2.0",
            "_view_name": "StyleView",
            "description_width": ""
          }
        },
        "4c32deb61b64491a86b81e136fc152b1": {
          "model_module": "@jupyter-widgets/base",
          "model_name": "LayoutModel",
          "model_module_version": "1.2.0",
          "state": {
            "_model_module": "@jupyter-widgets/base",
            "_model_module_version": "1.2.0",
            "_model_name": "LayoutModel",
            "_view_count": null,
            "_view_module": "@jupyter-widgets/base",
            "_view_module_version": "1.2.0",
            "_view_name": "LayoutView",
            "align_content": null,
            "align_items": null,
            "align_self": null,
            "border": null,
            "bottom": null,
            "display": null,
            "flex": null,
            "flex_flow": null,
            "grid_area": null,
            "grid_auto_columns": null,
            "grid_auto_flow": null,
            "grid_auto_rows": null,
            "grid_column": null,
            "grid_gap": null,
            "grid_row": null,
            "grid_template_areas": null,
            "grid_template_columns": null,
            "grid_template_rows": null,
            "height": null,
            "justify_content": null,
            "justify_items": null,
            "left": null,
            "margin": null,
            "max_height": null,
            "max_width": null,
            "min_height": null,
            "min_width": null,
            "object_fit": null,
            "object_position": null,
            "order": null,
            "overflow": null,
            "overflow_x": null,
            "overflow_y": null,
            "padding": null,
            "right": null,
            "top": null,
            "visibility": null,
            "width": null
          }
        },
        "9d13448152004428a17f44831efab7d6": {
          "model_module": "@jupyter-widgets/controls",
          "model_name": "ProgressStyleModel",
          "model_module_version": "1.5.0",
          "state": {
            "_model_module": "@jupyter-widgets/controls",
            "_model_module_version": "1.5.0",
            "_model_name": "ProgressStyleModel",
            "_view_count": null,
            "_view_module": "@jupyter-widgets/base",
            "_view_module_version": "1.2.0",
            "_view_name": "StyleView",
            "bar_color": null,
            "description_width": ""
          }
        },
        "2c4d85f3826441a88be78348e6f460ed": {
          "model_module": "@jupyter-widgets/base",
          "model_name": "LayoutModel",
          "model_module_version": "1.2.0",
          "state": {
            "_model_module": "@jupyter-widgets/base",
            "_model_module_version": "1.2.0",
            "_model_name": "LayoutModel",
            "_view_count": null,
            "_view_module": "@jupyter-widgets/base",
            "_view_module_version": "1.2.0",
            "_view_name": "LayoutView",
            "align_content": null,
            "align_items": null,
            "align_self": null,
            "border": null,
            "bottom": null,
            "display": null,
            "flex": null,
            "flex_flow": null,
            "grid_area": null,
            "grid_auto_columns": null,
            "grid_auto_flow": null,
            "grid_auto_rows": null,
            "grid_column": null,
            "grid_gap": null,
            "grid_row": null,
            "grid_template_areas": null,
            "grid_template_columns": null,
            "grid_template_rows": null,
            "height": null,
            "justify_content": null,
            "justify_items": null,
            "left": null,
            "margin": null,
            "max_height": null,
            "max_width": null,
            "min_height": null,
            "min_width": null,
            "object_fit": null,
            "object_position": null,
            "order": null,
            "overflow": null,
            "overflow_x": null,
            "overflow_y": null,
            "padding": null,
            "right": null,
            "top": null,
            "visibility": null,
            "width": null
          }
        },
        "12dd1917bc4246d2b5f5896647614eff": {
          "model_module": "@jupyter-widgets/controls",
          "model_name": "DescriptionStyleModel",
          "model_module_version": "1.5.0",
          "state": {
            "_model_module": "@jupyter-widgets/controls",
            "_model_module_version": "1.5.0",
            "_model_name": "DescriptionStyleModel",
            "_view_count": null,
            "_view_module": "@jupyter-widgets/base",
            "_view_module_version": "1.2.0",
            "_view_name": "StyleView",
            "description_width": ""
          }
        },
        "1773ea7af09644e4a1858a3784e622a3": {
          "model_module": "@jupyter-widgets/controls",
          "model_name": "HBoxModel",
          "model_module_version": "1.5.0",
          "state": {
            "_dom_classes": [],
            "_model_module": "@jupyter-widgets/controls",
            "_model_module_version": "1.5.0",
            "_model_name": "HBoxModel",
            "_view_count": null,
            "_view_module": "@jupyter-widgets/controls",
            "_view_module_version": "1.5.0",
            "_view_name": "HBoxView",
            "box_style": "",
            "children": [
              "IPY_MODEL_9cddfa7cd5474c1b8fc2d90b64941708",
              "IPY_MODEL_a27d37e1889f486ca91e0f0f497495ad",
              "IPY_MODEL_754ad176a20d4e71bdc807bb72966fc4"
            ],
            "layout": "IPY_MODEL_d7892a53b81e41c0a0467cae29e833d3"
          }
        },
        "9cddfa7cd5474c1b8fc2d90b64941708": {
          "model_module": "@jupyter-widgets/controls",
          "model_name": "HTMLModel",
          "model_module_version": "1.5.0",
          "state": {
            "_dom_classes": [],
            "_model_module": "@jupyter-widgets/controls",
            "_model_module_version": "1.5.0",
            "_model_name": "HTMLModel",
            "_view_count": null,
            "_view_module": "@jupyter-widgets/controls",
            "_view_module_version": "1.5.0",
            "_view_name": "HTMLView",
            "description": "",
            "description_tooltip": null,
            "layout": "IPY_MODEL_8b44f42cb414407296bd9aba52c55c7a",
            "placeholder": "​",
            "style": "IPY_MODEL_62cd6d738ebb4416aa28888054e3f89b",
            "value": "Map: 100%"
          }
        },
        "a27d37e1889f486ca91e0f0f497495ad": {
          "model_module": "@jupyter-widgets/controls",
          "model_name": "FloatProgressModel",
          "model_module_version": "1.5.0",
          "state": {
            "_dom_classes": [],
            "_model_module": "@jupyter-widgets/controls",
            "_model_module_version": "1.5.0",
            "_model_name": "FloatProgressModel",
            "_view_count": null,
            "_view_module": "@jupyter-widgets/controls",
            "_view_module_version": "1.5.0",
            "_view_name": "ProgressView",
            "bar_style": "success",
            "description": "",
            "description_tooltip": null,
            "layout": "IPY_MODEL_9ba33b91939b4354b43b79376d33b43f",
            "max": 444,
            "min": 0,
            "orientation": "horizontal",
            "style": "IPY_MODEL_3f310bd4a64e4b4884c7b608ba0cce7e",
            "value": 444
          }
        },
        "754ad176a20d4e71bdc807bb72966fc4": {
          "model_module": "@jupyter-widgets/controls",
          "model_name": "HTMLModel",
          "model_module_version": "1.5.0",
          "state": {
            "_dom_classes": [],
            "_model_module": "@jupyter-widgets/controls",
            "_model_module_version": "1.5.0",
            "_model_name": "HTMLModel",
            "_view_count": null,
            "_view_module": "@jupyter-widgets/controls",
            "_view_module_version": "1.5.0",
            "_view_name": "HTMLView",
            "description": "",
            "description_tooltip": null,
            "layout": "IPY_MODEL_c26d37a0d08245efb83defbd685fe31a",
            "placeholder": "​",
            "style": "IPY_MODEL_5acc5dce5a324f00922be9caf36fa8fa",
            "value": " 444/444 [00:00&lt;00:00, 5117.07 examples/s]"
          }
        },
        "d7892a53b81e41c0a0467cae29e833d3": {
          "model_module": "@jupyter-widgets/base",
          "model_name": "LayoutModel",
          "model_module_version": "1.2.0",
          "state": {
            "_model_module": "@jupyter-widgets/base",
            "_model_module_version": "1.2.0",
            "_model_name": "LayoutModel",
            "_view_count": null,
            "_view_module": "@jupyter-widgets/base",
            "_view_module_version": "1.2.0",
            "_view_name": "LayoutView",
            "align_content": null,
            "align_items": null,
            "align_self": null,
            "border": null,
            "bottom": null,
            "display": null,
            "flex": null,
            "flex_flow": null,
            "grid_area": null,
            "grid_auto_columns": null,
            "grid_auto_flow": null,
            "grid_auto_rows": null,
            "grid_column": null,
            "grid_gap": null,
            "grid_row": null,
            "grid_template_areas": null,
            "grid_template_columns": null,
            "grid_template_rows": null,
            "height": null,
            "justify_content": null,
            "justify_items": null,
            "left": null,
            "margin": null,
            "max_height": null,
            "max_width": null,
            "min_height": null,
            "min_width": null,
            "object_fit": null,
            "object_position": null,
            "order": null,
            "overflow": null,
            "overflow_x": null,
            "overflow_y": null,
            "padding": null,
            "right": null,
            "top": null,
            "visibility": null,
            "width": null
          }
        },
        "8b44f42cb414407296bd9aba52c55c7a": {
          "model_module": "@jupyter-widgets/base",
          "model_name": "LayoutModel",
          "model_module_version": "1.2.0",
          "state": {
            "_model_module": "@jupyter-widgets/base",
            "_model_module_version": "1.2.0",
            "_model_name": "LayoutModel",
            "_view_count": null,
            "_view_module": "@jupyter-widgets/base",
            "_view_module_version": "1.2.0",
            "_view_name": "LayoutView",
            "align_content": null,
            "align_items": null,
            "align_self": null,
            "border": null,
            "bottom": null,
            "display": null,
            "flex": null,
            "flex_flow": null,
            "grid_area": null,
            "grid_auto_columns": null,
            "grid_auto_flow": null,
            "grid_auto_rows": null,
            "grid_column": null,
            "grid_gap": null,
            "grid_row": null,
            "grid_template_areas": null,
            "grid_template_columns": null,
            "grid_template_rows": null,
            "height": null,
            "justify_content": null,
            "justify_items": null,
            "left": null,
            "margin": null,
            "max_height": null,
            "max_width": null,
            "min_height": null,
            "min_width": null,
            "object_fit": null,
            "object_position": null,
            "order": null,
            "overflow": null,
            "overflow_x": null,
            "overflow_y": null,
            "padding": null,
            "right": null,
            "top": null,
            "visibility": null,
            "width": null
          }
        },
        "62cd6d738ebb4416aa28888054e3f89b": {
          "model_module": "@jupyter-widgets/controls",
          "model_name": "DescriptionStyleModel",
          "model_module_version": "1.5.0",
          "state": {
            "_model_module": "@jupyter-widgets/controls",
            "_model_module_version": "1.5.0",
            "_model_name": "DescriptionStyleModel",
            "_view_count": null,
            "_view_module": "@jupyter-widgets/base",
            "_view_module_version": "1.2.0",
            "_view_name": "StyleView",
            "description_width": ""
          }
        },
        "9ba33b91939b4354b43b79376d33b43f": {
          "model_module": "@jupyter-widgets/base",
          "model_name": "LayoutModel",
          "model_module_version": "1.2.0",
          "state": {
            "_model_module": "@jupyter-widgets/base",
            "_model_module_version": "1.2.0",
            "_model_name": "LayoutModel",
            "_view_count": null,
            "_view_module": "@jupyter-widgets/base",
            "_view_module_version": "1.2.0",
            "_view_name": "LayoutView",
            "align_content": null,
            "align_items": null,
            "align_self": null,
            "border": null,
            "bottom": null,
            "display": null,
            "flex": null,
            "flex_flow": null,
            "grid_area": null,
            "grid_auto_columns": null,
            "grid_auto_flow": null,
            "grid_auto_rows": null,
            "grid_column": null,
            "grid_gap": null,
            "grid_row": null,
            "grid_template_areas": null,
            "grid_template_columns": null,
            "grid_template_rows": null,
            "height": null,
            "justify_content": null,
            "justify_items": null,
            "left": null,
            "margin": null,
            "max_height": null,
            "max_width": null,
            "min_height": null,
            "min_width": null,
            "object_fit": null,
            "object_position": null,
            "order": null,
            "overflow": null,
            "overflow_x": null,
            "overflow_y": null,
            "padding": null,
            "right": null,
            "top": null,
            "visibility": null,
            "width": null
          }
        },
        "3f310bd4a64e4b4884c7b608ba0cce7e": {
          "model_module": "@jupyter-widgets/controls",
          "model_name": "ProgressStyleModel",
          "model_module_version": "1.5.0",
          "state": {
            "_model_module": "@jupyter-widgets/controls",
            "_model_module_version": "1.5.0",
            "_model_name": "ProgressStyleModel",
            "_view_count": null,
            "_view_module": "@jupyter-widgets/base",
            "_view_module_version": "1.2.0",
            "_view_name": "StyleView",
            "bar_color": null,
            "description_width": ""
          }
        },
        "c26d37a0d08245efb83defbd685fe31a": {
          "model_module": "@jupyter-widgets/base",
          "model_name": "LayoutModel",
          "model_module_version": "1.2.0",
          "state": {
            "_model_module": "@jupyter-widgets/base",
            "_model_module_version": "1.2.0",
            "_model_name": "LayoutModel",
            "_view_count": null,
            "_view_module": "@jupyter-widgets/base",
            "_view_module_version": "1.2.0",
            "_view_name": "LayoutView",
            "align_content": null,
            "align_items": null,
            "align_self": null,
            "border": null,
            "bottom": null,
            "display": null,
            "flex": null,
            "flex_flow": null,
            "grid_area": null,
            "grid_auto_columns": null,
            "grid_auto_flow": null,
            "grid_auto_rows": null,
            "grid_column": null,
            "grid_gap": null,
            "grid_row": null,
            "grid_template_areas": null,
            "grid_template_columns": null,
            "grid_template_rows": null,
            "height": null,
            "justify_content": null,
            "justify_items": null,
            "left": null,
            "margin": null,
            "max_height": null,
            "max_width": null,
            "min_height": null,
            "min_width": null,
            "object_fit": null,
            "object_position": null,
            "order": null,
            "overflow": null,
            "overflow_x": null,
            "overflow_y": null,
            "padding": null,
            "right": null,
            "top": null,
            "visibility": null,
            "width": null
          }
        },
        "5acc5dce5a324f00922be9caf36fa8fa": {
          "model_module": "@jupyter-widgets/controls",
          "model_name": "DescriptionStyleModel",
          "model_module_version": "1.5.0",
          "state": {
            "_model_module": "@jupyter-widgets/controls",
            "_model_module_version": "1.5.0",
            "_model_name": "DescriptionStyleModel",
            "_view_count": null,
            "_view_module": "@jupyter-widgets/base",
            "_view_module_version": "1.2.0",
            "_view_name": "StyleView",
            "description_width": ""
          }
        },
        "e085ef1fc73440be9903603ee4fc21de": {
          "model_module": "@jupyter-widgets/controls",
          "model_name": "HBoxModel",
          "model_module_version": "1.5.0",
          "state": {
            "_dom_classes": [],
            "_model_module": "@jupyter-widgets/controls",
            "_model_module_version": "1.5.0",
            "_model_name": "HBoxModel",
            "_view_count": null,
            "_view_module": "@jupyter-widgets/controls",
            "_view_module_version": "1.5.0",
            "_view_name": "HBoxView",
            "box_style": "",
            "children": [
              "IPY_MODEL_a6e9c1fcc7a34539b7c769a4096fb62b",
              "IPY_MODEL_910bcc7c0dfe4b8ab70e34cced458513",
              "IPY_MODEL_21b587ba6cc74046a123aedc16e5713f"
            ],
            "layout": "IPY_MODEL_7ccd75850b944bd28cabacd93dc8b258"
          }
        },
        "a6e9c1fcc7a34539b7c769a4096fb62b": {
          "model_module": "@jupyter-widgets/controls",
          "model_name": "HTMLModel",
          "model_module_version": "1.5.0",
          "state": {
            "_dom_classes": [],
            "_model_module": "@jupyter-widgets/controls",
            "_model_module_version": "1.5.0",
            "_model_name": "HTMLModel",
            "_view_count": null,
            "_view_module": "@jupyter-widgets/controls",
            "_view_module_version": "1.5.0",
            "_view_name": "HTMLView",
            "description": "",
            "description_tooltip": null,
            "layout": "IPY_MODEL_596206ecc6454a449efbbaa3a708f83a",
            "placeholder": "​",
            "style": "IPY_MODEL_e36a0cb3bb454c9c9e7e63f40273957d",
            "value": "Map: 100%"
          }
        },
        "910bcc7c0dfe4b8ab70e34cced458513": {
          "model_module": "@jupyter-widgets/controls",
          "model_name": "FloatProgressModel",
          "model_module_version": "1.5.0",
          "state": {
            "_dom_classes": [],
            "_model_module": "@jupyter-widgets/controls",
            "_model_module_version": "1.5.0",
            "_model_name": "FloatProgressModel",
            "_view_count": null,
            "_view_module": "@jupyter-widgets/controls",
            "_view_module_version": "1.5.0",
            "_view_name": "ProgressView",
            "bar_style": "success",
            "description": "",
            "description_tooltip": null,
            "layout": "IPY_MODEL_6f8c58511add4fe295768275afe90d91",
            "max": 1773,
            "min": 0,
            "orientation": "horizontal",
            "style": "IPY_MODEL_ddabb87d1be542ad8c4c5e6a15d47a5c",
            "value": 1773
          }
        },
        "21b587ba6cc74046a123aedc16e5713f": {
          "model_module": "@jupyter-widgets/controls",
          "model_name": "HTMLModel",
          "model_module_version": "1.5.0",
          "state": {
            "_dom_classes": [],
            "_model_module": "@jupyter-widgets/controls",
            "_model_module_version": "1.5.0",
            "_model_name": "HTMLModel",
            "_view_count": null,
            "_view_module": "@jupyter-widgets/controls",
            "_view_module_version": "1.5.0",
            "_view_name": "HTMLView",
            "description": "",
            "description_tooltip": null,
            "layout": "IPY_MODEL_2e1f54ffd51a45fd93aaa0fceb83a80f",
            "placeholder": "​",
            "style": "IPY_MODEL_c3d70763ac87425f8e4ce03d9fd150da",
            "value": " 1773/1773 [00:00&lt;00:00, 4959.06 examples/s]"
          }
        },
        "7ccd75850b944bd28cabacd93dc8b258": {
          "model_module": "@jupyter-widgets/base",
          "model_name": "LayoutModel",
          "model_module_version": "1.2.0",
          "state": {
            "_model_module": "@jupyter-widgets/base",
            "_model_module_version": "1.2.0",
            "_model_name": "LayoutModel",
            "_view_count": null,
            "_view_module": "@jupyter-widgets/base",
            "_view_module_version": "1.2.0",
            "_view_name": "LayoutView",
            "align_content": null,
            "align_items": null,
            "align_self": null,
            "border": null,
            "bottom": null,
            "display": null,
            "flex": null,
            "flex_flow": null,
            "grid_area": null,
            "grid_auto_columns": null,
            "grid_auto_flow": null,
            "grid_auto_rows": null,
            "grid_column": null,
            "grid_gap": null,
            "grid_row": null,
            "grid_template_areas": null,
            "grid_template_columns": null,
            "grid_template_rows": null,
            "height": null,
            "justify_content": null,
            "justify_items": null,
            "left": null,
            "margin": null,
            "max_height": null,
            "max_width": null,
            "min_height": null,
            "min_width": null,
            "object_fit": null,
            "object_position": null,
            "order": null,
            "overflow": null,
            "overflow_x": null,
            "overflow_y": null,
            "padding": null,
            "right": null,
            "top": null,
            "visibility": null,
            "width": null
          }
        },
        "596206ecc6454a449efbbaa3a708f83a": {
          "model_module": "@jupyter-widgets/base",
          "model_name": "LayoutModel",
          "model_module_version": "1.2.0",
          "state": {
            "_model_module": "@jupyter-widgets/base",
            "_model_module_version": "1.2.0",
            "_model_name": "LayoutModel",
            "_view_count": null,
            "_view_module": "@jupyter-widgets/base",
            "_view_module_version": "1.2.0",
            "_view_name": "LayoutView",
            "align_content": null,
            "align_items": null,
            "align_self": null,
            "border": null,
            "bottom": null,
            "display": null,
            "flex": null,
            "flex_flow": null,
            "grid_area": null,
            "grid_auto_columns": null,
            "grid_auto_flow": null,
            "grid_auto_rows": null,
            "grid_column": null,
            "grid_gap": null,
            "grid_row": null,
            "grid_template_areas": null,
            "grid_template_columns": null,
            "grid_template_rows": null,
            "height": null,
            "justify_content": null,
            "justify_items": null,
            "left": null,
            "margin": null,
            "max_height": null,
            "max_width": null,
            "min_height": null,
            "min_width": null,
            "object_fit": null,
            "object_position": null,
            "order": null,
            "overflow": null,
            "overflow_x": null,
            "overflow_y": null,
            "padding": null,
            "right": null,
            "top": null,
            "visibility": null,
            "width": null
          }
        },
        "e36a0cb3bb454c9c9e7e63f40273957d": {
          "model_module": "@jupyter-widgets/controls",
          "model_name": "DescriptionStyleModel",
          "model_module_version": "1.5.0",
          "state": {
            "_model_module": "@jupyter-widgets/controls",
            "_model_module_version": "1.5.0",
            "_model_name": "DescriptionStyleModel",
            "_view_count": null,
            "_view_module": "@jupyter-widgets/base",
            "_view_module_version": "1.2.0",
            "_view_name": "StyleView",
            "description_width": ""
          }
        },
        "6f8c58511add4fe295768275afe90d91": {
          "model_module": "@jupyter-widgets/base",
          "model_name": "LayoutModel",
          "model_module_version": "1.2.0",
          "state": {
            "_model_module": "@jupyter-widgets/base",
            "_model_module_version": "1.2.0",
            "_model_name": "LayoutModel",
            "_view_count": null,
            "_view_module": "@jupyter-widgets/base",
            "_view_module_version": "1.2.0",
            "_view_name": "LayoutView",
            "align_content": null,
            "align_items": null,
            "align_self": null,
            "border": null,
            "bottom": null,
            "display": null,
            "flex": null,
            "flex_flow": null,
            "grid_area": null,
            "grid_auto_columns": null,
            "grid_auto_flow": null,
            "grid_auto_rows": null,
            "grid_column": null,
            "grid_gap": null,
            "grid_row": null,
            "grid_template_areas": null,
            "grid_template_columns": null,
            "grid_template_rows": null,
            "height": null,
            "justify_content": null,
            "justify_items": null,
            "left": null,
            "margin": null,
            "max_height": null,
            "max_width": null,
            "min_height": null,
            "min_width": null,
            "object_fit": null,
            "object_position": null,
            "order": null,
            "overflow": null,
            "overflow_x": null,
            "overflow_y": null,
            "padding": null,
            "right": null,
            "top": null,
            "visibility": null,
            "width": null
          }
        },
        "ddabb87d1be542ad8c4c5e6a15d47a5c": {
          "model_module": "@jupyter-widgets/controls",
          "model_name": "ProgressStyleModel",
          "model_module_version": "1.5.0",
          "state": {
            "_model_module": "@jupyter-widgets/controls",
            "_model_module_version": "1.5.0",
            "_model_name": "ProgressStyleModel",
            "_view_count": null,
            "_view_module": "@jupyter-widgets/base",
            "_view_module_version": "1.2.0",
            "_view_name": "StyleView",
            "bar_color": null,
            "description_width": ""
          }
        },
        "2e1f54ffd51a45fd93aaa0fceb83a80f": {
          "model_module": "@jupyter-widgets/base",
          "model_name": "LayoutModel",
          "model_module_version": "1.2.0",
          "state": {
            "_model_module": "@jupyter-widgets/base",
            "_model_module_version": "1.2.0",
            "_model_name": "LayoutModel",
            "_view_count": null,
            "_view_module": "@jupyter-widgets/base",
            "_view_module_version": "1.2.0",
            "_view_name": "LayoutView",
            "align_content": null,
            "align_items": null,
            "align_self": null,
            "border": null,
            "bottom": null,
            "display": null,
            "flex": null,
            "flex_flow": null,
            "grid_area": null,
            "grid_auto_columns": null,
            "grid_auto_flow": null,
            "grid_auto_rows": null,
            "grid_column": null,
            "grid_gap": null,
            "grid_row": null,
            "grid_template_areas": null,
            "grid_template_columns": null,
            "grid_template_rows": null,
            "height": null,
            "justify_content": null,
            "justify_items": null,
            "left": null,
            "margin": null,
            "max_height": null,
            "max_width": null,
            "min_height": null,
            "min_width": null,
            "object_fit": null,
            "object_position": null,
            "order": null,
            "overflow": null,
            "overflow_x": null,
            "overflow_y": null,
            "padding": null,
            "right": null,
            "top": null,
            "visibility": null,
            "width": null
          }
        },
        "c3d70763ac87425f8e4ce03d9fd150da": {
          "model_module": "@jupyter-widgets/controls",
          "model_name": "DescriptionStyleModel",
          "model_module_version": "1.5.0",
          "state": {
            "_model_module": "@jupyter-widgets/controls",
            "_model_module_version": "1.5.0",
            "_model_name": "DescriptionStyleModel",
            "_view_count": null,
            "_view_module": "@jupyter-widgets/base",
            "_view_module_version": "1.2.0",
            "_view_name": "StyleView",
            "description_width": ""
          }
        },
        "429f048723a14b2d8c4808c90314dcd7": {
          "model_module": "@jupyter-widgets/controls",
          "model_name": "HBoxModel",
          "model_module_version": "1.5.0",
          "state": {
            "_dom_classes": [],
            "_model_module": "@jupyter-widgets/controls",
            "_model_module_version": "1.5.0",
            "_model_name": "HBoxModel",
            "_view_count": null,
            "_view_module": "@jupyter-widgets/controls",
            "_view_module_version": "1.5.0",
            "_view_name": "HBoxView",
            "box_style": "",
            "children": [
              "IPY_MODEL_34de40942efa4b7a974e6dda3ea1edae",
              "IPY_MODEL_88da35d9c12d47f59861ed05da04a2a9",
              "IPY_MODEL_d6bb16aab6e44cb0beb360050ec9b44b"
            ],
            "layout": "IPY_MODEL_9c30ec108be54e8da864c9f8a99af032"
          }
        },
        "34de40942efa4b7a974e6dda3ea1edae": {
          "model_module": "@jupyter-widgets/controls",
          "model_name": "HTMLModel",
          "model_module_version": "1.5.0",
          "state": {
            "_dom_classes": [],
            "_model_module": "@jupyter-widgets/controls",
            "_model_module_version": "1.5.0",
            "_model_name": "HTMLModel",
            "_view_count": null,
            "_view_module": "@jupyter-widgets/controls",
            "_view_module_version": "1.5.0",
            "_view_name": "HTMLView",
            "description": "",
            "description_tooltip": null,
            "layout": "IPY_MODEL_02b3fedda7e644bbafc0c46fd33a1953",
            "placeholder": "​",
            "style": "IPY_MODEL_f6cefa93f48d4b98abbfa01d61e69459",
            "value": "Evaluate model on dataset:   0%"
          }
        },
        "88da35d9c12d47f59861ed05da04a2a9": {
          "model_module": "@jupyter-widgets/controls",
          "model_name": "FloatProgressModel",
          "model_module_version": "1.5.0",
          "state": {
            "_dom_classes": [],
            "_model_module": "@jupyter-widgets/controls",
            "_model_module_version": "1.5.0",
            "_model_name": "FloatProgressModel",
            "_view_count": null,
            "_view_module": "@jupyter-widgets/controls",
            "_view_module_version": "1.5.0",
            "_view_name": "ProgressView",
            "bar_style": "danger",
            "description": "",
            "description_tooltip": null,
            "layout": "IPY_MODEL_30e8cf74aef64bbeb15d5daa33f14113",
            "max": 28,
            "min": 0,
            "orientation": "horizontal",
            "style": "IPY_MODEL_e7aa1fe356f24c718ffa78620e95cced",
            "value": 0
          }
        },
        "d6bb16aab6e44cb0beb360050ec9b44b": {
          "model_module": "@jupyter-widgets/controls",
          "model_name": "HTMLModel",
          "model_module_version": "1.5.0",
          "state": {
            "_dom_classes": [],
            "_model_module": "@jupyter-widgets/controls",
            "_model_module_version": "1.5.0",
            "_model_name": "HTMLModel",
            "_view_count": null,
            "_view_module": "@jupyter-widgets/controls",
            "_view_module_version": "1.5.0",
            "_view_name": "HTMLView",
            "description": "",
            "description_tooltip": null,
            "layout": "IPY_MODEL_203c38b5a789411d956ecf0c84d78d99",
            "placeholder": "​",
            "style": "IPY_MODEL_9c701ba4f05945d0ad6adf15123cb214",
            "value": " 0/28 [00:00&lt;?, ?it/s]"
          }
        },
        "9c30ec108be54e8da864c9f8a99af032": {
          "model_module": "@jupyter-widgets/base",
          "model_name": "LayoutModel",
          "model_module_version": "1.2.0",
          "state": {
            "_model_module": "@jupyter-widgets/base",
            "_model_module_version": "1.2.0",
            "_model_name": "LayoutModel",
            "_view_count": null,
            "_view_module": "@jupyter-widgets/base",
            "_view_module_version": "1.2.0",
            "_view_name": "LayoutView",
            "align_content": null,
            "align_items": null,
            "align_self": null,
            "border": null,
            "bottom": null,
            "display": null,
            "flex": null,
            "flex_flow": null,
            "grid_area": null,
            "grid_auto_columns": null,
            "grid_auto_flow": null,
            "grid_auto_rows": null,
            "grid_column": null,
            "grid_gap": null,
            "grid_row": null,
            "grid_template_areas": null,
            "grid_template_columns": null,
            "grid_template_rows": null,
            "height": null,
            "justify_content": null,
            "justify_items": null,
            "left": null,
            "margin": null,
            "max_height": null,
            "max_width": null,
            "min_height": null,
            "min_width": null,
            "object_fit": null,
            "object_position": null,
            "order": null,
            "overflow": null,
            "overflow_x": null,
            "overflow_y": null,
            "padding": null,
            "right": null,
            "top": null,
            "visibility": null,
            "width": null
          }
        },
        "02b3fedda7e644bbafc0c46fd33a1953": {
          "model_module": "@jupyter-widgets/base",
          "model_name": "LayoutModel",
          "model_module_version": "1.2.0",
          "state": {
            "_model_module": "@jupyter-widgets/base",
            "_model_module_version": "1.2.0",
            "_model_name": "LayoutModel",
            "_view_count": null,
            "_view_module": "@jupyter-widgets/base",
            "_view_module_version": "1.2.0",
            "_view_name": "LayoutView",
            "align_content": null,
            "align_items": null,
            "align_self": null,
            "border": null,
            "bottom": null,
            "display": null,
            "flex": null,
            "flex_flow": null,
            "grid_area": null,
            "grid_auto_columns": null,
            "grid_auto_flow": null,
            "grid_auto_rows": null,
            "grid_column": null,
            "grid_gap": null,
            "grid_row": null,
            "grid_template_areas": null,
            "grid_template_columns": null,
            "grid_template_rows": null,
            "height": null,
            "justify_content": null,
            "justify_items": null,
            "left": null,
            "margin": null,
            "max_height": null,
            "max_width": null,
            "min_height": null,
            "min_width": null,
            "object_fit": null,
            "object_position": null,
            "order": null,
            "overflow": null,
            "overflow_x": null,
            "overflow_y": null,
            "padding": null,
            "right": null,
            "top": null,
            "visibility": null,
            "width": null
          }
        },
        "f6cefa93f48d4b98abbfa01d61e69459": {
          "model_module": "@jupyter-widgets/controls",
          "model_name": "DescriptionStyleModel",
          "model_module_version": "1.5.0",
          "state": {
            "_model_module": "@jupyter-widgets/controls",
            "_model_module_version": "1.5.0",
            "_model_name": "DescriptionStyleModel",
            "_view_count": null,
            "_view_module": "@jupyter-widgets/base",
            "_view_module_version": "1.2.0",
            "_view_name": "StyleView",
            "description_width": ""
          }
        },
        "30e8cf74aef64bbeb15d5daa33f14113": {
          "model_module": "@jupyter-widgets/base",
          "model_name": "LayoutModel",
          "model_module_version": "1.2.0",
          "state": {
            "_model_module": "@jupyter-widgets/base",
            "_model_module_version": "1.2.0",
            "_model_name": "LayoutModel",
            "_view_count": null,
            "_view_module": "@jupyter-widgets/base",
            "_view_module_version": "1.2.0",
            "_view_name": "LayoutView",
            "align_content": null,
            "align_items": null,
            "align_self": null,
            "border": null,
            "bottom": null,
            "display": null,
            "flex": null,
            "flex_flow": null,
            "grid_area": null,
            "grid_auto_columns": null,
            "grid_auto_flow": null,
            "grid_auto_rows": null,
            "grid_column": null,
            "grid_gap": null,
            "grid_row": null,
            "grid_template_areas": null,
            "grid_template_columns": null,
            "grid_template_rows": null,
            "height": null,
            "justify_content": null,
            "justify_items": null,
            "left": null,
            "margin": null,
            "max_height": null,
            "max_width": null,
            "min_height": null,
            "min_width": null,
            "object_fit": null,
            "object_position": null,
            "order": null,
            "overflow": null,
            "overflow_x": null,
            "overflow_y": null,
            "padding": null,
            "right": null,
            "top": null,
            "visibility": null,
            "width": null
          }
        },
        "e7aa1fe356f24c718ffa78620e95cced": {
          "model_module": "@jupyter-widgets/controls",
          "model_name": "ProgressStyleModel",
          "model_module_version": "1.5.0",
          "state": {
            "_model_module": "@jupyter-widgets/controls",
            "_model_module_version": "1.5.0",
            "_model_name": "ProgressStyleModel",
            "_view_count": null,
            "_view_module": "@jupyter-widgets/base",
            "_view_module_version": "1.2.0",
            "_view_name": "StyleView",
            "bar_color": null,
            "description_width": ""
          }
        },
        "203c38b5a789411d956ecf0c84d78d99": {
          "model_module": "@jupyter-widgets/base",
          "model_name": "LayoutModel",
          "model_module_version": "1.2.0",
          "state": {
            "_model_module": "@jupyter-widgets/base",
            "_model_module_version": "1.2.0",
            "_model_name": "LayoutModel",
            "_view_count": null,
            "_view_module": "@jupyter-widgets/base",
            "_view_module_version": "1.2.0",
            "_view_name": "LayoutView",
            "align_content": null,
            "align_items": null,
            "align_self": null,
            "border": null,
            "bottom": null,
            "display": null,
            "flex": null,
            "flex_flow": null,
            "grid_area": null,
            "grid_auto_columns": null,
            "grid_auto_flow": null,
            "grid_auto_rows": null,
            "grid_column": null,
            "grid_gap": null,
            "grid_row": null,
            "grid_template_areas": null,
            "grid_template_columns": null,
            "grid_template_rows": null,
            "height": null,
            "justify_content": null,
            "justify_items": null,
            "left": null,
            "margin": null,
            "max_height": null,
            "max_width": null,
            "min_height": null,
            "min_width": null,
            "object_fit": null,
            "object_position": null,
            "order": null,
            "overflow": null,
            "overflow_x": null,
            "overflow_y": null,
            "padding": null,
            "right": null,
            "top": null,
            "visibility": null,
            "width": null
          }
        },
        "9c701ba4f05945d0ad6adf15123cb214": {
          "model_module": "@jupyter-widgets/controls",
          "model_name": "DescriptionStyleModel",
          "model_module_version": "1.5.0",
          "state": {
            "_model_module": "@jupyter-widgets/controls",
            "_model_module_version": "1.5.0",
            "_model_name": "DescriptionStyleModel",
            "_view_count": null,
            "_view_module": "@jupyter-widgets/base",
            "_view_module_version": "1.2.0",
            "_view_name": "StyleView",
            "description_width": ""
          }
        }
      }
    }
  },
  "nbformat": 4,
  "nbformat_minor": 5
}